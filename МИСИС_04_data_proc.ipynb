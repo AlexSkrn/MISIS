{
  "nbformat": 4,
  "nbformat_minor": 0,
  "metadata": {
    "colab": {
      "name": "МИСИС-04-data-proc.ipynb",
      "provenance": [],
      "collapsed_sections": []
    },
    "kernelspec": {
      "name": "python3",
      "display_name": "Python 3"
    },
    "language_info": {
      "name": "python"
    }
  },
  "cells": [
    {
      "cell_type": "code",
      "metadata": {
        "id": "hIT1u6dX4u-e"
      },
      "source": [
        "import pandas as pd\n",
        "\n",
        "\n",
        "melb_data = pd.read_csv('data/melb_data.csv', sep=',')"
      ],
      "execution_count": null,
      "outputs": []
    },
    {
      "cell_type": "code",
      "metadata": {
        "colab": {
          "base_uri": "https://localhost:8080/",
          "height": 320
        },
        "id": "owdCba96_If8",
        "outputId": "fc99a893-9e1f-491f-88fe-4cb2f86db5fe"
      },
      "source": [
        "melb_data.describe()"
      ],
      "execution_count": null,
      "outputs": [
        {
          "output_type": "execute_result",
          "data": {
            "text/html": [
              "<div>\n",
              "<style scoped>\n",
              "    .dataframe tbody tr th:only-of-type {\n",
              "        vertical-align: middle;\n",
              "    }\n",
              "\n",
              "    .dataframe tbody tr th {\n",
              "        vertical-align: top;\n",
              "    }\n",
              "\n",
              "    .dataframe thead th {\n",
              "        text-align: right;\n",
              "    }\n",
              "</style>\n",
              "<table border=\"1\" class=\"dataframe\">\n",
              "  <thead>\n",
              "    <tr style=\"text-align: right;\">\n",
              "      <th></th>\n",
              "      <th>index</th>\n",
              "      <th>Rooms</th>\n",
              "      <th>Price</th>\n",
              "      <th>Distance</th>\n",
              "      <th>Postcode</th>\n",
              "      <th>Bedroom</th>\n",
              "      <th>Bathroom</th>\n",
              "      <th>Car</th>\n",
              "      <th>Landsize</th>\n",
              "      <th>BuildingArea</th>\n",
              "      <th>YearBuilt</th>\n",
              "      <th>Lattitude</th>\n",
              "      <th>Longtitude</th>\n",
              "      <th>Propertycount</th>\n",
              "    </tr>\n",
              "  </thead>\n",
              "  <tbody>\n",
              "    <tr>\n",
              "      <th>count</th>\n",
              "      <td>13580.000000</td>\n",
              "      <td>13580.000000</td>\n",
              "      <td>1.358000e+04</td>\n",
              "      <td>13580.000000</td>\n",
              "      <td>13580.000000</td>\n",
              "      <td>13580.000000</td>\n",
              "      <td>13580.000000</td>\n",
              "      <td>13580.000000</td>\n",
              "      <td>13580.000000</td>\n",
              "      <td>13580.000000</td>\n",
              "      <td>13580.000000</td>\n",
              "      <td>13580.000000</td>\n",
              "      <td>13580.000000</td>\n",
              "      <td>13580.000000</td>\n",
              "    </tr>\n",
              "    <tr>\n",
              "      <th>mean</th>\n",
              "      <td>6789.500000</td>\n",
              "      <td>2.937997</td>\n",
              "      <td>1.075684e+06</td>\n",
              "      <td>10.137776</td>\n",
              "      <td>3105.301915</td>\n",
              "      <td>2.914728</td>\n",
              "      <td>1.534242</td>\n",
              "      <td>1.611856</td>\n",
              "      <td>558.416127</td>\n",
              "      <td>139.633972</td>\n",
              "      <td>1966.788218</td>\n",
              "      <td>-37.809203</td>\n",
              "      <td>144.995216</td>\n",
              "      <td>7454.417378</td>\n",
              "    </tr>\n",
              "    <tr>\n",
              "      <th>std</th>\n",
              "      <td>3920.352663</td>\n",
              "      <td>0.955748</td>\n",
              "      <td>6.393107e+05</td>\n",
              "      <td>5.868725</td>\n",
              "      <td>90.676964</td>\n",
              "      <td>0.965921</td>\n",
              "      <td>0.691712</td>\n",
              "      <td>0.960793</td>\n",
              "      <td>3990.669241</td>\n",
              "      <td>392.217403</td>\n",
              "      <td>29.088642</td>\n",
              "      <td>0.079260</td>\n",
              "      <td>0.103916</td>\n",
              "      <td>4378.581772</td>\n",
              "    </tr>\n",
              "    <tr>\n",
              "      <th>min</th>\n",
              "      <td>0.000000</td>\n",
              "      <td>1.000000</td>\n",
              "      <td>8.500000e+04</td>\n",
              "      <td>0.000000</td>\n",
              "      <td>3000.000000</td>\n",
              "      <td>0.000000</td>\n",
              "      <td>0.000000</td>\n",
              "      <td>0.000000</td>\n",
              "      <td>0.000000</td>\n",
              "      <td>0.000000</td>\n",
              "      <td>1196.000000</td>\n",
              "      <td>-38.182550</td>\n",
              "      <td>144.431810</td>\n",
              "      <td>249.000000</td>\n",
              "    </tr>\n",
              "    <tr>\n",
              "      <th>25%</th>\n",
              "      <td>3394.750000</td>\n",
              "      <td>2.000000</td>\n",
              "      <td>6.500000e+05</td>\n",
              "      <td>6.100000</td>\n",
              "      <td>3044.000000</td>\n",
              "      <td>2.000000</td>\n",
              "      <td>1.000000</td>\n",
              "      <td>1.000000</td>\n",
              "      <td>177.000000</td>\n",
              "      <td>122.000000</td>\n",
              "      <td>1960.000000</td>\n",
              "      <td>-37.856822</td>\n",
              "      <td>144.929600</td>\n",
              "      <td>4380.000000</td>\n",
              "    </tr>\n",
              "    <tr>\n",
              "      <th>50%</th>\n",
              "      <td>6789.500000</td>\n",
              "      <td>3.000000</td>\n",
              "      <td>9.030000e+05</td>\n",
              "      <td>9.200000</td>\n",
              "      <td>3084.000000</td>\n",
              "      <td>3.000000</td>\n",
              "      <td>1.000000</td>\n",
              "      <td>2.000000</td>\n",
              "      <td>440.000000</td>\n",
              "      <td>126.000000</td>\n",
              "      <td>1970.000000</td>\n",
              "      <td>-37.802355</td>\n",
              "      <td>145.000100</td>\n",
              "      <td>6555.000000</td>\n",
              "    </tr>\n",
              "    <tr>\n",
              "      <th>75%</th>\n",
              "      <td>10184.250000</td>\n",
              "      <td>3.000000</td>\n",
              "      <td>1.330000e+06</td>\n",
              "      <td>13.000000</td>\n",
              "      <td>3148.000000</td>\n",
              "      <td>3.000000</td>\n",
              "      <td>2.000000</td>\n",
              "      <td>2.000000</td>\n",
              "      <td>651.000000</td>\n",
              "      <td>129.940000</td>\n",
              "      <td>1975.000000</td>\n",
              "      <td>-37.756400</td>\n",
              "      <td>145.058305</td>\n",
              "      <td>10331.000000</td>\n",
              "    </tr>\n",
              "    <tr>\n",
              "      <th>max</th>\n",
              "      <td>13579.000000</td>\n",
              "      <td>10.000000</td>\n",
              "      <td>9.000000e+06</td>\n",
              "      <td>48.100000</td>\n",
              "      <td>3977.000000</td>\n",
              "      <td>20.000000</td>\n",
              "      <td>8.000000</td>\n",
              "      <td>10.000000</td>\n",
              "      <td>433014.000000</td>\n",
              "      <td>44515.000000</td>\n",
              "      <td>2018.000000</td>\n",
              "      <td>-37.408530</td>\n",
              "      <td>145.526350</td>\n",
              "      <td>21650.000000</td>\n",
              "    </tr>\n",
              "  </tbody>\n",
              "</table>\n",
              "</div>"
            ],
            "text/plain": [
              "              index         Rooms  ...    Longtitude  Propertycount\n",
              "count  13580.000000  13580.000000  ...  13580.000000   13580.000000\n",
              "mean    6789.500000      2.937997  ...    144.995216    7454.417378\n",
              "std     3920.352663      0.955748  ...      0.103916    4378.581772\n",
              "min        0.000000      1.000000  ...    144.431810     249.000000\n",
              "25%     3394.750000      2.000000  ...    144.929600    4380.000000\n",
              "50%     6789.500000      3.000000  ...    145.000100    6555.000000\n",
              "75%    10184.250000      3.000000  ...    145.058305   10331.000000\n",
              "max    13579.000000     10.000000  ...    145.526350   21650.000000\n",
              "\n",
              "[8 rows x 14 columns]"
            ]
          },
          "metadata": {},
          "execution_count": 227
        }
      ]
    },
    {
      "cell_type": "code",
      "metadata": {
        "colab": {
          "base_uri": "https://localhost:8080/",
          "height": 348
        },
        "id": "rqpmSEUu_eot",
        "outputId": "33ee9686-6b98-4b57-ab90-a3156f090d93"
      },
      "source": [
        "melb_data.head(5)"
      ],
      "execution_count": null,
      "outputs": [
        {
          "output_type": "execute_result",
          "data": {
            "text/html": [
              "<div>\n",
              "<style scoped>\n",
              "    .dataframe tbody tr th:only-of-type {\n",
              "        vertical-align: middle;\n",
              "    }\n",
              "\n",
              "    .dataframe tbody tr th {\n",
              "        vertical-align: top;\n",
              "    }\n",
              "\n",
              "    .dataframe thead th {\n",
              "        text-align: right;\n",
              "    }\n",
              "</style>\n",
              "<table border=\"1\" class=\"dataframe\">\n",
              "  <thead>\n",
              "    <tr style=\"text-align: right;\">\n",
              "      <th></th>\n",
              "      <th>index</th>\n",
              "      <th>Suburb</th>\n",
              "      <th>Address</th>\n",
              "      <th>Rooms</th>\n",
              "      <th>Type</th>\n",
              "      <th>Price</th>\n",
              "      <th>Method</th>\n",
              "      <th>SellerG</th>\n",
              "      <th>Date</th>\n",
              "      <th>Distance</th>\n",
              "      <th>Postcode</th>\n",
              "      <th>Bedroom</th>\n",
              "      <th>Bathroom</th>\n",
              "      <th>Car</th>\n",
              "      <th>Landsize</th>\n",
              "      <th>BuildingArea</th>\n",
              "      <th>YearBuilt</th>\n",
              "      <th>CouncilArea</th>\n",
              "      <th>Lattitude</th>\n",
              "      <th>Longtitude</th>\n",
              "      <th>Regionname</th>\n",
              "      <th>Propertycount</th>\n",
              "      <th>Сoordinates</th>\n",
              "    </tr>\n",
              "  </thead>\n",
              "  <tbody>\n",
              "    <tr>\n",
              "      <th>0</th>\n",
              "      <td>0</td>\n",
              "      <td>Abbotsford</td>\n",
              "      <td>85 Turner St</td>\n",
              "      <td>2</td>\n",
              "      <td>h</td>\n",
              "      <td>1480000.0</td>\n",
              "      <td>S</td>\n",
              "      <td>Biggin</td>\n",
              "      <td>3/12/2016</td>\n",
              "      <td>2.5</td>\n",
              "      <td>3067</td>\n",
              "      <td>2.0</td>\n",
              "      <td>1.0</td>\n",
              "      <td>1.0</td>\n",
              "      <td>202.0</td>\n",
              "      <td>126.0</td>\n",
              "      <td>1970.0</td>\n",
              "      <td>Yarra</td>\n",
              "      <td>-37.7996</td>\n",
              "      <td>144.9984</td>\n",
              "      <td>Northern Metropolitan</td>\n",
              "      <td>4019.0</td>\n",
              "      <td>-37.7996, 144.9984</td>\n",
              "    </tr>\n",
              "    <tr>\n",
              "      <th>1</th>\n",
              "      <td>1</td>\n",
              "      <td>Abbotsford</td>\n",
              "      <td>25 Bloomburg St</td>\n",
              "      <td>2</td>\n",
              "      <td>h</td>\n",
              "      <td>1035000.0</td>\n",
              "      <td>S</td>\n",
              "      <td>Biggin</td>\n",
              "      <td>4/02/2016</td>\n",
              "      <td>2.5</td>\n",
              "      <td>3067</td>\n",
              "      <td>2.0</td>\n",
              "      <td>1.0</td>\n",
              "      <td>0.0</td>\n",
              "      <td>156.0</td>\n",
              "      <td>79.0</td>\n",
              "      <td>1900.0</td>\n",
              "      <td>Yarra</td>\n",
              "      <td>-37.8079</td>\n",
              "      <td>144.9934</td>\n",
              "      <td>Northern Metropolitan</td>\n",
              "      <td>4019.0</td>\n",
              "      <td>-37.8079, 144.9934</td>\n",
              "    </tr>\n",
              "    <tr>\n",
              "      <th>2</th>\n",
              "      <td>2</td>\n",
              "      <td>Abbotsford</td>\n",
              "      <td>5 Charles St</td>\n",
              "      <td>3</td>\n",
              "      <td>h</td>\n",
              "      <td>1465000.0</td>\n",
              "      <td>SP</td>\n",
              "      <td>Biggin</td>\n",
              "      <td>4/03/2017</td>\n",
              "      <td>2.5</td>\n",
              "      <td>3067</td>\n",
              "      <td>3.0</td>\n",
              "      <td>2.0</td>\n",
              "      <td>0.0</td>\n",
              "      <td>134.0</td>\n",
              "      <td>150.0</td>\n",
              "      <td>1900.0</td>\n",
              "      <td>Yarra</td>\n",
              "      <td>-37.8093</td>\n",
              "      <td>144.9944</td>\n",
              "      <td>Northern Metropolitan</td>\n",
              "      <td>4019.0</td>\n",
              "      <td>-37.8093, 144.9944</td>\n",
              "    </tr>\n",
              "    <tr>\n",
              "      <th>3</th>\n",
              "      <td>3</td>\n",
              "      <td>Abbotsford</td>\n",
              "      <td>40 Federation La</td>\n",
              "      <td>3</td>\n",
              "      <td>h</td>\n",
              "      <td>850000.0</td>\n",
              "      <td>PI</td>\n",
              "      <td>Biggin</td>\n",
              "      <td>4/03/2017</td>\n",
              "      <td>2.5</td>\n",
              "      <td>3067</td>\n",
              "      <td>3.0</td>\n",
              "      <td>2.0</td>\n",
              "      <td>1.0</td>\n",
              "      <td>94.0</td>\n",
              "      <td>126.0</td>\n",
              "      <td>1970.0</td>\n",
              "      <td>Yarra</td>\n",
              "      <td>-37.7969</td>\n",
              "      <td>144.9969</td>\n",
              "      <td>Northern Metropolitan</td>\n",
              "      <td>4019.0</td>\n",
              "      <td>-37.7969, 144.9969</td>\n",
              "    </tr>\n",
              "    <tr>\n",
              "      <th>4</th>\n",
              "      <td>4</td>\n",
              "      <td>Abbotsford</td>\n",
              "      <td>55a Park St</td>\n",
              "      <td>4</td>\n",
              "      <td>h</td>\n",
              "      <td>1600000.0</td>\n",
              "      <td>VB</td>\n",
              "      <td>Nelson</td>\n",
              "      <td>4/06/2016</td>\n",
              "      <td>2.5</td>\n",
              "      <td>3067</td>\n",
              "      <td>3.0</td>\n",
              "      <td>1.0</td>\n",
              "      <td>2.0</td>\n",
              "      <td>120.0</td>\n",
              "      <td>142.0</td>\n",
              "      <td>2014.0</td>\n",
              "      <td>Yarra</td>\n",
              "      <td>-37.8072</td>\n",
              "      <td>144.9941</td>\n",
              "      <td>Northern Metropolitan</td>\n",
              "      <td>4019.0</td>\n",
              "      <td>-37.8072, 144.9941</td>\n",
              "    </tr>\n",
              "  </tbody>\n",
              "</table>\n",
              "</div>"
            ],
            "text/plain": [
              "   index      Suburb  ... Propertycount         Сoordinates\n",
              "0      0  Abbotsford  ...        4019.0  -37.7996, 144.9984\n",
              "1      1  Abbotsford  ...        4019.0  -37.8079, 144.9934\n",
              "2      2  Abbotsford  ...        4019.0  -37.8093, 144.9944\n",
              "3      3  Abbotsford  ...        4019.0  -37.7969, 144.9969\n",
              "4      4  Abbotsford  ...        4019.0  -37.8072, 144.9941\n",
              "\n",
              "[5 rows x 23 columns]"
            ]
          },
          "metadata": {},
          "execution_count": 228
        }
      ]
    },
    {
      "cell_type": "code",
      "metadata": {
        "colab": {
          "base_uri": "https://localhost:8080/"
        },
        "id": "10PNKXuq_NTt",
        "outputId": "4a37955f-4437-493f-900b-41b180a399e1"
      },
      "source": [
        "print(melb_data.loc[15]['Price'])\n",
        "print(melb_data.loc[90]['Date'])\n",
        "\n",
        "print(melb_data.loc[3521]['Landsize']/melb_data.loc[1690]['Landsize'])"
      ],
      "execution_count": null,
      "outputs": [
        {
          "output_type": "stream",
          "name": "stdout",
          "text": [
            "1310000.0\n",
            "10/09/2016\n",
            "2.7857142857142856\n"
          ]
        }
      ]
    },
    {
      "cell_type": "code",
      "metadata": {
        "colab": {
          "base_uri": "https://localhost:8080/",
          "height": 300
        },
        "id": "A04DFHcw_brQ",
        "outputId": "c6646168-3e72-45da-a975-f5a119e3223f"
      },
      "source": [
        "melb_data.describe().loc[:, ['Distance', 'BuildingArea' , 'Price']]"
      ],
      "execution_count": null,
      "outputs": [
        {
          "output_type": "execute_result",
          "data": {
            "text/html": [
              "<div>\n",
              "<style scoped>\n",
              "    .dataframe tbody tr th:only-of-type {\n",
              "        vertical-align: middle;\n",
              "    }\n",
              "\n",
              "    .dataframe tbody tr th {\n",
              "        vertical-align: top;\n",
              "    }\n",
              "\n",
              "    .dataframe thead th {\n",
              "        text-align: right;\n",
              "    }\n",
              "</style>\n",
              "<table border=\"1\" class=\"dataframe\">\n",
              "  <thead>\n",
              "    <tr style=\"text-align: right;\">\n",
              "      <th></th>\n",
              "      <th>Distance</th>\n",
              "      <th>BuildingArea</th>\n",
              "      <th>Price</th>\n",
              "    </tr>\n",
              "  </thead>\n",
              "  <tbody>\n",
              "    <tr>\n",
              "      <th>count</th>\n",
              "      <td>13580.000000</td>\n",
              "      <td>13580.000000</td>\n",
              "      <td>1.358000e+04</td>\n",
              "    </tr>\n",
              "    <tr>\n",
              "      <th>mean</th>\n",
              "      <td>10.137776</td>\n",
              "      <td>139.633972</td>\n",
              "      <td>1.075684e+06</td>\n",
              "    </tr>\n",
              "    <tr>\n",
              "      <th>std</th>\n",
              "      <td>5.868725</td>\n",
              "      <td>392.217403</td>\n",
              "      <td>6.393107e+05</td>\n",
              "    </tr>\n",
              "    <tr>\n",
              "      <th>min</th>\n",
              "      <td>0.000000</td>\n",
              "      <td>0.000000</td>\n",
              "      <td>8.500000e+04</td>\n",
              "    </tr>\n",
              "    <tr>\n",
              "      <th>25%</th>\n",
              "      <td>6.100000</td>\n",
              "      <td>122.000000</td>\n",
              "      <td>6.500000e+05</td>\n",
              "    </tr>\n",
              "    <tr>\n",
              "      <th>50%</th>\n",
              "      <td>9.200000</td>\n",
              "      <td>126.000000</td>\n",
              "      <td>9.030000e+05</td>\n",
              "    </tr>\n",
              "    <tr>\n",
              "      <th>75%</th>\n",
              "      <td>13.000000</td>\n",
              "      <td>129.940000</td>\n",
              "      <td>1.330000e+06</td>\n",
              "    </tr>\n",
              "    <tr>\n",
              "      <th>max</th>\n",
              "      <td>48.100000</td>\n",
              "      <td>44515.000000</td>\n",
              "      <td>9.000000e+06</td>\n",
              "    </tr>\n",
              "  </tbody>\n",
              "</table>\n",
              "</div>"
            ],
            "text/plain": [
              "           Distance  BuildingArea         Price\n",
              "count  13580.000000  13580.000000  1.358000e+04\n",
              "mean      10.137776    139.633972  1.075684e+06\n",
              "std        5.868725    392.217403  6.393107e+05\n",
              "min        0.000000      0.000000  8.500000e+04\n",
              "25%        6.100000    122.000000  6.500000e+05\n",
              "50%        9.200000    126.000000  9.030000e+05\n",
              "75%       13.000000    129.940000  1.330000e+06\n",
              "max       48.100000  44515.000000  9.000000e+06"
            ]
          },
          "metadata": {},
          "execution_count": 230
        }
      ]
    },
    {
      "cell_type": "code",
      "metadata": {
        "colab": {
          "base_uri": "https://localhost:8080/"
        },
        "id": "_yfuiaDfCffb",
        "outputId": "dd30bf96-649e-4947-c334-f51a414dc815"
      },
      "source": [
        "data = pd.DataFrame([[0,1], [1, 0], [1, 1]], columns=['А', 'B'])\n",
        "print(data.shape)"
      ],
      "execution_count": null,
      "outputs": [
        {
          "output_type": "stream",
          "name": "stdout",
          "text": [
            "(3, 2)\n"
          ]
        }
      ]
    },
    {
      "cell_type": "code",
      "metadata": {
        "colab": {
          "base_uri": "https://localhost:8080/"
        },
        "id": "5-cFkWSWCzo1",
        "outputId": "6698aa56-7f3e-4a61-a616-0797d989dbc5"
      },
      "source": [
        "type(melb_data['Сoordinates'])"
      ],
      "execution_count": null,
      "outputs": [
        {
          "output_type": "execute_result",
          "data": {
            "text/plain": [
              "pandas.core.series.Series"
            ]
          },
          "metadata": {},
          "execution_count": 232
        }
      ]
    },
    {
      "cell_type": "code",
      "metadata": {
        "colab": {
          "base_uri": "https://localhost:8080/"
        },
        "id": "Lors16hQDAo1",
        "outputId": "32c23ef5-0c31-4c05-ccfb-bd9da19070b9"
      },
      "source": [
        "melb_data['Сoordinates'].dtypes"
      ],
      "execution_count": null,
      "outputs": [
        {
          "output_type": "execute_result",
          "data": {
            "text/plain": [
              "dtype('O')"
            ]
          },
          "metadata": {},
          "execution_count": 233
        }
      ]
    },
    {
      "cell_type": "code",
      "metadata": {
        "colab": {
          "base_uri": "https://localhost:8080/"
        },
        "id": "R-03LfRfD7CW",
        "outputId": "8a3f5246-48e2-445f-e280-5cddd2f31c59"
      },
      "source": [
        "sum(melb_data['CouncilArea'].isnull())"
      ],
      "execution_count": null,
      "outputs": [
        {
          "output_type": "execute_result",
          "data": {
            "text/plain": [
              "1369"
            ]
          },
          "metadata": {},
          "execution_count": 234
        }
      ]
    },
    {
      "cell_type": "code",
      "metadata": {
        "colab": {
          "base_uri": "https://localhost:8080/"
        },
        "id": "pA724GDlER4h",
        "outputId": "890b720b-77eb-4eca-d394-c4971b85e450"
      },
      "source": [
        "melb_data['Postcode'] = melb_data['Postcode'].astype('int64')\n",
        "melb_data['Car'] = melb_data['Car'].astype('int64')\n",
        "melb_data['Bedroom'] = melb_data['Bedroom'].astype('int64')\n",
        "melb_data['Bathroom'] = melb_data['Bathroom'].astype('int64')\n",
        "melb_data['Propertycount'] = melb_data['Propertycount'].astype('int64')\n",
        "melb_data['YearBuilt'] = melb_data['YearBuilt'].astype('int64')\n",
        "melb_data.info()"
      ],
      "execution_count": null,
      "outputs": [
        {
          "output_type": "stream",
          "name": "stdout",
          "text": [
            "<class 'pandas.core.frame.DataFrame'>\n",
            "RangeIndex: 13580 entries, 0 to 13579\n",
            "Data columns (total 23 columns):\n",
            " #   Column         Non-Null Count  Dtype  \n",
            "---  ------         --------------  -----  \n",
            " 0   index          13580 non-null  int64  \n",
            " 1   Suburb         13580 non-null  object \n",
            " 2   Address        13580 non-null  object \n",
            " 3   Rooms          13580 non-null  int64  \n",
            " 4   Type           13580 non-null  object \n",
            " 5   Price          13580 non-null  float64\n",
            " 6   Method         13580 non-null  object \n",
            " 7   SellerG        13580 non-null  object \n",
            " 8   Date           13580 non-null  object \n",
            " 9   Distance       13580 non-null  float64\n",
            " 10  Postcode       13580 non-null  int64  \n",
            " 11  Bedroom        13580 non-null  int64  \n",
            " 12  Bathroom       13580 non-null  int64  \n",
            " 13  Car            13580 non-null  int64  \n",
            " 14  Landsize       13580 non-null  float64\n",
            " 15  BuildingArea   13580 non-null  float64\n",
            " 16  YearBuilt      13580 non-null  int64  \n",
            " 17  CouncilArea    12211 non-null  object \n",
            " 18  Lattitude      13580 non-null  float64\n",
            " 19  Longtitude     13580 non-null  float64\n",
            " 20  Regionname     13580 non-null  object \n",
            " 21  Propertycount  13580 non-null  int64  \n",
            " 22  Сoordinates    13580 non-null  object \n",
            "dtypes: float64(6), int64(8), object(9)\n",
            "memory usage: 2.4+ MB\n"
          ]
        }
      ]
    },
    {
      "cell_type": "code",
      "metadata": {
        "colab": {
          "base_uri": "https://localhost:8080/"
        },
        "id": "FREy038EFSGE",
        "outputId": "79c2ba67-2161-4eda-ba4f-aae06caa58db"
      },
      "source": [
        "sum(melb_data.dtypes == 'int64')"
      ],
      "execution_count": null,
      "outputs": [
        {
          "output_type": "execute_result",
          "data": {
            "text/plain": [
              "8"
            ]
          },
          "metadata": {},
          "execution_count": 236
        }
      ]
    },
    {
      "cell_type": "code",
      "metadata": {
        "colab": {
          "base_uri": "https://localhost:8080/"
        },
        "id": "aflkdSABFXQY",
        "outputId": "e7d00f97-0596-4a70-ccd6-b23ab8a75bc6"
      },
      "source": [
        "mu = melb_data['Price'].mean()\n",
        "medi = melb_data['Price'].median()\n",
        "\n",
        "print(mu, medi)\n",
        "medi/mu > 10"
      ],
      "execution_count": null,
      "outputs": [
        {
          "output_type": "stream",
          "name": "stdout",
          "text": [
            "1075684.079455081 903000.0\n"
          ]
        },
        {
          "output_type": "execute_result",
          "data": {
            "text/plain": [
              "False"
            ]
          },
          "metadata": {},
          "execution_count": 237
        }
      ]
    },
    {
      "cell_type": "code",
      "metadata": {
        "colab": {
          "base_uri": "https://localhost:8080/"
        },
        "id": "HbGNuHO8GGuy",
        "outputId": "023db5f5-c961-4621-f5e0-bdea2c408a75"
      },
      "source": [
        "melb_data['BuildingArea'].mean() > 180"
      ],
      "execution_count": null,
      "outputs": [
        {
          "output_type": "execute_result",
          "data": {
            "text/plain": [
              "False"
            ]
          },
          "metadata": {},
          "execution_count": 238
        }
      ]
    },
    {
      "cell_type": "code",
      "metadata": {
        "colab": {
          "base_uri": "https://localhost:8080/"
        },
        "id": "LbfK2LDlGqIT",
        "outputId": "1484e0c7-a88b-4ccc-cd11-8b226af8ae51"
      },
      "source": [
        "sum(melb_data['Distance'] == 0)"
      ],
      "execution_count": null,
      "outputs": [
        {
          "output_type": "execute_result",
          "data": {
            "text/plain": [
              "6"
            ]
          },
          "metadata": {},
          "execution_count": 239
        }
      ]
    },
    {
      "cell_type": "code",
      "metadata": {
        "colab": {
          "base_uri": "https://localhost:8080/"
        },
        "id": "k-0rmeiyHMBA",
        "outputId": "08fd4117-09bd-430d-afcf-5ca211696985"
      },
      "source": [
        "melb_data.shape"
      ],
      "execution_count": null,
      "outputs": [
        {
          "output_type": "execute_result",
          "data": {
            "text/plain": [
              "(13580, 23)"
            ]
          },
          "metadata": {},
          "execution_count": 240
        }
      ]
    },
    {
      "cell_type": "code",
      "metadata": {
        "colab": {
          "base_uri": "https://localhost:8080/"
        },
        "id": "vVqWDSl1Gyoy",
        "outputId": "b431da9f-7b2a-4e5e-f86c-0267813d998e"
      },
      "source": [
        "melb_data.loc[(melb_data['Distance'] > 6.1) & (melb_data['Distance'] < 13)].shape"
      ],
      "execution_count": null,
      "outputs": [
        {
          "output_type": "execute_result",
          "data": {
            "text/plain": [
              "(6679, 23)"
            ]
          },
          "metadata": {},
          "execution_count": 241
        }
      ]
    },
    {
      "cell_type": "code",
      "metadata": {
        "colab": {
          "base_uri": "https://localhost:8080/"
        },
        "id": "Q5oav-DaIT89",
        "outputId": "bfb24ee2-d837-4594-8e10-f8fa6204e690"
      },
      "source": [
        "13580/6679 > 0.5"
      ],
      "execution_count": null,
      "outputs": [
        {
          "output_type": "execute_result",
          "data": {
            "text/plain": [
              "True"
            ]
          },
          "metadata": {},
          "execution_count": 242
        }
      ]
    },
    {
      "cell_type": "code",
      "metadata": {
        "colab": {
          "base_uri": "https://localhost:8080/"
        },
        "id": "07TbTcDZIps6",
        "outputId": "0a4825ca-e67c-4d58-f98f-de9fc481c22d"
      },
      "source": [
        "melb_data[['Propertycount', 'Regionname']].min()"
      ],
      "execution_count": null,
      "outputs": [
        {
          "output_type": "execute_result",
          "data": {
            "text/plain": [
              "Propertycount                     249\n",
              "Regionname       Eastern Metropolitan\n",
              "dtype: object"
            ]
          },
          "metadata": {},
          "execution_count": 243
        }
      ]
    },
    {
      "cell_type": "code",
      "metadata": {
        "colab": {
          "base_uri": "https://localhost:8080/"
        },
        "id": "2q2_8eh4Ubh4",
        "outputId": "c5bf4579-df43-42cb-a889-a634675cd9ec"
      },
      "source": [
        "# 12.2\n",
        "melb_data[['Propertycount', 'Regionname']].max()"
      ],
      "execution_count": null,
      "outputs": [
        {
          "output_type": "execute_result",
          "data": {
            "text/plain": [
              "Propertycount               21650\n",
              "Regionname       Western Victoria\n",
              "dtype: object"
            ]
          },
          "metadata": {},
          "execution_count": 244
        }
      ]
    },
    {
      "cell_type": "code",
      "metadata": {
        "colab": {
          "base_uri": "https://localhost:8080/"
        },
        "id": "uXkWIqmBJNAJ",
        "outputId": "fea8393e-a4bc-4900-bec6-d2dcb1bab77c"
      },
      "source": [
        "len(melb_data[['CouncilArea', 'Regionname']]['Regionname'].unique())"
      ],
      "execution_count": null,
      "outputs": [
        {
          "output_type": "execute_result",
          "data": {
            "text/plain": [
              "8"
            ]
          },
          "metadata": {},
          "execution_count": 245
        }
      ]
    },
    {
      "cell_type": "code",
      "metadata": {
        "colab": {
          "base_uri": "https://localhost:8080/",
          "height": 721
        },
        "id": "9OkcNaumKE4x",
        "outputId": "7aa4fba7-3316-4c12-a280-2e80586e007b"
      },
      "source": [
        "melb_data.loc[melb_data['Сoordinates'].duplicated()]"
      ],
      "execution_count": null,
      "outputs": [
        {
          "output_type": "execute_result",
          "data": {
            "text/html": [
              "<div>\n",
              "<style scoped>\n",
              "    .dataframe tbody tr th:only-of-type {\n",
              "        vertical-align: middle;\n",
              "    }\n",
              "\n",
              "    .dataframe tbody tr th {\n",
              "        vertical-align: top;\n",
              "    }\n",
              "\n",
              "    .dataframe thead th {\n",
              "        text-align: right;\n",
              "    }\n",
              "</style>\n",
              "<table border=\"1\" class=\"dataframe\">\n",
              "  <thead>\n",
              "    <tr style=\"text-align: right;\">\n",
              "      <th></th>\n",
              "      <th>index</th>\n",
              "      <th>Suburb</th>\n",
              "      <th>Address</th>\n",
              "      <th>Rooms</th>\n",
              "      <th>Type</th>\n",
              "      <th>Price</th>\n",
              "      <th>Method</th>\n",
              "      <th>SellerG</th>\n",
              "      <th>Date</th>\n",
              "      <th>Distance</th>\n",
              "      <th>Postcode</th>\n",
              "      <th>Bedroom</th>\n",
              "      <th>Bathroom</th>\n",
              "      <th>Car</th>\n",
              "      <th>Landsize</th>\n",
              "      <th>BuildingArea</th>\n",
              "      <th>YearBuilt</th>\n",
              "      <th>CouncilArea</th>\n",
              "      <th>Lattitude</th>\n",
              "      <th>Longtitude</th>\n",
              "      <th>Regionname</th>\n",
              "      <th>Propertycount</th>\n",
              "      <th>Сoordinates</th>\n",
              "    </tr>\n",
              "  </thead>\n",
              "  <tbody>\n",
              "    <tr>\n",
              "      <th>22</th>\n",
              "      <td>22</td>\n",
              "      <td>Abbotsford</td>\n",
              "      <td>138/56 Nicholson St</td>\n",
              "      <td>3</td>\n",
              "      <td>u</td>\n",
              "      <td>1090000.0</td>\n",
              "      <td>S</td>\n",
              "      <td>Jellis</td>\n",
              "      <td>18/03/2017</td>\n",
              "      <td>2.5</td>\n",
              "      <td>3067</td>\n",
              "      <td>3</td>\n",
              "      <td>2</td>\n",
              "      <td>2</td>\n",
              "      <td>4290.0</td>\n",
              "      <td>27.0</td>\n",
              "      <td>1970</td>\n",
              "      <td>Yarra</td>\n",
              "      <td>-37.80780</td>\n",
              "      <td>144.99650</td>\n",
              "      <td>Northern Metropolitan</td>\n",
              "      <td>4019</td>\n",
              "      <td>-37.8078, 144.9965</td>\n",
              "    </tr>\n",
              "    <tr>\n",
              "      <th>26</th>\n",
              "      <td>26</td>\n",
              "      <td>Abbotsford</td>\n",
              "      <td>5/20 Abbotsford St</td>\n",
              "      <td>1</td>\n",
              "      <td>u</td>\n",
              "      <td>426000.0</td>\n",
              "      <td>SP</td>\n",
              "      <td>Greg</td>\n",
              "      <td>22/08/2016</td>\n",
              "      <td>2.5</td>\n",
              "      <td>3067</td>\n",
              "      <td>1</td>\n",
              "      <td>1</td>\n",
              "      <td>1</td>\n",
              "      <td>0.0</td>\n",
              "      <td>126.0</td>\n",
              "      <td>1970</td>\n",
              "      <td>Yarra</td>\n",
              "      <td>-37.80160</td>\n",
              "      <td>144.99880</td>\n",
              "      <td>Northern Metropolitan</td>\n",
              "      <td>4019</td>\n",
              "      <td>-37.8016, 144.9988</td>\n",
              "    </tr>\n",
              "    <tr>\n",
              "      <th>28</th>\n",
              "      <td>28</td>\n",
              "      <td>Abbotsford</td>\n",
              "      <td>116/56 Nicholson St</td>\n",
              "      <td>1</td>\n",
              "      <td>u</td>\n",
              "      <td>457000.0</td>\n",
              "      <td>S</td>\n",
              "      <td>Jellis</td>\n",
              "      <td>22/08/2016</td>\n",
              "      <td>2.5</td>\n",
              "      <td>3067</td>\n",
              "      <td>1</td>\n",
              "      <td>1</td>\n",
              "      <td>1</td>\n",
              "      <td>0.0</td>\n",
              "      <td>50.0</td>\n",
              "      <td>1970</td>\n",
              "      <td>Yarra</td>\n",
              "      <td>-37.80780</td>\n",
              "      <td>144.99650</td>\n",
              "      <td>Northern Metropolitan</td>\n",
              "      <td>4019</td>\n",
              "      <td>-37.8078, 144.9965</td>\n",
              "    </tr>\n",
              "    <tr>\n",
              "      <th>40</th>\n",
              "      <td>40</td>\n",
              "      <td>Airport West</td>\n",
              "      <td>50 Bedford St</td>\n",
              "      <td>3</td>\n",
              "      <td>h</td>\n",
              "      <td>770000.0</td>\n",
              "      <td>SP</td>\n",
              "      <td>Nelson</td>\n",
              "      <td>4/03/2017</td>\n",
              "      <td>13.5</td>\n",
              "      <td>3042</td>\n",
              "      <td>3</td>\n",
              "      <td>2</td>\n",
              "      <td>1</td>\n",
              "      <td>0.0</td>\n",
              "      <td>145.0</td>\n",
              "      <td>1965</td>\n",
              "      <td>Moonee Valley</td>\n",
              "      <td>-37.72030</td>\n",
              "      <td>144.87550</td>\n",
              "      <td>Western Metropolitan</td>\n",
              "      <td>3464</td>\n",
              "      <td>-37.7203, 144.8755</td>\n",
              "    </tr>\n",
              "    <tr>\n",
              "      <th>111</th>\n",
              "      <td>111</td>\n",
              "      <td>Albert Park</td>\n",
              "      <td>2b Dundas Pl</td>\n",
              "      <td>3</td>\n",
              "      <td>h</td>\n",
              "      <td>1532000.0</td>\n",
              "      <td>S</td>\n",
              "      <td>Chisholm</td>\n",
              "      <td>26/07/2016</td>\n",
              "      <td>3.3</td>\n",
              "      <td>3206</td>\n",
              "      <td>3</td>\n",
              "      <td>3</td>\n",
              "      <td>1</td>\n",
              "      <td>0.0</td>\n",
              "      <td>126.0</td>\n",
              "      <td>1970</td>\n",
              "      <td>Port Phillip</td>\n",
              "      <td>-37.84150</td>\n",
              "      <td>144.95850</td>\n",
              "      <td>Southern Metropolitan</td>\n",
              "      <td>3280</td>\n",
              "      <td>-37.8415, 144.9585</td>\n",
              "    </tr>\n",
              "    <tr>\n",
              "      <th>...</th>\n",
              "      <td>...</td>\n",
              "      <td>...</td>\n",
              "      <td>...</td>\n",
              "      <td>...</td>\n",
              "      <td>...</td>\n",
              "      <td>...</td>\n",
              "      <td>...</td>\n",
              "      <td>...</td>\n",
              "      <td>...</td>\n",
              "      <td>...</td>\n",
              "      <td>...</td>\n",
              "      <td>...</td>\n",
              "      <td>...</td>\n",
              "      <td>...</td>\n",
              "      <td>...</td>\n",
              "      <td>...</td>\n",
              "      <td>...</td>\n",
              "      <td>...</td>\n",
              "      <td>...</td>\n",
              "      <td>...</td>\n",
              "      <td>...</td>\n",
              "      <td>...</td>\n",
              "      <td>...</td>\n",
              "    </tr>\n",
              "    <tr>\n",
              "      <th>13140</th>\n",
              "      <td>13140</td>\n",
              "      <td>Carnegie</td>\n",
              "      <td>12/40 Woorayl St</td>\n",
              "      <td>1</td>\n",
              "      <td>u</td>\n",
              "      <td>381000.0</td>\n",
              "      <td>S</td>\n",
              "      <td>Ray</td>\n",
              "      <td>23/09/2017</td>\n",
              "      <td>10.1</td>\n",
              "      <td>3163</td>\n",
              "      <td>1</td>\n",
              "      <td>1</td>\n",
              "      <td>1</td>\n",
              "      <td>2048.0</td>\n",
              "      <td>55.0</td>\n",
              "      <td>1970</td>\n",
              "      <td>NaN</td>\n",
              "      <td>-37.88642</td>\n",
              "      <td>145.05979</td>\n",
              "      <td>Southern Metropolitan</td>\n",
              "      <td>7822</td>\n",
              "      <td>-37.88642, 145.05979</td>\n",
              "    </tr>\n",
              "    <tr>\n",
              "      <th>13217</th>\n",
              "      <td>13217</td>\n",
              "      <td>Kew</td>\n",
              "      <td>11/26 Edgevale Rd</td>\n",
              "      <td>2</td>\n",
              "      <td>t</td>\n",
              "      <td>955000.0</td>\n",
              "      <td>S</td>\n",
              "      <td>Jellis</td>\n",
              "      <td>23/09/2017</td>\n",
              "      <td>5.4</td>\n",
              "      <td>3101</td>\n",
              "      <td>2</td>\n",
              "      <td>1</td>\n",
              "      <td>1</td>\n",
              "      <td>2835.0</td>\n",
              "      <td>100.0</td>\n",
              "      <td>1970</td>\n",
              "      <td>NaN</td>\n",
              "      <td>-37.81439</td>\n",
              "      <td>145.04237</td>\n",
              "      <td>Southern Metropolitan</td>\n",
              "      <td>10331</td>\n",
              "      <td>-37.81439, 145.04237</td>\n",
              "    </tr>\n",
              "    <tr>\n",
              "      <th>13250</th>\n",
              "      <td>13250</td>\n",
              "      <td>Northcote</td>\n",
              "      <td>19 Charles St</td>\n",
              "      <td>3</td>\n",
              "      <td>h</td>\n",
              "      <td>1360000.0</td>\n",
              "      <td>SP</td>\n",
              "      <td>McGrath</td>\n",
              "      <td>23/09/2017</td>\n",
              "      <td>5.3</td>\n",
              "      <td>3070</td>\n",
              "      <td>3</td>\n",
              "      <td>2</td>\n",
              "      <td>1</td>\n",
              "      <td>184.0</td>\n",
              "      <td>126.0</td>\n",
              "      <td>1910</td>\n",
              "      <td>NaN</td>\n",
              "      <td>-37.77651</td>\n",
              "      <td>144.99074</td>\n",
              "      <td>Northern Metropolitan</td>\n",
              "      <td>11364</td>\n",
              "      <td>-37.77651, 144.99074</td>\n",
              "    </tr>\n",
              "    <tr>\n",
              "      <th>13280</th>\n",
              "      <td>13280</td>\n",
              "      <td>Richmond</td>\n",
              "      <td>201/77 Abinger St</td>\n",
              "      <td>1</td>\n",
              "      <td>u</td>\n",
              "      <td>400000.0</td>\n",
              "      <td>VB</td>\n",
              "      <td>Marshall</td>\n",
              "      <td>23/09/2017</td>\n",
              "      <td>2.4</td>\n",
              "      <td>3121</td>\n",
              "      <td>1</td>\n",
              "      <td>1</td>\n",
              "      <td>1</td>\n",
              "      <td>4425.0</td>\n",
              "      <td>51.0</td>\n",
              "      <td>2012</td>\n",
              "      <td>NaN</td>\n",
              "      <td>-37.82009</td>\n",
              "      <td>145.00380</td>\n",
              "      <td>Northern Metropolitan</td>\n",
              "      <td>14949</td>\n",
              "      <td>-37.82009, 145.0038</td>\n",
              "    </tr>\n",
              "    <tr>\n",
              "      <th>13429</th>\n",
              "      <td>13429</td>\n",
              "      <td>Frankston South</td>\n",
              "      <td>3 Diosma Ct</td>\n",
              "      <td>3</td>\n",
              "      <td>h</td>\n",
              "      <td>1155000.0</td>\n",
              "      <td>S</td>\n",
              "      <td>hockingstuart</td>\n",
              "      <td>26/08/2017</td>\n",
              "      <td>38.0</td>\n",
              "      <td>3199</td>\n",
              "      <td>3</td>\n",
              "      <td>2</td>\n",
              "      <td>2</td>\n",
              "      <td>2405.0</td>\n",
              "      <td>242.0</td>\n",
              "      <td>1980</td>\n",
              "      <td>NaN</td>\n",
              "      <td>-38.16457</td>\n",
              "      <td>145.12421</td>\n",
              "      <td>South-Eastern Metropolitan</td>\n",
              "      <td>7566</td>\n",
              "      <td>-38.16457, 145.12421</td>\n",
              "    </tr>\n",
              "  </tbody>\n",
              "</table>\n",
              "<p>483 rows × 23 columns</p>\n",
              "</div>"
            ],
            "text/plain": [
              "       index           Suburb  ... Propertycount           Сoordinates\n",
              "22        22       Abbotsford  ...          4019    -37.8078, 144.9965\n",
              "26        26       Abbotsford  ...          4019    -37.8016, 144.9988\n",
              "28        28       Abbotsford  ...          4019    -37.8078, 144.9965\n",
              "40        40     Airport West  ...          3464    -37.7203, 144.8755\n",
              "111      111      Albert Park  ...          3280    -37.8415, 144.9585\n",
              "...      ...              ...  ...           ...                   ...\n",
              "13140  13140         Carnegie  ...          7822  -37.88642, 145.05979\n",
              "13217  13217              Kew  ...         10331  -37.81439, 145.04237\n",
              "13250  13250        Northcote  ...         11364  -37.77651, 144.99074\n",
              "13280  13280         Richmond  ...         14949   -37.82009, 145.0038\n",
              "13429  13429  Frankston South  ...          7566  -38.16457, 145.12421\n",
              "\n",
              "[483 rows x 23 columns]"
            ]
          },
          "metadata": {},
          "execution_count": 246
        }
      ]
    },
    {
      "cell_type": "code",
      "metadata": {
        "colab": {
          "base_uri": "https://localhost:8080/"
        },
        "id": "kSN6Pej-LNHS",
        "outputId": "5d4cb44c-cce2-4afd-fcbd-4a976c7071ea"
      },
      "source": [
        "sum(melb_data['Postcode'] == 3073)"
      ],
      "execution_count": null,
      "outputs": [
        {
          "output_type": "execute_result",
          "data": {
            "text/plain": [
              "359"
            ]
          },
          "metadata": {},
          "execution_count": 247
        }
      ]
    },
    {
      "cell_type": "code",
      "metadata": {
        "colab": {
          "base_uri": "https://localhost:8080/",
          "height": 192
        },
        "id": "oFOKw3f7LjOC",
        "outputId": "335d6cc9-4117-417c-cd2c-51c20055867e"
      },
      "source": [
        "melb_data.describe(include=['object'])"
      ],
      "execution_count": null,
      "outputs": [
        {
          "output_type": "execute_result",
          "data": {
            "text/html": [
              "<div>\n",
              "<style scoped>\n",
              "    .dataframe tbody tr th:only-of-type {\n",
              "        vertical-align: middle;\n",
              "    }\n",
              "\n",
              "    .dataframe tbody tr th {\n",
              "        vertical-align: top;\n",
              "    }\n",
              "\n",
              "    .dataframe thead th {\n",
              "        text-align: right;\n",
              "    }\n",
              "</style>\n",
              "<table border=\"1\" class=\"dataframe\">\n",
              "  <thead>\n",
              "    <tr style=\"text-align: right;\">\n",
              "      <th></th>\n",
              "      <th>Suburb</th>\n",
              "      <th>Address</th>\n",
              "      <th>Type</th>\n",
              "      <th>Method</th>\n",
              "      <th>SellerG</th>\n",
              "      <th>Date</th>\n",
              "      <th>CouncilArea</th>\n",
              "      <th>Regionname</th>\n",
              "      <th>Сoordinates</th>\n",
              "    </tr>\n",
              "  </thead>\n",
              "  <tbody>\n",
              "    <tr>\n",
              "      <th>count</th>\n",
              "      <td>13580</td>\n",
              "      <td>13580</td>\n",
              "      <td>13580</td>\n",
              "      <td>13580</td>\n",
              "      <td>13580</td>\n",
              "      <td>13580</td>\n",
              "      <td>12211</td>\n",
              "      <td>13580</td>\n",
              "      <td>13580</td>\n",
              "    </tr>\n",
              "    <tr>\n",
              "      <th>unique</th>\n",
              "      <td>314</td>\n",
              "      <td>13378</td>\n",
              "      <td>3</td>\n",
              "      <td>5</td>\n",
              "      <td>268</td>\n",
              "      <td>58</td>\n",
              "      <td>33</td>\n",
              "      <td>8</td>\n",
              "      <td>13097</td>\n",
              "    </tr>\n",
              "    <tr>\n",
              "      <th>top</th>\n",
              "      <td>Reservoir</td>\n",
              "      <td>36 Aberfeldie St</td>\n",
              "      <td>h</td>\n",
              "      <td>S</td>\n",
              "      <td>Nelson</td>\n",
              "      <td>27/05/2017</td>\n",
              "      <td>Moreland</td>\n",
              "      <td>Southern Metropolitan</td>\n",
              "      <td>-37.8361, 144.9966</td>\n",
              "    </tr>\n",
              "    <tr>\n",
              "      <th>freq</th>\n",
              "      <td>359</td>\n",
              "      <td>3</td>\n",
              "      <td>9449</td>\n",
              "      <td>9022</td>\n",
              "      <td>1565</td>\n",
              "      <td>473</td>\n",
              "      <td>1163</td>\n",
              "      <td>4695</td>\n",
              "      <td>12</td>\n",
              "    </tr>\n",
              "  </tbody>\n",
              "</table>\n",
              "</div>"
            ],
            "text/plain": [
              "           Suburb           Address  ...             Regionname         Сoordinates\n",
              "count       13580             13580  ...                  13580               13580\n",
              "unique        314             13378  ...                      8               13097\n",
              "top     Reservoir  36 Aberfeldie St  ...  Southern Metropolitan  -37.8361, 144.9966\n",
              "freq          359                 3  ...                   4695                  12\n",
              "\n",
              "[4 rows x 9 columns]"
            ]
          },
          "metadata": {},
          "execution_count": 248
        }
      ]
    },
    {
      "cell_type": "code",
      "metadata": {
        "colab": {
          "base_uri": "https://localhost:8080/"
        },
        "id": "kC5kSFSKMldh",
        "outputId": "11c2cdbe-c738-4924-c604-b71a1aec0b0a"
      },
      "source": [
        "sum(melb_data['Type'] == 't')/melb_data.shape[0]"
      ],
      "execution_count": null,
      "outputs": [
        {
          "output_type": "execute_result",
          "data": {
            "text/plain": [
              "0.08203240058910162"
            ]
          },
          "metadata": {},
          "execution_count": 249
        }
      ]
    },
    {
      "cell_type": "code",
      "metadata": {
        "colab": {
          "base_uri": "https://localhost:8080/"
        },
        "id": "3CVVh8fbNoml",
        "outputId": "af6c9481-1d10-4917-c996-9f18680def40"
      },
      "source": [
        "melb_data['Distance'].std()"
      ],
      "execution_count": null,
      "outputs": [
        {
          "output_type": "execute_result",
          "data": {
            "text/plain": [
              "5.868724943071692"
            ]
          },
          "metadata": {},
          "execution_count": 250
        }
      ]
    },
    {
      "cell_type": "code",
      "metadata": {
        "colab": {
          "base_uri": "https://localhost:8080/"
        },
        "id": "w13cpCdWUtp4",
        "outputId": "6ebc77c8-ba8c-42ee-868f-c3db07334ae5"
      },
      "source": [
        "# Чему равно отклонение (в процентах) медианного значения площади здания от его среднего значения?\n",
        "mu = melb_data['BuildingArea'].mean()\n",
        "medi = melb_data['BuildingArea'].median()\n",
        "abs((medi - mu)/mu) * 100"
      ],
      "execution_count": null,
      "outputs": [
        {
          "output_type": "execute_result",
          "data": {
            "text/plain": [
              "9.764079662364534"
            ]
          },
          "metadata": {},
          "execution_count": 251
        }
      ]
    },
    {
      "cell_type": "code",
      "metadata": {
        "colab": {
          "base_uri": "https://localhost:8080/"
        },
        "id": "lG-vtkp4VPpF",
        "outputId": "0f7e2592-6745-4d14-b262-22faf6959f0b"
      },
      "source": [
        "pd.Series([1, 2, 4, 2, 3, 2, 1, 5, 6]).mode()"
      ],
      "execution_count": null,
      "outputs": [
        {
          "output_type": "execute_result",
          "data": {
            "text/plain": [
              "0    2\n",
              "dtype: int64"
            ]
          },
          "metadata": {},
          "execution_count": 252
        }
      ]
    },
    {
      "cell_type": "code",
      "metadata": {
        "colab": {
          "base_uri": "https://localhost:8080/",
          "height": 81
        },
        "id": "NR0Ah-J3VzqF",
        "outputId": "918b92bd-814a-419f-f3e9-c09e82c93425"
      },
      "source": [
        "melb_data[['CouncilArea', 'Bedroom']].mode()"
      ],
      "execution_count": null,
      "outputs": [
        {
          "output_type": "execute_result",
          "data": {
            "text/html": [
              "<div>\n",
              "<style scoped>\n",
              "    .dataframe tbody tr th:only-of-type {\n",
              "        vertical-align: middle;\n",
              "    }\n",
              "\n",
              "    .dataframe tbody tr th {\n",
              "        vertical-align: top;\n",
              "    }\n",
              "\n",
              "    .dataframe thead th {\n",
              "        text-align: right;\n",
              "    }\n",
              "</style>\n",
              "<table border=\"1\" class=\"dataframe\">\n",
              "  <thead>\n",
              "    <tr style=\"text-align: right;\">\n",
              "      <th></th>\n",
              "      <th>CouncilArea</th>\n",
              "      <th>Bedroom</th>\n",
              "    </tr>\n",
              "  </thead>\n",
              "  <tbody>\n",
              "    <tr>\n",
              "      <th>0</th>\n",
              "      <td>Moreland</td>\n",
              "      <td>3</td>\n",
              "    </tr>\n",
              "  </tbody>\n",
              "</table>\n",
              "</div>"
            ],
            "text/plain": [
              "  CouncilArea  Bedroom\n",
              "0    Moreland        3"
            ]
          },
          "metadata": {},
          "execution_count": 253
        }
      ]
    },
    {
      "cell_type": "code",
      "metadata": {
        "colab": {
          "base_uri": "https://localhost:8080/"
        },
        "id": "qXJMEJwaWOUq",
        "outputId": "c6f4a63e-0984-429f-b7f9-5554bb7bdf65"
      },
      "source": [
        "melb_data.columns"
      ],
      "execution_count": null,
      "outputs": [
        {
          "output_type": "execute_result",
          "data": {
            "text/plain": [
              "Index(['index', 'Suburb', 'Address', 'Rooms', 'Type', 'Price', 'Method',\n",
              "       'SellerG', 'Date', 'Distance', 'Postcode', 'Bedroom', 'Bathroom', 'Car',\n",
              "       'Landsize', 'BuildingArea', 'YearBuilt', 'CouncilArea', 'Lattitude',\n",
              "       'Longtitude', 'Regionname', 'Propertycount', 'Сoordinates'],\n",
              "      dtype='object')"
            ]
          },
          "metadata": {},
          "execution_count": 254
        }
      ]
    },
    {
      "cell_type": "code",
      "metadata": {
        "colab": {
          "base_uri": "https://localhost:8080/"
        },
        "id": "uZKvbqFVXaZ0",
        "outputId": "f8530ffb-b8e5-4d32-e192-c8eb8519d700"
      },
      "source": [
        "melb_data[melb_data['Bathroom'] == 0].shape[0]"
      ],
      "execution_count": null,
      "outputs": [
        {
          "output_type": "execute_result",
          "data": {
            "text/plain": [
              "34"
            ]
          },
          "metadata": {},
          "execution_count": 255
        }
      ]
    },
    {
      "cell_type": "code",
      "metadata": {
        "colab": {
          "base_uri": "https://localhost:8080/"
        },
        "id": "5LZdJkg8XlgT",
        "outputId": "48189981-9755-41b5-fdd6-968529da5aab"
      },
      "source": [
        "melb_data[(melb_data['SellerG'] == 'Nelson') & (melb_data['Price'] > 3000000)].shape[0]"
      ],
      "execution_count": null,
      "outputs": [
        {
          "output_type": "execute_result",
          "data": {
            "text/plain": [
              "5"
            ]
          },
          "metadata": {},
          "execution_count": 256
        }
      ]
    },
    {
      "cell_type": "code",
      "metadata": {
        "colab": {
          "base_uri": "https://localhost:8080/"
        },
        "id": "PND27ZPMYg6m",
        "outputId": "e48a1e42-28ac-41fb-b401-eac9608b5902"
      },
      "source": [
        "melb_data[melb_data['BuildingArea'] == 0]['Price'].min()"
      ],
      "execution_count": null,
      "outputs": [
        {
          "output_type": "execute_result",
          "data": {
            "text/plain": [
              "412500.0"
            ]
          },
          "metadata": {},
          "execution_count": 257
        }
      ]
    },
    {
      "cell_type": "code",
      "metadata": {
        "colab": {
          "base_uri": "https://localhost:8080/"
        },
        "id": "prZL205rZ_hP",
        "outputId": "617eb6f7-06c7-447a-a649-5faa9af07520"
      },
      "source": [
        "melb_data['Bedroom'].unique()"
      ],
      "execution_count": null,
      "outputs": [
        {
          "output_type": "execute_result",
          "data": {
            "text/plain": [
              "array([ 2,  3,  4,  1,  6,  5,  0,  8,  9,  7, 20, 10])"
            ]
          },
          "metadata": {},
          "execution_count": 258
        }
      ]
    },
    {
      "cell_type": "code",
      "metadata": {
        "colab": {
          "base_uri": "https://localhost:8080/"
        },
        "id": "BsgwXHTQY2KA",
        "outputId": "65cfa985-8c4e-46c5-a44e-4151cb3a4ee9"
      },
      "source": [
        "# Задание 13.4\n",
        "\n",
        "# Какова средняя цена объектов недвижимости в таблице melb_data с ценой менее одного миллиона, \n",
        "# в которых либо количество комнат больше пяти, либо здание моложе 2015 года?\n",
        "# Округлите ответ до целого числа.\n",
        "\n",
        "mask = ((melb_data['Price'] < 1000000) & ((melb_data['Rooms'] > 5 ) | (melb_data['YearBuilt'] > 2015)))\n",
        "\n",
        "print(round(melb_data[mask]['Price'].mean()))"
      ],
      "execution_count": null,
      "outputs": [
        {
          "output_type": "stream",
          "name": "stdout",
          "text": [
            "769239\n"
          ]
        }
      ]
    },
    {
      "cell_type": "code",
      "metadata": {
        "colab": {
          "base_uri": "https://localhost:8080/"
        },
        "id": "HfzTwrbCZo9B",
        "outputId": "0349b77c-2b0e-4a0a-c47f-fcce2cca6e99"
      },
      "source": [
        "melb_data[((melb_data['Rooms'] == 3) | (melb_data['BuildingArea'] > 100)) & (melb_data['Price'] < 300000)].shape[0]\n",
        "# 68"
      ],
      "execution_count": null,
      "outputs": [
        {
          "output_type": "execute_result",
          "data": {
            "text/plain": [
              "68"
            ]
          },
          "metadata": {},
          "execution_count": 260
        }
      ]
    },
    {
      "cell_type": "code",
      "metadata": {
        "colab": {
          "base_uri": "https://localhost:8080/"
        },
        "id": "MgTyCBwjbcG7",
        "outputId": "0e1a72e8-b293-499f-f097-6a633a542814"
      },
      "source": [
        "# Задание 13.5\n",
        "\n",
        "# В каком районе Мельбурна чаще всего продаются виллы и коттеджи (тип здания — h) \n",
        "# с ценой меньше трёх миллионов?\n",
        "\n",
        "mask = (melb_data['Type'] == 'h') & (melb_data['Price'] < 3000000) \n",
        "\n",
        "melb_data[mask]['Regionname'].mode()"
      ],
      "execution_count": null,
      "outputs": [
        {
          "output_type": "execute_result",
          "data": {
            "text/plain": [
              "0    Northern Metropolitan\n",
              "dtype: object"
            ]
          },
          "metadata": {},
          "execution_count": 261
        }
      ]
    },
    {
      "cell_type": "code",
      "metadata": {
        "colab": {
          "base_uri": "https://localhost:8080/",
          "height": 348
        },
        "id": "ManrS9pdbzzv",
        "outputId": "54390a6b-7cff-4781-c742-7c6a033f06e2"
      },
      "source": [
        "melb_df = melb_data\n",
        "melb_df = melb_df.drop(['index', 'Сoordinates'], axis=1)\n",
        "melb_df.head()"
      ],
      "execution_count": null,
      "outputs": [
        {
          "output_type": "execute_result",
          "data": {
            "text/html": [
              "<div>\n",
              "<style scoped>\n",
              "    .dataframe tbody tr th:only-of-type {\n",
              "        vertical-align: middle;\n",
              "    }\n",
              "\n",
              "    .dataframe tbody tr th {\n",
              "        vertical-align: top;\n",
              "    }\n",
              "\n",
              "    .dataframe thead th {\n",
              "        text-align: right;\n",
              "    }\n",
              "</style>\n",
              "<table border=\"1\" class=\"dataframe\">\n",
              "  <thead>\n",
              "    <tr style=\"text-align: right;\">\n",
              "      <th></th>\n",
              "      <th>Suburb</th>\n",
              "      <th>Address</th>\n",
              "      <th>Rooms</th>\n",
              "      <th>Type</th>\n",
              "      <th>Price</th>\n",
              "      <th>Method</th>\n",
              "      <th>SellerG</th>\n",
              "      <th>Date</th>\n",
              "      <th>Distance</th>\n",
              "      <th>Postcode</th>\n",
              "      <th>Bedroom</th>\n",
              "      <th>Bathroom</th>\n",
              "      <th>Car</th>\n",
              "      <th>Landsize</th>\n",
              "      <th>BuildingArea</th>\n",
              "      <th>YearBuilt</th>\n",
              "      <th>CouncilArea</th>\n",
              "      <th>Lattitude</th>\n",
              "      <th>Longtitude</th>\n",
              "      <th>Regionname</th>\n",
              "      <th>Propertycount</th>\n",
              "    </tr>\n",
              "  </thead>\n",
              "  <tbody>\n",
              "    <tr>\n",
              "      <th>0</th>\n",
              "      <td>Abbotsford</td>\n",
              "      <td>85 Turner St</td>\n",
              "      <td>2</td>\n",
              "      <td>h</td>\n",
              "      <td>1480000.0</td>\n",
              "      <td>S</td>\n",
              "      <td>Biggin</td>\n",
              "      <td>3/12/2016</td>\n",
              "      <td>2.5</td>\n",
              "      <td>3067</td>\n",
              "      <td>2</td>\n",
              "      <td>1</td>\n",
              "      <td>1</td>\n",
              "      <td>202.0</td>\n",
              "      <td>126.0</td>\n",
              "      <td>1970</td>\n",
              "      <td>Yarra</td>\n",
              "      <td>-37.7996</td>\n",
              "      <td>144.9984</td>\n",
              "      <td>Northern Metropolitan</td>\n",
              "      <td>4019</td>\n",
              "    </tr>\n",
              "    <tr>\n",
              "      <th>1</th>\n",
              "      <td>Abbotsford</td>\n",
              "      <td>25 Bloomburg St</td>\n",
              "      <td>2</td>\n",
              "      <td>h</td>\n",
              "      <td>1035000.0</td>\n",
              "      <td>S</td>\n",
              "      <td>Biggin</td>\n",
              "      <td>4/02/2016</td>\n",
              "      <td>2.5</td>\n",
              "      <td>3067</td>\n",
              "      <td>2</td>\n",
              "      <td>1</td>\n",
              "      <td>0</td>\n",
              "      <td>156.0</td>\n",
              "      <td>79.0</td>\n",
              "      <td>1900</td>\n",
              "      <td>Yarra</td>\n",
              "      <td>-37.8079</td>\n",
              "      <td>144.9934</td>\n",
              "      <td>Northern Metropolitan</td>\n",
              "      <td>4019</td>\n",
              "    </tr>\n",
              "    <tr>\n",
              "      <th>2</th>\n",
              "      <td>Abbotsford</td>\n",
              "      <td>5 Charles St</td>\n",
              "      <td>3</td>\n",
              "      <td>h</td>\n",
              "      <td>1465000.0</td>\n",
              "      <td>SP</td>\n",
              "      <td>Biggin</td>\n",
              "      <td>4/03/2017</td>\n",
              "      <td>2.5</td>\n",
              "      <td>3067</td>\n",
              "      <td>3</td>\n",
              "      <td>2</td>\n",
              "      <td>0</td>\n",
              "      <td>134.0</td>\n",
              "      <td>150.0</td>\n",
              "      <td>1900</td>\n",
              "      <td>Yarra</td>\n",
              "      <td>-37.8093</td>\n",
              "      <td>144.9944</td>\n",
              "      <td>Northern Metropolitan</td>\n",
              "      <td>4019</td>\n",
              "    </tr>\n",
              "    <tr>\n",
              "      <th>3</th>\n",
              "      <td>Abbotsford</td>\n",
              "      <td>40 Federation La</td>\n",
              "      <td>3</td>\n",
              "      <td>h</td>\n",
              "      <td>850000.0</td>\n",
              "      <td>PI</td>\n",
              "      <td>Biggin</td>\n",
              "      <td>4/03/2017</td>\n",
              "      <td>2.5</td>\n",
              "      <td>3067</td>\n",
              "      <td>3</td>\n",
              "      <td>2</td>\n",
              "      <td>1</td>\n",
              "      <td>94.0</td>\n",
              "      <td>126.0</td>\n",
              "      <td>1970</td>\n",
              "      <td>Yarra</td>\n",
              "      <td>-37.7969</td>\n",
              "      <td>144.9969</td>\n",
              "      <td>Northern Metropolitan</td>\n",
              "      <td>4019</td>\n",
              "    </tr>\n",
              "    <tr>\n",
              "      <th>4</th>\n",
              "      <td>Abbotsford</td>\n",
              "      <td>55a Park St</td>\n",
              "      <td>4</td>\n",
              "      <td>h</td>\n",
              "      <td>1600000.0</td>\n",
              "      <td>VB</td>\n",
              "      <td>Nelson</td>\n",
              "      <td>4/06/2016</td>\n",
              "      <td>2.5</td>\n",
              "      <td>3067</td>\n",
              "      <td>3</td>\n",
              "      <td>1</td>\n",
              "      <td>2</td>\n",
              "      <td>120.0</td>\n",
              "      <td>142.0</td>\n",
              "      <td>2014</td>\n",
              "      <td>Yarra</td>\n",
              "      <td>-37.8072</td>\n",
              "      <td>144.9941</td>\n",
              "      <td>Northern Metropolitan</td>\n",
              "      <td>4019</td>\n",
              "    </tr>\n",
              "  </tbody>\n",
              "</table>\n",
              "</div>"
            ],
            "text/plain": [
              "       Suburb           Address  ...             Regionname Propertycount\n",
              "0  Abbotsford      85 Turner St  ...  Northern Metropolitan          4019\n",
              "1  Abbotsford   25 Bloomburg St  ...  Northern Metropolitan          4019\n",
              "2  Abbotsford      5 Charles St  ...  Northern Metropolitan          4019\n",
              "3  Abbotsford  40 Federation La  ...  Northern Metropolitan          4019\n",
              "4  Abbotsford       55a Park St  ...  Northern Metropolitan          4019\n",
              "\n",
              "[5 rows x 21 columns]"
            ]
          },
          "metadata": {},
          "execution_count": 262
        }
      ]
    },
    {
      "cell_type": "code",
      "metadata": {
        "colab": {
          "base_uri": "https://localhost:8080/",
          "height": 225
        },
        "id": "0JWwcRI1x8TH",
        "outputId": "524098aa-95c8-443b-971f-099163560e3e"
      },
      "source": [
        "total_rooms = melb_df['Rooms'] + melb_df['Bedroom'] + melb_df['Bathroom']\n",
        "display(total_rooms)"
      ],
      "execution_count": null,
      "outputs": [
        {
          "output_type": "display_data",
          "data": {
            "text/plain": [
              "0         5\n",
              "1         5\n",
              "2         8\n",
              "3         8\n",
              "4         8\n",
              "         ..\n",
              "13575    10\n",
              "13576     8\n",
              "13577     8\n",
              "13578     9\n",
              "13579     9\n",
              "Length: 13580, dtype: int64"
            ]
          },
          "metadata": {}
        }
      ]
    },
    {
      "cell_type": "code",
      "metadata": {
        "colab": {
          "base_uri": "https://localhost:8080/",
          "height": 225
        },
        "id": "wxSY-8GryL3e",
        "outputId": "75e0d8f5-19cc-4175-c814-d90cea3c3046"
      },
      "source": [
        "melb_df['MeanRoomsSquare'] = melb_df['BuildingArea'] / total_rooms\n",
        "display(melb_df['MeanRoomsSquare'])"
      ],
      "execution_count": null,
      "outputs": [
        {
          "output_type": "display_data",
          "data": {
            "text/plain": [
              "0        25.200000\n",
              "1        15.800000\n",
              "2        18.750000\n",
              "3        15.750000\n",
              "4        17.750000\n",
              "           ...    \n",
              "13575    12.600000\n",
              "13576    16.625000\n",
              "13577    15.750000\n",
              "13578    17.444444\n",
              "13579    12.444444\n",
              "Name: MeanRoomsSquare, Length: 13580, dtype: float64"
            ]
          },
          "metadata": {}
        }
      ]
    },
    {
      "cell_type": "code",
      "metadata": {
        "colab": {
          "base_uri": "https://localhost:8080/",
          "height": 225
        },
        "id": "fCR1FN3SyQjC",
        "outputId": "cdacf572-d237-402f-ceeb-6801049954b3"
      },
      "source": [
        "diff_area = melb_df['BuildingArea'] - melb_df['Landsize']\n",
        "sum_area = melb_df['BuildingArea'] + melb_df['Landsize']\n",
        "melb_df['AreaRatio'] = diff_area/sum_area\n",
        "display(melb_df['AreaRatio'])"
      ],
      "execution_count": null,
      "outputs": [
        {
          "output_type": "display_data",
          "data": {
            "text/plain": [
              "0       -0.231707\n",
              "1       -0.327660\n",
              "2        0.056338\n",
              "3        0.145455\n",
              "4        0.083969\n",
              "           ...   \n",
              "13575   -0.676093\n",
              "13576   -0.429185\n",
              "13577   -0.551601\n",
              "13578   -0.693060\n",
              "13579   -0.527426\n",
              "Name: AreaRatio, Length: 13580, dtype: float64"
            ]
          },
          "metadata": {}
        }
      ]
    },
    {
      "cell_type": "code",
      "metadata": {
        "id": "6eecvvaByadI"
      },
      "source": [
        "customer_df = pd.DataFrame({\n",
        "        'number': [0, 1, 2, 3, 4],\n",
        "        'cust_id': [128, 1201, 9832, 4392, 7472],\n",
        "        'cust_age': [13, 21, 19, 21, 60],\n",
        "        'cust_sale': [0, 0, 0.2, 0.15, 0.3],\n",
        "        'cust_year_birth': [2008, 2000, 2002, 2000, 1961],\n",
        "        'cust_order': [1400, 14142, 900, 1240, 8430]\n",
        "    })"
      ],
      "execution_count": null,
      "outputs": []
    },
    {
      "cell_type": "code",
      "metadata": {
        "colab": {
          "base_uri": "https://localhost:8080/"
        },
        "id": "nXmarFCbzUcU",
        "outputId": "c390599d-d57a-407b-8ccb-420d0cc110f8"
      },
      "source": [
        "# Задание 15.3\n",
        "import pandas as pd\n",
        "\n",
        "def delete_columns(df, columns=[]):\n",
        "    \"\"\"\n",
        "    Напишите функцию delete_columns(df, col=[]), которая удаляет столбцы из DataFrame и возвращает новую таблицу. \n",
        "    Если одно из указанных столбцов в таблице не существует, то функция должна возвращать None.\n",
        "    \"\"\"\n",
        "    try:\n",
        "        df = df.drop(columns, axis=1)\n",
        "    except ValueError:\n",
        "        df = None\n",
        "    return df\n",
        "\n",
        "if __name__ == '__main__':\n",
        "    customer_df = pd.DataFrame({\n",
        "        'number': [0, 1, 2, 3, 4],\n",
        "        'cust_id': [128, 1201, 9832, 4392, 7472],\n",
        "        'cust_age': [13, 21, 19, 21, 60],\n",
        "        'cust_sale': [0, 0, 0.2, 0.15, 0.3],\n",
        "        'cust_year_birth': [2008, 2000, 2002, 2000, 1961],\n",
        "        'cust_order': [1400, 14142, 900, 1240, 8430]\n",
        "    })\n",
        "    columns_for_delete= ['number', 'cust_age'] #выбранные вами столбцы\n",
        "    new_df = delete_columns(customer_df, columns_for_delete)\n",
        "    print(new_df)\n"
      ],
      "execution_count": null,
      "outputs": [
        {
          "output_type": "stream",
          "name": "stdout",
          "text": [
            "   cust_id  cust_sale  cust_year_birth  cust_order\n",
            "0      128       0.00             2008        1400\n",
            "1     1201       0.00             2000       14142\n",
            "2     9832       0.20             2002         900\n",
            "3     4392       0.15             2000        1240\n",
            "4     7472       0.30             1961        8430\n"
          ]
        }
      ]
    },
    {
      "cell_type": "code",
      "metadata": {
        "colab": {
          "base_uri": "https://localhost:8080/"
        },
        "id": "bER5hia91ej1",
        "outputId": "b1d8730c-104d-4d5b-a9f8-a44d7766e48d"
      },
      "source": [
        "countries_df = pd.DataFrame({\n",
        "    'country': ['Англия', 'Канада', 'США', 'Россия', 'Украина', 'Беларусь', 'Казахстан'],\n",
        "    'population': [56.29, 38.05, 322.28, 146.24, 45.5, 9.5, 17.04],\n",
        "    'square': [133396, 9984670, 9826630, 17125191, 603628, 207600, 2724902]\n",
        "})\n",
        "\n",
        "# Рассчитайте среднюю плотность населения всех представленных стран \n",
        "# (количество человек на квадратный километр). Ответ округлите до сотых.\n",
        "\n",
        "# Плотность населения рассчитывается как общее количество человек, отнесённое к общей площади. \n",
        "# Обратите внимание, что население в таблице представлено в миллионах.\n",
        "\n",
        "((countries_df['population'] * 1000000) / countries_df['square']).mean()"
      ],
      "execution_count": null,
      "outputs": [
        {
          "output_type": "execute_result",
          "data": {
            "text/plain": [
              "84.93080566562001"
            ]
          },
          "metadata": {},
          "execution_count": 268
        }
      ]
    },
    {
      "cell_type": "code",
      "metadata": {
        "colab": {
          "base_uri": "https://localhost:8080/",
          "height": 225
        },
        "id": "Zvfh7JjL1fU2",
        "outputId": "4f79b1d4-55ba-452c-8e88-eef85854df41"
      },
      "source": [
        "display(melb_df['Date'])"
      ],
      "execution_count": null,
      "outputs": [
        {
          "output_type": "display_data",
          "data": {
            "text/plain": [
              "0         3/12/2016\n",
              "1         4/02/2016\n",
              "2         4/03/2017\n",
              "3         4/03/2017\n",
              "4         4/06/2016\n",
              "            ...    \n",
              "13575    26/08/2017\n",
              "13576    26/08/2017\n",
              "13577    26/08/2017\n",
              "13578    26/08/2017\n",
              "13579    26/08/2017\n",
              "Name: Date, Length: 13580, dtype: object"
            ]
          },
          "metadata": {}
        }
      ]
    },
    {
      "cell_type": "code",
      "metadata": {
        "colab": {
          "base_uri": "https://localhost:8080/",
          "height": 225
        },
        "id": "XQsEd8rt3WIt",
        "outputId": "c8e89169-2519-4d73-fc1d-7397a1cf4ad4"
      },
      "source": [
        "melb_df['Date'] = pd.to_datetime(melb_df['Date'])\n",
        "display(melb_df['Date'])"
      ],
      "execution_count": null,
      "outputs": [
        {
          "output_type": "display_data",
          "data": {
            "text/plain": [
              "0       2016-03-12\n",
              "1       2016-04-02\n",
              "2       2017-04-03\n",
              "3       2017-04-03\n",
              "4       2016-04-06\n",
              "           ...    \n",
              "13575   2017-08-26\n",
              "13576   2017-08-26\n",
              "13577   2017-08-26\n",
              "13578   2017-08-26\n",
              "13579   2017-08-26\n",
              "Name: Date, Length: 13580, dtype: datetime64[ns]"
            ]
          },
          "metadata": {}
        }
      ]
    },
    {
      "cell_type": "code",
      "metadata": {
        "colab": {
          "base_uri": "https://localhost:8080/"
        },
        "id": "KpCo6-_D3Zsm",
        "outputId": "77e5acdf-4e2b-4945-cae9-6b5b41fcf8c1"
      },
      "source": [
        "years_sold = melb_df['Date'].dt.year\n",
        "print(years_sold)\n",
        "print('Min year sold:', years_sold.min())\n",
        "print('Max year sold:', years_sold.max())\n",
        "print('Mode year sold:', years_sold.mode()[0])"
      ],
      "execution_count": null,
      "outputs": [
        {
          "output_type": "stream",
          "name": "stdout",
          "text": [
            "0        2016\n",
            "1        2016\n",
            "2        2017\n",
            "3        2017\n",
            "4        2016\n",
            "         ... \n",
            "13575    2017\n",
            "13576    2017\n",
            "13577    2017\n",
            "13578    2017\n",
            "13579    2017\n",
            "Name: Date, Length: 13580, dtype: int64\n",
            "Min year sold: 2016\n",
            "Max year sold: 2017\n",
            "Mode year sold: 2017\n"
          ]
        }
      ]
    },
    {
      "cell_type": "code",
      "metadata": {
        "colab": {
          "base_uri": "https://localhost:8080/"
        },
        "id": "owRxZBA43ofL",
        "outputId": "e3ce6602-f2ba-46f5-90e1-c8417bbdf164"
      },
      "source": [
        "melb_df['MonthSale'] = melb_df['Date'].dt.month\n",
        "melb_df['MonthSale'].value_counts(normalize=True)"
      ],
      "execution_count": null,
      "outputs": [
        {
          "output_type": "execute_result",
          "data": {
            "text/plain": [
              "8     0.136230\n",
              "7     0.135125\n",
              "5     0.121060\n",
              "6     0.108174\n",
              "3     0.103682\n",
              "4     0.091753\n",
              "9     0.087482\n",
              "10    0.062887\n",
              "11    0.055228\n",
              "12    0.053387\n",
              "2     0.024521\n",
              "1     0.020471\n",
              "Name: MonthSale, dtype: float64"
            ]
          },
          "metadata": {},
          "execution_count": 272
        }
      ]
    },
    {
      "cell_type": "code",
      "metadata": {
        "colab": {
          "base_uri": "https://localhost:8080/",
          "height": 225
        },
        "id": "X9NGHD2I4LCH",
        "outputId": "661c845b-2708-43b3-e888-639d22344eeb"
      },
      "source": [
        "delta_days = melb_df['Date'] - pd.to_datetime('2016-01-01') \n",
        "display(delta_days)"
      ],
      "execution_count": null,
      "outputs": [
        {
          "output_type": "display_data",
          "data": {
            "text/plain": [
              "0        71 days\n",
              "1        92 days\n",
              "2       458 days\n",
              "3       458 days\n",
              "4        96 days\n",
              "          ...   \n",
              "13575   603 days\n",
              "13576   603 days\n",
              "13577   603 days\n",
              "13578   603 days\n",
              "13579   603 days\n",
              "Name: Date, Length: 13580, dtype: timedelta64[ns]"
            ]
          },
          "metadata": {}
        }
      ]
    },
    {
      "cell_type": "code",
      "metadata": {
        "colab": {
          "base_uri": "https://localhost:8080/",
          "height": 225
        },
        "id": "7Jv7toTq4QqD",
        "outputId": "d42663a9-c70b-4d66-d22e-25d8b669923d"
      },
      "source": [
        "display(delta_days.dt.days)"
      ],
      "execution_count": null,
      "outputs": [
        {
          "output_type": "display_data",
          "data": {
            "text/plain": [
              "0         71\n",
              "1         92\n",
              "2        458\n",
              "3        458\n",
              "4         96\n",
              "        ... \n",
              "13575    603\n",
              "13576    603\n",
              "13577    603\n",
              "13578    603\n",
              "13579    603\n",
              "Name: Date, Length: 13580, dtype: int64"
            ]
          },
          "metadata": {}
        }
      ]
    },
    {
      "cell_type": "code",
      "metadata": {
        "colab": {
          "base_uri": "https://localhost:8080/",
          "height": 225
        },
        "id": "6UYINGTM4fLX",
        "outputId": "5d7ad058-15b5-4a3f-e6e0-3056466354e0"
      },
      "source": [
        "melb_df['AgeBuilding'] = melb_df['Date'].dt.year - melb_df['YearBuilt']\n",
        "display(melb_df['AgeBuilding'])"
      ],
      "execution_count": null,
      "outputs": [
        {
          "output_type": "display_data",
          "data": {
            "text/plain": [
              "0         46\n",
              "1        116\n",
              "2        117\n",
              "3         47\n",
              "4          2\n",
              "        ... \n",
              "13575     36\n",
              "13576     22\n",
              "13577     20\n",
              "13578     97\n",
              "13579     97\n",
              "Name: AgeBuilding, Length: 13580, dtype: int64"
            ]
          },
          "metadata": {}
        }
      ]
    },
    {
      "cell_type": "code",
      "metadata": {
        "id": "W16dBMH34q_e"
      },
      "source": [
        "melb_df = melb_df.drop('YearBuilt', axis=1)"
      ],
      "execution_count": null,
      "outputs": []
    },
    {
      "cell_type": "code",
      "metadata": {
        "id": "DNya-FbY40Ny"
      },
      "source": [
        "# 16.3\n",
        "\n",
        "# Создайте в таблице melb_df признак WeekdaySale (день недели). \n",
        "# Найдите, сколько объектов недвижимости было продано в выходные (суббота и воскресенье), \n",
        "# результат занесите в переменную weekend_count. \n",
        "# В качестве ответа введите результат вывода переменной weekend_count.\n",
        "\n",
        "melb_df['WeekdaySale'] = melb_df['Date'].dt.dayofweek"
      ],
      "execution_count": null,
      "outputs": []
    },
    {
      "cell_type": "code",
      "metadata": {
        "colab": {
          "base_uri": "https://localhost:8080/"
        },
        "id": "c3xG8VYR6ZC5",
        "outputId": "000ce5ec-70d8-4397-8214-21fbaeeede62"
      },
      "source": [
        "melb_df.columns"
      ],
      "execution_count": null,
      "outputs": [
        {
          "output_type": "execute_result",
          "data": {
            "text/plain": [
              "Index(['Suburb', 'Address', 'Rooms', 'Type', 'Price', 'Method', 'SellerG',\n",
              "       'Date', 'Distance', 'Postcode', 'Bedroom', 'Bathroom', 'Car',\n",
              "       'Landsize', 'BuildingArea', 'CouncilArea', 'Lattitude', 'Longtitude',\n",
              "       'Regionname', 'Propertycount', 'MeanRoomsSquare', 'AreaRatio',\n",
              "       'MonthSale', 'AgeBuilding', 'WeekdaySale'],\n",
              "      dtype='object')"
            ]
          },
          "metadata": {},
          "execution_count": 278
        }
      ]
    },
    {
      "cell_type": "code",
      "metadata": {
        "colab": {
          "base_uri": "https://localhost:8080/",
          "height": 184
        },
        "id": "-I5GO-836oJM",
        "outputId": "61aa650b-f4a8-4de6-f0bb-e7032481bae8"
      },
      "source": [
        "melb_df.head(2)"
      ],
      "execution_count": null,
      "outputs": [
        {
          "output_type": "execute_result",
          "data": {
            "text/html": [
              "<div>\n",
              "<style scoped>\n",
              "    .dataframe tbody tr th:only-of-type {\n",
              "        vertical-align: middle;\n",
              "    }\n",
              "\n",
              "    .dataframe tbody tr th {\n",
              "        vertical-align: top;\n",
              "    }\n",
              "\n",
              "    .dataframe thead th {\n",
              "        text-align: right;\n",
              "    }\n",
              "</style>\n",
              "<table border=\"1\" class=\"dataframe\">\n",
              "  <thead>\n",
              "    <tr style=\"text-align: right;\">\n",
              "      <th></th>\n",
              "      <th>Suburb</th>\n",
              "      <th>Address</th>\n",
              "      <th>Rooms</th>\n",
              "      <th>Type</th>\n",
              "      <th>Price</th>\n",
              "      <th>Method</th>\n",
              "      <th>SellerG</th>\n",
              "      <th>Date</th>\n",
              "      <th>Distance</th>\n",
              "      <th>Postcode</th>\n",
              "      <th>Bedroom</th>\n",
              "      <th>Bathroom</th>\n",
              "      <th>Car</th>\n",
              "      <th>Landsize</th>\n",
              "      <th>BuildingArea</th>\n",
              "      <th>CouncilArea</th>\n",
              "      <th>Lattitude</th>\n",
              "      <th>Longtitude</th>\n",
              "      <th>Regionname</th>\n",
              "      <th>Propertycount</th>\n",
              "      <th>MeanRoomsSquare</th>\n",
              "      <th>AreaRatio</th>\n",
              "      <th>MonthSale</th>\n",
              "      <th>AgeBuilding</th>\n",
              "      <th>WeekdaySale</th>\n",
              "    </tr>\n",
              "  </thead>\n",
              "  <tbody>\n",
              "    <tr>\n",
              "      <th>0</th>\n",
              "      <td>Abbotsford</td>\n",
              "      <td>85 Turner St</td>\n",
              "      <td>2</td>\n",
              "      <td>h</td>\n",
              "      <td>1480000.0</td>\n",
              "      <td>S</td>\n",
              "      <td>Biggin</td>\n",
              "      <td>2016-03-12</td>\n",
              "      <td>2.5</td>\n",
              "      <td>3067</td>\n",
              "      <td>2</td>\n",
              "      <td>1</td>\n",
              "      <td>1</td>\n",
              "      <td>202.0</td>\n",
              "      <td>126.0</td>\n",
              "      <td>Yarra</td>\n",
              "      <td>-37.7996</td>\n",
              "      <td>144.9984</td>\n",
              "      <td>Northern Metropolitan</td>\n",
              "      <td>4019</td>\n",
              "      <td>25.2</td>\n",
              "      <td>-0.231707</td>\n",
              "      <td>3</td>\n",
              "      <td>46</td>\n",
              "      <td>5</td>\n",
              "    </tr>\n",
              "    <tr>\n",
              "      <th>1</th>\n",
              "      <td>Abbotsford</td>\n",
              "      <td>25 Bloomburg St</td>\n",
              "      <td>2</td>\n",
              "      <td>h</td>\n",
              "      <td>1035000.0</td>\n",
              "      <td>S</td>\n",
              "      <td>Biggin</td>\n",
              "      <td>2016-04-02</td>\n",
              "      <td>2.5</td>\n",
              "      <td>3067</td>\n",
              "      <td>2</td>\n",
              "      <td>1</td>\n",
              "      <td>0</td>\n",
              "      <td>156.0</td>\n",
              "      <td>79.0</td>\n",
              "      <td>Yarra</td>\n",
              "      <td>-37.8079</td>\n",
              "      <td>144.9934</td>\n",
              "      <td>Northern Metropolitan</td>\n",
              "      <td>4019</td>\n",
              "      <td>15.8</td>\n",
              "      <td>-0.327660</td>\n",
              "      <td>4</td>\n",
              "      <td>116</td>\n",
              "      <td>5</td>\n",
              "    </tr>\n",
              "  </tbody>\n",
              "</table>\n",
              "</div>"
            ],
            "text/plain": [
              "       Suburb          Address  Rooms  ... MonthSale  AgeBuilding WeekdaySale\n",
              "0  Abbotsford     85 Turner St      2  ...         3           46           5\n",
              "1  Abbotsford  25 Bloomburg St      2  ...         4          116           5\n",
              "\n",
              "[2 rows x 25 columns]"
            ]
          },
          "metadata": {},
          "execution_count": 279
        }
      ]
    },
    {
      "cell_type": "code",
      "metadata": {
        "colab": {
          "base_uri": "https://localhost:8080/"
        },
        "id": "ErVrBShP7JYx",
        "outputId": "434823c5-8786-48ef-ee7c-46ab50fd14f5"
      },
      "source": [
        "melb_df['WeekdaySale'].unique()"
      ],
      "execution_count": null,
      "outputs": [
        {
          "output_type": "execute_result",
          "data": {
            "text/plain": [
              "array([5, 0, 2, 1, 6, 3, 4])"
            ]
          },
          "metadata": {},
          "execution_count": 280
        }
      ]
    },
    {
      "cell_type": "code",
      "metadata": {
        "colab": {
          "base_uri": "https://localhost:8080/"
        },
        "id": "kdiMnZwQ6DKt",
        "outputId": "0c73f32a-6739-4af8-8f80-23fc808f3dd4"
      },
      "source": [
        "mask = (melb_df['WeekdaySale'] == 5) | (melb_df['WeekdaySale'] == 6)\n",
        "weekend_count = melb_df[mask].shape[0]\n",
        "print(weekend_count)"
      ],
      "execution_count": null,
      "outputs": [
        {
          "output_type": "stream",
          "name": "stdout",
          "text": [
            "9226\n"
          ]
        }
      ]
    },
    {
      "cell_type": "code",
      "metadata": {
        "colab": {
          "base_uri": "https://localhost:8080/",
          "height": 143
        },
        "id": "3l3K8nhc7BKH",
        "outputId": "991174ee-707f-431b-ec64-aac554cf024a"
      },
      "source": [
        "ufo = pd.read_csv('ufo.csv', sep=',')\n",
        "\n",
        "ufo.head(3)"
      ],
      "execution_count": null,
      "outputs": [
        {
          "output_type": "execute_result",
          "data": {
            "text/html": [
              "<div>\n",
              "<style scoped>\n",
              "    .dataframe tbody tr th:only-of-type {\n",
              "        vertical-align: middle;\n",
              "    }\n",
              "\n",
              "    .dataframe tbody tr th {\n",
              "        vertical-align: top;\n",
              "    }\n",
              "\n",
              "    .dataframe thead th {\n",
              "        text-align: right;\n",
              "    }\n",
              "</style>\n",
              "<table border=\"1\" class=\"dataframe\">\n",
              "  <thead>\n",
              "    <tr style=\"text-align: right;\">\n",
              "      <th></th>\n",
              "      <th>City</th>\n",
              "      <th>Colors Reported</th>\n",
              "      <th>Shape Reported</th>\n",
              "      <th>State</th>\n",
              "      <th>Time</th>\n",
              "    </tr>\n",
              "  </thead>\n",
              "  <tbody>\n",
              "    <tr>\n",
              "      <th>0</th>\n",
              "      <td>Ithaca</td>\n",
              "      <td>NaN</td>\n",
              "      <td>TRIANGLE</td>\n",
              "      <td>NY</td>\n",
              "      <td>6/1/1930 22:00</td>\n",
              "    </tr>\n",
              "    <tr>\n",
              "      <th>1</th>\n",
              "      <td>Willingboro</td>\n",
              "      <td>NaN</td>\n",
              "      <td>OTHER</td>\n",
              "      <td>NJ</td>\n",
              "      <td>6/30/1930 20:00</td>\n",
              "    </tr>\n",
              "    <tr>\n",
              "      <th>2</th>\n",
              "      <td>Holyoke</td>\n",
              "      <td>NaN</td>\n",
              "      <td>OVAL</td>\n",
              "      <td>CO</td>\n",
              "      <td>2/15/1931 14:00</td>\n",
              "    </tr>\n",
              "  </tbody>\n",
              "</table>\n",
              "</div>"
            ],
            "text/plain": [
              "          City Colors Reported Shape Reported State             Time\n",
              "0       Ithaca             NaN       TRIANGLE    NY   6/1/1930 22:00\n",
              "1  Willingboro             NaN          OTHER    NJ  6/30/1930 20:00\n",
              "2      Holyoke             NaN           OVAL    CO  2/15/1931 14:00"
            ]
          },
          "metadata": {},
          "execution_count": 282
        }
      ]
    },
    {
      "cell_type": "code",
      "metadata": {
        "colab": {
          "base_uri": "https://localhost:8080/",
          "height": 175
        },
        "id": "4F_SCoTA77LP",
        "outputId": "87c842cc-a9c6-412e-d52e-dcc0a584d27f"
      },
      "source": [
        "ufo.describe(include=['object'])"
      ],
      "execution_count": null,
      "outputs": [
        {
          "output_type": "execute_result",
          "data": {
            "text/html": [
              "<div>\n",
              "<style scoped>\n",
              "    .dataframe tbody tr th:only-of-type {\n",
              "        vertical-align: middle;\n",
              "    }\n",
              "\n",
              "    .dataframe tbody tr th {\n",
              "        vertical-align: top;\n",
              "    }\n",
              "\n",
              "    .dataframe thead th {\n",
              "        text-align: right;\n",
              "    }\n",
              "</style>\n",
              "<table border=\"1\" class=\"dataframe\">\n",
              "  <thead>\n",
              "    <tr style=\"text-align: right;\">\n",
              "      <th></th>\n",
              "      <th>City</th>\n",
              "      <th>Colors Reported</th>\n",
              "      <th>Shape Reported</th>\n",
              "      <th>State</th>\n",
              "      <th>Time</th>\n",
              "    </tr>\n",
              "  </thead>\n",
              "  <tbody>\n",
              "    <tr>\n",
              "      <th>count</th>\n",
              "      <td>18216</td>\n",
              "      <td>2882</td>\n",
              "      <td>15597</td>\n",
              "      <td>18241</td>\n",
              "      <td>18241</td>\n",
              "    </tr>\n",
              "    <tr>\n",
              "      <th>unique</th>\n",
              "      <td>6476</td>\n",
              "      <td>27</td>\n",
              "      <td>27</td>\n",
              "      <td>52</td>\n",
              "      <td>16145</td>\n",
              "    </tr>\n",
              "    <tr>\n",
              "      <th>top</th>\n",
              "      <td>Seattle</td>\n",
              "      <td>RED</td>\n",
              "      <td>LIGHT</td>\n",
              "      <td>CA</td>\n",
              "      <td>11/16/1999 19:00</td>\n",
              "    </tr>\n",
              "    <tr>\n",
              "      <th>freq</th>\n",
              "      <td>187</td>\n",
              "      <td>780</td>\n",
              "      <td>2803</td>\n",
              "      <td>2529</td>\n",
              "      <td>27</td>\n",
              "    </tr>\n",
              "  </tbody>\n",
              "</table>\n",
              "</div>"
            ],
            "text/plain": [
              "           City Colors Reported Shape Reported  State              Time\n",
              "count     18216            2882          15597  18241             18241\n",
              "unique     6476              27             27     52             16145\n",
              "top     Seattle             RED          LIGHT     CA  11/16/1999 19:00\n",
              "freq        187             780           2803   2529                27"
            ]
          },
          "metadata": {},
          "execution_count": 283
        }
      ]
    },
    {
      "cell_type": "code",
      "metadata": {
        "colab": {
          "base_uri": "https://localhost:8080/",
          "height": 175
        },
        "id": "TawHPSXc8App",
        "outputId": "c48cb5ff-cfca-44cf-f441-aea74e3cc118"
      },
      "source": [
        "# Задание 16.4\n",
        "\n",
        "# В каком году отмечается наибольшее количество случаев наблюдения НЛО в США?\n",
        "\n",
        "ufo['datetime'] = pd.to_datetime(ufo['Time'])\n",
        "ufo = ufo.drop('Time', axis=1)\n",
        "ufo.head(4)"
      ],
      "execution_count": null,
      "outputs": [
        {
          "output_type": "execute_result",
          "data": {
            "text/html": [
              "<div>\n",
              "<style scoped>\n",
              "    .dataframe tbody tr th:only-of-type {\n",
              "        vertical-align: middle;\n",
              "    }\n",
              "\n",
              "    .dataframe tbody tr th {\n",
              "        vertical-align: top;\n",
              "    }\n",
              "\n",
              "    .dataframe thead th {\n",
              "        text-align: right;\n",
              "    }\n",
              "</style>\n",
              "<table border=\"1\" class=\"dataframe\">\n",
              "  <thead>\n",
              "    <tr style=\"text-align: right;\">\n",
              "      <th></th>\n",
              "      <th>City</th>\n",
              "      <th>Colors Reported</th>\n",
              "      <th>Shape Reported</th>\n",
              "      <th>State</th>\n",
              "      <th>datetime</th>\n",
              "    </tr>\n",
              "  </thead>\n",
              "  <tbody>\n",
              "    <tr>\n",
              "      <th>0</th>\n",
              "      <td>Ithaca</td>\n",
              "      <td>NaN</td>\n",
              "      <td>TRIANGLE</td>\n",
              "      <td>NY</td>\n",
              "      <td>1930-06-01 22:00:00</td>\n",
              "    </tr>\n",
              "    <tr>\n",
              "      <th>1</th>\n",
              "      <td>Willingboro</td>\n",
              "      <td>NaN</td>\n",
              "      <td>OTHER</td>\n",
              "      <td>NJ</td>\n",
              "      <td>1930-06-30 20:00:00</td>\n",
              "    </tr>\n",
              "    <tr>\n",
              "      <th>2</th>\n",
              "      <td>Holyoke</td>\n",
              "      <td>NaN</td>\n",
              "      <td>OVAL</td>\n",
              "      <td>CO</td>\n",
              "      <td>1931-02-15 14:00:00</td>\n",
              "    </tr>\n",
              "    <tr>\n",
              "      <th>3</th>\n",
              "      <td>Abilene</td>\n",
              "      <td>NaN</td>\n",
              "      <td>DISK</td>\n",
              "      <td>KS</td>\n",
              "      <td>1931-06-01 13:00:00</td>\n",
              "    </tr>\n",
              "  </tbody>\n",
              "</table>\n",
              "</div>"
            ],
            "text/plain": [
              "          City Colors Reported Shape Reported State            datetime\n",
              "0       Ithaca             NaN       TRIANGLE    NY 1930-06-01 22:00:00\n",
              "1  Willingboro             NaN          OTHER    NJ 1930-06-30 20:00:00\n",
              "2      Holyoke             NaN           OVAL    CO 1931-02-15 14:00:00\n",
              "3      Abilene             NaN           DISK    KS 1931-06-01 13:00:00"
            ]
          },
          "metadata": {},
          "execution_count": 284
        }
      ]
    },
    {
      "cell_type": "code",
      "metadata": {
        "colab": {
          "base_uri": "https://localhost:8080/"
        },
        "id": "fYUyHF8198yq",
        "outputId": "f3218320-9d32-41e2-e231-3839e5b523da"
      },
      "source": [
        "ufo['datetime'].dt.year.mode()"
      ],
      "execution_count": null,
      "outputs": [
        {
          "output_type": "execute_result",
          "data": {
            "text/plain": [
              "0    1999\n",
              "dtype: int64"
            ]
          },
          "metadata": {},
          "execution_count": 285
        }
      ]
    },
    {
      "cell_type": "code",
      "metadata": {
        "colab": {
          "base_uri": "https://localhost:8080/"
        },
        "id": "j9Xed6SU-GgM",
        "outputId": "eb53e036-673b-41c9-966f-e5ec098448b3"
      },
      "source": [
        "# Задание 16.5\n",
        "\n",
        "# Найдите средний интервал времени (в днях) между двумя последовательными случаями наблюдения НЛО \n",
        "# в штате Невада (NV).\n",
        "# Чтобы выделить дату из столбца Time, можно воспользоваться атрибутом datetime date.\n",
        "\n",
        "# Чтобы вычислить разницу между двумя соседними датами в столбце, примените к нему метод diff().\n",
        "\n",
        "# Чтобы перевести интервал времени в дни, воспользуйтесь атрибутом timedelta days.\n",
        "\n",
        "res = (ufo[ufo['State'] == 'NV']['datetime'].dt.date).diff()\n",
        "res"
      ],
      "execution_count": null,
      "outputs": [
        {
          "output_type": "execute_result",
          "data": {
            "text/plain": [
              "76            NaT\n",
              "172     1678 days\n",
              "565     2767 days\n",
              "566        0 days\n",
              "613      290 days\n",
              "           ...   \n",
              "17447     22 days\n",
              "17567     14 days\n",
              "17617      6 days\n",
              "17890     32 days\n",
              "18104     33 days\n",
              "Name: datetime, Length: 284, dtype: timedelta64[ns]"
            ]
          },
          "metadata": {},
          "execution_count": 286
        }
      ]
    },
    {
      "cell_type": "code",
      "metadata": {
        "colab": {
          "base_uri": "https://localhost:8080/"
        },
        "id": "PdkTDTD4_T9k",
        "outputId": "59a56170-466b-449f-be4b-95c2f20559fe"
      },
      "source": [
        "res.dt.days.mean()"
      ],
      "execution_count": null,
      "outputs": [
        {
          "output_type": "execute_result",
          "data": {
            "text/plain": [
              "68.92932862190813"
            ]
          },
          "metadata": {},
          "execution_count": 287
        }
      ]
    },
    {
      "cell_type": "code",
      "metadata": {
        "colab": {
          "base_uri": "https://localhost:8080/"
        },
        "id": "XafSUdmtAYEY",
        "outputId": "f2b16712-6902-4306-861b-38c6647d84f5"
      },
      "source": [
        "print(melb_df['Address'].nunique())\n",
        "# 13371"
      ],
      "execution_count": null,
      "outputs": [
        {
          "output_type": "stream",
          "name": "stdout",
          "text": [
            "13378\n"
          ]
        }
      ]
    },
    {
      "cell_type": "code",
      "metadata": {
        "colab": {
          "base_uri": "https://localhost:8080/"
        },
        "id": "5zTeGQ8aBX-V",
        "outputId": "352d3ef1-7860-48f2-a20b-c0ba8b6073e8"
      },
      "source": [
        "print(melb_df['Address'].loc[177])\n",
        "print(melb_df['Address'].loc[1812])\n",
        "print(melb_df['Address'].loc[9001])\n",
        "# 2/119 Railway St N\n",
        "# 9/400 Dandenong Rd\n",
        "# 172 Danks St"
      ],
      "execution_count": null,
      "outputs": [
        {
          "output_type": "stream",
          "name": "stdout",
          "text": [
            "2/119 Railway St N\n",
            "9/400 Dandenong Rd\n",
            "172 Danks St\n"
          ]
        }
      ]
    },
    {
      "cell_type": "code",
      "metadata": {
        "id": "cAXUg9jnBqBX"
      },
      "source": [
        "def get_street_type(address):\n",
        "# Создаём список географических пометок exclude_list.\n",
        "    exclude_list = ['N', 'S', 'W', 'E']\n",
        "# Метод split() разбивает строку на слова по пробелу.\n",
        "# В результате получаем список слов в строке и заносим его в переменную address_list.\n",
        "    address_list = address.split(' ')\n",
        "# Обрезаем список, оставляя в нём только последний элемент,\n",
        "# потенциальный подтип улицы, и заносим в переменную street_type.\n",
        "    street_type = address_list[-1]\n",
        "# Делаем проверку на то, что полученный подтип является географической пометкой.\n",
        "# Для этого проверяем его на наличие в списке exclude_list.\n",
        "    if street_type in exclude_list:\n",
        "# Если переменная street_type является географической пометкой,\n",
        "# переопределяем её на второй элемент с конца списка address_list.\n",
        "        street_type = address_list[-2]\n",
        "# Возвращаем переменную street_type, в которой хранится подтип улицы.\n",
        "    return street_type"
      ],
      "execution_count": null,
      "outputs": []
    },
    {
      "cell_type": "code",
      "metadata": {
        "colab": {
          "base_uri": "https://localhost:8080/",
          "height": 225
        },
        "id": "ItidS2OuCG4k",
        "outputId": "1beaee0c-ea00-43af-a1f1-40a0a2369613"
      },
      "source": [
        "street_types = melb_df['Address'].apply(get_street_type)\n",
        "display(street_types)"
      ],
      "execution_count": null,
      "outputs": [
        {
          "output_type": "display_data",
          "data": {
            "text/plain": [
              "0        St\n",
              "1        St\n",
              "2        St\n",
              "3        La\n",
              "4        St\n",
              "         ..\n",
              "13575    Cr\n",
              "13576    Dr\n",
              "13577    St\n",
              "13578    St\n",
              "13579    St\n",
              "Name: Address, Length: 13580, dtype: object"
            ]
          },
          "metadata": {}
        }
      ]
    },
    {
      "cell_type": "code",
      "metadata": {
        "colab": {
          "base_uri": "https://localhost:8080/"
        },
        "id": "uiVwz9EECLzq",
        "outputId": "08ab262c-6b72-4037-d505-e85597b2f109"
      },
      "source": [
        "print(street_types.nunique())\n",
        "# 56"
      ],
      "execution_count": null,
      "outputs": [
        {
          "output_type": "stream",
          "name": "stdout",
          "text": [
            "56\n"
          ]
        }
      ]
    },
    {
      "cell_type": "code",
      "metadata": {
        "colab": {
          "base_uri": "https://localhost:8080/",
          "height": 1000
        },
        "id": "NVuKCVWCCVxv",
        "outputId": "04cc7bd9-ab01-4883-92f8-3f93badd4ace"
      },
      "source": [
        "display(street_types.value_counts())"
      ],
      "execution_count": null,
      "outputs": [
        {
          "output_type": "display_data",
          "data": {
            "text/plain": [
              "St           8012\n",
              "Rd           2825\n",
              "Ct            612\n",
              "Dr            447\n",
              "Av            321\n",
              "Gr            311\n",
              "Pde           211\n",
              "Pl            169\n",
              "Cr            152\n",
              "Cl            100\n",
              "La             67\n",
              "Bvd            53\n",
              "Tce            47\n",
              "Avenue         40\n",
              "Wy             40\n",
              "Cct            25\n",
              "Hwy            24\n",
              "Parade         15\n",
              "Boulevard      13\n",
              "Sq             11\n",
              "Crescent        9\n",
              "Cir             7\n",
              "Strand          7\n",
              "Esplanade       6\n",
              "Grove           5\n",
              "Fairway         4\n",
              "Mews            4\n",
              "Grn             4\n",
              "Gdns            4\n",
              "Righi           3\n",
              "Crossway        3\n",
              "Victoria        2\n",
              "Ridge           2\n",
              "Esp             2\n",
              "Crofts          2\n",
              "Ave             1\n",
              "Dell            1\n",
              "Glade           1\n",
              "Grange          1\n",
              "Nook            1\n",
              "Corso           1\n",
              "Grand           1\n",
              "Eyrie           1\n",
              "Hts             1\n",
              "Loop            1\n",
              "Cove            1\n",
              "Terrace         1\n",
              "Gra             1\n",
              "Qy              1\n",
              "Woodland        1\n",
              "East            1\n",
              "Outlook         1\n",
              "Summit          1\n",
              "Athol           1\n",
              "Res             1\n",
              "Highway         1\n",
              "Name: Address, dtype: int64"
            ]
          },
          "metadata": {}
        }
      ]
    },
    {
      "cell_type": "code",
      "metadata": {
        "colab": {
          "base_uri": "https://localhost:8080/"
        },
        "id": "gPupx4eACkb8",
        "outputId": "ba7c367b-0bc2-47e8-e6c3-ea4c2b756c4b"
      },
      "source": [
        "popular_stypes =street_types.value_counts().nlargest(10).index\n",
        "print(popular_stypes)\n",
        "# Index(['St', 'Rd', 'Ct', 'Dr', 'Av', 'Gr', 'Pde', 'Pl', 'Cr', 'Cl'], dtype='object')"
      ],
      "execution_count": null,
      "outputs": [
        {
          "output_type": "stream",
          "name": "stdout",
          "text": [
            "Index(['St', 'Rd', 'Ct', 'Dr', 'Av', 'Gr', 'Pde', 'Pl', 'Cr', 'Cl'], dtype='object')\n"
          ]
        }
      ]
    },
    {
      "cell_type": "code",
      "metadata": {
        "colab": {
          "base_uri": "https://localhost:8080/",
          "height": 225
        },
        "id": "hbu4TFrDCxtR",
        "outputId": "2c922fb6-c330-48f0-f4ba-185394d142ec"
      },
      "source": [
        "melb_df['StreetType'] = street_types.apply(lambda x: x if x in popular_stypes else 'other')\n",
        "display(melb_df['StreetType'])"
      ],
      "execution_count": null,
      "outputs": [
        {
          "output_type": "display_data",
          "data": {
            "text/plain": [
              "0           St\n",
              "1           St\n",
              "2           St\n",
              "3        other\n",
              "4           St\n",
              "         ...  \n",
              "13575       Cr\n",
              "13576       Dr\n",
              "13577       St\n",
              "13578       St\n",
              "13579       St\n",
              "Name: StreetType, Length: 13580, dtype: object"
            ]
          },
          "metadata": {}
        }
      ]
    },
    {
      "cell_type": "code",
      "metadata": {
        "colab": {
          "base_uri": "https://localhost:8080/"
        },
        "id": "0xzu824PDA1W",
        "outputId": "46f71dc5-8e88-4533-d9d2-9d2d73fbd3b3"
      },
      "source": [
        "print(melb_df['StreetType'].nunique())\n",
        "# 11"
      ],
      "execution_count": null,
      "outputs": [
        {
          "output_type": "stream",
          "name": "stdout",
          "text": [
            "11\n"
          ]
        }
      ]
    },
    {
      "cell_type": "code",
      "metadata": {
        "id": "qJ1hTrsGDEI4"
      },
      "source": [
        "melb_df = melb_df.drop('Address', axis=1)"
      ],
      "execution_count": null,
      "outputs": []
    },
    {
      "cell_type": "code",
      "metadata": {
        "colab": {
          "base_uri": "https://localhost:8080/",
          "height": 264
        },
        "id": "_tWAlxUeDKe6",
        "outputId": "56240355-d8f4-4b96-ff44-6bd2a35e61c6"
      },
      "source": [
        "#  17.2\n",
        "\n",
        "# Ранее, в задании 16.3, мы создали признак WeekdaySale в таблице melb_df — день недели продажи. \n",
        "# Из полученных в задании результатов можно сделать вывод, что объекты недвижимости в Мельбурне \n",
        "# продаются преимущественно по выходным (суббота и воскресенье).\n",
        "# Напишите функцию get_weekend(weekday), которая принимает на вход элемент столбца WeekdaySale \n",
        "# и возвращает 1, если день является выходным, и 0 — в противном случае, и создайте столбец Weekend \n",
        "# в таблице melb_df с помощью неё.\n",
        "\n",
        "# Примените эту функцию к столбцу и вычислите среднюю цену объекта недвижимости, проданного \n",
        "# в выходные дни. Результат округлите до сотых.\n",
        "def get_weekend(weekday: int) -> int:\n",
        "    if weekday in [5, 6]:\n",
        "        return 1\n",
        "    return 0\n",
        "\n",
        "melb_df['Weekend'] = melb_df['WeekdaySale'].apply(get_weekend)\n",
        "melb_df.head(4)"
      ],
      "execution_count": null,
      "outputs": [
        {
          "output_type": "execute_result",
          "data": {
            "text/html": [
              "<div>\n",
              "<style scoped>\n",
              "    .dataframe tbody tr th:only-of-type {\n",
              "        vertical-align: middle;\n",
              "    }\n",
              "\n",
              "    .dataframe tbody tr th {\n",
              "        vertical-align: top;\n",
              "    }\n",
              "\n",
              "    .dataframe thead th {\n",
              "        text-align: right;\n",
              "    }\n",
              "</style>\n",
              "<table border=\"1\" class=\"dataframe\">\n",
              "  <thead>\n",
              "    <tr style=\"text-align: right;\">\n",
              "      <th></th>\n",
              "      <th>Suburb</th>\n",
              "      <th>Rooms</th>\n",
              "      <th>Type</th>\n",
              "      <th>Price</th>\n",
              "      <th>Method</th>\n",
              "      <th>SellerG</th>\n",
              "      <th>Date</th>\n",
              "      <th>Distance</th>\n",
              "      <th>Postcode</th>\n",
              "      <th>Bedroom</th>\n",
              "      <th>Bathroom</th>\n",
              "      <th>Car</th>\n",
              "      <th>Landsize</th>\n",
              "      <th>BuildingArea</th>\n",
              "      <th>CouncilArea</th>\n",
              "      <th>Lattitude</th>\n",
              "      <th>Longtitude</th>\n",
              "      <th>Regionname</th>\n",
              "      <th>Propertycount</th>\n",
              "      <th>MeanRoomsSquare</th>\n",
              "      <th>AreaRatio</th>\n",
              "      <th>MonthSale</th>\n",
              "      <th>AgeBuilding</th>\n",
              "      <th>WeekdaySale</th>\n",
              "      <th>StreetType</th>\n",
              "      <th>Weekend</th>\n",
              "    </tr>\n",
              "  </thead>\n",
              "  <tbody>\n",
              "    <tr>\n",
              "      <th>0</th>\n",
              "      <td>Abbotsford</td>\n",
              "      <td>2</td>\n",
              "      <td>h</td>\n",
              "      <td>1480000.0</td>\n",
              "      <td>S</td>\n",
              "      <td>Biggin</td>\n",
              "      <td>2016-03-12</td>\n",
              "      <td>2.5</td>\n",
              "      <td>3067</td>\n",
              "      <td>2</td>\n",
              "      <td>1</td>\n",
              "      <td>1</td>\n",
              "      <td>202.0</td>\n",
              "      <td>126.0</td>\n",
              "      <td>Yarra</td>\n",
              "      <td>-37.7996</td>\n",
              "      <td>144.9984</td>\n",
              "      <td>Northern Metropolitan</td>\n",
              "      <td>4019</td>\n",
              "      <td>25.20</td>\n",
              "      <td>-0.231707</td>\n",
              "      <td>3</td>\n",
              "      <td>46</td>\n",
              "      <td>5</td>\n",
              "      <td>St</td>\n",
              "      <td>1</td>\n",
              "    </tr>\n",
              "    <tr>\n",
              "      <th>1</th>\n",
              "      <td>Abbotsford</td>\n",
              "      <td>2</td>\n",
              "      <td>h</td>\n",
              "      <td>1035000.0</td>\n",
              "      <td>S</td>\n",
              "      <td>Biggin</td>\n",
              "      <td>2016-04-02</td>\n",
              "      <td>2.5</td>\n",
              "      <td>3067</td>\n",
              "      <td>2</td>\n",
              "      <td>1</td>\n",
              "      <td>0</td>\n",
              "      <td>156.0</td>\n",
              "      <td>79.0</td>\n",
              "      <td>Yarra</td>\n",
              "      <td>-37.8079</td>\n",
              "      <td>144.9934</td>\n",
              "      <td>Northern Metropolitan</td>\n",
              "      <td>4019</td>\n",
              "      <td>15.80</td>\n",
              "      <td>-0.327660</td>\n",
              "      <td>4</td>\n",
              "      <td>116</td>\n",
              "      <td>5</td>\n",
              "      <td>St</td>\n",
              "      <td>1</td>\n",
              "    </tr>\n",
              "    <tr>\n",
              "      <th>2</th>\n",
              "      <td>Abbotsford</td>\n",
              "      <td>3</td>\n",
              "      <td>h</td>\n",
              "      <td>1465000.0</td>\n",
              "      <td>SP</td>\n",
              "      <td>Biggin</td>\n",
              "      <td>2017-04-03</td>\n",
              "      <td>2.5</td>\n",
              "      <td>3067</td>\n",
              "      <td>3</td>\n",
              "      <td>2</td>\n",
              "      <td>0</td>\n",
              "      <td>134.0</td>\n",
              "      <td>150.0</td>\n",
              "      <td>Yarra</td>\n",
              "      <td>-37.8093</td>\n",
              "      <td>144.9944</td>\n",
              "      <td>Northern Metropolitan</td>\n",
              "      <td>4019</td>\n",
              "      <td>18.75</td>\n",
              "      <td>0.056338</td>\n",
              "      <td>4</td>\n",
              "      <td>117</td>\n",
              "      <td>0</td>\n",
              "      <td>St</td>\n",
              "      <td>0</td>\n",
              "    </tr>\n",
              "    <tr>\n",
              "      <th>3</th>\n",
              "      <td>Abbotsford</td>\n",
              "      <td>3</td>\n",
              "      <td>h</td>\n",
              "      <td>850000.0</td>\n",
              "      <td>PI</td>\n",
              "      <td>Biggin</td>\n",
              "      <td>2017-04-03</td>\n",
              "      <td>2.5</td>\n",
              "      <td>3067</td>\n",
              "      <td>3</td>\n",
              "      <td>2</td>\n",
              "      <td>1</td>\n",
              "      <td>94.0</td>\n",
              "      <td>126.0</td>\n",
              "      <td>Yarra</td>\n",
              "      <td>-37.7969</td>\n",
              "      <td>144.9969</td>\n",
              "      <td>Northern Metropolitan</td>\n",
              "      <td>4019</td>\n",
              "      <td>15.75</td>\n",
              "      <td>0.145455</td>\n",
              "      <td>4</td>\n",
              "      <td>47</td>\n",
              "      <td>0</td>\n",
              "      <td>other</td>\n",
              "      <td>0</td>\n",
              "    </tr>\n",
              "  </tbody>\n",
              "</table>\n",
              "</div>"
            ],
            "text/plain": [
              "       Suburb  Rooms Type  ...  WeekdaySale StreetType Weekend\n",
              "0  Abbotsford      2    h  ...            5         St       1\n",
              "1  Abbotsford      2    h  ...            5         St       1\n",
              "2  Abbotsford      3    h  ...            0         St       0\n",
              "3  Abbotsford      3    h  ...            0      other       0\n",
              "\n",
              "[4 rows x 26 columns]"
            ]
          },
          "metadata": {},
          "execution_count": 298
        }
      ]
    },
    {
      "cell_type": "code",
      "metadata": {
        "colab": {
          "base_uri": "https://localhost:8080/"
        },
        "id": "P-nium5SEdah",
        "outputId": "96688084-df15-460a-8bcb-85bb5c55bb1f"
      },
      "source": [
        "melb_df[melb_df['Weekend'] == 1]['Price'].mean()"
      ],
      "execution_count": null,
      "outputs": [
        {
          "output_type": "execute_result",
          "data": {
            "text/plain": [
              "1083291.6953175808"
            ]
          },
          "metadata": {},
          "execution_count": 299
        }
      ]
    },
    {
      "cell_type": "code",
      "metadata": {
        "colab": {
          "base_uri": "https://localhost:8080/"
        },
        "id": "uThLwPmJE7Bg",
        "outputId": "528ea84f-2092-4c24-9194-a060f93ca9cc"
      },
      "source": [
        "# Задание 17.3\n",
        "\n",
        "# Преобразуйте столбец SellerG с наименованиями риелторских компаний в таблице melb_df \n",
        "# следующим образом: оставьте в столбце только 49 самых популярных компаний, а остальные обозначьте \n",
        "# как 'other'.\n",
        "# Найдите, во сколько раз минимальная цена объектов недвижимости, проданных компанией 'Nelson', \n",
        "# больше минимальной цены объектов, проданных компаниями, обозначенными как 'other'. \n",
        "# Ответ округлите до десятых.\n",
        "\n",
        "most_pop_firms = melb_df['SellerG'].value_counts().nlargest(49).index\n",
        "most_pop_firms"
      ],
      "execution_count": null,
      "outputs": [
        {
          "output_type": "execute_result",
          "data": {
            "text/plain": [
              "Index(['Nelson', 'Jellis', 'hockingstuart', 'Barry', 'Ray', 'Marshall',\n",
              "       'Buxton', 'Biggin', 'Brad', 'Woodards', 'Fletchers', 'Jas', 'Greg',\n",
              "       'McGrath', 'Sweeney', 'Noel', 'Miles', 'RT', 'Gary', 'Harcourts',\n",
              "       'Hodges', 'YPA', 'Stockdale', 'Village', 'Kay', 'Raine', 'Williams',\n",
              "       'Love', 'Douglas', 'Chisholm', 'RW', 'Rendina', 'HAR', 'O'Brien', 'C21',\n",
              "       'Collins', 'Cayzer', 'Purplebricks', 'Eview', 'Philip', 'Buckingham',\n",
              "       'Bells', 'Thomson', 'Alexkarbon', 'Nick', 'McDonald', 'Burnham',\n",
              "       'Moonee', 'LITTLE'],\n",
              "      dtype='object')"
            ]
          },
          "metadata": {},
          "execution_count": 300
        }
      ]
    },
    {
      "cell_type": "code",
      "metadata": {
        "id": "MMQCCRLKF3TR"
      },
      "source": [
        "melb_df['SellerG'] = melb_df['SellerG'].apply(lambda x: x if x in most_pop_firms else 'other')"
      ],
      "execution_count": null,
      "outputs": []
    },
    {
      "cell_type": "code",
      "metadata": {
        "colab": {
          "base_uri": "https://localhost:8080/"
        },
        "id": "Ad2oteUhGVqt",
        "outputId": "6ea818be-6bb2-44ee-ce2d-e6d0451f3566"
      },
      "source": [
        "nelson_sum = melb_df[melb_df['SellerG'] == 'Nelson']['Price'].min()\n",
        "other_sum = melb_df[melb_df['SellerG'] == 'other']['Price'].min()\n",
        "nelson_sum/other_sum"
      ],
      "execution_count": null,
      "outputs": [
        {
          "output_type": "execute_result",
          "data": {
            "text/plain": [
              "1.297709923664122"
            ]
          },
          "metadata": {},
          "execution_count": 302
        }
      ]
    },
    {
      "cell_type": "code",
      "metadata": {
        "colab": {
          "base_uri": "https://localhost:8080/"
        },
        "id": "xd_qqVHzGuKf",
        "outputId": "50432914-0398-4315-aa0f-485655234e44"
      },
      "source": [
        "# 17.4\n",
        "import pandas as pd\n",
        "\n",
        "def get_experience(arg):\n",
        "    \"\"\"\n",
        "    Напишите функцию get_experience(arg), аргументом которой является строка столбца с опытом работы. \n",
        "    Функция должна возвращать опыт работы в месяцах. Не забудьте привести результат к целому числу.\n",
        "    \"\"\"\n",
        "    arg = arg.split()\n",
        "    if len(arg) == 6:\n",
        "        return int(arg[-4]) * 12 + int(arg[-2])\n",
        "    elif arg[-1].startswith('м'):\n",
        "        res = int(arg[-2])\n",
        "    elif arg[-1].startswith('л') or arg[-1].startswith('г'):\n",
        "        res = int(arg[-2]) * 12\n",
        "    return res\n",
        "        \n",
        "\n",
        "if __name__ == '__main__':\n",
        "    experience_col = pd.Series([\n",
        "        'Опыт работы 8 лет 3 месяца',\n",
        "        'Опыт работы 3 года 5 месяцев',\n",
        "        'Опыт работы 1 год 9 месяцев',\n",
        "        'Опыт работы 3 месяца',\n",
        "        'Опыт работы 6 лет'\n",
        "        ])\n",
        "    experience_month = experience_col.apply(get_experience)\n",
        "    print(experience_month)\n"
      ],
      "execution_count": null,
      "outputs": [
        {
          "output_type": "stream",
          "name": "stdout",
          "text": [
            "0    99\n",
            "1    41\n",
            "2    21\n",
            "3     3\n",
            "4    72\n",
            "dtype: int64\n"
          ]
        }
      ]
    },
    {
      "cell_type": "code",
      "metadata": {
        "colab": {
          "base_uri": "https://localhost:8080/",
          "height": 865
        },
        "id": "c3TRbXIGLqk7",
        "outputId": "63774ca1-54d9-446b-ba83-4e601c4cf7a5"
      },
      "source": [
        "# Категориальные данные\n",
        "\n",
        "# создаём пустой список\n",
        "unique_list = []\n",
        "# пробегаемся по именам столбцов в таблице\n",
        "for col in melb_df.columns:\n",
        "    # создаём кортеж (имя столбца, число уникальных значений)\n",
        "    item = (col, melb_df[col].nunique(),melb_df[col].dtype) \n",
        "    # добавляем кортеж в список\n",
        "    unique_list.append(item) \n",
        "# создаём вспомогательную таблицу и сортируем её\n",
        "unique_counts = pd.DataFrame(\n",
        "    unique_list,\n",
        "    columns=['Column_Name', 'Num_Unique', 'Type']\n",
        ").sort_values(by='Num_Unique',  ignore_index=True)\n",
        "# выводим её на экран\n",
        "display(unique_counts)"
      ],
      "execution_count": null,
      "outputs": [
        {
          "output_type": "display_data",
          "data": {
            "text/html": [
              "<div>\n",
              "<style scoped>\n",
              "    .dataframe tbody tr th:only-of-type {\n",
              "        vertical-align: middle;\n",
              "    }\n",
              "\n",
              "    .dataframe tbody tr th {\n",
              "        vertical-align: top;\n",
              "    }\n",
              "\n",
              "    .dataframe thead th {\n",
              "        text-align: right;\n",
              "    }\n",
              "</style>\n",
              "<table border=\"1\" class=\"dataframe\">\n",
              "  <thead>\n",
              "    <tr style=\"text-align: right;\">\n",
              "      <th></th>\n",
              "      <th>Column_Name</th>\n",
              "      <th>Num_Unique</th>\n",
              "      <th>Type</th>\n",
              "    </tr>\n",
              "  </thead>\n",
              "  <tbody>\n",
              "    <tr>\n",
              "      <th>0</th>\n",
              "      <td>Weekend</td>\n",
              "      <td>2</td>\n",
              "      <td>int64</td>\n",
              "    </tr>\n",
              "    <tr>\n",
              "      <th>1</th>\n",
              "      <td>Type</td>\n",
              "      <td>3</td>\n",
              "      <td>object</td>\n",
              "    </tr>\n",
              "    <tr>\n",
              "      <th>2</th>\n",
              "      <td>Method</td>\n",
              "      <td>5</td>\n",
              "      <td>object</td>\n",
              "    </tr>\n",
              "    <tr>\n",
              "      <th>3</th>\n",
              "      <td>WeekdaySale</td>\n",
              "      <td>7</td>\n",
              "      <td>int64</td>\n",
              "    </tr>\n",
              "    <tr>\n",
              "      <th>4</th>\n",
              "      <td>Regionname</td>\n",
              "      <td>8</td>\n",
              "      <td>object</td>\n",
              "    </tr>\n",
              "    <tr>\n",
              "      <th>5</th>\n",
              "      <td>Bathroom</td>\n",
              "      <td>9</td>\n",
              "      <td>int64</td>\n",
              "    </tr>\n",
              "    <tr>\n",
              "      <th>6</th>\n",
              "      <td>Rooms</td>\n",
              "      <td>9</td>\n",
              "      <td>int64</td>\n",
              "    </tr>\n",
              "    <tr>\n",
              "      <th>7</th>\n",
              "      <td>Car</td>\n",
              "      <td>11</td>\n",
              "      <td>int64</td>\n",
              "    </tr>\n",
              "    <tr>\n",
              "      <th>8</th>\n",
              "      <td>StreetType</td>\n",
              "      <td>11</td>\n",
              "      <td>object</td>\n",
              "    </tr>\n",
              "    <tr>\n",
              "      <th>9</th>\n",
              "      <td>Bedroom</td>\n",
              "      <td>12</td>\n",
              "      <td>int64</td>\n",
              "    </tr>\n",
              "    <tr>\n",
              "      <th>10</th>\n",
              "      <td>MonthSale</td>\n",
              "      <td>12</td>\n",
              "      <td>int64</td>\n",
              "    </tr>\n",
              "    <tr>\n",
              "      <th>11</th>\n",
              "      <td>CouncilArea</td>\n",
              "      <td>33</td>\n",
              "      <td>object</td>\n",
              "    </tr>\n",
              "    <tr>\n",
              "      <th>12</th>\n",
              "      <td>SellerG</td>\n",
              "      <td>50</td>\n",
              "      <td>object</td>\n",
              "    </tr>\n",
              "    <tr>\n",
              "      <th>13</th>\n",
              "      <td>Date</td>\n",
              "      <td>58</td>\n",
              "      <td>datetime64[ns]</td>\n",
              "    </tr>\n",
              "    <tr>\n",
              "      <th>14</th>\n",
              "      <td>AgeBuilding</td>\n",
              "      <td>152</td>\n",
              "      <td>int64</td>\n",
              "    </tr>\n",
              "    <tr>\n",
              "      <th>15</th>\n",
              "      <td>Postcode</td>\n",
              "      <td>198</td>\n",
              "      <td>int64</td>\n",
              "    </tr>\n",
              "    <tr>\n",
              "      <th>16</th>\n",
              "      <td>Distance</td>\n",
              "      <td>202</td>\n",
              "      <td>float64</td>\n",
              "    </tr>\n",
              "    <tr>\n",
              "      <th>17</th>\n",
              "      <td>Propertycount</td>\n",
              "      <td>311</td>\n",
              "      <td>int64</td>\n",
              "    </tr>\n",
              "    <tr>\n",
              "      <th>18</th>\n",
              "      <td>Suburb</td>\n",
              "      <td>314</td>\n",
              "      <td>object</td>\n",
              "    </tr>\n",
              "    <tr>\n",
              "      <th>19</th>\n",
              "      <td>BuildingArea</td>\n",
              "      <td>602</td>\n",
              "      <td>float64</td>\n",
              "    </tr>\n",
              "    <tr>\n",
              "      <th>20</th>\n",
              "      <td>MeanRoomsSquare</td>\n",
              "      <td>1277</td>\n",
              "      <td>float64</td>\n",
              "    </tr>\n",
              "    <tr>\n",
              "      <th>21</th>\n",
              "      <td>Landsize</td>\n",
              "      <td>1448</td>\n",
              "      <td>float64</td>\n",
              "    </tr>\n",
              "    <tr>\n",
              "      <th>22</th>\n",
              "      <td>Price</td>\n",
              "      <td>2204</td>\n",
              "      <td>float64</td>\n",
              "    </tr>\n",
              "    <tr>\n",
              "      <th>23</th>\n",
              "      <td>Lattitude</td>\n",
              "      <td>6503</td>\n",
              "      <td>float64</td>\n",
              "    </tr>\n",
              "    <tr>\n",
              "      <th>24</th>\n",
              "      <td>AreaRatio</td>\n",
              "      <td>6521</td>\n",
              "      <td>float64</td>\n",
              "    </tr>\n",
              "    <tr>\n",
              "      <th>25</th>\n",
              "      <td>Longtitude</td>\n",
              "      <td>7063</td>\n",
              "      <td>float64</td>\n",
              "    </tr>\n",
              "  </tbody>\n",
              "</table>\n",
              "</div>"
            ],
            "text/plain": [
              "        Column_Name  Num_Unique            Type\n",
              "0           Weekend           2           int64\n",
              "1              Type           3          object\n",
              "2            Method           5          object\n",
              "3       WeekdaySale           7           int64\n",
              "4        Regionname           8          object\n",
              "5          Bathroom           9           int64\n",
              "6             Rooms           9           int64\n",
              "7               Car          11           int64\n",
              "8        StreetType          11          object\n",
              "9           Bedroom          12           int64\n",
              "10        MonthSale          12           int64\n",
              "11      CouncilArea          33          object\n",
              "12          SellerG          50          object\n",
              "13             Date          58  datetime64[ns]\n",
              "14      AgeBuilding         152           int64\n",
              "15         Postcode         198           int64\n",
              "16         Distance         202         float64\n",
              "17    Propertycount         311           int64\n",
              "18           Suburb         314          object\n",
              "19     BuildingArea         602         float64\n",
              "20  MeanRoomsSquare        1277         float64\n",
              "21         Landsize        1448         float64\n",
              "22            Price        2204         float64\n",
              "23        Lattitude        6503         float64\n",
              "24        AreaRatio        6521         float64\n",
              "25       Longtitude        7063         float64"
            ]
          },
          "metadata": {}
        }
      ]
    },
    {
      "cell_type": "code",
      "metadata": {
        "colab": {
          "base_uri": "https://localhost:8080/",
          "height": 607
        },
        "id": "VW8wHPFXLuHk",
        "outputId": "fc20213b-71b5-47e7-9a03-51849707dbcf"
      },
      "source": [
        "display(melb_df.info())"
      ],
      "execution_count": null,
      "outputs": [
        {
          "output_type": "stream",
          "name": "stdout",
          "text": [
            "<class 'pandas.core.frame.DataFrame'>\n",
            "RangeIndex: 13580 entries, 0 to 13579\n",
            "Data columns (total 26 columns):\n",
            " #   Column           Non-Null Count  Dtype         \n",
            "---  ------           --------------  -----         \n",
            " 0   Suburb           13580 non-null  object        \n",
            " 1   Rooms            13580 non-null  int64         \n",
            " 2   Type             13580 non-null  object        \n",
            " 3   Price            13580 non-null  float64       \n",
            " 4   Method           13580 non-null  object        \n",
            " 5   SellerG          13580 non-null  object        \n",
            " 6   Date             13580 non-null  datetime64[ns]\n",
            " 7   Distance         13580 non-null  float64       \n",
            " 8   Postcode         13580 non-null  int64         \n",
            " 9   Bedroom          13580 non-null  int64         \n",
            " 10  Bathroom         13580 non-null  int64         \n",
            " 11  Car              13580 non-null  int64         \n",
            " 12  Landsize         13580 non-null  float64       \n",
            " 13  BuildingArea     13580 non-null  float64       \n",
            " 14  CouncilArea      12211 non-null  object        \n",
            " 15  Lattitude        13580 non-null  float64       \n",
            " 16  Longtitude       13580 non-null  float64       \n",
            " 17  Regionname       13580 non-null  object        \n",
            " 18  Propertycount    13580 non-null  int64         \n",
            " 19  MeanRoomsSquare  13580 non-null  float64       \n",
            " 20  AreaRatio        13580 non-null  float64       \n",
            " 21  MonthSale        13580 non-null  int64         \n",
            " 22  AgeBuilding      13580 non-null  int64         \n",
            " 23  WeekdaySale      13580 non-null  int64         \n",
            " 24  StreetType       13580 non-null  object        \n",
            " 25  Weekend          13580 non-null  int64         \n",
            "dtypes: datetime64[ns](1), float64(8), int64(10), object(7)\n",
            "memory usage: 2.7+ MB\n"
          ]
        },
        {
          "output_type": "display_data",
          "data": {
            "text/plain": [
              "None"
            ]
          },
          "metadata": {}
        }
      ]
    },
    {
      "cell_type": "code",
      "metadata": {
        "colab": {
          "base_uri": "https://localhost:8080/",
          "height": 607
        },
        "id": "Ox0PL0RBMfxg",
        "outputId": "5d0e896f-05d3-4342-8041-e5b19537e04c"
      },
      "source": [
        "cols_to_exclude = ['Date', 'Rooms', 'Bedroom', 'Bathroom', 'Car'] # список столбцов, которые мы не берём во внимание\n",
        "max_unique_count = 150 # задаём максимальное число уникальных категорий\n",
        "for col in melb_df.columns: # цикл по именам столбцов\n",
        "    if melb_df[col].nunique() < max_unique_count and col not in cols_to_exclude: # проверяем условие\n",
        "        melb_df[col] = melb_df[col].astype('category') # преобразуем тип столбца\n",
        "display(melb_df.info())"
      ],
      "execution_count": null,
      "outputs": [
        {
          "output_type": "stream",
          "name": "stdout",
          "text": [
            "<class 'pandas.core.frame.DataFrame'>\n",
            "RangeIndex: 13580 entries, 0 to 13579\n",
            "Data columns (total 26 columns):\n",
            " #   Column           Non-Null Count  Dtype         \n",
            "---  ------           --------------  -----         \n",
            " 0   Suburb           13580 non-null  object        \n",
            " 1   Rooms            13580 non-null  int64         \n",
            " 2   Type             13580 non-null  category      \n",
            " 3   Price            13580 non-null  float64       \n",
            " 4   Method           13580 non-null  category      \n",
            " 5   SellerG          13580 non-null  category      \n",
            " 6   Date             13580 non-null  datetime64[ns]\n",
            " 7   Distance         13580 non-null  float64       \n",
            " 8   Postcode         13580 non-null  int64         \n",
            " 9   Bedroom          13580 non-null  int64         \n",
            " 10  Bathroom         13580 non-null  int64         \n",
            " 11  Car              13580 non-null  int64         \n",
            " 12  Landsize         13580 non-null  float64       \n",
            " 13  BuildingArea     13580 non-null  float64       \n",
            " 14  CouncilArea      12211 non-null  category      \n",
            " 15  Lattitude        13580 non-null  float64       \n",
            " 16  Longtitude       13580 non-null  float64       \n",
            " 17  Regionname       13580 non-null  category      \n",
            " 18  Propertycount    13580 non-null  int64         \n",
            " 19  MeanRoomsSquare  13580 non-null  float64       \n",
            " 20  AreaRatio        13580 non-null  float64       \n",
            " 21  MonthSale        13580 non-null  category      \n",
            " 22  AgeBuilding      13580 non-null  int64         \n",
            " 23  WeekdaySale      13580 non-null  category      \n",
            " 24  StreetType       13580 non-null  category      \n",
            " 25  Weekend          13580 non-null  category      \n",
            "dtypes: category(9), datetime64[ns](1), float64(8), int64(7), object(1)\n",
            "memory usage: 1.9+ MB\n"
          ]
        },
        {
          "output_type": "display_data",
          "data": {
            "text/plain": [
              "None"
            ]
          },
          "metadata": {}
        }
      ]
    },
    {
      "cell_type": "code",
      "metadata": {
        "colab": {
          "base_uri": "https://localhost:8080/"
        },
        "id": "N29Uax4dMm-o",
        "outputId": "f17d6b82-3cba-4cea-df4e-b7d8e6d30853"
      },
      "source": [
        "print(melb_df['Regionname'].cat.categories)\n",
        "print(melb_df['Regionname'].cat.codes.unique())\n"
      ],
      "execution_count": null,
      "outputs": [
        {
          "output_type": "stream",
          "name": "stdout",
          "text": [
            "Index(['Eastern Metropolitan', 'Eastern Victoria', 'Northern Metropolitan',\n",
            "       'Northern Victoria', 'South-Eastern Metropolitan',\n",
            "       'Southern Metropolitan', 'Western Metropolitan', 'Western Victoria'],\n",
            "      dtype='object')\n",
            "[2 6 5 0 4 1 3 7]\n"
          ]
        }
      ]
    },
    {
      "cell_type": "code",
      "metadata": {
        "colab": {
          "base_uri": "https://localhost:8080/"
        },
        "id": "nW8tEqMoNqVG",
        "outputId": "1ea4a00f-8d27-42d3-89a6-b6fe90b96348"
      },
      "source": [
        "print(melb_df['Type'].cat.categories)"
      ],
      "execution_count": null,
      "outputs": [
        {
          "output_type": "stream",
          "name": "stdout",
          "text": [
            "Index(['h', 't', 'u'], dtype='object')\n"
          ]
        }
      ]
    },
    {
      "cell_type": "code",
      "metadata": {
        "colab": {
          "base_uri": "https://localhost:8080/",
          "height": 243
        },
        "id": "0HS_KhjDN8QT",
        "outputId": "b4546964-a170-4b50-cb88-606f5df2e64f"
      },
      "source": [
        "melb_df['Type'] = melb_df['Type'].cat.rename_categories({\n",
        "    'u': 'unit',\n",
        "    't': 'townhouse',\n",
        "    'h': 'house'\n",
        "})\n",
        "display(melb_df['Type'])"
      ],
      "execution_count": null,
      "outputs": [
        {
          "output_type": "display_data",
          "data": {
            "text/plain": [
              "0        house\n",
              "1        house\n",
              "2        house\n",
              "3        house\n",
              "4        house\n",
              "         ...  \n",
              "13575    house\n",
              "13576    house\n",
              "13577    house\n",
              "13578    house\n",
              "13579    house\n",
              "Name: Type, Length: 13580, dtype: category\n",
              "Categories (3, object): ['house', 'townhouse', 'unit']"
            ]
          },
          "metadata": {}
        }
      ]
    },
    {
      "cell_type": "code",
      "metadata": {
        "colab": {
          "base_uri": "https://localhost:8080/",
          "height": 139
        },
        "id": "utFIFksrQt3Y",
        "outputId": "ad7e70f7-a18a-4c72-c087-83e80ab12546"
      },
      "source": [
        "melb_df['Type'] = melb_df['Type'].cat.add_categories('flat')\n",
        "new_houses_types = pd.Series(['unit', 'house', 'flat', 'flat', 'house'])\n",
        "new_houses_types = new_houses_types.astype(melb_df['Type'].dtype)\n",
        "display(new_houses_types)"
      ],
      "execution_count": null,
      "outputs": [
        {
          "output_type": "display_data",
          "data": {
            "text/plain": [
              "0     unit\n",
              "1    house\n",
              "2     flat\n",
              "3     flat\n",
              "4    house\n",
              "dtype: category\n",
              "Categories (4, object): ['house', 'townhouse', 'unit', 'flat']"
            ]
          },
          "metadata": {}
        }
      ]
    },
    {
      "cell_type": "code",
      "metadata": {
        "colab": {
          "base_uri": "https://localhost:8080/"
        },
        "id": "Ns5Dk_k4RMtB",
        "outputId": "9baf3a67-c571-48fe-fa2c-fead7b8a9a63"
      },
      "source": [
        "melb_df.info()"
      ],
      "execution_count": null,
      "outputs": [
        {
          "output_type": "stream",
          "name": "stdout",
          "text": [
            "<class 'pandas.core.frame.DataFrame'>\n",
            "RangeIndex: 13580 entries, 0 to 13579\n",
            "Data columns (total 26 columns):\n",
            " #   Column           Non-Null Count  Dtype         \n",
            "---  ------           --------------  -----         \n",
            " 0   Suburb           13580 non-null  object        \n",
            " 1   Rooms            13580 non-null  int64         \n",
            " 2   Type             13580 non-null  category      \n",
            " 3   Price            13580 non-null  float64       \n",
            " 4   Method           13580 non-null  category      \n",
            " 5   SellerG          13580 non-null  category      \n",
            " 6   Date             13580 non-null  datetime64[ns]\n",
            " 7   Distance         13580 non-null  float64       \n",
            " 8   Postcode         13580 non-null  int64         \n",
            " 9   Bedroom          13580 non-null  int64         \n",
            " 10  Bathroom         13580 non-null  int64         \n",
            " 11  Car              13580 non-null  int64         \n",
            " 12  Landsize         13580 non-null  float64       \n",
            " 13  BuildingArea     13580 non-null  float64       \n",
            " 14  CouncilArea      12211 non-null  category      \n",
            " 15  Lattitude        13580 non-null  float64       \n",
            " 16  Longtitude       13580 non-null  float64       \n",
            " 17  Regionname       13580 non-null  category      \n",
            " 18  Propertycount    13580 non-null  int64         \n",
            " 19  MeanRoomsSquare  13580 non-null  float64       \n",
            " 20  AreaRatio        13580 non-null  float64       \n",
            " 21  MonthSale        13580 non-null  category      \n",
            " 22  AgeBuilding      13580 non-null  int64         \n",
            " 23  WeekdaySale      13580 non-null  category      \n",
            " 24  StreetType       13580 non-null  category      \n",
            " 25  Weekend          13580 non-null  category      \n",
            "dtypes: category(9), datetime64[ns](1), float64(8), int64(7), object(1)\n",
            "memory usage: 1.9+ MB\n"
          ]
        }
      ]
    },
    {
      "cell_type": "code",
      "metadata": {
        "id": "Zg-UcGkjR4VH"
      },
      "source": [
        "popular_suburbs = melb_df['Suburb'].value_counts().nlargest(119).index\n",
        "melb_df['Suburb'] = melb_df['Suburb'].apply(lambda x: x if x in popular_suburbs else 'other')\n"
      ],
      "execution_count": null,
      "outputs": []
    },
    {
      "cell_type": "code",
      "metadata": {
        "colab": {
          "base_uri": "https://localhost:8080/",
          "height": 607
        },
        "id": "c0ioYfQySw4r",
        "outputId": "578e6ae3-351c-4b36-c7ec-d049b993362e"
      },
      "source": [
        "display(melb_df.info())"
      ],
      "execution_count": null,
      "outputs": [
        {
          "output_type": "stream",
          "name": "stdout",
          "text": [
            "<class 'pandas.core.frame.DataFrame'>\n",
            "RangeIndex: 13580 entries, 0 to 13579\n",
            "Data columns (total 26 columns):\n",
            " #   Column           Non-Null Count  Dtype         \n",
            "---  ------           --------------  -----         \n",
            " 0   Suburb           13580 non-null  object        \n",
            " 1   Rooms            13580 non-null  int64         \n",
            " 2   Type             13580 non-null  category      \n",
            " 3   Price            13580 non-null  float64       \n",
            " 4   Method           13580 non-null  category      \n",
            " 5   SellerG          13580 non-null  category      \n",
            " 6   Date             13580 non-null  datetime64[ns]\n",
            " 7   Distance         13580 non-null  float64       \n",
            " 8   Postcode         13580 non-null  int64         \n",
            " 9   Bedroom          13580 non-null  int64         \n",
            " 10  Bathroom         13580 non-null  int64         \n",
            " 11  Car              13580 non-null  int64         \n",
            " 12  Landsize         13580 non-null  float64       \n",
            " 13  BuildingArea     13580 non-null  float64       \n",
            " 14  CouncilArea      12211 non-null  category      \n",
            " 15  Lattitude        13580 non-null  float64       \n",
            " 16  Longtitude       13580 non-null  float64       \n",
            " 17  Regionname       13580 non-null  category      \n",
            " 18  Propertycount    13580 non-null  int64         \n",
            " 19  MeanRoomsSquare  13580 non-null  float64       \n",
            " 20  AreaRatio        13580 non-null  float64       \n",
            " 21  MonthSale        13580 non-null  category      \n",
            " 22  AgeBuilding      13580 non-null  int64         \n",
            " 23  WeekdaySale      13580 non-null  category      \n",
            " 24  StreetType       13580 non-null  category      \n",
            " 25  Weekend          13580 non-null  category      \n",
            "dtypes: category(9), datetime64[ns](1), float64(8), int64(7), object(1)\n",
            "memory usage: 1.9+ MB\n"
          ]
        },
        {
          "output_type": "display_data",
          "data": {
            "text/plain": [
              "None"
            ]
          },
          "metadata": {}
        }
      ]
    },
    {
      "cell_type": "code",
      "metadata": {
        "colab": {
          "base_uri": "https://localhost:8080/",
          "height": 557
        },
        "id": "FwGcuNq9S9Rg",
        "outputId": "dbe478c5-152a-4ced-c3d1-6e52f254bf31"
      },
      "source": [
        "melb_df.head(10)"
      ],
      "execution_count": null,
      "outputs": [
        {
          "output_type": "execute_result",
          "data": {
            "text/html": [
              "<div>\n",
              "<style scoped>\n",
              "    .dataframe tbody tr th:only-of-type {\n",
              "        vertical-align: middle;\n",
              "    }\n",
              "\n",
              "    .dataframe tbody tr th {\n",
              "        vertical-align: top;\n",
              "    }\n",
              "\n",
              "    .dataframe thead th {\n",
              "        text-align: right;\n",
              "    }\n",
              "</style>\n",
              "<table border=\"1\" class=\"dataframe\">\n",
              "  <thead>\n",
              "    <tr style=\"text-align: right;\">\n",
              "      <th></th>\n",
              "      <th>Suburb</th>\n",
              "      <th>Rooms</th>\n",
              "      <th>Type</th>\n",
              "      <th>Price</th>\n",
              "      <th>Method</th>\n",
              "      <th>SellerG</th>\n",
              "      <th>Date</th>\n",
              "      <th>Distance</th>\n",
              "      <th>Postcode</th>\n",
              "      <th>Bedroom</th>\n",
              "      <th>Bathroom</th>\n",
              "      <th>Car</th>\n",
              "      <th>Landsize</th>\n",
              "      <th>BuildingArea</th>\n",
              "      <th>CouncilArea</th>\n",
              "      <th>Lattitude</th>\n",
              "      <th>Longtitude</th>\n",
              "      <th>Regionname</th>\n",
              "      <th>Propertycount</th>\n",
              "      <th>MeanRoomsSquare</th>\n",
              "      <th>AreaRatio</th>\n",
              "      <th>MonthSale</th>\n",
              "      <th>AgeBuilding</th>\n",
              "      <th>WeekdaySale</th>\n",
              "      <th>StreetType</th>\n",
              "      <th>Weekend</th>\n",
              "    </tr>\n",
              "  </thead>\n",
              "  <tbody>\n",
              "    <tr>\n",
              "      <th>0</th>\n",
              "      <td>Abbotsford</td>\n",
              "      <td>2</td>\n",
              "      <td>house</td>\n",
              "      <td>1480000.0</td>\n",
              "      <td>S</td>\n",
              "      <td>Biggin</td>\n",
              "      <td>2016-03-12</td>\n",
              "      <td>2.5</td>\n",
              "      <td>3067</td>\n",
              "      <td>2</td>\n",
              "      <td>1</td>\n",
              "      <td>1</td>\n",
              "      <td>202.0</td>\n",
              "      <td>126.0</td>\n",
              "      <td>Yarra</td>\n",
              "      <td>-37.7996</td>\n",
              "      <td>144.9984</td>\n",
              "      <td>Northern Metropolitan</td>\n",
              "      <td>4019</td>\n",
              "      <td>25.200000</td>\n",
              "      <td>-0.231707</td>\n",
              "      <td>3</td>\n",
              "      <td>46</td>\n",
              "      <td>5</td>\n",
              "      <td>St</td>\n",
              "      <td>1</td>\n",
              "    </tr>\n",
              "    <tr>\n",
              "      <th>1</th>\n",
              "      <td>Abbotsford</td>\n",
              "      <td>2</td>\n",
              "      <td>house</td>\n",
              "      <td>1035000.0</td>\n",
              "      <td>S</td>\n",
              "      <td>Biggin</td>\n",
              "      <td>2016-04-02</td>\n",
              "      <td>2.5</td>\n",
              "      <td>3067</td>\n",
              "      <td>2</td>\n",
              "      <td>1</td>\n",
              "      <td>0</td>\n",
              "      <td>156.0</td>\n",
              "      <td>79.0</td>\n",
              "      <td>Yarra</td>\n",
              "      <td>-37.8079</td>\n",
              "      <td>144.9934</td>\n",
              "      <td>Northern Metropolitan</td>\n",
              "      <td>4019</td>\n",
              "      <td>15.800000</td>\n",
              "      <td>-0.327660</td>\n",
              "      <td>4</td>\n",
              "      <td>116</td>\n",
              "      <td>5</td>\n",
              "      <td>St</td>\n",
              "      <td>1</td>\n",
              "    </tr>\n",
              "    <tr>\n",
              "      <th>2</th>\n",
              "      <td>Abbotsford</td>\n",
              "      <td>3</td>\n",
              "      <td>house</td>\n",
              "      <td>1465000.0</td>\n",
              "      <td>SP</td>\n",
              "      <td>Biggin</td>\n",
              "      <td>2017-04-03</td>\n",
              "      <td>2.5</td>\n",
              "      <td>3067</td>\n",
              "      <td>3</td>\n",
              "      <td>2</td>\n",
              "      <td>0</td>\n",
              "      <td>134.0</td>\n",
              "      <td>150.0</td>\n",
              "      <td>Yarra</td>\n",
              "      <td>-37.8093</td>\n",
              "      <td>144.9944</td>\n",
              "      <td>Northern Metropolitan</td>\n",
              "      <td>4019</td>\n",
              "      <td>18.750000</td>\n",
              "      <td>0.056338</td>\n",
              "      <td>4</td>\n",
              "      <td>117</td>\n",
              "      <td>0</td>\n",
              "      <td>St</td>\n",
              "      <td>0</td>\n",
              "    </tr>\n",
              "    <tr>\n",
              "      <th>3</th>\n",
              "      <td>Abbotsford</td>\n",
              "      <td>3</td>\n",
              "      <td>house</td>\n",
              "      <td>850000.0</td>\n",
              "      <td>PI</td>\n",
              "      <td>Biggin</td>\n",
              "      <td>2017-04-03</td>\n",
              "      <td>2.5</td>\n",
              "      <td>3067</td>\n",
              "      <td>3</td>\n",
              "      <td>2</td>\n",
              "      <td>1</td>\n",
              "      <td>94.0</td>\n",
              "      <td>126.0</td>\n",
              "      <td>Yarra</td>\n",
              "      <td>-37.7969</td>\n",
              "      <td>144.9969</td>\n",
              "      <td>Northern Metropolitan</td>\n",
              "      <td>4019</td>\n",
              "      <td>15.750000</td>\n",
              "      <td>0.145455</td>\n",
              "      <td>4</td>\n",
              "      <td>47</td>\n",
              "      <td>0</td>\n",
              "      <td>other</td>\n",
              "      <td>0</td>\n",
              "    </tr>\n",
              "    <tr>\n",
              "      <th>4</th>\n",
              "      <td>Abbotsford</td>\n",
              "      <td>4</td>\n",
              "      <td>house</td>\n",
              "      <td>1600000.0</td>\n",
              "      <td>VB</td>\n",
              "      <td>Nelson</td>\n",
              "      <td>2016-04-06</td>\n",
              "      <td>2.5</td>\n",
              "      <td>3067</td>\n",
              "      <td>3</td>\n",
              "      <td>1</td>\n",
              "      <td>2</td>\n",
              "      <td>120.0</td>\n",
              "      <td>142.0</td>\n",
              "      <td>Yarra</td>\n",
              "      <td>-37.8072</td>\n",
              "      <td>144.9941</td>\n",
              "      <td>Northern Metropolitan</td>\n",
              "      <td>4019</td>\n",
              "      <td>17.750000</td>\n",
              "      <td>0.083969</td>\n",
              "      <td>4</td>\n",
              "      <td>2</td>\n",
              "      <td>2</td>\n",
              "      <td>St</td>\n",
              "      <td>0</td>\n",
              "    </tr>\n",
              "    <tr>\n",
              "      <th>5</th>\n",
              "      <td>Abbotsford</td>\n",
              "      <td>2</td>\n",
              "      <td>house</td>\n",
              "      <td>941000.0</td>\n",
              "      <td>S</td>\n",
              "      <td>Jellis</td>\n",
              "      <td>2016-07-05</td>\n",
              "      <td>2.5</td>\n",
              "      <td>3067</td>\n",
              "      <td>2</td>\n",
              "      <td>1</td>\n",
              "      <td>0</td>\n",
              "      <td>181.0</td>\n",
              "      <td>126.0</td>\n",
              "      <td>Yarra</td>\n",
              "      <td>-37.8041</td>\n",
              "      <td>144.9953</td>\n",
              "      <td>Northern Metropolitan</td>\n",
              "      <td>4019</td>\n",
              "      <td>25.200000</td>\n",
              "      <td>-0.179153</td>\n",
              "      <td>7</td>\n",
              "      <td>46</td>\n",
              "      <td>1</td>\n",
              "      <td>St</td>\n",
              "      <td>0</td>\n",
              "    </tr>\n",
              "    <tr>\n",
              "      <th>6</th>\n",
              "      <td>Abbotsford</td>\n",
              "      <td>3</td>\n",
              "      <td>house</td>\n",
              "      <td>1876000.0</td>\n",
              "      <td>S</td>\n",
              "      <td>Nelson</td>\n",
              "      <td>2016-07-05</td>\n",
              "      <td>2.5</td>\n",
              "      <td>3067</td>\n",
              "      <td>4</td>\n",
              "      <td>2</td>\n",
              "      <td>0</td>\n",
              "      <td>245.0</td>\n",
              "      <td>210.0</td>\n",
              "      <td>Yarra</td>\n",
              "      <td>-37.8024</td>\n",
              "      <td>144.9993</td>\n",
              "      <td>Northern Metropolitan</td>\n",
              "      <td>4019</td>\n",
              "      <td>23.333333</td>\n",
              "      <td>-0.076923</td>\n",
              "      <td>7</td>\n",
              "      <td>106</td>\n",
              "      <td>1</td>\n",
              "      <td>St</td>\n",
              "      <td>0</td>\n",
              "    </tr>\n",
              "    <tr>\n",
              "      <th>7</th>\n",
              "      <td>Abbotsford</td>\n",
              "      <td>2</td>\n",
              "      <td>house</td>\n",
              "      <td>1636000.0</td>\n",
              "      <td>S</td>\n",
              "      <td>Nelson</td>\n",
              "      <td>2016-08-10</td>\n",
              "      <td>2.5</td>\n",
              "      <td>3067</td>\n",
              "      <td>2</td>\n",
              "      <td>1</td>\n",
              "      <td>2</td>\n",
              "      <td>256.0</td>\n",
              "      <td>107.0</td>\n",
              "      <td>Yarra</td>\n",
              "      <td>-37.8060</td>\n",
              "      <td>144.9954</td>\n",
              "      <td>Northern Metropolitan</td>\n",
              "      <td>4019</td>\n",
              "      <td>21.400000</td>\n",
              "      <td>-0.410468</td>\n",
              "      <td>8</td>\n",
              "      <td>126</td>\n",
              "      <td>2</td>\n",
              "      <td>St</td>\n",
              "      <td>0</td>\n",
              "    </tr>\n",
              "    <tr>\n",
              "      <th>8</th>\n",
              "      <td>Abbotsford</td>\n",
              "      <td>1</td>\n",
              "      <td>unit</td>\n",
              "      <td>300000.0</td>\n",
              "      <td>S</td>\n",
              "      <td>Biggin</td>\n",
              "      <td>2016-08-10</td>\n",
              "      <td>2.5</td>\n",
              "      <td>3067</td>\n",
              "      <td>1</td>\n",
              "      <td>1</td>\n",
              "      <td>1</td>\n",
              "      <td>0.0</td>\n",
              "      <td>126.0</td>\n",
              "      <td>Yarra</td>\n",
              "      <td>-37.8008</td>\n",
              "      <td>144.9973</td>\n",
              "      <td>Northern Metropolitan</td>\n",
              "      <td>4019</td>\n",
              "      <td>42.000000</td>\n",
              "      <td>1.000000</td>\n",
              "      <td>8</td>\n",
              "      <td>46</td>\n",
              "      <td>2</td>\n",
              "      <td>St</td>\n",
              "      <td>0</td>\n",
              "    </tr>\n",
              "    <tr>\n",
              "      <th>9</th>\n",
              "      <td>Abbotsford</td>\n",
              "      <td>2</td>\n",
              "      <td>house</td>\n",
              "      <td>1097000.0</td>\n",
              "      <td>S</td>\n",
              "      <td>Biggin</td>\n",
              "      <td>2016-08-10</td>\n",
              "      <td>2.5</td>\n",
              "      <td>3067</td>\n",
              "      <td>3</td>\n",
              "      <td>1</td>\n",
              "      <td>2</td>\n",
              "      <td>220.0</td>\n",
              "      <td>75.0</td>\n",
              "      <td>Yarra</td>\n",
              "      <td>-37.8010</td>\n",
              "      <td>144.9989</td>\n",
              "      <td>Northern Metropolitan</td>\n",
              "      <td>4019</td>\n",
              "      <td>12.500000</td>\n",
              "      <td>-0.491525</td>\n",
              "      <td>8</td>\n",
              "      <td>116</td>\n",
              "      <td>2</td>\n",
              "      <td>St</td>\n",
              "      <td>0</td>\n",
              "    </tr>\n",
              "  </tbody>\n",
              "</table>\n",
              "</div>"
            ],
            "text/plain": [
              "       Suburb  Rooms   Type  ...  WeekdaySale StreetType Weekend\n",
              "0  Abbotsford      2  house  ...            5         St       1\n",
              "1  Abbotsford      2  house  ...            5         St       1\n",
              "2  Abbotsford      3  house  ...            0         St       0\n",
              "3  Abbotsford      3  house  ...            0      other       0\n",
              "4  Abbotsford      4  house  ...            2         St       0\n",
              "5  Abbotsford      2  house  ...            1         St       0\n",
              "6  Abbotsford      3  house  ...            1         St       0\n",
              "7  Abbotsford      2  house  ...            2         St       0\n",
              "8  Abbotsford      1   unit  ...            2         St       0\n",
              "9  Abbotsford      2  house  ...            2         St       0\n",
              "\n",
              "[10 rows x 26 columns]"
            ]
          },
          "metadata": {},
          "execution_count": 314
        }
      ]
    },
    {
      "cell_type": "code",
      "metadata": {
        "colab": {
          "base_uri": "https://localhost:8080/"
        },
        "id": "gXE85SlRTBVp",
        "outputId": "2636f728-c6ee-449b-e6b5-01cc15129d6f"
      },
      "source": [
        "'other' in melb_df['Suburb'].unique()"
      ],
      "execution_count": null,
      "outputs": [
        {
          "output_type": "execute_result",
          "data": {
            "text/plain": [
              "True"
            ]
          },
          "metadata": {},
          "execution_count": 315
        }
      ]
    },
    {
      "cell_type": "code",
      "metadata": {
        "colab": {
          "base_uri": "https://localhost:8080/"
        },
        "id": "Dz6iMX4pTI6U",
        "outputId": "ba475825-8d21-4f56-acee-f25633bf67f7"
      },
      "source": [
        "melb_df['Suburb'] = melb_df['Suburb'].astype('category')\n",
        "melb_df.info()"
      ],
      "execution_count": null,
      "outputs": [
        {
          "output_type": "stream",
          "name": "stdout",
          "text": [
            "<class 'pandas.core.frame.DataFrame'>\n",
            "RangeIndex: 13580 entries, 0 to 13579\n",
            "Data columns (total 26 columns):\n",
            " #   Column           Non-Null Count  Dtype         \n",
            "---  ------           --------------  -----         \n",
            " 0   Suburb           13580 non-null  category      \n",
            " 1   Rooms            13580 non-null  int64         \n",
            " 2   Type             13580 non-null  category      \n",
            " 3   Price            13580 non-null  float64       \n",
            " 4   Method           13580 non-null  category      \n",
            " 5   SellerG          13580 non-null  category      \n",
            " 6   Date             13580 non-null  datetime64[ns]\n",
            " 7   Distance         13580 non-null  float64       \n",
            " 8   Postcode         13580 non-null  int64         \n",
            " 9   Bedroom          13580 non-null  int64         \n",
            " 10  Bathroom         13580 non-null  int64         \n",
            " 11  Car              13580 non-null  int64         \n",
            " 12  Landsize         13580 non-null  float64       \n",
            " 13  BuildingArea     13580 non-null  float64       \n",
            " 14  CouncilArea      12211 non-null  category      \n",
            " 15  Lattitude        13580 non-null  float64       \n",
            " 16  Longtitude       13580 non-null  float64       \n",
            " 17  Regionname       13580 non-null  category      \n",
            " 18  Propertycount    13580 non-null  int64         \n",
            " 19  MeanRoomsSquare  13580 non-null  float64       \n",
            " 20  AreaRatio        13580 non-null  float64       \n",
            " 21  MonthSale        13580 non-null  category      \n",
            " 22  AgeBuilding      13580 non-null  int64         \n",
            " 23  WeekdaySale      13580 non-null  category      \n",
            " 24  StreetType       13580 non-null  category      \n",
            " 25  Weekend          13580 non-null  category      \n",
            "dtypes: category(10), datetime64[ns](1), float64(8), int64(7)\n",
            "memory usage: 1.8 MB\n"
          ]
        }
      ]
    },
    {
      "cell_type": "code",
      "metadata": {
        "colab": {
          "base_uri": "https://localhost:8080/",
          "height": 238
        },
        "id": "BAjb-w2wTtWr",
        "outputId": "9329ac2f-1f22-4324-bb42-9b5ddc64d603"
      },
      "source": [
        "mask1 = melb_df['AreaRatio'] < -0.8\n",
        "mask2 = melb_df['Type'] == 'townhouse'\n",
        "mask3 = melb_df['SellerG'] == 'McGrath'\n",
        "melb_df[mask1 & mask2 & mask3].sort_values(\n",
        "    by=['Date', 'AreaRatio'],\n",
        "    ascending=[True, False],\n",
        "    ignore_index=True\n",
        ").loc[:, ['Date', 'AreaRatio']]"
      ],
      "execution_count": null,
      "outputs": [
        {
          "output_type": "execute_result",
          "data": {
            "text/html": [
              "<div>\n",
              "<style scoped>\n",
              "    .dataframe tbody tr th:only-of-type {\n",
              "        vertical-align: middle;\n",
              "    }\n",
              "\n",
              "    .dataframe tbody tr th {\n",
              "        vertical-align: top;\n",
              "    }\n",
              "\n",
              "    .dataframe thead th {\n",
              "        text-align: right;\n",
              "    }\n",
              "</style>\n",
              "<table border=\"1\" class=\"dataframe\">\n",
              "  <thead>\n",
              "    <tr style=\"text-align: right;\">\n",
              "      <th></th>\n",
              "      <th>Date</th>\n",
              "      <th>AreaRatio</th>\n",
              "    </tr>\n",
              "  </thead>\n",
              "  <tbody>\n",
              "    <tr>\n",
              "      <th>0</th>\n",
              "      <td>2016-07-26</td>\n",
              "      <td>-0.974922</td>\n",
              "    </tr>\n",
              "    <tr>\n",
              "      <th>1</th>\n",
              "      <td>2016-09-24</td>\n",
              "      <td>-0.971831</td>\n",
              "    </tr>\n",
              "    <tr>\n",
              "      <th>2</th>\n",
              "      <td>2016-11-27</td>\n",
              "      <td>-0.953608</td>\n",
              "    </tr>\n",
              "    <tr>\n",
              "      <th>3</th>\n",
              "      <td>2016-12-11</td>\n",
              "      <td>-0.945946</td>\n",
              "    </tr>\n",
              "    <tr>\n",
              "      <th>4</th>\n",
              "      <td>2017-08-04</td>\n",
              "      <td>-0.947368</td>\n",
              "    </tr>\n",
              "    <tr>\n",
              "      <th>5</th>\n",
              "      <td>2017-08-04</td>\n",
              "      <td>-0.970874</td>\n",
              "    </tr>\n",
              "  </tbody>\n",
              "</table>\n",
              "</div>"
            ],
            "text/plain": [
              "        Date  AreaRatio\n",
              "0 2016-07-26  -0.974922\n",
              "1 2016-09-24  -0.971831\n",
              "2 2016-11-27  -0.953608\n",
              "3 2016-12-11  -0.945946\n",
              "4 2017-08-04  -0.947368\n",
              "5 2017-08-04  -0.970874"
            ]
          },
          "metadata": {},
          "execution_count": 317
        }
      ]
    },
    {
      "cell_type": "code",
      "metadata": {
        "colab": {
          "base_uri": "https://localhost:8080/"
        },
        "id": "VjcmHs8OyU34",
        "outputId": "b77af43d-db69-48ef-db7f-147a3d208e67"
      },
      "source": [
        "# Задание 19.2\n",
        "\n",
        "# Произведите сортировку столбца AreaRatio по убыванию. При этом индексы полученной таблицы \n",
        "# замените на новые. Какое значение площади здания находится в строке 1558? \n",
        "# Ответ округлите до целого числа.\n",
        "melb_df.sort_values(by=['AreaRatio'], ascending=False, ignore_index=True)['BuildingArea'].loc[1558]"
      ],
      "execution_count": null,
      "outputs": [
        {
          "output_type": "execute_result",
          "data": {
            "text/plain": [
              "126.0"
            ]
          },
          "metadata": {},
          "execution_count": 318
        }
      ]
    },
    {
      "cell_type": "code",
      "metadata": {
        "colab": {
          "base_uri": "https://localhost:8080/"
        },
        "id": "BJpCrGZdzjIL",
        "outputId": "33d57c46-59d5-4091-a98c-c217fb42c004"
      },
      "source": [
        "# Задание 19.3\n",
        "\n",
        "# Найдите таунхаусы (Type) с количеством жилых комнат (Rooms) больше 2. \n",
        "# Отсортируйте полученную таблицу сначала по возрастанию числа комнат, \n",
        "# а затем по убыванию средней площади комнат (MeanRoomsSquare). \n",
        "# Индексы таблицы замените на новые. Какая цена будет у объекта в строке 18? \n",
        "# Ответ запишите в виде целого числа.\n",
        "\n",
        "type_mask = melb_df['Type'] == 'townhouse'\n",
        "rooms_mask = melb_df['Rooms'] > 2\n",
        "\n",
        "melb_df[type_mask & rooms_mask].sort_values(by=['Rooms', 'MeanRoomsSquare'],\n",
        "                                            ascending=[True, False],\n",
        "                                            ignore_index=True\n",
        "                                            )['Price'].loc[18]"
      ],
      "execution_count": null,
      "outputs": [
        {
          "output_type": "execute_result",
          "data": {
            "text/plain": [
              "1300000.0"
            ]
          },
          "metadata": {},
          "execution_count": 319
        }
      ]
    },
    {
      "cell_type": "code",
      "metadata": {
        "colab": {
          "base_uri": "https://localhost:8080/",
          "height": 457
        },
        "id": "HfDd5m_N1BTi",
        "outputId": "26ed912f-80f9-46b9-a184-68effe37b3fe"
      },
      "source": [
        "melb_df.groupby('MonthSale')['Price'].agg('describe')"
      ],
      "execution_count": null,
      "outputs": [
        {
          "output_type": "execute_result",
          "data": {
            "text/html": [
              "<div>\n",
              "<style scoped>\n",
              "    .dataframe tbody tr th:only-of-type {\n",
              "        vertical-align: middle;\n",
              "    }\n",
              "\n",
              "    .dataframe tbody tr th {\n",
              "        vertical-align: top;\n",
              "    }\n",
              "\n",
              "    .dataframe thead th {\n",
              "        text-align: right;\n",
              "    }\n",
              "</style>\n",
              "<table border=\"1\" class=\"dataframe\">\n",
              "  <thead>\n",
              "    <tr style=\"text-align: right;\">\n",
              "      <th></th>\n",
              "      <th>count</th>\n",
              "      <th>mean</th>\n",
              "      <th>std</th>\n",
              "      <th>min</th>\n",
              "      <th>25%</th>\n",
              "      <th>50%</th>\n",
              "      <th>75%</th>\n",
              "      <th>max</th>\n",
              "    </tr>\n",
              "    <tr>\n",
              "      <th>MonthSale</th>\n",
              "      <th></th>\n",
              "      <th></th>\n",
              "      <th></th>\n",
              "      <th></th>\n",
              "      <th></th>\n",
              "      <th></th>\n",
              "      <th></th>\n",
              "      <th></th>\n",
              "    </tr>\n",
              "  </thead>\n",
              "  <tbody>\n",
              "    <tr>\n",
              "      <th>1</th>\n",
              "      <td>278.0</td>\n",
              "      <td>9.397921e+05</td>\n",
              "      <td>577668.924214</td>\n",
              "      <td>170000.0</td>\n",
              "      <td>570500.0</td>\n",
              "      <td>795000.0</td>\n",
              "      <td>1111250.0</td>\n",
              "      <td>5200000.0</td>\n",
              "    </tr>\n",
              "    <tr>\n",
              "      <th>2</th>\n",
              "      <td>333.0</td>\n",
              "      <td>1.169051e+06</td>\n",
              "      <td>671564.357417</td>\n",
              "      <td>131000.0</td>\n",
              "      <td>710000.0</td>\n",
              "      <td>1020000.0</td>\n",
              "      <td>1478000.0</td>\n",
              "      <td>4735000.0</td>\n",
              "    </tr>\n",
              "    <tr>\n",
              "      <th>3</th>\n",
              "      <td>1408.0</td>\n",
              "      <td>1.146762e+06</td>\n",
              "      <td>709573.596867</td>\n",
              "      <td>85000.0</td>\n",
              "      <td>680000.0</td>\n",
              "      <td>945000.0</td>\n",
              "      <td>1400000.0</td>\n",
              "      <td>5600000.0</td>\n",
              "    </tr>\n",
              "    <tr>\n",
              "      <th>4</th>\n",
              "      <td>1246.0</td>\n",
              "      <td>1.050479e+06</td>\n",
              "      <td>591892.902979</td>\n",
              "      <td>145000.0</td>\n",
              "      <td>655000.0</td>\n",
              "      <td>905500.0</td>\n",
              "      <td>1298750.0</td>\n",
              "      <td>5500000.0</td>\n",
              "    </tr>\n",
              "    <tr>\n",
              "      <th>5</th>\n",
              "      <td>1644.0</td>\n",
              "      <td>1.097807e+06</td>\n",
              "      <td>668492.867996</td>\n",
              "      <td>145000.0</td>\n",
              "      <td>650000.0</td>\n",
              "      <td>905000.0</td>\n",
              "      <td>1371250.0</td>\n",
              "      <td>8000000.0</td>\n",
              "    </tr>\n",
              "    <tr>\n",
              "      <th>6</th>\n",
              "      <td>1469.0</td>\n",
              "      <td>1.068981e+06</td>\n",
              "      <td>606010.069052</td>\n",
              "      <td>222000.0</td>\n",
              "      <td>660000.0</td>\n",
              "      <td>900000.0</td>\n",
              "      <td>1325000.0</td>\n",
              "      <td>7650000.0</td>\n",
              "    </tr>\n",
              "    <tr>\n",
              "      <th>7</th>\n",
              "      <td>1835.0</td>\n",
              "      <td>9.314698e+05</td>\n",
              "      <td>537390.803161</td>\n",
              "      <td>190000.0</td>\n",
              "      <td>586750.0</td>\n",
              "      <td>800000.0</td>\n",
              "      <td>1150000.0</td>\n",
              "      <td>9000000.0</td>\n",
              "    </tr>\n",
              "    <tr>\n",
              "      <th>8</th>\n",
              "      <td>1850.0</td>\n",
              "      <td>1.056371e+06</td>\n",
              "      <td>619617.476541</td>\n",
              "      <td>160000.0</td>\n",
              "      <td>635000.0</td>\n",
              "      <td>892000.0</td>\n",
              "      <td>1310000.0</td>\n",
              "      <td>6500000.0</td>\n",
              "    </tr>\n",
              "    <tr>\n",
              "      <th>9</th>\n",
              "      <td>1188.0</td>\n",
              "      <td>1.126349e+06</td>\n",
              "      <td>608734.690742</td>\n",
              "      <td>170000.0</td>\n",
              "      <td>725000.0</td>\n",
              "      <td>980000.0</td>\n",
              "      <td>1360000.0</td>\n",
              "      <td>6400000.0</td>\n",
              "    </tr>\n",
              "    <tr>\n",
              "      <th>10</th>\n",
              "      <td>854.0</td>\n",
              "      <td>1.135970e+06</td>\n",
              "      <td>692950.251627</td>\n",
              "      <td>250000.0</td>\n",
              "      <td>652625.0</td>\n",
              "      <td>950000.0</td>\n",
              "      <td>1416500.0</td>\n",
              "      <td>6250000.0</td>\n",
              "    </tr>\n",
              "    <tr>\n",
              "      <th>11</th>\n",
              "      <td>750.0</td>\n",
              "      <td>1.142503e+06</td>\n",
              "      <td>703666.227892</td>\n",
              "      <td>240000.0</td>\n",
              "      <td>671750.0</td>\n",
              "      <td>950000.0</td>\n",
              "      <td>1399125.0</td>\n",
              "      <td>5050000.0</td>\n",
              "    </tr>\n",
              "    <tr>\n",
              "      <th>12</th>\n",
              "      <td>725.0</td>\n",
              "      <td>1.144737e+06</td>\n",
              "      <td>706549.007161</td>\n",
              "      <td>250000.0</td>\n",
              "      <td>667500.0</td>\n",
              "      <td>938000.0</td>\n",
              "      <td>1412000.0</td>\n",
              "      <td>5700000.0</td>\n",
              "    </tr>\n",
              "  </tbody>\n",
              "</table>\n",
              "</div>"
            ],
            "text/plain": [
              "            count          mean            std  ...        50%        75%        max\n",
              "MonthSale                                       ...                                 \n",
              "1           278.0  9.397921e+05  577668.924214  ...   795000.0  1111250.0  5200000.0\n",
              "2           333.0  1.169051e+06  671564.357417  ...  1020000.0  1478000.0  4735000.0\n",
              "3          1408.0  1.146762e+06  709573.596867  ...   945000.0  1400000.0  5600000.0\n",
              "4          1246.0  1.050479e+06  591892.902979  ...   905500.0  1298750.0  5500000.0\n",
              "5          1644.0  1.097807e+06  668492.867996  ...   905000.0  1371250.0  8000000.0\n",
              "6          1469.0  1.068981e+06  606010.069052  ...   900000.0  1325000.0  7650000.0\n",
              "7          1835.0  9.314698e+05  537390.803161  ...   800000.0  1150000.0  9000000.0\n",
              "8          1850.0  1.056371e+06  619617.476541  ...   892000.0  1310000.0  6500000.0\n",
              "9          1188.0  1.126349e+06  608734.690742  ...   980000.0  1360000.0  6400000.0\n",
              "10          854.0  1.135970e+06  692950.251627  ...   950000.0  1416500.0  6250000.0\n",
              "11          750.0  1.142503e+06  703666.227892  ...   950000.0  1399125.0  5050000.0\n",
              "12          725.0  1.144737e+06  706549.007161  ...   938000.0  1412000.0  5700000.0\n",
              "\n",
              "[12 rows x 8 columns]"
            ]
          },
          "metadata": {},
          "execution_count": 320
        }
      ]
    },
    {
      "cell_type": "code",
      "metadata": {
        "colab": {
          "base_uri": "https://localhost:8080/",
          "height": 332
        },
        "id": "FG77SHIb6mXz",
        "outputId": "1d39b489-4e38-4483-d2af-e1af6fd825cc"
      },
      "source": [
        "melb_df.groupby('Regionname')['SellerG'].agg(\n",
        "    \t\t['nunique', set]\n",
        ")"
      ],
      "execution_count": null,
      "outputs": [
        {
          "output_type": "execute_result",
          "data": {
            "text/html": [
              "<div>\n",
              "<style scoped>\n",
              "    .dataframe tbody tr th:only-of-type {\n",
              "        vertical-align: middle;\n",
              "    }\n",
              "\n",
              "    .dataframe tbody tr th {\n",
              "        vertical-align: top;\n",
              "    }\n",
              "\n",
              "    .dataframe thead th {\n",
              "        text-align: right;\n",
              "    }\n",
              "</style>\n",
              "<table border=\"1\" class=\"dataframe\">\n",
              "  <thead>\n",
              "    <tr style=\"text-align: right;\">\n",
              "      <th></th>\n",
              "      <th>nunique</th>\n",
              "      <th>set</th>\n",
              "    </tr>\n",
              "    <tr>\n",
              "      <th>Regionname</th>\n",
              "      <th></th>\n",
              "      <th></th>\n",
              "    </tr>\n",
              "  </thead>\n",
              "  <tbody>\n",
              "    <tr>\n",
              "      <th>Eastern Metropolitan</th>\n",
              "      <td>26</td>\n",
              "      <td>{Biggin, HAR, Woodards, Kay, Ray, Purplebricks...</td>\n",
              "    </tr>\n",
              "    <tr>\n",
              "      <th>Eastern Victoria</th>\n",
              "      <td>11</td>\n",
              "      <td>{Barry, HAR, other, Fletchers, McGrath, Ray, H...</td>\n",
              "    </tr>\n",
              "    <tr>\n",
              "      <th>Northern Metropolitan</th>\n",
              "      <td>40</td>\n",
              "      <td>{Biggin, HAR, Woodards, YPA, Kay, Ray, Purpleb...</td>\n",
              "    </tr>\n",
              "    <tr>\n",
              "      <th>Northern Victoria</th>\n",
              "      <td>11</td>\n",
              "      <td>{Barry, LITTLE, other, HAR, YPA, McGrath, Ray,...</td>\n",
              "    </tr>\n",
              "    <tr>\n",
              "      <th>South-Eastern Metropolitan</th>\n",
              "      <td>25</td>\n",
              "      <td>{HAR, Biggin, Woodards, Ray, Purplebricks, Sto...</td>\n",
              "    </tr>\n",
              "    <tr>\n",
              "      <th>Southern Metropolitan</th>\n",
              "      <td>38</td>\n",
              "      <td>{Biggin, HAR, Woodards, Kay, Ray, Purplebricks...</td>\n",
              "    </tr>\n",
              "    <tr>\n",
              "      <th>Western Metropolitan</th>\n",
              "      <td>34</td>\n",
              "      <td>{Biggin, HAR, Woodards, YPA, Ray, Moonee, Purp...</td>\n",
              "    </tr>\n",
              "    <tr>\n",
              "      <th>Western Victoria</th>\n",
              "      <td>6</td>\n",
              "      <td>{HAR, other, YPA, Ray, hockingstuart, Raine}</td>\n",
              "    </tr>\n",
              "  </tbody>\n",
              "</table>\n",
              "</div>"
            ],
            "text/plain": [
              "                            nunique                                                set\n",
              "Regionname                                                                            \n",
              "Eastern Metropolitan             26  {Biggin, HAR, Woodards, Kay, Ray, Purplebricks...\n",
              "Eastern Victoria                 11  {Barry, HAR, other, Fletchers, McGrath, Ray, H...\n",
              "Northern Metropolitan            40  {Biggin, HAR, Woodards, YPA, Kay, Ray, Purpleb...\n",
              "Northern Victoria                11  {Barry, LITTLE, other, HAR, YPA, McGrath, Ray,...\n",
              "South-Eastern Metropolitan       25  {HAR, Biggin, Woodards, Ray, Purplebricks, Sto...\n",
              "Southern Metropolitan            38  {Biggin, HAR, Woodards, Kay, Ray, Purplebricks...\n",
              "Western Metropolitan             34  {Biggin, HAR, Woodards, YPA, Ray, Moonee, Purp...\n",
              "Western Victoria                  6       {HAR, other, YPA, Ray, hockingstuart, Raine}"
            ]
          },
          "metadata": {},
          "execution_count": 321
        }
      ]
    },
    {
      "cell_type": "code",
      "metadata": {
        "colab": {
          "base_uri": "https://localhost:8080/"
        },
        "id": "3F7clNYu6v8X",
        "outputId": "9762db3b-0df6-4d45-e0e5-be6efebc0f23"
      },
      "source": [
        "# Задание 20.1\n",
        "\n",
        "# Сгруппируйте данные по признаку количества комнат и найдите среднюю цену объектов недвижимости \n",
        "# в каждой группе. В качестве ответа запишите количество комнат, для которых средняя цена наибольшая.\n",
        "\n",
        "melb_df.groupby(by='Rooms')['Price'].mean().sort_values(ascending=False)"
      ],
      "execution_count": null,
      "outputs": [
        {
          "output_type": "execute_result",
          "data": {
            "text/plain": [
              "Rooms\n",
              "7     1.920700e+06\n",
              "5     1.870260e+06\n",
              "6     1.849366e+06\n",
              "8     1.602750e+06\n",
              "4     1.445282e+06\n",
              "3     1.076081e+06\n",
              "10    9.000000e+05\n",
              "2     7.750812e+05\n",
              "1     4.338245e+05\n",
              "Name: Price, dtype: float64"
            ]
          },
          "metadata": {},
          "execution_count": 322
        }
      ]
    },
    {
      "cell_type": "code",
      "metadata": {
        "colab": {
          "base_uri": "https://localhost:8080/"
        },
        "id": "U5VZKM6W7bKJ",
        "outputId": "537aa18c-8425-41ff-c2aa-a0c48c243ccf"
      },
      "source": [
        "# Задание 20.2\n",
        "\n",
        "# Какой регион имеет наименьшую протяжённость по географической широте (Lattitude)?\n",
        "# Для ответа на этот вопрос рассчитайте стандартное отклонение широты для каждого региона.\n",
        "# В качестве ответа запишите название этого региона.\n",
        "\n",
        "melb_df.groupby(by='Regionname')['Lattitude'].std().sort_values()"
      ],
      "execution_count": null,
      "outputs": [
        {
          "output_type": "execute_result",
          "data": {
            "text/plain": [
              "Regionname\n",
              "Western Victoria              0.011579\n",
              "Southern Metropolitan         0.043080\n",
              "Eastern Metropolitan          0.047890\n",
              "Northern Metropolitan         0.049639\n",
              "Western Metropolitan          0.051251\n",
              "South-Eastern Metropolitan    0.073411\n",
              "Northern Victoria             0.084455\n",
              "Eastern Victoria              0.147067\n",
              "Name: Lattitude, dtype: float64"
            ]
          },
          "metadata": {},
          "execution_count": 323
        }
      ]
    },
    {
      "cell_type": "code",
      "metadata": {
        "colab": {
          "base_uri": "https://localhost:8080/"
        },
        "id": "m9Z8eIS8_API",
        "outputId": "d2eb5556-68a8-409d-df9e-241687ed393d"
      },
      "source": [
        "melb_df.columns"
      ],
      "execution_count": null,
      "outputs": [
        {
          "output_type": "execute_result",
          "data": {
            "text/plain": [
              "Index(['Suburb', 'Rooms', 'Type', 'Price', 'Method', 'SellerG', 'Date',\n",
              "       'Distance', 'Postcode', 'Bedroom', 'Bathroom', 'Car', 'Landsize',\n",
              "       'BuildingArea', 'CouncilArea', 'Lattitude', 'Longtitude', 'Regionname',\n",
              "       'Propertycount', 'MeanRoomsSquare', 'AreaRatio', 'MonthSale',\n",
              "       'AgeBuilding', 'WeekdaySale', 'StreetType', 'Weekend'],\n",
              "      dtype='object')"
            ]
          },
          "metadata": {},
          "execution_count": 324
        }
      ]
    },
    {
      "cell_type": "code",
      "metadata": {
        "colab": {
          "base_uri": "https://localhost:8080/"
        },
        "id": "IVCRR0co_1ET",
        "outputId": "8e65cc30-3a16-41cf-f975-698ff82641ab"
      },
      "source": [
        "# Задание 20.3\n",
        "\n",
        "# Какая риелторская компания (SellerG) имеет наименьшую общую прибыль за период \n",
        "# с 1 мая по 1 сентября (включительно) 2017 года?\n",
        "# Для ответа на этот вопрос рассчитайте сумму продаж (Price) каждой компании в заданный период.\n",
        "# Не забудьте перевести даты в формат datetime.\n",
        "\n",
        "# Подсказка (1 из 3): Произведите фильтрацию по условию попадания данных о продажах в интервал указанных дат.\n",
        "# Подсказка (2 из 3): Сгруппируйте данные по признаку SellerG и посчитайте сумму продаж для каждой компании.\n",
        "# Подсказка (3 из 3): Отсортируйте данные по возрастанию.\n",
        "\n",
        "from datetime import datetime\n",
        "\n",
        "\n",
        "period_mask = (melb_df['Date'] >= datetime(year=2017, month=5, day=1)) \\\n",
        "& (melb_df['Date'] <= datetime(year=2017, month=9, day=1))\n",
        "\n",
        "melb_df[period_mask].groupby(by='SellerG')['Price'].sum().sort_values(ascending=True)"
      ],
      "execution_count": null,
      "outputs": [
        {
          "output_type": "execute_result",
          "data": {
            "text/plain": [
              "SellerG\n",
              "LITTLE             2742000.0\n",
              "Cayzer             4439000.0\n",
              "Burnham            4550500.0\n",
              "Moonee             7328000.0\n",
              "Thomson            8332000.0\n",
              "Bells              8656000.0\n",
              "Alexkarbon        10985000.0\n",
              "McDonald          14637500.0\n",
              "Rendina           15422276.0\n",
              "Nick              16890000.0\n",
              "Douglas           18341000.0\n",
              "Buckingham        19033000.0\n",
              "C21               19515000.0\n",
              "Eview             19791500.0\n",
              "Collins           20217000.0\n",
              "Philip            22051800.0\n",
              "Chisholm          23225000.0\n",
              "Williams          23297000.0\n",
              "Love              23365500.0\n",
              "Purplebricks      23401000.0\n",
              "O'Brien           23855508.0\n",
              "HAR               25568000.0\n",
              "Village           26473000.0\n",
              "RW                29261000.0\n",
              "Raine             30687700.0\n",
              "Stockdale         35409800.0\n",
              "Sweeney           36882750.0\n",
              "Gary              39138400.0\n",
              "Hodges            43231000.0\n",
              "YPA               46354350.0\n",
              "Miles             47582000.0\n",
              "Kay               48569500.0\n",
              "RT                50498000.0\n",
              "Brad              55955000.0\n",
              "Jas               59281600.0\n",
              "Harcourts         68720250.0\n",
              "McGrath           78386500.0\n",
              "Greg              85621000.0\n",
              "Woodards          85977500.0\n",
              "Noel              88129800.0\n",
              "Fletchers        108847700.0\n",
              "Biggin           110429500.0\n",
              "Buxton           219104000.0\n",
              "Ray              249572986.0\n",
              "Marshall         253957888.0\n",
              "hockingstuart    282834310.0\n",
              "Barry            296723050.0\n",
              "other            365038432.0\n",
              "Nelson           379767500.0\n",
              "Jellis           414121833.0\n",
              "Name: Price, dtype: float64"
            ]
          },
          "metadata": {},
          "execution_count": 325
        }
      ]
    },
    {
      "cell_type": "code",
      "metadata": {
        "colab": {
          "base_uri": "https://localhost:8080/",
          "height": 363
        },
        "id": "eWqStNYi8UGs",
        "outputId": "10216289-6190-4f8e-8ca7-3173f7e39058"
      },
      "source": [
        "melb_df.groupby(['Rooms', 'Type'])['Price'].mean().unstack()"
      ],
      "execution_count": null,
      "outputs": [
        {
          "output_type": "execute_result",
          "data": {
            "text/html": [
              "<div>\n",
              "<style scoped>\n",
              "    .dataframe tbody tr th:only-of-type {\n",
              "        vertical-align: middle;\n",
              "    }\n",
              "\n",
              "    .dataframe tbody tr th {\n",
              "        vertical-align: top;\n",
              "    }\n",
              "\n",
              "    .dataframe thead th {\n",
              "        text-align: right;\n",
              "    }\n",
              "</style>\n",
              "<table border=\"1\" class=\"dataframe\">\n",
              "  <thead>\n",
              "    <tr style=\"text-align: right;\">\n",
              "      <th>Type</th>\n",
              "      <th>house</th>\n",
              "      <th>townhouse</th>\n",
              "      <th>unit</th>\n",
              "      <th>flat</th>\n",
              "    </tr>\n",
              "    <tr>\n",
              "      <th>Rooms</th>\n",
              "      <th></th>\n",
              "      <th></th>\n",
              "      <th></th>\n",
              "      <th></th>\n",
              "    </tr>\n",
              "  </thead>\n",
              "  <tbody>\n",
              "    <tr>\n",
              "      <th>1</th>\n",
              "      <td>8.668655e+05</td>\n",
              "      <td>5.927045e+05</td>\n",
              "      <td>3.899289e+05</td>\n",
              "      <td>NaN</td>\n",
              "    </tr>\n",
              "    <tr>\n",
              "      <th>2</th>\n",
              "      <td>1.017238e+06</td>\n",
              "      <td>7.101585e+05</td>\n",
              "      <td>6.104905e+05</td>\n",
              "      <td>NaN</td>\n",
              "    </tr>\n",
              "    <tr>\n",
              "      <th>3</th>\n",
              "      <td>1.109233e+06</td>\n",
              "      <td>9.847087e+05</td>\n",
              "      <td>8.505963e+05</td>\n",
              "      <td>NaN</td>\n",
              "    </tr>\n",
              "    <tr>\n",
              "      <th>4</th>\n",
              "      <td>1.462283e+06</td>\n",
              "      <td>1.217092e+06</td>\n",
              "      <td>1.037476e+06</td>\n",
              "      <td>NaN</td>\n",
              "    </tr>\n",
              "    <tr>\n",
              "      <th>5</th>\n",
              "      <td>1.877327e+06</td>\n",
              "      <td>1.035000e+06</td>\n",
              "      <td>NaN</td>\n",
              "      <td>NaN</td>\n",
              "    </tr>\n",
              "    <tr>\n",
              "      <th>6</th>\n",
              "      <td>1.869508e+06</td>\n",
              "      <td>NaN</td>\n",
              "      <td>5.200000e+05</td>\n",
              "      <td>NaN</td>\n",
              "    </tr>\n",
              "    <tr>\n",
              "      <th>7</th>\n",
              "      <td>1.920700e+06</td>\n",
              "      <td>NaN</td>\n",
              "      <td>NaN</td>\n",
              "      <td>NaN</td>\n",
              "    </tr>\n",
              "    <tr>\n",
              "      <th>8</th>\n",
              "      <td>1.510286e+06</td>\n",
              "      <td>NaN</td>\n",
              "      <td>2.250000e+06</td>\n",
              "      <td>NaN</td>\n",
              "    </tr>\n",
              "    <tr>\n",
              "      <th>10</th>\n",
              "      <td>9.000000e+05</td>\n",
              "      <td>NaN</td>\n",
              "      <td>NaN</td>\n",
              "      <td>NaN</td>\n",
              "    </tr>\n",
              "  </tbody>\n",
              "</table>\n",
              "</div>"
            ],
            "text/plain": [
              "Type          house     townhouse          unit  flat\n",
              "Rooms                                                \n",
              "1      8.668655e+05  5.927045e+05  3.899289e+05   NaN\n",
              "2      1.017238e+06  7.101585e+05  6.104905e+05   NaN\n",
              "3      1.109233e+06  9.847087e+05  8.505963e+05   NaN\n",
              "4      1.462283e+06  1.217092e+06  1.037476e+06   NaN\n",
              "5      1.877327e+06  1.035000e+06           NaN   NaN\n",
              "6      1.869508e+06           NaN  5.200000e+05   NaN\n",
              "7      1.920700e+06           NaN           NaN   NaN\n",
              "8      1.510286e+06           NaN  2.250000e+06   NaN\n",
              "10     9.000000e+05           NaN           NaN   NaN"
            ]
          },
          "metadata": {},
          "execution_count": 327
        }
      ]
    },
    {
      "cell_type": "code",
      "metadata": {
        "colab": {
          "base_uri": "https://localhost:8080/",
          "height": 363
        },
        "id": "ID2O4jAnBXG0",
        "outputId": "5ad1a296-5039-4a34-c834-65a8dcce3821"
      },
      "source": [
        "melb_df.pivot_table(\n",
        "    values='Price',\n",
        "    index='Rooms',\n",
        "    columns='Type'\n",
        ").round(2)"
      ],
      "execution_count": null,
      "outputs": [
        {
          "output_type": "execute_result",
          "data": {
            "text/html": [
              "<div>\n",
              "<style scoped>\n",
              "    .dataframe tbody tr th:only-of-type {\n",
              "        vertical-align: middle;\n",
              "    }\n",
              "\n",
              "    .dataframe tbody tr th {\n",
              "        vertical-align: top;\n",
              "    }\n",
              "\n",
              "    .dataframe thead th {\n",
              "        text-align: right;\n",
              "    }\n",
              "</style>\n",
              "<table border=\"1\" class=\"dataframe\">\n",
              "  <thead>\n",
              "    <tr style=\"text-align: right;\">\n",
              "      <th>Type</th>\n",
              "      <th>house</th>\n",
              "      <th>townhouse</th>\n",
              "      <th>unit</th>\n",
              "    </tr>\n",
              "    <tr>\n",
              "      <th>Rooms</th>\n",
              "      <th></th>\n",
              "      <th></th>\n",
              "      <th></th>\n",
              "    </tr>\n",
              "  </thead>\n",
              "  <tbody>\n",
              "    <tr>\n",
              "      <th>1</th>\n",
              "      <td>866865.52</td>\n",
              "      <td>592704.55</td>\n",
              "      <td>389928.92</td>\n",
              "    </tr>\n",
              "    <tr>\n",
              "      <th>2</th>\n",
              "      <td>1017237.81</td>\n",
              "      <td>710158.46</td>\n",
              "      <td>610490.51</td>\n",
              "    </tr>\n",
              "    <tr>\n",
              "      <th>3</th>\n",
              "      <td>1109233.38</td>\n",
              "      <td>984708.66</td>\n",
              "      <td>850596.34</td>\n",
              "    </tr>\n",
              "    <tr>\n",
              "      <th>4</th>\n",
              "      <td>1462283.08</td>\n",
              "      <td>1217092.00</td>\n",
              "      <td>1037476.19</td>\n",
              "    </tr>\n",
              "    <tr>\n",
              "      <th>5</th>\n",
              "      <td>1877326.92</td>\n",
              "      <td>1035000.00</td>\n",
              "      <td>NaN</td>\n",
              "    </tr>\n",
              "    <tr>\n",
              "      <th>6</th>\n",
              "      <td>1869507.58</td>\n",
              "      <td>NaN</td>\n",
              "      <td>520000.00</td>\n",
              "    </tr>\n",
              "    <tr>\n",
              "      <th>7</th>\n",
              "      <td>1920700.00</td>\n",
              "      <td>NaN</td>\n",
              "      <td>NaN</td>\n",
              "    </tr>\n",
              "    <tr>\n",
              "      <th>8</th>\n",
              "      <td>1510285.71</td>\n",
              "      <td>NaN</td>\n",
              "      <td>2250000.00</td>\n",
              "    </tr>\n",
              "    <tr>\n",
              "      <th>10</th>\n",
              "      <td>900000.00</td>\n",
              "      <td>NaN</td>\n",
              "      <td>NaN</td>\n",
              "    </tr>\n",
              "  </tbody>\n",
              "</table>\n",
              "</div>"
            ],
            "text/plain": [
              "Type        house   townhouse        unit\n",
              "Rooms                                    \n",
              "1       866865.52   592704.55   389928.92\n",
              "2      1017237.81   710158.46   610490.51\n",
              "3      1109233.38   984708.66   850596.34\n",
              "4      1462283.08  1217092.00  1037476.19\n",
              "5      1877326.92  1035000.00         NaN\n",
              "6      1869507.58         NaN   520000.00\n",
              "7      1920700.00         NaN         NaN\n",
              "8      1510285.71         NaN  2250000.00\n",
              "10      900000.00         NaN         NaN"
            ]
          },
          "metadata": {},
          "execution_count": 328
        }
      ]
    },
    {
      "cell_type": "code",
      "metadata": {
        "colab": {
          "base_uri": "https://localhost:8080/",
          "height": 332
        },
        "id": "ani5XJgFBxNf",
        "outputId": "bef6719d-4cfb-466b-a495-c87e892c5fbd"
      },
      "source": [
        "melb_df.pivot_table(\n",
        "    values='Price',\n",
        "    index='Regionname',\n",
        "    columns='Weekend',\n",
        "    aggfunc='count',\n",
        ")"
      ],
      "execution_count": null,
      "outputs": [
        {
          "output_type": "execute_result",
          "data": {
            "text/html": [
              "<div>\n",
              "<style scoped>\n",
              "    .dataframe tbody tr th:only-of-type {\n",
              "        vertical-align: middle;\n",
              "    }\n",
              "\n",
              "    .dataframe tbody tr th {\n",
              "        vertical-align: top;\n",
              "    }\n",
              "\n",
              "    .dataframe thead th {\n",
              "        text-align: right;\n",
              "    }\n",
              "</style>\n",
              "<table border=\"1\" class=\"dataframe\">\n",
              "  <thead>\n",
              "    <tr style=\"text-align: right;\">\n",
              "      <th>Weekend</th>\n",
              "      <th>0</th>\n",
              "      <th>1</th>\n",
              "    </tr>\n",
              "    <tr>\n",
              "      <th>Regionname</th>\n",
              "      <th></th>\n",
              "      <th></th>\n",
              "    </tr>\n",
              "  </thead>\n",
              "  <tbody>\n",
              "    <tr>\n",
              "      <th>Eastern Metropolitan</th>\n",
              "      <td>447</td>\n",
              "      <td>1024</td>\n",
              "    </tr>\n",
              "    <tr>\n",
              "      <th>Eastern Victoria</th>\n",
              "      <td>13</td>\n",
              "      <td>40</td>\n",
              "    </tr>\n",
              "    <tr>\n",
              "      <th>Northern Metropolitan</th>\n",
              "      <td>1258</td>\n",
              "      <td>2632</td>\n",
              "    </tr>\n",
              "    <tr>\n",
              "      <th>Northern Victoria</th>\n",
              "      <td>11</td>\n",
              "      <td>30</td>\n",
              "    </tr>\n",
              "    <tr>\n",
              "      <th>South-Eastern Metropolitan</th>\n",
              "      <td>123</td>\n",
              "      <td>327</td>\n",
              "    </tr>\n",
              "    <tr>\n",
              "      <th>Southern Metropolitan</th>\n",
              "      <td>1534</td>\n",
              "      <td>3161</td>\n",
              "    </tr>\n",
              "    <tr>\n",
              "      <th>Western Metropolitan</th>\n",
              "      <td>960</td>\n",
              "      <td>1988</td>\n",
              "    </tr>\n",
              "    <tr>\n",
              "      <th>Western Victoria</th>\n",
              "      <td>8</td>\n",
              "      <td>24</td>\n",
              "    </tr>\n",
              "  </tbody>\n",
              "</table>\n",
              "</div>"
            ],
            "text/plain": [
              "Weekend                        0     1\n",
              "Regionname                            \n",
              "Eastern Metropolitan         447  1024\n",
              "Eastern Victoria              13    40\n",
              "Northern Metropolitan       1258  2632\n",
              "Northern Victoria             11    30\n",
              "South-Eastern Metropolitan   123   327\n",
              "Southern Metropolitan       1534  3161\n",
              "Western Metropolitan         960  1988\n",
              "Western Victoria               8    24"
            ]
          },
          "metadata": {},
          "execution_count": 329
        }
      ]
    },
    {
      "cell_type": "code",
      "metadata": {
        "colab": {
          "base_uri": "https://localhost:8080/",
          "height": 363
        },
        "id": "STvD26U2CKXG",
        "outputId": "55c18a64-45d6-45a8-b611-d5064a1a3cc2"
      },
      "source": [
        "melb_df.pivot_table(\n",
        "    values='Landsize',\n",
        "    index='Regionname',\n",
        "    columns='Type',\n",
        "    aggfunc=['median', 'mean'],\n",
        "    fill_value=0\n",
        ")"
      ],
      "execution_count": null,
      "outputs": [
        {
          "output_type": "execute_result",
          "data": {
            "text/html": [
              "<div>\n",
              "<style scoped>\n",
              "    .dataframe tbody tr th:only-of-type {\n",
              "        vertical-align: middle;\n",
              "    }\n",
              "\n",
              "    .dataframe tbody tr th {\n",
              "        vertical-align: top;\n",
              "    }\n",
              "\n",
              "    .dataframe thead tr th {\n",
              "        text-align: left;\n",
              "    }\n",
              "\n",
              "    .dataframe thead tr:last-of-type th {\n",
              "        text-align: right;\n",
              "    }\n",
              "</style>\n",
              "<table border=\"1\" class=\"dataframe\">\n",
              "  <thead>\n",
              "    <tr>\n",
              "      <th></th>\n",
              "      <th colspan=\"3\" halign=\"left\">median</th>\n",
              "      <th colspan=\"3\" halign=\"left\">mean</th>\n",
              "    </tr>\n",
              "    <tr>\n",
              "      <th>Type</th>\n",
              "      <th>house</th>\n",
              "      <th>townhouse</th>\n",
              "      <th>unit</th>\n",
              "      <th>house</th>\n",
              "      <th>townhouse</th>\n",
              "      <th>unit</th>\n",
              "    </tr>\n",
              "    <tr>\n",
              "      <th>Regionname</th>\n",
              "      <th></th>\n",
              "      <th></th>\n",
              "      <th></th>\n",
              "      <th></th>\n",
              "      <th></th>\n",
              "      <th></th>\n",
              "    </tr>\n",
              "  </thead>\n",
              "  <tbody>\n",
              "    <tr>\n",
              "      <th>Eastern Metropolitan</th>\n",
              "      <td>674.0</td>\n",
              "      <td>233.5</td>\n",
              "      <td>203</td>\n",
              "      <td>717.422847</td>\n",
              "      <td>269.440678</td>\n",
              "      <td>330.444444</td>\n",
              "    </tr>\n",
              "    <tr>\n",
              "      <th>Eastern Victoria</th>\n",
              "      <td>843.0</td>\n",
              "      <td>0.0</td>\n",
              "      <td>230</td>\n",
              "      <td>3108.960000</td>\n",
              "      <td>0.000000</td>\n",
              "      <td>295.333333</td>\n",
              "    </tr>\n",
              "    <tr>\n",
              "      <th>Northern Metropolitan</th>\n",
              "      <td>459.5</td>\n",
              "      <td>134.0</td>\n",
              "      <td>0</td>\n",
              "      <td>619.249092</td>\n",
              "      <td>317.325733</td>\n",
              "      <td>495.026538</td>\n",
              "    </tr>\n",
              "    <tr>\n",
              "      <th>Northern Victoria</th>\n",
              "      <td>724.0</td>\n",
              "      <td>0.0</td>\n",
              "      <td>0</td>\n",
              "      <td>3355.463415</td>\n",
              "      <td>0.000000</td>\n",
              "      <td>0.000000</td>\n",
              "    </tr>\n",
              "    <tr>\n",
              "      <th>South-Eastern Metropolitan</th>\n",
              "      <td>630.5</td>\n",
              "      <td>240.0</td>\n",
              "      <td>199</td>\n",
              "      <td>664.306701</td>\n",
              "      <td>212.160000</td>\n",
              "      <td>357.864865</td>\n",
              "    </tr>\n",
              "    <tr>\n",
              "      <th>Southern Metropolitan</th>\n",
              "      <td>586.0</td>\n",
              "      <td>246.0</td>\n",
              "      <td>0</td>\n",
              "      <td>569.643881</td>\n",
              "      <td>278.858824</td>\n",
              "      <td>466.380245</td>\n",
              "    </tr>\n",
              "    <tr>\n",
              "      <th>Western Metropolitan</th>\n",
              "      <td>531.0</td>\n",
              "      <td>198.0</td>\n",
              "      <td>62</td>\n",
              "      <td>507.883406</td>\n",
              "      <td>244.560669</td>\n",
              "      <td>557.637232</td>\n",
              "    </tr>\n",
              "    <tr>\n",
              "      <th>Western Victoria</th>\n",
              "      <td>599.5</td>\n",
              "      <td>0.0</td>\n",
              "      <td>0</td>\n",
              "      <td>655.500000</td>\n",
              "      <td>0.000000</td>\n",
              "      <td>0.000000</td>\n",
              "    </tr>\n",
              "  </tbody>\n",
              "</table>\n",
              "</div>"
            ],
            "text/plain": [
              "                           median            ...        mean            \n",
              "Type                        house townhouse  ...   townhouse        unit\n",
              "Regionname                                   ...                        \n",
              "Eastern Metropolitan        674.0     233.5  ...  269.440678  330.444444\n",
              "Eastern Victoria            843.0       0.0  ...    0.000000  295.333333\n",
              "Northern Metropolitan       459.5     134.0  ...  317.325733  495.026538\n",
              "Northern Victoria           724.0       0.0  ...    0.000000    0.000000\n",
              "South-Eastern Metropolitan  630.5     240.0  ...  212.160000  357.864865\n",
              "Southern Metropolitan       586.0     246.0  ...  278.858824  466.380245\n",
              "Western Metropolitan        531.0     198.0  ...  244.560669  557.637232\n",
              "Western Victoria            599.5       0.0  ...    0.000000    0.000000\n",
              "\n",
              "[8 rows x 6 columns]"
            ]
          },
          "metadata": {},
          "execution_count": 330
        }
      ]
    },
    {
      "cell_type": "code",
      "metadata": {
        "colab": {
          "base_uri": "https://localhost:8080/",
          "height": 606
        },
        "id": "U_7465D-FI24",
        "outputId": "c99fb68f-a4dc-4060-876d-1ba8c9517803"
      },
      "source": [
        "melb_df.pivot_table(\n",
        "    values='Price',\n",
        "    index=['Method','Type'],\n",
        "    columns='Regionname',\n",
        "    aggfunc='median',\n",
        "    fill_value=0\n",
        ")"
      ],
      "execution_count": null,
      "outputs": [
        {
          "output_type": "execute_result",
          "data": {
            "text/html": [
              "<div>\n",
              "<style scoped>\n",
              "    .dataframe tbody tr th:only-of-type {\n",
              "        vertical-align: middle;\n",
              "    }\n",
              "\n",
              "    .dataframe tbody tr th {\n",
              "        vertical-align: top;\n",
              "    }\n",
              "\n",
              "    .dataframe thead th {\n",
              "        text-align: right;\n",
              "    }\n",
              "</style>\n",
              "<table border=\"1\" class=\"dataframe\">\n",
              "  <thead>\n",
              "    <tr style=\"text-align: right;\">\n",
              "      <th></th>\n",
              "      <th>Regionname</th>\n",
              "      <th>Eastern Metropolitan</th>\n",
              "      <th>Eastern Victoria</th>\n",
              "      <th>Northern Metropolitan</th>\n",
              "      <th>Northern Victoria</th>\n",
              "      <th>South-Eastern Metropolitan</th>\n",
              "      <th>Southern Metropolitan</th>\n",
              "      <th>Western Metropolitan</th>\n",
              "      <th>Western Victoria</th>\n",
              "    </tr>\n",
              "    <tr>\n",
              "      <th>Method</th>\n",
              "      <th>Type</th>\n",
              "      <th></th>\n",
              "      <th></th>\n",
              "      <th></th>\n",
              "      <th></th>\n",
              "      <th></th>\n",
              "      <th></th>\n",
              "      <th></th>\n",
              "      <th></th>\n",
              "    </tr>\n",
              "  </thead>\n",
              "  <tbody>\n",
              "    <tr>\n",
              "      <th rowspan=\"3\" valign=\"top\">PI</th>\n",
              "      <th>house</th>\n",
              "      <td>1244000</td>\n",
              "      <td>780000</td>\n",
              "      <td>900000</td>\n",
              "      <td>500000</td>\n",
              "      <td>865000</td>\n",
              "      <td>1725000</td>\n",
              "      <td>870000</td>\n",
              "      <td>630000</td>\n",
              "    </tr>\n",
              "    <tr>\n",
              "      <th>townhouse</th>\n",
              "      <td>760000</td>\n",
              "      <td>0</td>\n",
              "      <td>632500</td>\n",
              "      <td>0</td>\n",
              "      <td>1190000</td>\n",
              "      <td>1055000</td>\n",
              "      <td>670000</td>\n",
              "      <td>0</td>\n",
              "    </tr>\n",
              "    <tr>\n",
              "      <th>unit</th>\n",
              "      <td>650000</td>\n",
              "      <td>0</td>\n",
              "      <td>410000</td>\n",
              "      <td>0</td>\n",
              "      <td>525000</td>\n",
              "      <td>571250</td>\n",
              "      <td>360000</td>\n",
              "      <td>0</td>\n",
              "    </tr>\n",
              "    <tr>\n",
              "      <th rowspan=\"3\" valign=\"top\">S</th>\n",
              "      <th>house</th>\n",
              "      <td>1127000</td>\n",
              "      <td>675000</td>\n",
              "      <td>920000</td>\n",
              "      <td>555000</td>\n",
              "      <td>883300</td>\n",
              "      <td>1611000</td>\n",
              "      <td>870000</td>\n",
              "      <td>397500</td>\n",
              "    </tr>\n",
              "    <tr>\n",
              "      <th>townhouse</th>\n",
              "      <td>828000</td>\n",
              "      <td>0</td>\n",
              "      <td>750000</td>\n",
              "      <td>0</td>\n",
              "      <td>875000</td>\n",
              "      <td>1135000</td>\n",
              "      <td>729000</td>\n",
              "      <td>0</td>\n",
              "    </tr>\n",
              "    <tr>\n",
              "      <th>unit</th>\n",
              "      <td>645750</td>\n",
              "      <td>492000</td>\n",
              "      <td>525500</td>\n",
              "      <td>0</td>\n",
              "      <td>606000</td>\n",
              "      <td>655000</td>\n",
              "      <td>489000</td>\n",
              "      <td>0</td>\n",
              "    </tr>\n",
              "    <tr>\n",
              "      <th rowspan=\"3\" valign=\"top\">SA</th>\n",
              "      <th>house</th>\n",
              "      <td>932500</td>\n",
              "      <td>950000</td>\n",
              "      <td>817500</td>\n",
              "      <td>540000</td>\n",
              "      <td>880000</td>\n",
              "      <td>1390000</td>\n",
              "      <td>772500</td>\n",
              "      <td>0</td>\n",
              "    </tr>\n",
              "    <tr>\n",
              "      <th>townhouse</th>\n",
              "      <td>807500</td>\n",
              "      <td>0</td>\n",
              "      <td>425000</td>\n",
              "      <td>0</td>\n",
              "      <td>0</td>\n",
              "      <td>1141000</td>\n",
              "      <td>467500</td>\n",
              "      <td>0</td>\n",
              "    </tr>\n",
              "    <tr>\n",
              "      <th>unit</th>\n",
              "      <td>0</td>\n",
              "      <td>0</td>\n",
              "      <td>616000</td>\n",
              "      <td>0</td>\n",
              "      <td>0</td>\n",
              "      <td>580000</td>\n",
              "      <td>571000</td>\n",
              "      <td>0</td>\n",
              "    </tr>\n",
              "    <tr>\n",
              "      <th rowspan=\"3\" valign=\"top\">SP</th>\n",
              "      <th>house</th>\n",
              "      <td>1050000</td>\n",
              "      <td>672500</td>\n",
              "      <td>900000</td>\n",
              "      <td>521000</td>\n",
              "      <td>770000</td>\n",
              "      <td>1521750</td>\n",
              "      <td>865000</td>\n",
              "      <td>360000</td>\n",
              "    </tr>\n",
              "    <tr>\n",
              "      <th>townhouse</th>\n",
              "      <td>910000</td>\n",
              "      <td>0</td>\n",
              "      <td>690000</td>\n",
              "      <td>0</td>\n",
              "      <td>800000</td>\n",
              "      <td>1162500</td>\n",
              "      <td>702500</td>\n",
              "      <td>0</td>\n",
              "    </tr>\n",
              "    <tr>\n",
              "      <th>unit</th>\n",
              "      <td>515000</td>\n",
              "      <td>400000</td>\n",
              "      <td>470000</td>\n",
              "      <td>0</td>\n",
              "      <td>601000</td>\n",
              "      <td>550000</td>\n",
              "      <td>460000</td>\n",
              "      <td>0</td>\n",
              "    </tr>\n",
              "    <tr>\n",
              "      <th rowspan=\"3\" valign=\"top\">VB</th>\n",
              "      <th>house</th>\n",
              "      <td>1100000</td>\n",
              "      <td>712500</td>\n",
              "      <td>1050000</td>\n",
              "      <td>690000</td>\n",
              "      <td>850000</td>\n",
              "      <td>1800000</td>\n",
              "      <td>880000</td>\n",
              "      <td>0</td>\n",
              "    </tr>\n",
              "    <tr>\n",
              "      <th>townhouse</th>\n",
              "      <td>892500</td>\n",
              "      <td>0</td>\n",
              "      <td>640000</td>\n",
              "      <td>0</td>\n",
              "      <td>0</td>\n",
              "      <td>1250000</td>\n",
              "      <td>689500</td>\n",
              "      <td>0</td>\n",
              "    </tr>\n",
              "    <tr>\n",
              "      <th>unit</th>\n",
              "      <td>500000</td>\n",
              "      <td>0</td>\n",
              "      <td>450000</td>\n",
              "      <td>0</td>\n",
              "      <td>700000</td>\n",
              "      <td>500000</td>\n",
              "      <td>420000</td>\n",
              "      <td>0</td>\n",
              "    </tr>\n",
              "  </tbody>\n",
              "</table>\n",
              "</div>"
            ],
            "text/plain": [
              "Regionname        Eastern Metropolitan  ...  Western Victoria\n",
              "Method Type                             ...                  \n",
              "PI     house                   1244000  ...            630000\n",
              "       townhouse                760000  ...                 0\n",
              "       unit                     650000  ...                 0\n",
              "S      house                   1127000  ...            397500\n",
              "       townhouse                828000  ...                 0\n",
              "       unit                     645750  ...                 0\n",
              "SA     house                    932500  ...                 0\n",
              "       townhouse                807500  ...                 0\n",
              "       unit                          0  ...                 0\n",
              "SP     house                   1050000  ...            360000\n",
              "       townhouse                910000  ...                 0\n",
              "       unit                     515000  ...                 0\n",
              "VB     house                   1100000  ...                 0\n",
              "       townhouse                892500  ...                 0\n",
              "       unit                     500000  ...                 0\n",
              "\n",
              "[15 rows x 8 columns]"
            ]
          },
          "metadata": {},
          "execution_count": 331
        }
      ]
    },
    {
      "cell_type": "code",
      "metadata": {
        "id": "yWM8UoRrFWwW"
      },
      "source": [
        "pivot = melb_df.pivot_table(\n",
        "    values='Landsize',\n",
        "    index='Regionname',\n",
        "    columns='Type',\n",
        "    aggfunc=['median', 'mean'],\n",
        "    fill_value=0\n",
        ")"
      ],
      "execution_count": null,
      "outputs": []
    },
    {
      "cell_type": "code",
      "metadata": {
        "colab": {
          "base_uri": "https://localhost:8080/",
          "height": 363
        },
        "id": "33he8a7MFvdL",
        "outputId": "202dab69-6717-40de-c12c-03c23798f77d"
      },
      "source": [
        "pivot"
      ],
      "execution_count": null,
      "outputs": [
        {
          "output_type": "execute_result",
          "data": {
            "text/html": [
              "<div>\n",
              "<style scoped>\n",
              "    .dataframe tbody tr th:only-of-type {\n",
              "        vertical-align: middle;\n",
              "    }\n",
              "\n",
              "    .dataframe tbody tr th {\n",
              "        vertical-align: top;\n",
              "    }\n",
              "\n",
              "    .dataframe thead tr th {\n",
              "        text-align: left;\n",
              "    }\n",
              "\n",
              "    .dataframe thead tr:last-of-type th {\n",
              "        text-align: right;\n",
              "    }\n",
              "</style>\n",
              "<table border=\"1\" class=\"dataframe\">\n",
              "  <thead>\n",
              "    <tr>\n",
              "      <th></th>\n",
              "      <th colspan=\"3\" halign=\"left\">median</th>\n",
              "      <th colspan=\"3\" halign=\"left\">mean</th>\n",
              "    </tr>\n",
              "    <tr>\n",
              "      <th>Type</th>\n",
              "      <th>house</th>\n",
              "      <th>townhouse</th>\n",
              "      <th>unit</th>\n",
              "      <th>house</th>\n",
              "      <th>townhouse</th>\n",
              "      <th>unit</th>\n",
              "    </tr>\n",
              "    <tr>\n",
              "      <th>Regionname</th>\n",
              "      <th></th>\n",
              "      <th></th>\n",
              "      <th></th>\n",
              "      <th></th>\n",
              "      <th></th>\n",
              "      <th></th>\n",
              "    </tr>\n",
              "  </thead>\n",
              "  <tbody>\n",
              "    <tr>\n",
              "      <th>Eastern Metropolitan</th>\n",
              "      <td>674.0</td>\n",
              "      <td>233.5</td>\n",
              "      <td>203</td>\n",
              "      <td>717.422847</td>\n",
              "      <td>269.440678</td>\n",
              "      <td>330.444444</td>\n",
              "    </tr>\n",
              "    <tr>\n",
              "      <th>Eastern Victoria</th>\n",
              "      <td>843.0</td>\n",
              "      <td>0.0</td>\n",
              "      <td>230</td>\n",
              "      <td>3108.960000</td>\n",
              "      <td>0.000000</td>\n",
              "      <td>295.333333</td>\n",
              "    </tr>\n",
              "    <tr>\n",
              "      <th>Northern Metropolitan</th>\n",
              "      <td>459.5</td>\n",
              "      <td>134.0</td>\n",
              "      <td>0</td>\n",
              "      <td>619.249092</td>\n",
              "      <td>317.325733</td>\n",
              "      <td>495.026538</td>\n",
              "    </tr>\n",
              "    <tr>\n",
              "      <th>Northern Victoria</th>\n",
              "      <td>724.0</td>\n",
              "      <td>0.0</td>\n",
              "      <td>0</td>\n",
              "      <td>3355.463415</td>\n",
              "      <td>0.000000</td>\n",
              "      <td>0.000000</td>\n",
              "    </tr>\n",
              "    <tr>\n",
              "      <th>South-Eastern Metropolitan</th>\n",
              "      <td>630.5</td>\n",
              "      <td>240.0</td>\n",
              "      <td>199</td>\n",
              "      <td>664.306701</td>\n",
              "      <td>212.160000</td>\n",
              "      <td>357.864865</td>\n",
              "    </tr>\n",
              "    <tr>\n",
              "      <th>Southern Metropolitan</th>\n",
              "      <td>586.0</td>\n",
              "      <td>246.0</td>\n",
              "      <td>0</td>\n",
              "      <td>569.643881</td>\n",
              "      <td>278.858824</td>\n",
              "      <td>466.380245</td>\n",
              "    </tr>\n",
              "    <tr>\n",
              "      <th>Western Metropolitan</th>\n",
              "      <td>531.0</td>\n",
              "      <td>198.0</td>\n",
              "      <td>62</td>\n",
              "      <td>507.883406</td>\n",
              "      <td>244.560669</td>\n",
              "      <td>557.637232</td>\n",
              "    </tr>\n",
              "    <tr>\n",
              "      <th>Western Victoria</th>\n",
              "      <td>599.5</td>\n",
              "      <td>0.0</td>\n",
              "      <td>0</td>\n",
              "      <td>655.500000</td>\n",
              "      <td>0.000000</td>\n",
              "      <td>0.000000</td>\n",
              "    </tr>\n",
              "  </tbody>\n",
              "</table>\n",
              "</div>"
            ],
            "text/plain": [
              "                           median            ...        mean            \n",
              "Type                        house townhouse  ...   townhouse        unit\n",
              "Regionname                                   ...                        \n",
              "Eastern Metropolitan        674.0     233.5  ...  269.440678  330.444444\n",
              "Eastern Victoria            843.0       0.0  ...    0.000000  295.333333\n",
              "Northern Metropolitan       459.5     134.0  ...  317.325733  495.026538\n",
              "Northern Victoria           724.0       0.0  ...    0.000000    0.000000\n",
              "South-Eastern Metropolitan  630.5     240.0  ...  212.160000  357.864865\n",
              "Southern Metropolitan       586.0     246.0  ...  278.858824  466.380245\n",
              "Western Metropolitan        531.0     198.0  ...  244.560669  557.637232\n",
              "Western Victoria            599.5       0.0  ...    0.000000    0.000000\n",
              "\n",
              "[8 rows x 6 columns]"
            ]
          },
          "metadata": {},
          "execution_count": 334
        }
      ]
    },
    {
      "cell_type": "code",
      "metadata": {
        "colab": {
          "base_uri": "https://localhost:8080/"
        },
        "id": "Gy9_StDJFp_f",
        "outputId": "59567916-84cd-4d93-e292-f88e51cfc804"
      },
      "source": [
        "pivot.columns"
      ],
      "execution_count": null,
      "outputs": [
        {
          "output_type": "execute_result",
          "data": {
            "text/plain": [
              "MultiIndex([('median',     'house'),\n",
              "            ('median', 'townhouse'),\n",
              "            ('median',      'unit'),\n",
              "            (  'mean',     'house'),\n",
              "            (  'mean', 'townhouse'),\n",
              "            (  'mean',      'unit')],\n",
              "           names=[None, 'Type'])"
            ]
          },
          "metadata": {},
          "execution_count": 333
        }
      ]
    },
    {
      "cell_type": "code",
      "metadata": {
        "colab": {
          "base_uri": "https://localhost:8080/"
        },
        "id": "JkQA5Uh9FtWI",
        "outputId": "0b4ec585-9942-47cc-d6b0-8f576c8cf7cc"
      },
      "source": [
        "pivot['mean']['unit']"
      ],
      "execution_count": null,
      "outputs": [
        {
          "output_type": "execute_result",
          "data": {
            "text/plain": [
              "Regionname\n",
              "Eastern Metropolitan          330.444444\n",
              "Eastern Victoria              295.333333\n",
              "Northern Metropolitan         495.026538\n",
              "Northern Victoria               0.000000\n",
              "South-Eastern Metropolitan    357.864865\n",
              "Southern Metropolitan         466.380245\n",
              "Western Metropolitan          557.637232\n",
              "Western Victoria                0.000000\n",
              "Name: unit, dtype: float64"
            ]
          },
          "metadata": {},
          "execution_count": 335
        }
      ]
    },
    {
      "cell_type": "code",
      "metadata": {
        "colab": {
          "base_uri": "https://localhost:8080/",
          "height": 175
        },
        "id": "QpMfSOZRGDAU",
        "outputId": "a1e04784-60ef-40d9-f0c7-a8d3fbdad09c"
      },
      "source": [
        "mask = pivot['mean']['house'] < pivot['median']['house']\n",
        "filtered_pivot = pivot[mask]\n",
        "display(filtered_pivot)"
      ],
      "execution_count": null,
      "outputs": [
        {
          "output_type": "display_data",
          "data": {
            "text/html": [
              "<div>\n",
              "<style scoped>\n",
              "    .dataframe tbody tr th:only-of-type {\n",
              "        vertical-align: middle;\n",
              "    }\n",
              "\n",
              "    .dataframe tbody tr th {\n",
              "        vertical-align: top;\n",
              "    }\n",
              "\n",
              "    .dataframe thead tr th {\n",
              "        text-align: left;\n",
              "    }\n",
              "\n",
              "    .dataframe thead tr:last-of-type th {\n",
              "        text-align: right;\n",
              "    }\n",
              "</style>\n",
              "<table border=\"1\" class=\"dataframe\">\n",
              "  <thead>\n",
              "    <tr>\n",
              "      <th></th>\n",
              "      <th colspan=\"3\" halign=\"left\">median</th>\n",
              "      <th colspan=\"3\" halign=\"left\">mean</th>\n",
              "    </tr>\n",
              "    <tr>\n",
              "      <th>Type</th>\n",
              "      <th>house</th>\n",
              "      <th>townhouse</th>\n",
              "      <th>unit</th>\n",
              "      <th>house</th>\n",
              "      <th>townhouse</th>\n",
              "      <th>unit</th>\n",
              "    </tr>\n",
              "    <tr>\n",
              "      <th>Regionname</th>\n",
              "      <th></th>\n",
              "      <th></th>\n",
              "      <th></th>\n",
              "      <th></th>\n",
              "      <th></th>\n",
              "      <th></th>\n",
              "    </tr>\n",
              "  </thead>\n",
              "  <tbody>\n",
              "    <tr>\n",
              "      <th>Southern Metropolitan</th>\n",
              "      <td>586.0</td>\n",
              "      <td>246.0</td>\n",
              "      <td>0</td>\n",
              "      <td>569.643881</td>\n",
              "      <td>278.858824</td>\n",
              "      <td>466.380245</td>\n",
              "    </tr>\n",
              "    <tr>\n",
              "      <th>Western Metropolitan</th>\n",
              "      <td>531.0</td>\n",
              "      <td>198.0</td>\n",
              "      <td>62</td>\n",
              "      <td>507.883406</td>\n",
              "      <td>244.560669</td>\n",
              "      <td>557.637232</td>\n",
              "    </tr>\n",
              "  </tbody>\n",
              "</table>\n",
              "</div>"
            ],
            "text/plain": [
              "                      median                       mean                        \n",
              "Type                   house townhouse unit       house   townhouse        unit\n",
              "Regionname                                                                     \n",
              "Southern Metropolitan  586.0     246.0    0  569.643881  278.858824  466.380245\n",
              "Western Metropolitan   531.0     198.0   62  507.883406  244.560669  557.637232"
            ]
          },
          "metadata": {}
        }
      ]
    },
    {
      "cell_type": "code",
      "metadata": {
        "colab": {
          "base_uri": "https://localhost:8080/"
        },
        "id": "u8b3JKPBGiD9",
        "outputId": "c8c31455-d1af-44a4-9810-2b32d5d3d5b4"
      },
      "source": [
        "print(list(filtered_pivot.index))"
      ],
      "execution_count": null,
      "outputs": [
        {
          "output_type": "stream",
          "name": "stdout",
          "text": [
            "['Southern Metropolitan', 'Western Metropolitan']\n"
          ]
        }
      ]
    },
    {
      "cell_type": "code",
      "metadata": {
        "colab": {
          "base_uri": "https://localhost:8080/"
        },
        "id": "yvPQxTG9GtpA",
        "outputId": "0fe2b6a3-bc4c-435c-cb36-32f8fd3eb47d"
      },
      "source": [
        "filtered_pivot.loc['Southern Metropolitan']"
      ],
      "execution_count": null,
      "outputs": [
        {
          "output_type": "execute_result",
          "data": {
            "text/plain": [
              "        Type     \n",
              "median  house        586.000000\n",
              "        townhouse    246.000000\n",
              "        unit           0.000000\n",
              "mean    house        569.643881\n",
              "        townhouse    278.858824\n",
              "        unit         466.380245\n",
              "Name: Southern Metropolitan, dtype: float64"
            ]
          },
          "metadata": {},
          "execution_count": 338
        }
      ]
    },
    {
      "cell_type": "code",
      "metadata": {
        "colab": {
          "base_uri": "https://localhost:8080/",
          "height": 394
        },
        "id": "779wPi4xGz3Z",
        "outputId": "74cff395-577e-4e09-f2e2-71c111a2bc77"
      },
      "source": [
        "# Задание 21.2\n",
        "\n",
        "# Составьте сводную таблицу, которая показывает зависимость медианной площади (BuildingArea) \n",
        "# здания от типа объекта недвижимости (Type) и количества жилых комнат в доме (Rooms). \n",
        "# Для какой комбинации признаков площадь здания наибольшая?\n",
        "# В качестве ответа запишите эту комбинацию (тип здания, число комнат) через запятую, без пробелов.\n",
        "\n",
        "melb_df.pivot_table(\n",
        "    values='BuildingArea',\n",
        "    index='Rooms',\n",
        "    columns='Type',\n",
        "    aggfunc=['median'],\n",
        "    fill_value=0\n",
        ")"
      ],
      "execution_count": null,
      "outputs": [
        {
          "output_type": "execute_result",
          "data": {
            "text/html": [
              "<div>\n",
              "<style scoped>\n",
              "    .dataframe tbody tr th:only-of-type {\n",
              "        vertical-align: middle;\n",
              "    }\n",
              "\n",
              "    .dataframe tbody tr th {\n",
              "        vertical-align: top;\n",
              "    }\n",
              "\n",
              "    .dataframe thead tr th {\n",
              "        text-align: left;\n",
              "    }\n",
              "\n",
              "    .dataframe thead tr:last-of-type th {\n",
              "        text-align: right;\n",
              "    }\n",
              "</style>\n",
              "<table border=\"1\" class=\"dataframe\">\n",
              "  <thead>\n",
              "    <tr>\n",
              "      <th></th>\n",
              "      <th colspan=\"3\" halign=\"left\">median</th>\n",
              "    </tr>\n",
              "    <tr>\n",
              "      <th>Type</th>\n",
              "      <th>house</th>\n",
              "      <th>townhouse</th>\n",
              "      <th>unit</th>\n",
              "    </tr>\n",
              "    <tr>\n",
              "      <th>Rooms</th>\n",
              "      <th></th>\n",
              "      <th></th>\n",
              "      <th></th>\n",
              "    </tr>\n",
              "  </thead>\n",
              "  <tbody>\n",
              "    <tr>\n",
              "      <th>1</th>\n",
              "      <td>126.0</td>\n",
              "      <td>88.0</td>\n",
              "      <td>69.5</td>\n",
              "    </tr>\n",
              "    <tr>\n",
              "      <th>2</th>\n",
              "      <td>126.0</td>\n",
              "      <td>114.0</td>\n",
              "      <td>110.0</td>\n",
              "    </tr>\n",
              "    <tr>\n",
              "      <th>3</th>\n",
              "      <td>126.0</td>\n",
              "      <td>126.0</td>\n",
              "      <td>126.0</td>\n",
              "    </tr>\n",
              "    <tr>\n",
              "      <th>4</th>\n",
              "      <td>141.0</td>\n",
              "      <td>159.5</td>\n",
              "      <td>126.0</td>\n",
              "    </tr>\n",
              "    <tr>\n",
              "      <th>5</th>\n",
              "      <td>177.0</td>\n",
              "      <td>152.0</td>\n",
              "      <td>0.0</td>\n",
              "    </tr>\n",
              "    <tr>\n",
              "      <th>6</th>\n",
              "      <td>126.0</td>\n",
              "      <td>0.0</td>\n",
              "      <td>171.0</td>\n",
              "    </tr>\n",
              "    <tr>\n",
              "      <th>7</th>\n",
              "      <td>216.5</td>\n",
              "      <td>0.0</td>\n",
              "      <td>0.0</td>\n",
              "    </tr>\n",
              "    <tr>\n",
              "      <th>8</th>\n",
              "      <td>126.0</td>\n",
              "      <td>0.0</td>\n",
              "      <td>126.0</td>\n",
              "    </tr>\n",
              "    <tr>\n",
              "      <th>10</th>\n",
              "      <td>126.0</td>\n",
              "      <td>0.0</td>\n",
              "      <td>0.0</td>\n",
              "    </tr>\n",
              "  </tbody>\n",
              "</table>\n",
              "</div>"
            ],
            "text/plain": [
              "      median                 \n",
              "Type   house townhouse   unit\n",
              "Rooms                        \n",
              "1      126.0      88.0   69.5\n",
              "2      126.0     114.0  110.0\n",
              "3      126.0     126.0  126.0\n",
              "4      141.0     159.5  126.0\n",
              "5      177.0     152.0    0.0\n",
              "6      126.0       0.0  171.0\n",
              "7      216.5       0.0    0.0\n",
              "8      126.0       0.0  126.0\n",
              "10     126.0       0.0    0.0"
            ]
          },
          "metadata": {},
          "execution_count": 340
        }
      ]
    },
    {
      "cell_type": "code",
      "metadata": {
        "colab": {
          "base_uri": "https://localhost:8080/"
        },
        "id": "SDf8pu-9HsMO",
        "outputId": "eb063fd8-a42e-4801-c549-e05af106b020"
      },
      "source": [
        "# Задание 21.3\n",
        "\n",
        "# Составьте сводную таблицу, которая показывает зависимость медианной цены объекта недвижимости \n",
        "# (Price) от риелторского агентства (SellerG) и типа здания (Type).\n",
        "# Во вновь созданной таблице найдите агентство, у которого медианная цена для зданий типа \n",
        "# unit максимальна. В качестве ответа запишите название этого агентства.\n",
        "\n",
        "seller_pivot = melb_df.pivot_table(\n",
        "    values='Price',\n",
        "    index='SellerG',\n",
        "    columns='Type',\n",
        "    aggfunc=['median'],\n",
        "    fill_value=0\n",
        ")\n",
        "\n",
        "seller_pivot['median']['unit'].sort_values(ascending=False)"
      ],
      "execution_count": null,
      "outputs": [
        {
          "output_type": "execute_result",
          "data": {
            "text/plain": [
              "SellerG\n",
              "Nick             900000\n",
              "Marshall         715000\n",
              "Cayzer           707500\n",
              "Kay              695000\n",
              "Noel             693250\n",
              "Buxton           670000\n",
              "Fletchers        653000\n",
              "Chisholm         640000\n",
              "Philip           636000\n",
              "RT               630000\n",
              "C21              625500\n",
              "RW               625500\n",
              "Moonee           622000\n",
              "O'Brien          618500\n",
              "Hodges           605500\n",
              "Eview            602000\n",
              "Woodards         600000\n",
              "Collins          592000\n",
              "Jellis           591750\n",
              "Purplebricks     582500\n",
              "Williams         577000\n",
              "hockingstuart    566000\n",
              "Alexkarbon       560000\n",
              "Miles            555000\n",
              "Buckingham       553000\n",
              "Gary             550000\n",
              "Biggin           548000\n",
              "Greg             547500\n",
              "McGrath          542500\n",
              "other            535000\n",
              "Nelson           530000\n",
              "HAR              518000\n",
              "McDonald         502500\n",
              "Barry            502000\n",
              "Harcourts        500000\n",
              "Ray              497500\n",
              "Thomson          495000\n",
              "Douglas          494500\n",
              "Brad             465000\n",
              "Rendina          459000\n",
              "Bells            457500\n",
              "Jas              455000\n",
              "Raine            447500\n",
              "LITTLE           447000\n",
              "YPA              443500\n",
              "Love             440000\n",
              "Village          420000\n",
              "Stockdale        410000\n",
              "Sweeney          381000\n",
              "Burnham          305000\n",
              "Name: unit, dtype: int64"
            ]
          },
          "metadata": {},
          "execution_count": 343
        }
      ]
    },
    {
      "cell_type": "code",
      "metadata": {
        "id": "XfXmU8m6Ikbd"
      },
      "source": [
        ""
      ],
      "execution_count": null,
      "outputs": []
    }
  ]
}