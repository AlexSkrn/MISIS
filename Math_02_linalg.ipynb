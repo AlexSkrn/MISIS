{
 "cells": [
  {
   "cell_type": "markdown",
   "metadata": {
    "id": "byikQgRjkz-0"
   },
   "source": [
    "# Матрицы и векторы"
   ]
  },
  {
   "cell_type": "code",
   "execution_count": 1,
   "metadata": {
    "id": "tr-EhVSdkz-2"
   },
   "outputs": [],
   "source": [
    "import numpy as np"
   ]
  },
  {
   "cell_type": "markdown",
   "metadata": {
    "id": "0AuQeA22kz-3"
   },
   "source": [
    "## 1. Скалярное умножение векторов"
   ]
  },
  {
   "cell_type": "markdown",
   "metadata": {
    "id": "5gKK6i8kkz-4"
   },
   "source": [
    "$$(a, b) = \\sum a_i b_i$$"
   ]
  },
  {
   "cell_type": "code",
   "execution_count": 2,
   "metadata": {
    "id": "YG0mzy8Dkz-4"
   },
   "outputs": [],
   "source": [
    "a = np.array([1, 2, 3])\n",
    "b = np.array([3, 4, 5])"
   ]
  },
  {
   "cell_type": "code",
   "execution_count": 3,
   "metadata": {
    "colab": {
     "base_uri": "https://localhost:8080/"
    },
    "id": "8Rq4q17vkz-5",
    "outputId": "daa791f4-c7b3-4077-ab0e-e9fa4ac07880"
   },
   "outputs": [
    {
     "data": {
      "text/plain": [
       "array([1, 2, 3])"
      ]
     },
     "execution_count": 3,
     "metadata": {},
     "output_type": "execute_result"
    }
   ],
   "source": [
    "a"
   ]
  },
  {
   "cell_type": "code",
   "execution_count": 4,
   "metadata": {
    "colab": {
     "base_uri": "https://localhost:8080/"
    },
    "id": "9ib8G1O8kz-6",
    "outputId": "67cb4d2e-4c28-4e88-d476-485b80a38b3b"
   },
   "outputs": [
    {
     "data": {
      "text/plain": [
       "26"
      ]
     },
     "execution_count": 4,
     "metadata": {},
     "output_type": "execute_result"
    }
   ],
   "source": [
    "np.dot(a, b)"
   ]
  },
  {
   "cell_type": "markdown",
   "metadata": {
    "id": "yv9Uyy7Ckz-7"
   },
   "source": [
    "Реализуем скалярное произведение средствами Python"
   ]
  },
  {
   "cell_type": "code",
   "execution_count": 5,
   "metadata": {
    "colab": {
     "base_uri": "https://localhost:8080/"
    },
    "id": "17R-2hQ9kz-8",
    "outputId": "16dad9a0-4d92-4438-a83c-0378c4b65383"
   },
   "outputs": [
    {
     "data": {
      "text/plain": [
       "26"
      ]
     },
     "execution_count": 5,
     "metadata": {},
     "output_type": "execute_result"
    }
   ],
   "source": [
    "sum([x * y for x, y in zip(a, b)])"
   ]
  },
  {
   "cell_type": "markdown",
   "metadata": {
    "id": "MLmCaM0Hkz-8"
   },
   "source": [
    "Примеры:"
   ]
  },
  {
   "cell_type": "markdown",
   "metadata": {
    "id": "i6pzLvrfkz-9"
   },
   "source": [
    "Следующие два примера – ортогональные векторы"
   ]
  },
  {
   "cell_type": "code",
   "execution_count": 6,
   "metadata": {
    "colab": {
     "base_uri": "https://localhost:8080/"
    },
    "id": "GLkSk0nZkz-9",
    "outputId": "61d4747f-b5be-4b79-f9cd-6d9acb8eb2e7"
   },
   "outputs": [
    {
     "data": {
      "text/plain": [
       "0"
      ]
     },
     "execution_count": 6,
     "metadata": {},
     "output_type": "execute_result"
    }
   ],
   "source": [
    "np.dot([0, 1], [1, 0])"
   ]
  },
  {
   "cell_type": "code",
   "execution_count": 7,
   "metadata": {
    "colab": {
     "base_uri": "https://localhost:8080/"
    },
    "id": "A3widgTOkz--",
    "outputId": "2d8a94a5-aefe-4bd1-f350-4fe3e4bc4c69"
   },
   "outputs": [
    {
     "data": {
      "text/plain": [
       "0"
      ]
     },
     "execution_count": 7,
     "metadata": {},
     "output_type": "execute_result"
    }
   ],
   "source": [
    "np.dot([3, 1, 2], [-1, 1, 1])"
   ]
  },
  {
   "cell_type": "code",
   "execution_count": 8,
   "metadata": {
    "colab": {
     "base_uri": "https://localhost:8080/"
    },
    "id": "wU22pejjkz--",
    "outputId": "1afbd328-00bb-42db-ab46-959bcc54e31a"
   },
   "outputs": [
    {
     "data": {
      "text/plain": [
       "28"
      ]
     },
     "execution_count": 8,
     "metadata": {},
     "output_type": "execute_result"
    }
   ],
   "source": [
    "np.dot([1, 2, 3], [2, 4, 6])"
   ]
  },
  {
   "cell_type": "code",
   "execution_count": 9,
   "metadata": {
    "colab": {
     "base_uri": "https://localhost:8080/"
    },
    "id": "GDIjIMT-kz-_",
    "outputId": "530bbce9-5e50-47e7-b21b-294129c57684"
   },
   "outputs": [
    {
     "data": {
      "text/plain": [
       "-11"
      ]
     },
     "execution_count": 9,
     "metadata": {},
     "output_type": "execute_result"
    }
   ],
   "source": [
    "np.dot([-10, -1], [1, 1])"
   ]
  },
  {
   "cell_type": "markdown",
   "metadata": {
    "id": "3Is2kcdykz-_"
   },
   "source": [
    "## 2. Длина вектора через скалярное произведение"
   ]
  },
  {
   "cell_type": "markdown",
   "metadata": {
    "id": "EcWbb_8Xkz_A"
   },
   "source": [
    "$$\\lvert a\\lvert= \\sqrt{(a, a)}$$"
   ]
  },
  {
   "cell_type": "code",
   "execution_count": 10,
   "metadata": {
    "colab": {
     "base_uri": "https://localhost:8080/"
    },
    "id": "frTM1MUgkz_A",
    "outputId": "7ad5e38e-c24b-40cb-dea4-82c0a4cd4088"
   },
   "outputs": [
    {
     "data": {
      "text/plain": [
       "array([1, 2, 3])"
      ]
     },
     "execution_count": 10,
     "metadata": {},
     "output_type": "execute_result"
    }
   ],
   "source": [
    "a"
   ]
  },
  {
   "cell_type": "code",
   "execution_count": 11,
   "metadata": {
    "colab": {
     "base_uri": "https://localhost:8080/"
    },
    "id": "qN-qx4b9kz_A",
    "outputId": "c2b6d25d-54a8-4083-9f2e-4f5d34104c85"
   },
   "outputs": [
    {
     "data": {
      "text/plain": [
       "3.7416573867739413"
      ]
     },
     "execution_count": 11,
     "metadata": {},
     "output_type": "execute_result"
    }
   ],
   "source": [
    "np.sqrt(np.dot(a, a))"
   ]
  },
  {
   "cell_type": "code",
   "execution_count": 12,
   "metadata": {
    "colab": {
     "base_uri": "https://localhost:8080/"
    },
    "id": "zVLTpFoqkz_A",
    "outputId": "5cbac61f-ed7f-4798-c0be-b105c9aeaaf0"
   },
   "outputs": [
    {
     "data": {
      "text/plain": [
       "3.7416573867739413"
      ]
     },
     "execution_count": 12,
     "metadata": {},
     "output_type": "execute_result"
    }
   ],
   "source": [
    "np.linalg.norm(a)"
   ]
  },
  {
   "cell_type": "code",
   "execution_count": 13,
   "metadata": {
    "colab": {
     "base_uri": "https://localhost:8080/"
    },
    "id": "HcrMSSr3kz_B",
    "outputId": "3647e421-d327-4bac-cc6f-738496bb6da7"
   },
   "outputs": [
    {
     "data": {
      "text/plain": [
       "1.0"
      ]
     },
     "execution_count": 13,
     "metadata": {},
     "output_type": "execute_result"
    }
   ],
   "source": [
    "np.linalg.norm([0, 1])"
   ]
  },
  {
   "cell_type": "code",
   "execution_count": 14,
   "metadata": {
    "colab": {
     "base_uri": "https://localhost:8080/"
    },
    "id": "YziNBZS2kz_B",
    "outputId": "fd388bc1-21f9-41fc-e23a-a378a3192c6f"
   },
   "outputs": [
    {
     "data": {
      "text/plain": [
       "5.0"
      ]
     },
     "execution_count": 14,
     "metadata": {},
     "output_type": "execute_result"
    }
   ],
   "source": [
    "np.linalg.norm([3, 4])"
   ]
  },
  {
   "cell_type": "code",
   "execution_count": 15,
   "metadata": {
    "colab": {
     "base_uri": "https://localhost:8080/"
    },
    "id": "ABMtb-2lkz_C",
    "outputId": "af8456c4-a194-4659-a86c-1b226b672f7b"
   },
   "outputs": [
    {
     "data": {
      "text/plain": [
       "1.4142135623730951"
      ]
     },
     "execution_count": 15,
     "metadata": {},
     "output_type": "execute_result"
    }
   ],
   "source": [
    "np.linalg.norm([-1, -1])"
   ]
  },
  {
   "cell_type": "code",
   "execution_count": 16,
   "metadata": {
    "colab": {
     "base_uri": "https://localhost:8080/"
    },
    "id": "v5sYB5wkkz_C",
    "outputId": "48c0d058-c6d1-4323-e31e-bed737544b36"
   },
   "outputs": [
    {
     "data": {
      "text/plain": [
       "1.4142135623730951"
      ]
     },
     "execution_count": 16,
     "metadata": {},
     "output_type": "execute_result"
    }
   ],
   "source": [
    "np.sqrt(2)"
   ]
  },
  {
   "cell_type": "markdown",
   "metadata": {
    "id": "H_dGsM1Zkz_C"
   },
   "source": [
    "## 3. Сложение матриц и умножение на число"
   ]
  },
  {
   "cell_type": "markdown",
   "metadata": {
    "id": "yo8gpS5ckz_C"
   },
   "source": [
    "Матрицы складываются поэлементно. При умножении на число все элементы матрицы умножаются на это число."
   ]
  },
  {
   "cell_type": "code",
   "execution_count": 17,
   "metadata": {
    "id": "8ck7PJRzkz_C"
   },
   "outputs": [],
   "source": [
    "a = np.random.randint(0, 10, size=(2, 2))\n",
    "b = np.random.randint(0, 10, size=(2, 2))"
   ]
  },
  {
   "cell_type": "code",
   "execution_count": 18,
   "metadata": {
    "colab": {
     "base_uri": "https://localhost:8080/"
    },
    "id": "MVs2AQSbkz_D",
    "outputId": "e395f6d5-d726-41a6-b2f8-48a3489d16a8"
   },
   "outputs": [
    {
     "data": {
      "text/plain": [
       "(array([[7, 0],\n",
       "        [1, 8]]), array([[7, 9],\n",
       "        [1, 0]]))"
      ]
     },
     "execution_count": 18,
     "metadata": {},
     "output_type": "execute_result"
    }
   ],
   "source": [
    "a, b"
   ]
  },
  {
   "cell_type": "code",
   "execution_count": 19,
   "metadata": {
    "colab": {
     "base_uri": "https://localhost:8080/"
    },
    "id": "29mdR4btkz_D",
    "outputId": "d88d224f-3c3c-42e0-ecee-87187936b31d"
   },
   "outputs": [
    {
     "data": {
      "text/plain": [
       "array([[14,  9],\n",
       "       [ 2,  8]])"
      ]
     },
     "execution_count": 19,
     "metadata": {},
     "output_type": "execute_result"
    }
   ],
   "source": [
    "a + b"
   ]
  },
  {
   "cell_type": "code",
   "execution_count": 20,
   "metadata": {
    "colab": {
     "base_uri": "https://localhost:8080/"
    },
    "id": "DySPiplakz_D",
    "outputId": "c6d47bde-d498-4f32-9697-682b3a4071c3"
   },
   "outputs": [
    {
     "data": {
      "text/plain": [
       "array([[7, 0],\n",
       "       [1, 8]])"
      ]
     },
     "execution_count": 20,
     "metadata": {},
     "output_type": "execute_result"
    }
   ],
   "source": [
    "a"
   ]
  },
  {
   "cell_type": "code",
   "execution_count": 21,
   "metadata": {
    "colab": {
     "base_uri": "https://localhost:8080/"
    },
    "id": "R3oS4FQpkz_D",
    "outputId": "61990a09-e673-416c-a9a8-376e5e35ffc6"
   },
   "outputs": [
    {
     "data": {
      "text/plain": [
       "array([[14,  0],\n",
       "       [ 2, 16]])"
      ]
     },
     "execution_count": 21,
     "metadata": {},
     "output_type": "execute_result"
    }
   ],
   "source": [
    "a * 2"
   ]
  },
  {
   "cell_type": "markdown",
   "metadata": {
    "id": "fowuSdR2kz_D"
   },
   "source": [
    "$I$ или $E$ – единичная матрица"
   ]
  },
  {
   "cell_type": "code",
   "execution_count": 22,
   "metadata": {
    "id": "q_S9_26bkz_E"
   },
   "outputs": [],
   "source": [
    "eye_matrix = np.eye(3)"
   ]
  },
  {
   "cell_type": "code",
   "execution_count": 23,
   "metadata": {
    "colab": {
     "base_uri": "https://localhost:8080/"
    },
    "id": "BQQJu0stkz_E",
    "outputId": "10e4cbad-b9f7-4bca-bb49-d2cc72265511"
   },
   "outputs": [
    {
     "data": {
      "text/plain": [
       "array([[1., 0., 0.],\n",
       "       [0., 1., 0.],\n",
       "       [0., 0., 1.]])"
      ]
     },
     "execution_count": 23,
     "metadata": {},
     "output_type": "execute_result"
    }
   ],
   "source": [
    "eye_matrix"
   ]
  },
  {
   "cell_type": "code",
   "execution_count": 24,
   "metadata": {
    "colab": {
     "base_uri": "https://localhost:8080/"
    },
    "id": "TzqElb0Tkz_E",
    "outputId": "8701bda1-539f-490d-837d-611399945e34"
   },
   "outputs": [
    {
     "data": {
      "text/plain": [
       "array([[5., 0., 0.],\n",
       "       [0., 5., 0.],\n",
       "       [0., 0., 5.]])"
      ]
     },
     "execution_count": 24,
     "metadata": {},
     "output_type": "execute_result"
    }
   ],
   "source": [
    "eye_matrix * 5"
   ]
  },
  {
   "cell_type": "markdown",
   "metadata": {
    "id": "-M4uq_imkz_E"
   },
   "source": [
    "## 4. Умножение матриц"
   ]
  },
  {
   "cell_type": "markdown",
   "metadata": {
    "id": "OlRIttdWkz_E"
   },
   "source": [
    "Для умножения нужно, чтобы **средние** размерности совпадали: умножить можно только $n*k$ на $k*m$  \n",
    "Под средними размерностями подразумеваются те размерности, которые находятся посередине при записи размерностей двух матриц. В примере выше это *k*"
   ]
  },
  {
   "cell_type": "code",
   "execution_count": 25,
   "metadata": {
    "colab": {
     "base_uri": "https://localhost:8080/"
    },
    "id": "Mq0qt9dtkz_F",
    "outputId": "62b9270f-209c-492d-ac4b-4e11c64acaa2"
   },
   "outputs": [
    {
     "data": {
      "text/plain": [
       "array([[7, 0],\n",
       "       [1, 8]])"
      ]
     },
     "execution_count": 25,
     "metadata": {},
     "output_type": "execute_result"
    }
   ],
   "source": [
    "a"
   ]
  },
  {
   "cell_type": "code",
   "execution_count": 26,
   "metadata": {
    "colab": {
     "base_uri": "https://localhost:8080/"
    },
    "id": "BiysytWqkz_F",
    "outputId": "92a91d14-dfda-4748-d4d7-19eba00a0a7a"
   },
   "outputs": [
    {
     "data": {
      "text/plain": [
       "array([[7, 9],\n",
       "       [1, 0]])"
      ]
     },
     "execution_count": 26,
     "metadata": {},
     "output_type": "execute_result"
    }
   ],
   "source": [
    "b"
   ]
  },
  {
   "cell_type": "markdown",
   "metadata": {
    "id": "76KmC7o3kz_F"
   },
   "source": [
    "Проверим на первой строке первой матрицы и на первом столбце второй матрицы  \n",
    "**1, 1** – первая строка первой матрицы, первый столбец второй матрицы  \n",
    "([5 7], [1 2]) – скалярное произведение этих векторов\n",
    "\n",
    "5\\*1 + 7\\*2 = 19\n",
    "\n",
    "\n",
    "**1, 2**  \n",
    "([5, 7], [2, 6])  \n",
    "5\\*2 + 7\\*6 = 52"
   ]
  },
  {
   "cell_type": "code",
   "execution_count": 27,
   "metadata": {
    "colab": {
     "base_uri": "https://localhost:8080/"
    },
    "id": "ZbEB4o7Qkz_F",
    "outputId": "128bbc88-6e87-45ae-cbfa-ef21370b79b9"
   },
   "outputs": [
    {
     "data": {
      "text/plain": [
       "array([[49, 63],\n",
       "       [15,  9]])"
      ]
     },
     "execution_count": 27,
     "metadata": {},
     "output_type": "execute_result"
    }
   ],
   "source": [
    "np.dot(a, b)"
   ]
  },
  {
   "cell_type": "code",
   "execution_count": 28,
   "metadata": {
    "colab": {
     "base_uri": "https://localhost:8080/"
    },
    "id": "W9i1tj9zkz_F",
    "outputId": "d2f33e38-f3b7-4566-893e-54c988f93295"
   },
   "outputs": [
    {
     "data": {
      "text/plain": [
       "array([[49, 63],\n",
       "       [15,  9]])"
      ]
     },
     "execution_count": 28,
     "metadata": {},
     "output_type": "execute_result"
    }
   ],
   "source": [
    "a @ b"
   ]
  },
  {
   "cell_type": "code",
   "execution_count": 29,
   "metadata": {
    "colab": {
     "base_uri": "https://localhost:8080/"
    },
    "id": "CaSyru4skz_G",
    "outputId": "08ad71bf-d2d6-4302-fc2c-33618e81670c"
   },
   "outputs": [
    {
     "data": {
      "text/plain": [
       "array([[49, 63],\n",
       "       [15,  9]])"
      ]
     },
     "execution_count": 29,
     "metadata": {},
     "output_type": "execute_result"
    }
   ],
   "source": [
    "np.matmul(a, b)"
   ]
  },
  {
   "cell_type": "markdown",
   "metadata": {
    "id": "1LDe6zPekz_G"
   },
   "source": [
    "dot и matmul работают одинаково для 2д матриц, но matmul не позволяет перемножать скаляры и работает по-другому для измерений 3+"
   ]
  },
  {
   "cell_type": "code",
   "execution_count": 30,
   "metadata": {
    "id": "ecUKEd7dkz_G"
   },
   "outputs": [],
   "source": [
    "a = np.random.randint(0, 5, (2, 5))\n",
    "b = np.random.randint(0, 5, (5, 3))"
   ]
  },
  {
   "cell_type": "code",
   "execution_count": 31,
   "metadata": {
    "colab": {
     "base_uri": "https://localhost:8080/"
    },
    "id": "8oPgRp_1kz_G",
    "outputId": "745a8476-2b82-49ff-85c0-55e88729aeb8"
   },
   "outputs": [
    {
     "data": {
      "text/plain": [
       "(array([[1, 1, 4, 3, 4],\n",
       "        [4, 3, 0, 1, 2]]), array([[4, 4, 0],\n",
       "        [2, 2, 2],\n",
       "        [2, 0, 3],\n",
       "        [4, 1, 0],\n",
       "        [2, 1, 3]]))"
      ]
     },
     "execution_count": 31,
     "metadata": {},
     "output_type": "execute_result"
    }
   ],
   "source": [
    "a, b"
   ]
  },
  {
   "cell_type": "code",
   "execution_count": 32,
   "metadata": {
    "id": "Af0861a6kz_G"
   },
   "outputs": [],
   "source": [
    "result = np.matmul(a, b)"
   ]
  },
  {
   "cell_type": "code",
   "execution_count": 33,
   "metadata": {
    "colab": {
     "base_uri": "https://localhost:8080/"
    },
    "id": "2Wu4HvmVkz_G",
    "outputId": "ce72a197-abd7-4484-c0d4-2dcddf479a45"
   },
   "outputs": [
    {
     "data": {
      "text/plain": [
       "array([[34, 13, 26],\n",
       "       [30, 25, 12]])"
      ]
     },
     "execution_count": 33,
     "metadata": {},
     "output_type": "execute_result"
    }
   ],
   "source": [
    "result"
   ]
  },
  {
   "cell_type": "markdown",
   "metadata": {
    "id": "96zcES2vkz_G"
   },
   "source": [
    "Размерность:"
   ]
  },
  {
   "cell_type": "code",
   "execution_count": 34,
   "metadata": {
    "colab": {
     "base_uri": "https://localhost:8080/"
    },
    "id": "FYxnB08Ckz_H",
    "outputId": "e15edd1e-40d1-4999-862d-ea8a06aaad68"
   },
   "outputs": [
    {
     "data": {
      "text/plain": [
       "(2, 3)"
      ]
     },
     "execution_count": 34,
     "metadata": {},
     "output_type": "execute_result"
    }
   ],
   "source": [
    "result.shape"
   ]
  },
  {
   "cell_type": "markdown",
   "metadata": {
    "id": "qm50vGWekz_H"
   },
   "source": [
    "## 5. Связь со скалярным произведением"
   ]
  },
  {
   "cell_type": "code",
   "execution_count": 35,
   "metadata": {
    "colab": {
     "base_uri": "https://localhost:8080/"
    },
    "id": "BiU1A4s2kz_H",
    "outputId": "55ff820a-7ea2-4595-93bd-a88b01cd6f71"
   },
   "outputs": [
    {
     "data": {
      "text/plain": [
       "array([[34, 13, 26],\n",
       "       [30, 25, 12]])"
      ]
     },
     "execution_count": 35,
     "metadata": {},
     "output_type": "execute_result"
    }
   ],
   "source": [
    "result"
   ]
  },
  {
   "cell_type": "code",
   "execution_count": 36,
   "metadata": {
    "colab": {
     "base_uri": "https://localhost:8080/"
    },
    "id": "qj5wB2kSkz_H",
    "outputId": "ab892658-48aa-480e-8700-7639e99ba431"
   },
   "outputs": [
    {
     "data": {
      "text/plain": [
       "12"
      ]
     },
     "execution_count": 36,
     "metadata": {},
     "output_type": "execute_result"
    }
   ],
   "source": [
    "# i = 1, j = 2\n",
    "result[1, 2]"
   ]
  },
  {
   "cell_type": "code",
   "execution_count": 37,
   "metadata": {
    "colab": {
     "base_uri": "https://localhost:8080/"
    },
    "id": "ceCBCzN0kz_H",
    "outputId": "2c8472ab-2ee1-4d52-f0a6-e2a13fb638c8"
   },
   "outputs": [
    {
     "data": {
      "text/plain": [
       "(array([[1, 1, 4, 3, 4],\n",
       "        [4, 3, 0, 1, 2]]), array([[4, 4, 0],\n",
       "        [2, 2, 2],\n",
       "        [2, 0, 3],\n",
       "        [4, 1, 0],\n",
       "        [2, 1, 3]]))"
      ]
     },
     "execution_count": 37,
     "metadata": {},
     "output_type": "execute_result"
    }
   ],
   "source": [
    "a, b"
   ]
  },
  {
   "cell_type": "code",
   "execution_count": 38,
   "metadata": {
    "colab": {
     "base_uri": "https://localhost:8080/"
    },
    "id": "QcZ1NQZKkz_H",
    "outputId": "522ee979-dd96-4c30-e2eb-c5610deb8bc8"
   },
   "outputs": [
    {
     "data": {
      "text/plain": [
       "12"
      ]
     },
     "execution_count": 38,
     "metadata": {},
     "output_type": "execute_result"
    }
   ],
   "source": [
    "np.dot(a[1,:], b[:, 2])"
   ]
  },
  {
   "cell_type": "markdown",
   "metadata": {
    "id": "KwzJpcupkz_I"
   },
   "source": [
    "В результате умножения матриц в элементе с индексом (i, j) лежит скалярное произведение i-й строки первой матрицы на j-й столбец второй матрицы"
   ]
  },
  {
   "cell_type": "markdown",
   "metadata": {
    "id": "dCk6k6mFkz_I"
   },
   "source": [
    "## 6. Умножение матриц некоммутативно"
   ]
  },
  {
   "cell_type": "markdown",
   "metadata": {
    "id": "AB7ExXTGkz_I"
   },
   "source": [
    "Если средние размерности не совпадают, то умножить вообще нельзя:"
   ]
  },
  {
   "cell_type": "markdown",
   "metadata": {
    "id": "ysT4lntZkz_I"
   },
   "source": [
    "Перемножение скаляров коммутативно:"
   ]
  },
  {
   "cell_type": "code",
   "execution_count": 39,
   "metadata": {
    "colab": {
     "base_uri": "https://localhost:8080/"
    },
    "id": "FhU9BPF_kz_I",
    "outputId": "a137e4ff-eac9-4e6d-a91e-900fd48483e1"
   },
   "outputs": [
    {
     "data": {
      "text/plain": [
       "True"
      ]
     },
     "execution_count": 39,
     "metadata": {},
     "output_type": "execute_result"
    }
   ],
   "source": [
    "2 * 3 == 3 * 2"
   ]
  },
  {
   "cell_type": "code",
   "execution_count": 40,
   "metadata": {
    "id": "dZCRX57Akz_I"
   },
   "outputs": [],
   "source": [
    "a = np.random.randint(0, 5, (2, 5))\n",
    "b = np.random.randint(0, 5, (4, 3))\n",
    "# np.dot(a, b)"
   ]
  },
  {
   "cell_type": "markdown",
   "metadata": {
    "id": "yGmj2B3ykz_J"
   },
   "source": [
    "Средние размерности совпадают, но размерности матриц разные:"
   ]
  },
  {
   "cell_type": "code",
   "execution_count": 41,
   "metadata": {
    "id": "_r0lSOrWkz_J"
   },
   "outputs": [],
   "source": [
    "a = np.random.randint(0, 5, (2, 5))\n",
    "b = np.random.randint(0, 5, (5, 3))"
   ]
  },
  {
   "cell_type": "code",
   "execution_count": 42,
   "metadata": {
    "id": "59gRDtAkkz_J"
   },
   "outputs": [],
   "source": [
    "# np.dot(a, b)"
   ]
  },
  {
   "cell_type": "code",
   "execution_count": 43,
   "metadata": {
    "id": "5dcfqW0Ukz_J"
   },
   "outputs": [],
   "source": [
    "# np.dot(b, a)"
   ]
  },
  {
   "cell_type": "markdown",
   "metadata": {
    "id": "UF2-pLe1kz_J"
   },
   "source": [
    "Размерности матриц одинаковые:"
   ]
  },
  {
   "cell_type": "code",
   "execution_count": 44,
   "metadata": {
    "id": "MPDvPo4ykz_J"
   },
   "outputs": [],
   "source": [
    "a = np.random.randint(0, 5, (2, 2))\n",
    "b = np.random.randint(0, 5, (2, 2))"
   ]
  },
  {
   "cell_type": "code",
   "execution_count": 45,
   "metadata": {
    "colab": {
     "base_uri": "https://localhost:8080/"
    },
    "id": "HYf4c1s6kz_K",
    "outputId": "02dc22a6-1784-4426-bff3-abfa8a2ca0fb"
   },
   "outputs": [
    {
     "data": {
      "text/plain": [
       "(array([[2, 2],\n",
       "        [4, 4]]), array([[4, 0],\n",
       "        [0, 4]]))"
      ]
     },
     "execution_count": 45,
     "metadata": {},
     "output_type": "execute_result"
    }
   ],
   "source": [
    "a, b"
   ]
  },
  {
   "cell_type": "code",
   "execution_count": 46,
   "metadata": {
    "colab": {
     "base_uri": "https://localhost:8080/"
    },
    "id": "X4TjAIc7kz_K",
    "outputId": "29f0897a-6a70-4f8f-91b4-958b2b235dcf"
   },
   "outputs": [
    {
     "data": {
      "text/plain": [
       "array([[ 8,  8],\n",
       "       [16, 16]])"
      ]
     },
     "execution_count": 46,
     "metadata": {},
     "output_type": "execute_result"
    }
   ],
   "source": [
    "np.dot(a, b)"
   ]
  },
  {
   "cell_type": "code",
   "execution_count": 47,
   "metadata": {
    "colab": {
     "base_uri": "https://localhost:8080/"
    },
    "id": "zA-xR5Qqkz_K",
    "outputId": "2b1cccc2-1bb3-4617-a3c9-e8f357bf08a7"
   },
   "outputs": [
    {
     "data": {
      "text/plain": [
       "array([[ 8,  8],\n",
       "       [16, 16]])"
      ]
     },
     "execution_count": 47,
     "metadata": {},
     "output_type": "execute_result"
    }
   ],
   "source": [
    "np.dot(b, a)"
   ]
  },
  {
   "cell_type": "markdown",
   "metadata": {
    "id": "VcYhhcrakz_K"
   },
   "source": [
    "## 7. Умножение матриц ассоциативно"
   ]
  },
  {
   "cell_type": "markdown",
   "metadata": {
    "id": "BCwj_ucGkz_K"
   },
   "source": [
    "$$(AxB)xC==Ax(BxC)$$"
   ]
  },
  {
   "cell_type": "code",
   "execution_count": 48,
   "metadata": {
    "id": "KgNsADYqkz_K"
   },
   "outputs": [],
   "source": [
    "a = np.random.randint(0, 5, (2, 2))\n",
    "b = np.random.randint(0, 5, (2, 2))\n",
    "c = np.random.randint(0, 5, (2, 2))"
   ]
  },
  {
   "cell_type": "code",
   "execution_count": 49,
   "metadata": {
    "colab": {
     "base_uri": "https://localhost:8080/"
    },
    "id": "75wGl0yHkz_L",
    "outputId": "ad7ad35a-307f-440c-de49-a33f12956efe"
   },
   "outputs": [
    {
     "data": {
      "text/plain": [
       "array([[ True,  True],\n",
       "       [ True,  True]])"
      ]
     },
     "execution_count": 49,
     "metadata": {},
     "output_type": "execute_result"
    }
   ],
   "source": [
    "np.dot(np.dot(a, b), c) == np.dot(a, np.dot(b, c))"
   ]
  },
  {
   "cell_type": "markdown",
   "metadata": {
    "id": "BS-BH0Zdkz_L"
   },
   "source": [
    "## 8. Вычисление определителей"
   ]
  },
  {
   "cell_type": "code",
   "execution_count": 50,
   "metadata": {
    "colab": {
     "base_uri": "https://localhost:8080/"
    },
    "id": "7I7XZrIfkz_L",
    "outputId": "14897216-8070-4b4b-d048-1d3fe12fe853"
   },
   "outputs": [
    {
     "data": {
      "text/plain": [
       "array([[3, 4],\n",
       "       [0, 3]])"
      ]
     },
     "execution_count": 50,
     "metadata": {},
     "output_type": "execute_result"
    }
   ],
   "source": [
    "a = np.random.randint(0, 5, (2, 2))\n",
    "a"
   ]
  },
  {
   "cell_type": "code",
   "execution_count": 51,
   "metadata": {
    "colab": {
     "base_uri": "https://localhost:8080/"
    },
    "id": "3h6ZCyDQkz_L",
    "outputId": "0ba560cb-dc5d-48cf-b528-c6ed0101d6db"
   },
   "outputs": [
    {
     "data": {
      "text/plain": [
       "9"
      ]
     },
     "execution_count": 51,
     "metadata": {},
     "output_type": "execute_result"
    }
   ],
   "source": [
    "det = a[0, 0]*a[1, 1] - a[1, 0]*a[0, 1]\n",
    "det"
   ]
  },
  {
   "cell_type": "code",
   "execution_count": 52,
   "metadata": {
    "colab": {
     "base_uri": "https://localhost:8080/"
    },
    "id": "pw0p4Xj2kz_L",
    "outputId": "510a7f54-7956-40d7-97f4-536b1b5782b1"
   },
   "outputs": [
    {
     "data": {
      "text/plain": [
       "9.000000000000002"
      ]
     },
     "execution_count": 52,
     "metadata": {},
     "output_type": "execute_result"
    }
   ],
   "source": [
    "np.linalg.det(a)"
   ]
  },
  {
   "cell_type": "markdown",
   "metadata": {
    "id": "WZ3E6smmkz_L"
   },
   "source": [
    "Примеры:"
   ]
  },
  {
   "cell_type": "code",
   "execution_count": 53,
   "metadata": {
    "colab": {
     "base_uri": "https://localhost:8080/"
    },
    "id": "FjqkQ_D-kz_L",
    "outputId": "be711cb4-a17f-483c-dbe1-292ea74480a5"
   },
   "outputs": [
    {
     "data": {
      "text/plain": [
       "0.0"
      ]
     },
     "execution_count": 53,
     "metadata": {},
     "output_type": "execute_result"
    }
   ],
   "source": [
    "# Вторая строка равна первой, умноженной на 2 – строки линейно зависимы\n",
    "np.linalg.det(np.array([[1, 2], [2, 4]]))"
   ]
  },
  {
   "cell_type": "code",
   "execution_count": 54,
   "metadata": {
    "colab": {
     "base_uri": "https://localhost:8080/"
    },
    "id": "3db78IlPkz_M",
    "outputId": "7e972ef4-e32b-489c-d7f3-31b0850f16b6"
   },
   "outputs": [
    {
     "data": {
      "text/plain": [
       "6.0"
      ]
     },
     "execution_count": 54,
     "metadata": {},
     "output_type": "execute_result"
    }
   ],
   "source": [
    "# Диагональная матрица, поэтому произведение элементов на диагонали\n",
    "np.linalg.det(np.array([[2, 0], [0, 3]]))"
   ]
  },
  {
   "cell_type": "code",
   "execution_count": 55,
   "metadata": {
    "colab": {
     "base_uri": "https://localhost:8080/"
    },
    "id": "JwIVPlG1kz_M",
    "outputId": "615505fb-e5ed-439d-fedc-8807bda1c33e"
   },
   "outputs": [
    {
     "data": {
      "text/plain": [
       "array([[2, 2],\n",
       "       [0, 3]])"
      ]
     },
     "execution_count": 55,
     "metadata": {},
     "output_type": "execute_result"
    }
   ],
   "source": [
    "np.array([[2, 2], [0, 3]])"
   ]
  },
  {
   "cell_type": "code",
   "execution_count": 56,
   "metadata": {
    "colab": {
     "base_uri": "https://localhost:8080/"
    },
    "id": "wsmrUhMWkz_M",
    "outputId": "eb5cafd2-f6f6-462c-cc30-ffb75f33e76c"
   },
   "outputs": [
    {
     "data": {
      "text/plain": [
       "6.0"
      ]
     },
     "execution_count": 56,
     "metadata": {},
     "output_type": "execute_result"
    }
   ],
   "source": [
    "# Верхнетреугольная матрица, поэтому произведение элементов на диагонали\n",
    "np.linalg.det(np.array([[2, 2], [0, 3]]))"
   ]
  },
  {
   "cell_type": "markdown",
   "metadata": {
    "id": "-QoVTJ6pkz_M"
   },
   "source": [
    "## 9. Определитель произведения матриц"
   ]
  },
  {
   "cell_type": "markdown",
   "metadata": {
    "id": "D4IQZNPrkz_M"
   },
   "source": [
    "$$det(A*B)=det(A)*det(B)$$"
   ]
  },
  {
   "cell_type": "code",
   "execution_count": 57,
   "metadata": {
    "id": "wvWL5z3Mkz_M"
   },
   "outputs": [],
   "source": [
    "a = np.random.randint(0, 5, (2, 2))\n",
    "b = np.random.randint(0, 5, (2, 2))"
   ]
  },
  {
   "cell_type": "code",
   "execution_count": 58,
   "metadata": {
    "colab": {
     "base_uri": "https://localhost:8080/"
    },
    "id": "rlOgfIdMkz_M",
    "outputId": "bb308d0b-87ba-4b5d-d2f5-81e88e1cf71b"
   },
   "outputs": [
    {
     "data": {
      "text/plain": [
       "(array([[3, 1],\n",
       "        [1, 0]]), array([[2, 0],\n",
       "        [4, 2]]))"
      ]
     },
     "execution_count": 58,
     "metadata": {},
     "output_type": "execute_result"
    }
   ],
   "source": [
    "a, b"
   ]
  },
  {
   "cell_type": "code",
   "execution_count": 59,
   "metadata": {
    "colab": {
     "base_uri": "https://localhost:8080/"
    },
    "id": "tR8ipnqpkz_M",
    "outputId": "282be65a-df19-44c9-f9b9-2703b95f610a"
   },
   "outputs": [
    {
     "data": {
      "text/plain": [
       "-4.000000000000001"
      ]
     },
     "execution_count": 59,
     "metadata": {},
     "output_type": "execute_result"
    }
   ],
   "source": [
    "np.linalg.det(np.dot(a, b))"
   ]
  },
  {
   "cell_type": "code",
   "execution_count": 60,
   "metadata": {
    "colab": {
     "base_uri": "https://localhost:8080/"
    },
    "id": "RQNeCs70kz_N",
    "outputId": "c1495ace-9cbd-49f0-a4c2-ee3d38720c91"
   },
   "outputs": [
    {
     "data": {
      "text/plain": [
       "-4.0"
      ]
     },
     "execution_count": 60,
     "metadata": {},
     "output_type": "execute_result"
    }
   ],
   "source": [
    "np.linalg.det(a) * np.linalg.det(b)"
   ]
  },
  {
   "cell_type": "markdown",
   "metadata": {
    "id": "KmEJRZVskz_N"
   },
   "source": [
    "## 10. Единичная и обратная матрицы"
   ]
  },
  {
   "cell_type": "markdown",
   "metadata": {
    "id": "XlTriJ-7kz_N"
   },
   "source": [
    "Вычисления работают для квадратных матриц. Если определитель равен 0, обратной матрицы не существует."
   ]
  },
  {
   "cell_type": "markdown",
   "metadata": {
    "id": "QONVZQZDkz_N"
   },
   "source": [
    "$$A \\cdot A^{-1} = E$$"
   ]
  },
  {
   "cell_type": "code",
   "execution_count": 61,
   "metadata": {
    "colab": {
     "base_uri": "https://localhost:8080/"
    },
    "id": "Y0E1T-6Xkz_N",
    "outputId": "1da3518c-89c6-4988-8407-8ab1bdf92d43"
   },
   "outputs": [
    {
     "data": {
      "text/plain": [
       "array([[3, 1],\n",
       "       [1, 0]])"
      ]
     },
     "execution_count": 61,
     "metadata": {},
     "output_type": "execute_result"
    }
   ],
   "source": [
    "a"
   ]
  },
  {
   "cell_type": "code",
   "execution_count": 62,
   "metadata": {
    "colab": {
     "base_uri": "https://localhost:8080/"
    },
    "id": "oDvvYG8dkz_N",
    "outputId": "63176572-c2a5-48ba-9d51-1a17fecf2159"
   },
   "outputs": [
    {
     "data": {
      "text/plain": [
       "-1.0"
      ]
     },
     "execution_count": 62,
     "metadata": {},
     "output_type": "execute_result"
    }
   ],
   "source": [
    "np.linalg.det(a)"
   ]
  },
  {
   "cell_type": "code",
   "execution_count": 63,
   "metadata": {
    "colab": {
     "base_uri": "https://localhost:8080/"
    },
    "id": "qYnAXUJzkz_N",
    "outputId": "9d02d9e9-b8f4-47f1-caa2-b4cfd0e6a0a7"
   },
   "outputs": [
    {
     "data": {
      "text/plain": [
       "array([[ 0.,  1.],\n",
       "       [ 1., -3.]])"
      ]
     },
     "execution_count": 63,
     "metadata": {},
     "output_type": "execute_result"
    }
   ],
   "source": [
    "np.linalg.inv(a)"
   ]
  },
  {
   "cell_type": "code",
   "execution_count": 64,
   "metadata": {
    "colab": {
     "base_uri": "https://localhost:8080/"
    },
    "id": "XM_E6jLQkz_O",
    "outputId": "42bc6da4-0076-4902-92fa-8c061d4e4e8a"
   },
   "outputs": [
    {
     "data": {
      "text/plain": [
       "array([[1., 0.],\n",
       "       [0., 1.]])"
      ]
     },
     "execution_count": 64,
     "metadata": {},
     "output_type": "execute_result"
    }
   ],
   "source": [
    "np.dot(np.linalg.inv(a), a)"
   ]
  },
  {
   "cell_type": "code",
   "execution_count": 65,
   "metadata": {
    "colab": {
     "base_uri": "https://localhost:8080/"
    },
    "id": "d9erF8pHkz_O",
    "outputId": "9a627afd-b66d-441d-f1e7-7cbd8574b6fd"
   },
   "outputs": [
    {
     "data": {
      "text/plain": [
       "0.0"
      ]
     },
     "execution_count": 65,
     "metadata": {},
     "output_type": "execute_result"
    }
   ],
   "source": [
    "np.linalg.det(np.array([[1, 2], [2, 4]]))"
   ]
  },
  {
   "cell_type": "code",
   "execution_count": 66,
   "metadata": {
    "id": "-9IXY35Pkz_O"
   },
   "outputs": [],
   "source": [
    "# np.linalg.inv(np.array([[1, 2], [2, 4]]))\n",
    "# LinAlgError: Singular matrix"
   ]
  },
  {
   "cell_type": "markdown",
   "metadata": {
    "id": "HN_VJVE-kz_O"
   },
   "source": [
    "## 11. Коммутативность прямой и обратной матрицы"
   ]
  },
  {
   "cell_type": "markdown",
   "metadata": {
    "id": "z_BSezkakz_O"
   },
   "source": [
    "$$A \\cdot A^{-1} = A^{-1} \\cdot A  = E$$"
   ]
  },
  {
   "cell_type": "code",
   "execution_count": 67,
   "metadata": {
    "colab": {
     "base_uri": "https://localhost:8080/"
    },
    "id": "zr1uxPCxkz_O",
    "outputId": "da184751-6cf4-47f0-b5ed-4df59f534abd"
   },
   "outputs": [
    {
     "data": {
      "text/plain": [
       "array([[3, 1],\n",
       "       [1, 0]])"
      ]
     },
     "execution_count": 67,
     "metadata": {},
     "output_type": "execute_result"
    }
   ],
   "source": [
    "a"
   ]
  },
  {
   "cell_type": "code",
   "execution_count": 68,
   "metadata": {
    "id": "r8FIPyYqkz_O"
   },
   "outputs": [],
   "source": [
    "inv_a = np.linalg.inv(a)"
   ]
  },
  {
   "cell_type": "code",
   "execution_count": 69,
   "metadata": {
    "colab": {
     "base_uri": "https://localhost:8080/"
    },
    "id": "twrGlcSBkz_O",
    "outputId": "8b2a5eba-d4f9-4827-a39a-df88ebf8d992"
   },
   "outputs": [
    {
     "data": {
      "text/plain": [
       "array([[ 0.,  1.],\n",
       "       [ 1., -3.]])"
      ]
     },
     "execution_count": 69,
     "metadata": {},
     "output_type": "execute_result"
    }
   ],
   "source": [
    "inv_a"
   ]
  },
  {
   "cell_type": "code",
   "execution_count": 70,
   "metadata": {
    "colab": {
     "base_uri": "https://localhost:8080/"
    },
    "id": "lbrlvJ-9kz_P",
    "outputId": "081d31f3-2aa2-44a6-84ec-b33c7605b2d2"
   },
   "outputs": [
    {
     "data": {
      "text/plain": [
       "array([[1, 0],\n",
       "       [0, 1]])"
      ]
     },
     "execution_count": 70,
     "metadata": {},
     "output_type": "execute_result"
    }
   ],
   "source": [
    "np.dot(a, inv_a).astype(int)"
   ]
  },
  {
   "cell_type": "code",
   "execution_count": 71,
   "metadata": {
    "colab": {
     "base_uri": "https://localhost:8080/"
    },
    "id": "Ud581M1Kkz_P",
    "outputId": "9b6dc809-05a0-4070-a27d-68ea3f4e3898"
   },
   "outputs": [
    {
     "data": {
      "text/plain": [
       "array([[1., 0.],\n",
       "       [0., 1.]])"
      ]
     },
     "execution_count": 71,
     "metadata": {},
     "output_type": "execute_result"
    }
   ],
   "source": [
    "np.dot(inv_a, a)"
   ]
  },
  {
   "cell_type": "markdown",
   "metadata": {
    "id": "2hao9fRYkz_P"
   },
   "source": [
    "## 12. Поиск обратной матрицы методом Крамера"
   ]
  },
  {
   "cell_type": "code",
   "execution_count": 72,
   "metadata": {
    "id": "hzl0cM_Qkz_P"
   },
   "outputs": [],
   "source": [
    "def matrix_inverse(m):\n",
    "    # только 2D\n",
    "    determinant = np.linalg.det(m)\n",
    "    return [[m[1][1]/determinant, -1*m[0][1]/determinant],\n",
    "            [-1*m[1][0]/determinant, m[0][0]/determinant]]"
   ]
  },
  {
   "cell_type": "code",
   "execution_count": 73,
   "metadata": {
    "colab": {
     "base_uri": "https://localhost:8080/"
    },
    "id": "hRIszEShkz_P",
    "outputId": "14d02606-82f2-4988-caab-d56e26fb86fa"
   },
   "outputs": [
    {
     "data": {
      "text/plain": [
       "array([[3, 1],\n",
       "       [1, 0]])"
      ]
     },
     "execution_count": 73,
     "metadata": {},
     "output_type": "execute_result"
    }
   ],
   "source": [
    "a"
   ]
  },
  {
   "cell_type": "code",
   "execution_count": 74,
   "metadata": {
    "colab": {
     "base_uri": "https://localhost:8080/"
    },
    "id": "29iEBMiRkz_P",
    "outputId": "540bea45-a552-4cd6-ca79-e5fab103c755"
   },
   "outputs": [
    {
     "data": {
      "text/plain": [
       "array([[ 0.,  1.],\n",
       "       [ 1., -3.]])"
      ]
     },
     "execution_count": 74,
     "metadata": {},
     "output_type": "execute_result"
    }
   ],
   "source": [
    "np.linalg.inv(a)"
   ]
  },
  {
   "cell_type": "code",
   "execution_count": 75,
   "metadata": {
    "colab": {
     "base_uri": "https://localhost:8080/"
    },
    "id": "WsGI33rFkz_P",
    "outputId": "72bb8e8a-b3b1-4e35-d299-654e38573de8"
   },
   "outputs": [
    {
     "data": {
      "text/plain": [
       "array([[-0.,  1.],\n",
       "       [ 1., -3.]])"
      ]
     },
     "execution_count": 75,
     "metadata": {},
     "output_type": "execute_result"
    }
   ],
   "source": [
    "np.array(matrix_inverse(a))"
   ]
  },
  {
   "cell_type": "markdown",
   "metadata": {
    "id": "uWU0lfXVkz_Q"
   },
   "source": [
    "## 13. Тензорное произведение векторов"
   ]
  },
  {
   "cell_type": "markdown",
   "metadata": {
    "id": "7BmT0HURkz_Q"
   },
   "source": [
    "Как работает:"
   ]
  },
  {
   "cell_type": "markdown",
   "metadata": {
    "id": "YXU8GKb0kz_Q"
   },
   "source": [
    "$$a = \n",
    "\\begin{pmatrix}\n",
    "a_1 & a_2\n",
    "\\end{pmatrix}$$"
   ]
  },
  {
   "cell_type": "markdown",
   "metadata": {
    "id": "UyReCHdQkz_Q"
   },
   "source": [
    "$$b = \n",
    "\\begin{pmatrix}\n",
    "b_1 & b_2\n",
    "\\end{pmatrix}$$"
   ]
  },
  {
   "cell_type": "markdown",
   "metadata": {
    "id": "XWQyo9dMkz_Q"
   },
   "source": [
    "$$\n",
    "c = a \\space tensordot \\space b = \n",
    "\\begin{pmatrix}\n",
    "a_1 \\cdot [b_1, b_2] \\\\\n",
    "a_2 \\cdot [b_1, b_2] \\\\\n",
    "\\end{pmatrix}\n",
    "$$"
   ]
  },
  {
   "cell_type": "code",
   "execution_count": 76,
   "metadata": {
    "id": "Y-_EK2gGkz_Q"
   },
   "outputs": [],
   "source": [
    "a = np.random.randint(0, 10, size=2)\n",
    "b = np.random.randint(0, 10, size=2)"
   ]
  },
  {
   "cell_type": "code",
   "execution_count": 77,
   "metadata": {
    "colab": {
     "base_uri": "https://localhost:8080/"
    },
    "id": "vy-KpFU3kz_Q",
    "outputId": "d7169614-3113-4612-a207-5c1b5c44b1cb"
   },
   "outputs": [
    {
     "data": {
      "text/plain": [
       "(array([8, 5]), array([2, 2]))"
      ]
     },
     "execution_count": 77,
     "metadata": {},
     "output_type": "execute_result"
    }
   ],
   "source": [
    "a, b"
   ]
  },
  {
   "cell_type": "code",
   "execution_count": 78,
   "metadata": {
    "colab": {
     "base_uri": "https://localhost:8080/"
    },
    "id": "rPbTZ7r8kz_Q",
    "outputId": "c74a9dbf-55f1-476c-a572-84263e5d2a9b"
   },
   "outputs": [
    {
     "data": {
      "text/plain": [
       "array([[16, 16],\n",
       "       [10, 10]])"
      ]
     },
     "execution_count": 78,
     "metadata": {},
     "output_type": "execute_result"
    }
   ],
   "source": [
    "np.tensordot(a, b, axes=0)"
   ]
  },
  {
   "cell_type": "markdown",
   "metadata": {
    "id": "Q472kr3lkz_Q"
   },
   "source": [
    "Ссылка: https://machinelearningmastery.com/introduction-to-tensors-for-machine-learning/"
   ]
  },
  {
   "cell_type": "markdown",
   "metadata": {
    "id": "HmSCkBiNkz_R"
   },
   "source": [
    "Посмотрим как делать slice в тензоре"
   ]
  },
  {
   "cell_type": "code",
   "execution_count": 79,
   "metadata": {
    "id": "t9SfLcWRkz_R"
   },
   "outputs": [],
   "source": [
    "test = np.random.randint(0, 10, size=(2, 2, 3))"
   ]
  },
  {
   "cell_type": "code",
   "execution_count": 80,
   "metadata": {
    "colab": {
     "base_uri": "https://localhost:8080/"
    },
    "id": "kkWaUWAAkz_R",
    "outputId": "147deda4-2a01-44f9-e990-3b1d7bbdd377"
   },
   "outputs": [
    {
     "data": {
      "text/plain": [
       "array([[[8, 3, 9],\n",
       "        [0, 9, 9]],\n",
       "\n",
       "       [[5, 7, 8],\n",
       "        [4, 7, 9]]])"
      ]
     },
     "execution_count": 80,
     "metadata": {},
     "output_type": "execute_result"
    }
   ],
   "source": [
    "test"
   ]
  },
  {
   "cell_type": "code",
   "execution_count": 81,
   "metadata": {
    "colab": {
     "base_uri": "https://localhost:8080/"
    },
    "id": "XQ7uFJFLkz_R",
    "outputId": "fd9c138f-8caa-46e7-b90c-c150212493f2"
   },
   "outputs": [
    {
     "data": {
      "text/plain": [
       "array([[3, 9],\n",
       "       [7, 7]])"
      ]
     },
     "execution_count": 81,
     "metadata": {},
     "output_type": "execute_result"
    }
   ],
   "source": [
    "test[:, :, 1]"
   ]
  },
  {
   "cell_type": "code",
   "execution_count": 1,
   "metadata": {
    "executionInfo": {
     "elapsed": 5,
     "status": "ok",
     "timestamp": 1625086966220,
     "user": {
      "displayName": "Alex Skrn",
      "photoUrl": "https://lh3.googleusercontent.com/a-/AOh14GhvDGL0gITiWuZeBk8WuqiFgNjo86fRwcdf3MuZHg=s64",
      "userId": "00614715397981539727"
     },
     "user_tz": -180
    },
    "id": "Wbka5omjif5z"
   },
   "outputs": [],
   "source": [
    "import numpy as np\n",
    "import pandas as pd"
   ]
  },
  {
   "cell_type": "code",
   "execution_count": 7,
   "metadata": {
    "executionInfo": {
     "elapsed": 306,
     "status": "ok",
     "timestamp": 1624999972444,
     "user": {
      "displayName": "Alex Skrn",
      "photoUrl": "https://lh3.googleusercontent.com/a-/AOh14GhvDGL0gITiWuZeBk8WuqiFgNjo86fRwcdf3MuZHg=s64",
      "userId": "00614715397981539727"
     },
     "user_tz": -180
    },
    "id": "hfisDGgOihWO"
   },
   "outputs": [],
   "source": [
    "apartment = np.array([59.50, 31.40, 19, 2, 60550, 2])\n"
   ]
  },
  {
   "cell_type": "code",
   "execution_count": 3,
   "metadata": {
    "executionInfo": {
     "elapsed": 4,
     "status": "ok",
     "timestamp": 1624999897530,
     "user": {
      "displayName": "Alex Skrn",
      "photoUrl": "https://lh3.googleusercontent.com/a-/AOh14GhvDGL0gITiWuZeBk8WuqiFgNjo86fRwcdf3MuZHg=s64",
      "userId": "00614715397981539727"
     },
     "user_tz": -180
    },
    "id": "zU-QquGSiphY"
   },
   "outputs": [],
   "source": [
    "share_living_space = apartment[1]/apartment[0]"
   ]
  },
  {
   "cell_type": "code",
   "execution_count": 4,
   "metadata": {
    "colab": {
     "base_uri": "https://localhost:8080/"
    },
    "executionInfo": {
     "elapsed": 256,
     "status": "ok",
     "timestamp": 1624999901484,
     "user": {
      "displayName": "Alex Skrn",
      "photoUrl": "https://lh3.googleusercontent.com/a-/AOh14GhvDGL0gITiWuZeBk8WuqiFgNjo86fRwcdf3MuZHg=s64",
      "userId": "00614715397981539727"
     },
     "user_tz": -180
    },
    "id": "2cztYOyOiqdB",
    "outputId": "0451dc34-22b5-4808-877a-e66fcbefac72"
   },
   "outputs": [
    {
     "data": {
      "text/plain": [
       "0.5277310924369748"
      ]
     },
     "execution_count": 4,
     "metadata": {
      "tags": []
     },
     "output_type": "execute_result"
    }
   ],
   "source": [
    "share_living_space"
   ]
  },
  {
   "cell_type": "code",
   "execution_count": 8,
   "metadata": {
    "colab": {
     "base_uri": "https://localhost:8080/"
    },
    "executionInfo": {
     "elapsed": 305,
     "status": "ok",
     "timestamp": 1624999975210,
     "user": {
      "displayName": "Alex Skrn",
      "photoUrl": "https://lh3.googleusercontent.com/a-/AOh14GhvDGL0gITiWuZeBk8WuqiFgNjo86fRwcdf3MuZHg=s64",
      "userId": "00614715397981539727"
     },
     "user_tz": -180
    },
    "id": "TMukA6RGirbD",
    "outputId": "1f7da537-62c3-4560-cc83-439b22bd73e4"
   },
   "outputs": [
    {
     "data": {
      "text/plain": [
       "1"
      ]
     },
     "execution_count": 8,
     "metadata": {
      "tags": []
     },
     "output_type": "execute_result"
    }
   ],
   "source": [
    "apartment = np.delete(apartment, [0, 1])\n",
    "apartment = np.append(apartment, share_living_space)\n",
    "\n",
    "apartment.ndim"
   ]
  },
  {
   "cell_type": "code",
   "execution_count": 9,
   "metadata": {
    "colab": {
     "base_uri": "https://localhost:8080/"
    },
    "executionInfo": {
     "elapsed": 307,
     "status": "ok",
     "timestamp": 1625000029379,
     "user": {
      "displayName": "Alex Skrn",
      "photoUrl": "https://lh3.googleusercontent.com/a-/AOh14GhvDGL0gITiWuZeBk8WuqiFgNjo86fRwcdf3MuZHg=s64",
      "userId": "00614715397981539727"
     },
     "user_tz": -180
    },
    "id": "4-Gegawdi27y",
    "outputId": "eaf9dc68-1704-4cf5-f690-5e8bc6595d65"
   },
   "outputs": [
    {
     "data": {
      "text/plain": [
       "5"
      ]
     },
     "execution_count": 9,
     "metadata": {
      "tags": []
     },
     "output_type": "execute_result"
    }
   ],
   "source": [
    "len(apartment)"
   ]
  },
  {
   "cell_type": "code",
   "execution_count": 11,
   "metadata": {
    "colab": {
     "base_uri": "https://localhost:8080/"
    },
    "executionInfo": {
     "elapsed": 227,
     "status": "ok",
     "timestamp": 1625000064700,
     "user": {
      "displayName": "Alex Skrn",
      "photoUrl": "https://lh3.googleusercontent.com/a-/AOh14GhvDGL0gITiWuZeBk8WuqiFgNjo86fRwcdf3MuZHg=s64",
      "userId": "00614715397981539727"
     },
     "user_tz": -180
    },
    "id": "SnsX-LH-jKnw",
    "outputId": "effc6460-1d35-4f76-8db6-a62b16761aea"
   },
   "outputs": [
    {
     "data": {
      "text/plain": [
       "21.25"
      ]
     },
     "execution_count": 11,
     "metadata": {
      "tags": []
     },
     "output_type": "execute_result"
    }
   ],
   "source": [
    "t = np.array([12, 14, 17, 19, 24, 28, 31, 31, 27, 22, 17, 13])\n",
    "\n",
    "t.mean()"
   ]
  },
  {
   "cell_type": "code",
   "execution_count": 13,
   "metadata": {
    "colab": {
     "base_uri": "https://localhost:8080/"
    },
    "executionInfo": {
     "elapsed": 266,
     "status": "ok",
     "timestamp": 1625001084810,
     "user": {
      "displayName": "Alex Skrn",
      "photoUrl": "https://lh3.googleusercontent.com/a-/AOh14GhvDGL0gITiWuZeBk8WuqiFgNjo86fRwcdf3MuZHg=s64",
      "userId": "00614715397981539727"
     },
     "user_tz": -180
    },
    "id": "3CDr-Os3jSdp",
    "outputId": "e575ab52-09ed-4aa6-c748-ee4a64fd4703"
   },
   "outputs": [
    {
     "data": {
      "text/plain": [
       "array([394., 496., 400.])"
      ]
     },
     "execution_count": 13,
     "metadata": {
      "tags": []
     },
     "output_type": "execute_result"
    }
   ],
   "source": [
    "np.array([120, 150, 90]) + np.array([130, 130, 130]) + np.array([2,3,2.5])*72"
   ]
  },
  {
   "cell_type": "code",
   "execution_count": 14,
   "metadata": {
    "colab": {
     "base_uri": "https://localhost:8080/"
    },
    "executionInfo": {
     "elapsed": 390,
     "status": "ok",
     "timestamp": 1625001644416,
     "user": {
      "displayName": "Alex Skrn",
      "photoUrl": "https://lh3.googleusercontent.com/a-/AOh14GhvDGL0gITiWuZeBk8WuqiFgNjo86fRwcdf3MuZHg=s64",
      "userId": "00614715397981539727"
     },
     "user_tz": -180
    },
    "id": "n9T7VRXWm44s",
    "outputId": "9019531b-aa69-468d-bf9e-817716ff758e"
   },
   "outputs": [
    {
     "data": {
      "text/plain": [
       "array([-200, 1200,  200,  600])"
      ]
     },
     "execution_count": 14,
     "metadata": {
      "tags": []
     },
     "output_type": "execute_result"
    }
   ],
   "source": [
    "-200*np.array([3,4,5,9]) + 400*np.array([1, 5, 3, 6])"
   ]
  },
  {
   "cell_type": "code",
   "execution_count": 15,
   "metadata": {
    "colab": {
     "base_uri": "https://localhost:8080/"
    },
    "executionInfo": {
     "elapsed": 231,
     "status": "ok",
     "timestamp": 1625002885215,
     "user": {
      "displayName": "Alex Skrn",
      "photoUrl": "https://lh3.googleusercontent.com/a-/AOh14GhvDGL0gITiWuZeBk8WuqiFgNjo86fRwcdf3MuZHg=s64",
      "userId": "00614715397981539727"
     },
     "user_tz": -180
    },
    "id": "_j6BPlzDpU40",
    "outputId": "58a509ca-3d76-421d-9799-0a3a84499071"
   },
   "outputs": [
    {
     "data": {
      "text/plain": [
       "7.280109889280518"
      ]
     },
     "execution_count": 15,
     "metadata": {
      "tags": []
     },
     "output_type": "execute_result"
    }
   ],
   "source": [
    "a = np.array([4,6,1])\n",
    "\n",
    "np.sqrt(np.dot(a, a))"
   ]
  },
  {
   "cell_type": "code",
   "execution_count": 2,
   "metadata": {
    "executionInfo": {
     "elapsed": 319,
     "status": "ok",
     "timestamp": 1625086976378,
     "user": {
      "displayName": "Alex Skrn",
      "photoUrl": "https://lh3.googleusercontent.com/a-/AOh14GhvDGL0gITiWuZeBk8WuqiFgNjo86fRwcdf3MuZHg=s64",
      "userId": "00614715397981539727"
     },
     "user_tz": -180
    },
    "id": "9UurOdMauD3Y"
   },
   "outputs": [],
   "source": [
    "Hut_Paradise_DF = pd.DataFrame({'1.Rent': [65, 70, 120, 35, 40, 50, 100, 90, 85], \n",
    "                                '2.Area': [50, 52, 80, 33, 33, 44, 80, 65, 65], \n",
    "                                '3.Rooms':[3, 2, 1, 1, 1, 2, 4, 3, 2],\n",
    "                                '4.Floor':[5, 12, 10, 3, 6, 13, 8, 21, 5], \n",
    "                                '5.Demo two weeks':[8, 4, 5, 10, 20, 12, 5, 1, 10], \n",
    "                                '6.Liv.Area': [37, 40, 65, 20, 16, 35, 60, 50, 40]})"
   ]
  },
  {
   "cell_type": "code",
   "execution_count": 5,
   "metadata": {
    "colab": {
     "base_uri": "https://localhost:8080/"
    },
    "executionInfo": {
     "elapsed": 311,
     "status": "ok",
     "timestamp": 1625087238931,
     "user": {
      "displayName": "Alex Skrn",
      "photoUrl": "https://lh3.googleusercontent.com/a-/AOh14GhvDGL0gITiWuZeBk8WuqiFgNjo86fRwcdf3MuZHg=s64",
      "userId": "00614715397981539727"
     },
     "user_tz": -180
    },
    "id": "j6Q_xd13u17L",
    "outputId": "5e8e6efa-039e-45c5-b671-dc2791a00d36"
   },
   "outputs": [
    {
     "data": {
      "text/plain": [
       "1.Rent              40\n",
       "2.Area              33\n",
       "3.Rooms              1\n",
       "4.Floor              6\n",
       "5.Demo two weeks    20\n",
       "6.Liv.Area          16\n",
       "Name: 4, dtype: int64"
      ]
     },
     "execution_count": 5,
     "metadata": {
      "tags": []
     },
     "output_type": "execute_result"
    }
   ],
   "source": [
    "Hut_Paradise_DF.loc[4]"
   ]
  },
  {
   "cell_type": "code",
   "execution_count": 6,
   "metadata": {
    "colab": {
     "base_uri": "https://localhost:8080/"
    },
    "executionInfo": {
     "elapsed": 330,
     "status": "ok",
     "timestamp": 1625087269198,
     "user": {
      "displayName": "Alex Skrn",
      "photoUrl": "https://lh3.googleusercontent.com/a-/AOh14GhvDGL0gITiWuZeBk8WuqiFgNjo86fRwcdf3MuZHg=s64",
      "userId": "00614715397981539727"
     },
     "user_tz": -180
    },
    "id": "LP9BG19CvCrQ",
    "outputId": "f29fd808-f1b3-49af-f78b-6bc7762f34ea"
   },
   "outputs": [
    {
     "data": {
      "text/plain": [
       "array([40, 33,  1,  6, 20, 16])"
      ]
     },
     "execution_count": 6,
     "metadata": {
      "tags": []
     },
     "output_type": "execute_result"
    }
   ],
   "source": [
    "Hut_Paradise_DF.loc[4].values"
   ]
  },
  {
   "cell_type": "code",
   "execution_count": 8,
   "metadata": {
    "colab": {
     "base_uri": "https://localhost:8080/"
    },
    "executionInfo": {
     "elapsed": 201,
     "status": "ok",
     "timestamp": 1625087352213,
     "user": {
      "displayName": "Alex Skrn",
      "photoUrl": "https://lh3.googleusercontent.com/a-/AOh14GhvDGL0gITiWuZeBk8WuqiFgNjo86fRwcdf3MuZHg=s64",
      "userId": "00614715397981539727"
     },
     "user_tz": -180
    },
    "id": "7Bf1Fc4Ov9aY",
    "outputId": "577c97b3-9c60-428c-9e7a-1ba84354ad31"
   },
   "outputs": [
    {
     "data": {
      "text/plain": [
       "array([ 5, 12, 10,  3,  6, 13,  8, 21,  5])"
      ]
     },
     "execution_count": 8,
     "metadata": {
      "tags": []
     },
     "output_type": "execute_result"
    }
   ],
   "source": [
    "Hut_Paradise_DF['4.Floor'].values"
   ]
  },
  {
   "cell_type": "code",
   "execution_count": 10,
   "metadata": {
    "colab": {
     "base_uri": "https://localhost:8080/"
    },
    "executionInfo": {
     "elapsed": 5,
     "status": "ok",
     "timestamp": 1625087694482,
     "user": {
      "displayName": "Alex Skrn",
      "photoUrl": "https://lh3.googleusercontent.com/a-/AOh14GhvDGL0gITiWuZeBk8WuqiFgNjo86fRwcdf3MuZHg=s64",
      "userId": "00614715397981539727"
     },
     "user_tz": -180
    },
    "id": "GtQzalnkwPFg",
    "outputId": "cd82f9d5-79e6-4d7d-acf6-0712c8317f58"
   },
   "outputs": [
    {
     "data": {
      "text/plain": [
       "10"
      ]
     },
     "execution_count": 10,
     "metadata": {
      "tags": []
     },
     "output_type": "execute_result"
    }
   ],
   "source": [
    "Hut_Paradise_DF['4.Floor'][2]"
   ]
  },
  {
   "cell_type": "code",
   "execution_count": 11,
   "metadata": {
    "colab": {
     "base_uri": "https://localhost:8080/"
    },
    "executionInfo": {
     "elapsed": 311,
     "status": "ok",
     "timestamp": 1625087738565,
     "user": {
      "displayName": "Alex Skrn",
      "photoUrl": "https://lh3.googleusercontent.com/a-/AOh14GhvDGL0gITiWuZeBk8WuqiFgNjo86fRwcdf3MuZHg=s64",
      "userId": "00614715397981539727"
     },
     "user_tz": -180
    },
    "id": "KqQtvruHxif5",
    "outputId": "186f622e-a7de-4a8e-d199-c9906f71dc68"
   },
   "outputs": [
    {
     "data": {
      "text/plain": [
       "(9, 6)"
      ]
     },
     "execution_count": 11,
     "metadata": {
      "tags": []
     },
     "output_type": "execute_result"
    }
   ],
   "source": [
    "Hut_Paradise_DF.shape"
   ]
  },
  {
   "cell_type": "code",
   "execution_count": 13,
   "metadata": {
    "colab": {
     "base_uri": "https://localhost:8080/"
    },
    "executionInfo": {
     "elapsed": 237,
     "status": "ok",
     "timestamp": 1625087824245,
     "user": {
      "displayName": "Alex Skrn",
      "photoUrl": "https://lh3.googleusercontent.com/a-/AOh14GhvDGL0gITiWuZeBk8WuqiFgNjo86fRwcdf3MuZHg=s64",
      "userId": "00614715397981539727"
     },
     "user_tz": -180
    },
    "id": "F4mIxSgBxwAA",
    "outputId": "4db73724-1582-43b0-e70e-85063bf0dc28"
   },
   "outputs": [
    {
     "data": {
      "text/plain": [
       "array([13, 12, 15, 13, 17,  9, 20, 15, 25])"
      ]
     },
     "execution_count": 13,
     "metadata": {
      "tags": []
     },
     "output_type": "execute_result"
    }
   ],
   "source": [
    "(Hut_Paradise_DF['2.Area'] - Hut_Paradise_DF['6.Liv.Area']).values"
   ]
  },
  {
   "cell_type": "code",
   "execution_count": 15,
   "metadata": {
    "colab": {
     "base_uri": "https://localhost:8080/"
    },
    "executionInfo": {
     "elapsed": 216,
     "status": "ok",
     "timestamp": 1625088308524,
     "user": {
      "displayName": "Alex Skrn",
      "photoUrl": "https://lh3.googleusercontent.com/a-/AOh14GhvDGL0gITiWuZeBk8WuqiFgNjo86fRwcdf3MuZHg=s64",
      "userId": "00614715397981539727"
     },
     "user_tz": -180
    },
    "id": "40mYQ7-DyCkI",
    "outputId": "44ad2a0f-b447-486c-cd79-ea443463584e"
   },
   "outputs": [
    {
     "data": {
      "text/plain": [
       "array([26., 28., 48., 14., 16., 20., 40., 36., 34.])"
      ]
     },
     "execution_count": 15,
     "metadata": {
      "tags": []
     },
     "output_type": "execute_result"
    }
   ],
   "source": [
    "(Hut_Paradise_DF['1.Rent'] * 0.4).values"
   ]
  },
  {
   "cell_type": "code",
   "execution_count": 16,
   "metadata": {
    "colab": {
     "base_uri": "https://localhost:8080/"
    },
    "executionInfo": {
     "elapsed": 246,
     "status": "ok",
     "timestamp": 1625088614348,
     "user": {
      "displayName": "Alex Skrn",
      "photoUrl": "https://lh3.googleusercontent.com/a-/AOh14GhvDGL0gITiWuZeBk8WuqiFgNjo86fRwcdf3MuZHg=s64",
      "userId": "00614715397981539727"
     },
     "user_tz": -180
    },
    "id": "2-czUrojz4nU",
    "outputId": "41cc032d-aac9-4172-ed29-93bdda194649"
   },
   "outputs": [
    {
     "data": {
      "text/plain": [
       "1348"
      ]
     },
     "execution_count": 16,
     "metadata": {
      "tags": []
     },
     "output_type": "execute_result"
    }
   ],
   "source": [
    "min_demo = np.array([10,20,30,15,5,40,20,8,20])\n",
    "\n",
    "Hut_Paradise_DF['5.Demo two weeks'] @ min_demo"
   ]
  },
  {
   "cell_type": "code",
   "execution_count": 17,
   "metadata": {
    "executionInfo": {
     "elapsed": 299,
     "status": "ok",
     "timestamp": 1625088643433,
     "user": {
      "displayName": "Alex Skrn",
      "photoUrl": "https://lh3.googleusercontent.com/a-/AOh14GhvDGL0gITiWuZeBk8WuqiFgNjo86fRwcdf3MuZHg=s64",
      "userId": "00614715397981539727"
     },
     "user_tz": -180
    },
    "id": "wqt6lY2O1F0V"
   },
   "outputs": [],
   "source": [
    "u=np.array([3,0,1,1,1])\n",
    "v=np.array([0,1,0,2,-2])\n",
    "w=np.array([1,-4,-1,0,-2])"
   ]
  },
  {
   "cell_type": "code",
   "execution_count": 20,
   "metadata": {
    "colab": {
     "base_uri": "https://localhost:8080/"
    },
    "executionInfo": {
     "elapsed": 216,
     "status": "ok",
     "timestamp": 1625088772667,
     "user": {
      "displayName": "Alex Skrn",
      "photoUrl": "https://lh3.googleusercontent.com/a-/AOh14GhvDGL0gITiWuZeBk8WuqiFgNjo86fRwcdf3MuZHg=s64",
      "userId": "00614715397981539727"
     },
     "user_tz": -180
    },
    "id": "tl34U4cR1M7S",
    "outputId": "5ba8343a-41e7-4bee-d030-c7d3110e04a1"
   },
   "outputs": [
    {
     "data": {
      "text/plain": [
       "array([-3, 14,  3,  4,  2])"
      ]
     },
     "execution_count": 20,
     "metadata": {
      "tags": []
     },
     "output_type": "execute_result"
    }
   ],
   "source": [
    "av_bw = 2*v + -3*w\n",
    "av_bw"
   ]
  },
  {
   "cell_type": "code",
   "execution_count": 21,
   "metadata": {
    "colab": {
     "base_uri": "https://localhost:8080/"
    },
    "executionInfo": {
     "elapsed": 320,
     "status": "ok",
     "timestamp": 1625088786589,
     "user": {
      "displayName": "Alex Skrn",
      "photoUrl": "https://lh3.googleusercontent.com/a-/AOh14GhvDGL0gITiWuZeBk8WuqiFgNjo86fRwcdf3MuZHg=s64",
      "userId": "00614715397981539727"
     },
     "user_tz": -180
    },
    "id": "mg31FGod1eNA",
    "outputId": "82733a45-abbf-43b4-9321-91d1661a47ce"
   },
   "outputs": [
    {
     "data": {
      "text/plain": [
       "0"
      ]
     },
     "execution_count": 21,
     "metadata": {
      "tags": []
     },
     "output_type": "execute_result"
    }
   ],
   "source": [
    "u @ av_bw"
   ]
  },
  {
   "cell_type": "code",
   "execution_count": 34,
   "metadata": {
    "colab": {
     "base_uri": "https://localhost:8080/"
    },
    "executionInfo": {
     "elapsed": 310,
     "status": "ok",
     "timestamp": 1625089118365,
     "user": {
      "displayName": "Alex Skrn",
      "photoUrl": "https://lh3.googleusercontent.com/a-/AOh14GhvDGL0gITiWuZeBk8WuqiFgNjo86fRwcdf3MuZHg=s64",
      "userId": "00614715397981539727"
     },
     "user_tz": -180
    },
    "id": "WUJknlpd1v3l",
    "outputId": "da1d5957-8aee-4b1e-b8ae-901b9697b489"
   },
   "outputs": [
    {
     "name": "stdout",
     "output_type": "stream",
     "text": [
      "[0.866 0.    0.289 0.289 0.289]\n",
      "[ 0.     0.333  0.     0.667 -0.667]\n",
      "[ 0.213 -0.853 -0.213  0.    -0.426]\n"
     ]
    }
   ],
   "source": [
    "for vec in u, v, w:\n",
    "  print(np.round(vec/np.linalg.norm(vec), 3))"
   ]
  },
  {
   "cell_type": "code",
   "execution_count": 37,
   "metadata": {
    "colab": {
     "base_uri": "https://localhost:8080/"
    },
    "executionInfo": {
     "elapsed": 315,
     "status": "ok",
     "timestamp": 1625089200186,
     "user": {
      "displayName": "Alex Skrn",
      "photoUrl": "https://lh3.googleusercontent.com/a-/AOh14GhvDGL0gITiWuZeBk8WuqiFgNjo86fRwcdf3MuZHg=s64",
      "userId": "00614715397981539727"
     },
     "user_tz": -180
    },
    "id": "xVh1LmWE2D21",
    "outputId": "626469cb-0e3f-4d77-ec5f-8888866617db"
   },
   "outputs": [
    {
     "data": {
      "text/plain": [
       "array([ 0.333, -1.333, -0.333,  0.   , -0.667])"
      ]
     },
     "execution_count": 37,
     "metadata": {
      "tags": []
     },
     "output_type": "execute_result"
    }
   ],
   "source": [
    "np.round(vec/np.linalg.norm(v), 3)"
   ]
  },
  {
   "cell_type": "code",
   "execution_count": null,
   "metadata": {
    "id": "xu2_Ha0S3RSb"
   },
   "outputs": [],
   "source": []
  },
  {
   "cell_type": "code",
   "execution_count": null,
   "metadata": {
    "id": "h7ji6-hqDtPy"
   },
   "outputs": [],
   "source": [
    "import numpy as np"
   ]
  },
  {
   "cell_type": "code",
   "execution_count": null,
   "metadata": {
    "colab": {
     "base_uri": "https://localhost:8080/"
    },
    "id": "tKpKjANEyLLk",
    "outputId": "62606e9d-3c29-4ac7-b893-b7fc08402f22"
   },
   "outputs": [
    {
     "name": "stdout",
     "output_type": "stream",
     "text": [
      "mu X = 2.8\n",
      "Var(X) =  1.16\n",
      "mu Y = 0.0\n",
      "Var(Y) =  1.4\n",
      "mu U = 9.4\n",
      "Var(U) =  10.440000000000001\n",
      "mu S = 5.0\n",
      "Var(S) =  1.4\n"
     ]
    }
   ],
   "source": [
    "# 5.3\n",
    "\n",
    "X = [1, 2, 3, 4]\n",
    "P_X = [0.2, 0.1, 0.4, 0.3]\n",
    "\n",
    "Y = [-1, 0, 1, 2]\n",
    "P_Y = [0.5, 0.2, 0.1, 0.2]\n",
    "\n",
    "def u(x):\n",
    "    return 3*x + 1\n",
    "  \n",
    "\n",
    "def s(y):\n",
    "    return 5 - y\n",
    "\n",
    "def mu(rand_var, probs):\n",
    "    return sum([x*p for x, p in zip(rand_var, probs)])\n",
    "\n",
    "def var(rand_var, mu, probs):\n",
    "    return sum([p*(x - mu)**2 for x, p in zip(rand_var, probs)]) \n",
    "\n",
    "mu_x = mu(X, P_X)\n",
    "var_x = var(X, mu_x, P_X)\n",
    "print('mu X =', mu_x)\n",
    "print('Var(X) = ', var_x)\n",
    "\n",
    "mu_y = mu(Y, P_Y)\n",
    "var_y = var(Y, mu_y, P_Y)\n",
    "print('mu Y =', mu_y)\n",
    "print('Var(Y) = ', var_y)\n",
    "\n",
    "mu_u = mu([u(x) for x in X], P_X)\n",
    "var_u = var([u(x) for x in X], mu_u, P_X)\n",
    "print('mu U =', mu_u)\n",
    "print('Var(U) = ', var_u)\n",
    "\n",
    "mu_s = mu([s(y) for y in Y], P_Y)\n",
    "var_s = var([s(y) for y in Y], mu_s, P_Y)\n",
    "print('mu S =', mu_s)\n",
    "print('Var(S) = ', var_s)"
   ]
  },
  {
   "cell_type": "code",
   "execution_count": null,
   "metadata": {
    "id": "N_JVZo-J6rVY"
   },
   "outputs": [],
   "source": [
    "# var(U-S)\n",
    "\n",
    "diff = [u(x) - s(y) for x, y in X, Y]\n"
   ]
  },
  {
   "cell_type": "code",
   "execution_count": null,
   "metadata": {
    "colab": {
     "base_uri": "https://localhost:8080/"
    },
    "id": "WikjDAhhA6SR",
    "outputId": "4d8a4cb3-53b0-4a3c-8249-3c25b2f665e7"
   },
   "outputs": [
    {
     "data": {
      "text/plain": [
       "800.0"
      ]
     },
     "execution_count": 4,
     "metadata": {},
     "output_type": "execute_result"
    }
   ],
   "source": [
    "# Задание 10.1\n",
    "\n",
    "# Случайный покупатель в книжном магазине купит одну, две или три книги с вероятностью 0.3, 0.4 и 0.3, \n",
    "# соответственно. Каждая книга стоит 400 рублей. \n",
    "# Найдите математическое ожидание расходов покупателя магазина.\n",
    "\n",
    "probs = [0.3, 0.4, 0.3]\n",
    "prices = [1*400, 2*400, 3*400]\n",
    "\n",
    "sum([p*val for p, val in zip(probs, prices)])"
   ]
  },
  {
   "cell_type": "code",
   "execution_count": null,
   "metadata": {
    "colab": {
     "base_uri": "https://localhost:8080/"
    },
    "id": "SnzkzienBUge",
    "outputId": "509ec192-0994-4184-c3e7-7e3c7eefaa07"
   },
   "outputs": [
    {
     "data": {
      "text/plain": [
       "3.7"
      ]
     },
     "execution_count": 9,
     "metadata": {},
     "output_type": "execute_result"
    }
   ],
   "source": [
    "X = np.array([2, 3, 4, 5])\n",
    "P_X = [0.1, 0.2, 0.6, 0.1]\n",
    "\n",
    "e_x = mu(X, P_X)\n",
    "e_x"
   ]
  },
  {
   "cell_type": "code",
   "execution_count": null,
   "metadata": {
    "colab": {
     "base_uri": "https://localhost:8080/"
    },
    "id": "2BySbEocDdoH",
    "outputId": "ceeb76ed-db2f-49f1-8cbe-fbd79af17a7b"
   },
   "outputs": [
    {
     "data": {
      "text/plain": [
       "18.0"
      ]
     },
     "execution_count": 14,
     "metadata": {},
     "output_type": "execute_result"
    }
   ],
   "source": [
    "mu(X * (X+1), P_X)  # 14.3"
   ]
  },
  {
   "cell_type": "code",
   "execution_count": null,
   "metadata": {
    "colab": {
     "base_uri": "https://localhost:8080/"
    },
    "id": "-DLy1cMPDz61",
    "outputId": "b7819f07-766a-40bf-cdae-bac583269900"
   },
   "outputs": [
    {
     "name": "stdout",
     "output_type": "stream",
     "text": [
      "-0.9600014517991345\n",
      "0.9651763779473037\n",
      "0.8017837257372732\n"
     ]
    }
   ],
   "source": [
    "import numpy as np\n",
    "import pandas as pd\n",
    "\n",
    "def cos_sim(v1, v2):\n",
    "    v1, v2 = np.array(v1), np.array(v2)\n",
    "    dot_prod = v1.dot(v2)\n",
    "    prod_lengths = np.sqrt(v1.dot(v1)) * (np.sqrt(v2.dot(v2)))\n",
    "    return dot_prod/prod_lengths\n",
    "\n",
    "\n",
    "a = [2, -1, 3]\n",
    "\n",
    "v1 = [-6, 3, -18]\n",
    "v2 = [6, -3, 17]\n",
    "v3 = [0, 0, 1]\n",
    "\n",
    "for vec in v1, v2, v3:\n",
    "    print(cos_sim(a, vec))"
   ]
  },
  {
   "cell_type": "code",
   "execution_count": null,
   "metadata": {
    "colab": {
     "base_uri": "https://localhost:8080/"
    },
    "id": "IuwaMVzzQWex",
    "outputId": "eb4b2e30-b336-4ee4-8179-088241790e16"
   },
   "outputs": [
    {
     "data": {
      "text/plain": [
       "array([[1, 2],\n",
       "       [2, 3],\n",
       "       [3, 4]])"
      ]
     },
     "execution_count": 13,
     "metadata": {},
     "output_type": "execute_result"
    }
   ],
   "source": [
    "data = np.array( [ [1, 2], [2, 3], [3, 4] ] )\n",
    "\n",
    "A = pd.DataFrame(data)\n",
    "\n",
    "A.values\n"
   ]
  },
  {
   "cell_type": "code",
   "execution_count": null,
   "metadata": {
    "colab": {
     "base_uri": "https://localhost:8080/"
    },
    "id": "2aeliVrgXTmL",
    "outputId": "d179b4df-77cf-432c-f070-16b202ebc16f"
   },
   "outputs": [
    {
     "data": {
      "text/plain": [
       "array([2, 3, 4])"
      ]
     },
     "execution_count": 14,
     "metadata": {},
     "output_type": "execute_result"
    }
   ],
   "source": [
    "A.values[:, 1]"
   ]
  },
  {
   "cell_type": "code",
   "execution_count": null,
   "metadata": {
    "id": "gxt13gFrYnXP"
   },
   "outputs": [],
   "source": [
    "import numpy as np\n",
    "\n",
    "Husband_Income = np.array([100,220,140])\n",
    "Wife_Income = np.array([150,200,130])\n",
    "Mother_In_Law_Income = np.array([90,80,100])\n",
    "\n",
    "Husband_Сonsumption = np.array([50,50,60])\n",
    "Wife_Сonsumption = np.array([100,80,140])\n",
    "Mother_In_Law_Сonsumption = np.array([100,20,140])"
   ]
  },
  {
   "cell_type": "code",
   "execution_count": null,
   "metadata": {
    "colab": {
     "base_uri": "https://localhost:8080/"
    },
    "id": "XP53bKgjZWVO",
    "outputId": "d839c227-1ccf-42b4-e8f2-eb583b942492"
   },
   "outputs": [
    {
     "data": {
      "text/plain": [
       "array([[100, 150,  90],\n",
       "       [220, 200,  80],\n",
       "       [140, 130, 100]])"
      ]
     },
     "execution_count": 16,
     "metadata": {},
     "output_type": "execute_result"
    }
   ],
   "source": [
    "# Задание 10.1\n",
    "\n",
    "# Составьте матрицу Inc доходов семьи, расположив доходы мужа, жены и тещи в первый, второй и третий столбцы.\n",
    "\n",
    "# В ответ запишите диагональные элементы (по главной диагонали) этой матрицы через запятую (без пробела):\n",
    "\n",
    "inc = np.array([Husband_Income, Wife_Income, Mother_In_Law_Income]).T\n",
    "\n",
    "inc\n",
    "# 100,200,100"
   ]
  },
  {
   "cell_type": "code",
   "execution_count": null,
   "metadata": {
    "colab": {
     "base_uri": "https://localhost:8080/"
    },
    "id": "Vcts1vcRZ-Ee",
    "outputId": "c121191c-9853-43d8-a91e-571ee55433cc"
   },
   "outputs": [
    {
     "data": {
      "text/plain": [
       "array([[ 50, 100, 100],\n",
       "       [ 50,  80,  20],\n",
       "       [ 60, 140, 140]])"
      ]
     },
     "execution_count": 17,
     "metadata": {},
     "output_type": "execute_result"
    }
   ],
   "source": [
    "# Задание 10.2\n",
    "\n",
    "# Составьте матрицу Cons расходов семьи, расположив расходы мужа, жены и тещи в первый, второй и третий столбцы.\n",
    "\n",
    "# В ответ запишите диагональные элементы (по побочной диагонали) этой матрицы через запятую (без пробела):\n",
    "cons = np.array([Husband_Сonsumption, Wife_Сonsumption, Mother_In_Law_Сonsumption]).T\n",
    "\n",
    "cons\n",
    "# 100,80,60"
   ]
  },
  {
   "cell_type": "code",
   "execution_count": null,
   "metadata": {
    "colab": {
     "base_uri": "https://localhost:8080/"
    },
    "id": "vMpralQaaWcE",
    "outputId": "29147ac6-40ea-4429-927d-1ade63e1611c"
   },
   "outputs": [
    {
     "data": {
      "text/plain": [
       "array([[ 87. , 130.5,  78.3],\n",
       "       [191.4, 174. ,  69.6],\n",
       "       [121.8, 113.1,  87. ]])"
      ]
     },
     "execution_count": 18,
     "metadata": {},
     "output_type": "execute_result"
    }
   ],
   "source": [
    "# Задание 10.3\n",
    "\n",
    "# Доходы представлены до уплаты налогов. Налоговая ставка - 13%. \n",
    "# Вычислите матрицу доходов семьи Ивановых после уплаты налогов.\n",
    "\n",
    "# Используйте матрицу Inc из предыдущего вопроса, где расходы расположены по столбцам. \n",
    "# В ответ запишите элементы из 1 строки этой матрицы через запятую (без пробела):\n",
    "\n",
    "inc_after_tax = inc - inc*0.13\n",
    "inc_after_tax\n",
    "# 87,130.5,78.3"
   ]
  },
  {
   "cell_type": "code",
   "execution_count": null,
   "metadata": {
    "colab": {
     "base_uri": "https://localhost:8080/"
    },
    "id": "QtYBjvHFaxkX",
    "outputId": "2ddf79cd-b7bd-4a1f-9241-28823c8223f6"
   },
   "outputs": [
    {
     "data": {
      "text/plain": [
       "array([ 61.8, -26.9, -53. ])"
      ]
     },
     "execution_count": 21,
     "metadata": {},
     "output_type": "execute_result"
    }
   ],
   "source": [
    "# Задание 10.4\n",
    "\n",
    "# Вычислите матрицу P, которая покажет баланс семьи Ивановых за один месяц (то есть разницу между доходами и расходами)\n",
    "\n",
    "# В ответ запишите элементы из 3 строки этой матрицы через запятую (без пробела):\n",
    "\n",
    "(inc_after_tax - cons)[2]\n",
    "\n",
    "# 61.8,-26.9,-53"
   ]
  },
  {
   "cell_type": "code",
   "execution_count": null,
   "metadata": {
    "colab": {
     "base_uri": "https://localhost:8080/"
    },
    "id": "O3nyUCOibnA4",
    "outputId": "b3663714-b890-4a4c-a1f2-b5cf92cf2519"
   },
   "outputs": [
    {
     "data": {
      "text/plain": [
       "array([[ 5000, 15000,  9000],\n",
       "       [11000, 16000,  1600],\n",
       "       [ 8400, 18200, 14000]])"
      ]
     },
     "execution_count": 22,
     "metadata": {},
     "output_type": "execute_result"
    }
   ],
   "source": [
    "inc*cons"
   ]
  },
  {
   "cell_type": "code",
   "execution_count": null,
   "metadata": {
    "colab": {
     "base_uri": "https://localhost:8080/"
    },
    "id": "xB_ucOrWctoc",
    "outputId": "f86f6bc9-a774-46ab-d84c-39725854e2a5"
   },
   "outputs": [
    {
     "data": {
      "text/plain": [
       "array([[100, 150,  90],\n",
       "       [220, 200,  80],\n",
       "       [140, 130, 100]])"
      ]
     },
     "execution_count": 23,
     "metadata": {},
     "output_type": "execute_result"
    }
   ],
   "source": [
    "inc"
   ]
  },
  {
   "cell_type": "code",
   "execution_count": null,
   "metadata": {
    "colab": {
     "base_uri": "https://localhost:8080/"
    },
    "id": "JWel3nGrczri",
    "outputId": "97de32f9-69fb-4484-fb53-9f9fd9dd5154"
   },
   "outputs": [
    {
     "data": {
      "text/plain": [
       "array([[ 50, 100, 100],\n",
       "       [ 50,  80,  20],\n",
       "       [ 60, 140, 140]])"
      ]
     },
     "execution_count": 24,
     "metadata": {},
     "output_type": "execute_result"
    }
   ],
   "source": [
    "cons"
   ]
  },
  {
   "cell_type": "code",
   "execution_count": null,
   "metadata": {
    "colab": {
     "base_uri": "https://localhost:8080/"
    },
    "id": "-cnPpHW7c0ch",
    "outputId": "f8dafafc-a38a-45de-d970-202f4edc5b61"
   },
   "outputs": [
    {
     "data": {
      "text/plain": [
       "array([[17900, 34600, 25600],\n",
       "       [25800, 49200, 37200],\n",
       "       [19500, 38400, 30600]])"
      ]
     },
     "execution_count": 25,
     "metadata": {},
     "output_type": "execute_result"
    }
   ],
   "source": [
    "np.dot(inc, cons)"
   ]
  },
  {
   "cell_type": "code",
   "execution_count": null,
   "metadata": {
    "id": "-qhzBduGdKhQ"
   },
   "outputs": [],
   "source": [
    "A = np.array([[5,-1,3,1,2], [-2,8,5,-1,1]])\n",
    "x = np.array([1,2,3,4,5])"
   ]
  },
  {
   "cell_type": "code",
   "execution_count": null,
   "metadata": {
    "colab": {
     "base_uri": "https://localhost:8080/"
    },
    "id": "UBPyxYzfkHyN",
    "outputId": "92adc8f9-fb9e-40b5-afcb-2d5009c87ea9"
   },
   "outputs": [
    {
     "data": {
      "text/plain": [
       "array([26, 30])"
      ]
     },
     "execution_count": 29,
     "metadata": {},
     "output_type": "execute_result"
    }
   ],
   "source": [
    "# Задание 15.1\n",
    "\n",
    "# Найдите произведение матрицы  и вектора  в том порядке, в котором их можно умножить.\n",
    "\n",
    "# Координаты вектора введите через запятую (без пробела):\n",
    "A@x\n",
    "# 26,30"
   ]
  },
  {
   "cell_type": "code",
   "execution_count": null,
   "metadata": {
    "colab": {
     "base_uri": "https://localhost:8080/"
    },
    "id": "0BqYWe47kT12",
    "outputId": "e72ab484-cc8a-499c-f5fa-02c1c650f9f5"
   },
   "outputs": [
    {
     "data": {
      "text/plain": [
       "(5,)"
      ]
     },
     "execution_count": 28,
     "metadata": {},
     "output_type": "execute_result"
    }
   ],
   "source": [
    "x.shape"
   ]
  },
  {
   "cell_type": "code",
   "execution_count": null,
   "metadata": {
    "id": "zpFMHLlkkU-P"
   },
   "outputs": [],
   "source": [
    "A = np.array([[1,9,8,5], [3,6,3,2], [3,3,3,3], [0,2,5,9], [4,4,1,2]])\n",
    "B = np.array([[1,-1,0,1,1], [-2,0,2,-1,1]])"
   ]
  },
  {
   "cell_type": "code",
   "execution_count": null,
   "metadata": {
    "colab": {
     "base_uri": "https://localhost:8080/"
    },
    "id": "jXjWengxkqv6",
    "outputId": "94381780-ea61-4e30-d8d2-2ddce684f0b9"
   },
   "outputs": [
    {
     "name": "stdout",
     "output_type": "stream",
     "text": [
      "(5, 4) (2, 5)\n"
     ]
    }
   ],
   "source": [
    "# Задание 15.2\n",
    "\n",
    "# Найдите произведение матриц A и B в том порядке, в котором их можно умножить.\n",
    "\n",
    "# В ответ запишите элемент из 1 строки и 4 столбца\n",
    "print(A.shape, B.shape)"
   ]
  },
  {
   "cell_type": "code",
   "execution_count": null,
   "metadata": {
    "colab": {
     "base_uri": "https://localhost:8080/"
    },
    "id": "xMlYnhzlkzd6",
    "outputId": "6a5ed69b-41b0-498b-8561-53e73425f3dc"
   },
   "outputs": [
    {
     "data": {
      "text/plain": [
       "14"
      ]
     },
     "execution_count": 37,
     "metadata": {},
     "output_type": "execute_result"
    }
   ],
   "source": [
    "(B@A)[0,3]"
   ]
  },
  {
   "cell_type": "code",
   "execution_count": null,
   "metadata": {
    "id": "MJ-VkdHqk5vS"
   },
   "outputs": [],
   "source": [
    "x = np.array([1,2,1,0,4])\n",
    "y = np.array([2,1,-1,1,0])\n",
    "z = np.array([-1,1,-1,0,0])"
   ]
  },
  {
   "cell_type": "code",
   "execution_count": null,
   "metadata": {
    "colab": {
     "base_uri": "https://localhost:8080/"
    },
    "id": "FD7caay7lOs9",
    "outputId": "a752d4a0-fc12-4f54-c35c-f1b67c6d70cc"
   },
   "outputs": [
    {
     "data": {
      "text/plain": [
       "array([[ 6,  3,  0,  2,  4],\n",
       "       [ 3,  6,  0,  1,  8],\n",
       "       [ 0,  0,  3, -1,  4],\n",
       "       [ 2,  1, -1,  1,  0],\n",
       "       [ 4,  8,  4,  0, 16]])"
      ]
     },
     "execution_count": 41,
     "metadata": {},
     "output_type": "execute_result"
    }
   ],
   "source": [
    "# Задание 15.3\n",
    "\n",
    "# Найдите матрицу Грама системы векторов \n",
    "# Введите все элементы этой матрицы через запятую (без пробела), перечисляя построчно:\n",
    "\n",
    "res = np.array([x, y, z]).T @  np.array([x, y, z])\n",
    "res"
   ]
  },
  {
   "cell_type": "code",
   "execution_count": null,
   "metadata": {
    "colab": {
     "base_uri": "https://localhost:8080/"
    },
    "id": "i2Nkx2WPoiD5",
    "outputId": "b6b1a1f7-108e-4426-be9d-024e5e0665c5"
   },
   "outputs": [
    {
     "data": {
      "text/plain": [
       "array([[22,  3,  0],\n",
       "       [ 3,  7,  0],\n",
       "       [ 0,  0,  3]])"
      ]
     },
     "execution_count": 56,
     "metadata": {},
     "output_type": "execute_result"
    }
   ],
   "source": [
    "np.array([x, y, z]) @  np.array([x, y, z]).T"
   ]
  },
  {
   "cell_type": "code",
   "execution_count": null,
   "metadata": {
    "colab": {
     "base_uri": "https://localhost:8080/"
    },
    "id": "RZ9zOfcQoUyv",
    "outputId": "b73e742d-3f8d-45b1-81b9-c262832928b9"
   },
   "outputs": [
    {
     "name": "stdout",
     "output_type": "stream",
     "text": [
      "[[22  3  0]\n",
      " [ 3  7  0]\n",
      " [ 0  0  3]]\n"
     ]
    }
   ],
   "source": [
    "# Подсказка (1 из 1):\n",
    "A = np.array([x, y, z]).T\n",
    "\n",
    "A_gram = A.T@A \n",
    "print(A_gram)"
   ]
  },
  {
   "cell_type": "code",
   "execution_count": null,
   "metadata": {
    "colab": {
     "base_uri": "https://localhost:8080/",
     "height": 88
    },
    "id": "Yus412z8ozYZ",
    "outputId": "67d93f1a-986e-459a-9fe8-40c412757215"
   },
   "outputs": [
    {
     "name": "stdout",
     "output_type": "stream",
     "text": [
      "[22  3  0]\n",
      "[3 7 0]\n",
      "[0 0 3]\n"
     ]
    },
    {
     "data": {
      "application/vnd.google.colaboratory.intrinsic+json": {
       "type": "string"
      },
      "text/plain": [
       "'22,3,0,3,7,0,0,0,3,'"
      ]
     },
     "execution_count": 58,
     "metadata": {},
     "output_type": "execute_result"
    }
   ],
   "source": [
    "str_res = ''\n",
    "for i in A_gram:\n",
    "  print(i)\n",
    "  str_res += ','.join([str(v) for v in i])\n",
    "  str_res += ','\n",
    "\n",
    "str_res"
   ]
  },
  {
   "cell_type": "code",
   "execution_count": null,
   "metadata": {
    "colab": {
     "base_uri": "https://localhost:8080/"
    },
    "id": "2CJ1bAtGoczq",
    "outputId": "b88a02cd-15e5-4894-dbdf-ea68e6fabec6"
   },
   "outputs": [
    {
     "data": {
      "text/plain": [
       "array([[ 1,  2, -1],\n",
       "       [ 2,  1,  1],\n",
       "       [ 1, -1, -1],\n",
       "       [ 0,  1,  0],\n",
       "       [ 4,  0,  0]])"
      ]
     },
     "execution_count": 55,
     "metadata": {},
     "output_type": "execute_result"
    }
   ],
   "source": [
    "A"
   ]
  },
  {
   "cell_type": "code",
   "execution_count": null,
   "metadata": {
    "colab": {
     "base_uri": "https://localhost:8080/",
     "height": 124
    },
    "id": "WPK7VXqjmPE-",
    "outputId": "41998512-cce2-41c2-a523-bf93819cdbb6"
   },
   "outputs": [
    {
     "name": "stdout",
     "output_type": "stream",
     "text": [
      "[6 3 0 2 4]\n",
      "[3 6 0 1 8]\n",
      "[ 0  0  3 -1  4]\n",
      "[ 2  1 -1  1  0]\n",
      "[ 4  8  4  0 16]\n"
     ]
    },
    {
     "data": {
      "application/vnd.google.colaboratory.intrinsic+json": {
       "type": "string"
      },
      "text/plain": [
       "'6,3,0,2,4,3,6,0,1,8,0,0,3,-1,4,2,1,-1,1,0,4,8,4,0,16,'"
      ]
     },
     "execution_count": 53,
     "metadata": {},
     "output_type": "execute_result"
    }
   ],
   "source": [
    "str_res = ''\n",
    "for i in res:\n",
    "  print(i)\n",
    "  str_res += ','.join([str(v) for v in i])\n",
    "  str_res += ','\n",
    "\n",
    "str_res"
   ]
  },
  {
   "cell_type": "code",
   "execution_count": null,
   "metadata": {
    "colab": {
     "base_uri": "https://localhost:8080/",
     "height": 168
    },
    "id": "MsIgkoxMmg-o",
    "outputId": "d1e48e11-1f5c-4bf3-c171-d03a06ac6384"
   },
   "outputs": [
    {
     "ename": "TypeError",
     "evalue": "ignored",
     "output_type": "error",
     "traceback": [
      "\u001b[0;31m---------------------------------------------------------------------------\u001b[0m",
      "\u001b[0;31mTypeError\u001b[0m                                 Traceback (most recent call last)",
      "\u001b[0;32m<ipython-input-51-ff47603d86d5>\u001b[0m in \u001b[0;36m<module>\u001b[0;34m()\u001b[0m\n\u001b[0;32m----> 1\u001b[0;31m \u001b[0;34m','\u001b[0m\u001b[0;34m.\u001b[0m\u001b[0mjoin\u001b[0m\u001b[0;34m(\u001b[0m\u001b[0;34m[\u001b[0m \u001b[0;36m6\u001b[0m\u001b[0;34m,\u001b[0m  \u001b[0;36m3\u001b[0m\u001b[0;34m,\u001b[0m  \u001b[0;36m0\u001b[0m\u001b[0;34m,\u001b[0m  \u001b[0;36m2\u001b[0m\u001b[0;34m,\u001b[0m  \u001b[0;36m4\u001b[0m\u001b[0;34m]\u001b[0m\u001b[0;34m)\u001b[0m\u001b[0;34m\u001b[0m\u001b[0;34m\u001b[0m\u001b[0m\n\u001b[0m",
      "\u001b[0;31mTypeError\u001b[0m: sequence item 0: expected str instance, int found"
     ]
    }
   ],
   "source": [
    "','.join([ 6,  3,  0,  2,  4])"
   ]
  },
  {
   "cell_type": "code",
   "execution_count": null,
   "metadata": {
    "id": "kyzr_cSknZdU"
   },
   "outputs": [],
   "source": [
    "# В dataframe Count_DF содержится информация по количеству услуг, оказанных каждым стилистом за апрель.\n",
    "\n",
    "# В dataframe Price_DF содержится информация по стоимости услуг у каждого стилиста в тысячах рублей.\n",
    "Count_DF = pd.DataFrame({'Женские стрижки': [10, 2, 12, 4, 6, 10, 22, 7], \n",
    "                                'Мужские стрижки': [5, 21, 12, 8, 25, 3, 1, 0], \n",
    "                                'Окрашивания':[12, 3, 0, 18, 27, 2, 4, 31],\n",
    "                              'Укладка':[15, 25, 30, 14, 25, 17, 25, 31],\n",
    "                                'Уход':[10, 6, 4, 5, 18, 12, 20, 28]\n",
    "                                }, \n",
    "                               index=['Аня', 'Борис', 'Вика', 'Галя', 'Дима', 'Егор', 'Женя','Юра'])\n",
    "Price_DF = pd.DataFrame({'Женские стрижки': [2, 1.8, 2, 1.8, 2.5, 5, 1.1, 4.5], \n",
    "                                'Мужские стрижки': [1.5, 2.5, 2, 1.2, 3.5, 5, 1, 4], \n",
    "                                'Окрашивания':[1, 1, 0, 2.8, 2, 3, 1.5, 2.5],\n",
    "                              'Укладка':[0.8, 1, 0.5, 0.8, 1, 2, 0.5, 1],\n",
    "                                'Уход':[1, 1, 2, 2, 1.5, 2.5, 1.7, 2] \n",
    "                                }, \n",
    "                               index=['Аня', 'Борис', 'Вика', 'Галя', 'Дима', 'Егор', 'Женя','Юра'])"
   ]
  },
  {
   "cell_type": "code",
   "execution_count": null,
   "metadata": {
    "colab": {
     "base_uri": "https://localhost:8080/"
    },
    "id": "zNvna-drpOcr",
    "outputId": "b19b56d4-be5c-40b9-f5a9-d5947107ff92"
   },
   "outputs": [
    {
     "data": {
      "text/plain": [
       "array([[10,  5, 12, 15, 10],\n",
       "       [ 2, 21,  3, 25,  6],\n",
       "       [12, 12,  0, 30,  4],\n",
       "       [ 4,  8, 18, 14,  5],\n",
       "       [ 6, 25, 27, 25, 18],\n",
       "       [10,  3,  2, 17, 12],\n",
       "       [22,  1,  4, 25, 20],\n",
       "       [ 7,  0, 31, 31, 28]])"
      ]
     },
     "execution_count": 62,
     "metadata": {},
     "output_type": "execute_result"
    }
   ],
   "source": [
    "# Задание 15.4\n",
    "\n",
    "# Найдите вектор выручки Бориса.\n",
    "\n",
    "# Введите координаты вектора через запятую (без пробела):\n",
    "\n",
    "counts = Count_DF.values\n",
    "prices = Price_DF.values\n",
    "\n",
    "counts"
   ]
  },
  {
   "cell_type": "code",
   "execution_count": null,
   "metadata": {
    "colab": {
     "base_uri": "https://localhost:8080/"
    },
    "id": "xHzh4X0kpu_k",
    "outputId": "dba6b2de-a986-495f-ecfa-58eaf3562c9f"
   },
   "outputs": [
    {
     "data": {
      "text/plain": [
       "90.1"
      ]
     },
     "execution_count": 64,
     "metadata": {},
     "output_type": "execute_result"
    }
   ],
   "source": [
    "np.dot(counts[1], prices[1])"
   ]
  },
  {
   "cell_type": "code",
   "execution_count": null,
   "metadata": {
    "colab": {
     "base_uri": "https://localhost:8080/"
    },
    "id": "RF57XsBFq3-0",
    "outputId": "506be283-7897-4972-a33d-de56747e03eb"
   },
   "outputs": [
    {
     "data": {
      "text/plain": [
       "array([ 3.6, 52.5,  3. , 25. ,  6. ])"
      ]
     },
     "execution_count": 65,
     "metadata": {},
     "output_type": "execute_result"
    }
   ],
   "source": [
    "counts[1]*prices[1]\n",
    "3.6,52.5,3,25,6"
   ]
  },
  {
   "cell_type": "code",
   "execution_count": null,
   "metadata": {
    "colab": {
     "base_uri": "https://localhost:8080/"
    },
    "id": "iRgG7db8qXsw",
    "outputId": "f6e338ea-1fb2-4829-ef5f-9c9dfb9664f5"
   },
   "outputs": [
    {
     "data": {
      "text/plain": [
       "array([[20. ,  7.5, 12. , 12. , 10. ],\n",
       "       [ 3.6, 52.5,  3. , 25. ,  6. ],\n",
       "       [24. , 24. ,  0. , 15. ,  8. ],\n",
       "       [ 7.2,  9.6, 50.4, 11.2, 10. ],\n",
       "       [15. , 87.5, 54. , 25. , 27. ],\n",
       "       [50. , 15. ,  6. , 34. , 30. ],\n",
       "       [24.2,  1. ,  6. , 12.5, 34. ],\n",
       "       [31.5,  0. , 77.5, 31. , 56. ]])"
      ]
     },
     "execution_count": 67,
     "metadata": {},
     "output_type": "execute_result"
    }
   ],
   "source": [
    "# Задание 15.5\n",
    "\n",
    "# Найдите вектор прибыли салона по стилистам, если за каждую услугу стилисты платят определенную комиссию салону.\n",
    "\n",
    "# Вектор комиссий com = [0.2, 0.2, 0.3, 0.1, 0.1]\n",
    "\n",
    "# Введите координаты вектора через запятую (без пробела):\n",
    "com = np.array([0.2, 0.2, 0.3, 0.1, 0.1])\n",
    "counts * prices"
   ]
  },
  {
   "cell_type": "code",
   "execution_count": null,
   "metadata": {
    "colab": {
     "base_uri": "https://localhost:8080/"
    },
    "id": "7a580Chmr4Y6",
    "outputId": "c26f1de6-8b61-4dae-ce0c-2058431e2188"
   },
   "outputs": [
    {
     "data": {
      "text/plain": [
       "array([11.3 , 15.22, 11.9 , 20.6 , 41.9 , 21.2 , 11.49, 38.25])"
      ]
     },
     "execution_count": 68,
     "metadata": {},
     "output_type": "execute_result"
    }
   ],
   "source": [
    "np.dot((counts * prices), com.T)\n",
    "# 11.3,15.22,11.9,20.6,41.9,21.2,11.49,38.25"
   ]
  },
  {
   "cell_type": "code",
   "execution_count": null,
   "metadata": {
    "colab": {
     "base_uri": "https://localhost:8080/"
    },
    "id": "xXySnkCluHeI",
    "outputId": "6ee2512d-20f5-45ec-eda7-5100da14fc92"
   },
   "outputs": [
    {
     "data": {
      "text/plain": [
       "array([0.2, 0.2, 0.3, 0.1, 0.1])"
      ]
     },
     "execution_count": 79,
     "metadata": {},
     "output_type": "execute_result"
    }
   ],
   "source": [
    "com"
   ]
  },
  {
   "cell_type": "code",
   "execution_count": null,
   "metadata": {
    "colab": {
     "base_uri": "https://localhost:8080/"
    },
    "id": "Dglh2KH_sJeK",
    "outputId": "406d666a-6335-41c9-86b1-821de8b166bc"
   },
   "outputs": [
    {
     "data": {
      "text/plain": [
       "array([ 50.2 ,  74.88,  59.1 ,  67.8 , 166.6 , 113.8 ,  66.21, 157.75])"
      ]
     },
     "execution_count": 80,
     "metadata": {},
     "output_type": "execute_result"
    }
   ],
   "source": [
    "# Задание 15.6\n",
    "\n",
    "# Найдите вектор прибыли стилистов.\n",
    "\n",
    "# Введите координаты вектора через запятую (без пробела):\n",
    "\n",
    "res = []\n",
    "for i in range(counts.shape[0]):\n",
    "    res.append(np.dot(counts[i], prices[i]))\n",
    "\n",
    "np.array(res) - np.dot((counts * prices), com.T)\n",
    "# 50.2,74.88,59.1,67.8,166.6,113.8,66.21,157.75"
   ]
  },
  {
   "cell_type": "code",
   "execution_count": null,
   "metadata": {
    "colab": {
     "base_uri": "https://localhost:8080/"
    },
    "id": "fFsR3myMsmMr",
    "outputId": "3bb20ad5-f925-40c0-cbf5-3703c3623abd"
   },
   "outputs": [
    {
     "name": "stdout",
     "output_type": "stream",
     "text": [
      "[ 50.2   74.88  59.1   67.8  166.6  113.8   66.21 157.75]\n"
     ]
    }
   ],
   "source": [
    "# Подсказка (1 из 1):\n",
    "styl_inc = (prices*counts)@(np.ones(5)-com)\n",
    "\n",
    "print(styl_inc)"
   ]
  },
  {
   "cell_type": "code",
   "execution_count": null,
   "metadata": {
    "colab": {
     "base_uri": "https://localhost:8080/"
    },
    "id": "Eak1mtBxtcEh",
    "outputId": "80b49404-00b2-49a0-bd90-92605ffe4d2a"
   },
   "outputs": [
    {
     "data": {
      "text/plain": [
       "array([0.8, 0.8, 0.7, 0.9, 0.9])"
      ]
     },
     "execution_count": 81,
     "metadata": {},
     "output_type": "execute_result"
    }
   ],
   "source": [
    "np.ones(5)-com"
   ]
  },
  {
   "cell_type": "code",
   "execution_count": null,
   "metadata": {
    "colab": {
     "base_uri": "https://localhost:8080/"
    },
    "id": "g8T4T4oBunOd",
    "outputId": "935dec7b-0376-41a0-ef6b-41347864dc2c"
   },
   "outputs": [
    {
     "data": {
      "text/plain": [
       "array([[20. ,  7.5, 12. , 12. , 10. ],\n",
       "       [ 3.6, 52.5,  3. , 25. ,  6. ],\n",
       "       [24. , 24. ,  0. , 15. ,  8. ],\n",
       "       [ 7.2,  9.6, 50.4, 11.2, 10. ],\n",
       "       [15. , 87.5, 54. , 25. , 27. ],\n",
       "       [50. , 15. ,  6. , 34. , 30. ],\n",
       "       [24.2,  1. ,  6. , 12.5, 34. ],\n",
       "       [31.5,  0. , 77.5, 31. , 56. ]])"
      ]
     },
     "execution_count": 82,
     "metadata": {},
     "output_type": "execute_result"
    }
   ],
   "source": [
    "prices*counts"
   ]
  },
  {
   "cell_type": "code",
   "execution_count": null,
   "metadata": {
    "colab": {
     "base_uri": "https://localhost:8080/"
    },
    "id": "jUJH6-_busX2",
    "outputId": "3997b0e0-b4aa-4795-8132-4ab38412fc02"
   },
   "outputs": [
    {
     "data": {
      "text/plain": [
       "array([[-2. ,  1. ],\n",
       "       [ 1.5, -0.5]])"
      ]
     },
     "execution_count": 86,
     "metadata": {},
     "output_type": "execute_result"
    }
   ],
   "source": [
    "import numpy as np\n",
    "\n",
    "\n",
    "A = np.array([[1, 2], [3, 4]])\n",
    "np.linalg.inv(A)"
   ]
  },
  {
   "cell_type": "code",
   "execution_count": null,
   "metadata": {
    "id": "NMz4A8zMxRnx"
   },
   "outputs": [],
   "source": [
    "import numpy as np\n",
    "\n",
    "\n",
    "A = np.array([[8, 6, 11], [7, 5, 9],[6, 10, 6]])"
   ]
  },
  {
   "cell_type": "code",
   "execution_count": null,
   "metadata": {
    "id": "mLMKp9PODRby"
   },
   "outputs": [],
   "source": [
    "# Задание 20.1\n",
    "\n",
    "# Найдите обратную матрицу к матрице А.\n",
    "\n",
    "# В ответ запишите элемент из 2 строки и 1 столбца, округлив его до трёх знаков после запятой\n",
    "\n",
    "A_inv = np.linalg.inv(A)"
   ]
  },
  {
   "cell_type": "code",
   "execution_count": null,
   "metadata": {
    "colab": {
     "base_uri": "https://localhost:8080/"
    },
    "id": "HyhNa2YQDp9e",
    "outputId": "c752e420-de81-4422-8c10-4970a0827496"
   },
   "outputs": [
    {
     "data": {
      "text/plain": [
       "array([[-1.875  ,  2.3125 , -0.03125],\n",
       "       [ 0.375  , -0.5625 ,  0.15625],\n",
       "       [ 1.25   , -1.375  , -0.0625 ]])"
      ]
     },
     "execution_count": 7,
     "metadata": {},
     "output_type": "execute_result"
    }
   ],
   "source": [
    "A_inv"
   ]
  },
  {
   "cell_type": "code",
   "execution_count": null,
   "metadata": {
    "id": "ZDaNe3efD6Qs"
   },
   "outputs": [],
   "source": [
    "v1 = np.array([9, 10, 7, 7, 9])\n",
    "v2 = np.array([2, 0, 5, 1, 4])\n",
    "v3 = np.array([4, 0, 0, 4, 1])\n",
    "v4 = np.array([3, -4, 3, -1, -4])"
   ]
  },
  {
   "cell_type": "code",
   "execution_count": null,
   "metadata": {
    "colab": {
     "base_uri": "https://localhost:8080/"
    },
    "id": "3ADxFPumEGxS",
    "outputId": "6fc7d78f-8208-452b-9345-f348f273845d"
   },
   "outputs": [
    {
     "data": {
      "text/plain": [
       "4"
      ]
     },
     "execution_count": 9,
     "metadata": {},
     "output_type": "execute_result"
    }
   ],
   "source": [
    "# Найдите ранг системы векторов v1, v2, v3, v4.\n",
    "\n",
    "A = np.array([v1, v2, v3, v4])\n",
    "\n",
    "np.linalg.matrix_rank(A)"
   ]
  },
  {
   "cell_type": "code",
   "execution_count": null,
   "metadata": {
    "colab": {
     "base_uri": "https://localhost:8080/"
    },
    "id": "jSfjBE-8EUnc",
    "outputId": "4d568de0-f962-4f8a-8587-4190a2a4e658"
   },
   "outputs": [
    {
     "data": {
      "text/plain": [
       "array([[360,  96,  73, -35],\n",
       "       [ 96,  46,  16,   4],\n",
       "       [ 73,  16,  33,   4],\n",
       "       [-35,   4,   4,  51]])"
      ]
     },
     "execution_count": 11,
     "metadata": {},
     "output_type": "execute_result"
    }
   ],
   "source": [
    "res = A @  A.T\n",
    "res"
   ]
  },
  {
   "cell_type": "code",
   "execution_count": null,
   "metadata": {
    "colab": {
     "base_uri": "https://localhost:8080/"
    },
    "id": "P1lwKlgyEt4l",
    "outputId": "5b3c1a48-f536-48e9-853b-b57b38ca5a9e"
   },
   "outputs": [
    {
     "data": {
      "text/plain": [
       "3716647.9999999995"
      ]
     },
     "execution_count": 12,
     "metadata": {},
     "output_type": "execute_result"
    }
   ],
   "source": [
    "np.linalg.det(res)"
   ]
  },
  {
   "cell_type": "code",
   "execution_count": null,
   "metadata": {
    "colab": {
     "base_uri": "https://localhost:8080/"
    },
    "id": "j2hlEEsFFE9_",
    "outputId": "63c1d3b2-f44e-43c0-f8ef-4fe065d2ed64"
   },
   "outputs": [
    {
     "data": {
      "text/plain": [
       "array([[ 0.01711488, -0.02798543, -0.02623063,  0.01599775],\n",
       "       [-0.02798543,  0.071967  ,  0.03031441, -0.02722776],\n",
       "       [-0.02623063,  0.03031441,  0.07683106, -0.02640498],\n",
       "       [ 0.01599775, -0.02722776, -0.02640498,  0.03479318]])"
      ]
     },
     "execution_count": 13,
     "metadata": {},
     "output_type": "execute_result"
    }
   ],
   "source": [
    "# Задание 20.7\n",
    "\n",
    "# Найдите обратную матрицу к матрице Грама системы v1, v2, v3, v4.\n",
    "\n",
    "# В ответ запишите элемент из 3 строки и 1 столбца, округлив его до трёх знаков после запятой\n",
    "\n",
    "np.linalg.inv(res)"
   ]
  },
  {
   "cell_type": "code",
   "execution_count": null,
   "metadata": {
    "id": "WUg4Ao2qFa4B"
   },
   "outputs": [],
   "source": [
    "A = np.array([[1, 2], [-3, 1], [1, 2], [1, -1]])"
   ]
  },
  {
   "cell_type": "code",
   "execution_count": null,
   "metadata": {
    "colab": {
     "base_uri": "https://localhost:8080/"
    },
    "id": "osaS8clAZKoB",
    "outputId": "66fd8935-2532-4138-d976-2e49630a7c3a"
   },
   "outputs": [
    {
     "data": {
      "text/plain": [
       "array([[12,  0],\n",
       "       [ 0, 10]])"
      ]
     },
     "execution_count": 16,
     "metadata": {},
     "output_type": "execute_result"
    }
   ],
   "source": [
    "G = np.dot(A.T, A)\n",
    "G"
   ]
  },
  {
   "cell_type": "code",
   "execution_count": null,
   "metadata": {
    "colab": {
     "base_uri": "https://localhost:8080/"
    },
    "id": "S77x2sEBZNen",
    "outputId": "767c1976-3d0d-4da4-e3a2-032c97802180"
   },
   "outputs": [
    {
     "data": {
      "text/plain": [
       "array([[0.08333333, 0.        ],\n",
       "       [0.        , 0.1       ]])"
      ]
     },
     "execution_count": 17,
     "metadata": {},
     "output_type": "execute_result"
    }
   ],
   "source": [
    "G_inv = np.linalg.inv(G)\n",
    "G_inv"
   ]
  },
  {
   "cell_type": "code",
   "execution_count": null,
   "metadata": {
    "colab": {
     "base_uri": "https://localhost:8080/"
    },
    "id": "OKKS-KkHZc76",
    "outputId": "98843075-6493-4a66-fd91-6e492ceff982"
   },
   "outputs": [
    {
     "data": {
      "text/plain": [
       "array([-6, 16])"
      ]
     },
     "execution_count": 21,
     "metadata": {},
     "output_type": "execute_result"
    }
   ],
   "source": [
    "b = np.array([1, 4, 5, 0])\n",
    "\n",
    "np.dot(A.T, b)"
   ]
  },
  {
   "cell_type": "code",
   "execution_count": null,
   "metadata": {
    "id": "J4eVw5zXZydf"
   },
   "outputs": [],
   "source": [
    "np.array"
   ]
  },
  {
   "cell_type": "code",
   "execution_count": null,
   "metadata": {
    "id": "-IaP7XCcLqbK"
   },
   "outputs": [],
   "source": [
    "import numpy as np"
   ]
  },
  {
   "cell_type": "code",
   "execution_count": null,
   "metadata": {
    "id": "6em6cjhxLvsU"
   },
   "outputs": [],
   "source": [
    "X = np.array([11, 8])\n",
    "\n",
    "X_st = (X - X.mean())/np.sqrt(sum((X-X.mean())**2))"
   ]
  },
  {
   "cell_type": "code",
   "execution_count": null,
   "metadata": {
    "colab": {
     "base_uri": "https://localhost:8080/"
    },
    "id": "xJN9v9dwMNox",
    "outputId": "b4c3bfd5-cb01-476a-ac13-3482b1329334"
   },
   "outputs": [
    {
     "data": {
      "text/plain": [
       "array([ 0.70710678, -0.70710678])"
      ]
     },
     "execution_count": 5,
     "metadata": {},
     "output_type": "execute_result"
    }
   ],
   "source": [
    "X_st\n",
    "# 0.71,-0.71"
   ]
  },
  {
   "cell_type": "code",
   "execution_count": null,
   "metadata": {
    "id": "h0BkugH6ILCi"
   },
   "outputs": [],
   "source": []
  }
 ],
 "metadata": {
  "colab": {
   "collapsed_sections": [],
   "name": "МИСИС - LinAlg 01 - matrices.ipynb",
   "provenance": []
  },
  "kernelspec": {
   "display_name": "Python 3",
   "name": "python3"
  },
  "language_info": {
   "name": "python"
  }
 },
 "nbformat": 4,
 "nbformat_minor": 0
}
