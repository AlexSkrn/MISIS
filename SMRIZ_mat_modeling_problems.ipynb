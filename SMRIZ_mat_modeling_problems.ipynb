{
  "nbformat": 4,
  "nbformat_minor": 0,
  "metadata": {
    "colab": {
      "name": "SMRIZ_mat_modeling_problems.ipynb",
      "provenance": [],
      "collapsed_sections": []
    },
    "kernelspec": {
      "name": "python3",
      "display_name": "Python 3"
    },
    "language_info": {
      "name": "python"
    }
  },
  "cells": [
    {
      "cell_type": "markdown",
      "source": [
        "# Линейное программирование"
      ],
      "metadata": {
        "id": "hxxHom8HU74-"
      }
    },
    {
      "cell_type": "code",
      "execution_count": 1,
      "metadata": {
        "id": "oq3weMTa4nyA"
      },
      "outputs": [],
      "source": [
        "# https://ocw.mit.edu/courses/sloan-school-of-management/15-071-the-analytics-edge-spring-2017/linear-optimization/\n",
        "\n",
        "# https://ocw.mit.edu/courses/sloan-school-of-management/15-053-optimization-methods-in-management-science-spring-2013/lecture-notes/"
      ]
    },
    {
      "cell_type": "code",
      "source": [
        "import numpy as np\n",
        "import cvxpy\n",
        "np.set_printoptions(suppress=True)"
      ],
      "metadata": {
        "id": "TMkx614k_pkG"
      },
      "execution_count": 2,
      "outputs": []
    },
    {
      "cell_type": "code",
      "source": [
        "# https://ru.wikipedia.org/wiki/Задача_о_рюкзаке\n",
        "\n",
        "values = np.array([4, 2, 1, 7, 3, 6])\n",
        "weights = np.array([5, 9, 8, 2, 6, 5])\n",
        "C = 15\n",
        "n = 6\n",
        "\n",
        "x = cvxpy.Variable(shape=n, boolean=True)\n",
        "constraints = [\n",
        "               weights @ x <= C,\n",
        "              #  x >= 0\n",
        "               ]\n",
        "total_value = values @ x\n",
        "problem = cvxpy.Problem(cvxpy.Maximize(total_value), constraints=constraints)\n",
        "print(problem.solve())\n",
        "print(x.value)"
      ],
      "metadata": {
        "colab": {
          "base_uri": "https://localhost:8080/"
        },
        "id": "teAjPo7hTjRL",
        "outputId": "529e3248-91aa-41c0-8f72-dfc9cf735a7d"
      },
      "execution_count": 4,
      "outputs": [
        {
          "output_type": "stream",
          "name": "stdout",
          "text": [
            "17.0\n",
            "[1. 0. 0. 1. 0. 1.]\n"
          ]
        }
      ]
    },
    {
      "cell_type": "code",
      "source": [
        "# Задача № 2 - blending\n",
        "c = np.array([\n",
        "              [0.15, 0.15, 0.17],\n",
        "              [0.10, 0.08, 0.09],\n",
        "              [0.007, 0.003, 0.005],\n",
        "              [300, 200, 250],\n",
        "              ])\n",
        "\n",
        "x = cvxpy.Variable(shape=(3, 1), integer=False)\n",
        "\n",
        "# Ограничения\n",
        "constraint = [\n",
        "              c[0] @ x >= 0.16,\n",
        "              c[0] @ x <= 0.18, \n",
        "              c[1] @ x <= 0.09, \n",
        "              c[2] @ x <= 0.005, \n",
        "              x >= 0,\n",
        "              cvxpy.sum(x[:, :]) == 1\n",
        "              ]\n",
        "\n",
        "# минимизируемая функция        \n",
        "total_cost = c[3] @ x\n",
        "problem = cvxpy.Problem(cvxpy.Minimize(total_cost), constraints=constraint)\n",
        "print('Мин. стоимость 1 единицы состава ($):')\n",
        "print(np.round(problem.solve(solver='ECOS_BB'), 2))\n",
        "print('Содержание каждого из материалов в 1 единице смеси (%)')\n",
        "print(np.round(100*x.value, 2))"
      ],
      "metadata": {
        "colab": {
          "base_uri": "https://localhost:8080/"
        },
        "id": "wwuJFDRy44hz",
        "outputId": "ba412714-2670-43ee-8dba-a2d98a9c078c"
      },
      "execution_count": 2,
      "outputs": [
        {
          "output_type": "stream",
          "name": "stdout",
          "text": [
            "Мин. стоимость 1 единицы состава ($):\n",
            "225.0\n",
            "Содержание каждого из материалов в 1 единице смеси (%)\n",
            "[[-0.]\n",
            " [50.]\n",
            " [50.]]\n"
          ]
        }
      ]
    },
    {
      "cell_type": "code",
      "source": [
        "# Входные данные: a_i -- массив (3 x 1), пропорции, в которых нужно брать составы.\n",
        "\n",
        "# Конкретный пример пропорций из прошлой задачи (в процентах): 0, 50, 50.\n",
        "\n",
        "# Ограничения (в тоннах) по объему каждого из составов: 150, 100, 75.\n",
        "\n",
        "# Ограничение на загрузку одной печи -- 200 тонн.\n",
        "\n",
        "# Целевая функция: у = a_1 x + a_2 x + a_1 x, где x - сколько раз нужно брать a_i-тое \n",
        "# частей каждого состава.\n",
        "\n",
        "# Например, с данными из примера: нужно взять 0 частей состава 1, 50 частей состава 2 и 50 \n",
        "# частей состава 3 по 1.5 раза каждого.\n",
        "\n",
        "# Для этого примера я ожидаю ответ: максимум - 150, потонный состав -- 0, 75 и 75 тонн.\n",
        "\n",
        "# Если поменять пропорции на, к примеру, 0, 80 и 20, то я ожидаю такой рассчитанный \n",
        "# вручную результат: 125 тонн макс. загрузка, по 0, 100 и 25 тоннам соответствующих составов."
      ],
      "metadata": {
        "id": "sGunlfs-469n"
      },
      "execution_count": 1,
      "outputs": []
    },
    {
      "cell_type": "code",
      "source": [
        "# # Задача № 3\n",
        "# Здесь нужно идти через максимум получаемой прибыли. \n",
        "# По-хорошему необходимо сначала решить целиком вторую, найти в ней самый оптимальный \n",
        "# (= дешевый состав). Затем попытаться для начала применить его в решении 3-ей задачи.\n",
        "# Однако если печь не загружена полностью, нужно перерешать задачу линейным программированием, \n",
        "# ведь тогда мы может быть сможем ещё увеличить прибыль, пусть используя и не \n",
        "# самый дешевый (= найденный в задаче 2) состав.\n",
        "import numpy as np\n",
        "import cvxpy\n",
        "np.set_printoptions(suppress=True)\n",
        "\n",
        "# a = np.array([0, 50, 50])\n",
        "a = np.array([0, 80, 20])\n",
        "\n",
        "x = cvxpy.Variable(shape=(3,), integer=False)\n",
        "\n",
        "# Constraints\n",
        "constraint = [\n",
        "              x >= 0,\n",
        "              x[0] == x[1],\n",
        "              x[1] == x[2],\n",
        "              cvxpy.multiply(a[0], x[0]) <= 150,\n",
        "              cvxpy.multiply(a[1], x[1]) <= 100,\n",
        "              cvxpy.multiply(a[2], x[2]) <= 75,\n",
        "              a @ x <= 200,\n",
        "              ]\n",
        "\n",
        "# Objective function        \n",
        "total_load = a @ x\n",
        "problem = cvxpy.Problem(cvxpy.Maximize(total_load), constraints=constraint)\n",
        "print('Макс. загрузка печи (тонн):')\n",
        "print(np.round(problem.solve(solver='ECOS_BB'), 2))\n",
        "print('Сколько тонн каждого состава нужно взять (тонны):')\n",
        "print(np.multiply(x.value, a))"
      ],
      "metadata": {
        "colab": {
          "base_uri": "https://localhost:8080/"
        },
        "id": "V_fLAECY4_Ty",
        "outputId": "01154c56-56d3-4469-8fb9-26697f341826"
      },
      "execution_count": 4,
      "outputs": [
        {
          "output_type": "stream",
          "name": "stdout",
          "text": [
            "Макс. загрузка печи (тонн):\n",
            "125.0\n",
            "Сколько тонн каждого состава нужно взять (тонны):\n",
            "[  0. 100.  25.]\n"
          ]
        }
      ]
    },
    {
      "cell_type": "code",
      "source": [
        "# Задача № 3 (с х из одного элемента вместо вектора из трех элементов)\n",
        "import numpy as np\n",
        "import cvxpy\n",
        "np.set_printoptions(suppress=True)\n",
        "\n",
        "# a = np.array([0, 1, 1])\n",
        "# a = np.array([0, 0.5, 0.5])\n",
        "a = np.array([0, 50, 50])\n",
        "# a = np.array([0, 80, 20])\n",
        "# a = np.array([0, 4, 1])\n",
        "\n",
        "x = cvxpy.Variable(shape=(1,), integer=False)\n",
        "\n",
        "# Constraints\n",
        "constraint = [\n",
        "              x >= 0,\n",
        "              cvxpy.multiply(a[0], x) <= 150,\n",
        "              cvxpy.multiply(a[1], x) <= 100,\n",
        "              cvxpy.multiply(a[2], x) <= 75,\n",
        "              cvxpy.sum(cvxpy.multiply(a, x)) <= 200,\n",
        "              ]\n",
        "\n",
        "# Objective function        \n",
        "total_load = cvxpy.sum(cvxpy.multiply(a, x))\n",
        "problem = cvxpy.Problem(cvxpy.Maximize(total_load), constraints=constraint)\n",
        "print('Макс. загрузка печи (тонн):')\n",
        "print(np.round(problem.solve(solver='ECOS_BB'), 2))\n",
        "print('Сколько тонн каждого состава нужно взять (тонны):')\n",
        "print(np.round(np.multiply(x.value, a), 2))\n",
        "# Макс. загрузка печи (тонн):\n",
        "# 150.0\n",
        "# Сколько тонн каждого состава нужно взять (тонны):\n",
        "# [ 0. 75. 75.]\n",
        "\n",
        "# Макс. загрузка печи (тонн):\n",
        "# 125.0\n",
        "# Сколько тонн каждого состава нужно взять (тонны):\n",
        "# [  0. 100.  25.]"
      ],
      "metadata": {
        "colab": {
          "base_uri": "https://localhost:8080/"
        },
        "id": "3BMorxTM5Bom",
        "outputId": "21123431-9487-45de-95ab-423a8bc45d2b"
      },
      "execution_count": 1,
      "outputs": [
        {
          "output_type": "stream",
          "name": "stdout",
          "text": [
            "Макс. загрузка печи (тонн):\n",
            "150.0\n",
            "Сколько тонн каждого состава нужно взять (тонны):\n",
            "[ 0. 75. 75.]\n"
          ]
        }
      ]
    },
    {
      "cell_type": "code",
      "source": [
        "# Задача 4 (часть 1)\n",
        "import numpy as np\n",
        "import cvxpy\n",
        "np.set_printoptions(suppress=True)\n",
        "\n",
        "a = np.array([[0, 3, 9, 11],   # кол-во единиц i-го ресурса, \n",
        "              [3, 5, 7, 0],    # идущего на производство\n",
        "              [4, 8, 0, 13],   # единицы товара по j-ой технологии\n",
        "              [15, 20, 17, 21] # прибыль от ед. товара по j-ой технологии\n",
        "              ])\n",
        "\n",
        "# x_j -- объем выпуска товара по j-ой технологии\n",
        "x = cvxpy.Variable(shape=(4,), integer=True)\n",
        "\n",
        "constraint = [\n",
        "    x >= 0,\n",
        "    a[0] @ x <= 300,  # максимальный запас 1-го ресурса\n",
        "    a[1] @ x <= 400,  # максимальный запас 2-го ресурса\n",
        "    a[2] @ x <= 450,  # максимальный запас 3-го ресурса\n",
        "    ]\n",
        "\n",
        "# Objective function        \n",
        "total_profit = a[3] @ x\n",
        "problem = cvxpy.Problem(cvxpy.Maximize(total_profit), constraints=constraint)\n",
        "print('Макс. прибыль ($):')\n",
        "print(np.round(problem.solve(solver='ECOS_BB'), 2))\n",
        "print('Сколько единиц товара по каждой технологии предлагается производить:')\n",
        "print(np.round(x.value))"
      ],
      "metadata": {
        "colab": {
          "base_uri": "https://localhost:8080/"
        },
        "id": "_8QOjTeG5D77",
        "outputId": "6ae5692b-b381-42fd-d67c-84adb4f945c7"
      },
      "execution_count": 2,
      "outputs": [
        {
          "output_type": "stream",
          "name": "stdout",
          "text": [
            "Макс. прибыль ($):\n",
            "1833.0\n",
            "Сколько единиц товара по каждой технологии предлагается производить:\n",
            "[112.   0.   9.   0.]\n"
          ]
        }
      ]
    },
    {
      "cell_type": "code",
      "source": [
        "# Задача 4 (часть 2) Переборная часть во второй части - неверное решение!\n",
        "import numpy as np\n",
        "import cvxpy\n",
        "np.set_printoptions(suppress=True)\n",
        "\n",
        "\n",
        "def production_plan(a_matrix, b_vector):\n",
        "    \"\"\"Получаем расход ресурсов, прибыль, лимит запасов, возвращаем прибыль и план.\"\"\"\n",
        "     # x_j - объем выпуска товара по j-ой технологии\n",
        "    x = cvxpy.Variable(shape=(4,), integer=True)\n",
        "\n",
        "    constraint = [\n",
        "        a_matrix[0] @ x <= b_vector[0],  # максимальный запас 1-го ресурса\n",
        "        a_matrix[1] @ x <= b_vector[1],  # максимальный запас 2-го ресурса\n",
        "        a_matrix[2] @ x <= b_vector[2],  # максимальный запас 3-го ресурса\n",
        "        x >= 0,\n",
        "        ]\n",
        "\n",
        "    # Objective function        \n",
        "    ttl_profit = a_matrix[3] @ x\n",
        "    problem = cvxpy.Problem(cvxpy.Maximize(ttl_profit), constraints=constraint)\n",
        "\n",
        "    max_profit = np.round(problem.solve(solver='ECOS_BB'), 2)\n",
        "    prod_plan = np.round(x.value)\n",
        "\n",
        "    return max_profit, prod_plan"
      ],
      "metadata": {
        "id": "K7NGnNGA5GSf"
      },
      "execution_count": 12,
      "outputs": []
    },
    {
      "cell_type": "code",
      "source": [
        "# Входные данные\n",
        "a = np.array([[0, 3, 9, 11],   # кол-во единиц i-го ресурса, \n",
        "              [3, 5, 7, 0],    # идущего на производство\n",
        "              [4, 8, 0, 13],   # единицы товара по j-ой технологии\n",
        "              [15, 20, 17, 21] # прибыль от ед. товара по j-ой технологии\n",
        "              ])\n",
        "\n",
        "# b_i -- максимальный запас i-го ресурса\n",
        "b = np.array([[300, 400, 450],  # базовый сценарий\n",
        "              [302, 400, 450],  # докупаем 2 единицы 1-го вида ресурса\n",
        "              [300, 402, 450],  # докупаем 2 единицы 2-го вида ресурса\n",
        "              [300, 400, 452],  # докупаем 2 единицы 3-го вида ресурса\n",
        "              ])\n",
        "# сначала выполняем предыдующий план, затем смотрим, что будет если докупить чего-нибудь\n",
        "# b = np.array([\n",
        "#               # [300, 400, 450],  # базовый сценарий\n",
        "#               [221, 1, 2],  # докупаем 2 единицы 1-го вида ресурса\n",
        "#               [219, 3, 2],  # докупаем 2 единицы 2-го вида ресурса\n",
        "#               [219, 1, 4],  # докупаем 2 единицы 3-го вида ресурса\n",
        "#               ])\n",
        "\n",
        "# доп. затраты по каждому сценарию\n",
        "extra_cost = [0.36, 0.44, 0.38]"
      ],
      "metadata": {
        "id": "DLShAnB45Icg"
      },
      "execution_count": 13,
      "outputs": []
    },
    {
      "cell_type": "code",
      "source": [
        "# проверить, что я ничего не сломал и по базовому сценарию такой же результат, что и в части 1\n",
        "res = production_plan(a, b[0])\n",
        "print('Макс. прибыль ($):')\n",
        "print(res[0])\n",
        "print('Сколько единиц товара по каждой технологии предлагается производить:')\n",
        "print(res[1])"
      ],
      "metadata": {
        "colab": {
          "base_uri": "https://localhost:8080/"
        },
        "id": "Aecnb8Rh5LGp",
        "outputId": "bb152db9-ade3-459f-d89b-69b3212e8f5e"
      },
      "execution_count": 14,
      "outputs": [
        {
          "output_type": "stream",
          "name": "stdout",
          "text": [
            "Макс. прибыль ($):\n",
            "1833.0\n",
            "Сколько единиц товара по каждой технологии предлагается производить:\n",
            "[112.   0.   9.   0.]\n"
          ]
        }
      ]
    },
    {
      "cell_type": "code",
      "source": [
        "# Описание всех сценариев\n",
        "count = 0\n",
        "scenario_table = []\n",
        "for scenario_i, extra_cost_item in zip(b, extra_cost):\n",
        "    print(f'Сценарий {count}. Запасы: {scenario_i} Допзатраты: {extra_cost_item}')\n",
        "    profit, plan = production_plan(a, scenario_i)\n",
        "    net_profit = profit - extra_cost_item\n",
        "    scenario_table.append([net_profit, plan])\n",
        "    print(f'Чистая прибыль: {net_profit} План: {plan}', end='\\n\\n')\n",
        "    count += 1"
      ],
      "metadata": {
        "colab": {
          "base_uri": "https://localhost:8080/"
        },
        "id": "9fk0Nkp75Nhk",
        "outputId": "23ef97a4-569d-4f99-c133-983d1de99e77"
      },
      "execution_count": 15,
      "outputs": [
        {
          "output_type": "stream",
          "name": "stdout",
          "text": [
            "Сценарий 0. Запасы: [300 400 450] Допзатраты: 0.36\n",
            "Чистая прибыль: 1832.64 План: [112.   0.   9.   0.]\n",
            "\n",
            "Сценарий 1. Запасы: [302 400 450] Допзатраты: 0.44\n",
            "Чистая прибыль: 1832.56 План: [112.   0.   9.   0.]\n",
            "\n",
            "Сценарий 2. Запасы: [300 402 450] Допзатраты: 0.38\n",
            "Чистая прибыль: 1835.62 План: [106.  -0.  12.   2.]\n",
            "\n"
          ]
        }
      ]
    },
    {
      "cell_type": "code",
      "source": [
        "# Выбираем лучший сценарий\n",
        "scenario_table = np.array(scenario_table, dtype='object')\n",
        "idx_best_scenario = scenario_table[:,0].argmax()\n",
        "best_profit, best_plan = scenario_table[idx_best_scenario]\n",
        "print(f'Номер лучшего сценария: {idx_best_scenario}')\n",
        "print(f'Лучшая прибыль: {best_profit}, Лучший план: {best_plan}')"
      ],
      "metadata": {
        "colab": {
          "base_uri": "https://localhost:8080/"
        },
        "id": "hjLj5Ab-5P5t",
        "outputId": "80a5c9f7-ad1a-4d6e-8c5d-f042486b575b"
      },
      "execution_count": 11,
      "outputs": [
        {
          "output_type": "stream",
          "name": "stdout",
          "text": [
            "Номер лучшего сценария: 2\n",
            "Лучшая прибыль: 1843.76, Лучший план: [112.   0.   9.   0.]\n"
          ]
        }
      ]
    },
    {
      "cell_type": "code",
      "source": [
        "# Задача 5\n",
        "import numpy as np\n",
        "import cvxpy\n",
        "np.set_printoptions(suppress=True)\n",
        "\n",
        "\n",
        "def distribute(a, weights: list):\n",
        "    \"\"\"Получаем матрицу прибыли и веса, а возвращем макс. прибыль и распределение.\"\"\"\n",
        "    resources_num = len(weights)  # количество ресурсов\n",
        "    x = cvxpy.Variable(shape=(a.shape[0], a.shape[1]), integer=True)\n",
        "\n",
        "    constraints = [\n",
        "        cvxpy.sum(x, axis=0) @ weights <= resources_num,\n",
        "        cvxpy.sum(x, axis=1) <= 1,  # 1 вариант выбора распределения для каждого агрегата\n",
        "        x <= 1,\n",
        "        x >= 0\n",
        "        ]\n",
        "    # Objective function        \n",
        "    ttl_profit = cvxpy.sum(cvxpy.multiply(a, x))  # обычное умножение, не матричное\n",
        "    problem = cvxpy.Problem(cvxpy.Maximize(ttl_profit), constraints=constraints)\n",
        "\n",
        "    max_profit = np.round(problem.solve(solver='ECOS_BB'), 1)\n",
        "    distribution = np.round(x.value)\n",
        "\n",
        "    return max_profit, distribution"
      ],
      "metadata": {
        "id": "84phJmhP5ShN"
      },
      "execution_count": 1,
      "outputs": []
    },
    {
      "cell_type": "code",
      "source": [
        "# часть 1\n",
        "a = np.array([[5, 7.5, 9, 11],\n",
        "              [4, 5.5, 8, 10],\n",
        "              [6, 8, 10, 12],\n",
        "              [4.5, 7, 9, 11]\n",
        "              ])\n",
        "print('a =\\n', a)\n",
        "weights = [1, 2, 3, 4]\n",
        "res = distribute(a, weights)\n",
        "print(f'\\nMax profit = $ {res[0]}')\n",
        "print(f'Distribution:\\n {res[1]}')"
      ],
      "metadata": {
        "colab": {
          "base_uri": "https://localhost:8080/"
        },
        "id": "5kgQwxXqComQ",
        "outputId": "5163c2a4-435d-4827-b95c-9eda346a1155"
      },
      "execution_count": 96,
      "outputs": [
        {
          "output_type": "stream",
          "name": "stdout",
          "text": [
            "a =\n",
            " [[ 5.   7.5  9.  11. ]\n",
            " [ 4.   5.5  8.  10. ]\n",
            " [ 6.   8.  10.  12. ]\n",
            " [ 4.5  7.   9.  11. ]]\n",
            "\n",
            "Max profit = $ 19.5\n",
            "Distribution:\n",
            " [[1. 0. 0. 0.]\n",
            " [1. 0. 0. 0.]\n",
            " [1. 0. 0. 0.]\n",
            " [1. 0. 0. 0.]]\n"
          ]
        }
      ]
    },
    {
      "cell_type": "code",
      "source": [
        "# часть 2\n",
        "# убираем 1 единицу ресурса, то есть четвертую колонку\n",
        "a = np.array([[5, 7.5, 9, 11],\n",
        "              [4, 5.5, 8, 10],\n",
        "              [6, 8, 10, 12],\n",
        "              [4.5, 7, 9, 11]\n",
        "              ])\n",
        "a = a[:, 0:3]\n",
        "print('a =\\n', a)\n",
        "weights = [1, 2, 3]\n",
        "res = distribute(a, weights)\n",
        "print(f'\\nMax profit = $ {res[0]}')\n",
        "print(f'Distribution:\\n {res[1]}')"
      ],
      "metadata": {
        "colab": {
          "base_uri": "https://localhost:8080/"
        },
        "id": "fpI_MW9YDOB-",
        "outputId": "29354851-7150-4f3b-dff6-a1a7efff4789"
      },
      "execution_count": 97,
      "outputs": [
        {
          "output_type": "stream",
          "name": "stdout",
          "text": [
            "a =\n",
            " [[ 5.   7.5  9. ]\n",
            " [ 4.   5.5  8. ]\n",
            " [ 6.   8.  10. ]\n",
            " [ 4.5  7.   9. ]]\n",
            "\n",
            "Max profit = $ 15.5\n",
            "Distribution:\n",
            " [[ 1.  0. -0.]\n",
            " [ 0. -0. -0.]\n",
            " [ 1.  0. -0.]\n",
            " [ 1. -0. -0.]]\n"
          ]
        }
      ]
    },
    {
      "cell_type": "code",
      "source": [
        "# часть 3 - пример 1\n",
        "# убираем 1-ый агрегат, например, первый, а кол-во ресурсов исходное, т.е. 4\n",
        "a = np.array([[5, 7.5, 9, 11],\n",
        "              [4, 5.5, 8, 10],\n",
        "              [6, 8, 10, 12],\n",
        "              [4.5, 7, 9, 11]\n",
        "              ])\n",
        "a = a[1:, :]\n",
        "print('a = \\n', a)\n",
        "weights = [1, 2, 3, 4]\n",
        "res = distribute(a, weights)\n",
        "print(f'\\nMax profit = $ {res[0]}')\n",
        "print(f'Distribution:\\n {res[1]}')"
      ],
      "metadata": {
        "colab": {
          "base_uri": "https://localhost:8080/"
        },
        "id": "-5ZitndsKIPl",
        "outputId": "33b2d68b-cd8d-4ca3-ac08-7d15d18b7b60"
      },
      "execution_count": 98,
      "outputs": [
        {
          "output_type": "stream",
          "name": "stdout",
          "text": [
            "a = \n",
            " [[ 4.   5.5  8.  10. ]\n",
            " [ 6.   8.  10.  12. ]\n",
            " [ 4.5  7.   9.  11. ]]\n",
            "\n",
            "Max profit = $ 17.0\n",
            "Distribution:\n",
            " [[1. 0. 0. 0.]\n",
            " [1. 0. 0. 0.]\n",
            " [0. 1. 0. 0.]]\n"
          ]
        }
      ]
    },
    {
      "cell_type": "code",
      "source": [
        "# часть 3 - пример 2\n",
        "# убираем 2-ой агрегат; кол-во ресурсов исходное, т.е. 4\n",
        "a = np.array([[5, 7.5, 9, 11],\n",
        "              [4, 5.5, 8, 10],\n",
        "              [6, 8, 10, 12],\n",
        "              [4.5, 7, 9, 11]\n",
        "              ])\n",
        "a = np.vstack((a[0:1, :], a[2:, :]))\n",
        "print('a =\\n',  a)\n",
        "weights = [1, 2, 3, 4]\n",
        "res = distribute(a, weights)\n",
        "print(f'\\nMax profit = $ {res[0]}')\n",
        "print(f'Distribution:\\n {res[1]}')"
      ],
      "metadata": {
        "colab": {
          "base_uri": "https://localhost:8080/"
        },
        "id": "XRn2YkU7KIEt",
        "outputId": "e3454d20-3113-4984-ab0b-ea899e7ba826"
      },
      "execution_count": 99,
      "outputs": [
        {
          "output_type": "stream",
          "name": "stdout",
          "text": [
            "a =\n",
            " [[ 5.   7.5  9.  11. ]\n",
            " [ 6.   8.  10.  12. ]\n",
            " [ 4.5  7.   9.  11. ]]\n",
            "\n",
            "Max profit = $ 18.0\n",
            "Distribution:\n",
            " [[1. 0. 0. 0.]\n",
            " [1. 0. 0. 0.]\n",
            " [0. 1. 0. 0.]]\n"
          ]
        }
      ]
    },
    {
      "cell_type": "code",
      "source": [
        "a = np.array([[5, 7.5, 9, 11],\n",
        "              [4, 5.5, 8, 10],\n",
        "              [6, 8, 10, 12],\n",
        "              # [4.5, 7, 9, 11]\n",
        "              ])\n",
        "print('a =\\n', a)\n",
        "weights = [1, 2, 3, 4]\n",
        "res = distribute(a, weights)\n",
        "print(f'\\nMax profit = $ {res[0]}')\n",
        "print(f'Distribution:\\n {res[1]}')"
      ],
      "metadata": {
        "colab": {
          "base_uri": "https://localhost:8080/"
        },
        "id": "5BKGDGCtR8Qj",
        "outputId": "4096b0ab-fc10-4627-ed44-5e5217798ae1"
      },
      "execution_count": 2,
      "outputs": [
        {
          "output_type": "stream",
          "name": "stdout",
          "text": [
            "a =\n",
            " [[ 5.   7.5  9.  11. ]\n",
            " [ 4.   5.5  8.  10. ]\n",
            " [ 6.   8.  10.  12. ]]\n",
            "\n",
            "Max profit = $ 17.5\n",
            "Distribution:\n",
            " [[0. 1. 0. 0.]\n",
            " [1. 0. 0. 0.]\n",
            " [1. 0. 0. 0.]]\n"
          ]
        }
      ]
    },
    {
      "cell_type": "markdown",
      "source": [
        "# Динамическое програмирование"
      ],
      "metadata": {
        "id": "33IqnNGRS2w6"
      }
    },
    {
      "cell_type": "code",
      "source": [
        "from pprint import pprint\n",
        "import numpy as np\n",
        "import pandas as pd"
      ],
      "metadata": {
        "id": "pKdmi_mhZnpo"
      },
      "execution_count": null,
      "outputs": []
    },
    {
      "cell_type": "code",
      "source": [
        "# задача № 5 - правильное решение с помощью динамического программирования\n",
        "def distribute_two(a):\n",
        "    \"\"\"Return max profit list and distribution list for 2 banks.\"\"\"\n",
        "    max_list = []\n",
        "    opt_list = []\n",
        "\n",
        "    for i in range(len(a[0])):\n",
        "        max = a[0][i] + a[1][0]\n",
        "        opt = [i, 0]\n",
        "        for j in range(i+1):\n",
        "            test_max = a[0][i-j] + a[1][j]\n",
        "            if test_max > max:\n",
        "                max = test_max\n",
        "                opt = [i-j, j]\n",
        "        max_list.append(max)\n",
        "        opt_list.append(opt)\n",
        "    return max_list, opt_list\n",
        "\n",
        "\n",
        "# a = [[0, 5, 7.5, 9, 10],\n",
        "#      [0, 4, 5.5, 8, 10]\n",
        "#      ]\n",
        "# b = [[0, 5, 9, 11.5, 13],\n",
        "#      [0, 6, 8, 10, 12]\n",
        "#      ]\n",
        "\n",
        "# distribute_two(a)\n",
        "# distribute_two(b)"
      ],
      "metadata": {
        "id": "LErqIIzQN82I"
      },
      "execution_count": null,
      "outputs": []
    },
    {
      "cell_type": "code",
      "source": [
        "def distribute(a):\n",
        "    \"\"\"Return max profits and distribution of investments.\n",
        "    \n",
        "    a : a profit matrix A x B, rows are banks, columns are investments\n",
        "        a_ij - profit j from bank i \n",
        "    \"\"\"\n",
        "    a = np.hstack((np.zeros((len(a), 1)), a))\n",
        "    dist_table = list(a[:2, :])\n",
        "\n",
        "    F_12_max, F_12_distr = distribute_two(a[0:2, :])\n",
        "    dist_table.append(F_12_max)\n",
        "    dist_table.append(F_12_distr)\n",
        "    for row in a[2:, :]:\n",
        "        # print(row)\n",
        "        dist_table.append(row)\n",
        "        F_123 = distribute_two([dist_table[-3], row])\n",
        "        F_123_dist = []\n",
        "        for i in F_123[1]:\n",
        "            F_123_dist.append(dist_table[-2][i[0]] + [i[1]])\n",
        "        dist_table.append(F_123[0])    # add maximum profits\n",
        "        dist_table.append(F_123_dist)  # add optimal distribution\n",
        "\n",
        "    return dist_table\n",
        "\n",
        "# a = [[5, 7.5, 9, 10],\n",
        "#   [4, 5.5, 8, 10],\n",
        "#   [6, 8, 10, 12],\n",
        "#   [4.5, 7, 9, 11]\n",
        "#   ]\n",
        "# res = distribute(a)\n",
        "# pprint(res)"
      ],
      "metadata": {
        "id": "srHNJeLgOw03"
      },
      "execution_count": null,
      "outputs": []
    },
    {
      "cell_type": "code",
      "source": [
        "def build_column_names(col_num):\n",
        "    \"\"\"Return a list of column names.\"\"\"\n",
        "    columns = ['f1(x)', 'f2(x)', 'F12(A)', 'F12_dist']\n",
        "    n = int((col_num - 4) / 3)\n",
        "    count = 3\n",
        "    for i in range(n):\n",
        "        s = f'f{count}(x)'\n",
        "        columns.append(s)\n",
        "        r = ''.join([str(i) for i in range(1, count+1)])\n",
        "        s = f'F{r}(A)'\n",
        "        columns.append(s)\n",
        "        s = f'F{r}_dist'\n",
        "        columns.append(s)\n",
        "        count += 1\n",
        "    return columns"
      ],
      "metadata": {
        "id": "OOIQAAnWZzWh"
      },
      "execution_count": null,
      "outputs": []
    },
    {
      "cell_type": "code",
      "source": [
        "# Часть 1 и 2\n",
        "a = [[5, 7.5, 9, 10],\n",
        "  [4, 5.5, 8, 10],\n",
        "  [6, 8, 10, 12],\n",
        "  [4.5, 7, 9, 11]\n",
        "  ]\n",
        "def main(a):\n",
        "    res = distribute(a)\n",
        "    dist_table = np.array(res, dtype='object')\n",
        "    columns = build_column_names(dist_table.shape[0])\n",
        "    best_dist = pd.DataFrame(dist_table.T, columns=columns)\n",
        "    return best_dist\n",
        "\n",
        "best_dist = main(a)\n",
        "best_dist"
      ],
      "metadata": {
        "colab": {
          "base_uri": "https://localhost:8080/",
          "height": 206
        },
        "id": "MYIiN8E0oooj",
        "outputId": "b11a4ed0-19d9-4fc1-fc55-23b6514f8d77"
      },
      "execution_count": null,
      "outputs": [
        {
          "output_type": "execute_result",
          "data": {
            "text/html": [
              "\n",
              "  <div id=\"df-b57b6a9a-358f-4f55-97a0-7d0404868a80\">\n",
              "    <div class=\"colab-df-container\">\n",
              "      <div>\n",
              "<style scoped>\n",
              "    .dataframe tbody tr th:only-of-type {\n",
              "        vertical-align: middle;\n",
              "    }\n",
              "\n",
              "    .dataframe tbody tr th {\n",
              "        vertical-align: top;\n",
              "    }\n",
              "\n",
              "    .dataframe thead th {\n",
              "        text-align: right;\n",
              "    }\n",
              "</style>\n",
              "<table border=\"1\" class=\"dataframe\">\n",
              "  <thead>\n",
              "    <tr style=\"text-align: right;\">\n",
              "      <th></th>\n",
              "      <th>f1(x)</th>\n",
              "      <th>f2(x)</th>\n",
              "      <th>F12(A)</th>\n",
              "      <th>F12_dist</th>\n",
              "      <th>f3(x)</th>\n",
              "      <th>F123(A)</th>\n",
              "      <th>F123_dist</th>\n",
              "      <th>f4(x)</th>\n",
              "      <th>F1234(A)</th>\n",
              "      <th>F1234_dist</th>\n",
              "    </tr>\n",
              "  </thead>\n",
              "  <tbody>\n",
              "    <tr>\n",
              "      <th>0</th>\n",
              "      <td>0</td>\n",
              "      <td>0</td>\n",
              "      <td>0</td>\n",
              "      <td>[0, 0]</td>\n",
              "      <td>0</td>\n",
              "      <td>0</td>\n",
              "      <td>[0, 0, 0]</td>\n",
              "      <td>0</td>\n",
              "      <td>0</td>\n",
              "      <td>[0, 0, 0, 0]</td>\n",
              "    </tr>\n",
              "    <tr>\n",
              "      <th>1</th>\n",
              "      <td>5</td>\n",
              "      <td>4</td>\n",
              "      <td>5</td>\n",
              "      <td>[1, 0]</td>\n",
              "      <td>6</td>\n",
              "      <td>6</td>\n",
              "      <td>[0, 0, 1]</td>\n",
              "      <td>4.5</td>\n",
              "      <td>6</td>\n",
              "      <td>[0, 0, 1, 0]</td>\n",
              "    </tr>\n",
              "    <tr>\n",
              "      <th>2</th>\n",
              "      <td>7.5</td>\n",
              "      <td>5.5</td>\n",
              "      <td>9</td>\n",
              "      <td>[1, 1]</td>\n",
              "      <td>8</td>\n",
              "      <td>11</td>\n",
              "      <td>[1, 0, 1]</td>\n",
              "      <td>7</td>\n",
              "      <td>11</td>\n",
              "      <td>[1, 0, 1, 0]</td>\n",
              "    </tr>\n",
              "    <tr>\n",
              "      <th>3</th>\n",
              "      <td>9</td>\n",
              "      <td>8</td>\n",
              "      <td>11.5</td>\n",
              "      <td>[2, 1]</td>\n",
              "      <td>10</td>\n",
              "      <td>15</td>\n",
              "      <td>[1, 1, 1]</td>\n",
              "      <td>9</td>\n",
              "      <td>15.5</td>\n",
              "      <td>[1, 0, 1, 1]</td>\n",
              "    </tr>\n",
              "    <tr>\n",
              "      <th>4</th>\n",
              "      <td>10</td>\n",
              "      <td>10</td>\n",
              "      <td>13</td>\n",
              "      <td>[3, 1]</td>\n",
              "      <td>12</td>\n",
              "      <td>17.5</td>\n",
              "      <td>[2, 1, 1]</td>\n",
              "      <td>11</td>\n",
              "      <td>19.5</td>\n",
              "      <td>[1, 1, 1, 1]</td>\n",
              "    </tr>\n",
              "  </tbody>\n",
              "</table>\n",
              "</div>\n",
              "      <button class=\"colab-df-convert\" onclick=\"convertToInteractive('df-b57b6a9a-358f-4f55-97a0-7d0404868a80')\"\n",
              "              title=\"Convert this dataframe to an interactive table.\"\n",
              "              style=\"display:none;\">\n",
              "        \n",
              "  <svg xmlns=\"http://www.w3.org/2000/svg\" height=\"24px\"viewBox=\"0 0 24 24\"\n",
              "       width=\"24px\">\n",
              "    <path d=\"M0 0h24v24H0V0z\" fill=\"none\"/>\n",
              "    <path d=\"M18.56 5.44l.94 2.06.94-2.06 2.06-.94-2.06-.94-.94-2.06-.94 2.06-2.06.94zm-11 1L8.5 8.5l.94-2.06 2.06-.94-2.06-.94L8.5 2.5l-.94 2.06-2.06.94zm10 10l.94 2.06.94-2.06 2.06-.94-2.06-.94-.94-2.06-.94 2.06-2.06.94z\"/><path d=\"M17.41 7.96l-1.37-1.37c-.4-.4-.92-.59-1.43-.59-.52 0-1.04.2-1.43.59L10.3 9.45l-7.72 7.72c-.78.78-.78 2.05 0 2.83L4 21.41c.39.39.9.59 1.41.59.51 0 1.02-.2 1.41-.59l7.78-7.78 2.81-2.81c.8-.78.8-2.07 0-2.86zM5.41 20L4 18.59l7.72-7.72 1.47 1.35L5.41 20z\"/>\n",
              "  </svg>\n",
              "      </button>\n",
              "      \n",
              "  <style>\n",
              "    .colab-df-container {\n",
              "      display:flex;\n",
              "      flex-wrap:wrap;\n",
              "      gap: 12px;\n",
              "    }\n",
              "\n",
              "    .colab-df-convert {\n",
              "      background-color: #E8F0FE;\n",
              "      border: none;\n",
              "      border-radius: 50%;\n",
              "      cursor: pointer;\n",
              "      display: none;\n",
              "      fill: #1967D2;\n",
              "      height: 32px;\n",
              "      padding: 0 0 0 0;\n",
              "      width: 32px;\n",
              "    }\n",
              "\n",
              "    .colab-df-convert:hover {\n",
              "      background-color: #E2EBFA;\n",
              "      box-shadow: 0px 1px 2px rgba(60, 64, 67, 0.3), 0px 1px 3px 1px rgba(60, 64, 67, 0.15);\n",
              "      fill: #174EA6;\n",
              "    }\n",
              "\n",
              "    [theme=dark] .colab-df-convert {\n",
              "      background-color: #3B4455;\n",
              "      fill: #D2E3FC;\n",
              "    }\n",
              "\n",
              "    [theme=dark] .colab-df-convert:hover {\n",
              "      background-color: #434B5C;\n",
              "      box-shadow: 0px 1px 3px 1px rgba(0, 0, 0, 0.15);\n",
              "      filter: drop-shadow(0px 1px 2px rgba(0, 0, 0, 0.3));\n",
              "      fill: #FFFFFF;\n",
              "    }\n",
              "  </style>\n",
              "\n",
              "      <script>\n",
              "        const buttonEl =\n",
              "          document.querySelector('#df-b57b6a9a-358f-4f55-97a0-7d0404868a80 button.colab-df-convert');\n",
              "        buttonEl.style.display =\n",
              "          google.colab.kernel.accessAllowed ? 'block' : 'none';\n",
              "\n",
              "        async function convertToInteractive(key) {\n",
              "          const element = document.querySelector('#df-b57b6a9a-358f-4f55-97a0-7d0404868a80');\n",
              "          const dataTable =\n",
              "            await google.colab.kernel.invokeFunction('convertToInteractive',\n",
              "                                                     [key], {});\n",
              "          if (!dataTable) return;\n",
              "\n",
              "          const docLinkHtml = 'Like what you see? Visit the ' +\n",
              "            '<a target=\"_blank\" href=https://colab.research.google.com/notebooks/data_table.ipynb>data table notebook</a>'\n",
              "            + ' to learn more about interactive tables.';\n",
              "          element.innerHTML = '';\n",
              "          dataTable['output_type'] = 'display_data';\n",
              "          await google.colab.output.renderOutput(dataTable, element);\n",
              "          const docLink = document.createElement('div');\n",
              "          docLink.innerHTML = docLinkHtml;\n",
              "          element.appendChild(docLink);\n",
              "        }\n",
              "      </script>\n",
              "    </div>\n",
              "  </div>\n",
              "  "
            ],
            "text/plain": [
              "  f1(x) f2(x) F12(A) F12_dist  ...  F123_dist f4(x) F1234(A)    F1234_dist\n",
              "0     0     0      0   [0, 0]  ...  [0, 0, 0]     0        0  [0, 0, 0, 0]\n",
              "1     5     4      5   [1, 0]  ...  [0, 0, 1]   4.5        6  [0, 0, 1, 0]\n",
              "2   7.5   5.5      9   [1, 1]  ...  [1, 0, 1]     7       11  [1, 0, 1, 0]\n",
              "3     9     8   11.5   [2, 1]  ...  [1, 1, 1]     9     15.5  [1, 0, 1, 1]\n",
              "4    10    10     13   [3, 1]  ...  [2, 1, 1]    11     19.5  [1, 1, 1, 1]\n",
              "\n",
              "[5 rows x 10 columns]"
            ]
          },
          "metadata": {},
          "execution_count": 87
        }
      ]
    },
    {
      "cell_type": "code",
      "source": [
        "# часть 3\n",
        "a = [\n",
        "  # [5, 7.5, 9, 10],  # убираем 1-ый агрегат\n",
        "  [4, 5.5, 8, 10],\n",
        "  [6, 8, 10, 12],\n",
        "  [4.5, 7, 9, 11]\n",
        "  ]\n",
        "best_dist = main(a)\n",
        "best_dist"
      ],
      "metadata": {
        "colab": {
          "base_uri": "https://localhost:8080/",
          "height": 206
        },
        "id": "HGdMhIs4oCMc",
        "outputId": "c093d515-6b82-4edc-88af-a40161355e76"
      },
      "execution_count": null,
      "outputs": [
        {
          "output_type": "execute_result",
          "data": {
            "text/html": [
              "\n",
              "  <div id=\"df-2089ccd9-6530-4d3b-aae9-9806fa839bd4\">\n",
              "    <div class=\"colab-df-container\">\n",
              "      <div>\n",
              "<style scoped>\n",
              "    .dataframe tbody tr th:only-of-type {\n",
              "        vertical-align: middle;\n",
              "    }\n",
              "\n",
              "    .dataframe tbody tr th {\n",
              "        vertical-align: top;\n",
              "    }\n",
              "\n",
              "    .dataframe thead th {\n",
              "        text-align: right;\n",
              "    }\n",
              "</style>\n",
              "<table border=\"1\" class=\"dataframe\">\n",
              "  <thead>\n",
              "    <tr style=\"text-align: right;\">\n",
              "      <th></th>\n",
              "      <th>f1(x)</th>\n",
              "      <th>f2(x)</th>\n",
              "      <th>F12(A)</th>\n",
              "      <th>F12_dist</th>\n",
              "      <th>f3(x)</th>\n",
              "      <th>F123(A)</th>\n",
              "      <th>F123_dist</th>\n",
              "    </tr>\n",
              "  </thead>\n",
              "  <tbody>\n",
              "    <tr>\n",
              "      <th>0</th>\n",
              "      <td>0</td>\n",
              "      <td>0</td>\n",
              "      <td>0</td>\n",
              "      <td>[0, 0]</td>\n",
              "      <td>0</td>\n",
              "      <td>0</td>\n",
              "      <td>[0, 0, 0]</td>\n",
              "    </tr>\n",
              "    <tr>\n",
              "      <th>1</th>\n",
              "      <td>4</td>\n",
              "      <td>6</td>\n",
              "      <td>6</td>\n",
              "      <td>[0, 1]</td>\n",
              "      <td>4.5</td>\n",
              "      <td>6</td>\n",
              "      <td>[0, 1, 0]</td>\n",
              "    </tr>\n",
              "    <tr>\n",
              "      <th>2</th>\n",
              "      <td>5.5</td>\n",
              "      <td>8</td>\n",
              "      <td>10</td>\n",
              "      <td>[1, 1]</td>\n",
              "      <td>7</td>\n",
              "      <td>10.5</td>\n",
              "      <td>[0, 1, 1]</td>\n",
              "    </tr>\n",
              "    <tr>\n",
              "      <th>3</th>\n",
              "      <td>8</td>\n",
              "      <td>10</td>\n",
              "      <td>12</td>\n",
              "      <td>[1, 2]</td>\n",
              "      <td>9</td>\n",
              "      <td>14.5</td>\n",
              "      <td>[1, 1, 1]</td>\n",
              "    </tr>\n",
              "    <tr>\n",
              "      <th>4</th>\n",
              "      <td>10</td>\n",
              "      <td>12</td>\n",
              "      <td>14</td>\n",
              "      <td>[3, 1]</td>\n",
              "      <td>11</td>\n",
              "      <td>17</td>\n",
              "      <td>[1, 1, 2]</td>\n",
              "    </tr>\n",
              "  </tbody>\n",
              "</table>\n",
              "</div>\n",
              "      <button class=\"colab-df-convert\" onclick=\"convertToInteractive('df-2089ccd9-6530-4d3b-aae9-9806fa839bd4')\"\n",
              "              title=\"Convert this dataframe to an interactive table.\"\n",
              "              style=\"display:none;\">\n",
              "        \n",
              "  <svg xmlns=\"http://www.w3.org/2000/svg\" height=\"24px\"viewBox=\"0 0 24 24\"\n",
              "       width=\"24px\">\n",
              "    <path d=\"M0 0h24v24H0V0z\" fill=\"none\"/>\n",
              "    <path d=\"M18.56 5.44l.94 2.06.94-2.06 2.06-.94-2.06-.94-.94-2.06-.94 2.06-2.06.94zm-11 1L8.5 8.5l.94-2.06 2.06-.94-2.06-.94L8.5 2.5l-.94 2.06-2.06.94zm10 10l.94 2.06.94-2.06 2.06-.94-2.06-.94-.94-2.06-.94 2.06-2.06.94z\"/><path d=\"M17.41 7.96l-1.37-1.37c-.4-.4-.92-.59-1.43-.59-.52 0-1.04.2-1.43.59L10.3 9.45l-7.72 7.72c-.78.78-.78 2.05 0 2.83L4 21.41c.39.39.9.59 1.41.59.51 0 1.02-.2 1.41-.59l7.78-7.78 2.81-2.81c.8-.78.8-2.07 0-2.86zM5.41 20L4 18.59l7.72-7.72 1.47 1.35L5.41 20z\"/>\n",
              "  </svg>\n",
              "      </button>\n",
              "      \n",
              "  <style>\n",
              "    .colab-df-container {\n",
              "      display:flex;\n",
              "      flex-wrap:wrap;\n",
              "      gap: 12px;\n",
              "    }\n",
              "\n",
              "    .colab-df-convert {\n",
              "      background-color: #E8F0FE;\n",
              "      border: none;\n",
              "      border-radius: 50%;\n",
              "      cursor: pointer;\n",
              "      display: none;\n",
              "      fill: #1967D2;\n",
              "      height: 32px;\n",
              "      padding: 0 0 0 0;\n",
              "      width: 32px;\n",
              "    }\n",
              "\n",
              "    .colab-df-convert:hover {\n",
              "      background-color: #E2EBFA;\n",
              "      box-shadow: 0px 1px 2px rgba(60, 64, 67, 0.3), 0px 1px 3px 1px rgba(60, 64, 67, 0.15);\n",
              "      fill: #174EA6;\n",
              "    }\n",
              "\n",
              "    [theme=dark] .colab-df-convert {\n",
              "      background-color: #3B4455;\n",
              "      fill: #D2E3FC;\n",
              "    }\n",
              "\n",
              "    [theme=dark] .colab-df-convert:hover {\n",
              "      background-color: #434B5C;\n",
              "      box-shadow: 0px 1px 3px 1px rgba(0, 0, 0, 0.15);\n",
              "      filter: drop-shadow(0px 1px 2px rgba(0, 0, 0, 0.3));\n",
              "      fill: #FFFFFF;\n",
              "    }\n",
              "  </style>\n",
              "\n",
              "      <script>\n",
              "        const buttonEl =\n",
              "          document.querySelector('#df-2089ccd9-6530-4d3b-aae9-9806fa839bd4 button.colab-df-convert');\n",
              "        buttonEl.style.display =\n",
              "          google.colab.kernel.accessAllowed ? 'block' : 'none';\n",
              "\n",
              "        async function convertToInteractive(key) {\n",
              "          const element = document.querySelector('#df-2089ccd9-6530-4d3b-aae9-9806fa839bd4');\n",
              "          const dataTable =\n",
              "            await google.colab.kernel.invokeFunction('convertToInteractive',\n",
              "                                                     [key], {});\n",
              "          if (!dataTable) return;\n",
              "\n",
              "          const docLinkHtml = 'Like what you see? Visit the ' +\n",
              "            '<a target=\"_blank\" href=https://colab.research.google.com/notebooks/data_table.ipynb>data table notebook</a>'\n",
              "            + ' to learn more about interactive tables.';\n",
              "          element.innerHTML = '';\n",
              "          dataTable['output_type'] = 'display_data';\n",
              "          await google.colab.output.renderOutput(dataTable, element);\n",
              "          const docLink = document.createElement('div');\n",
              "          docLink.innerHTML = docLinkHtml;\n",
              "          element.appendChild(docLink);\n",
              "        }\n",
              "      </script>\n",
              "    </div>\n",
              "  </div>\n",
              "  "
            ],
            "text/plain": [
              "  f1(x) f2(x) F12(A) F12_dist f3(x) F123(A)  F123_dist\n",
              "0     0     0      0   [0, 0]     0       0  [0, 0, 0]\n",
              "1     4     6      6   [0, 1]   4.5       6  [0, 1, 0]\n",
              "2   5.5     8     10   [1, 1]     7    10.5  [0, 1, 1]\n",
              "3     8    10     12   [1, 2]     9    14.5  [1, 1, 1]\n",
              "4    10    12     14   [3, 1]    11      17  [1, 1, 2]"
            ]
          },
          "metadata": {},
          "execution_count": 88
        }
      ]
    },
    {
      "cell_type": "code",
      "source": [
        "# пример данных из учебника\n",
        "b = [[0.28, 0.45, 0.65, 0.78, 0.9, 1.02, 1.13, 1.23, 1.32],\n",
        "     [0.25, 0.41, 0.55, 0.65, 0.75, 0.8, 0.85, 0.88, 0.9],\n",
        "     [0.15, 0.25, 0.4, 0.5, 0.62, 0.73, 0.82, 0.9, 0.96]\n",
        "     ]\n",
        "\n",
        "best_dist = main(b)\n",
        "best_dist"
      ],
      "metadata": {
        "colab": {
          "base_uri": "https://localhost:8080/",
          "height": 363
        },
        "id": "RSttlnUYo6Se",
        "outputId": "7d197da0-b110-4866-8a06-4bee9e5df5a7"
      },
      "execution_count": null,
      "outputs": [
        {
          "output_type": "execute_result",
          "data": {
            "text/html": [
              "\n",
              "  <div id=\"df-270f024d-755a-4ed0-939d-a7e40d0998e0\">\n",
              "    <div class=\"colab-df-container\">\n",
              "      <div>\n",
              "<style scoped>\n",
              "    .dataframe tbody tr th:only-of-type {\n",
              "        vertical-align: middle;\n",
              "    }\n",
              "\n",
              "    .dataframe tbody tr th {\n",
              "        vertical-align: top;\n",
              "    }\n",
              "\n",
              "    .dataframe thead th {\n",
              "        text-align: right;\n",
              "    }\n",
              "</style>\n",
              "<table border=\"1\" class=\"dataframe\">\n",
              "  <thead>\n",
              "    <tr style=\"text-align: right;\">\n",
              "      <th></th>\n",
              "      <th>f1(x)</th>\n",
              "      <th>f2(x)</th>\n",
              "      <th>F12(A)</th>\n",
              "      <th>F12_dist</th>\n",
              "      <th>f3(x)</th>\n",
              "      <th>F123(A)</th>\n",
              "      <th>F123_dist</th>\n",
              "    </tr>\n",
              "  </thead>\n",
              "  <tbody>\n",
              "    <tr>\n",
              "      <th>0</th>\n",
              "      <td>0</td>\n",
              "      <td>0</td>\n",
              "      <td>0</td>\n",
              "      <td>[0, 0]</td>\n",
              "      <td>0</td>\n",
              "      <td>0</td>\n",
              "      <td>[0, 0, 0]</td>\n",
              "    </tr>\n",
              "    <tr>\n",
              "      <th>1</th>\n",
              "      <td>0.28</td>\n",
              "      <td>0.25</td>\n",
              "      <td>0.28</td>\n",
              "      <td>[1, 0]</td>\n",
              "      <td>0.15</td>\n",
              "      <td>0.28</td>\n",
              "      <td>[1, 0, 0]</td>\n",
              "    </tr>\n",
              "    <tr>\n",
              "      <th>2</th>\n",
              "      <td>0.45</td>\n",
              "      <td>0.41</td>\n",
              "      <td>0.53</td>\n",
              "      <td>[1, 1]</td>\n",
              "      <td>0.25</td>\n",
              "      <td>0.53</td>\n",
              "      <td>[1, 1, 0]</td>\n",
              "    </tr>\n",
              "    <tr>\n",
              "      <th>3</th>\n",
              "      <td>0.65</td>\n",
              "      <td>0.55</td>\n",
              "      <td>0.7</td>\n",
              "      <td>[2, 1]</td>\n",
              "      <td>0.4</td>\n",
              "      <td>0.7</td>\n",
              "      <td>[2, 1, 0]</td>\n",
              "    </tr>\n",
              "    <tr>\n",
              "      <th>4</th>\n",
              "      <td>0.78</td>\n",
              "      <td>0.65</td>\n",
              "      <td>0.9</td>\n",
              "      <td>[3, 1]</td>\n",
              "      <td>0.5</td>\n",
              "      <td>0.9</td>\n",
              "      <td>[3, 1, 0]</td>\n",
              "    </tr>\n",
              "    <tr>\n",
              "      <th>5</th>\n",
              "      <td>0.9</td>\n",
              "      <td>0.75</td>\n",
              "      <td>1.06</td>\n",
              "      <td>[3, 2]</td>\n",
              "      <td>0.62</td>\n",
              "      <td>1.06</td>\n",
              "      <td>[3, 2, 0]</td>\n",
              "    </tr>\n",
              "    <tr>\n",
              "      <th>6</th>\n",
              "      <td>1.02</td>\n",
              "      <td>0.8</td>\n",
              "      <td>1.2</td>\n",
              "      <td>[3, 3]</td>\n",
              "      <td>0.73</td>\n",
              "      <td>1.21</td>\n",
              "      <td>[3, 2, 1]</td>\n",
              "    </tr>\n",
              "    <tr>\n",
              "      <th>7</th>\n",
              "      <td>1.13</td>\n",
              "      <td>0.85</td>\n",
              "      <td>1.33</td>\n",
              "      <td>[4, 3]</td>\n",
              "      <td>0.82</td>\n",
              "      <td>1.35</td>\n",
              "      <td>[3, 3, 1]</td>\n",
              "    </tr>\n",
              "    <tr>\n",
              "      <th>8</th>\n",
              "      <td>1.23</td>\n",
              "      <td>0.88</td>\n",
              "      <td>1.45</td>\n",
              "      <td>[5, 3]</td>\n",
              "      <td>0.9</td>\n",
              "      <td>1.48</td>\n",
              "      <td>[4, 3, 1]</td>\n",
              "    </tr>\n",
              "    <tr>\n",
              "      <th>9</th>\n",
              "      <td>1.32</td>\n",
              "      <td>0.9</td>\n",
              "      <td>1.57</td>\n",
              "      <td>[6, 3]</td>\n",
              "      <td>0.96</td>\n",
              "      <td>1.6</td>\n",
              "      <td>[5, 3, 1]</td>\n",
              "    </tr>\n",
              "  </tbody>\n",
              "</table>\n",
              "</div>\n",
              "      <button class=\"colab-df-convert\" onclick=\"convertToInteractive('df-270f024d-755a-4ed0-939d-a7e40d0998e0')\"\n",
              "              title=\"Convert this dataframe to an interactive table.\"\n",
              "              style=\"display:none;\">\n",
              "        \n",
              "  <svg xmlns=\"http://www.w3.org/2000/svg\" height=\"24px\"viewBox=\"0 0 24 24\"\n",
              "       width=\"24px\">\n",
              "    <path d=\"M0 0h24v24H0V0z\" fill=\"none\"/>\n",
              "    <path d=\"M18.56 5.44l.94 2.06.94-2.06 2.06-.94-2.06-.94-.94-2.06-.94 2.06-2.06.94zm-11 1L8.5 8.5l.94-2.06 2.06-.94-2.06-.94L8.5 2.5l-.94 2.06-2.06.94zm10 10l.94 2.06.94-2.06 2.06-.94-2.06-.94-.94-2.06-.94 2.06-2.06.94z\"/><path d=\"M17.41 7.96l-1.37-1.37c-.4-.4-.92-.59-1.43-.59-.52 0-1.04.2-1.43.59L10.3 9.45l-7.72 7.72c-.78.78-.78 2.05 0 2.83L4 21.41c.39.39.9.59 1.41.59.51 0 1.02-.2 1.41-.59l7.78-7.78 2.81-2.81c.8-.78.8-2.07 0-2.86zM5.41 20L4 18.59l7.72-7.72 1.47 1.35L5.41 20z\"/>\n",
              "  </svg>\n",
              "      </button>\n",
              "      \n",
              "  <style>\n",
              "    .colab-df-container {\n",
              "      display:flex;\n",
              "      flex-wrap:wrap;\n",
              "      gap: 12px;\n",
              "    }\n",
              "\n",
              "    .colab-df-convert {\n",
              "      background-color: #E8F0FE;\n",
              "      border: none;\n",
              "      border-radius: 50%;\n",
              "      cursor: pointer;\n",
              "      display: none;\n",
              "      fill: #1967D2;\n",
              "      height: 32px;\n",
              "      padding: 0 0 0 0;\n",
              "      width: 32px;\n",
              "    }\n",
              "\n",
              "    .colab-df-convert:hover {\n",
              "      background-color: #E2EBFA;\n",
              "      box-shadow: 0px 1px 2px rgba(60, 64, 67, 0.3), 0px 1px 3px 1px rgba(60, 64, 67, 0.15);\n",
              "      fill: #174EA6;\n",
              "    }\n",
              "\n",
              "    [theme=dark] .colab-df-convert {\n",
              "      background-color: #3B4455;\n",
              "      fill: #D2E3FC;\n",
              "    }\n",
              "\n",
              "    [theme=dark] .colab-df-convert:hover {\n",
              "      background-color: #434B5C;\n",
              "      box-shadow: 0px 1px 3px 1px rgba(0, 0, 0, 0.15);\n",
              "      filter: drop-shadow(0px 1px 2px rgba(0, 0, 0, 0.3));\n",
              "      fill: #FFFFFF;\n",
              "    }\n",
              "  </style>\n",
              "\n",
              "      <script>\n",
              "        const buttonEl =\n",
              "          document.querySelector('#df-270f024d-755a-4ed0-939d-a7e40d0998e0 button.colab-df-convert');\n",
              "        buttonEl.style.display =\n",
              "          google.colab.kernel.accessAllowed ? 'block' : 'none';\n",
              "\n",
              "        async function convertToInteractive(key) {\n",
              "          const element = document.querySelector('#df-270f024d-755a-4ed0-939d-a7e40d0998e0');\n",
              "          const dataTable =\n",
              "            await google.colab.kernel.invokeFunction('convertToInteractive',\n",
              "                                                     [key], {});\n",
              "          if (!dataTable) return;\n",
              "\n",
              "          const docLinkHtml = 'Like what you see? Visit the ' +\n",
              "            '<a target=\"_blank\" href=https://colab.research.google.com/notebooks/data_table.ipynb>data table notebook</a>'\n",
              "            + ' to learn more about interactive tables.';\n",
              "          element.innerHTML = '';\n",
              "          dataTable['output_type'] = 'display_data';\n",
              "          await google.colab.output.renderOutput(dataTable, element);\n",
              "          const docLink = document.createElement('div');\n",
              "          docLink.innerHTML = docLinkHtml;\n",
              "          element.appendChild(docLink);\n",
              "        }\n",
              "      </script>\n",
              "    </div>\n",
              "  </div>\n",
              "  "
            ],
            "text/plain": [
              "  f1(x) f2(x) F12(A) F12_dist f3(x) F123(A)  F123_dist\n",
              "0     0     0      0   [0, 0]     0       0  [0, 0, 0]\n",
              "1  0.28  0.25   0.28   [1, 0]  0.15    0.28  [1, 0, 0]\n",
              "2  0.45  0.41   0.53   [1, 1]  0.25    0.53  [1, 1, 0]\n",
              "3  0.65  0.55    0.7   [2, 1]   0.4     0.7  [2, 1, 0]\n",
              "4  0.78  0.65    0.9   [3, 1]   0.5     0.9  [3, 1, 0]\n",
              "5   0.9  0.75   1.06   [3, 2]  0.62    1.06  [3, 2, 0]\n",
              "6  1.02   0.8    1.2   [3, 3]  0.73    1.21  [3, 2, 1]\n",
              "7  1.13  0.85   1.33   [4, 3]  0.82    1.35  [3, 3, 1]\n",
              "8  1.23  0.88   1.45   [5, 3]   0.9    1.48  [4, 3, 1]\n",
              "9  1.32   0.9   1.57   [6, 3]  0.96     1.6  [5, 3, 1]"
            ]
          },
          "metadata": {},
          "execution_count": 90
        }
      ]
    },
    {
      "cell_type": "code",
      "source": [
        ""
      ],
      "metadata": {
        "id": "VyL0WJnR5c_D"
      },
      "execution_count": null,
      "outputs": []
    }
  ]
}