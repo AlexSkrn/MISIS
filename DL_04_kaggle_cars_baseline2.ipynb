{
  "metadata": {
    "kernelspec": {
      "language": "python",
      "display_name": "Python 3",
      "name": "python3"
    },
    "language_info": {
      "pygments_lexer": "ipython3",
      "nbconvert_exporter": "python",
      "version": "3.6.4",
      "file_extension": ".py",
      "codemirror_mode": {
        "name": "ipython",
        "version": 3
      },
      "name": "python",
      "mimetype": "text/x-python"
    },
    "colab": {
      "name": "Copy of car-classification-baseline.ipynb",
      "provenance": []
    },
    "accelerator": "GPU"
  },
  "nbformat_minor": 0,
  "nbformat": 4,
  "cells": [
    {
      "cell_type": "code",
      "source": [
        "import numpy as np\n",
        "import pandas as pd\n",
        "import matplotlib.pyplot as plt\n",
        "import seaborn as sns\n",
        "import pickle\n",
        "import zipfile\n",
        "import csv\n",
        "import sys\n",
        "import os\n",
        "\n",
        "import tensorflow as tf\n",
        "from tensorflow import keras\n",
        "from tensorflow.keras import layers\n",
        "from tensorflow.keras.models import Sequential\n",
        "\n",
        "import PIL\n",
        "from PIL import ImageOps, ImageFilter\n",
        "#увеличим дефолтный размер графиков\n",
        "from pylab import rcParams\n",
        "rcParams['figure.figsize'] = 10, 5\n",
        "#графики в svg выглядят более четкими\n",
        "%config InlineBackend.figure_format = 'svg' \n",
        "%matplotlib inline\n",
        "\n",
        "print(os.listdir(\"../input\"))\n",
        "print('Python       :', sys.version.split('\\n')[0])\n",
        "print('Numpy        :', np.__version__)\n",
        "print('Tensorflow   :', tf.__version__)"
      ],
      "metadata": {
        "_uuid": "8f2839f25d086af736a60e9eeb907d3b93b6e0e5",
        "_cell_guid": "b1076dfc-b9ad-4769-8c92-a6c4dae69d19",
        "trusted": true,
        "id": "jqPGepRf-EOR",
        "colab": {
          "base_uri": "https://localhost:8080/",
          "height": 232
        },
        "outputId": "d6a18b48-b3c5-4dcd-c95a-ea7afce49b8c"
      },
      "execution_count": 1,
      "outputs": [
        {
          "output_type": "error",
          "ename": "FileNotFoundError",
          "evalue": "ignored",
          "traceback": [
            "\u001b[0;31m---------------------------------------------------------------------------\u001b[0m",
            "\u001b[0;31mFileNotFoundError\u001b[0m                         Traceback (most recent call last)",
            "\u001b[0;32m<ipython-input-1-f1c37cb58d9c>\u001b[0m in \u001b[0;36m<module>\u001b[0;34m()\u001b[0m\n\u001b[1;32m     23\u001b[0m \u001b[0mget_ipython\u001b[0m\u001b[0;34m(\u001b[0m\u001b[0;34m)\u001b[0m\u001b[0;34m.\u001b[0m\u001b[0mmagic\u001b[0m\u001b[0;34m(\u001b[0m\u001b[0;34m'matplotlib inline'\u001b[0m\u001b[0;34m)\u001b[0m\u001b[0;34m\u001b[0m\u001b[0;34m\u001b[0m\u001b[0m\n\u001b[1;32m     24\u001b[0m \u001b[0;34m\u001b[0m\u001b[0m\n\u001b[0;32m---> 25\u001b[0;31m \u001b[0mprint\u001b[0m\u001b[0;34m(\u001b[0m\u001b[0mos\u001b[0m\u001b[0;34m.\u001b[0m\u001b[0mlistdir\u001b[0m\u001b[0;34m(\u001b[0m\u001b[0;34m\"../input\"\u001b[0m\u001b[0;34m)\u001b[0m\u001b[0;34m)\u001b[0m\u001b[0;34m\u001b[0m\u001b[0;34m\u001b[0m\u001b[0m\n\u001b[0m\u001b[1;32m     26\u001b[0m \u001b[0mprint\u001b[0m\u001b[0;34m(\u001b[0m\u001b[0;34m'Python       :'\u001b[0m\u001b[0;34m,\u001b[0m \u001b[0msys\u001b[0m\u001b[0;34m.\u001b[0m\u001b[0mversion\u001b[0m\u001b[0;34m.\u001b[0m\u001b[0msplit\u001b[0m\u001b[0;34m(\u001b[0m\u001b[0;34m'\\n'\u001b[0m\u001b[0;34m)\u001b[0m\u001b[0;34m[\u001b[0m\u001b[0;36m0\u001b[0m\u001b[0;34m]\u001b[0m\u001b[0;34m)\u001b[0m\u001b[0;34m\u001b[0m\u001b[0;34m\u001b[0m\u001b[0m\n\u001b[1;32m     27\u001b[0m \u001b[0mprint\u001b[0m\u001b[0;34m(\u001b[0m\u001b[0;34m'Numpy        :'\u001b[0m\u001b[0;34m,\u001b[0m \u001b[0mnp\u001b[0m\u001b[0;34m.\u001b[0m\u001b[0m__version__\u001b[0m\u001b[0;34m)\u001b[0m\u001b[0;34m\u001b[0m\u001b[0;34m\u001b[0m\u001b[0m\n",
            "\u001b[0;31mFileNotFoundError\u001b[0m: [Errno 2] No such file or directory: '../input'"
          ]
        }
      ]
    },
    {
      "cell_type": "code",
      "source": [
        "DATA_PATH = '../input/mds-misis-dl-car-classification/'\n",
        "DATA_DIR = '../input/mds-misis-dl-car-classification/train/train'\n",
        "TEST_DIR = '../input/mds-misis-dl-car-classification/test/test_upload'\n",
        "PATH = \"../working/car/\""
      ],
      "metadata": {
        "trusted": true,
        "id": "O9wTZRCT-EOY"
      },
      "execution_count": null,
      "outputs": []
    },
    {
      "cell_type": "code",
      "source": [
        "EPOCHS               = 8\n",
        "BATCH_SIZE           = 16\n",
        "LR                   = 1e-4\n",
        "VAL_SPLIT            = 0.15 #15%\n",
        "RANDOM_SEED = 42\n",
        "CLASS_NUM            = 10\n",
        "IMG_SIZE             = 224\n",
        "IMG_CHANNELS         = 3\n",
        "input_shape          = (IMG_SIZE, IMG_SIZE, IMG_CHANNELS)"
      ],
      "metadata": {
        "trusted": true,
        "id": "9VszzS8l-EOZ"
      },
      "execution_count": null,
      "outputs": []
    },
    {
      "cell_type": "code",
      "source": [
        "train_df = pd.read_csv(DATA_PATH+\"train.csv\")\n",
        "sample_submission = pd.read_csv(DATA_PATH+\"sample-submission.csv\")\n",
        "train_df.head()"
      ],
      "metadata": {
        "trusted": true,
        "id": "nBraPKhN-EOf"
      },
      "execution_count": null,
      "outputs": []
    },
    {
      "cell_type": "code",
      "source": [
        "train_df.info()"
      ],
      "metadata": {
        "trusted": true,
        "id": "wSS_TklI-EOg"
      },
      "execution_count": null,
      "outputs": []
    },
    {
      "cell_type": "code",
      "source": [
        "train_df.Category.value_counts()"
      ],
      "metadata": {
        "trusted": true,
        "id": "jMLbXxGm-EOg"
      },
      "execution_count": null,
      "outputs": []
    },
    {
      "cell_type": "code",
      "source": [
        "print('Пример картинок (random sample)')\n",
        "plt.figure(figsize=(12,8))\n",
        "\n",
        "random_image = train_df.sample(n=9)\n",
        "random_image_paths = random_image['Id'].values\n",
        "random_image_cat = random_image['Category'].values\n",
        "\n",
        "for index, path in enumerate(random_image_paths):\n",
        "    im = PIL.Image.open(DATA_PATH+f'/train/train/{random_image_cat[index]}/{path}')\n",
        "    plt.subplot(3,3, index+1)\n",
        "    plt.imshow(im)\n",
        "    plt.title('Class: '+str(random_image_cat[index]))\n",
        "    plt.axis('off')\n",
        "plt.show()"
      ],
      "metadata": {
        "trusted": true,
        "id": "ycn3f1aG-EOg"
      },
      "execution_count": null,
      "outputs": []
    },
    {
      "cell_type": "code",
      "source": [
        "image = PIL.Image.open(DATA_PATH+'/train/train/0/100380.jpg')\n",
        "imgplot = plt.imshow(image)\n",
        "plt.show()\n",
        "image.size"
      ],
      "metadata": {
        "trusted": true,
        "id": "0R0itS4Q-EOh"
      },
      "execution_count": null,
      "outputs": []
    },
    {
      "cell_type": "code",
      "source": [
        "from tensorflow.keras.preprocessing.image import ImageDataGenerator\n",
        "train_datagen = ImageDataGenerator(rescale=1. / 255, validation_split=VAL_SPLIT)\n",
        "\n",
        "train_ds = train_datagen.flow_from_directory(\n",
        "    DATA_PATH+'train/train',\n",
        "    target_size=(IMG_SIZE, IMG_SIZE),\n",
        "    batch_size=BATCH_SIZE,\n",
        "    class_mode='categorical',\n",
        "    shuffle=True, seed=RANDOM_SEED,\n",
        "    subset='training') # set as training data\n",
        "\n",
        "val_ds = train_datagen.flow_from_directory(\n",
        "    DATA_PATH+'train/train',\n",
        "    target_size=(IMG_SIZE, IMG_SIZE),\n",
        "    batch_size=BATCH_SIZE,\n",
        "    class_mode='categorical',\n",
        "    shuffle=True, seed=RANDOM_SEED,\n",
        "    subset='validation') # set as validation data"
      ],
      "metadata": {
        "trusted": true,
        "id": "jsaBIc4k-EOi"
      },
      "execution_count": null,
      "outputs": []
    },
    {
      "cell_type": "code",
      "source": [
        "test_datagen = ImageDataGenerator(rescale=1. / 255)\n",
        "test_ds = test_datagen.flow_from_dataframe(\n",
        "    dataframe=sample_submission,\n",
        "    directory='../input/mds-misis-dl-car-classification/test/test_upload',\n",
        "    x_col=\"Id\",\n",
        "    y_col=None,\n",
        "    shuffle=False,\n",
        "    class_mode=None,\n",
        "    seed=RANDOM_SEED,\n",
        "    target_size=(IMG_SIZE, IMG_SIZE),\n",
        "    batch_size=BATCH_SIZE,)"
      ],
      "metadata": {
        "trusted": true,
        "id": "nfwVkGtS-EOj"
      },
      "execution_count": null,
      "outputs": []
    },
    {
      "cell_type": "code",
      "source": [
        "num_classes = 10\n",
        "\n",
        "\n",
        "\n",
        "model = keras.Sequential([\n",
        "    keras.Input(shape = input_shape),\n",
        "    keras.layers.Conv2D(32, (3, 3), activation = 'relu'),\n",
        "    keras.layers.Conv2D(64, (3, 3), activation = 'relu'),\n",
        "    keras.layers.MaxPooling2D(),\n",
        "    keras.layers.Conv2D(64, (3, 3), activation = 'relu'),\n",
        "    keras.layers.Conv2D(128, (3, 3), activation = 'relu'),\n",
        "    keras.layers.MaxPooling2D(),\n",
        "    keras.layers.Conv2D(64, (3, 3), activation = 'relu'),\n",
        "    keras.layers.Conv2D(128, (3, 3), activation = 'relu'),\n",
        "    keras.layers.MaxPooling2D(),\n",
        "    keras.layers.Flatten(),\n",
        "    keras.layers.Dense(100, activation = 'sigmoid'),\n",
        "    keras.layers.Dense(num_classes, activation = 'softmax')\n",
        "])"
      ],
      "metadata": {
        "trusted": true,
        "id": "7epVlClh-EOj"
      },
      "execution_count": null,
      "outputs": []
    },
    {
      "cell_type": "code",
      "source": [
        "from keras.optimizers import SGD\n",
        "opt = SGD(lr=0.01)\n",
        "model.compile(loss = \"categorical_crossentropy\", optimizer = opt, metrics=['accuracy'])"
      ],
      "metadata": {
        "trusted": true,
        "id": "OfYs0ekq-EOk"
      },
      "execution_count": null,
      "outputs": []
    },
    {
      "cell_type": "code",
      "source": [
        "model.summary()"
      ],
      "metadata": {
        "trusted": true,
        "id": "Gr43tNSq-EOl"
      },
      "execution_count": null,
      "outputs": []
    },
    {
      "cell_type": "code",
      "source": [
        "tf.keras.utils.plot_model(model, show_shapes = True)"
      ],
      "metadata": {
        "trusted": true,
        "id": "MeZBd-iB-EOm"
      },
      "execution_count": null,
      "outputs": []
    },
    {
      "cell_type": "code",
      "source": [
        "epochs=20\n",
        "history = model.fit(\n",
        "        train_ds,\n",
        "        validation_data = val_ds, \n",
        "        epochs = epochs\n",
        ")"
      ],
      "metadata": {
        "trusted": true,
        "id": "m1adQ7bO-EOm"
      },
      "execution_count": null,
      "outputs": []
    },
    {
      "cell_type": "code",
      "source": [
        "acc = history.history['accuracy']\n",
        "val_acc = history.history['val_accuracy']\n",
        "\n",
        "loss = history.history['loss']\n",
        "val_loss = history.history['val_loss']\n",
        "\n",
        "epochs_range = range(epochs)\n",
        "\n",
        "plt.figure(figsize=(8, 8))\n",
        "plt.subplot(1, 2, 1)\n",
        "plt.plot(epochs_range, acc, label='Training Accuracy')\n",
        "plt.plot(epochs_range, val_acc, label='Validation Accuracy')\n",
        "plt.legend(loc='lower right')\n",
        "plt.title('Training and Validation Accuracy')\n",
        "\n",
        "plt.subplot(1, 2, 2)\n",
        "plt.plot(epochs_range, loss, label='Training Loss')\n",
        "plt.plot(epochs_range, val_loss, label='Validation Loss')\n",
        "plt.legend(loc='upper right')\n",
        "plt.title('Training and Validation Loss')\n",
        "plt.show()"
      ],
      "metadata": {
        "trusted": true,
        "id": "X69gBDGu-EOn"
      },
      "execution_count": null,
      "outputs": []
    },
    {
      "cell_type": "code",
      "source": [
        "predictions = model.predict(test_ds, steps=len(test_ds), verbose=1) "
      ],
      "metadata": {
        "trusted": true,
        "id": "BR4T2ybp-EOo"
      },
      "execution_count": null,
      "outputs": []
    },
    {
      "cell_type": "code",
      "source": [
        "print(predictions.shape)"
      ],
      "metadata": {
        "trusted": true,
        "id": "68RDvqdc-EOo"
      },
      "execution_count": null,
      "outputs": []
    },
    {
      "cell_type": "code",
      "source": [
        "predictions = np.argmax(predictions, axis=-1) #multiple categories\n",
        "label_map = (train_generator.class_indices)\n",
        "label_map = dict((v,k) for k,v in label_map.items()) #flip k,v\n",
        "predictions = [label_map[k] for k in predictions]"
      ],
      "metadata": {
        "trusted": true,
        "id": "3Gmwyg-T-EOp"
      },
      "execution_count": null,
      "outputs": []
    },
    {
      "cell_type": "code",
      "source": [
        "filenames_with_dir=test_ds.filenames\n",
        "submission = pd.DataFrame({'Id':filenames_with_dir, 'Category':predictions}, columns=['Id', 'Category'])\n",
        "submission['Id'] = submission['Id'].replace('test_upload/','')\n",
        "submission.to_csv('submission1.csv', index=False)\n",
        "print('Save submit')"
      ],
      "metadata": {
        "trusted": true,
        "id": "XPpQhgYK-EOp"
      },
      "execution_count": null,
      "outputs": []
    },
    {
      "cell_type": "code",
      "source": [
        ""
      ],
      "metadata": {
        "id": "d-8Ziiwg-EOq"
      },
      "execution_count": null,
      "outputs": []
    }
  ]
}