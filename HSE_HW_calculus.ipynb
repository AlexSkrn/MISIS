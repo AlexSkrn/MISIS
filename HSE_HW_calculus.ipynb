{
 "cells": [
  {
   "cell_type": "code",
   "execution_count": null,
   "metadata": {
    "id": "IAMdhrmUwg6-"
   },
   "outputs": [],
   "source": [
    "from math import log\n",
    "\n",
    "%matplotlib inline\n",
    "import numpy as np\n",
    "import matplotlib.pyplot as plt"
   ]
  },
  {
   "cell_type": "markdown",
   "metadata": {
    "id": "iSP0HHvY9X9E"
   },
   "source": [
    "#HW 1"
   ]
  },
  {
   "cell_type": "markdown",
   "metadata": {
    "id": "oj3gSoBg9gAQ"
   },
   "source": [
    "##Task 1"
   ]
  },
  {
   "cell_type": "code",
   "execution_count": null,
   "metadata": {
    "id": "kqTjmkcmtVvC"
   },
   "outputs": [],
   "source": [
    "def f(x):\n",
    "  if x < 0:\n",
    "    print('x < 0: ', x)\n",
    "    return -(x**2)\n",
    "  elif x > 1:\n",
    "    print('x > 1', x)\n",
    "    return log(x, 2) - 2\n",
    "  else:\n",
    "    print('0=<x<=1', x)\n",
    "    return -(2*x)\n",
    "\n",
    "  \n",
    "def g(x):\n",
    "  return f(x) + 1\n",
    "\n",
    "\n",
    "def h(x):\n",
    "  return 2*f(x)\n",
    "\n",
    "\n",
    "def u(x):\n",
    "  return f(x+1)\n",
    "\n",
    "\n",
    "def v(x):\n",
    "  return f(x/2)\n",
    "\n",
    "\n",
    "def a(x):\n",
    "  return abs(f(x + 1) + 1)\n",
    "\n",
    "\n",
    "def b(x):\n",
    "  return f((1/2)*abs(x)) - 1 \n",
    "\n",
    "\n",
    "X_data = [-3, -2, -1, 0, 1, 2, 3]"
   ]
  },
  {
   "cell_type": "code",
   "execution_count": null,
   "metadata": {
    "colab": {
     "base_uri": "https://localhost:8080/"
    },
    "executionInfo": {
     "elapsed": 310,
     "status": "ok",
     "timestamp": 1622405687690,
     "user": {
      "displayName": "Alex Skrn",
      "photoUrl": "https://lh3.googleusercontent.com/a-/AOh14GhvDGL0gITiWuZeBk8WuqiFgNjo86fRwcdf3MuZHg=s64",
      "userId": "00614715397981539727"
     },
     "user_tz": -180
    },
    "id": "NZYGb4hTw56z",
    "outputId": "dcb2ec26-23fa-4f7c-a796-dfff9ffd56eb"
   },
   "outputs": [
    {
     "name": "stdout",
     "output_type": "stream",
     "text": [
      "[-9, -4, -1, 0, -2, -1.0, -0.42]\n",
      "-9\n",
      "-4\n",
      "-1\n",
      "0\n",
      "-2\n",
      "-1.0\n",
      "-0.4150374992788437\n"
     ]
    }
   ],
   "source": [
    "\n",
    "Y_data = [f(x) for x in X_data]\n",
    "\n",
    "print([round(x, 2) for x in Y_data])\n",
    "for v in vals:\n",
    "  print(f(v))"
   ]
  },
  {
   "cell_type": "code",
   "execution_count": null,
   "metadata": {
    "colab": {
     "base_uri": "https://localhost:8080/"
    },
    "executionInfo": {
     "elapsed": 277,
     "status": "ok",
     "timestamp": 1622406577118,
     "user": {
      "displayName": "Alex Skrn",
      "photoUrl": "https://lh3.googleusercontent.com/a-/AOh14GhvDGL0gITiWuZeBk8WuqiFgNjo86fRwcdf3MuZHg=s64",
      "userId": "00614715397981539727"
     },
     "user_tz": -180
    },
    "id": "8dS7cN0r9u7I",
    "outputId": "5168c098-89e8-4a6a-f516-a22f052c63a6"
   },
   "outputs": [
    {
     "data": {
      "text/plain": [
       "[-8, -3, 0, 1, -1, 0.0, 0.58]"
      ]
     },
     "execution_count": 70,
     "metadata": {
      "tags": []
     },
     "output_type": "execute_result"
    }
   ],
   "source": [
    "[round(g(x), 2) for x in X_data]"
   ]
  },
  {
   "cell_type": "code",
   "execution_count": null,
   "metadata": {
    "colab": {
     "base_uri": "https://localhost:8080/",
     "height": 265
    },
    "executionInfo": {
     "elapsed": 371,
     "status": "ok",
     "timestamp": 1622403642498,
     "user": {
      "displayName": "Alex Skrn",
      "photoUrl": "https://lh3.googleusercontent.com/a-/AOh14GhvDGL0gITiWuZeBk8WuqiFgNjo86fRwcdf3MuZHg=s64",
      "userId": "00614715397981539727"
     },
     "user_tz": -180
    },
    "id": "lRA82tpIxBMU",
    "outputId": "b81c7c03-0186-4638-eb98-e2dbb8350b00"
   },
   "outputs": [
    {
     "data": {
      "image/png": "[encoded data removed]",
      "text/plain": [
       "<Figure size 432x288 with 1 Axes>"
      ]
     },
     "metadata": {
      "needs_background": "light",
      "tags": []
     },
     "output_type": "display_data"
    }
   ],
   "source": [
    "plt.plot(X_data, Y_data, 'bo')\n",
    "plt.grid(True, axis='both')  # color='b', linestyle='-', linewidth=1"
   ]
  },
  {
   "cell_type": "code",
   "execution_count": null,
   "metadata": {
    "colab": {
     "base_uri": "https://localhost:8080/",
     "height": 477
    },
    "executionInfo": {
     "elapsed": 614,
     "status": "ok",
     "timestamp": 1622405991817,
     "user": {
      "displayName": "Alex Skrn",
      "photoUrl": "https://lh3.googleusercontent.com/a-/AOh14GhvDGL0gITiWuZeBk8WuqiFgNjo86fRwcdf3MuZHg=s64",
      "userId": "00614715397981539727"
     },
     "user_tz": -180
    },
    "id": "yCywqTsUxpQY",
    "outputId": "9e745481-4ec0-4310-c20a-f60cf613aa87"
   },
   "outputs": [
    {
     "data": {
      "text/plain": [
       "<matplotlib.legend.Legend at 0x7f69e2bfef90>"
      ]
     },
     "execution_count": 67,
     "metadata": {
      "tags": []
     },
     "output_type": "execute_result"
    },
    {
     "data": {
      "image/png": "[encoded data removed]",
      "text/plain": [
       "<Figure size 540x540 with 1 Axes>"
      ]
     },
     "metadata": {
      "needs_background": "light",
      "tags": []
     },
     "output_type": "display_data"
    }
   ],
   "source": [
    "x = np.arange(-5,5, 1)  # np.linspace ?\n",
    "fig, ax = plt.subplots()\n",
    "x_lt_zero = np.linspace(-3, -.3, 20)\n",
    "ax.plot(x_lt_zero, -(x_lt_zero**2), label='−x^2')\n",
    "\n",
    "x_gt_one = np.linspace(1.15, 3, 20)\n",
    "ax.plot(x_gt_one, np.log2(x_gt_one) - 2, label='log2(x) - 2')\n",
    "\n",
    "x_gt_zero_lt_one = np.linspace(0, 1, 20)\n",
    "ax.plot(x_gt_zero_lt_one, -(2*x_gt_zero_lt_one), label='-2x')\n",
    "\n",
    "ax.plot(X_data, Y_data, 'bo')\n",
    "# ax.plot(x, np.log(x))\n",
    "ax.set_aspect('equal')\n",
    "ax.grid(True, which='both')\n",
    "\n",
    "# major_ticks = np.arange(0, 101, 20)\n",
    "# minor_ticks = np.arange(0, 101, 5)\n",
    "\n",
    "ax.set_xticks(np.arange(-5, 5, 1))\n",
    "# ax.set_xticks(minor_ticks, minor=True)\n",
    "ax.set_yticks(np.arange(-10, 3, 1))\n",
    "# ax.set_yticks(minor_ticks, minor=True)\n",
    "\n",
    "ax.axhline(y=0, color='k')\n",
    "ax.axvline(x=0, color='k')\n",
    "\n",
    "fig.set_size_inches(7.5, 7.5)\n",
    "\n",
    "plt.legend()"
   ]
  },
  {
   "cell_type": "code",
   "execution_count": null,
   "metadata": {
    "colab": {
     "base_uri": "https://localhost:8080/",
     "height": 521
    },
    "executionInfo": {
     "elapsed": 1036,
     "status": "ok",
     "timestamp": 1622406923539,
     "user": {
      "displayName": "Alex Skrn",
      "photoUrl": "https://lh3.googleusercontent.com/a-/AOh14GhvDGL0gITiWuZeBk8WuqiFgNjo86fRwcdf3MuZHg=s64",
      "userId": "00614715397981539727"
     },
     "user_tz": -180
    },
    "id": "OQWyNOgszflz",
    "outputId": "0d0a16fc-9f11-46fb-e1aa-20d58f6963f0"
   },
   "outputs": [
    {
     "name": "stdout",
     "output_type": "stream",
     "text": [
      "[-8, -3, 0, 1, -1, 0.0, 0.58]\n"
     ]
    },
    {
     "data": {
      "text/plain": [
       "<matplotlib.legend.Legend at 0x7f69e263dbd0>"
      ]
     },
     "execution_count": 75,
     "metadata": {
      "tags": []
     },
     "output_type": "execute_result"
    },
    {
     "data": {
      "image/png": "[encoded data removed]",
      "text/plain": [
       "<Figure size 540x540 with 1 Axes>"
      ]
     },
     "metadata": {
      "needs_background": "light",
      "tags": []
     },
     "output_type": "display_data"
    }
   ],
   "source": [
    "print([round(g(x), 2) for x in X_data])\n",
    "\n",
    "x = np.arange(-5,5, 1)  # np.linspace ?\n",
    "fig, ax = plt.subplots()\n",
    "x_lt_zero = np.linspace(-3, -.3, 20)\n",
    "ax.plot(x_lt_zero, -(x_lt_zero**2) + 1, label='−x^2 + 1')\n",
    "\n",
    "x_gt_one = np.linspace(1.15, 3, 20)\n",
    "ax.plot(x_gt_one, np.log2(x_gt_one) - 2 + 1, label='log2(x) - 2 + 1')\n",
    "\n",
    "x_gt_zero_lt_one = np.linspace(0, 1, 20)\n",
    "ax.plot(x_gt_zero_lt_one, -(2*x_gt_zero_lt_one) + 1, label='-2x + 1')\n",
    "\n",
    "ax.plot(X_data, [round(g(x), 2) for x in X_data], 'bo')\n",
    "# ax.plot(x, np.log(x))\n",
    "ax.set_aspect('equal')\n",
    "ax.grid(True, which='both')\n",
    "\n",
    "# major_ticks = np.arange(0, 101, 20)\n",
    "# minor_ticks = np.arange(0, 101, 5)\n",
    "\n",
    "ax.set_xticks(np.arange(-5, 5, 1))\n",
    "# ax.set_xticks(minor_ticks, minor=True)\n",
    "ax.set_yticks(np.arange(-10, 3, 1))\n",
    "# ax.set_yticks(minor_ticks, minor=True)\n",
    "\n",
    "ax.set_title('g(x) = f(x) + 1, \\nсдвиг графика вверх на единицу')\n",
    "\n",
    "ax.axhline(y=0, color='k')\n",
    "ax.axvline(x=0, color='k')\n",
    "\n",
    "fig.set_size_inches(7.5, 7.5)\n",
    "\n",
    "plt.legend()"
   ]
  },
  {
   "cell_type": "code",
   "execution_count": null,
   "metadata": {
    "colab": {
     "base_uri": "https://localhost:8080/",
     "height": 521
    },
    "executionInfo": {
     "elapsed": 854,
     "status": "ok",
     "timestamp": 1622410955500,
     "user": {
      "displayName": "Alex Skrn",
      "photoUrl": "https://lh3.googleusercontent.com/a-/AOh14GhvDGL0gITiWuZeBk8WuqiFgNjo86fRwcdf3MuZHg=s64",
      "userId": "00614715397981539727"
     },
     "user_tz": -180
    },
    "id": "XMzpSQL4-ePr",
    "outputId": "259cf001-7ce2-4adb-cc83-996a13f3f3b4"
   },
   "outputs": [
    {
     "name": "stdout",
     "output_type": "stream",
     "text": [
      "[-18, -8, -2, 0, -4, -2.0, -0.83]\n"
     ]
    },
    {
     "data": {
      "text/plain": [
       "<matplotlib.legend.Legend at 0x7f69e19940d0>"
      ]
     },
     "execution_count": 101,
     "metadata": {
      "tags": []
     },
     "output_type": "execute_result"
    },
    {
     "data": {
      "image/png": "[encoded data removed]",
      "text/plain": [
       "<Figure size 540x540 with 1 Axes>"
      ]
     },
     "metadata": {
      "needs_background": "light",
      "tags": []
     },
     "output_type": "display_data"
    }
   ],
   "source": [
    "Y_data  = [h(x) for x in X_data]\n",
    "\n",
    "print([round(x, 2) for x in Y_data])\n",
    "\n",
    "x = np.arange(-5,5, 1)  # np.linspace ?\n",
    "fig, ax = plt.subplots()\n",
    "x_lt_zero = np.linspace(-3, -.3, 20)\n",
    "ax.plot(x_lt_zero, 2 * (-(x_lt_zero**2)), label='2 * (−x^2)')\n",
    "\n",
    "x_gt_one = np.linspace(1.15, 3, 20)\n",
    "ax.plot(x_gt_one, 2 * (np.log2(x_gt_one) - 2), label='2 * (log2(x) - 2)')\n",
    "\n",
    "x_gt_zero_lt_one = np.linspace(0, 1, 20)\n",
    "ax.plot(x_gt_zero_lt_one, 2 * (-(2*x_gt_zero_lt_one)), label='2 *(-2x)')\n",
    "\n",
    "ax.plot(X_data, Y_data, 'bo')\n",
    "# ax.plot(x, np.log(x))\n",
    "ax.set_aspect('equal')\n",
    "ax.grid(True, which='both')\n",
    "\n",
    "# major_ticks = np.arange(0, 101, 20)\n",
    "# minor_ticks = np.arange(0, 101, 5)\n",
    "\n",
    "ax.set_xticks(np.arange(-5, 5, 1))\n",
    "# ax.set_xticks(minor_ticks, minor=True)\n",
    "ax.set_yticks(np.arange(-19, 3, 1))\n",
    "# ax.set_yticks(minor_ticks, minor=True)\n",
    "\n",
    "ax.set_title('h(x) = 2*f(x), \\nверитикальное растяжение графика')\n",
    "\n",
    "ax.axhline(y=0, color='k')\n",
    "ax.axvline(x=0, color='k')\n",
    "\n",
    "fig.set_size_inches(7.5, 7.5)\n",
    "\n",
    "plt.legend()"
   ]
  },
  {
   "cell_type": "code",
   "execution_count": null,
   "metadata": {
    "colab": {
     "base_uri": "https://localhost:8080/",
     "height": 401
    },
    "executionInfo": {
     "elapsed": 339,
     "status": "ok",
     "timestamp": 1622409359442,
     "user": {
      "displayName": "Alex Skrn",
      "photoUrl": "https://lh3.googleusercontent.com/a-/AOh14GhvDGL0gITiWuZeBk8WuqiFgNjo86fRwcdf3MuZHg=s64",
      "userId": "00614715397981539727"
     },
     "user_tz": -180
    },
    "id": "EQYBerejArlz",
    "outputId": "c70de9a5-1243-44ca-e1b8-fa9441a7291c"
   },
   "outputs": [
    {
     "name": "stdout",
     "output_type": "stream",
     "text": [
      "[-4, -1, 0, -2, -1.0, -0.42, 0.0]\n"
     ]
    },
    {
     "data": {
      "text/plain": [
       "<matplotlib.legend.Legend at 0x7f69e2d99c90>"
      ]
     },
     "execution_count": 90,
     "metadata": {
      "tags": []
     },
     "output_type": "execute_result"
    },
    {
     "data": {
      "image/png": "[encoded data removed]",
      "text/plain": [
       "<Figure size 540x540 with 1 Axes>"
      ]
     },
     "metadata": {
      "needs_background": "light",
      "tags": []
     },
     "output_type": "display_data"
    }
   ],
   "source": [
    "Y_data  = [u(x) for x in X_data]\n",
    "\n",
    "print([round(x, 2) for x in Y_data])\n",
    "\n",
    "x = np.arange(-5,5, 1)  # np.linspace ?\n",
    "fig, ax = plt.subplots()\n",
    "x_lt_zero = np.linspace(-3, -.3-1, 20)\n",
    "ax.plot(x_lt_zero, (-((x_lt_zero + 1)**2)), label='(−(x+1)^2)')\n",
    "\n",
    "x_gt_one = np.linspace(1.15-1, 3, 20)\n",
    "ax.plot(x_gt_one, (np.log2((x_gt_one + 1)) - 2), label='(log2(x+1) - 2)')\n",
    "\n",
    "x_gt_zero_lt_one = np.linspace(0-1, 1-1, 20)\n",
    "ax.plot(x_gt_zero_lt_one, (-(2*(x_gt_zero_lt_one+1))), label='(-2(x+1))')\n",
    "\n",
    "ax.plot(X_data, Y_data, 'bo')\n",
    "# ax.plot(x, np.log(x))\n",
    "ax.set_aspect('equal')\n",
    "ax.grid(True, which='both')\n",
    "\n",
    "# major_ticks = np.arange(0, 101, 20)\n",
    "# minor_ticks = np.arange(0, 101, 5)\n",
    "\n",
    "ax.set_xticks(np.arange(-5, 5, 1))\n",
    "# ax.set_xticks(minor_ticks, minor=True)\n",
    "ax.set_yticks(np.arange(-4, 3, 1))\n",
    "# ax.set_yticks(minor_ticks, minor=True)\n",
    "\n",
    "ax.set_title('u(x) = f(x+1), \\nсдвиг графика влево на единицу')\n",
    "\n",
    "ax.axhline(y=0, color='k')\n",
    "ax.axvline(x=0, color='k')\n",
    "\n",
    "fig.set_size_inches(7.5, 7.5)\n",
    "\n",
    "plt.legend()"
   ]
  },
  {
   "cell_type": "code",
   "execution_count": null,
   "metadata": {
    "colab": {
     "base_uri": "https://localhost:8080/",
     "height": 392
    },
    "executionInfo": {
     "elapsed": 706,
     "status": "ok",
     "timestamp": 1622410871688,
     "user": {
      "displayName": "Alex Skrn",
      "photoUrl": "https://lh3.googleusercontent.com/a-/AOh14GhvDGL0gITiWuZeBk8WuqiFgNjo86fRwcdf3MuZHg=s64",
      "userId": "00614715397981539727"
     },
     "user_tz": -180
    },
    "id": "gXThpFJqDpml",
    "outputId": "0cd58688-0538-4089-f602-58f3a3a4ea28"
   },
   "outputs": [
    {
     "name": "stdout",
     "output_type": "stream",
     "text": [
      "[-2.25, -1.0, -0.25, -0.0, -1.0, -2.0, -1.42]\n"
     ]
    },
    {
     "data": {
      "text/plain": [
       "<matplotlib.legend.Legend at 0x7f69e1a66dd0>"
      ]
     },
     "execution_count": 100,
     "metadata": {
      "tags": []
     },
     "output_type": "execute_result"
    },
    {
     "data": {
      "image/png": "[encoded data removed]",
      "text/plain": [
       "<Figure size 540x540 with 1 Axes>"
      ]
     },
     "metadata": {
      "needs_background": "light",
      "tags": []
     },
     "output_type": "display_data"
    }
   ],
   "source": [
    "# 1 e)\n",
    "\n",
    "Y_data  = [v(x) for x in X_data]\n",
    "\n",
    "print([round(x, 2) for x in Y_data])\n",
    "\n",
    "x = np.arange(-5,5, 1)  # np.linspace ?\n",
    "fig, ax = plt.subplots()\n",
    "x_lt_zero = np.linspace(-3, -.3, 20)\n",
    "ax.plot(x_lt_zero, (-((x_lt_zero/2)**2)), label='(−(x/2)^2)')\n",
    "\n",
    "x_gt_one = np.linspace(1.15+1, 3, 20)\n",
    "ax.plot(x_gt_one, (np.log2(x_gt_one/2) - 2), label='(log2(x/2) - 2)')\n",
    "\n",
    "x_gt_zero_lt_one = np.linspace(0, 2, 20)\n",
    "ax.plot(x_gt_zero_lt_one, (-(2*(x_gt_zero_lt_one/2))), label='(-2(x/2))')\n",
    "\n",
    "ax.plot(X_data, Y_data, 'bo')\n",
    "# ax.plot(x, np.log(x))\n",
    "ax.set_aspect('equal')\n",
    "ax.grid(True, which='both')\n",
    "\n",
    "# major_ticks = np.arange(0, 101, 20)\n",
    "# minor_ticks = np.arange(0, 101, 5)\n",
    "\n",
    "ax.set_xticks(np.arange(-5, 5, 1))\n",
    "# ax.set_xticks(minor_ticks, minor=True)\n",
    "ax.set_yticks(np.arange(-4, 3, 1))\n",
    "# ax.set_yticks(minor_ticks, minor=True)\n",
    "\n",
    "ax.set_title('v(x) = f(x/2), \\nгоризонтальное растяжение графика')\n",
    "\n",
    "ax.axhline(y=0, color='k')\n",
    "ax.axvline(x=0, color='k')\n",
    "\n",
    "fig.set_size_inches(7.5, 7.5)\n",
    "\n",
    "plt.legend()"
   ]
  },
  {
   "cell_type": "code",
   "execution_count": null,
   "metadata": {
    "colab": {
     "base_uri": "https://localhost:8080/",
     "height": 602
    },
    "executionInfo": {
     "elapsed": 312,
     "status": "ok",
     "timestamp": 1622586350854,
     "user": {
      "displayName": "Alex Skrn",
      "photoUrl": "https://lh3.googleusercontent.com/a-/AOh14GhvDGL0gITiWuZeBk8WuqiFgNjo86fRwcdf3MuZHg=s64",
      "userId": "00614715397981539727"
     },
     "user_tz": -180
    },
    "id": "6qp0I4U6Jrnf",
    "outputId": "6380fe06-4758-4853-9c7e-2ed50d4bb75a"
   },
   "outputs": [
    {
     "name": "stdout",
     "output_type": "stream",
     "text": [
      "x < 0:  -2\n",
      "x < 0:  -1\n",
      "0=<x<=1 0\n",
      "0=<x<=1 1\n",
      "x > 1 2\n",
      "x > 1 3\n",
      "x > 1 4\n",
      "[3, 0, 1, 1, 0.0, 0.58, 1.0]\n"
     ]
    },
    {
     "data": {
      "text/plain": [
       "<matplotlib.legend.Legend at 0x7f3867cfdf50>"
      ]
     },
     "execution_count": 28,
     "metadata": {
      "tags": []
     },
     "output_type": "execute_result"
    },
    {
     "data": {
      "image/png": "[encoded data removed]",
      "text/plain": [
       "<Figure size 540x540 with 1 Axes>"
      ]
     },
     "metadata": {
      "needs_background": "light",
      "tags": []
     },
     "output_type": "display_data"
    }
   ],
   "source": [
    "# 1 f)\n",
    "Y_data  = [a(x) for x in X_data]\n",
    "\n",
    "print([round(x, 2) for x in Y_data])\n",
    "\n",
    "x = np.arange(-5,5, 1)  # np.linspace ?\n",
    "fig, ax = plt.subplots()\n",
    "x_lt_zero = np.linspace(-3, -1.3, 20)\n",
    "ax.plot(x_lt_zero, abs(-((x_lt_zero+1)**2) + 1), label='|−(x+1)^2 + 1|')\n",
    "\n",
    "x_gt_one = np.linspace(0.15, 3, 20)\n",
    "ax.plot(x_gt_one, abs((np.log2(x_gt_one + 1) - 2) + 1), label='|(log2(x+1) - 2) + 1|')\n",
    "\n",
    "x_gt_zero_lt_one = np.linspace(-1, 0, 20)\n",
    "ax.plot(x_gt_zero_lt_one, abs(-(2*(x_gt_zero_lt_one+1)) + 1), label='|-2(x+1) + 1|')\n",
    "\n",
    "ax.plot(X_data, Y_data, 'bo')\n",
    "# ax.plot(x, np.log(x))\n",
    "ax.set_aspect('equal')\n",
    "ax.grid(True, which='both')\n",
    "\n",
    "# major_ticks = np.arange(0, 101, 20)\n",
    "# minor_ticks = np.arange(0, 101, 5)\n",
    "\n",
    "ax.set_xticks(np.arange(-5, 5, 1))\n",
    "# ax.set_xticks(minor_ticks, minor=True)\n",
    "ax.set_yticks(np.arange(-2, 6, 1))\n",
    "# ax.set_yticks(minor_ticks, minor=True)\n",
    "\n",
    "title = '\\nсдвиг влево на 1,\\nсдвиг вверх на 1,\\nзеркальное отражение\\nотрицательных y относительно оси x'\n",
    "ax.set_title('a(x) = |f(x + 1) + 1|, ' + title)\n",
    "\n",
    "ax.axhline(y=0, color='k')\n",
    "ax.axvline(x=0, color='k')\n",
    "\n",
    "fig.set_size_inches(7.5, 7.5)\n",
    "\n",
    "plt.legend()"
   ]
  },
  {
   "cell_type": "code",
   "execution_count": null,
   "metadata": {
    "colab": {
     "base_uri": "https://localhost:8080/",
     "height": 484
    },
    "executionInfo": {
     "elapsed": 343,
     "status": "ok",
     "timestamp": 1622586551475,
     "user": {
      "displayName": "Alex Skrn",
      "photoUrl": "https://lh3.googleusercontent.com/a-/AOh14GhvDGL0gITiWuZeBk8WuqiFgNjo86fRwcdf3MuZHg=s64",
      "userId": "00614715397981539727"
     },
     "user_tz": -180
    },
    "id": "zfpMTxtnPX6V",
    "outputId": "d996ff0e-17a8-4662-8716-e07e8239e4be"
   },
   "outputs": [
    {
     "name": "stdout",
     "output_type": "stream",
     "text": [
      "x > 1 1.5\n",
      "0=<x<=1 1.0\n",
      "0=<x<=1 0.5\n",
      "0=<x<=1 0.0\n",
      "0=<x<=1 0.5\n",
      "0=<x<=1 1.0\n",
      "x > 1 1.5\n",
      "[-2.42, -3.0, -2.0, -1.0, -2.0, -3.0, -2.42]\n"
     ]
    },
    {
     "data": {
      "text/plain": [
       "<matplotlib.legend.Legend at 0x7f3867b30ed0>"
      ]
     },
     "execution_count": 31,
     "metadata": {
      "tags": []
     },
     "output_type": "execute_result"
    },
    {
     "data": {
      "image/png": "[encoded data removed]",
      "text/plain": [
       "<Figure size 540x540 with 1 Axes>"
      ]
     },
     "metadata": {
      "needs_background": "light",
      "tags": []
     },
     "output_type": "display_data"
    }
   ],
   "source": [
    "# 1(g)\n",
    "\n",
    "Y_data  = [b(x) for x in X_data]\n",
    "\n",
    "print([round(x, 2) for x in Y_data])\n",
    "\n",
    "x = np.arange(-5,5, 1)  # np.linspace ?\n",
    "fig, ax = plt.subplots()\n",
    "# x_lt_zero = np.linspace(-1.8, 1.8, 20)\n",
    "# ax.plot(x_lt_zero, -((1/2)*abs(x_lt_zero)**2) - 1, label='|−(x+1)^2 + 1|')\n",
    "\n",
    "x_gt_one = np.linspace(-3, -2.2, 100)\n",
    "ax.plot(x_gt_one, np.log2((1/2)*abs(x_gt_one)) -  3, label='(log2([1/2]|x|) - 2) -1')\n",
    "\n",
    "x_gt_one = np.linspace(2.2, 3, 100)\n",
    "ax.plot(x_gt_one, np.log2((1/2)*abs(x_gt_one)) -  3, label='(log2([1/2]|x|) - 2) - 1')\n",
    "\n",
    "x_gt_zero_lt_one = np.linspace(-2, 2, 100)\n",
    "ax.plot(x_gt_zero_lt_one, -2*(1/2)*abs(x_gt_zero_lt_one)-1, label='-2([1/2]|x|-1')\n",
    "\n",
    "ax.plot(X_data, Y_data, 'bo')\n",
    "# ax.plot(x, np.log(x))\n",
    "ax.set_aspect('equal')\n",
    "ax.grid(True, which='both')\n",
    "\n",
    "# major_ticks = np.arange(0, 101, 20)\n",
    "# minor_ticks = np.arange(0, 101, 5)\n",
    "\n",
    "ax.set_xticks(np.arange(-4, 5, 1))\n",
    "# ax.set_xticks(minor_ticks, minor=True)\n",
    "ax.set_yticks(np.arange(-2, 3, 1))\n",
    "# ax.set_yticks(minor_ticks, minor=True)\n",
    "\n",
    "# title = '\\nсдвиг влево на 1,\\nсдвиг вверх на 1,\\nзеркальное отражение\\nотрицательных y относительно оси x'\n",
    "ax.set_title('b(x) = f([1/2]|x|)-1')\n",
    "\n",
    "ax.axhline(y=0, color='k')\n",
    "ax.axvline(x=0, color='k')\n",
    "\n",
    "fig.set_size_inches(7.5, 7.5)\n",
    "\n",
    "plt.legend()"
   ]
  },
  {
   "cell_type": "code",
   "execution_count": null,
   "metadata": {
    "colab": {
     "base_uri": "https://localhost:8080/"
    },
    "executionInfo": {
     "elapsed": 338,
     "status": "ok",
     "timestamp": 1622584197583,
     "user": {
      "displayName": "Alex Skrn",
      "photoUrl": "https://lh3.googleusercontent.com/a-/AOh14GhvDGL0gITiWuZeBk8WuqiFgNjo86fRwcdf3MuZHg=s64",
      "userId": "00614715397981539727"
     },
     "user_tz": -180
    },
    "id": "fgWcBC3MjedQ",
    "outputId": "e497ee69-ee3d-4c41-f3a0-bee079f64e98"
   },
   "outputs": [
    {
     "data": {
      "text/plain": [
       "2.0"
      ]
     },
     "execution_count": 7,
     "metadata": {
      "tags": []
     },
     "output_type": "execute_result"
    }
   ],
   "source": [
    "-2*((1/2)*abs(0)-1)"
   ]
  },
  {
   "cell_type": "code",
   "execution_count": null,
   "metadata": {
    "id": "om_KRHN0fILP"
   },
   "outputs": [],
   "source": []
  },
  {
   "cell_type": "code",
   "execution_count": null,
   "metadata": {
    "id": "CpvD_HqYZjKx"
   },
   "outputs": [],
   "source": [
    "# 2\n",
    "\n",
    "from sympy import diff, symbols, init_printing, E\n",
    "\n",
    "import sympy as sp"
   ]
  },
  {
   "cell_type": "code",
   "execution_count": null,
   "metadata": {
    "id": "0xhssQpwZ_MX"
   },
   "outputs": [],
   "source": [
    "x, y, z = symbols('x y z')\n",
    "\n",
    "init_printing(use_unicode=True)"
   ]
  },
  {
   "cell_type": "code",
   "execution_count": null,
   "metadata": {
    "colab": {
     "base_uri": "https://localhost:8080/",
     "height": 38
    },
    "executionInfo": {
     "elapsed": 715,
     "status": "ok",
     "timestamp": 1622482417923,
     "user": {
      "displayName": "Alex Skrn",
      "photoUrl": "https://lh3.googleusercontent.com/a-/AOh14GhvDGL0gITiWuZeBk8WuqiFgNjo86fRwcdf3MuZHg=s64",
      "userId": "00614715397981539727"
     },
     "user_tz": -180
    },
    "id": "gTgM0OdaaJWF",
    "outputId": "bd1e109d-a171-4873-b891-d5f6ea6c5cd1"
   },
   "outputs": [
    {
     "data": {
      "image/png": "[encoded data removed]",
      "text/latex": [
       "$\\displaystyle 2 x + 7$"
      ],
      "text/plain": [
       "2⋅x + 7"
      ]
     },
     "execution_count": 5,
     "metadata": {
      "tags": []
     },
     "output_type": "execute_result"
    }
   ],
   "source": [
    "diff(x**2 + 7*x + 10, x)"
   ]
  },
  {
   "cell_type": "code",
   "execution_count": null,
   "metadata": {
    "colab": {
     "base_uri": "https://localhost:8080/",
     "height": 38
    },
    "executionInfo": {
     "elapsed": 308,
     "status": "ok",
     "timestamp": 1622482538143,
     "user": {
      "displayName": "Alex Skrn",
      "photoUrl": "https://lh3.googleusercontent.com/a-/AOh14GhvDGL0gITiWuZeBk8WuqiFgNjo86fRwcdf3MuZHg=s64",
      "userId": "00614715397981539727"
     },
     "user_tz": -180
    },
    "id": "tvE2nM8afLle",
    "outputId": "8d5a2527-3df2-45b7-8300-eeea06ce661f"
   },
   "outputs": [
    {
     "data": {
      "image/png": "[encoded data removed]",
      "text/latex": [
       "$\\displaystyle x e^{x} + e^{x}$"
      ],
      "text/plain": [
       "   x    x\n",
       "x⋅ℯ  + ℯ "
      ]
     },
     "execution_count": 9,
     "metadata": {
      "tags": []
     },
     "output_type": "execute_result"
    }
   ],
   "source": [
    "diff(x *(E**x), x)"
   ]
  },
  {
   "cell_type": "code",
   "execution_count": null,
   "metadata": {
    "colab": {
     "base_uri": "https://localhost:8080/",
     "height": 60
    },
    "executionInfo": {
     "elapsed": 366,
     "status": "ok",
     "timestamp": 1622483793166,
     "user": {
      "displayName": "Alex Skrn",
      "photoUrl": "https://lh3.googleusercontent.com/a-/AOh14GhvDGL0gITiWuZeBk8WuqiFgNjo86fRwcdf3MuZHg=s64",
      "userId": "00614715397981539727"
     },
     "user_tz": -180
    },
    "id": "Rw1SH2Z-frQ3",
    "outputId": "185937d1-dfb8-4af7-878a-ad5654b52a3e"
   },
   "outputs": [
    {
     "data": {
      "image/png": "[encoded data removed]",
      "text/latex": [
       "$\\displaystyle \\frac{x \\left(- 2 x - 2\\right)}{\\left(x^{2} + 2 x\\right)^{2}} + \\frac{1}{x^{2} + 2 x}$"
      ],
      "text/plain": [
       "x⋅(-2⋅x - 2)      1    \n",
       "──────────── + ────────\n",
       "          2     2      \n",
       "⎛ 2      ⎞     x  + 2⋅x\n",
       "⎝x  + 2⋅x⎠             "
      ]
     },
     "execution_count": 18,
     "metadata": {
      "tags": []
     },
     "output_type": "execute_result"
    }
   ],
   "source": [
    "diff(x/(x**2 + 2*x), x)"
   ]
  },
  {
   "cell_type": "code",
   "execution_count": null,
   "metadata": {
    "colab": {
     "base_uri": "https://localhost:8080/",
     "height": 38
    },
    "executionInfo": {
     "elapsed": 786,
     "status": "ok",
     "timestamp": 1622483882965,
     "user": {
      "displayName": "Alex Skrn",
      "photoUrl": "https://lh3.googleusercontent.com/a-/AOh14GhvDGL0gITiWuZeBk8WuqiFgNjo86fRwcdf3MuZHg=s64",
      "userId": "00614715397981539727"
     },
     "user_tz": -180
    },
    "id": "2Y_Lxd7-hW2d",
    "outputId": "b91960fc-19c8-4d2a-f1a1-daacadfac2bc"
   },
   "outputs": [
    {
     "data": {
      "image/png": "[encoded data removed]",
      "text/latex": [
       "$\\displaystyle 2 x \\cos{\\left(x^{2} \\right)}$"
      ],
      "text/plain": [
       "       ⎛ 2⎞\n",
       "2⋅x⋅cos⎝x ⎠"
      ]
     },
     "execution_count": 19,
     "metadata": {
      "tags": []
     },
     "output_type": "execute_result"
    }
   ],
   "source": [
    "diff(sp.sin(x**2))"
   ]
  },
  {
   "cell_type": "code",
   "execution_count": null,
   "metadata": {
    "colab": {
     "base_uri": "https://localhost:8080/",
     "height": 55
    },
    "executionInfo": {
     "elapsed": 740,
     "status": "ok",
     "timestamp": 1622484065969,
     "user": {
      "displayName": "Alex Skrn",
      "photoUrl": "https://lh3.googleusercontent.com/a-/AOh14GhvDGL0gITiWuZeBk8WuqiFgNjo86fRwcdf3MuZHg=s64",
      "userId": "00614715397981539727"
     },
     "user_tz": -180
    },
    "id": "H2XOWnb0k09J",
    "outputId": "bb00a42c-6c70-4fad-ecef-a03056339e09"
   },
   "outputs": [
    {
     "data": {
      "image/png": "[encoded data removed]",
      "text/latex": [
       "$\\displaystyle \\sin{\\left(x \\right)} + \\cos{\\left(x \\right)} + \\frac{1}{2 \\sqrt{x}}$"
      ],
      "text/plain": [
       "                   1  \n",
       "sin(x) + cos(x) + ────\n",
       "                  2⋅√x"
      ]
     },
     "execution_count": 21,
     "metadata": {
      "tags": []
     },
     "output_type": "execute_result"
    }
   ],
   "source": [
    "diff(sp.sqrt(x) + sp.sin(x) - sp.cos(x), x)"
   ]
  },
  {
   "cell_type": "code",
   "execution_count": null,
   "metadata": {
    "id": "_RbmAz0o7gEd"
   },
   "outputs": [],
   "source": [
    "%matplotlib inline\n",
    "import numpy as np\n",
    "import matplotlib.pyplot as plt"
   ]
  },
  {
   "cell_type": "code",
   "execution_count": null,
   "metadata": {
    "id": "XXJW4Xts7pzP"
   },
   "outputs": [],
   "source": [
    "# HW 1, problem 4\n",
    "\n",
    "# Очень примерные корни первой производной: -2.75, 0.25, 2.25\n",
    "\n",
    "# Нахожу полином по корням: a*(x + 2.75)*(x - 0.25)*(x - 2.25) = a(1.0x^3+0.25x^2−6.3125x+1.546875)\n",
    "\n",
    "# Из условий я подумал, что f(0)=2 нужно для того, чтобы найти a,\n",
    "# поэтому я подставил вместо x-ов нули и нашел (на компьютере) значение a, приравняв полином двум.\n",
    "\n",
    "# В итоге я получил следующий полином для производной\n",
    "\n",
    "#  1.29292929292929x^3 +0.323232323232324*x^2−8.16161616161616x+2.0\n",
    "\n",
    "# Для удобства я округлил коэффициенты:\n",
    "\n",
    "# 1.3x^3 +0.3*x^2−8.2x+2.0\n",
    "\n",
    "# После чего посчитал функцию, для которой вышеприведенная фукнция является прозводной:\n",
    "\n"
   ]
  },
  {
   "cell_type": "code",
   "execution_count": null,
   "metadata": {
    "id": "UJO0T8pU-YSd"
   },
   "outputs": [],
   "source": [
    "def f_d(x):\n",
    "  return 1.3*(x**3) +0.3*(x**2) - 8.2*x+2.0\n",
    "\n",
    "def f(x):\n",
    "  return 0.325*(x**4) + 0.1*(x**3) - 4.1*(x**2) + 2*x\n",
    "\n",
    "\n",
    "def f_adj(x):\n",
    "  return f(x) + 2"
   ]
  },
  {
   "cell_type": "code",
   "execution_count": null,
   "metadata": {
    "colab": {
     "base_uri": "https://localhost:8080/",
     "height": 428
    },
    "executionInfo": {
     "elapsed": 637,
     "status": "ok",
     "timestamp": 1622575336925,
     "user": {
      "displayName": "Alex Skrn",
      "photoUrl": "https://lh3.googleusercontent.com/a-/AOh14GhvDGL0gITiWuZeBk8WuqiFgNjo86fRwcdf3MuZHg=s64",
      "userId": "00614715397981539727"
     },
     "user_tz": -180
    },
    "id": "CWKzVs9o-HH4",
    "outputId": "edb1f336-3e68-4935-f96d-4b87c9a52fb6"
   },
   "outputs": [
    {
     "data": {
      "image/png": "[encoded data removed]",
      "text/plain": [
       "<Figure size 482.4x482.4 with 1 Axes>"
      ]
     },
     "metadata": {
      "needs_background": "light",
      "tags": []
     },
     "output_type": "display_data"
    }
   ],
   "source": [
    "x = np.linspace(-5, 5, 100)  # Sample data.\n",
    "\n",
    "x_points = [-2.75, 0.25, 2.25]\n",
    "y_points  = [f(x) for x in x_points]\n",
    "\n",
    "fig, ax = plt.subplots()\n",
    "\n",
    "ax.plot(x, f(x), label='f(x) = 0.325*(x^4) + 0.1*(x^3) - 4.1*(x^2) + 2*x')\n",
    "\n",
    "ax.plot(x, f_d(x), label='f\\'(x) = 1.3*(x^3) +0.3*(x^2)−8.2*x+2.0')\n",
    "\n",
    "ax.plot(x, f_adj(x), label='f(x) + 2')\n",
    "\n",
    "ax.plot(x_points, y_points, 'bo')\n",
    "\n",
    "ax.grid(True, which='both')\n",
    "\n",
    "# ax.set_xticks(np.arange(-2, 2, 1))\n",
    "\n",
    "# ticks = ax.set_yticks(np.arange(-6, 8, 1))\n",
    "# ax.set_yticks(np.arange(-5, 20, 5), minor=True)\n",
    "\n",
    "\n",
    "ax.axhline(y=0, color='k')\n",
    "ax.axvline(x=0, color='k')\n",
    "\n",
    "\n",
    "ax.axvline(x=-2.75, color='b', linewidth=0.5)\n",
    "ax.axvline(x=0.25, color='b', linewidth=0.5)\n",
    "ax.axvline(x=2.25, color='b', linewidth=0.5)\n",
    "\n",
    "# ax.axvline(x=-1, color='r', linewidth=0.5)\n",
    "# ax.axvline(x=1, color='r', linewidth=0.5)\n",
    "\n",
    "fig.set_size_inches(6.7, 6.7)\n",
    "\n",
    "ax.set_title('f(x), f\\'(x) и f(x) + 2')\n",
    "\n",
    "plt.axis([-5, 5, -22, 12])\n",
    "leg = plt.legend()"
   ]
  },
  {
   "cell_type": "code",
   "execution_count": null,
   "metadata": {
    "id": "zEc7PKi3_tuF"
   },
   "outputs": [],
   "source": []
  },
  {
   "cell_type": "code",
   "execution_count": null,
   "metadata": {
    "id": "q8N2hVbSomtA"
   },
   "outputs": [],
   "source": [
    "%matplotlib inline\n",
    "import numpy as np\n",
    "import matplotlib.pyplot as plt"
   ]
  },
  {
   "cell_type": "code",
   "execution_count": null,
   "metadata": {
    "id": "WBOgB1uSoeFS"
   },
   "outputs": [],
   "source": [
    "# HW 1, problem 5\n",
    "\n",
    "def g(x):\n",
    "  return 2 + (2*(x**2)) - (x**4)\n",
    "\n",
    "def g_prime(x):\n",
    "  return (4*x) - (4*(x**3))\n",
    "\n",
    "\n",
    "def g_prime_prime(x):\n",
    "  return 4 - (12 * (x**2))"
   ]
  },
  {
   "cell_type": "code",
   "execution_count": null,
   "metadata": {
    "colab": {
     "base_uri": "https://localhost:8080/"
    },
    "executionInfo": {
     "elapsed": 312,
     "status": "ok",
     "timestamp": 1622486941350,
     "user": {
      "displayName": "Alex Skrn",
      "photoUrl": "https://lh3.googleusercontent.com/a-/AOh14GhvDGL0gITiWuZeBk8WuqiFgNjo86fRwcdf3MuZHg=s64",
      "userId": "00614715397981539727"
     },
     "user_tz": -180
    },
    "id": "I16Nbt0AwQPL",
    "outputId": "7cf6a410-d311-4256-ba5f-c4fb079b92bf"
   },
   "outputs": [
    {
     "data": {
      "text/plain": [
       "4"
      ]
     },
     "execution_count": 39,
     "metadata": {
      "tags": []
     },
     "output_type": "execute_result"
    }
   ],
   "source": [
    "g_prime_prime(0)"
   ]
  },
  {
   "cell_type": "code",
   "execution_count": null,
   "metadata": {
    "colab": {
     "base_uri": "https://localhost:8080/",
     "height": 456
    },
    "executionInfo": {
     "elapsed": 764,
     "status": "ok",
     "timestamp": 1622490528015,
     "user": {
      "displayName": "Alex Skrn",
      "photoUrl": "https://lh3.googleusercontent.com/a-/AOh14GhvDGL0gITiWuZeBk8WuqiFgNjo86fRwcdf3MuZHg=s64",
      "userId": "00614715397981539727"
     },
     "user_tz": -180
    },
    "id": "lJg6i84zoosf",
    "outputId": "07f2f03b-6ebc-4a4c-a949-032ebe6c83b4"
   },
   "outputs": [
    {
     "data": {
      "image/png": "[encoded data removed]",
      "text/plain": [
       "<Figure size 540x540 with 1 Axes>"
      ]
     },
     "metadata": {
      "needs_background": "light",
      "tags": []
     },
     "output_type": "display_data"
    }
   ],
   "source": [
    "x = np.linspace(-2, 2, 100)  # Sample data.\n",
    "\n",
    "fig, ax = plt.subplots()\n",
    "\n",
    "ax.plot(x, g(x), label='g(x) = 2 + 2x^2 - x^4')\n",
    "\n",
    "ax.plot(x, g_prime(x), label='g\\'(x) = 2x^2 - x^4')\n",
    "\n",
    "ax.plot(x, g_prime_prime(x), label='g\\'\\'(x) = 4 - 12x^2')\n",
    "\n",
    "ax.grid(True, which='both')\n",
    "\n",
    "# ax.set_xticks(np.arange(-2, 2, 1))\n",
    "\n",
    "ticks = ax.set_yticks(np.arange(-6, 8, 1))\n",
    "# ax.set_yticks(np.arange(-5, 20, 5), minor=True)\n",
    "\n",
    "\n",
    "ax.axhline(y=0, color='k')\n",
    "\n",
    "ax.axvline(x=0, color='k')\n",
    "\n",
    "\n",
    "ax.axvline(x=-sqrt(3)/3, color='b', linewidth=0.5)\n",
    "ax.axvline(x=sqrt(3)/3, color='b', linewidth=0.5)\n",
    "\n",
    "ax.axvline(x=-1, color='r', linewidth=0.5)\n",
    "ax.axvline(x=1, color='r', linewidth=0.5)\n",
    "fig.set_size_inches(7.5, 7.5)\n",
    "\n",
    "plt.axis([-2, 2, -6, 8])\n",
    "leg = plt.legend()"
   ]
  },
  {
   "cell_type": "code",
   "execution_count": null,
   "metadata": {
    "id": "teV4hGhzoxeH"
   },
   "outputs": [],
   "source": [
    "from math import sqrt\n",
    "\n",
    "\n",
    "def g(x):\n",
    "  return 2 + (2*(x**2)) - (x**4)\n",
    "\n",
    "def g_1(x):\n",
    "  res = (4*x) - (4*(x**3))\n",
    "  val = ''\n",
    "  if res > 0:\n",
    "    val = '+'\n",
    "  elif res < 0:\n",
    "    val = '-'\n",
    "  else:\n",
    "    val = '0'\n",
    "  return val\n",
    "\n",
    "\n",
    "def g_2(x):\n",
    "  res = 4 - (12 * (x**2))\n",
    "  val = ''\n",
    "  if res > 0:\n",
    "    val = '+'\n",
    "  elif res < 0:\n",
    "    val = '-'\n",
    "  else:\n",
    "    val = '0'\n",
    "  return val\n",
    "\n",
    "test_nums = [-2, -1, -0.7, -sqrt(3)/3, -0.1, 0, 0.1, sqrt(3)/3, 0.7, 1, 3]"
   ]
  },
  {
   "cell_type": "code",
   "execution_count": null,
   "metadata": {
    "colab": {
     "base_uri": "https://localhost:8080/"
    },
    "executionInfo": {
     "elapsed": 5,
     "status": "ok",
     "timestamp": 1622490343273,
     "user": {
      "displayName": "Alex Skrn",
      "photoUrl": "https://lh3.googleusercontent.com/a-/AOh14GhvDGL0gITiWuZeBk8WuqiFgNjo86fRwcdf3MuZHg=s64",
      "userId": "00614715397981539727"
     },
     "user_tz": -180
    },
    "id": "hwzV40xJ1N0L",
    "outputId": "b10bcf1e-5df3-448f-cf28-073d51d72e40"
   },
   "outputs": [
    {
     "name": "stdout",
     "output_type": "stream",
     "text": [
      "-2\t-6\t24\t-44\n",
      "-1\t3\t0\t-8\n",
      "-0.7\t2.74\t-1.4\t-1.9\n",
      "-0.58\t2.56\t-1.5\t0.0\n",
      "-0.1\t2.02\t-0.4\t3.9\n",
      "0\t2\t0\t4\n",
      "0.1\t2.02\t0.4\t3.9\n",
      "0.58\t2.56\t1.5\t0.0\n",
      "0.7\t2.74\t1.4\t-1.9\n",
      "1\t3\t0\t-8\n",
      "3\t-61\t-96\t-104\n"
     ]
    }
   ],
   "source": [
    "for num in test_nums:\n",
    "  s = f'{round(num, 2)}\\t{round(g(num), 2)}\\t{round(g_prime(num),1)}\\t{round(g_prime_prime(num),1)}'\n",
    "  print(s)"
   ]
  },
  {
   "cell_type": "code",
   "execution_count": null,
   "metadata": {
    "colab": {
     "base_uri": "https://localhost:8080/"
    },
    "executionInfo": {
     "elapsed": 714,
     "status": "ok",
     "timestamp": 1622490381703,
     "user": {
      "displayName": "Alex Skrn",
      "photoUrl": "https://lh3.googleusercontent.com/a-/AOh14GhvDGL0gITiWuZeBk8WuqiFgNjo86fRwcdf3MuZHg=s64",
      "userId": "00614715397981539727"
     },
     "user_tz": -180
    },
    "id": "YsnVQMH81evJ",
    "outputId": "a5f2d46a-eaa9-4a29-84ff-9e3c7ca526dc"
   },
   "outputs": [
    {
     "name": "stdout",
     "output_type": "stream",
     "text": [
      "Test nums\tg(x)\tg'(x)\tg''(x)\n",
      "-2\t\t-6\t+\t-\n",
      "-1\t\t3\t0\t-\n",
      "-0.7\t\t2.74\t-\t-\n",
      "-0.58\t\t2.56\t-\t0\n",
      "-0.1\t\t2.02\t-\t+\n",
      "0\t\t2\t0\t+\n",
      "0.1\t\t2.02\t+\t+\n",
      "0.58\t\t2.56\t+\t0\n",
      "0.7\t\t2.74\t+\t-\n",
      "1\t\t3\t0\t-\n",
      "3\t\t-61\t-\t-\n"
     ]
    }
   ],
   "source": [
    "print('Test nums\\tg(x)\\tg\\'(x)\\tg\\'\\'(x)')\n",
    "for idx, num in enumerate(test_nums):\n",
    "  s = f'{round(num, 2)}\\t\\t{round(g(num), 2)}\\t{g_1(num)}\\t{g_2(num)}'\n",
    "  s_1 = f'{round(num, 2)}\\t\\t\\t{g_1(num)}\\t{g_2(num)}'\n",
    "  # if idx % 2 == 0:\n",
    "  #   print(s_1)\n",
    "  # else:\n",
    "  print(s)"
   ]
  },
  {
   "cell_type": "code",
   "execution_count": null,
   "metadata": {
    "id": "Z5u8ZHKl5xcC"
   },
   "outputs": [],
   "source": []
  },
  {
   "cell_type": "code",
   "execution_count": null,
   "metadata": {
    "id": "340GJZu8p6RR"
   },
   "outputs": [],
   "source": [
    "# HW 2\n",
    "from sympy import diff, symbols, init_printing, E, integrate\n",
    "\n",
    "import sympy as sp\n",
    "\n",
    "x, y, z = symbols('x y z')\n",
    "\n",
    "init_printing(use_unicode=True)"
   ]
  },
  {
   "cell_type": "code",
   "execution_count": null,
   "metadata": {
    "colab": {
     "base_uri": "https://localhost:8080/",
     "height": 53
    },
    "executionInfo": {
     "elapsed": 662,
     "status": "ok",
     "timestamp": 1623005450306,
     "user": {
      "displayName": "Alex Skrn",
      "photoUrl": "https://lh3.googleusercontent.com/a-/AOh14GhvDGL0gITiWuZeBk8WuqiFgNjo86fRwcdf3MuZHg=s64",
      "userId": "00614715397981539727"
     },
     "user_tz": -180
    },
    "id": "zIvfLxuIqSCT",
    "outputId": "e0f9591d-8c3f-4374-8064-2f440d1338c7"
   },
   "outputs": [
    {
     "data": {
      "image/png": "[encoded data removed]",
      "text/latex": [
       "$\\displaystyle - \\frac{1}{2 x^{\\frac{3}{2}}}$"
      ],
      "text/plain": [
       " -1   \n",
       "──────\n",
       "   3/2\n",
       "2⋅x   "
      ]
     },
     "execution_count": 2,
     "metadata": {
      "tags": []
     },
     "output_type": "execute_result"
    }
   ],
   "source": [
    "# 1 a)\n",
    "\n",
    "diff(1/sp.sqrt(x), x)"
   ]
  },
  {
   "cell_type": "code",
   "execution_count": null,
   "metadata": {
    "colab": {
     "base_uri": "https://localhost:8080/",
     "height": 53
    },
    "executionInfo": {
     "elapsed": 376,
     "status": "ok",
     "timestamp": 1623005467298,
     "user": {
      "displayName": "Alex Skrn",
      "photoUrl": "https://lh3.googleusercontent.com/a-/AOh14GhvDGL0gITiWuZeBk8WuqiFgNjo86fRwcdf3MuZHg=s64",
      "userId": "00614715397981539727"
     },
     "user_tz": -180
    },
    "id": "0J8G2LgAqcrY",
    "outputId": "624572a7-45cf-4c87-e6b5-66a0a82a7253"
   },
   "outputs": [
    {
     "data": {
      "image/png": "[encoded data removed]",
      "text/latex": [
       "$\\displaystyle \\frac{3}{4 x^{\\frac{5}{2}}}$"
      ],
      "text/plain": [
       "  3   \n",
       "──────\n",
       "   5/2\n",
       "4⋅x   "
      ]
     },
     "execution_count": 3,
     "metadata": {
      "tags": []
     },
     "output_type": "execute_result"
    }
   ],
   "source": [
    "diff(1/sp.sqrt(x), x, 2)"
   ]
  },
  {
   "cell_type": "code",
   "execution_count": null,
   "metadata": {
    "colab": {
     "base_uri": "https://localhost:8080/",
     "height": 53
    },
    "executionInfo": {
     "elapsed": 310,
     "status": "ok",
     "timestamp": 1623005480125,
     "user": {
      "displayName": "Alex Skrn",
      "photoUrl": "https://lh3.googleusercontent.com/a-/AOh14GhvDGL0gITiWuZeBk8WuqiFgNjo86fRwcdf3MuZHg=s64",
      "userId": "00614715397981539727"
     },
     "user_tz": -180
    },
    "id": "KpyuMJ6Zqg9Q",
    "outputId": "238a71bf-df47-4529-c502-2f75f3e32e11"
   },
   "outputs": [
    {
     "data": {
      "image/png": "[encoded data removed]",
      "text/latex": [
       "$\\displaystyle - \\frac{15}{8 x^{\\frac{7}{2}}}$"
      ],
      "text/plain": [
       " -15  \n",
       "──────\n",
       "   7/2\n",
       "8⋅x   "
      ]
     },
     "execution_count": 4,
     "metadata": {
      "tags": []
     },
     "output_type": "execute_result"
    }
   ],
   "source": [
    "diff(1/sp.sqrt(x), x, 3)"
   ]
  },
  {
   "cell_type": "code",
   "execution_count": null,
   "metadata": {
    "colab": {
     "base_uri": "https://localhost:8080/",
     "height": 53
    },
    "executionInfo": {
     "elapsed": 313,
     "status": "ok",
     "timestamp": 1623005492008,
     "user": {
      "displayName": "Alex Skrn",
      "photoUrl": "https://lh3.googleusercontent.com/a-/AOh14GhvDGL0gITiWuZeBk8WuqiFgNjo86fRwcdf3MuZHg=s64",
      "userId": "00614715397981539727"
     },
     "user_tz": -180
    },
    "id": "pHD5VoutqkHD",
    "outputId": "f2539431-230f-4093-d842-332832ce694d"
   },
   "outputs": [
    {
     "data": {
      "image/png": "[encoded data removed]",
      "text/latex": [
       "$\\displaystyle \\frac{105}{16 x^{\\frac{9}{2}}}$"
      ],
      "text/plain": [
       "  105  \n",
       "───────\n",
       "    9/2\n",
       "16⋅x   "
      ]
     },
     "execution_count": 5,
     "metadata": {
      "tags": []
     },
     "output_type": "execute_result"
    }
   ],
   "source": [
    "diff(1/sp.sqrt(x), x, 4)"
   ]
  },
  {
   "cell_type": "code",
   "execution_count": null,
   "metadata": {
    "colab": {
     "base_uri": "https://localhost:8080/"
    },
    "executionInfo": {
     "elapsed": 230,
     "status": "ok",
     "timestamp": 1623007925889,
     "user": {
      "displayName": "Alex Skrn",
      "photoUrl": "https://lh3.googleusercontent.com/a-/AOh14GhvDGL0gITiWuZeBk8WuqiFgNjo86fRwcdf3MuZHg=s64",
      "userId": "00614715397981539727"
     },
     "user_tz": -180
    },
    "id": "6MdREdOQqnA9",
    "outputId": "777fe69f-1b5e-4eb4-e8d1-ce9fca385eee"
   },
   "outputs": [
    {
     "name": "stdout",
     "output_type": "stream",
     "text": [
      "1/3\n",
      "-1/54\n",
      "1/324\n",
      "-5/5832\n",
      "35/104976\n",
      "-35/209952\n",
      "385/3779136\n"
     ]
    }
   ],
   "source": [
    "print((1/sp.sqrt(x)).subs(x, 9))\n",
    "print(diff(1/sp.sqrt(x), x).subs(x, 9))\n",
    "print(diff(1/sp.sqrt(x), x, 2).subs(x, 9))\n",
    "print(diff(1/sp.sqrt(x), x, 3).subs(x, 9))\n",
    "print(diff(1/sp.sqrt(x), x, 4).subs(x, 9))\n",
    "print(diff(1/sp.sqrt(x), x, 5).subs(x, 9))\n",
    "print(diff(1/sp.sqrt(x), x, 6).subs(x, 9))"
   ]
  },
  {
   "cell_type": "code",
   "execution_count": null,
   "metadata": {
    "colab": {
     "base_uri": "https://localhost:8080/",
     "height": 54
    },
    "executionInfo": {
     "elapsed": 747,
     "status": "ok",
     "timestamp": 1623087894655,
     "user": {
      "displayName": "Alex Skrn",
      "photoUrl": "https://lh3.googleusercontent.com/a-/AOh14GhvDGL0gITiWuZeBk8WuqiFgNjo86fRwcdf3MuZHg=s64",
      "userId": "00614715397981539727"
     },
     "user_tz": -180
    },
    "id": "fbuLem8RrIqy",
    "outputId": "4fd6ed2f-4df8-4f12-d6e1-c0c90fa6c6bf"
   },
   "outputs": [
    {
     "data": {
      "image/png": "[encoded data removed]",
      "text/latex": [
       "$\\displaystyle \\frac{x^{4}}{4}$"
      ],
      "text/plain": [
       " 4\n",
       "x \n",
       "──\n",
       "4 "
      ]
     },
     "execution_count": 4,
     "metadata": {
      "tags": []
     },
     "output_type": "execute_result"
    }
   ],
   "source": [
    "# Problem 5 - Integrals - Plot in Calculus_HW_2_Task_5_plot.ipynb\n",
    "\n",
    "integrate(x**3, x)"
   ]
  },
  {
   "cell_type": "code",
   "execution_count": null,
   "metadata": {
    "colab": {
     "base_uri": "https://localhost:8080/",
     "height": 38
    },
    "executionInfo": {
     "elapsed": 284,
     "status": "ok",
     "timestamp": 1623088209073,
     "user": {
      "displayName": "Alex Skrn",
      "photoUrl": "https://lh3.googleusercontent.com/a-/AOh14GhvDGL0gITiWuZeBk8WuqiFgNjo86fRwcdf3MuZHg=s64",
      "userId": "00614715397981539727"
     },
     "user_tz": -180
    },
    "id": "pV8UfD_Nk8rc",
    "outputId": "6f504cc1-15f7-498c-c873-0eff2dc3f452"
   },
   "outputs": [
    {
     "data": {
      "image/png": "[encoded data removed]",
      "text/latex": [
       "$\\displaystyle \\log{\\left(x \\right)}$"
      ],
      "text/plain": [
       "log(x)"
      ]
     },
     "execution_count": 6,
     "metadata": {
      "tags": []
     },
     "output_type": "execute_result"
    }
   ],
   "source": [
    "integrate(1/x, x)"
   ]
  },
  {
   "cell_type": "code",
   "execution_count": null,
   "metadata": {
    "colab": {
     "base_uri": "https://localhost:8080/",
     "height": 156
    },
    "executionInfo": {
     "elapsed": 349,
     "status": "ok",
     "timestamp": 1623088410725,
     "user": {
      "displayName": "Alex Skrn",
      "photoUrl": "https://lh3.googleusercontent.com/a-/AOh14GhvDGL0gITiWuZeBk8WuqiFgNjo86fRwcdf3MuZHg=s64",
      "userId": "00614715397981539727"
     },
     "user_tz": -180
    },
    "id": "J7bq-9ynmILM",
    "outputId": "783d7fce-3b04-453b-a02f-3e4fa4ea3d9e"
   },
   "outputs": [
    {
     "name": "stderr",
     "output_type": "stream",
     "text": [
      "/usr/local/lib/python3.7/dist-packages/sympy/core/operations.py:68: SymPyDeprecationWarning: \n",
      "\n",
      "Add/Mul with non-Expr args has been deprecated since SymPy 1.7. Use\n",
      "Expr args instead. See https://github.com/sympy/sympy/issues/19445 for\n",
      "more info.\n",
      "\n",
      "  deprecated_since_version=\"1.7\"\n"
     ]
    },
    {
     "data": {
      "image/png": "[encoded data removed]",
      "text/latex": [
       "$\\displaystyle \\left( \\left( 1, \\  1\\right), \\  1\\right)$"
      ],
      "text/plain": [
       "((1, 1), 1)"
      ]
     },
     "execution_count": 11,
     "metadata": {
      "tags": []
     },
     "output_type": "execute_result"
    }
   ],
   "source": [
    "sp.fraction(sp.fraction(1, 2**4), 4)"
   ]
  },
  {
   "cell_type": "code",
   "execution_count": null,
   "metadata": {
    "colab": {
     "base_uri": "https://localhost:8080/",
     "height": 37
    },
    "executionInfo": {
     "elapsed": 254,
     "status": "ok",
     "timestamp": 1623088573750,
     "user": {
      "displayName": "Alex Skrn",
      "photoUrl": "https://lh3.googleusercontent.com/a-/AOh14GhvDGL0gITiWuZeBk8WuqiFgNjo86fRwcdf3MuZHg=s64",
      "userId": "00614715397981539727"
     },
     "user_tz": -180
    },
    "id": "EhEHi20tmr6g",
    "outputId": "959da17e-8938-4e12-cd00-12c3d124f207"
   },
   "outputs": [
    {
     "data": {
      "image/png": "[encoded data removed]",
      "text/latex": [
       "$\\displaystyle 0.015625$"
      ],
      "text/plain": [
       "0.0156250000000000"
      ]
     },
     "execution_count": 12,
     "metadata": {
      "tags": []
     },
     "output_type": "execute_result"
    }
   ],
   "source": [
    "integrate(x**3, (x, 0, 0.5))"
   ]
  },
  {
   "cell_type": "code",
   "execution_count": null,
   "metadata": {
    "colab": {
     "base_uri": "https://localhost:8080/",
     "height": 37
    },
    "executionInfo": {
     "elapsed": 314,
     "status": "ok",
     "timestamp": 1623088967473,
     "user": {
      "displayName": "Alex Skrn",
      "photoUrl": "https://lh3.googleusercontent.com/a-/AOh14GhvDGL0gITiWuZeBk8WuqiFgNjo86fRwcdf3MuZHg=s64",
      "userId": "00614715397981539727"
     },
     "user_tz": -180
    },
    "id": "FTXNUQdEniqX",
    "outputId": "26205338-842d-4202-fc8d-3f0aea6b2fb0"
   },
   "outputs": [
    {
     "data": {
      "image/png": "[encoded data removed]",
      "text/latex": [
       "$\\displaystyle 0.693147180559945$"
      ],
      "text/plain": [
       "0.693147180559945"
      ]
     },
     "execution_count": 15,
     "metadata": {
      "tags": []
     },
     "output_type": "execute_result"
    }
   ],
   "source": [
    "integrate(1/x, (x, 0.5, 1))"
   ]
  },
  {
   "cell_type": "code",
   "execution_count": null,
   "metadata": {
    "colab": {
     "base_uri": "https://localhost:8080/",
     "height": 37
    },
    "executionInfo": {
     "elapsed": 21,
     "status": "ok",
     "timestamp": 1623088985739,
     "user": {
      "displayName": "Alex Skrn",
      "photoUrl": "https://lh3.googleusercontent.com/a-/AOh14GhvDGL0gITiWuZeBk8WuqiFgNjo86fRwcdf3MuZHg=s64",
      "userId": "00614715397981539727"
     },
     "user_tz": -180
    },
    "id": "NXigVYLwohlR",
    "outputId": "830c9135-0024-4df6-bb7c-a86cb15d31f6"
   },
   "outputs": [
    {
     "data": {
      "image/png": "[encoded data removed]",
      "text/latex": [
       "$\\displaystyle 0.693147180559945$"
      ],
      "text/plain": [
       "0.693147180559945"
      ]
     },
     "execution_count": 16,
     "metadata": {
      "tags": []
     },
     "output_type": "execute_result"
    }
   ],
   "source": [
    "sp.ln(1) - sp.ln(0.5)"
   ]
  },
  {
   "cell_type": "code",
   "execution_count": null,
   "metadata": {
    "colab": {
     "base_uri": "https://localhost:8080/",
     "height": 37
    },
    "executionInfo": {
     "elapsed": 304,
     "status": "ok",
     "timestamp": 1623089262489,
     "user": {
      "displayName": "Alex Skrn",
      "photoUrl": "https://lh3.googleusercontent.com/a-/AOh14GhvDGL0gITiWuZeBk8WuqiFgNjo86fRwcdf3MuZHg=s64",
      "userId": "00614715397981539727"
     },
     "user_tz": -180
    },
    "id": "kWPL07BkpHRh",
    "outputId": "e5d50c02-2724-4946-b22d-c68460bc53f3"
   },
   "outputs": [
    {
     "data": {
      "image/png": "[encoded data removed]",
      "text/latex": [
       "$\\displaystyle 1.44314718055995$"
      ],
      "text/plain": [
       "1.44314718055995"
      ]
     },
     "execution_count": 21,
     "metadata": {
      "tags": []
     },
     "output_type": "execute_result"
    }
   ],
   "source": [
    "0.5*2 - integrate(x**3, (x, 0, 0.5)) + integrate(1/x, (x, 0.5, 1)) - integrate(x**3, (x, 0.5, 1))"
   ]
  },
  {
   "cell_type": "code",
   "execution_count": null,
   "metadata": {
    "colab": {
     "base_uri": "https://localhost:8080/",
     "height": 51
    },
    "executionInfo": {
     "elapsed": 791,
     "status": "ok",
     "timestamp": 1623178361127,
     "user": {
      "displayName": "Alex Skrn",
      "photoUrl": "https://lh3.googleusercontent.com/a-/AOh14GhvDGL0gITiWuZeBk8WuqiFgNjo86fRwcdf3MuZHg=s64",
      "userId": "00614715397981539727"
     },
     "user_tz": -180
    },
    "id": "mUGdvyfi9zbS",
    "outputId": "777520f6-2336-4e15-e8ba-bfdd2d527e5e"
   },
   "outputs": [
    {
     "data": {
      "image/png": "[encoded data removed]",
      "text/latex": [
       "$\\displaystyle \\frac{1}{4} + \\log{\\left(2 \\right)}$"
      ],
      "text/plain": [
       "1/4 + log(2)"
      ]
     },
     "execution_count": 2,
     "metadata": {
      "tags": []
     },
     "output_type": "execute_result"
    }
   ],
   "source": [
    "integrate(x**3, (x, 0, 1)) + integrate(1/x, (x, 1, 2))"
   ]
  },
  {
   "cell_type": "code",
   "execution_count": null,
   "metadata": {
    "id": "EeR6VozN94dM"
   },
   "outputs": [],
   "source": []
  },
  {
   "cell_type": "code",
   "execution_count": null,
   "metadata": {
    "colab": {
     "base_uri": "https://localhost:8080/",
     "height": 53
    },
    "executionInfo": {
     "elapsed": 307,
     "status": "ok",
     "timestamp": 1623089932610,
     "user": {
      "displayName": "Alex Skrn",
      "photoUrl": "https://lh3.googleusercontent.com/a-/AOh14GhvDGL0gITiWuZeBk8WuqiFgNjo86fRwcdf3MuZHg=s64",
      "userId": "00614715397981539727"
     },
     "user_tz": -180
    },
    "id": "yy8MmR-mqBqM",
    "outputId": "ea2ed4ee-b7ed-4b12-c54f-e602ba0e923d"
   },
   "outputs": [
    {
     "data": {
      "image/png": "[encoded data removed]",
      "text/latex": [
       "$\\displaystyle - \\frac{\\cos{\\left(2 x \\right)}}{2}$"
      ],
      "text/plain": [
       "-cos(2⋅x) \n",
       "──────────\n",
       "    2     "
      ]
     },
     "execution_count": 23,
     "metadata": {
      "tags": []
     },
     "output_type": "execute_result"
    }
   ],
   "source": [
    "# 3\n",
    "\n",
    "integrate(sp.sin(2*x), x)"
   ]
  },
  {
   "cell_type": "code",
   "execution_count": null,
   "metadata": {
    "colab": {
     "base_uri": "https://localhost:8080/",
     "height": 38
    },
    "executionInfo": {
     "elapsed": 9,
     "status": "ok",
     "timestamp": 1623091444845,
     "user": {
      "displayName": "Alex Skrn",
      "photoUrl": "https://lh3.googleusercontent.com/a-/AOh14GhvDGL0gITiWuZeBk8WuqiFgNjo86fRwcdf3MuZHg=s64",
      "userId": "00614715397981539727"
     },
     "user_tz": -180
    },
    "id": "ZXmKTy0Osscx",
    "outputId": "e0c4f316-85e3-4bbc-cb3c-bf1ac755e428"
   },
   "outputs": [
    {
     "data": {
      "image/png": "[encoded data removed]",
      "text/latex": [
       "$\\displaystyle 5 e^{x}$"
      ],
      "text/plain": [
       "   x\n",
       "5⋅ℯ "
      ]
     },
     "execution_count": 27,
     "metadata": {
      "tags": []
     },
     "output_type": "execute_result"
    }
   ],
   "source": [
    "integrate(5*(E**x), x)"
   ]
  },
  {
   "cell_type": "code",
   "execution_count": null,
   "metadata": {
    "colab": {
     "base_uri": "https://localhost:8080/",
     "height": 38
    },
    "executionInfo": {
     "elapsed": 354,
     "status": "ok",
     "timestamp": 1623091424787,
     "user": {
      "displayName": "Alex Skrn",
      "photoUrl": "https://lh3.googleusercontent.com/a-/AOh14GhvDGL0gITiWuZeBk8WuqiFgNjo86fRwcdf3MuZHg=s64",
      "userId": "00614715397981539727"
     },
     "user_tz": -180
    },
    "id": "H2yz4ufbyAgV",
    "outputId": "24d25ecf-01f3-47fb-f940-845668a64403"
   },
   "outputs": [
    {
     "data": {
      "image/png": "[encoded data removed]",
      "text/latex": [
       "$\\displaystyle 5 e^{x}$"
      ],
      "text/plain": [
       "   x\n",
       "5⋅ℯ "
      ]
     },
     "execution_count": 26,
     "metadata": {
      "tags": []
     },
     "output_type": "execute_result"
    }
   ],
   "source": [
    "diff(5*E**x)"
   ]
  },
  {
   "cell_type": "code",
   "execution_count": null,
   "metadata": {
    "colab": {
     "base_uri": "https://localhost:8080/",
     "height": 57
    },
    "executionInfo": {
     "elapsed": 311,
     "status": "ok",
     "timestamp": 1623091617814,
     "user": {
      "displayName": "Alex Skrn",
      "photoUrl": "https://lh3.googleusercontent.com/a-/AOh14GhvDGL0gITiWuZeBk8WuqiFgNjo86fRwcdf3MuZHg=s64",
      "userId": "00614715397981539727"
     },
     "user_tz": -180
    },
    "id": "ignjp5vlyasu",
    "outputId": "29e7c7c2-1521-44c9-9b50-c2a616317297"
   },
   "outputs": [
    {
     "data": {
      "image/png": "[encoded data removed]",
      "text/latex": [
       "$\\displaystyle \\frac{\\sin{\\left(x \\right)}}{\\cos{\\left(x \\right)}}$"
      ],
      "text/plain": [
       "sin(x)\n",
       "──────\n",
       "cos(x)"
      ]
     },
     "execution_count": 29,
     "metadata": {
      "tags": []
     },
     "output_type": "execute_result"
    }
   ],
   "source": [
    "integrate(1/sp.cos(x)**2)"
   ]
  },
  {
   "cell_type": "code",
   "execution_count": null,
   "metadata": {
    "colab": {
     "base_uri": "https://localhost:8080/",
     "height": 37
    },
    "executionInfo": {
     "elapsed": 295,
     "status": "ok",
     "timestamp": 1623091723867,
     "user": {
      "displayName": "Alex Skrn",
      "photoUrl": "https://lh3.googleusercontent.com/a-/AOh14GhvDGL0gITiWuZeBk8WuqiFgNjo86fRwcdf3MuZHg=s64",
      "userId": "00614715397981539727"
     },
     "user_tz": -180
    },
    "id": "zi94_YyszItW",
    "outputId": "ae6b2e31-2ab2-4774-a742-060b2269d99b"
   },
   "outputs": [
    {
     "data": {
      "image/png": "[encoded data removed]",
      "text/latex": [
       "$\\displaystyle 2 \\sqrt{x}$"
      ],
      "text/plain": [
       "2⋅√x"
      ]
     },
     "execution_count": 31,
     "metadata": {
      "tags": []
     },
     "output_type": "execute_result"
    }
   ],
   "source": [
    "integrate(1/sp.sqrt(x), x)"
   ]
  },
  {
   "cell_type": "code",
   "execution_count": null,
   "metadata": {
    "colab": {
     "base_uri": "https://localhost:8080/",
     "height": 51
    },
    "executionInfo": {
     "elapsed": 291,
     "status": "ok",
     "timestamp": 1623091925734,
     "user": {
      "displayName": "Alex Skrn",
      "photoUrl": "https://lh3.googleusercontent.com/a-/AOh14GhvDGL0gITiWuZeBk8WuqiFgNjo86fRwcdf3MuZHg=s64",
      "userId": "00614715397981539727"
     },
     "user_tz": -180
    },
    "id": "fd9qu3ihzdnV",
    "outputId": "3d2d025f-8af9-4933-d2a7-b0a399bdfcc2"
   },
   "outputs": [
    {
     "data": {
      "image/png": "[encoded data removed]",
      "text/latex": [
       "$\\displaystyle x - 2 \\log{\\left(x \\right)} - \\frac{1}{x}$"
      ],
      "text/plain": [
       "               1\n",
       "x - 2⋅log(x) - ─\n",
       "               x"
      ]
     },
     "execution_count": 32,
     "metadata": {
      "tags": []
     },
     "output_type": "execute_result"
    }
   ],
   "source": [
    "func = ((1-x)/x)**2 \n",
    "integrate(func, x)"
   ]
  },
  {
   "cell_type": "code",
   "execution_count": null,
   "metadata": {
    "colab": {
     "base_uri": "https://localhost:8080/",
     "height": 54
    },
    "executionInfo": {
     "elapsed": 321,
     "status": "ok",
     "timestamp": 1623092086211,
     "user": {
      "displayName": "Alex Skrn",
      "photoUrl": "https://lh3.googleusercontent.com/a-/AOh14GhvDGL0gITiWuZeBk8WuqiFgNjo86fRwcdf3MuZHg=s64",
      "userId": "00614715397981539727"
     },
     "user_tz": -180
    },
    "id": "20NUr_880U-N",
    "outputId": "f325c62e-8ab7-4558-ffd2-67b65f7cb114"
   },
   "outputs": [
    {
     "data": {
      "image/png": "[encoded data removed]",
      "text/latex": [
       "$\\displaystyle \\frac{\\left(2 x - 1\\right) e^{2 x}}{4}$"
      ],
      "text/plain": [
       "           2⋅x\n",
       "(2⋅x - 1)⋅ℯ   \n",
       "──────────────\n",
       "      4       "
      ]
     },
     "execution_count": 33,
     "metadata": {
      "tags": []
     },
     "output_type": "execute_result"
    }
   ],
   "source": [
    "func = x*((E**x)**2)\n",
    "integrate(func, x)"
   ]
  },
  {
   "cell_type": "code",
   "execution_count": null,
   "metadata": {
    "colab": {
     "base_uri": "https://localhost:8080/"
    },
    "executionInfo": {
     "elapsed": 316,
     "status": "ok",
     "timestamp": 1623093483778,
     "user": {
      "displayName": "Alex Skrn",
      "photoUrl": "https://lh3.googleusercontent.com/a-/AOh14GhvDGL0gITiWuZeBk8WuqiFgNjo86fRwcdf3MuZHg=s64",
      "userId": "00614715397981539727"
     },
     "user_tz": -180
    },
    "id": "HHEtQSbq08Dj",
    "outputId": "3557d2b8-6026-4b83-a976-09fb6e9a0f4a"
   },
   "outputs": [
    {
     "name": "stdout",
     "output_type": "stream",
     "text": [
      "0 -1 0 1 0 -1 0 1 "
     ]
    }
   ],
   "source": [
    "for i in range(1, 9):\n",
    "  print(diff(sp.cos(x), x, i).subs(x, 0), end=' ')"
   ]
  },
  {
   "cell_type": "code",
   "execution_count": null,
   "metadata": {
    "colab": {
     "base_uri": "https://localhost:8080/",
     "height": 37
    },
    "executionInfo": {
     "elapsed": 286,
     "status": "ok",
     "timestamp": 1623093867948,
     "user": {
      "displayName": "Alex Skrn",
      "photoUrl": "https://lh3.googleusercontent.com/a-/AOh14GhvDGL0gITiWuZeBk8WuqiFgNjo86fRwcdf3MuZHg=s64",
      "userId": "00614715397981539727"
     },
     "user_tz": -180
    },
    "id": "lHkqPyYM3CzK",
    "outputId": "cfae28ae-a103-4c6e-a1f2-b6f665d12875"
   },
   "outputs": [
    {
     "data": {
      "image/png": "[encoded data removed]",
      "text/latex": [
       "$\\displaystyle 1$"
      ],
      "text/plain": [
       "1"
      ]
     },
     "execution_count": 42,
     "metadata": {
      "tags": []
     },
     "output_type": "execute_result"
    }
   ],
   "source": [
    "func = E**(2*x - x**2)\n",
    "\n",
    "func.subs(x, 0)"
   ]
  },
  {
   "cell_type": "code",
   "execution_count": null,
   "metadata": {
    "colab": {
     "base_uri": "https://localhost:8080/"
    },
    "executionInfo": {
     "elapsed": 407,
     "status": "ok",
     "timestamp": 1623093921125,
     "user": {
      "displayName": "Alex Skrn",
      "photoUrl": "https://lh3.googleusercontent.com/a-/AOh14GhvDGL0gITiWuZeBk8WuqiFgNjo86fRwcdf3MuZHg=s64",
      "userId": "00614715397981539727"
     },
     "user_tz": -180
    },
    "id": "pK9i_sfl7rR-",
    "outputId": "1a60c88a-d07f-41a4-b7c6-1a47f497a709"
   },
   "outputs": [
    {
     "name": "stdout",
     "output_type": "stream",
     "text": [
      "2 2 -4 "
     ]
    }
   ],
   "source": [
    "for i in range(1, 4):\n",
    "  print(diff(func, x, i).subs(x, 0), end=' ')"
   ]
  },
  {
   "cell_type": "code",
   "execution_count": null,
   "metadata": {
    "colab": {
     "base_uri": "https://localhost:8080/",
     "height": 37
    },
    "executionInfo": {
     "elapsed": 305,
     "status": "ok",
     "timestamp": 1623094638224,
     "user": {
      "displayName": "Alex Skrn",
      "photoUrl": "https://lh3.googleusercontent.com/a-/AOh14GhvDGL0gITiWuZeBk8WuqiFgNjo86fRwcdf3MuZHg=s64",
      "userId": "00614715397981539727"
     },
     "user_tz": -180
    },
    "id": "nSdno0PL78I2",
    "outputId": "7cc938a4-bffc-4c0c-d3b8-bec115998307"
   },
   "outputs": [
    {
     "data": {
      "image/png": "[encoded data removed]",
      "text/latex": [
       "$\\displaystyle \\cos{\\left(1 \\right)}$"
      ],
      "text/plain": [
       "cos(1)"
      ]
     },
     "execution_count": 46,
     "metadata": {
      "tags": []
     },
     "output_type": "execute_result"
    }
   ],
   "source": [
    "func = sp.cos((E**(2*x - x**2)))\n",
    "\n",
    "func.subs(x, 0)"
   ]
  },
  {
   "cell_type": "code",
   "execution_count": null,
   "metadata": {
    "colab": {
     "base_uri": "https://localhost:8080/"
    },
    "executionInfo": {
     "elapsed": 336,
     "status": "ok",
     "timestamp": 1623094652352,
     "user": {
      "displayName": "Alex Skrn",
      "photoUrl": "https://lh3.googleusercontent.com/a-/AOh14GhvDGL0gITiWuZeBk8WuqiFgNjo86fRwcdf3MuZHg=s64",
      "userId": "00614715397981539727"
     },
     "user_tz": -180
    },
    "id": "lsFvQ1a9-nLw",
    "outputId": "36a879d3-bed3-45e1-f94f-437ae3e9cc68"
   },
   "outputs": [
    {
     "name": "stdout",
     "output_type": "stream",
     "text": [
      "-2*sin(1) -4*cos(1) - 2*sin(1) -12*cos(1) + 12*sin(1) "
     ]
    }
   ],
   "source": [
    "for i in range(1, 4):\n",
    "  print(diff(func, x, i).subs(x, 0), end=' ')"
   ]
  },
  {
   "cell_type": "code",
   "execution_count": null,
   "metadata": {
    "colab": {
     "base_uri": "https://localhost:8080/"
    },
    "executionInfo": {
     "elapsed": 348,
     "status": "ok",
     "timestamp": 1623094796845,
     "user": {
      "displayName": "Alex Skrn",
      "photoUrl": "https://lh3.googleusercontent.com/a-/AOh14GhvDGL0gITiWuZeBk8WuqiFgNjo86fRwcdf3MuZHg=s64",
      "userId": "00614715397981539727"
     },
     "user_tz": -180
    },
    "id": "MFLaBgMi-urT",
    "outputId": "5c2feb59-5e46-4cbb-bd2f-230defa2866d"
   },
   "outputs": [
    {
     "name": "stdout",
     "output_type": "stream",
     "text": [
      "sin(1)\n",
      "cos(1)\n",
      "sin(1)\n",
      "cos(1)\n",
      "sin(1)\n"
     ]
    }
   ],
   "source": [
    "print(sp.sin(1))\n",
    "print(sp.cos(1))\n",
    "print(sp.sin(1))\n",
    "print(sp.cos(1))\n",
    "print(sp.sin(1))"
   ]
  },
  {
   "cell_type": "code",
   "execution_count": null,
   "metadata": {
    "colab": {
     "base_uri": "https://localhost:8080/",
     "height": 37
    },
    "executionInfo": {
     "elapsed": 358,
     "status": "ok",
     "timestamp": 1623094810517,
     "user": {
      "displayName": "Alex Skrn",
      "photoUrl": "https://lh3.googleusercontent.com/a-/AOh14GhvDGL0gITiWuZeBk8WuqiFgNjo86fRwcdf3MuZHg=s64",
      "userId": "00614715397981539727"
     },
     "user_tz": -180
    },
    "id": "iZw_z84B-7su",
    "outputId": "1899d340-6fa1-495a-9200-cb0518ab546c"
   },
   "outputs": [
    {
     "data": {
      "image/png": "[encoded data removed]",
      "text/latex": [
       "$\\displaystyle \\sin{\\left(1 \\right)}$"
      ],
      "text/plain": [
       "sin(1)"
      ]
     },
     "execution_count": 52,
     "metadata": {
      "tags": []
     },
     "output_type": "execute_result"
    }
   ],
   "source": [
    "sp.sin(1)"
   ]
  },
  {
   "cell_type": "code",
   "execution_count": null,
   "metadata": {
    "colab": {
     "base_uri": "https://localhost:8080/",
     "height": 83
    },
    "executionInfo": {
     "elapsed": 1662,
     "status": "ok",
     "timestamp": 1623179548385,
     "user": {
      "displayName": "Alex Skrn",
      "photoUrl": "https://lh3.googleusercontent.com/a-/AOh14GhvDGL0gITiWuZeBk8WuqiFgNjo86fRwcdf3MuZHg=s64",
      "userId": "00614715397981539727"
     },
     "user_tz": -180
    },
    "id": "FDmpy-sf_VRc",
    "outputId": "e39d02f4-0e55-4f0b-89eb-6ace7710b917"
   },
   "outputs": [
    {
     "data": {
      "text/latex": [
       "$\\displaystyle \\frac{\\Gamma\\left(\\frac{1}{3}\\right) {{}_{1}F_{2}\\left(\\begin{matrix} \\frac{1}{3} \\\\ \\frac{1}{2}, \\frac{4}{3} \\end{matrix}\\middle| {- \\frac{1}{4}} \\right)}}{6 \\Gamma\\left(\\frac{4}{3}\\right)}$"
      ],
      "text/plain": [
       "        ┌─  ⎛  1/3    │     ⎞\n",
       "Γ(1/3)⋅ ├─  ⎜         │ -1/4⎟\n",
       "       1╵ 2 ⎝1/2, 4/3 │     ⎠\n",
       "─────────────────────────────\n",
       "           6⋅Γ(4/3)          "
      ]
     },
     "execution_count": 3,
     "metadata": {
      "tags": []
     },
     "output_type": "execute_result"
    }
   ],
   "source": [
    "# 4\n",
    "\n",
    "integrate(x*sp.cos(x**3), (x, 0, 1))"
   ]
  },
  {
   "cell_type": "code",
   "execution_count": null,
   "metadata": {
    "id": "zHlciLqgCk7Y"
   },
   "outputs": [],
   "source": []
  },
  {
   "cell_type": "code",
   "execution_count": null,
   "metadata": {
    "id": "ViTKQSa8QVW_"
   },
   "outputs": [],
   "source": [
    "# HW 2, problem 5\n",
    "%matplotlib inline\n",
    "import numpy as np\n",
    "import matplotlib.pyplot as plt"
   ]
  },
  {
   "cell_type": "code",
   "execution_count": null,
   "metadata": {
    "colab": {
     "base_uri": "https://localhost:8080/"
    },
    "executionInfo": {
     "elapsed": 313,
     "status": "ok",
     "timestamp": 1623017198653,
     "user": {
      "displayName": "Alex Skrn",
      "photoUrl": "https://lh3.googleusercontent.com/a-/AOh14GhvDGL0gITiWuZeBk8WuqiFgNjo86fRwcdf3MuZHg=s64",
      "userId": "00614715397981539727"
     },
     "user_tz": -180
    },
    "id": "n6L2xKPHRpi4",
    "outputId": "daec8370-17f0-41e8-f381-00730531457c"
   },
   "outputs": [
    {
     "data": {
      "text/plain": [
       "1.2599210498948732"
      ]
     },
     "execution_count": 20,
     "metadata": {
      "tags": []
     },
     "output_type": "execute_result"
    }
   ],
   "source": [
    "2**(1/3)"
   ]
  },
  {
   "cell_type": "code",
   "execution_count": null,
   "metadata": {
    "colab": {
     "base_uri": "https://localhost:8080/",
     "height": 472
    },
    "executionInfo": {
     "elapsed": 748,
     "status": "ok",
     "timestamp": 1623177867597,
     "user": {
      "displayName": "Alex Skrn",
      "photoUrl": "https://lh3.googleusercontent.com/a-/AOh14GhvDGL0gITiWuZeBk8WuqiFgNjo86fRwcdf3MuZHg=s64",
      "userId": "00614715397981539727"
     },
     "user_tz": -180
    },
    "id": "hKj4R78tXRFS",
    "outputId": "cc8df714-4aad-4aba-9070-e0e223293fee"
   },
   "outputs": [
    {
     "data": {
      "image/png": "[encoded data removed]",
      "text/plain": [
       "<Figure size 540x540 with 1 Axes>"
      ]
     },
     "metadata": {
      "needs_background": "light",
      "tags": []
     },
     "output_type": "display_data"
    }
   ],
   "source": [
    "x = np.linspace(-3, 3, 100)  # Sample data.\n",
    "\n",
    "fig, ax = plt.subplots()\n",
    "\n",
    "ax.plot([1], [1], 'bo')\n",
    "\n",
    "ax.plot(x, x**3, label='f(x) = x^3')\n",
    "ax.fill_between(x, x**3, where=(x>=0)&(x<=1), color='yellow', alpha=.5)\n",
    "# ax.fill_between(x, x**3, where=(x>=0.5)&(x<=1), color='red', alpha=.5)\n",
    "\n",
    "ax.plot(x, 1/x, label='g(x) = 1/x')\n",
    "ax.fill_between(x, 1/x, 0, where=(x>=1)&(x<=2), color='yellow', alpha=.5)\n",
    "\n",
    "# ax.plot(x, 2, label='x = 2')\n",
    "\n",
    "ax.grid(True, which='both')\n",
    "\n",
    "ax.axvline(2, color='y', label='x = 2')\n",
    "# ax.fill_between(np.linspace(0.5, 2**(1/3), 100), 2, color='yellow', alpha=.5)\n",
    "# ax.fill_between(x, 2, x**3, where=(x>=0)&(x<=0.5), color='yellow', alpha=.5)\n",
    "\n",
    "# ax.set_xticks(np.arange(-2, 2, 1))\n",
    "\n",
    "ticks = ax.set_yticks(np.arange(-1, 3, 0.5))\n",
    "# ax.set_yticks(np.arange(-5, 20, 5), minor=True)\n",
    "\n",
    "\n",
    "ax.axhline(y=0, color='k')\n",
    "\n",
    "ax.axvline(x=0, color='k')\n",
    "\n",
    "\n",
    "# ax.axvline(x=0.5, color='b', linewidth=0.5)\n",
    "ax.axvline(x=1, color='b', linewidth=0.5)\n",
    "# ax.axvline(x=2**(1/3), color='b', linewidth=0.5)\n",
    "\n",
    "ax.set_title('Для желтого участка я хочу посчитать площадь')\n",
    "\n",
    "# ax.axvline(x=-1, color='r', linewidth=0.5)\n",
    "# ax.axvline(x=1, color='r', linewidth=0.5)\n",
    "fig.set_size_inches(7.5, 7.5)\n",
    "\n",
    "\n",
    "\n",
    "plt.axis([-1, 3, -1, 3])\n",
    "leg = plt.legend()"
   ]
  },
  {
   "cell_type": "code",
   "execution_count": null,
   "metadata": {
    "id": "iZ2rMKtye4Jf"
   },
   "outputs": [],
   "source": []
  },
  {
   "cell_type": "code",
   "execution_count": null,
   "metadata": {
    "id": "b9xEu1eGSpum"
   },
   "outputs": [],
   "source": [
    "x = np.linspace(-3, 3, 100)  # Sample data.\n",
    "\n",
    "fig, ax = plt.subplots()\n",
    "\n",
    "ax.plot([1], [1], 'bo')\n",
    "\n",
    "ax.plot(x, x**3, label='f(x) = x^3')\n",
    "ax.fill_between(x, x**3, where=(x>=0)&(x<=1), color='yellow', alpha=.5)\n",
    "# ax.fill_between(x, x**3, where=(x>=0.5)&(x<=1), color='red', alpha=.5)\n",
    "\n",
    "ax.plot(x, 1/x, label='g(x) = 1/x')\n",
    "ax.fill_between(x, 1/x, 0, where=(x>=1)&(x<=2), color='yellow', alpha=.5)\n",
    "\n",
    "# ax.plot(x, 2, label='x = 2')\n",
    "\n",
    "ax.grid(True, which='both')\n",
    "\n",
    "ax.axvline(2, color='y', label='x = 2')\n",
    "# ax.fill_between(np.linspace(0.5, 2**(1/3), 100), 2, color='yellow', alpha=.5)\n",
    "# ax.fill_between(x, 2, x**3, where=(x>=0)&(x<=0.5), color='yellow', alpha=.5)\n",
    "\n",
    "# ax.set_xticks(np.arange(-2, 2, 1))\n",
    "\n",
    "ticks = ax.set_yticks(np.arange(-1, 3, 0.5))\n",
    "# ax.set_yticks(np.arange(-5, 20, 5), minor=True)\n",
    "\n",
    "\n",
    "ax.axhline(y=0, color='k')\n",
    "\n",
    "ax.axvline(x=0, color='k')\n",
    "\n",
    "\n",
    "# ax.axvline(x=0.5, color='b', linewidth=0.5)\n",
    "ax.axvline(x=1, color='b', linewidth=0.5)\n",
    "# ax.axvline(x=2**(1/3), color='b', linewidth=0.5)\n",
    "\n",
    "ax.set_title('Для желтого участка я хочу посчитать площадь')\n",
    "\n",
    "# ax.axvline(x=-1, color='r', linewidth=0.5)\n",
    "# ax.axvline(x=1, color='r', linewidth=0.5)\n",
    "fig.set_size_inches(7.5, 7.5)\n",
    "\n",
    "\n",
    "\n",
    "plt.axis([-1, 3, -1, 3])\n",
    "leg = plt.legend()"
   ]
  },
  {
   "cell_type": "code",
   "execution_count": null,
   "metadata": {
    "colab": {
     "base_uri": "https://localhost:8080/",
     "height": 265
    },
    "executionInfo": {
     "elapsed": 503,
     "status": "ok",
     "timestamp": 1627249109907,
     "user": {
      "displayName": "Alex Skrn",
      "photoUrl": "https://lh3.googleusercontent.com/a-/AOh14GhvDGL0gITiWuZeBk8WuqiFgNjo86fRwcdf3MuZHg=s64",
      "userId": "00614715397981539727"
     },
     "user_tz": -180
    },
    "id": "GWt82YjEQnVB",
    "outputId": "9b2b13fc-c4a2-459a-e76a-b4ef32836ca3"
   },
   "outputs": [
    {
     "data": {
      "image/png": "[encoded data removed]",
      "text/plain": [
       "<Figure size 432x288 with 1 Axes>"
      ]
     },
     "metadata": {
      "needs_background": "light",
      "tags": []
     },
     "output_type": "display_data"
    }
   ],
   "source": [
    "x = np.linspace(-8, 32, 100)  # Sample data.\n",
    "\n",
    "fig, ax = plt.subplots()\n",
    "\n",
    "# ax.plot([0.5, 1, 2**(1/3)], [2, 1, 2], 'bo')\n",
    "\n",
    "ax.plot(x, 4-x**2, label='Δ_2 = 4 - λ^2')\n",
    "# ax.fill_between(x, x**3, where=(x>=1)&(x<=2**(1/3)), color='blue', alpha=.5)\n",
    "# ax.fill_between(x, x**3, where=(x>=0.5)&(x<=1), color='red', alpha=.5)\n",
    "\n",
    "ax.plot(x, -x**2 + 30*x - 105, label='Δ_3 = -λ + 30λ - 105')\n",
    "# ax.fill_between(x, 1/x, where=(x>=0.5)&(x<=1), color='red', alpha=.5)\n",
    "\n",
    "# ax.plot(x, 2, label='x = 2')\n",
    "\n",
    "ax.plot(x, (-x**2 + 30*x - 105) / (4-x**2), label='Δ_3/Δ_2 = (-λ + 30λ - 105)/(4 - λ^2)')\n",
    "\n",
    "ax.grid(True, which='both')\n",
    "\n",
    "# ax.axhline(y=2, color='y', label='x = 2')\n",
    "# ax.fill_between(np.linspace(0.5, 2**(1/3), 100), 2, color='yellow', alpha=.5)\n",
    "# ax.fill_between(x, 2, x**3, where=(x>=0.5)&(x<=2**(1/3)), color='yellow', alpha=.5)\n",
    "\n",
    "# ax.set_xticks(np.arange(-2, 2, 1))\n",
    "\n",
    "# ticks = ax.set_yticks(np.arange(-1, 3, 0.5))\n",
    "# ax.set_yticks(np.arange(-5, 20, 5), minor=True)\n",
    "\n",
    "\n",
    "ax.axhline(y=0, color='k')\n",
    "\n",
    "ax.axvline(x=0, color='k')\n",
    "\n",
    "\n",
    "# ax.axvline(x=0.5, color='b', linewidth=0.5)\n",
    "# ax.axvline(x=1, color='b', linewidth=0.5)\n",
    "# ax.axvline(x=2**(1/3), color='b', linewidth=0.5)\n",
    "\n",
    "# ax.axvline(x=-1, color='r', linewidth=0.5)\n",
    "# ax.axvline(x=1, color='r', linewidth=0.5)\n",
    "# fig.set_size_inches(7.5, 7.5)\n",
    "\n",
    "\n",
    "\n",
    "plt.axis([-8, 32, -10, 126])\n",
    "leg = plt.legend()"
   ]
  },
  {
   "cell_type": "code",
   "execution_count": null,
   "metadata": {
    "colab": {
     "base_uri": "https://localhost:8080/",
     "height": 265
    },
    "executionInfo": {
     "elapsed": 683,
     "status": "ok",
     "timestamp": 1627383933653,
     "user": {
      "displayName": "Alex Skrn",
      "photoUrl": "https://lh3.googleusercontent.com/a-/AOh14GhvDGL0gITiWuZeBk8WuqiFgNjo86fRwcdf3MuZHg=s64",
      "userId": "00614715397981539727"
     },
     "user_tz": -180
    },
    "id": "KFyF35XPj-9E",
    "outputId": "67575d2e-477f-4499-e10f-476fe7809a6e"
   },
   "outputs": [
    {
     "data": {
      "image/png": "[encoded data removed]",
      "text/plain": [
       "<Figure size 432x288 with 1 Axes>"
      ]
     },
     "metadata": {
      "needs_background": "light",
      "tags": []
     },
     "output_type": "display_data"
    }
   ],
   "source": [
    "x = np.linspace(-32, 6, 100)  # Sample data.\n",
    "\n",
    "fig, ax = plt.subplots()\n",
    "\n",
    "# ax.plot([0.5, 1, 2**(1/3)], [2, 1, 2], 'bo')\n",
    "\n",
    "ax.plot(x, -x-16, label='Δ_2 = - λ - 16')\n",
    "# ax.fill_between(x, x**3, where=(x>=1)&(x<=2**(1/3)), color='blue', alpha=.5)\n",
    "# ax.fill_between(x, x**3, where=(x>=0.5)&(x<=1), color='red', alpha=.5)\n",
    "\n",
    "ax.plot(x, x + 20, label='Δ_3 = λ + 20')\n",
    "# ax.fill_between(x, 1/x, where=(x>=0.5)&(x<=1), color='red', alpha=.5)\n",
    "\n",
    "ax.plot(x, (x + 20) / (-x-16), label='Δ_3/Δ_2 = (λ + 20) /(- λ - 16)')\n",
    "# ax.plot(x, 2, label='x = 2')\n",
    "\n",
    "ax.grid(True, which='both')\n",
    "\n",
    "# ax.axhline(y=2, color='y', label='x = 2')\n",
    "# ax.fill_between(np.linspace(0.5, 2**(1/3), 100), 2, color='yellow', alpha=.5)\n",
    "# ax.fill_between(x, 2, x**3, where=(x>=0.5)&(x<=2**(1/3)), color='yellow', alpha=.5)\n",
    "\n",
    "# ax.set_xticks(np.arange(-2, 2, 1))\n",
    "\n",
    "# ticks = ax.set_yticks(np.arange(-1, 3, 0.5))\n",
    "# ax.set_yticks(np.arange(-5, 20, 5), minor=True)\n",
    "\n",
    "\n",
    "ax.axhline(y=0, color='k')\n",
    "\n",
    "ax.axvline(x=0, color='k')\n",
    "\n",
    "\n",
    "# ax.axvline(x=0.5, color='b', linewidth=0.5)\n",
    "# ax.axvline(x=1, color='b', linewidth=0.5)\n",
    "# ax.axvline(x=2**(1/3), color='b', linewidth=0.5)\n",
    "\n",
    "# ax.axvline(x=-16, color='r', linewidth=0.8)\n",
    "# ax.axvline(x=1, color='r', linewidth=0.5)\n",
    "# fig.set_size_inches(7.5, 7.5)\n",
    "\n",
    "\n",
    "\n",
    "plt.axis([-32, 6, -17, 23])\n",
    "leg = plt.legend()"
   ]
  },
  {
   "cell_type": "code",
   "execution_count": null,
   "metadata": {
    "id": "GGSprDFNo93O"
   },
   "outputs": [],
   "source": []
  },
  {
   "cell_type": "code",
   "execution_count": null,
   "metadata": {
    "id": "DiK8Z3mDmUSZ"
   },
   "outputs": [],
   "source": [
    "# HW 3, problem 5.3d\n",
    "import matplotlib.pyplot as plt\n",
    "from mpl_toolkits.mplot3d import Axes3D\n",
    "\n",
    "import numpy as np"
   ]
  },
  {
   "cell_type": "code",
   "execution_count": null,
   "metadata": {
    "colab": {
     "base_uri": "https://localhost:8080/",
     "height": 248
    },
    "executionInfo": {
     "elapsed": 1118,
     "status": "ok",
     "timestamp": 1623783442109,
     "user": {
      "displayName": "Alex Skrn",
      "photoUrl": "https://lh3.googleusercontent.com/a-/AOh14GhvDGL0gITiWuZeBk8WuqiFgNjo86fRwcdf3MuZHg=s64",
      "userId": "00614715397981539727"
     },
     "user_tz": -180
    },
    "id": "lWfWyfqVZqPp",
    "outputId": "203493c9-0044-48bf-a6d5-2c62fee6a99b"
   },
   "outputs": [
    {
     "data": {
      "image/png": "[encoded data removed]",
      "text/plain": [
       "<Figure size 432x288 with 1 Axes>"
      ]
     },
     "metadata": {
      "needs_background": "light",
      "tags": []
     },
     "output_type": "display_data"
    }
   ],
   "source": [
    "fig = plt.figure()\n",
    "ax = fig.gca(projection='3d')\n",
    "\n",
    "# ax.plot([0], [2])\n",
    "\n",
    "X = np.arange(-5, 5, 0.25)\n",
    "Y = np.arange(-5, 5, 0.25)\n",
    "X, Y = np.meshgrid(X, Y)\n",
    "Z = np.e**(4*Y - X**2 - Y**2)\n",
    "\n",
    "ax.set_xlabel('x')\n",
    "ax.set_ylabel('y')\n",
    "ax.set_zlabel('z')\n",
    "\n",
    "surf = ax.plot_surface(X, Y, Z, alpha=0.8)\n",
    "\n",
    "ax.plot([0], [2], 'ro')\n",
    "ax.set_title('e^(4y - x^2 - y^2)')\n",
    "\n",
    "plt.show()"
   ]
  },
  {
   "cell_type": "code",
   "execution_count": null,
   "metadata": {
    "colab": {
     "base_uri": "https://localhost:8080/"
    },
    "executionInfo": {
     "elapsed": 264,
     "status": "ok",
     "timestamp": 1623782092592,
     "user": {
      "displayName": "Alex Skrn",
      "photoUrl": "https://lh3.googleusercontent.com/a-/AOh14GhvDGL0gITiWuZeBk8WuqiFgNjo86fRwcdf3MuZHg=s64",
      "userId": "00614715397981539727"
     },
     "user_tz": -180
    },
    "id": "hItPVBBBa_9V",
    "outputId": "e2e3ceec-b0b3-46ea-f9b0-05dc75f8c967"
   },
   "outputs": [
    {
     "data": {
      "text/plain": [
       "54.59815003314423"
      ]
     },
     "execution_count": 5,
     "metadata": {
      "tags": []
     },
     "output_type": "execute_result"
    }
   ],
   "source": [
    "def f(X, Y):\n",
    "  return np.e**(4*Y - X**2 - Y**2)\n",
    "\n",
    "\n",
    "f(0, 2)"
   ]
  },
  {
   "cell_type": "code",
   "execution_count": null,
   "metadata": {
    "colab": {
     "base_uri": "https://localhost:8080/",
     "height": 248
    },
    "executionInfo": {
     "elapsed": 1341,
     "status": "ok",
     "timestamp": 1624393030158,
     "user": {
      "displayName": "Alex Skrn",
      "photoUrl": "https://lh3.googleusercontent.com/a-/AOh14GhvDGL0gITiWuZeBk8WuqiFgNjo86fRwcdf3MuZHg=s64",
      "userId": "00614715397981539727"
     },
     "user_tz": -180
    },
    "id": "dTMs9kT_mOtX",
    "outputId": "92798387-f325-4b89-8a4b-0972554e58ee"
   },
   "outputs": [
    {
     "data": {
      "image/png": "[encoded data removed]",
      "text/plain": [
       "<Figure size 432x288 with 1 Axes>"
      ]
     },
     "metadata": {
      "needs_background": "light",
      "tags": []
     },
     "output_type": "display_data"
    }
   ],
   "source": [
    "# HW4 - problem 4\n",
    "\n",
    "fig = plt.figure()\n",
    "ax = fig.gca(projection='3d')\n",
    "\n",
    "# ax.plot([0], [2])\n",
    "\n",
    "X = np.arange(-5, 5, 0.25)\n",
    "Y = np.arange(-5, 5, 0.25)\n",
    "X, Y = np.meshgrid(X, Y)\n",
    "Z = X + Y - 1\n",
    "\n",
    "ax.set_xlabel('x')\n",
    "ax.set_ylabel('y')\n",
    "ax.set_zlabel('z')\n",
    "\n",
    "surf = ax.plot_surface(X, Y, Z, alpha=0.8)\n",
    "\n",
    "ax.plot([2], [1], [-1], 'ro')\n",
    "ax.plot([1], [0], [0], 'bo')\n",
    "# ax.set_title('e^(4y - x^2 - y^2)')\n",
    "\n",
    "# Give points (0, 0, 0) and (100, 200, 300)\n",
    "b = [2, 1]\n",
    "c = [1, 0]\n",
    "d = [-1, 0]\n",
    "ax.plot(b, c, d, c='r')\n",
    "\n",
    "# Make a 3D quiver plot\n",
    "x, y, z = np.array([[-2,0,0],[0,-2,0],[0,0,-2]])\n",
    "u, v, w = np.array([[4,0,0],[0,4,0],[0,0,4]])\n",
    "ax.quiver(x,y,z,u,v,w,arrow_length_ratio=0.1, color=\"black\")\n",
    "\n",
    "# ax.view_init(0, 90)  # degree=-140, angle\n",
    "\n",
    "\n",
    "plt.show()"
   ]
  },
  {
   "cell_type": "code",
   "execution_count": null,
   "metadata": {
    "id": "wgHQZoVRMdq0"
   },
   "outputs": [],
   "source": []
  },
  {
   "cell_type": "code",
   "execution_count": null,
   "metadata": {
    "id": "0eoTlh2B1jFy"
   },
   "outputs": [],
   "source": [
    "# HW 4\n",
    "import sympy as sp \n",
    "from sympy.abc import k\n",
    "from sympy.functions.combinatorial.numbers import nC, nP, nT\n",
    "from sympy.concrete.summations import Sum\n",
    "\n",
    "from sympy.solvers import solve\n",
    "from sympy import symbols\n",
    "from sympy import diff, symbols, init_printing, E\n",
    "\n",
    "x, y, z, a, λ = symbols('x y z a λ')\n",
    "\n",
    "x1, x2, x3, x4 = symbols('x1 x2 x3 x4')"
   ]
  },
  {
   "cell_type": "code",
   "execution_count": null,
   "metadata": {
    "id": "YRwZ_gzP1oHC"
   },
   "outputs": [],
   "source": [
    "# problem 3\n",
    "\n",
    "Fx = 2*z + 2*y - λ*y*z\n",
    "Fy = 2*x + 2*z -λ*x*z\n",
    "Fz = 2*x + 2*y - λ*x*y\n",
    "Fλ = -(x*y*z - 1000)\n",
    "\n",
    "sol = solve([Fx, Fy, Fz, Fλ], dict=True)"
   ]
  },
  {
   "cell_type": "code",
   "execution_count": null,
   "metadata": {
    "colab": {
     "base_uri": "https://localhost:8080/"
    },
    "executionInfo": {
     "elapsed": 334,
     "status": "ok",
     "timestamp": 1624388466660,
     "user": {
      "displayName": "Alex Skrn",
      "photoUrl": "https://lh3.googleusercontent.com/a-/AOh14GhvDGL0gITiWuZeBk8WuqiFgNjo86fRwcdf3MuZHg=s64",
      "userId": "00614715397981539727"
     },
     "user_tz": -180
    },
    "id": "AnHKj40w2Tvj",
    "outputId": "4ac220a9-899c-42b0-da10-014e5c5c1e91"
   },
   "outputs": [
    {
     "data": {
      "text/plain": [
       "[{x: 10, y: 10, z: 10, λ: 2/5},\n",
       " {x: -5 - 5*sqrt(3)*I,\n",
       "  y: -5 - 5*sqrt(3)*I,\n",
       "  z: -5 - 5*sqrt(3)*I,\n",
       "  λ: -1/5 + sqrt(3)*I/5},\n",
       " {x: -5 + 5*sqrt(3)*I,\n",
       "  y: -5 + 5*sqrt(3)*I,\n",
       "  z: -5 + 5*sqrt(3)*I,\n",
       "  λ: -1/5 - sqrt(3)*I/5}]"
      ]
     },
     "execution_count": 3,
     "metadata": {
      "tags": []
     },
     "output_type": "execute_result"
    }
   ],
   "source": [
    "sol"
   ]
  },
  {
   "cell_type": "code",
   "execution_count": null,
   "metadata": {
    "id": "CNGWMmVO2WMF"
   },
   "outputs": [],
   "source": [
    "# problem 4\n",
    "\n",
    "F = (x-2)**2 + (y - 1)**2 + (z+1)**2 - λ*(x+y-z-1)"
   ]
  },
  {
   "cell_type": "code",
   "execution_count": null,
   "metadata": {
    "colab": {
     "base_uri": "https://localhost:8080/",
     "height": 38
    },
    "executionInfo": {
     "elapsed": 6,
     "status": "ok",
     "timestamp": 1624389337850,
     "user": {
      "displayName": "Alex Skrn",
      "photoUrl": "https://lh3.googleusercontent.com/a-/AOh14GhvDGL0gITiWuZeBk8WuqiFgNjo86fRwcdf3MuZHg=s64",
      "userId": "00614715397981539727"
     },
     "user_tz": -180
    },
    "id": "yY0nLhRmGjNh",
    "outputId": "67c7e394-c6b1-4e0a-ae47-7d59b5105b34"
   },
   "outputs": [
    {
     "data": {
      "text/latex": [
       "$\\displaystyle 2 x - λ - 4$"
      ],
      "text/plain": [
       "2*x - λ - 4"
      ]
     },
     "execution_count": 15,
     "metadata": {
      "tags": []
     },
     "output_type": "execute_result"
    }
   ],
   "source": [
    "Fx = diff(F, x)\n",
    "Fx"
   ]
  },
  {
   "cell_type": "code",
   "execution_count": null,
   "metadata": {
    "colab": {
     "base_uri": "https://localhost:8080/",
     "height": 38
    },
    "executionInfo": {
     "elapsed": 7,
     "status": "ok",
     "timestamp": 1624389339939,
     "user": {
      "displayName": "Alex Skrn",
      "photoUrl": "https://lh3.googleusercontent.com/a-/AOh14GhvDGL0gITiWuZeBk8WuqiFgNjo86fRwcdf3MuZHg=s64",
      "userId": "00614715397981539727"
     },
     "user_tz": -180
    },
    "id": "NUYonPodGjFl",
    "outputId": "59e806ac-6ff0-4f11-8790-d1de56683030"
   },
   "outputs": [
    {
     "data": {
      "text/latex": [
       "$\\displaystyle 2 y - λ - 2$"
      ],
      "text/plain": [
       "2*y - λ - 2"
      ]
     },
     "execution_count": 16,
     "metadata": {
      "tags": []
     },
     "output_type": "execute_result"
    }
   ],
   "source": [
    "Fy = diff(F, y)\n",
    "Fy"
   ]
  },
  {
   "cell_type": "code",
   "execution_count": null,
   "metadata": {
    "colab": {
     "base_uri": "https://localhost:8080/",
     "height": 38
    },
    "executionInfo": {
     "elapsed": 5,
     "status": "ok",
     "timestamp": 1624389342500,
     "user": {
      "displayName": "Alex Skrn",
      "photoUrl": "https://lh3.googleusercontent.com/a-/AOh14GhvDGL0gITiWuZeBk8WuqiFgNjo86fRwcdf3MuZHg=s64",
      "userId": "00614715397981539727"
     },
     "user_tz": -180
    },
    "id": "3aZUd9KsGoJH",
    "outputId": "32c3cce6-20af-4bd4-b07a-4754d519cb6c"
   },
   "outputs": [
    {
     "data": {
      "text/latex": [
       "$\\displaystyle 2 z + λ + 2$"
      ],
      "text/plain": [
       "2*z + λ + 2"
      ]
     },
     "execution_count": 17,
     "metadata": {
      "tags": []
     },
     "output_type": "execute_result"
    }
   ],
   "source": [
    "Fz = diff(F, z)\n",
    "Fz"
   ]
  },
  {
   "cell_type": "code",
   "execution_count": null,
   "metadata": {
    "colab": {
     "base_uri": "https://localhost:8080/",
     "height": 38
    },
    "executionInfo": {
     "elapsed": 6,
     "status": "ok",
     "timestamp": 1624389345575,
     "user": {
      "displayName": "Alex Skrn",
      "photoUrl": "https://lh3.googleusercontent.com/a-/AOh14GhvDGL0gITiWuZeBk8WuqiFgNjo86fRwcdf3MuZHg=s64",
      "userId": "00614715397981539727"
     },
     "user_tz": -180
    },
    "id": "l2KOHdw5Gqas",
    "outputId": "ee779ef5-3d36-47a5-96db-7c60ec811ad7"
   },
   "outputs": [
    {
     "data": {
      "text/latex": [
       "$\\displaystyle - x - y + z + 1$"
      ],
      "text/plain": [
       "-x - y + z + 1"
      ]
     },
     "execution_count": 18,
     "metadata": {
      "tags": []
     },
     "output_type": "execute_result"
    }
   ],
   "source": [
    "Fλ = diff(F, λ)\n",
    "Fλ"
   ]
  },
  {
   "cell_type": "code",
   "execution_count": null,
   "metadata": {
    "id": "nETysuS8Gwve"
   },
   "outputs": [],
   "source": [
    "sol = solve([Fx, Fy, Fz, Fλ], dict=True)"
   ]
  },
  {
   "cell_type": "code",
   "execution_count": null,
   "metadata": {
    "colab": {
     "base_uri": "https://localhost:8080/"
    },
    "executionInfo": {
     "elapsed": 967,
     "status": "ok",
     "timestamp": 1624389351199,
     "user": {
      "displayName": "Alex Skrn",
      "photoUrl": "https://lh3.googleusercontent.com/a-/AOh14GhvDGL0gITiWuZeBk8WuqiFgNjo86fRwcdf3MuZHg=s64",
      "userId": "00614715397981539727"
     },
     "user_tz": -180
    },
    "id": "5Gi_H12OG9vX",
    "outputId": "a2748676-1798-4aa8-d02f-b18e9f7f65d1"
   },
   "outputs": [
    {
     "data": {
      "text/plain": [
       "[{x: 1, y: 0, z: 0, λ: -2}]"
      ]
     },
     "execution_count": 20,
     "metadata": {
      "tags": []
     },
     "output_type": "execute_result"
    }
   ],
   "source": [
    "sol"
   ]
  },
  {
   "cell_type": "code",
   "execution_count": null,
   "metadata": {
    "colab": {
     "base_uri": "https://localhost:8080/",
     "height": 37
    },
    "executionInfo": {
     "elapsed": 283,
     "status": "ok",
     "timestamp": 1624389614687,
     "user": {
      "displayName": "Alex Skrn",
      "photoUrl": "https://lh3.googleusercontent.com/a-/AOh14GhvDGL0gITiWuZeBk8WuqiFgNjo86fRwcdf3MuZHg=s64",
      "userId": "00614715397981539727"
     },
     "user_tz": -180
    },
    "id": "kVkP_qBHG-np",
    "outputId": "33946a64-fc70-4385-b293-b5515f6fa064"
   },
   "outputs": [
    {
     "data": {
      "text/latex": [
       "$\\displaystyle 3$"
      ],
      "text/plain": [
       "3"
      ]
     },
     "execution_count": 21,
     "metadata": {
      "tags": []
     },
     "output_type": "execute_result"
    }
   ],
   "source": [
    "((x-2)**2 + (y - 1)**2 + (z+1)**2).subs({x: 1, y: 0, z: 0, λ: -2})"
   ]
  },
  {
   "cell_type": "code",
   "execution_count": null,
   "metadata": {
    "id": "oaXIaI-BKnm-"
   },
   "outputs": [],
   "source": []
  }
 ],
 "metadata": {
  "colab": {
   "authorship_tag": "ABX9TyP15VLyAGoZwkoxnq3KZ+xt",
   "collapsed_sections": [],
   "name": "HSE_HW1_calculus.ipynb",
   "provenance": []
  },
  "kernelspec": {
   "display_name": "Python 3",
   "name": "python3"
  },
  "language_info": {
   "name": "python"
  }
 },
 "nbformat": 4,
 "nbformat_minor": 0
}
