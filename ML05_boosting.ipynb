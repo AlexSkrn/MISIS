{
  "nbformat": 4,
  "nbformat_minor": 0,
  "metadata": {
    "colab": {
      "name": "ML05_boosting.ipynb",
      "provenance": [],
      "collapsed_sections": []
    },
    "kernelspec": {
      "name": "python3",
      "display_name": "Python 3"
    },
    "language_info": {
      "name": "python"
    }
  },
  "cells": [
    {
      "cell_type": "code",
      "execution_count": null,
      "metadata": {
        "id": "GvkZ8dwrlmrN"
      },
      "outputs": [],
      "source": [
        "# 4. Бустинг. Практика\n",
        "import pandas as pd\n",
        "import numpy as np\n",
        "import matplotlib.pyplot as plt\n",
        "\n",
        "np.set_printoptions(suppress=True)"
      ]
    },
    {
      "cell_type": "code",
      "source": [
        "# Задание 4.1 - является ли письмо спамом\n",
        "\n",
        "df = pd.read_csv('https://raw.githubusercontent.com/vincentarelbundock/Rdatasets/master/csv/DAAG/spam7.csv')\n",
        "df.head()"
      ],
      "metadata": {
        "colab": {
          "base_uri": "https://localhost:8080/",
          "height": 206
        },
        "id": "lmbqH-_UlviB",
        "outputId": "5cdb3262-69d3-4c0a-e43d-cc6845fc33e0"
      },
      "execution_count": null,
      "outputs": [
        {
          "output_type": "execute_result",
          "data": {
            "text/html": [
              "<div>\n",
              "<style scoped>\n",
              "    .dataframe tbody tr th:only-of-type {\n",
              "        vertical-align: middle;\n",
              "    }\n",
              "\n",
              "    .dataframe tbody tr th {\n",
              "        vertical-align: top;\n",
              "    }\n",
              "\n",
              "    .dataframe thead th {\n",
              "        text-align: right;\n",
              "    }\n",
              "</style>\n",
              "<table border=\"1\" class=\"dataframe\">\n",
              "  <thead>\n",
              "    <tr style=\"text-align: right;\">\n",
              "      <th></th>\n",
              "      <th>Unnamed: 0</th>\n",
              "      <th>crl.tot</th>\n",
              "      <th>dollar</th>\n",
              "      <th>bang</th>\n",
              "      <th>money</th>\n",
              "      <th>n000</th>\n",
              "      <th>make</th>\n",
              "      <th>yesno</th>\n",
              "    </tr>\n",
              "  </thead>\n",
              "  <tbody>\n",
              "    <tr>\n",
              "      <th>0</th>\n",
              "      <td>1</td>\n",
              "      <td>278</td>\n",
              "      <td>0.000</td>\n",
              "      <td>0.778</td>\n",
              "      <td>0.00</td>\n",
              "      <td>0.00</td>\n",
              "      <td>0.00</td>\n",
              "      <td>y</td>\n",
              "    </tr>\n",
              "    <tr>\n",
              "      <th>1</th>\n",
              "      <td>2</td>\n",
              "      <td>1028</td>\n",
              "      <td>0.180</td>\n",
              "      <td>0.372</td>\n",
              "      <td>0.43</td>\n",
              "      <td>0.43</td>\n",
              "      <td>0.21</td>\n",
              "      <td>y</td>\n",
              "    </tr>\n",
              "    <tr>\n",
              "      <th>2</th>\n",
              "      <td>3</td>\n",
              "      <td>2259</td>\n",
              "      <td>0.184</td>\n",
              "      <td>0.276</td>\n",
              "      <td>0.06</td>\n",
              "      <td>1.16</td>\n",
              "      <td>0.06</td>\n",
              "      <td>y</td>\n",
              "    </tr>\n",
              "    <tr>\n",
              "      <th>3</th>\n",
              "      <td>4</td>\n",
              "      <td>191</td>\n",
              "      <td>0.000</td>\n",
              "      <td>0.137</td>\n",
              "      <td>0.00</td>\n",
              "      <td>0.00</td>\n",
              "      <td>0.00</td>\n",
              "      <td>y</td>\n",
              "    </tr>\n",
              "    <tr>\n",
              "      <th>4</th>\n",
              "      <td>5</td>\n",
              "      <td>191</td>\n",
              "      <td>0.000</td>\n",
              "      <td>0.135</td>\n",
              "      <td>0.00</td>\n",
              "      <td>0.00</td>\n",
              "      <td>0.00</td>\n",
              "      <td>y</td>\n",
              "    </tr>\n",
              "  </tbody>\n",
              "</table>\n",
              "</div>"
            ],
            "text/plain": [
              "   Unnamed: 0  crl.tot  dollar   bang  money  n000  make yesno\n",
              "0           1      278   0.000  0.778   0.00  0.00  0.00     y\n",
              "1           2     1028   0.180  0.372   0.43  0.43  0.21     y\n",
              "2           3     2259   0.184  0.276   0.06  1.16  0.06     y\n",
              "3           4      191   0.000  0.137   0.00  0.00  0.00     y\n",
              "4           5      191   0.000  0.135   0.00  0.00  0.00     y"
            ]
          },
          "metadata": {},
          "execution_count": 46
        }
      ]
    },
    {
      "cell_type": "code",
      "source": [
        "df.shape"
      ],
      "metadata": {
        "colab": {
          "base_uri": "https://localhost:8080/"
        },
        "id": "-LOfsSXNl8gn",
        "outputId": "d2e6272f-c7ef-41f5-e69e-caf8b0bbf7b2"
      },
      "execution_count": null,
      "outputs": [
        {
          "output_type": "execute_result",
          "data": {
            "text/plain": [
              "(4601, 8)"
            ]
          },
          "metadata": {},
          "execution_count": 47
        }
      ]
    },
    {
      "cell_type": "code",
      "source": [
        "# Из столбца yesno сделайте столбец spam, где 1 соответствует значению y (является спамом), \n",
        "# а 0 – n (не является спамом). Удалите первый столбец (с индексом) и столбец \"yesno\".\n",
        "\n",
        "# У Вас остается шесть столбцов-признаков и один столбец spam, который является нашей \n",
        "# целевой переменной. Разделим их на x и у.\n",
        "\n",
        "# Теперь мы хотим создать новые признаки путем попарного перемножения уже имеющихся друг на друга. \n",
        "# Сколько получится признаков после преобразования (включая те шесть, которые были в исходных данных)?"
      ],
      "metadata": {
        "id": "cB_BRf9jmCvs"
      },
      "execution_count": null,
      "outputs": []
    },
    {
      "cell_type": "code",
      "source": [
        "df['spam'] = np.where(df['yesno'] == 'y', 1, 0)\n",
        "df = df.drop(['yesno'], axis=1)\n",
        "df.head()"
      ],
      "metadata": {
        "colab": {
          "base_uri": "https://localhost:8080/",
          "height": 206
        },
        "id": "yLZjm__SFgos",
        "outputId": "2702fedf-53bb-4f54-800b-43e1c578b50f"
      },
      "execution_count": null,
      "outputs": [
        {
          "output_type": "execute_result",
          "data": {
            "text/html": [
              "<div>\n",
              "<style scoped>\n",
              "    .dataframe tbody tr th:only-of-type {\n",
              "        vertical-align: middle;\n",
              "    }\n",
              "\n",
              "    .dataframe tbody tr th {\n",
              "        vertical-align: top;\n",
              "    }\n",
              "\n",
              "    .dataframe thead th {\n",
              "        text-align: right;\n",
              "    }\n",
              "</style>\n",
              "<table border=\"1\" class=\"dataframe\">\n",
              "  <thead>\n",
              "    <tr style=\"text-align: right;\">\n",
              "      <th></th>\n",
              "      <th>Unnamed: 0</th>\n",
              "      <th>crl.tot</th>\n",
              "      <th>dollar</th>\n",
              "      <th>bang</th>\n",
              "      <th>money</th>\n",
              "      <th>n000</th>\n",
              "      <th>make</th>\n",
              "      <th>spam</th>\n",
              "    </tr>\n",
              "  </thead>\n",
              "  <tbody>\n",
              "    <tr>\n",
              "      <th>0</th>\n",
              "      <td>1</td>\n",
              "      <td>278</td>\n",
              "      <td>0.000</td>\n",
              "      <td>0.778</td>\n",
              "      <td>0.00</td>\n",
              "      <td>0.00</td>\n",
              "      <td>0.00</td>\n",
              "      <td>1</td>\n",
              "    </tr>\n",
              "    <tr>\n",
              "      <th>1</th>\n",
              "      <td>2</td>\n",
              "      <td>1028</td>\n",
              "      <td>0.180</td>\n",
              "      <td>0.372</td>\n",
              "      <td>0.43</td>\n",
              "      <td>0.43</td>\n",
              "      <td>0.21</td>\n",
              "      <td>1</td>\n",
              "    </tr>\n",
              "    <tr>\n",
              "      <th>2</th>\n",
              "      <td>3</td>\n",
              "      <td>2259</td>\n",
              "      <td>0.184</td>\n",
              "      <td>0.276</td>\n",
              "      <td>0.06</td>\n",
              "      <td>1.16</td>\n",
              "      <td>0.06</td>\n",
              "      <td>1</td>\n",
              "    </tr>\n",
              "    <tr>\n",
              "      <th>3</th>\n",
              "      <td>4</td>\n",
              "      <td>191</td>\n",
              "      <td>0.000</td>\n",
              "      <td>0.137</td>\n",
              "      <td>0.00</td>\n",
              "      <td>0.00</td>\n",
              "      <td>0.00</td>\n",
              "      <td>1</td>\n",
              "    </tr>\n",
              "    <tr>\n",
              "      <th>4</th>\n",
              "      <td>5</td>\n",
              "      <td>191</td>\n",
              "      <td>0.000</td>\n",
              "      <td>0.135</td>\n",
              "      <td>0.00</td>\n",
              "      <td>0.00</td>\n",
              "      <td>0.00</td>\n",
              "      <td>1</td>\n",
              "    </tr>\n",
              "  </tbody>\n",
              "</table>\n",
              "</div>"
            ],
            "text/plain": [
              "   Unnamed: 0  crl.tot  dollar   bang  money  n000  make  spam\n",
              "0           1      278   0.000  0.778   0.00  0.00  0.00     1\n",
              "1           2     1028   0.180  0.372   0.43  0.43  0.21     1\n",
              "2           3     2259   0.184  0.276   0.06  1.16  0.06     1\n",
              "3           4      191   0.000  0.137   0.00  0.00  0.00     1\n",
              "4           5      191   0.000  0.135   0.00  0.00  0.00     1"
            ]
          },
          "metadata": {},
          "execution_count": 49
        }
      ]
    },
    {
      "cell_type": "code",
      "source": [
        "df.tail()"
      ],
      "metadata": {
        "colab": {
          "base_uri": "https://localhost:8080/",
          "height": 206
        },
        "id": "1Q8et9LMGGDV",
        "outputId": "75eca90b-235e-4730-e95c-c675f1880018"
      },
      "execution_count": null,
      "outputs": [
        {
          "output_type": "execute_result",
          "data": {
            "text/html": [
              "<div>\n",
              "<style scoped>\n",
              "    .dataframe tbody tr th:only-of-type {\n",
              "        vertical-align: middle;\n",
              "    }\n",
              "\n",
              "    .dataframe tbody tr th {\n",
              "        vertical-align: top;\n",
              "    }\n",
              "\n",
              "    .dataframe thead th {\n",
              "        text-align: right;\n",
              "    }\n",
              "</style>\n",
              "<table border=\"1\" class=\"dataframe\">\n",
              "  <thead>\n",
              "    <tr style=\"text-align: right;\">\n",
              "      <th></th>\n",
              "      <th>Unnamed: 0</th>\n",
              "      <th>crl.tot</th>\n",
              "      <th>dollar</th>\n",
              "      <th>bang</th>\n",
              "      <th>money</th>\n",
              "      <th>n000</th>\n",
              "      <th>make</th>\n",
              "      <th>spam</th>\n",
              "    </tr>\n",
              "  </thead>\n",
              "  <tbody>\n",
              "    <tr>\n",
              "      <th>4596</th>\n",
              "      <td>4597</td>\n",
              "      <td>88</td>\n",
              "      <td>0.0</td>\n",
              "      <td>0.000</td>\n",
              "      <td>0.0</td>\n",
              "      <td>0.0</td>\n",
              "      <td>0.31</td>\n",
              "      <td>0</td>\n",
              "    </tr>\n",
              "    <tr>\n",
              "      <th>4597</th>\n",
              "      <td>4598</td>\n",
              "      <td>14</td>\n",
              "      <td>0.0</td>\n",
              "      <td>0.353</td>\n",
              "      <td>0.0</td>\n",
              "      <td>0.0</td>\n",
              "      <td>0.00</td>\n",
              "      <td>0</td>\n",
              "    </tr>\n",
              "    <tr>\n",
              "      <th>4598</th>\n",
              "      <td>4599</td>\n",
              "      <td>118</td>\n",
              "      <td>0.0</td>\n",
              "      <td>0.000</td>\n",
              "      <td>0.0</td>\n",
              "      <td>0.0</td>\n",
              "      <td>0.30</td>\n",
              "      <td>0</td>\n",
              "    </tr>\n",
              "    <tr>\n",
              "      <th>4599</th>\n",
              "      <td>4600</td>\n",
              "      <td>78</td>\n",
              "      <td>0.0</td>\n",
              "      <td>0.000</td>\n",
              "      <td>0.0</td>\n",
              "      <td>0.0</td>\n",
              "      <td>0.96</td>\n",
              "      <td>0</td>\n",
              "    </tr>\n",
              "    <tr>\n",
              "      <th>4600</th>\n",
              "      <td>4601</td>\n",
              "      <td>40</td>\n",
              "      <td>0.0</td>\n",
              "      <td>0.125</td>\n",
              "      <td>0.0</td>\n",
              "      <td>0.0</td>\n",
              "      <td>0.00</td>\n",
              "      <td>0</td>\n",
              "    </tr>\n",
              "  </tbody>\n",
              "</table>\n",
              "</div>"
            ],
            "text/plain": [
              "      Unnamed: 0  crl.tot  dollar   bang  money  n000  make  spam\n",
              "4596        4597       88     0.0  0.000    0.0   0.0  0.31     0\n",
              "4597        4598       14     0.0  0.353    0.0   0.0  0.00     0\n",
              "4598        4599      118     0.0  0.000    0.0   0.0  0.30     0\n",
              "4599        4600       78     0.0  0.000    0.0   0.0  0.96     0\n",
              "4600        4601       40     0.0  0.125    0.0   0.0  0.00     0"
            ]
          },
          "metadata": {},
          "execution_count": 50
        }
      ]
    },
    {
      "cell_type": "code",
      "source": [
        "df.columns"
      ],
      "metadata": {
        "colab": {
          "base_uri": "https://localhost:8080/"
        },
        "id": "tcBk9jvWGU5L",
        "outputId": "793202cd-60c4-44f3-a950-d1a9da308c55"
      },
      "execution_count": null,
      "outputs": [
        {
          "output_type": "execute_result",
          "data": {
            "text/plain": [
              "Index(['Unnamed: 0', 'crl.tot', 'dollar', 'bang', 'money', 'n000', 'make',\n",
              "       'spam'],\n",
              "      dtype='object')"
            ]
          },
          "metadata": {},
          "execution_count": 51
        }
      ]
    },
    {
      "cell_type": "code",
      "source": [
        "x = df.loc[:, ['crl.tot', 'dollar', 'bang', 'money', 'n000', 'make']]\n",
        "y = df.loc[:, 'spam']"
      ],
      "metadata": {
        "id": "VkSZH6Y8Grfn"
      },
      "execution_count": null,
      "outputs": []
    },
    {
      "cell_type": "code",
      "source": [
        "df.head()"
      ],
      "metadata": {
        "colab": {
          "base_uri": "https://localhost:8080/",
          "height": 206
        },
        "id": "ztrnFkvyLsMy",
        "outputId": "722167f9-d39c-4df6-d164-f55dfc320dfb"
      },
      "execution_count": null,
      "outputs": [
        {
          "output_type": "execute_result",
          "data": {
            "text/html": [
              "<div>\n",
              "<style scoped>\n",
              "    .dataframe tbody tr th:only-of-type {\n",
              "        vertical-align: middle;\n",
              "    }\n",
              "\n",
              "    .dataframe tbody tr th {\n",
              "        vertical-align: top;\n",
              "    }\n",
              "\n",
              "    .dataframe thead th {\n",
              "        text-align: right;\n",
              "    }\n",
              "</style>\n",
              "<table border=\"1\" class=\"dataframe\">\n",
              "  <thead>\n",
              "    <tr style=\"text-align: right;\">\n",
              "      <th></th>\n",
              "      <th>Unnamed: 0</th>\n",
              "      <th>crl.tot</th>\n",
              "      <th>dollar</th>\n",
              "      <th>bang</th>\n",
              "      <th>money</th>\n",
              "      <th>n000</th>\n",
              "      <th>make</th>\n",
              "      <th>spam</th>\n",
              "    </tr>\n",
              "  </thead>\n",
              "  <tbody>\n",
              "    <tr>\n",
              "      <th>0</th>\n",
              "      <td>1</td>\n",
              "      <td>278</td>\n",
              "      <td>0.000</td>\n",
              "      <td>0.778</td>\n",
              "      <td>0.00</td>\n",
              "      <td>0.00</td>\n",
              "      <td>0.00</td>\n",
              "      <td>1</td>\n",
              "    </tr>\n",
              "    <tr>\n",
              "      <th>1</th>\n",
              "      <td>2</td>\n",
              "      <td>1028</td>\n",
              "      <td>0.180</td>\n",
              "      <td>0.372</td>\n",
              "      <td>0.43</td>\n",
              "      <td>0.43</td>\n",
              "      <td>0.21</td>\n",
              "      <td>1</td>\n",
              "    </tr>\n",
              "    <tr>\n",
              "      <th>2</th>\n",
              "      <td>3</td>\n",
              "      <td>2259</td>\n",
              "      <td>0.184</td>\n",
              "      <td>0.276</td>\n",
              "      <td>0.06</td>\n",
              "      <td>1.16</td>\n",
              "      <td>0.06</td>\n",
              "      <td>1</td>\n",
              "    </tr>\n",
              "    <tr>\n",
              "      <th>3</th>\n",
              "      <td>4</td>\n",
              "      <td>191</td>\n",
              "      <td>0.000</td>\n",
              "      <td>0.137</td>\n",
              "      <td>0.00</td>\n",
              "      <td>0.00</td>\n",
              "      <td>0.00</td>\n",
              "      <td>1</td>\n",
              "    </tr>\n",
              "    <tr>\n",
              "      <th>4</th>\n",
              "      <td>5</td>\n",
              "      <td>191</td>\n",
              "      <td>0.000</td>\n",
              "      <td>0.135</td>\n",
              "      <td>0.00</td>\n",
              "      <td>0.00</td>\n",
              "      <td>0.00</td>\n",
              "      <td>1</td>\n",
              "    </tr>\n",
              "  </tbody>\n",
              "</table>\n",
              "</div>"
            ],
            "text/plain": [
              "   Unnamed: 0  crl.tot  dollar   bang  money  n000  make  spam\n",
              "0           1      278   0.000  0.778   0.00  0.00  0.00     1\n",
              "1           2     1028   0.180  0.372   0.43  0.43  0.21     1\n",
              "2           3     2259   0.184  0.276   0.06  1.16  0.06     1\n",
              "3           4      191   0.000  0.137   0.00  0.00  0.00     1\n",
              "4           5      191   0.000  0.135   0.00  0.00  0.00     1"
            ]
          },
          "metadata": {},
          "execution_count": 53
        }
      ]
    },
    {
      "cell_type": "code",
      "source": [
        "x.shape"
      ],
      "metadata": {
        "colab": {
          "base_uri": "https://localhost:8080/"
        },
        "id": "TBTdFpX6G02v",
        "outputId": "3ae62db9-dc55-41ba-e10b-773ac18648dc"
      },
      "execution_count": null,
      "outputs": [
        {
          "output_type": "execute_result",
          "data": {
            "text/plain": [
              "(4601, 6)"
            ]
          },
          "metadata": {},
          "execution_count": 54
        }
      ]
    },
    {
      "cell_type": "code",
      "source": [
        "n = x.shape[1]\n",
        "for i in range(n):\n",
        "    for j in range(i+1, n):\n",
        "        x[str(i) + '_' + str(j)] = x.iloc[:, i] * x.iloc[:, j] \n",
        "\n",
        "print(x.shape)\n",
        "x.head()"
      ],
      "metadata": {
        "colab": {
          "base_uri": "https://localhost:8080/",
          "height": 244
        },
        "id": "LTQ3lOCiJPVl",
        "outputId": "7bab2e89-7401-4882-dc1a-320fad713e12"
      },
      "execution_count": null,
      "outputs": [
        {
          "output_type": "stream",
          "name": "stdout",
          "text": [
            "(4601, 21)\n"
          ]
        },
        {
          "output_type": "execute_result",
          "data": {
            "text/html": [
              "<div>\n",
              "<style scoped>\n",
              "    .dataframe tbody tr th:only-of-type {\n",
              "        vertical-align: middle;\n",
              "    }\n",
              "\n",
              "    .dataframe tbody tr th {\n",
              "        vertical-align: top;\n",
              "    }\n",
              "\n",
              "    .dataframe thead th {\n",
              "        text-align: right;\n",
              "    }\n",
              "</style>\n",
              "<table border=\"1\" class=\"dataframe\">\n",
              "  <thead>\n",
              "    <tr style=\"text-align: right;\">\n",
              "      <th></th>\n",
              "      <th>crl.tot</th>\n",
              "      <th>dollar</th>\n",
              "      <th>bang</th>\n",
              "      <th>money</th>\n",
              "      <th>n000</th>\n",
              "      <th>make</th>\n",
              "      <th>0_1</th>\n",
              "      <th>0_2</th>\n",
              "      <th>0_3</th>\n",
              "      <th>0_4</th>\n",
              "      <th>0_5</th>\n",
              "      <th>1_2</th>\n",
              "      <th>1_3</th>\n",
              "      <th>1_4</th>\n",
              "      <th>1_5</th>\n",
              "      <th>2_3</th>\n",
              "      <th>2_4</th>\n",
              "      <th>2_5</th>\n",
              "      <th>3_4</th>\n",
              "      <th>3_5</th>\n",
              "      <th>4_5</th>\n",
              "    </tr>\n",
              "  </thead>\n",
              "  <tbody>\n",
              "    <tr>\n",
              "      <th>0</th>\n",
              "      <td>278</td>\n",
              "      <td>0.000</td>\n",
              "      <td>0.778</td>\n",
              "      <td>0.00</td>\n",
              "      <td>0.00</td>\n",
              "      <td>0.00</td>\n",
              "      <td>0.000</td>\n",
              "      <td>216.284</td>\n",
              "      <td>0.00</td>\n",
              "      <td>0.00</td>\n",
              "      <td>0.00</td>\n",
              "      <td>0.000000</td>\n",
              "      <td>0.00000</td>\n",
              "      <td>0.00000</td>\n",
              "      <td>0.00000</td>\n",
              "      <td>0.00000</td>\n",
              "      <td>0.00000</td>\n",
              "      <td>0.00000</td>\n",
              "      <td>0.0000</td>\n",
              "      <td>0.0000</td>\n",
              "      <td>0.0000</td>\n",
              "    </tr>\n",
              "    <tr>\n",
              "      <th>1</th>\n",
              "      <td>1028</td>\n",
              "      <td>0.180</td>\n",
              "      <td>0.372</td>\n",
              "      <td>0.43</td>\n",
              "      <td>0.43</td>\n",
              "      <td>0.21</td>\n",
              "      <td>185.040</td>\n",
              "      <td>382.416</td>\n",
              "      <td>442.04</td>\n",
              "      <td>442.04</td>\n",
              "      <td>215.88</td>\n",
              "      <td>0.066960</td>\n",
              "      <td>0.07740</td>\n",
              "      <td>0.07740</td>\n",
              "      <td>0.03780</td>\n",
              "      <td>0.15996</td>\n",
              "      <td>0.15996</td>\n",
              "      <td>0.07812</td>\n",
              "      <td>0.1849</td>\n",
              "      <td>0.0903</td>\n",
              "      <td>0.0903</td>\n",
              "    </tr>\n",
              "    <tr>\n",
              "      <th>2</th>\n",
              "      <td>2259</td>\n",
              "      <td>0.184</td>\n",
              "      <td>0.276</td>\n",
              "      <td>0.06</td>\n",
              "      <td>1.16</td>\n",
              "      <td>0.06</td>\n",
              "      <td>415.656</td>\n",
              "      <td>623.484</td>\n",
              "      <td>135.54</td>\n",
              "      <td>2620.44</td>\n",
              "      <td>135.54</td>\n",
              "      <td>0.050784</td>\n",
              "      <td>0.01104</td>\n",
              "      <td>0.21344</td>\n",
              "      <td>0.01104</td>\n",
              "      <td>0.01656</td>\n",
              "      <td>0.32016</td>\n",
              "      <td>0.01656</td>\n",
              "      <td>0.0696</td>\n",
              "      <td>0.0036</td>\n",
              "      <td>0.0696</td>\n",
              "    </tr>\n",
              "    <tr>\n",
              "      <th>3</th>\n",
              "      <td>191</td>\n",
              "      <td>0.000</td>\n",
              "      <td>0.137</td>\n",
              "      <td>0.00</td>\n",
              "      <td>0.00</td>\n",
              "      <td>0.00</td>\n",
              "      <td>0.000</td>\n",
              "      <td>26.167</td>\n",
              "      <td>0.00</td>\n",
              "      <td>0.00</td>\n",
              "      <td>0.00</td>\n",
              "      <td>0.000000</td>\n",
              "      <td>0.00000</td>\n",
              "      <td>0.00000</td>\n",
              "      <td>0.00000</td>\n",
              "      <td>0.00000</td>\n",
              "      <td>0.00000</td>\n",
              "      <td>0.00000</td>\n",
              "      <td>0.0000</td>\n",
              "      <td>0.0000</td>\n",
              "      <td>0.0000</td>\n",
              "    </tr>\n",
              "    <tr>\n",
              "      <th>4</th>\n",
              "      <td>191</td>\n",
              "      <td>0.000</td>\n",
              "      <td>0.135</td>\n",
              "      <td>0.00</td>\n",
              "      <td>0.00</td>\n",
              "      <td>0.00</td>\n",
              "      <td>0.000</td>\n",
              "      <td>25.785</td>\n",
              "      <td>0.00</td>\n",
              "      <td>0.00</td>\n",
              "      <td>0.00</td>\n",
              "      <td>0.000000</td>\n",
              "      <td>0.00000</td>\n",
              "      <td>0.00000</td>\n",
              "      <td>0.00000</td>\n",
              "      <td>0.00000</td>\n",
              "      <td>0.00000</td>\n",
              "      <td>0.00000</td>\n",
              "      <td>0.0000</td>\n",
              "      <td>0.0000</td>\n",
              "      <td>0.0000</td>\n",
              "    </tr>\n",
              "  </tbody>\n",
              "</table>\n",
              "</div>"
            ],
            "text/plain": [
              "   crl.tot  dollar   bang  money  ...      2_5     3_4     3_5     4_5\n",
              "0      278   0.000  0.778   0.00  ...  0.00000  0.0000  0.0000  0.0000\n",
              "1     1028   0.180  0.372   0.43  ...  0.07812  0.1849  0.0903  0.0903\n",
              "2     2259   0.184  0.276   0.06  ...  0.01656  0.0696  0.0036  0.0696\n",
              "3      191   0.000  0.137   0.00  ...  0.00000  0.0000  0.0000  0.0000\n",
              "4      191   0.000  0.135   0.00  ...  0.00000  0.0000  0.0000  0.0000\n",
              "\n",
              "[5 rows x 21 columns]"
            ]
          },
          "metadata": {},
          "execution_count": 55
        }
      ]
    },
    {
      "cell_type": "code",
      "source": [
        "# Задание 4.2\n",
        "\n",
        "# Разделим получившиеся данные на обучающую и тестовую выборки в соотношении 80:20. \n",
        "# Обучите модель GradientBoostingClassifier (из библиотеки sklearn), используя параметры \n",
        "# «по умолчанию» (на момент создания урока это learning_rate=0.1, n_estimators=100,\n",
        "# max_depth=3, min_samples_split=2, min_samples_leaf=1, subsample=1, max_features=None).\n",
        "\n",
        "# Во всех методах, где присутствует случайность, укажите random_state=42.\n",
        "\n",
        "# Это будет наш baseline. Укажите точность на тестовой выборке (параметр score), округлив \n",
        "# до третьего знака\n",
        "\n",
        "from sklearn.model_selection import train_test_split\n",
        "from sklearn.ensemble import GradientBoostingClassifier"
      ],
      "metadata": {
        "id": "PIb9IIp3L4Em"
      },
      "execution_count": null,
      "outputs": []
    },
    {
      "cell_type": "code",
      "source": [
        "RAND_SEED = 42\n",
        "X_train, X_test, y_train, y_test = train_test_split(\n",
        "    x, y, test_size=0.20, random_state=RAND_SEED)"
      ],
      "metadata": {
        "id": "zdyNBnOYQOaH"
      },
      "execution_count": null,
      "outputs": []
    },
    {
      "cell_type": "code",
      "source": [
        "clf = GradientBoostingClassifier(\n",
        "    learning_rate=0.1,\n",
        "    n_estimators=100,\n",
        "    max_depth=3,\n",
        "    min_samples_split=2,\n",
        "    min_samples_leaf=1,\n",
        "    subsample=1,\n",
        "    max_features=None,\n",
        "    random_state=RAND_SEED\n",
        "    ).fit(X_train, y_train)"
      ],
      "metadata": {
        "id": "mYpt5GjnQZmF"
      },
      "execution_count": null,
      "outputs": []
    },
    {
      "cell_type": "code",
      "source": [
        "print(round(clf.score(X_test, y_test), 3))"
      ],
      "metadata": {
        "colab": {
          "base_uri": "https://localhost:8080/"
        },
        "id": "11HoyZkhRIah",
        "outputId": "4a8c6286-4807-46e9-d37e-ae4ea6686984"
      },
      "execution_count": null,
      "outputs": [
        {
          "output_type": "stream",
          "name": "stdout",
          "text": [
            "0.865\n"
          ]
        }
      ]
    },
    {
      "cell_type": "code",
      "source": [
        "# Задание 4.3\n",
        "\n",
        "# Воспользуйтесь методом feature_importances_. \n",
        "# С его помощью можно оценить вклад каждого признака в обучение модели. Постройте столбчатую \n",
        "# диаграмму так, чтобы по горизонтали были указаны названия признаков, а по вертикали их важность. \n",
        "# В ответе укажите третий по важности признак (без кавычек и пробелов)."
      ],
      "metadata": {
        "id": "L65gN4ZwTSzE"
      },
      "execution_count": null,
      "outputs": []
    },
    {
      "cell_type": "code",
      "source": [
        "clf.feature_importances_"
      ],
      "metadata": {
        "colab": {
          "base_uri": "https://localhost:8080/"
        },
        "id": "gdHJwDI9Re2G",
        "outputId": "8abc7a5e-6cea-49c2-f2b8-bc17ce59e822"
      },
      "execution_count": null,
      "outputs": [
        {
          "output_type": "execute_result",
          "data": {
            "text/plain": [
              "array([0.02971594, 0.1407699 , 0.04257207, 0.0060902 , 0.02477733,\n",
              "       0.00116643, 0.00867922, 0.61487739, 0.04024476, 0.00136582,\n",
              "       0.00653882, 0.06056658, 0.00722154, 0.003422  , 0.00169411,\n",
              "       0.00646902, 0.00117577, 0.00196527, 0.00002655, 0.        ,\n",
              "       0.0006613 ])"
            ]
          },
          "metadata": {},
          "execution_count": 65
        }
      ]
    },
    {
      "cell_type": "code",
      "source": [
        "fig, ax = plt.subplots(figsize = (10,4))\n",
        "idx = np.asarray([i for i in range(len(clf.feature_importances_))])\n",
        "ax.set_xticks(idx)\n",
        "ax.bar(range(len(clf.feature_importances_)), clf.feature_importances_)\n",
        "ax.set_xticklabels(X_train.columns, rotation=90)\n",
        "\n",
        "plt.show()"
      ],
      "metadata": {
        "colab": {
          "base_uri": "https://localhost:8080/",
          "height": 288
        },
        "id": "lCDv4k1OS_aA",
        "outputId": "9dc309a7-b40d-4b4f-a392-42b707eda30d"
      },
      "execution_count": null,
      "outputs": [
        {
          "output_type": "display_data",
          "data": {
            "image/png": "[encoded data removed]",
            "text/plain": [
              "<Figure size 720x288 with 1 Axes>"
            ]
          },
          "metadata": {
            "needs_background": "light"
          }
        }
      ]
    },
    {
      "cell_type": "code",
      "source": [
        "# Задание 4.4\n",
        "\n",
        "# Теперь перейдем к подбору параметров в модели. Для этого в библиотеке scikit-learn есть метод \n",
        "# GridSearchCV. Ему на вход подается модель, список параметров и способ оценивания. \n",
        "# При запуске метода fit модель обучается со всеми возможными комбинациями параметров, \n",
        "# лучшей комбинацией параметров становится та, при которой значение метрики максимально.\n",
        "\n",
        "# Укажите в качестве estimator градиетный бустинг с параметрами «по умолчанию» \n",
        "# и random_state=42. В параметре scoring укажите 'accuracy', n_jobs=-1, cv=5.\n",
        "\n",
        "# Сетку параметров задайте такой:\n",
        "\n",
        "# param_grid = {'learning_rate':[0.00001, 0.0001, 0.001, 0.01, 0.1, 1], \n",
        "#               'n_estimators':[100, 250, 500, 750, 1000, 1250, 1500, 1750]}\n",
        "# В ответе укажите точность лучшей комбинации параметров, округленную до трёх знаков"
      ],
      "metadata": {
        "id": "1EB5UQgSVhEA"
      },
      "execution_count": null,
      "outputs": []
    },
    {
      "cell_type": "code",
      "source": [
        "from sklearn.model_selection import GridSearchCV\n",
        "\n",
        "param_grid = {\n",
        "    'learning_rate': [0.00001, 0.0001, 0.001, 0.01, 0.1, 1],\n",
        "    'n_estimators': [100, 250, 500, 750, 1000, 1250, 1500, 1750]\n",
        "    }\n",
        "clf = GradientBoostingClassifier(random_state=RAND_SEED)\n",
        "\n",
        "gscv = GridSearchCV(\n",
        "    clf,\n",
        "    param_grid=param_grid,\n",
        "    scoring='accuracy',\n",
        "    n_jobs=-1,\n",
        "    cv=5).fit(X_train, y_train)"
      ],
      "metadata": {
        "id": "qf1WSnORYRw4"
      },
      "execution_count": null,
      "outputs": []
    },
    {
      "cell_type": "code",
      "source": [
        "round(gscv.score(X_test, y_test), 3)\n",
        "# не подошло"
      ],
      "metadata": {
        "colab": {
          "base_uri": "https://localhost:8080/"
        },
        "id": "Iewmquh9ZpX5",
        "outputId": "391e11c2-897f-4a21-b28a-11297b9c43d3"
      },
      "execution_count": null,
      "outputs": [
        {
          "output_type": "execute_result",
          "data": {
            "text/plain": [
              "0.864"
            ]
          },
          "metadata": {},
          "execution_count": 92
        }
      ]
    },
    {
      "cell_type": "code",
      "source": [
        "# Задание 4.5\n",
        "\n",
        "# Подбор параметров — незаменимый инструмент при настройке моделей. Однако, если данных очень \n",
        "# много, а модель сложная, то иногда имеет смысл ограничить количество параметров, которые \n",
        "# вы хотите перебрать. Если модель с одним набором параметров обучается 30 минут, а вы хотите \n",
        "# перебрать 10 таких наборов, то стоит приготовиться к пятичасовому ожиданию. Также стоит \n",
        "# учитывать, что размер некоторых параметров влияет на время, потраченное на обучение моделей. \n",
        "# Например, менее глубокие деревья учатся быстрее, чем более глубокие.\n",
        "\n",
        "# При использовании GridSearchCV перебираются все возможные способы комбинации параметров. \n",
        "# Сколько разных моделей (моделей градиентного бустинга с разными наборами параметров) \n",
        "# обучилось в прошлом задании?"
      ],
      "metadata": {
        "id": "ZGOdjAOqemJ6"
      },
      "execution_count": null,
      "outputs": []
    },
    {
      "cell_type": "code",
      "source": [
        "# Задание 4.6\n",
        "\n",
        "# Теперь воспользуемся GridSearchCV для подбора максимальной глубины (max_depth). \n",
        "# В качестве estimator используйте градиентный бустинг с ранее подобранными параметрами \n",
        "# и random_state=42. Переберите все значения max_depth от 5 до 15 включительно. \n",
        "# В ответ запишите значение параметра, при котором точность максимальна.\n",
        "\n",
        "param_grid = {'max_depth': [i for i in range(5, 16)]}\n",
        "\n",
        "gscv = GridSearchCV(\n",
        "    clf,\n",
        "    param_grid=param_grid,\n",
        "    scoring='accuracy',\n",
        "    n_jobs=-1,\n",
        "    cv=5).fit(X_train, y_train)"
      ],
      "metadata": {
        "id": "XenHhQVtgUC8"
      },
      "execution_count": null,
      "outputs": []
    },
    {
      "cell_type": "code",
      "source": [
        "gscv.best_params_"
      ],
      "metadata": {
        "colab": {
          "base_uri": "https://localhost:8080/"
        },
        "id": "dFBo1J21hFYP",
        "outputId": "5242e013-2c8e-4b0b-f838-6e9b4d8be3d5"
      },
      "execution_count": null,
      "outputs": [
        {
          "output_type": "execute_result",
          "data": {
            "text/plain": [
              "{'max_depth': 5}"
            ]
          },
          "metadata": {},
          "execution_count": 102
        }
      ]
    },
    {
      "cell_type": "code",
      "source": [
        "def AdaBoost_scratch(X,y, M=10, learning_rate =1):\n",
        "\t# инициалиазция служебных переменных\n",
        "\tN = len(y)\n",
        "\testimator_list, y_predict_list, estimator_error_list, estimator_weight_list, sample_weight_list = [], [],[],[],[]\n",
        "\t\n",
        "\t# инициализация весов\n",
        "\tsample_weight = np.ones(N) / N\n",
        "\tsample_weight_list.append(sample_weight.copy())\n",
        "\t\n",
        "\t# цикл по длине М\n",
        "\tfor m in range(M):\n",
        "\n",
        "\t\t# обучим базовую модель и получим предсказание\n",
        "\t\testimator = DecisionTreeClassifier(max_depth = 1, max_leaf_nodes=2)\n",
        "\t\testimator.fit(X, y, sample_weight=sample_weight)\n",
        "\t\ty_predict = estimator.predict(X)\n",
        "\t\t\n",
        "\t\t# Маска для ошибок классификации\n",
        "\t\tincorrect = (y_predict != y)\n",
        "\t\t\n",
        "\t\t# Оцениваем ошибку\n",
        "\t\t#estimator_error = TODO \n",
        "\t\t\n",
        "\t\t# Вычисляем вес нового алгоритма\n",
        "\t\t#estimator_weight =  TODO\n",
        "\t\n",
        "\t\tsample_weight *= np.exp(estimator_weight * incorrect * > 0) | (estimator_weight < 0)\n",
        "\n",
        "\t\t# Сохраяем результаты данной итерации\n",
        "\t\testimator_list.append(estimator)\n",
        "\t\ty_predict_list.append(y_predict.copy())\n",
        "\t\testimator_error_list.append(estimator_error.copy())\n",
        "\t\testimator_weight_list.append(estimator_weight.copy())\n",
        "\t\tsample_weight_list.append(sample_weight.copy())\n",
        "\n",
        "\t# Для удобства переведем в numpy.array\n",
        "\testimator_list = np.asarray(estimator_list)\n",
        "\ty_predict_list = np.asarray(y_predict_list)\n",
        "\testimator_error_list = np.asarray(estimator_error_list)\n",
        "\testimator_weight_list = np.asarray(estimator_weight_list)\n",
        "\tsample_weight_list = np.asarray(sample_weight_list)\n",
        "\n",
        "\t# Получим предсказания\n",
        "\t\n",
        "\tpreds = (np.array([np.sign((y_predict_list[:,point] * estimator_weight_list).sum()) for point in range(N)]))\n",
        "\tprint('Accuracy = ', accuracy_score(preds, y))\n",
        "\n",
        "\treturn estimator_list, estimator_weight_list, sample_weight_list\n",
        "y = y.replace({0:-1})\n",
        "estimator_list, estimator_weight_list, sample_weight_list = AdaBoost_scratch(X_new, y, M=10, learning_rate=0.001)"
      ],
      "metadata": {
        "id": "lLBLnGkFhh1W"
      },
      "execution_count": null,
      "outputs": []
    },
    {
      "cell_type": "code",
      "source": [
        ""
      ],
      "metadata": {
        "id": "0fep2hkmkbxu"
      },
      "execution_count": null,
      "outputs": []
    }
  ]
}