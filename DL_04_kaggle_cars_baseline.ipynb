{
 "cells": [
  {
   "cell_type": "code",
   "execution_count": 1,
   "id": "7e88715d",
   "metadata": {
    "_cell_guid": "b1076dfc-b9ad-4769-8c92-a6c4dae69d19",
    "_uuid": "8f2839f25d086af736a60e9eeb907d3b93b6e0e5",
    "execution": {
     "iopub.execute_input": "2022-04-15T14:17:28.133717Z",
     "iopub.status.busy": "2022-04-15T14:17:28.133336Z",
     "iopub.status.idle": "2022-04-15T14:17:33.470768Z",
     "shell.execute_reply": "2022-04-15T14:17:33.470033Z"
    },
    "papermill": {
     "duration": 5.354228,
     "end_time": "2022-04-15T14:17:33.472872",
     "exception": false,
     "start_time": "2022-04-15T14:17:28.118644",
     "status": "completed"
    },
    "tags": []
   },
   "outputs": [],
   "source": [
    "import tensorflow as tf\n",
    "from keras.models import Sequential\n",
    "from keras.utils.np_utils import to_categorical\n",
    "from keras.layers import Conv2D, Dense, Flatten\n",
    "from keras.layers import GlobalAveragePooling2D, Dropout\n",
    "from keras.layers import BatchNormalization, ReLU, LeakyReLU\n",
    "from keras.applications.resnet_v2 import ResNet50V2\n",
    "from keras import callbacks\n",
    "from keras import optimizers, regularizers\n",
    "from keras import initializers\n",
    "from keras.preprocessing.image import ImageDataGenerator\n",
    "from keras.backend import clear_session\n",
    "\n",
    "import os, shutil\n",
    "import numpy as np\n",
    "import pandas as pd\n",
    "\n",
    "import matplotlib.pyplot as plt\n",
    "import seaborn as sns\n",
    "\n",
    "plt.style.use('ggplot')"
   ]
  },
  {
   "cell_type": "code",
   "execution_count": 2,
   "id": "5610c8b0",
   "metadata": {
    "execution": {
     "iopub.execute_input": "2022-04-15T14:17:33.498458Z",
     "iopub.status.busy": "2022-04-15T14:17:33.498236Z",
     "iopub.status.idle": "2022-04-15T14:17:33.503113Z",
     "shell.execute_reply": "2022-04-15T14:17:33.502320Z"
    },
    "papermill": {
     "duration": 0.019704,
     "end_time": "2022-04-15T14:17:33.504952",
     "exception": false,
     "start_time": "2022-04-15T14:17:33.485248",
     "status": "completed"
    },
    "tags": []
   },
   "outputs": [],
   "source": [
    "DATA_DIR = '../input/mds-misis-dl-car-classificationn/'\n",
    "TRAIN_DATA_DIR = os.path.join(DATA_DIR, 'train/train')\n",
    "TEST_DATA_DIR = os.path.join(DATA_DIR, 'test/test_upload')\n",
    "PATH = 'models/'\n",
    "\n",
    "IMAGE_SIZE = [250, 250]\n",
    "IMAGE_CHANEL = [3]\n",
    "INPUT_SHAPE = IMAGE_SIZE + IMAGE_CHANEL\n",
    "CLASS_NUM = 10\n",
    "RANDOM_SEED = 111\n",
    "VALIDATION_SPLIT = 0.2\n",
    "BATCH_SIZE = 32"
   ]
  },
  {
   "cell_type": "code",
   "execution_count": 3,
   "id": "259a8acb",
   "metadata": {
    "execution": {
     "iopub.execute_input": "2022-04-15T14:17:33.529327Z",
     "iopub.status.busy": "2022-04-15T14:17:33.529146Z",
     "iopub.status.idle": "2022-04-15T14:17:33.563351Z",
     "shell.execute_reply": "2022-04-15T14:17:33.562748Z"
    },
    "papermill": {
     "duration": 0.048364,
     "end_time": "2022-04-15T14:17:33.565121",
     "exception": false,
     "start_time": "2022-04-15T14:17:33.516757",
     "status": "completed"
    },
    "tags": []
   },
   "outputs": [],
   "source": [
    "train_data = pd.read_csv(DATA_DIR + 'train.csv')\n",
    "submission = pd.read_csv(os.path.join(DATA_DIR, 'sample-submission.csv'))"
   ]
  },
  {
   "cell_type": "code",
   "execution_count": 4,
   "id": "b115d679",
   "metadata": {
    "execution": {
     "iopub.execute_input": "2022-04-15T14:17:33.590046Z",
     "iopub.status.busy": "2022-04-15T14:17:33.589530Z",
     "iopub.status.idle": "2022-04-15T14:17:33.595368Z",
     "shell.execute_reply": "2022-04-15T14:17:33.594766Z"
    },
    "papermill": {
     "duration": 0.020158,
     "end_time": "2022-04-15T14:17:33.597029",
     "exception": false,
     "start_time": "2022-04-15T14:17:33.576871",
     "status": "completed"
    },
    "tags": []
   },
   "outputs": [],
   "source": [
    "train_datagen = ImageDataGenerator( \n",
    "    rotation_range=30, \n",
    "    width_shift_range=0.1, \n",
    "    height_shift_range=0.1, #\n",
    "    brightness_range=[0.8, 1.3], \n",
    "    zoom_range=0.2,\n",
    "    horizontal_flip=True,\n",
    "    vertical_flip=False,\n",
    "    rescale=1/255,\n",
    "    preprocessing_function=None, \n",
    "    validation_split=VALIDATION_SPLIT,\n",
    ")\n",
    "\n",
    "test_datagen = ImageDataGenerator(rescale=1/255)"
   ]
  },
  {
   "cell_type": "code",
   "execution_count": 5,
   "id": "f9806805",
   "metadata": {
    "execution": {
     "iopub.execute_input": "2022-04-15T14:17:33.621599Z",
     "iopub.status.busy": "2022-04-15T14:17:33.621093Z",
     "iopub.status.idle": "2022-04-15T14:18:02.927892Z",
     "shell.execute_reply": "2022-04-15T14:18:02.927131Z"
    },
    "papermill": {
     "duration": 29.32099,
     "end_time": "2022-04-15T14:18:02.929649",
     "exception": false,
     "start_time": "2022-04-15T14:17:33.608659",
     "status": "completed"
    },
    "tags": []
   },
   "outputs": [
    {
     "name": "stdout",
     "output_type": "stream",
     "text": [
      "Found 12452 images belonging to 10 classes.\n",
      "Found 3109 images belonging to 10 classes.\n",
      "Found 6675 validated image filenames.\n"
     ]
    }
   ],
   "source": [
    "train = train_datagen.flow_from_directory(\n",
    "    directory=TRAIN_DATA_DIR, # путь до директории\n",
    "    shuffle=True, #перемешивать ли данные\n",
    "    target_size=IMAGE_SIZE, #целевой размер изображений на выходе генератора\n",
    "    batch_size=BATCH_SIZE, #размер батча\n",
    "    seed=RANDOM_SEED, #зерно датчика случайных чисел\n",
    "    class_mode='categorical', #какого типа классы изображений\n",
    "    subset='training' #указываем, что выборка тренировочная\n",
    ")\n",
    "\n",
    "val = train_datagen.flow_from_directory(\n",
    "    directory=TRAIN_DATA_DIR,\n",
    "    target_size=IMAGE_SIZE,\n",
    "    batch_size=BATCH_SIZE,\n",
    "    shuffle=True, \n",
    "    seed=RANDOM_SEED,\n",
    "    class_mode='categorical', \n",
    "    subset='validation' #указываем, что выборка валидационная\n",
    ")\n",
    "\n",
    "test= test_datagen.flow_from_dataframe(\n",
    "    dataframe=submission,\n",
    "    directory=TEST_DATA_DIR,\n",
    "    x_col=\"Id\",\n",
    "    y_col=None,\n",
    "    shuffle=False,\n",
    "    class_mode=None,\n",
    "    seed=RANDOM_SEED,\n",
    "    target_size=IMAGE_SIZE,\n",
    "    batch_size=BATCH_SIZE\n",
    ")"
   ]
  },
  {
   "cell_type": "code",
   "execution_count": 6,
   "id": "f44f7115",
   "metadata": {
    "execution": {
     "iopub.execute_input": "2022-04-15T14:18:02.957039Z",
     "iopub.status.busy": "2022-04-15T14:18:02.956555Z",
     "iopub.status.idle": "2022-04-15T14:18:07.953127Z",
     "shell.execute_reply": "2022-04-15T14:18:07.952383Z"
    },
    "papermill": {
     "duration": 5.012684,
     "end_time": "2022-04-15T14:18:07.955483",
     "exception": false,
     "start_time": "2022-04-15T14:18:02.942799",
     "status": "completed"
    },
    "tags": []
   },
   "outputs": [
    {
     "name": "stderr",
     "output_type": "stream",
     "text": [
      "2022-04-15 14:18:03.057479: I tensorflow/stream_executor/cuda/cuda_gpu_executor.cc:937] successful NUMA node read from SysFS had negative value (-1), but there must be at least one NUMA node, so returning NUMA node zero\n",
      "2022-04-15 14:18:03.176400: I tensorflow/stream_executor/cuda/cuda_gpu_executor.cc:937] successful NUMA node read from SysFS had negative value (-1), but there must be at least one NUMA node, so returning NUMA node zero\n",
      "2022-04-15 14:18:03.177132: I tensorflow/stream_executor/cuda/cuda_gpu_executor.cc:937] successful NUMA node read from SysFS had negative value (-1), but there must be at least one NUMA node, so returning NUMA node zero\n",
      "2022-04-15 14:18:03.178210: I tensorflow/core/platform/cpu_feature_guard.cc:142] This TensorFlow binary is optimized with oneAPI Deep Neural Network Library (oneDNN) to use the following CPU instructions in performance-critical operations:  AVX2 AVX512F FMA\n",
      "To enable them in other operations, rebuild TensorFlow with the appropriate compiler flags.\n",
      "2022-04-15 14:18:03.178475: I tensorflow/stream_executor/cuda/cuda_gpu_executor.cc:937] successful NUMA node read from SysFS had negative value (-1), but there must be at least one NUMA node, so returning NUMA node zero\n",
      "2022-04-15 14:18:03.179122: I tensorflow/stream_executor/cuda/cuda_gpu_executor.cc:937] successful NUMA node read from SysFS had negative value (-1), but there must be at least one NUMA node, so returning NUMA node zero\n",
      "2022-04-15 14:18:03.179819: I tensorflow/stream_executor/cuda/cuda_gpu_executor.cc:937] successful NUMA node read from SysFS had negative value (-1), but there must be at least one NUMA node, so returning NUMA node zero\n",
      "2022-04-15 14:18:04.966200: I tensorflow/stream_executor/cuda/cuda_gpu_executor.cc:937] successful NUMA node read from SysFS had negative value (-1), but there must be at least one NUMA node, so returning NUMA node zero\n",
      "2022-04-15 14:18:04.967031: I tensorflow/stream_executor/cuda/cuda_gpu_executor.cc:937] successful NUMA node read from SysFS had negative value (-1), but there must be at least one NUMA node, so returning NUMA node zero\n",
      "2022-04-15 14:18:04.967710: I tensorflow/stream_executor/cuda/cuda_gpu_executor.cc:937] successful NUMA node read from SysFS had negative value (-1), but there must be at least one NUMA node, so returning NUMA node zero\n",
      "2022-04-15 14:18:04.968977: I tensorflow/core/common_runtime/gpu/gpu_device.cc:1510] Created device /job:localhost/replica:0/task:0/device:GPU:0 with 15403 MB memory:  -> device: 0, name: Tesla P100-PCIE-16GB, pci bus id: 0000:00:04.0, compute capability: 6.0\n"
     ]
    },
    {
     "name": "stdout",
     "output_type": "stream",
     "text": [
      "Downloading data from https://storage.googleapis.com/tensorflow/keras-applications/resnet/resnet50v2_weights_tf_dim_ordering_tf_kernels_notop.h5\n",
      "94674944/94668760 [==============================] - 1s 0us/step\n",
      "94683136/94668760 [==============================] - 1s 0us/step\n"
     ]
    }
   ],
   "source": [
    "base_model = ResNet50V2(\n",
    "    weights='imagenet',\n",
    "    input_shape=INPUT_SHAPE,\n",
    "    include_top=False\n",
    "    )"
   ]
  },
  {
   "cell_type": "code",
   "execution_count": 7,
   "id": "54260a17",
   "metadata": {
    "execution": {
     "iopub.execute_input": "2022-04-15T14:18:08.001894Z",
     "iopub.status.busy": "2022-04-15T14:18:08.001680Z",
     "iopub.status.idle": "2022-04-15T14:18:08.422368Z",
     "shell.execute_reply": "2022-04-15T14:18:08.420073Z"
    },
    "papermill": {
     "duration": 0.445808,
     "end_time": "2022-04-15T14:18:08.424131",
     "exception": false,
     "start_time": "2022-04-15T14:18:07.978323",
     "status": "completed"
    },
    "tags": []
   },
   "outputs": [
    {
     "name": "stdout",
     "output_type": "stream",
     "text": [
      "Model: \"sequential\"\n",
      "_________________________________________________________________\n",
      "Layer (type)                 Output Shape              Param #   \n",
      "=================================================================\n",
      "resnet50v2 (Functional)      (None, 8, 8, 2048)        23564800  \n",
      "_________________________________________________________________\n",
      "conv2d (Conv2D)              (None, 8, 8, 512)         9437696   \n",
      "_________________________________________________________________\n",
      "batch_normalization (BatchNo (None, 8, 8, 512)         2048      \n",
      "_________________________________________________________________\n",
      "re_lu (ReLU)                 (None, 8, 8, 512)         0         \n",
      "_________________________________________________________________\n",
      "global_average_pooling2d (Gl (None, 512)               0         \n",
      "_________________________________________________________________\n",
      "flatten (Flatten)            (None, 512)               0         \n",
      "_________________________________________________________________\n",
      "dense (Dense)                (None, 512)               262656    \n",
      "_________________________________________________________________\n",
      "batch_normalization_1 (Batch (None, 512)               2048      \n",
      "_________________________________________________________________\n",
      "leaky_re_lu (LeakyReLU)      (None, 512)               0         \n",
      "_________________________________________________________________\n",
      "dropout (Dropout)            (None, 512)               0         \n",
      "_________________________________________________________________\n",
      "dense_1 (Dense)              (None, 256)               131328    \n",
      "_________________________________________________________________\n",
      "batch_normalization_2 (Batch (None, 256)               1024      \n",
      "_________________________________________________________________\n",
      "leaky_re_lu_1 (LeakyReLU)    (None, 256)               0         \n",
      "_________________________________________________________________\n",
      "dropout_1 (Dropout)          (None, 256)               0         \n",
      "_________________________________________________________________\n",
      "dense_2 (Dense)              (None, 10)                2570      \n",
      "=================================================================\n",
      "Total params: 33,404,170\n",
      "Trainable params: 33,356,170\n",
      "Non-trainable params: 48,000\n",
      "_________________________________________________________________\n"
     ]
    }
   ],
   "source": [
    "model = Sequential([\n",
    "    base_model,\n",
    "    Conv2D(512, (3, 3), padding='same'),\n",
    "    BatchNormalization(),\n",
    "    ReLU(),\n",
    "    GlobalAveragePooling2D(),\n",
    "    Flatten(),\n",
    "    Dense(512, activation=None, kernel_regularizer=regularizers.l2(l2=0.001)),\n",
    "    BatchNormalization(),\n",
    "    LeakyReLU(0.1),\n",
    "    Dropout(0.2),\n",
    "    Dense(256, activation=None, kernel_regularizer=regularizers.l2(l2=0.001),),\n",
    "    BatchNormalization(),\n",
    "    LeakyReLU(0.1),\n",
    "    Dropout(0.2),\n",
    "    Dense(CLASS_NUM, activation='softmax')\n",
    "])\n",
    "\n",
    "model.summary()"
   ]
  },
  {
   "cell_type": "code",
   "execution_count": 8,
   "id": "e1fa4f01",
   "metadata": {
    "execution": {
     "iopub.execute_input": "2022-04-15T14:18:08.471231Z",
     "iopub.status.busy": "2022-04-15T14:18:08.471005Z",
     "iopub.status.idle": "2022-04-15T14:18:08.486897Z",
     "shell.execute_reply": "2022-04-15T14:18:08.485770Z"
    },
    "papermill": {
     "duration": 0.042756,
     "end_time": "2022-04-15T14:18:08.488958",
     "exception": false,
     "start_time": "2022-04-15T14:18:08.446202",
     "status": "completed"
    },
    "tags": []
   },
   "outputs": [
    {
     "name": "stderr",
     "output_type": "stream",
     "text": [
      "/opt/conda/lib/python3.7/site-packages/keras/optimizer_v2/optimizer_v2.py:356: UserWarning: The `lr` argument is deprecated, use `learning_rate` instead.\n",
      "  \"The `lr` argument is deprecated, use `learning_rate` instead.\")\n"
     ]
    }
   ],
   "source": [
    "lr = 0.0001\n",
    "epochs = 5\n",
    "model.compile(loss = \"categorical_crossentropy\", optimizer = tf.keras.optimizers.Adam(lr=lr), metrics=['accuracy'])"
   ]
  },
  {
   "cell_type": "code",
   "execution_count": 9,
   "id": "242954eb",
   "metadata": {
    "execution": {
     "iopub.execute_input": "2022-04-15T14:18:08.534873Z",
     "iopub.status.busy": "2022-04-15T14:18:08.534685Z",
     "iopub.status.idle": "2022-04-15T14:47:00.005123Z",
     "shell.execute_reply": "2022-04-15T14:47:00.004339Z"
    },
    "papermill": {
     "duration": 1732.201653,
     "end_time": "2022-04-15T14:47:00.713435",
     "exception": false,
     "start_time": "2022-04-15T14:18:08.511782",
     "status": "completed"
    },
    "tags": []
   },
   "outputs": [
    {
     "name": "stderr",
     "output_type": "stream",
     "text": [
      "2022-04-15 14:18:09.361819: I tensorflow/compiler/mlir/mlir_graph_optimization_pass.cc:185] None of the MLIR Optimization Passes are enabled (registered 2)\n"
     ]
    },
    {
     "name": "stdout",
     "output_type": "stream",
     "text": [
      "Epoch 1/5\n"
     ]
    },
    {
     "name": "stderr",
     "output_type": "stream",
     "text": [
      "2022-04-15 14:18:16.046110: I tensorflow/stream_executor/cuda/cuda_dnn.cc:369] Loaded cuDNN version 8005\n"
     ]
    },
    {
     "name": "stdout",
     "output_type": "stream",
     "text": [
      "390/390 [==============================] - 407s 1s/step - loss: 1.8148 - accuracy: 0.6558 - val_loss: 1.3496 - val_accuracy: 0.8144\n",
      "Epoch 2/5\n",
      "390/390 [==============================] - 328s 840ms/step - loss: 1.2376 - accuracy: 0.8534 - val_loss: 1.3109 - val_accuracy: 0.8286\n",
      "Epoch 3/5\n",
      "390/390 [==============================] - 329s 842ms/step - loss: 1.0997 - accuracy: 0.8864 - val_loss: 1.0667 - val_accuracy: 0.8916\n",
      "Epoch 4/5\n",
      "390/390 [==============================] - 330s 846ms/step - loss: 1.0160 - accuracy: 0.9040 - val_loss: 1.2520 - val_accuracy: 0.8215\n",
      "Epoch 5/5\n",
      "390/390 [==============================] - 338s 865ms/step - loss: 0.9588 - accuracy: 0.9088 - val_loss: 1.0216 - val_accuracy: 0.8839\n"
     ]
    }
   ],
   "source": [
    "history = model.fit(train, validation_data = val, epochs = epochs, batch_size = BATCH_SIZE,)"
   ]
  },
  {
   "cell_type": "code",
   "execution_count": 10,
   "id": "0180e174",
   "metadata": {
    "execution": {
     "iopub.execute_input": "2022-04-15T14:47:02.156012Z",
     "iopub.status.busy": "2022-04-15T14:47:02.155321Z",
     "iopub.status.idle": "2022-04-15T14:47:02.539738Z",
     "shell.execute_reply": "2022-04-15T14:47:02.539049Z"
    },
    "papermill": {
     "duration": 1.038315,
     "end_time": "2022-04-15T14:47:02.541807",
     "exception": false,
     "start_time": "2022-04-15T14:47:01.503492",
     "status": "completed"
    },
    "tags": []
   },
   "outputs": [
    {
     "data": {
      "text/plain": [
       "<matplotlib.legend.Legend at 0x7f1ce05fd8d0>"
      ]
     },
     "execution_count": 10,
     "metadata": {},
     "output_type": "execute_result"
    },
    {
     "data": {
      "image/png": "[encoded data removed]",
      "text/plain": [
       "<Figure size 1008x432 with 2 Axes>"
      ]
     },
     "metadata": {},
     "output_type": "display_data"
    }
   ],
   "source": [
    "acc = history.history['accuracy']\n",
    "val_acc = history.history['val_accuracy']\n",
    "\n",
    "loss =  history.history['loss']\n",
    "val_loss = history.history['val_loss']\n",
    "\n",
    "epochs = range(1, len(loss) + 1)\n",
    "\n",
    "plt.figure(figsize=(14, 6))\n",
    "\n",
    "plt.subplot(1, 2, 1)\n",
    "plt.plot(epochs, acc, 'bo', label='Training accuracy')\n",
    "plt.plot(epochs, val_acc, 'b', label='Validation accuracy')\n",
    "plt.legend()\n",
    "\n",
    "plt.subplot(1, 2, 2)\n",
    "plt.plot(epochs, loss, 'bo', label='Training loss')\n",
    "plt.plot(epochs, val_loss, 'b', label='Validation loss')\n",
    "plt.legend()"
   ]
  },
  {
   "cell_type": "code",
   "execution_count": 11,
   "id": "3afcb586",
   "metadata": {
    "execution": {
     "iopub.execute_input": "2022-04-15T14:47:03.823730Z",
     "iopub.status.busy": "2022-04-15T14:47:03.823469Z",
     "iopub.status.idle": "2022-04-15T14:48:22.202585Z",
     "shell.execute_reply": "2022-04-15T14:48:22.201924Z"
    },
    "papermill": {
     "duration": 79.01593,
     "end_time": "2022-04-15T14:48:22.204312",
     "exception": false,
     "start_time": "2022-04-15T14:47:03.188382",
     "status": "completed"
    },
    "tags": []
   },
   "outputs": [
    {
     "name": "stdout",
     "output_type": "stream",
     "text": [
      "209/209 [==============================] - 78s 370ms/step\n"
     ]
    },
    {
     "data": {
      "text/plain": [
       "array([2, 6, 4, ..., 1, 3, 4])"
      ]
     },
     "execution_count": 11,
     "metadata": {},
     "output_type": "execute_result"
    }
   ],
   "source": [
    "predictions = model.predict(test, verbose=1) #предсказываем вероятности принадлежности классов для каждого изображения из test_ds\n",
    "predictions = np.argmax(predictions, axis=-1) #берем индекс наибольшего значения этих вероятностей\n",
    "predictions"
   ]
  },
  {
   "cell_type": "code",
   "execution_count": 12,
   "id": "f26fe194",
   "metadata": {
    "execution": {
     "iopub.execute_input": "2022-04-15T14:48:23.639628Z",
     "iopub.status.busy": "2022-04-15T14:48:23.639063Z",
     "iopub.status.idle": "2022-04-15T14:48:23.646148Z",
     "shell.execute_reply": "2022-04-15T14:48:23.645476Z"
    },
    "papermill": {
     "duration": 0.695837,
     "end_time": "2022-04-15T14:48:23.647966",
     "exception": false,
     "start_time": "2022-04-15T14:48:22.952129",
     "status": "completed"
    },
    "tags": []
   },
   "outputs": [],
   "source": [
    "label= dict((v,k) for k,v in train.class_indices.items()) #flip k,v\n",
    "predictions = [label[k] for k in predictions]"
   ]
  },
  {
   "cell_type": "code",
   "execution_count": 13,
   "id": "81abb6e9",
   "metadata": {
    "execution": {
     "iopub.execute_input": "2022-04-15T14:48:25.081998Z",
     "iopub.status.busy": "2022-04-15T14:48:25.081301Z",
     "iopub.status.idle": "2022-04-15T14:48:25.099870Z",
     "shell.execute_reply": "2022-04-15T14:48:25.099182Z"
    },
    "papermill": {
     "duration": 0.710418,
     "end_time": "2022-04-15T14:48:25.101706",
     "exception": false,
     "start_time": "2022-04-15T14:48:24.391288",
     "status": "completed"
    },
    "tags": []
   },
   "outputs": [],
   "source": [
    "submission = submission.copy()\n",
    "submission['Category'] = pd.Series(predictions)\n",
    "submission.to_csv('ResNet50V2_1.csv', index=False)"
   ]
  }
 ],
 "metadata": {
  "kernelspec": {
   "display_name": "Python 3",
   "language": "python",
   "name": "python3"
  },
  "language_info": {
   "codemirror_mode": {
    "name": "ipython",
    "version": 3
   },
   "file_extension": ".py",
   "mimetype": "text/x-python",
   "name": "python",
   "nbconvert_exporter": "python",
   "pygments_lexer": "ipython3",
   "version": "3.7.12"
  },
  "papermill": {
   "default_parameters": {},
   "duration": 1869.259218,
   "end_time": "2022-04-15T14:48:29.246566",
   "environment_variables": {},
   "exception": null,
   "input_path": "__notebook__.ipynb",
   "output_path": "__notebook__.ipynb",
   "parameters": {},
   "start_time": "2022-04-15T14:17:19.987348",
   "version": "2.3.4"
  }
 },
 "nbformat": 4,
 "nbformat_minor": 5
}
