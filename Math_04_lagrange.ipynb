{
  "nbformat": 4,
  "nbformat_minor": 0,
  "metadata": {
    "colab": {
      "name": "Math_04_lagrange.ipynb",
      "provenance": [],
      "collapsed_sections": []
    },
    "kernelspec": {
      "name": "python3",
      "display_name": "Python 3"
    },
    "language_info": {
      "name": "python"
    }
  },
  "cells": [
    {
      "cell_type": "markdown",
      "source": [
        "# Метод множителей Лагранжа для нахождения экстремумов функций нескольких переменных аналитическим способом\n",
        "\n",
        "Чтобы найти минимум функции $f(x)$ при условии, что имеется ограничение $φi(х) = 0$, составляется функция Лагранжа:\n",
        "\n",
        "$L(x, λ) = f(x) + \\sum \\lambda_i \\phi (x)$\n",
        "\n",
        "И вычисляются частные производные построенной функции Лагранжа по $x$ и дополнительной переменной $λ$. Далее находятся точки, в которых производные равны нулю, и точки экстремума. Так задача условной оптимизации сводится к задаче безусловной оптимизации.\n",
        "\n",
        "Необходимое условие выполнения метода: функции $f(x)$ и $φi(x)$ и их производные непрерывны и дифференцируемы во всех исследуемых точках."
      ],
      "metadata": {
        "id": "zRTvKK1sKtAz"
      }
    },
    {
      "cell_type": "code",
      "source": [
        "from sympy.solvers import solve\n",
        "from sympy import symbols\n",
        "from sympy import diff, symbols, init_printing, E\n",
        "\n",
        "x, y, z, a  = symbols('x y z a')\n",
        "\n",
        "λ, λ1, λ2 = symbols('λ λ1 λ2')\n",
        "\n",
        "x_tilde = symbols('x_tilde')\n",
        "\n",
        "x1, x2, x3, x4 = symbols('x1 x2 x3 x4')"
      ],
      "metadata": {
        "id": "w3bqVolvMPle"
      },
      "execution_count": null,
      "outputs": []
    },
    {
      "cell_type": "code",
      "source": [
        "# Задача - пример\n",
        "# У вас есть 20 метров забора, можно им огородить любой прямоугольник. \n",
        "# Какую максимальную площадь можно огородить?\n",
        "\n",
        "# Пусть мы будем огораживать прямоугольник со сторонами x1 и x2. \n",
        "# Тогда нам нужно максимизировать площадь при периметре равном 20 м\n",
        "# min -x1x2, x1 + x2 - 10 = 0\n",
        "L = -x1 * x2 + λ*(x1 + x2 - 10)\n",
        "sol = solve([diff(L, x1), diff(L, x2), diff(L, λ)], dict=True)\n",
        "sol"
      ],
      "metadata": {
        "colab": {
          "base_uri": "https://localhost:8080/"
        },
        "id": "OrKNN5qoOZg0",
        "outputId": "01fb35a6-e520-4f4f-edd8-105d3c0a00f3"
      },
      "execution_count": null,
      "outputs": [
        {
          "output_type": "execute_result",
          "data": {
            "text/plain": [
              "[{x1: 5, x2: 5, λ: 5}]"
            ]
          },
          "metadata": {},
          "execution_count": 7
        }
      ]
    },
    {
      "cell_type": "code",
      "source": [
        "(-x1 * x2).subs({x1: 5, x2: 5})"
      ],
      "metadata": {
        "colab": {
          "base_uri": "https://localhost:8080/",
          "height": 37
        },
        "id": "O-ehWnlzO4SV",
        "outputId": "fe8c2f48-03d5-458a-e129-1382b66d85e2"
      },
      "execution_count": null,
      "outputs": [
        {
          "output_type": "execute_result",
          "data": {
            "text/latex": "$\\displaystyle -25$",
            "text/plain": [
              "-25"
            ]
          },
          "metadata": {},
          "execution_count": 8
        }
      ]
    },
    {
      "cell_type": "code",
      "execution_count": null,
      "metadata": {
        "id": "Ux6Y5KfgKlj0"
      },
      "outputs": [],
      "source": [
        "# Задание 2.1 Расстояние от точки до прямой\n",
        "\n",
        "# Найдите квадрат расстояния от точки (2, 1) до прямой x + y = 1  \n",
        "# с помощью метода Лагранжа."
      ]
    },
    {
      "cell_type": "code",
      "source": [
        "L = (x - 2)**2 + (y - 1)**2 + λ*(x + y - 1)\n",
        "\n",
        "# находим стационарные точки\n",
        "sol = solve([diff(L, x), diff(L, y), diff(L, λ)], dict=True)\n",
        "sol"
      ],
      "metadata": {
        "colab": {
          "base_uri": "https://localhost:8080/"
        },
        "id": "SQt7f4zEMXxd",
        "outputId": "a508d374-0456-4254-ad57-a9aa2e18b907"
      },
      "execution_count": null,
      "outputs": [
        {
          "output_type": "execute_result",
          "data": {
            "text/plain": [
              "[{x: 1, y: 0, λ: 2}]"
            ]
          },
          "metadata": {},
          "execution_count": 3
        }
      ]
    },
    {
      "cell_type": "code",
      "source": [
        "# подставляем найденные значения в целевую функцию\n",
        "((x - 2)**2 + (y - 1)**2).subs({x: 1, y: 0})"
      ],
      "metadata": {
        "colab": {
          "base_uri": "https://localhost:8080/",
          "height": 37
        },
        "id": "QUdykKlGMZOC",
        "outputId": "377e6b64-7dab-478c-8e13-d0977cde79b5"
      },
      "execution_count": null,
      "outputs": [
        {
          "output_type": "execute_result",
          "data": {
            "text/latex": "$\\displaystyle 2$",
            "text/plain": [
              "2"
            ]
          },
          "metadata": {},
          "execution_count": 4
        }
      ]
    },
    {
      "cell_type": "code",
      "source": [
        "# Задание 2.2\n",
        "# Прямоугольный параллелепипед имеет объем 1м3. Какова минимальная площадь его поверхности?\n",
        "\n",
        "L = 2*x*y + 2*x*z + 2*y*z - λ*(x*y*z-1)\n",
        "sol = solve([diff(L, x), diff(L, y), diff(L, z), diff(L, λ)], dict=True)\n",
        "sol"
      ],
      "metadata": {
        "colab": {
          "base_uri": "https://localhost:8080/"
        },
        "id": "vsYf9TwNMfxP",
        "outputId": "8718b866-688e-484b-ec97-e0e41a067fe4"
      },
      "execution_count": null,
      "outputs": [
        {
          "output_type": "execute_result",
          "data": {
            "text/plain": [
              "[{x: 1, y: 1, z: 1, λ: 4},\n",
              " {x: -1/2 - sqrt(3)*I/2,\n",
              "  y: -1/2 - sqrt(3)*I/2,\n",
              "  z: -1/2 - sqrt(3)*I/2,\n",
              "  λ: -2 + 2*sqrt(3)*I},\n",
              " {x: -1/2 + sqrt(3)*I/2,\n",
              "  y: -1/2 + sqrt(3)*I/2,\n",
              "  z: -1/2 + sqrt(3)*I/2,\n",
              "  λ: -2 - 2*sqrt(3)*I}]"
            ]
          },
          "metadata": {},
          "execution_count": 5
        }
      ]
    },
    {
      "cell_type": "code",
      "source": [
        "(2*x*y + 2*x*z + 2*y*z).subs({x:1, y:1, z:1})"
      ],
      "metadata": {
        "colab": {
          "base_uri": "https://localhost:8080/",
          "height": 37
        },
        "id": "MURWKFNoMupT",
        "outputId": "1d893970-81e4-42da-e881-40ff0f7001e1"
      },
      "execution_count": null,
      "outputs": [
        {
          "output_type": "execute_result",
          "data": {
            "text/latex": "$\\displaystyle 6$",
            "text/plain": [
              "6"
            ]
          },
          "metadata": {},
          "execution_count": 6
        }
      ]
    },
    {
      "cell_type": "markdown",
      "source": [
        "Что делать, если ограничения заданы в виде неравенств?\n",
        "\n",
        "Ограничения в виде неравенства можно свести к ограничениям равенства с помощью дополнительной переменной $\\tilde x_i$\n",
        "\n",
        "### Задача - пример\n",
        "У вас есть 20 метров забора, можно им огородить любой прямоугольник. \n",
        "Какую максимальную площадь можно огородить? \n",
        "Хотя бы одна сторона должна быть не меньше 6.\n",
        "\n",
        "$min -x1x2$; $x1 + x2 - 10 = 0$; $x1 >= 6$, т.е. $-x1 + 6 + \\tilde x_1^2  = 0$"
      ],
      "metadata": {
        "id": "tYY5bdobNS_b"
      }
    },
    {
      "cell_type": "code",
      "source": [
        "L = -x1 * x2 + λ1*(x1 + x2 - 10) + λ2*(-x1 + 6 + x_tilde**2)\n",
        "\n",
        "sol = solve(\n",
        "    [diff(L, x1),\n",
        "     diff(L, x2),\n",
        "     diff(L, λ1),\n",
        "     diff(L, λ2),\n",
        "     diff(L, x_tilde)\n",
        "     ], dict=True\n",
        "     )\n",
        "sol"
      ],
      "metadata": {
        "colab": {
          "base_uri": "https://localhost:8080/"
        },
        "id": "UgLwiFZCMyKO",
        "outputId": "f7b132fa-dcae-4b5a-9354-47e0cd03bf3e"
      },
      "execution_count": null,
      "outputs": [
        {
          "output_type": "execute_result",
          "data": {
            "text/plain": [
              "[{x1: 5, x2: 5, x_tilde: -I, λ1: 5, λ2: 0},\n",
              " {x1: 5, x2: 5, x_tilde: I, λ1: 5, λ2: 0},\n",
              " {x1: 6, x2: 4, x_tilde: 0, λ1: 6, λ2: 2}]"
            ]
          },
          "metadata": {},
          "execution_count": 11
        }
      ]
    },
    {
      "cell_type": "code",
      "source": [
        "(-x1 * x2).subs({x1: 6, x2: 4})"
      ],
      "metadata": {
        "colab": {
          "base_uri": "https://localhost:8080/",
          "height": 37
        },
        "id": "lx3lFAmcR9XU",
        "outputId": "c399b9b9-bd95-462e-948c-d1459a023c3b"
      },
      "execution_count": null,
      "outputs": [
        {
          "output_type": "execute_result",
          "data": {
            "text/latex": "$\\displaystyle -24$",
            "text/plain": [
              "-24"
            ]
          },
          "metadata": {},
          "execution_count": 12
        }
      ]
    },
    {
      "cell_type": "markdown",
      "source": [
        "# Примеры задач из разбор задач 11.11.2021"
      ],
      "metadata": {
        "id": "afRyIndxh0cT"
      }
    },
    {
      "cell_type": "code",
      "source": [
        "# Пример 1\n",
        "\n",
        "# Для реализации x1 авто через магазин расходы составляют 4x1 + x1^2 у.е.\n",
        "# x2 авто через агентов, то расходы составляют x2^2 у.е.\n",
        "# Найти оптимальный способ реализации авто, минимизирующий суммарные ресходы.\n",
        "# Если всего 200 шт. авто\n",
        "\n",
        "# Целевая функция: f(x1, x2) = 4x1 + x1^2 + x2^2 -> min\n",
        "# Ограничение: x1 + x2 = 200; x1, x2 >= 0\n",
        "L = 4*x1 + x1**2 + x2**2 + λ*(200 - x1 - x2)\n",
        "\n",
        "# 1) Найти стационарные точки (точки возможного экстремума):\n",
        "sol = solve(\n",
        "    [diff(L, x1),\n",
        "     diff(L, x2),\n",
        "     diff(L, λ),\n",
        "     ], dict=True\n",
        "     )\n",
        "sol"
      ],
      "metadata": {
        "colab": {
          "base_uri": "https://localhost:8080/"
        },
        "id": "YvIdB_xoSEwS",
        "outputId": "93e6dc05-0394-4f7d-f7d1-1530e92bbde9"
      },
      "execution_count": null,
      "outputs": [
        {
          "output_type": "execute_result",
          "data": {
            "text/plain": [
              "[{x1: 99, x2: 101, λ: 202}]"
            ]
          },
          "metadata": {},
          "execution_count": 14
        }
      ]
    },
    {
      "cell_type": "code",
      "source": [
        "# 2) Проверить на экстремум с помощью определителя Гессе:\n",
        "# Составляется (для каждой точки определитель дельта) и смотреть, какой он по знаку\n",
        "# Определитель второго порядка состоит из частных производных\n",
        "print(diff(L, x1, x1), diff(L, x1, x2))\n",
        "print(diff(L, x1, x2), diff(L, x2, x2))"
      ],
      "metadata": {
        "colab": {
          "base_uri": "https://localhost:8080/"
        },
        "id": "szE_cQI_m4y8",
        "outputId": "dc5a0d30-9f25-49ce-ff6b-a28c7b74baeb"
      },
      "execution_count": null,
      "outputs": [
        {
          "output_type": "stream",
          "name": "stdout",
          "text": [
            "2 0\n",
            "0 2\n"
          ]
        }
      ]
    },
    {
      "cell_type": "code",
      "source": [
        "# дельта равна 2*2 + 0*0 = 4 > 0 => в силу достаточного условия существования \n",
        "# экстремума функция L в точке (99; 101) имеет экстремум.\n",
        "# Теперь смотрим на знак второй производной. Т.к. L_x1x1^'' = 2 > 0 => эта точка\n",
        "# явл. точкой минимума функции"
      ],
      "metadata": {
        "id": "jHpOgzu_oGxb"
      },
      "execution_count": null,
      "outputs": []
    },
    {
      "cell_type": "code",
      "source": [
        "# Считаем минимальные расходы, подставляя значения в целевую функцию\n",
        "(4*x1 + x1**2 + x2**2).subs({x1: 99, x2: 101})"
      ],
      "metadata": {
        "colab": {
          "base_uri": "https://localhost:8080/",
          "height": 37
        },
        "id": "zCPWWN9kqWD0",
        "outputId": "bcf6a2ae-1951-48bb-be6d-1b3f1c09bafb"
      },
      "execution_count": null,
      "outputs": [
        {
          "output_type": "execute_result",
          "data": {
            "text/latex": "$\\displaystyle 20398$",
            "text/plain": [
              "20398"
            ]
          },
          "metadata": {},
          "execution_count": 18
        }
      ]
    },
    {
      "cell_type": "code",
      "source": [
        "# Оптимально продать 99 авто ч/з магазин и 101 авто ч/з агентов"
      ],
      "metadata": {
        "id": "oCPa7RrIqgN2"
      },
      "execution_count": null,
      "outputs": []
    },
    {
      "cell_type": "markdown",
      "source": [
        "# Линейное программирование\n",
        "\n",
        "То же, что и выше, но ограничения задаются неравенствами\n",
        "\n",
        "З-ча ЛП: $f(x) = c_1 x_1 + c_2 x_2 + ... + c_n x_n → max(min)$\n",
        "\n",
        "x -- вектор\n",
        "\n",
        "Система ограничений: $a_{11}x_1 + a_{12}x_2 + ... a_{1n}x_n <= b_1$\n",
        "\n",
        "$x_i >= 0, i = 1, ..., n$\n",
        "\n",
        "Способы решения:\n",
        "\n",
        "1) Графический\n",
        "\n",
        "2) Двойственная задача\n",
        "\n",
        "3) Симплекс"
      ],
      "metadata": {
        "id": "DuL68IZfssBo"
      }
    },
    {
      "cell_type": "code",
      "source": [
        "# Пример графического решения (см. разбор задач 11.11.2021)\n",
        "# З-ча об оптимальном исп. ресурсов\n",
        "#             расход продуктов на 1 кг мороженого\n",
        "#  исх. продукт  сливочное   шоколадное        запас, кг\n",
        "#    молого       0.8        0.5            400\n",
        "#    наполнит.    0.4         0.8            365\n",
        "\n",
        "# 1) определить кол-во каждого вида мороженого для производства, чтобы доход max\n",
        "# 2) спрос на сливоченое > шоколадн. <= 100 кг (не превышает 100 кг)\n",
        "# спрос на шоколадное <= 350 кг\n",
        "# сливочное 1 кг = 16 у.е.\n",
        "# шоколадн 1 кг = 14 у.е.\n",
        "\n",
        "# x1 - сут. объем сливочн морож (кг)\n",
        "# x2 - сут. объем шокол морож (кг)\n",
        "\n",
        "# целевая функция f(x1, x2) = 16x1 + 14x2 -> max\n",
        "# ограничения:  0.8x1 +     0.5x2 <=           400\n",
        "# 0.4x1  +       0.8x2 <=           365\n",
        "# x1 - x2 <= 100\n",
        "# x2 <= 350\n",
        "# x >= 0\n",
        "\n",
        "# 1) чертим систему ограничений. меняем неравенство на равенство\n",
        "# многоугольник ограничений\n",
        "# Ответ: x1 = 312.5, x2 = 300"
      ],
      "metadata": {
        "id": "vukCd0O5q4N6"
      },
      "execution_count": null,
      "outputs": []
    }
  ]
}