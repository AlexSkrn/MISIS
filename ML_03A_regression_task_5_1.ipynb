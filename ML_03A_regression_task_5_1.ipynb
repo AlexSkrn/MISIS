{
 "cells": [
  {
   "cell_type": "markdown",
   "metadata": {},
   "source": [
    "**Задание 1**  \n",
    "Удалите строки, где есть хотя бы один пропуск. Обучите линейную регрессию, взяв тестовую выборку размера 0.2, random_state=77. Нормализуйте отобранные признаки для тестовой и для обучающей выборки отдельно с помощью функции RobustScaler(). Вычислите MSE. Округлите ответ до целых."
   ]
  },
  {
   "cell_type": "code",
   "execution_count": 1,
   "metadata": {},
   "outputs": [],
   "source": [
    "import pandas as pd\n",
    "import numpy as np"
   ]
  },
  {
   "cell_type": "code",
   "execution_count": 2,
   "metadata": {},
   "outputs": [],
   "source": [
    "# загрузим данные\n",
    "data = pd.read_csv(\"data_flats2.csv\", sep=';')"
   ]
  },
  {
   "cell_type": "markdown",
   "metadata": {},
   "source": [
    "У нашего распределения есть проблема — слишком сильный перепад.  \n",
    "Много квартир в среднем сегменте, но очень мало дорогих квартир.  \n",
    "На практике часто в таких случаях логорифмируют переменную, чтобы уменьшить перепады и сгладить хвост.  "
   ]
  },
  {
   "cell_type": "code",
   "execution_count": 3,
   "metadata": {},
   "outputs": [],
   "source": [
    "# Повторим предобработку данных из урока: логарифмируем целевую переменную и отбросим 5 признаков:\n",
    "# логарифмирование применяется для снижения разброса в данных, 1 прибавляется чтобы избежать извлечения логарифма от 0\n",
    "data['price_doc'] = data['price_doc'].apply(lambda w: np.log(w + 1))\n",
    "\n",
    "data.drop(['kremlin_km','preschool_education_centers_raion', 'kindergarten_km',\n",
    "    'park_km', 'id', 'life_sq'], axis=1, inplace=True)"
   ]
  },
  {
   "cell_type": "code",
   "execution_count": 4,
   "metadata": {},
   "outputs": [],
   "source": [
    "# Импортируем необходимые функции из модулей\n",
    "from sklearn.preprocessing import RobustScaler\n",
    "from sklearn.model_selection import train_test_split\n",
    "from sklearn.linear_model import LinearRegression\n",
    "from sklearn.metrics import mean_squared_error as mse"
   ]
  },
  {
   "cell_type": "code",
   "execution_count": 5,
   "metadata": {},
   "outputs": [],
   "source": [
    "# Удаляем строки с пропусками\n",
    "data = data.dropna()"
   ]
  },
  {
   "cell_type": "code",
   "execution_count": 6,
   "metadata": {},
   "outputs": [],
   "source": [
    "# Сохраняем признаки в переменную X, а целевую переменную (столбец price_doc) - в y:\n",
    "X = data.drop(['price_doc'], axis=1)\n",
    "y = data['price_doc']"
   ]
  },
  {
   "cell_type": "code",
   "execution_count": 7,
   "metadata": {},
   "outputs": [],
   "source": [
    "# Разбиваем выборку на обучающую и тестовую: (с параметрами указанными в условии)\n",
    "X_train, X_test, y_train, y_test = train_test_split(X, y, test_size=0.2, random_state=77)"
   ]
  },
  {
   "cell_type": "code",
   "execution_count": 8,
   "metadata": {},
   "outputs": [],
   "source": [
    "# Нормализуем обучающую и тестовую выборки по отдельности:\n",
    "scaler = RobustScaler()\n",
    "X_train_transformed = scaler.fit_transform(X_train)\n",
    "X_test_transformed = scaler.fit_transform(X_test)"
   ]
  },
  {
   "cell_type": "code",
   "execution_count": 9,
   "metadata": {},
   "outputs": [],
   "source": [
    "# Обучаем классификатор:\n",
    "reg = LinearRegression().fit(X_train_transformed, y_train)"
   ]
  },
  {
   "cell_type": "code",
   "execution_count": 10,
   "metadata": {},
   "outputs": [
    {
     "name": "stdout",
     "output_type": "stream",
     "text": [
      "MSE = 16647931507747\n"
     ]
    }
   ],
   "source": [
    "# Делаем предсказание и считаем метрики (mse)\n",
    "# так как в начале - при логарифмировании - мы прибавляли 1, то теперь при получении результата обратного преобразования - отнимаем\n",
    "y_pred = reg.predict(X_test_transformed)\n",
    "MSE = np.round(mse(np.exp(y_test) - 1, np.exp(y_pred) - 1), 0)\n",
    "print(\"MSE = {:.0f}\".format(MSE))"
   ]
  },
  {
   "cell_type": "code",
   "execution_count": null,
   "metadata": {},
   "outputs": [],
   "source": []
  }
 ],
 "metadata": {
  "interpreter": {
   "hash": "a33517d9d7dd072cede418c1d1656427de6858e0f2f8270c12eb9a099f89b41c"
  },
  "kernelspec": {
   "display_name": "Python 3.9.7 64-bit",
   "language": "python",
   "name": "python3"
  },
  "language_info": {
   "codemirror_mode": {
    "name": "ipython",
    "version": 3
   },
   "file_extension": ".py",
   "mimetype": "text/x-python",
   "name": "python",
   "nbconvert_exporter": "python",
   "pygments_lexer": "ipython3",
   "version": "3.9.7"
  },
  "orig_nbformat": 4
 },
 "nbformat": 4,
 "nbformat_minor": 2
}
