{
 "cells": [
  {
   "cell_type": "markdown",
   "metadata": {
    "id": "8CehMkgM9FJr"
   },
   "source": [
    "# Задача 3. Фибоначчи-2"
   ]
  },
  {
   "cell_type": "markdown",
   "metadata": {
    "id": "O9j9yNw_oBEp"
   },
   "source": [
    "\n",
    "### Алгоритм возведения в степень возведением в квадрат и умножением для вычисления чисел Фибоначчи через матрицу Фибоначчи (с использованием остатка от деления)"
   ]
  },
  {
   "cell_type": "markdown",
   "metadata": {
    "id": "x7QkEF60NJ4f"
   },
   "source": [
    "Источник (адаптированный для матриц): https://habr.com/ru/post/344666/\n",
    "\n",
    "![pircture](https://drive.google.com/uc?export=view&id=1m3jPuW_vIL-jRFLA7K3ICuWPLSkmTrJX)\n"
   ]
  },
  {
   "cell_type": "markdown",
   "metadata": {
    "id": "vrhTubCbPvsk"
   },
   "source": [
    "В этом примере не показано, что при умножении матриц используются остатки от деления на заданное число ${M}$, когда цифры в матрицах становятся больше этого числа ${M}$. Кроме того, возвращается не само число Фибоначчи, а остаток от его деления на число ${M}$."
   ]
  },
  {
   "cell_type": "code",
   "execution_count": null,
   "metadata": {
    "id": "W2u9pmuUeSQ5"
   },
   "outputs": [],
   "source": [
    "import numpy as np"
   ]
  },
  {
   "cell_type": "code",
   "execution_count": null,
   "metadata": {
    "id": "aR0tzwhDfDcE"
   },
   "outputs": [],
   "source": [
    "# Эта функция вычисляет левую колонку чисел из примера в начале, т. е. частные от деления\n",
    "# степени нужной мне матрицы Фиб. на 2 до тех пор, пока частное не станет единицей\n",
    "def quotients(p: int):\n",
    "    \"\"\"Return a list of quotients of power p divided successively in half.\n",
    "\n",
    "    Example: quotients(5) -> [5, 2, 1]\n",
    "    \"\"\"\n",
    "    if p <= 1:\n",
    "        raise ValueError('power must be more than 1')\n",
    "    p_quotients = [p]\n",
    "    # сколько раз можно разделить p на 2? Ответ: log2(p)\n",
    "    n = np.floor(np.log2(p)).astype(int)\n",
    "    for i in range(n):\n",
    "        p_quotient = p//2\n",
    "        p_quotients.append(p_quotient)\n",
    "        p = p_quotient\n",
    "    return p_quotients"
   ]
  },
  {
   "cell_type": "code",
   "execution_count": null,
   "metadata": {
    "id": "KQ9eet8QqhSZ"
   },
   "outputs": [],
   "source": [
    "#  Эта функция вычисляет правую колонку матриц из примера в начале\n",
    "def pows_fib_matrices(n, m=None, verbose=False):\n",
    "    \"\"\"Return n Fib matrices successively raised to the power of 2.\n",
    "\n",
    "    m : if provided, use remainders of division by m instead of actual matrices\n",
    "\n",
    "    return : a list of numpy arrays (2x2)\n",
    "\n",
    "    Example: pows_fib_matrices(3) - > [array([[1, 1], [1, 0]]),\n",
    "                                       array([[2, 1], [1, 1]]),\n",
    "                                       array([[5, 3], [3, 2]]) ]\n",
    "    \"\"\"\n",
    "    fib_matrix = np.array([[1, 1], [1, 0]])\n",
    "    fib_matrices = [fib_matrix]\n",
    "    count_mult = 0\n",
    "    for i in range(n - 1):  # т.к. начальная матр. Фиб. уже в списке\n",
    "        if m is not None and fib_matrix[1, 1] > m:\n",
    "            fib_matrix = fib_matrix % m\n",
    "        fib_matrix_pow2 = fib_matrix.dot(fib_matrix)\n",
    "        fib_matrices.append(fib_matrix_pow2)\n",
    "        fib_matrix = fib_matrix_pow2\n",
    "        count_mult += 1\n",
    "        if verbose == True:\n",
    "            print('Matrix mult count:', count_mult)\n",
    "        if (fib_matrix < 0).any():\n",
    "                raise OverflowError('Neg matrix! Use m parameter', fib_matrix)\n",
    "\n",
    "    return fib_matrices"
   ]
  },
  {
   "cell_type": "code",
   "execution_count": null,
   "metadata": {
    "id": "SW37wMHgegqV"
   },
   "outputs": [],
   "source": [
    "# Эта функция перемножает те матрицы из правой колонки из примера в начале, которым\n",
    "# соответствуют нечетные числа в левой колонке \n",
    "def product_fib_matrices(p_quotients, fib_matrices, m=None, verbose=False):\n",
    "    \"\"\"Return the product of fib_matrices corresponding to odd p_quotients.\n",
    "    \n",
    "    m : if provided, use remainders of division by m instead of actual matrices\n",
    "    return : numpy array dim (2, 2)\n",
    "\n",
    "    Example: \n",
    "    p_quotients = [5, 2, 1]\n",
    "    fib_matrices = [array([[1, 1], [1, 0]]),\n",
    "                    array([[2, 1], [1, 1]]),\n",
    "                    array([[5, 3], [3, 2]])]\n",
    "    product_fib_matrices(p_quotients, fib_matrices) -> array([[8, 5], [5, 3]])\n",
    "    \"\"\"\n",
    "    fib_matrix = np.eye(2).astype('int64')\n",
    "    count_mult = 0\n",
    "    for idx, val in enumerate(p_quotients):\n",
    "        if val % 2 != 0:\n",
    "            if m is not None and fib_matrix[1, 1] > m:\n",
    "                fib_matrix = fib_matrix % m\n",
    "            fib_matrix = fib_matrix.dot(fib_matrices[idx])\n",
    "            count_mult += 1\n",
    "            if verbose == True:\n",
    "                print('Matrix mult count:', count_mult)\n",
    "            if (fib_matrix < 0).any():\n",
    "                raise OverflowError('Neg matrix! Use m parameter', fib_matrix)\n",
    "\n",
    "    return fib_matrix"
   ]
  },
  {
   "cell_type": "markdown",
   "metadata": {
    "id": "f0oGO2z6ca4H"
   },
   "source": [
    "Результат: Для решения этой задачи напишите программу, которая принимает на вход два числа n и m и выводит остаток от деления n-го (нумерация чисел в последовательности начинается с 1) числа Фибоначчи на число m.\n",
    "\n",
    "Пример входных данных:\n",
    "\n",
    "1000000000001 99999\n",
    "\n",
    "Пример результата:\n",
    "\n",
    "63715 \n"
   ]
  },
  {
   "cell_type": "code",
   "execution_count": null,
   "metadata": {
    "id": "hsNbVkKUeYmB"
   },
   "outputs": [],
   "source": [
    "# онлайн-калькулятор чисел Фиб.: https://www.omnicalculator.com/math/fibonacci\n",
    "\n",
    "# Функция-интерфейс для использования кода\n",
    "def fib_remainder(nth_fib, m=None, verbose=False):\n",
    "    \"\"\"Return the remainder of division of the nth Fib number by m.\n",
    "    \n",
    "    If m is not provided, returns the nth Fib number but up to about 90 only,\n",
    "    and raises OverflowError when it cannot calculate the number correctly.\n",
    "\n",
    "    verbose : when True, print the count of matrix multiplications performed \n",
    "    \"\"\"\n",
    "    # считаем левую колонку цифр из алгоритма, показанного в начале\n",
    "    # (nth_fib-2) т.к., напр., для 7-го числа Ф. (13) нужна матрица Ф. в 5-ой степени \n",
    "    p_quotients = quotients(nth_fib-2)\n",
    "    # считаем правую колонку матриц из алгоритма, показанного в начале\n",
    "    fib_matrices = pows_fib_matrices(len(p_quotients), m, verbose)\n",
    "    # произведение матриц из правой колонки, соответствующих нечетным цифрам из левой\n",
    "    prod_fib_mat = product_fib_matrices(p_quotients, fib_matrices, m, verbose)\n",
    "\n",
    "    # считаем остаток от деления числа Фиб. на m либо считаем само число Фиб.\n",
    "    if m is not None:\n",
    "        fib = prod_fib_mat.dot(np.array([1, 1]))[0] % m\n",
    "    else:\n",
    "        fib = prod_fib_mat.dot(np.array([1, 1]))[0]\n",
    "    \n",
    "    return fib"
   ]
  },
  {
   "cell_type": "code",
   "execution_count": null,
   "metadata": {
    "id": "XR2_juc4kRyE"
   },
   "outputs": [],
   "source": [
    "assert fib_remainder(nth_fib=1000000000001, m=99999) == 63715"
   ]
  },
  {
   "cell_type": "code",
   "execution_count": null,
   "metadata": {
    "id": "R9ZRp6Utkc0e"
   },
   "outputs": [],
   "source": [
    "# Можно посмотреть, сколько матричных умножений происходит при расчете результата\n",
    "\n",
    "# assert fib_remainder(nth_fib=1000000000001, m=99999, verbose=True) == 63715"
   ]
  },
  {
   "cell_type": "code",
   "execution_count": null,
   "metadata": {
    "id": "TwUUXNQPJBL5"
   },
   "outputs": [],
   "source": [
    "# Может считать числа Фиб. без использования остатка (параметра m) где-то до 90 числа\n",
    "# Потом вызывает ошибку OverflowError\n",
    "\n",
    "# F50=12586269025\n",
    "# assert fib_remainder(nth_fib=50) == 12586269025\n",
    "\n",
    "# fib_remainder(nth_fib=95)  # Вызывает ошибку"
   ]
  },
  {
   "cell_type": "code",
   "execution_count": null,
   "metadata": {
    "colab": {
     "base_uri": "https://localhost:8080/"
    },
    "id": "lTWz_iZiDt51",
    "outputId": "ab3461d3-bc2c-4060-a20a-30fb119e06a8"
   },
   "outputs": [
    {
     "name": "stderr",
     "output_type": "stream",
     "text": [
      "test_fib_remainder_m_given (__main__.TestFib) ... ok\n",
      "test_fib_remainder_no_m_given_fib_small (__main__.TestFib)\n",
      "fib_remainder can compute small Fib numbers. ... ok\n",
      "test_fib_remainder_no_m_given_raises_error_fib_large (__main__.TestFib)\n",
      "Must raise error if no m is given and the Fib num is too large. ... ok\n",
      "test_pows_fib_matrices (__main__.TestFib) ... ok\n",
      "test_pows_fib_matrices_raises_error (__main__.TestFib)\n",
      "Must raise error if no m is given and the Fib num is too large. ... ok\n",
      "test_product_fib_matrices (__main__.TestFib) ... ok\n",
      "test_product_fib_matrices_raises_error (__main__.TestFib)\n",
      "Must raise error if no m is given and the Fib num is too large. ... ok\n",
      "test_quotients (__main__.TestFib)\n",
      "Test that quotients function returns the right list. ... ok\n",
      "test_quotients_last_el_one (__main__.TestFib) ... ok\n",
      "test_quotients_raises_error (__main__.TestFib)\n",
      "If the p (power) parameter is <= 1, error must be raised. ... ok\n",
      "\n",
      "----------------------------------------------------------------------\n",
      "Ran 10 tests in 0.026s\n",
      "\n",
      "OK\n"
     ]
    },
    {
     "data": {
      "text/plain": [
       "<unittest.runner.TextTestResult run=10 errors=0 failures=0>"
      ]
     },
     "execution_count": 11,
     "metadata": {},
     "output_type": "execute_result"
    }
   ],
   "source": [
    "import unittest\n",
    "\n",
    "\n",
    "class TestFib(unittest.TestCase):\n",
    "    \"\"\"Some tests to check that changes to my code do not break it.\"\"\"\n",
    "\n",
    "    def test_quotients(self):\n",
    "        \"\"\"Test that quotients function returns the right list.\"\"\"\n",
    "        param_list = [(4, [4, 2, 1]),\n",
    "                      (13, [13, 6, 3, 1])\n",
    "        ]\n",
    "        for power, expected_quotients_list in param_list:\n",
    "            with self.subTest():\n",
    "              self.assertEqual(quotients(power), expected_quotients_list)\n",
    "\n",
    "    def test_quotients_last_el_one(self):\n",
    "        self.assertEqual(quotients(331)[-1], 1, 'last element must be 1')\n",
    "    \n",
    "    def test_quotients_raises_error(self):\n",
    "        \"\"\"If the p (power) parameter is <= 1, error must be raised.\"\"\"\n",
    "        with self.assertRaises(ValueError):\n",
    "            quotients(1)\n",
    "\n",
    "    def test_pows_fib_matrices(self):\n",
    "        fib_pow5 = np.array(\n",
    "            [\n",
    "             [[1, 1],\n",
    "              [1, 0]], \n",
    "             [[2, 1],\n",
    "              [1, 1]],\n",
    "             [[5, 3],\n",
    "              [3, 2]]\n",
    "             ]\n",
    "             )\n",
    "        self.assertTrue((pows_fib_matrices(3) == fib_pow5).all())\n",
    "\n",
    "    def test_pows_fib_matrices_raises_error(self):\n",
    "          \"\"\"Must raise error if no m is given and the Fib num is too large.\"\"\"\n",
    "          with self.assertRaises(OverflowError):\n",
    "              pows_fib_matrices(110)\n",
    "        \n",
    "    def test_product_fib_matrices(self):\n",
    "        p_quotients = [4, 2, 1]\n",
    "        fib_matrices = pows_fib_matrices(len(p_quotients))\n",
    "        expected = np.array([[5, 3], [3, 2]])\n",
    "        self.assertTrue((product_fib_matrices(p_quotients, fib_matrices) == expected).all())\n",
    "\n",
    "        p_quotients = [5, 2, 1]\n",
    "        fib_matrices = pows_fib_matrices(len(p_quotients))\n",
    "        expected = np.array([[8, 5], [5, 3]])\n",
    "        self.assertTrue((product_fib_matrices(p_quotients, fib_matrices) == expected).all())\n",
    "\n",
    "        p_quotients = quotients(1000000000001)\n",
    "        fib_matrices = pows_fib_matrices(len(p_quotients), m=99999)\n",
    "        m = 'All numbers must be positive'\n",
    "        self.assertTrue(product_fib_matrices(p_quotients, fib_matrices, m=99999).all()  > 0, m)\n",
    "\n",
    "    def test_product_fib_matrices_raises_error(self):\n",
    "          \"\"\"Must raise error if no m is given and the Fib num is too large.\"\"\"\n",
    "          p_quotients = quotients(1000000000001)\n",
    "          fib_matrices = pows_fib_matrices(len(p_quotients), m=99999)\n",
    "          with self.assertRaises(OverflowError):\n",
    "              product_fib_matrices(p_quotients, fib_matrices)\n",
    "      \n",
    "    def test_fib_remainder_no_m_given_fib_small(self):\n",
    "        \"\"\"fib_remainder can compute small Fib numbers.\"\"\"\n",
    "        # F50=12586269025\n",
    "        self.assertEqual(fib_remainder(nth_fib=50), 12586269025)\n",
    "\n",
    "    def test_fib_remainder_no_m_given_raises_error_fib_large(self):\n",
    "          \"\"\"Must raise error if no m is given and the Fib num is too large.\"\"\"\n",
    "          with self.assertRaises(OverflowError):\n",
    "              fib_remainder(nth_fib=110)\n",
    "\n",
    "    def test_fib_remainder_m_given(self):\n",
    "        # F7 = 13, 13%5 = 3\n",
    "        # F20 = 6765, 6765%7 = 3\n",
    "        # F100 = 354224848179261915075; % 999 = 858\n",
    "        # F100 % 99999 = 46740\n",
    "        # F110 = 43566776258854844738105\n",
    "        # F129 = 407305795904080553832073954\n",
    "        param_list = [(7, 5, 3), (20, 9, 6), (100, 999, 858),\n",
    "                      (100, 99999, 46740), (110, 999, 188),\n",
    "                      (110, 9999, 4499), (129, 99999, 89332),\n",
    "                      (1000000000001, 99999, 63715)\n",
    "                      ]\n",
    "        for nth_fib, m, expected in param_list:\n",
    "            with self.subTest():\n",
    "                self.assertEqual(fib_remainder(nth_fib=nth_fib, m=m), expected)\n",
    "        \n",
    "    \n",
    "tests = TestFib()\n",
    "\n",
    "tests_loaded = unittest.TestLoader().loadTestsFromModule(tests)\n",
    "\n",
    "unittest.TextTestRunner(verbosity=2).run(tests_loaded)"
   ]
  },
  {
   "cell_type": "code",
   "execution_count": null,
   "metadata": {
    "id": "-JULK5tFZjam"
   },
   "outputs": [],
   "source": []
  }
 ],
 "metadata": {
  "colab": {
   "collapsed_sections": [],
   "name": "misis-project-2-task-3-fib.ipynb",
   "provenance": []
  },
  "kernelspec": {
   "display_name": "Python 3",
   "language": "python",
   "name": "python3"
  },
  "language_info": {
   "codemirror_mode": {
    "name": "ipython",
    "version": 3
   },
   "file_extension": ".py",
   "mimetype": "text/x-python",
   "name": "python",
   "nbconvert_exporter": "python",
   "pygments_lexer": "ipython3",
   "version": "3.7.9"
  }
 },
 "nbformat": 4,
 "nbformat_minor": 1
}
