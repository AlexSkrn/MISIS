{
  "nbformat": 4,
  "nbformat_minor": 0,
  "metadata": {
    "colab": {
      "name": "МИСИС - LinAlg 01 - matrices.ipynb",
      "provenance": [],
      "collapsed_sections": []
    },
    "kernelspec": {
      "name": "python3",
      "display_name": "Python 3"
    },
    "language_info": {
      "name": "python"
    }
  },
  "cells": [
    {
      "cell_type": "markdown",
      "metadata": {
        "id": "byikQgRjkz-0"
      },
      "source": [
        "# Матрицы и векторы"
      ]
    },
    {
      "cell_type": "code",
      "metadata": {
        "id": "tr-EhVSdkz-2"
      },
      "source": [
        "import numpy as np"
      ],
      "execution_count": 1,
      "outputs": []
    },
    {
      "cell_type": "markdown",
      "metadata": {
        "id": "0AuQeA22kz-3"
      },
      "source": [
        "## 1. Скалярное умножение векторов"
      ]
    },
    {
      "cell_type": "markdown",
      "metadata": {
        "id": "5gKK6i8kkz-4"
      },
      "source": [
        "$$(a, b) = \\sum a_i b_i$$"
      ]
    },
    {
      "cell_type": "code",
      "metadata": {
        "id": "YG0mzy8Dkz-4"
      },
      "source": [
        "a = np.array([1, 2, 3])\n",
        "b = np.array([3, 4, 5])"
      ],
      "execution_count": 2,
      "outputs": []
    },
    {
      "cell_type": "code",
      "metadata": {
        "id": "8Rq4q17vkz-5",
        "colab": {
          "base_uri": "https://localhost:8080/"
        },
        "outputId": "daa791f4-c7b3-4077-ab0e-e9fa4ac07880"
      },
      "source": [
        "a"
      ],
      "execution_count": 3,
      "outputs": [
        {
          "output_type": "execute_result",
          "data": {
            "text/plain": [
              "array([1, 2, 3])"
            ]
          },
          "metadata": {},
          "execution_count": 3
        }
      ]
    },
    {
      "cell_type": "code",
      "metadata": {
        "id": "9ib8G1O8kz-6",
        "colab": {
          "base_uri": "https://localhost:8080/"
        },
        "outputId": "67cb4d2e-4c28-4e88-d476-485b80a38b3b"
      },
      "source": [
        "np.dot(a, b)"
      ],
      "execution_count": 4,
      "outputs": [
        {
          "output_type": "execute_result",
          "data": {
            "text/plain": [
              "26"
            ]
          },
          "metadata": {},
          "execution_count": 4
        }
      ]
    },
    {
      "cell_type": "markdown",
      "metadata": {
        "id": "yv9Uyy7Ckz-7"
      },
      "source": [
        "Реализуем скалярное произведение средствами Python"
      ]
    },
    {
      "cell_type": "code",
      "metadata": {
        "id": "17R-2hQ9kz-8",
        "colab": {
          "base_uri": "https://localhost:8080/"
        },
        "outputId": "16dad9a0-4d92-4438-a83c-0378c4b65383"
      },
      "source": [
        "sum([x * y for x, y in zip(a, b)])"
      ],
      "execution_count": 5,
      "outputs": [
        {
          "output_type": "execute_result",
          "data": {
            "text/plain": [
              "26"
            ]
          },
          "metadata": {},
          "execution_count": 5
        }
      ]
    },
    {
      "cell_type": "markdown",
      "metadata": {
        "id": "MLmCaM0Hkz-8"
      },
      "source": [
        "Примеры:"
      ]
    },
    {
      "cell_type": "markdown",
      "metadata": {
        "id": "i6pzLvrfkz-9"
      },
      "source": [
        "Следующие два примера – ортогональные векторы"
      ]
    },
    {
      "cell_type": "code",
      "metadata": {
        "id": "GLkSk0nZkz-9",
        "colab": {
          "base_uri": "https://localhost:8080/"
        },
        "outputId": "61d4747f-b5be-4b79-f9cd-6d9acb8eb2e7"
      },
      "source": [
        "np.dot([0, 1], [1, 0])"
      ],
      "execution_count": 6,
      "outputs": [
        {
          "output_type": "execute_result",
          "data": {
            "text/plain": [
              "0"
            ]
          },
          "metadata": {},
          "execution_count": 6
        }
      ]
    },
    {
      "cell_type": "code",
      "metadata": {
        "id": "A3widgTOkz--",
        "colab": {
          "base_uri": "https://localhost:8080/"
        },
        "outputId": "2d8a94a5-aefe-4bd1-f350-4fe3e4bc4c69"
      },
      "source": [
        "np.dot([3, 1, 2], [-1, 1, 1])"
      ],
      "execution_count": 7,
      "outputs": [
        {
          "output_type": "execute_result",
          "data": {
            "text/plain": [
              "0"
            ]
          },
          "metadata": {},
          "execution_count": 7
        }
      ]
    },
    {
      "cell_type": "code",
      "metadata": {
        "id": "wU22pejjkz--",
        "colab": {
          "base_uri": "https://localhost:8080/"
        },
        "outputId": "1afbd328-00bb-42db-ab46-959bcc54e31a"
      },
      "source": [
        "np.dot([1, 2, 3], [2, 4, 6])"
      ],
      "execution_count": 8,
      "outputs": [
        {
          "output_type": "execute_result",
          "data": {
            "text/plain": [
              "28"
            ]
          },
          "metadata": {},
          "execution_count": 8
        }
      ]
    },
    {
      "cell_type": "code",
      "metadata": {
        "id": "GDIjIMT-kz-_",
        "colab": {
          "base_uri": "https://localhost:8080/"
        },
        "outputId": "530bbce9-5e50-47e7-b21b-294129c57684"
      },
      "source": [
        "np.dot([-10, -1], [1, 1])"
      ],
      "execution_count": 9,
      "outputs": [
        {
          "output_type": "execute_result",
          "data": {
            "text/plain": [
              "-11"
            ]
          },
          "metadata": {},
          "execution_count": 9
        }
      ]
    },
    {
      "cell_type": "markdown",
      "metadata": {
        "id": "3Is2kcdykz-_"
      },
      "source": [
        "## 2. Длина вектора через скалярное произведение"
      ]
    },
    {
      "cell_type": "markdown",
      "metadata": {
        "id": "EcWbb_8Xkz_A"
      },
      "source": [
        "$$\\lvert a\\lvert= \\sqrt{(a, a)}$$"
      ]
    },
    {
      "cell_type": "code",
      "metadata": {
        "id": "frTM1MUgkz_A",
        "colab": {
          "base_uri": "https://localhost:8080/"
        },
        "outputId": "7ad5e38e-c24b-40cb-dea4-82c0a4cd4088"
      },
      "source": [
        "a"
      ],
      "execution_count": 10,
      "outputs": [
        {
          "output_type": "execute_result",
          "data": {
            "text/plain": [
              "array([1, 2, 3])"
            ]
          },
          "metadata": {},
          "execution_count": 10
        }
      ]
    },
    {
      "cell_type": "code",
      "metadata": {
        "id": "qN-qx4b9kz_A",
        "colab": {
          "base_uri": "https://localhost:8080/"
        },
        "outputId": "c2b6d25d-54a8-4083-9f2e-4f5d34104c85"
      },
      "source": [
        "np.sqrt(np.dot(a, a))"
      ],
      "execution_count": 11,
      "outputs": [
        {
          "output_type": "execute_result",
          "data": {
            "text/plain": [
              "3.7416573867739413"
            ]
          },
          "metadata": {},
          "execution_count": 11
        }
      ]
    },
    {
      "cell_type": "code",
      "metadata": {
        "id": "zVLTpFoqkz_A",
        "colab": {
          "base_uri": "https://localhost:8080/"
        },
        "outputId": "5cbac61f-ed7f-4798-c0be-b105c9aeaaf0"
      },
      "source": [
        "np.linalg.norm(a)"
      ],
      "execution_count": 12,
      "outputs": [
        {
          "output_type": "execute_result",
          "data": {
            "text/plain": [
              "3.7416573867739413"
            ]
          },
          "metadata": {},
          "execution_count": 12
        }
      ]
    },
    {
      "cell_type": "code",
      "metadata": {
        "id": "HcrMSSr3kz_B",
        "colab": {
          "base_uri": "https://localhost:8080/"
        },
        "outputId": "3647e421-d327-4bac-cc6f-738496bb6da7"
      },
      "source": [
        "np.linalg.norm([0, 1])"
      ],
      "execution_count": 13,
      "outputs": [
        {
          "output_type": "execute_result",
          "data": {
            "text/plain": [
              "1.0"
            ]
          },
          "metadata": {},
          "execution_count": 13
        }
      ]
    },
    {
      "cell_type": "code",
      "metadata": {
        "id": "YziNBZS2kz_B",
        "colab": {
          "base_uri": "https://localhost:8080/"
        },
        "outputId": "fd388bc1-21f9-41fc-e23a-a378a3192c6f"
      },
      "source": [
        "np.linalg.norm([3, 4])"
      ],
      "execution_count": 14,
      "outputs": [
        {
          "output_type": "execute_result",
          "data": {
            "text/plain": [
              "5.0"
            ]
          },
          "metadata": {},
          "execution_count": 14
        }
      ]
    },
    {
      "cell_type": "code",
      "metadata": {
        "id": "ABMtb-2lkz_C",
        "colab": {
          "base_uri": "https://localhost:8080/"
        },
        "outputId": "af8456c4-a194-4659-a86c-1b226b672f7b"
      },
      "source": [
        "np.linalg.norm([-1, -1])"
      ],
      "execution_count": 15,
      "outputs": [
        {
          "output_type": "execute_result",
          "data": {
            "text/plain": [
              "1.4142135623730951"
            ]
          },
          "metadata": {},
          "execution_count": 15
        }
      ]
    },
    {
      "cell_type": "code",
      "metadata": {
        "id": "v5sYB5wkkz_C",
        "colab": {
          "base_uri": "https://localhost:8080/"
        },
        "outputId": "48c0d058-c6d1-4323-e31e-bed737544b36"
      },
      "source": [
        "np.sqrt(2)"
      ],
      "execution_count": 16,
      "outputs": [
        {
          "output_type": "execute_result",
          "data": {
            "text/plain": [
              "1.4142135623730951"
            ]
          },
          "metadata": {},
          "execution_count": 16
        }
      ]
    },
    {
      "cell_type": "markdown",
      "metadata": {
        "id": "H_dGsM1Zkz_C"
      },
      "source": [
        "## 3. Сложение матриц и умножение на число"
      ]
    },
    {
      "cell_type": "markdown",
      "metadata": {
        "id": "yo8gpS5ckz_C"
      },
      "source": [
        "Матрицы складываются поэлементно. При умножении на число все элементы матрицы умножаются на это число."
      ]
    },
    {
      "cell_type": "code",
      "metadata": {
        "id": "8ck7PJRzkz_C"
      },
      "source": [
        "a = np.random.randint(0, 10, size=(2, 2))\n",
        "b = np.random.randint(0, 10, size=(2, 2))"
      ],
      "execution_count": 17,
      "outputs": []
    },
    {
      "cell_type": "code",
      "metadata": {
        "id": "MVs2AQSbkz_D",
        "colab": {
          "base_uri": "https://localhost:8080/"
        },
        "outputId": "e395f6d5-d726-41a6-b2f8-48a3489d16a8"
      },
      "source": [
        "a, b"
      ],
      "execution_count": 18,
      "outputs": [
        {
          "output_type": "execute_result",
          "data": {
            "text/plain": [
              "(array([[7, 0],\n",
              "        [1, 8]]), array([[7, 9],\n",
              "        [1, 0]]))"
            ]
          },
          "metadata": {},
          "execution_count": 18
        }
      ]
    },
    {
      "cell_type": "code",
      "metadata": {
        "id": "29mdR4btkz_D",
        "colab": {
          "base_uri": "https://localhost:8080/"
        },
        "outputId": "d88d224f-3c3c-42e0-ecee-87187936b31d"
      },
      "source": [
        "a + b"
      ],
      "execution_count": 19,
      "outputs": [
        {
          "output_type": "execute_result",
          "data": {
            "text/plain": [
              "array([[14,  9],\n",
              "       [ 2,  8]])"
            ]
          },
          "metadata": {},
          "execution_count": 19
        }
      ]
    },
    {
      "cell_type": "code",
      "metadata": {
        "id": "DySPiplakz_D",
        "colab": {
          "base_uri": "https://localhost:8080/"
        },
        "outputId": "c6d47bde-d498-4f32-9697-682b3a4071c3"
      },
      "source": [
        "a"
      ],
      "execution_count": 20,
      "outputs": [
        {
          "output_type": "execute_result",
          "data": {
            "text/plain": [
              "array([[7, 0],\n",
              "       [1, 8]])"
            ]
          },
          "metadata": {},
          "execution_count": 20
        }
      ]
    },
    {
      "cell_type": "code",
      "metadata": {
        "id": "R3oS4FQpkz_D",
        "colab": {
          "base_uri": "https://localhost:8080/"
        },
        "outputId": "61990a09-e673-416c-a9a8-376e5e35ffc6"
      },
      "source": [
        "a * 2"
      ],
      "execution_count": 21,
      "outputs": [
        {
          "output_type": "execute_result",
          "data": {
            "text/plain": [
              "array([[14,  0],\n",
              "       [ 2, 16]])"
            ]
          },
          "metadata": {},
          "execution_count": 21
        }
      ]
    },
    {
      "cell_type": "markdown",
      "metadata": {
        "id": "fowuSdR2kz_D"
      },
      "source": [
        "$I$ или $E$ – единичная матрица"
      ]
    },
    {
      "cell_type": "code",
      "metadata": {
        "id": "q_S9_26bkz_E"
      },
      "source": [
        "eye_matrix = np.eye(3)"
      ],
      "execution_count": 22,
      "outputs": []
    },
    {
      "cell_type": "code",
      "metadata": {
        "id": "BQQJu0stkz_E",
        "colab": {
          "base_uri": "https://localhost:8080/"
        },
        "outputId": "10e4cbad-b9f7-4bca-bb49-d2cc72265511"
      },
      "source": [
        "eye_matrix"
      ],
      "execution_count": 23,
      "outputs": [
        {
          "output_type": "execute_result",
          "data": {
            "text/plain": [
              "array([[1., 0., 0.],\n",
              "       [0., 1., 0.],\n",
              "       [0., 0., 1.]])"
            ]
          },
          "metadata": {},
          "execution_count": 23
        }
      ]
    },
    {
      "cell_type": "code",
      "metadata": {
        "id": "TzqElb0Tkz_E",
        "colab": {
          "base_uri": "https://localhost:8080/"
        },
        "outputId": "8701bda1-539f-490d-837d-611399945e34"
      },
      "source": [
        "eye_matrix * 5"
      ],
      "execution_count": 24,
      "outputs": [
        {
          "output_type": "execute_result",
          "data": {
            "text/plain": [
              "array([[5., 0., 0.],\n",
              "       [0., 5., 0.],\n",
              "       [0., 0., 5.]])"
            ]
          },
          "metadata": {},
          "execution_count": 24
        }
      ]
    },
    {
      "cell_type": "markdown",
      "metadata": {
        "id": "-M4uq_imkz_E"
      },
      "source": [
        "## 4. Умножение матриц"
      ]
    },
    {
      "cell_type": "markdown",
      "metadata": {
        "id": "OlRIttdWkz_E"
      },
      "source": [
        "Для умножения нужно, чтобы **средние** размерности совпадали: умножить можно только $n*k$ на $k*m$  \n",
        "Под средними размерностями подразумеваются те размерности, которые находятся посередине при записи размерностей двух матриц. В примере выше это *k*"
      ]
    },
    {
      "cell_type": "code",
      "metadata": {
        "id": "Mq0qt9dtkz_F",
        "colab": {
          "base_uri": "https://localhost:8080/"
        },
        "outputId": "62b9270f-209c-492d-ac4b-4e11c64acaa2"
      },
      "source": [
        "a"
      ],
      "execution_count": 25,
      "outputs": [
        {
          "output_type": "execute_result",
          "data": {
            "text/plain": [
              "array([[7, 0],\n",
              "       [1, 8]])"
            ]
          },
          "metadata": {},
          "execution_count": 25
        }
      ]
    },
    {
      "cell_type": "code",
      "metadata": {
        "id": "BiysytWqkz_F",
        "colab": {
          "base_uri": "https://localhost:8080/"
        },
        "outputId": "92a91d14-dfda-4748-d4d7-19eba00a0a7a"
      },
      "source": [
        "b"
      ],
      "execution_count": 26,
      "outputs": [
        {
          "output_type": "execute_result",
          "data": {
            "text/plain": [
              "array([[7, 9],\n",
              "       [1, 0]])"
            ]
          },
          "metadata": {},
          "execution_count": 26
        }
      ]
    },
    {
      "cell_type": "markdown",
      "metadata": {
        "id": "76KmC7o3kz_F"
      },
      "source": [
        "Проверим на первой строке первой матрицы и на первом столбце второй матрицы  \n",
        "**1, 1** – первая строка первой матрицы, первый столбец второй матрицы  \n",
        "([5 7], [1 2]) – скалярное произведение этих векторов\n",
        "\n",
        "5\\*1 + 7\\*2 = 19\n",
        "\n",
        "\n",
        "**1, 2**  \n",
        "([5, 7], [2, 6])  \n",
        "5\\*2 + 7\\*6 = 52"
      ]
    },
    {
      "cell_type": "code",
      "metadata": {
        "id": "ZbEB4o7Qkz_F",
        "colab": {
          "base_uri": "https://localhost:8080/"
        },
        "outputId": "128bbc88-6e87-45ae-cbfa-ef21370b79b9"
      },
      "source": [
        "np.dot(a, b)"
      ],
      "execution_count": 27,
      "outputs": [
        {
          "output_type": "execute_result",
          "data": {
            "text/plain": [
              "array([[49, 63],\n",
              "       [15,  9]])"
            ]
          },
          "metadata": {},
          "execution_count": 27
        }
      ]
    },
    {
      "cell_type": "code",
      "metadata": {
        "id": "W9i1tj9zkz_F",
        "colab": {
          "base_uri": "https://localhost:8080/"
        },
        "outputId": "d2f33e38-f3b7-4566-893e-54c988f93295"
      },
      "source": [
        "a @ b"
      ],
      "execution_count": 28,
      "outputs": [
        {
          "output_type": "execute_result",
          "data": {
            "text/plain": [
              "array([[49, 63],\n",
              "       [15,  9]])"
            ]
          },
          "metadata": {},
          "execution_count": 28
        }
      ]
    },
    {
      "cell_type": "code",
      "metadata": {
        "id": "CaSyru4skz_G",
        "colab": {
          "base_uri": "https://localhost:8080/"
        },
        "outputId": "08ad71bf-d2d6-4302-fc2c-33618e81670c"
      },
      "source": [
        "np.matmul(a, b)"
      ],
      "execution_count": 29,
      "outputs": [
        {
          "output_type": "execute_result",
          "data": {
            "text/plain": [
              "array([[49, 63],\n",
              "       [15,  9]])"
            ]
          },
          "metadata": {},
          "execution_count": 29
        }
      ]
    },
    {
      "cell_type": "markdown",
      "metadata": {
        "id": "1LDe6zPekz_G"
      },
      "source": [
        "dot и matmul работают одинаково для 2д матриц, но matmul не позволяет перемножать скаляры и работает по-другому для измерений 3+"
      ]
    },
    {
      "cell_type": "code",
      "metadata": {
        "id": "ecUKEd7dkz_G"
      },
      "source": [
        "a = np.random.randint(0, 5, (2, 5))\n",
        "b = np.random.randint(0, 5, (5, 3))"
      ],
      "execution_count": 30,
      "outputs": []
    },
    {
      "cell_type": "code",
      "metadata": {
        "id": "8oPgRp_1kz_G",
        "colab": {
          "base_uri": "https://localhost:8080/"
        },
        "outputId": "745a8476-2b82-49ff-85c0-55e88729aeb8"
      },
      "source": [
        "a, b"
      ],
      "execution_count": 31,
      "outputs": [
        {
          "output_type": "execute_result",
          "data": {
            "text/plain": [
              "(array([[1, 1, 4, 3, 4],\n",
              "        [4, 3, 0, 1, 2]]), array([[4, 4, 0],\n",
              "        [2, 2, 2],\n",
              "        [2, 0, 3],\n",
              "        [4, 1, 0],\n",
              "        [2, 1, 3]]))"
            ]
          },
          "metadata": {},
          "execution_count": 31
        }
      ]
    },
    {
      "cell_type": "code",
      "metadata": {
        "id": "Af0861a6kz_G"
      },
      "source": [
        "result = np.matmul(a, b)"
      ],
      "execution_count": 32,
      "outputs": []
    },
    {
      "cell_type": "code",
      "metadata": {
        "id": "2Wu4HvmVkz_G",
        "colab": {
          "base_uri": "https://localhost:8080/"
        },
        "outputId": "ce72a197-abd7-4484-c0d4-2dcddf479a45"
      },
      "source": [
        "result"
      ],
      "execution_count": 33,
      "outputs": [
        {
          "output_type": "execute_result",
          "data": {
            "text/plain": [
              "array([[34, 13, 26],\n",
              "       [30, 25, 12]])"
            ]
          },
          "metadata": {},
          "execution_count": 33
        }
      ]
    },
    {
      "cell_type": "markdown",
      "metadata": {
        "id": "96zcES2vkz_G"
      },
      "source": [
        "Размерность:"
      ]
    },
    {
      "cell_type": "code",
      "metadata": {
        "id": "FYxnB08Ckz_H",
        "colab": {
          "base_uri": "https://localhost:8080/"
        },
        "outputId": "e15edd1e-40d1-4999-862d-ea8a06aaad68"
      },
      "source": [
        "result.shape"
      ],
      "execution_count": 34,
      "outputs": [
        {
          "output_type": "execute_result",
          "data": {
            "text/plain": [
              "(2, 3)"
            ]
          },
          "metadata": {},
          "execution_count": 34
        }
      ]
    },
    {
      "cell_type": "markdown",
      "metadata": {
        "id": "qm50vGWekz_H"
      },
      "source": [
        "## 5. Связь со скалярным произведением"
      ]
    },
    {
      "cell_type": "code",
      "metadata": {
        "id": "BiU1A4s2kz_H",
        "colab": {
          "base_uri": "https://localhost:8080/"
        },
        "outputId": "55ff820a-7ea2-4595-93bd-a88b01cd6f71"
      },
      "source": [
        "result"
      ],
      "execution_count": 35,
      "outputs": [
        {
          "output_type": "execute_result",
          "data": {
            "text/plain": [
              "array([[34, 13, 26],\n",
              "       [30, 25, 12]])"
            ]
          },
          "metadata": {},
          "execution_count": 35
        }
      ]
    },
    {
      "cell_type": "code",
      "metadata": {
        "id": "qj5wB2kSkz_H",
        "colab": {
          "base_uri": "https://localhost:8080/"
        },
        "outputId": "ab892658-48aa-480e-8700-7639e99ba431"
      },
      "source": [
        "# i = 1, j = 2\n",
        "result[1, 2]"
      ],
      "execution_count": 36,
      "outputs": [
        {
          "output_type": "execute_result",
          "data": {
            "text/plain": [
              "12"
            ]
          },
          "metadata": {},
          "execution_count": 36
        }
      ]
    },
    {
      "cell_type": "code",
      "metadata": {
        "id": "ceCBCzN0kz_H",
        "colab": {
          "base_uri": "https://localhost:8080/"
        },
        "outputId": "2c8472ab-2ee1-4d52-f0a6-e2a13fb638c8"
      },
      "source": [
        "a, b"
      ],
      "execution_count": 37,
      "outputs": [
        {
          "output_type": "execute_result",
          "data": {
            "text/plain": [
              "(array([[1, 1, 4, 3, 4],\n",
              "        [4, 3, 0, 1, 2]]), array([[4, 4, 0],\n",
              "        [2, 2, 2],\n",
              "        [2, 0, 3],\n",
              "        [4, 1, 0],\n",
              "        [2, 1, 3]]))"
            ]
          },
          "metadata": {},
          "execution_count": 37
        }
      ]
    },
    {
      "cell_type": "code",
      "metadata": {
        "id": "QcZ1NQZKkz_H",
        "colab": {
          "base_uri": "https://localhost:8080/"
        },
        "outputId": "522ee979-dd96-4c30-e2eb-c5610deb8bc8"
      },
      "source": [
        "np.dot(a[1,:], b[:, 2])"
      ],
      "execution_count": 38,
      "outputs": [
        {
          "output_type": "execute_result",
          "data": {
            "text/plain": [
              "12"
            ]
          },
          "metadata": {},
          "execution_count": 38
        }
      ]
    },
    {
      "cell_type": "markdown",
      "metadata": {
        "id": "KwzJpcupkz_I"
      },
      "source": [
        "В результате умножения матриц в элементе с индексом (i, j) лежит скалярное произведение i-й строки первой матрицы на j-й столбец второй матрицы"
      ]
    },
    {
      "cell_type": "markdown",
      "metadata": {
        "id": "dCk6k6mFkz_I"
      },
      "source": [
        "## 6. Умножение матриц некоммутативно"
      ]
    },
    {
      "cell_type": "markdown",
      "metadata": {
        "id": "AB7ExXTGkz_I"
      },
      "source": [
        "Если средние размерности не совпадают, то умножить вообще нельзя:"
      ]
    },
    {
      "cell_type": "markdown",
      "metadata": {
        "id": "ysT4lntZkz_I"
      },
      "source": [
        "Перемножение скаляров коммутативно:"
      ]
    },
    {
      "cell_type": "code",
      "metadata": {
        "id": "FhU9BPF_kz_I",
        "colab": {
          "base_uri": "https://localhost:8080/"
        },
        "outputId": "a137e4ff-eac9-4e6d-a91e-900fd48483e1"
      },
      "source": [
        "2 * 3 == 3 * 2"
      ],
      "execution_count": 39,
      "outputs": [
        {
          "output_type": "execute_result",
          "data": {
            "text/plain": [
              "True"
            ]
          },
          "metadata": {},
          "execution_count": 39
        }
      ]
    },
    {
      "cell_type": "code",
      "metadata": {
        "id": "dZCRX57Akz_I"
      },
      "source": [
        "a = np.random.randint(0, 5, (2, 5))\n",
        "b = np.random.randint(0, 5, (4, 3))\n",
        "# np.dot(a, b)"
      ],
      "execution_count": 40,
      "outputs": []
    },
    {
      "cell_type": "markdown",
      "metadata": {
        "id": "yGmj2B3ykz_J"
      },
      "source": [
        "Средние размерности совпадают, но размерности матриц разные:"
      ]
    },
    {
      "cell_type": "code",
      "metadata": {
        "id": "_r0lSOrWkz_J"
      },
      "source": [
        "a = np.random.randint(0, 5, (2, 5))\n",
        "b = np.random.randint(0, 5, (5, 3))"
      ],
      "execution_count": 41,
      "outputs": []
    },
    {
      "cell_type": "code",
      "metadata": {
        "id": "59gRDtAkkz_J"
      },
      "source": [
        "# np.dot(a, b)"
      ],
      "execution_count": 42,
      "outputs": []
    },
    {
      "cell_type": "code",
      "metadata": {
        "id": "5dcfqW0Ukz_J"
      },
      "source": [
        "# np.dot(b, a)"
      ],
      "execution_count": 43,
      "outputs": []
    },
    {
      "cell_type": "markdown",
      "metadata": {
        "id": "UF2-pLe1kz_J"
      },
      "source": [
        "Размерности матриц одинаковые:"
      ]
    },
    {
      "cell_type": "code",
      "metadata": {
        "id": "MPDvPo4ykz_J"
      },
      "source": [
        "a = np.random.randint(0, 5, (2, 2))\n",
        "b = np.random.randint(0, 5, (2, 2))"
      ],
      "execution_count": 44,
      "outputs": []
    },
    {
      "cell_type": "code",
      "metadata": {
        "id": "HYf4c1s6kz_K",
        "colab": {
          "base_uri": "https://localhost:8080/"
        },
        "outputId": "02dc22a6-1784-4426-bff3-abfa8a2ca0fb"
      },
      "source": [
        "a, b"
      ],
      "execution_count": 45,
      "outputs": [
        {
          "output_type": "execute_result",
          "data": {
            "text/plain": [
              "(array([[2, 2],\n",
              "        [4, 4]]), array([[4, 0],\n",
              "        [0, 4]]))"
            ]
          },
          "metadata": {},
          "execution_count": 45
        }
      ]
    },
    {
      "cell_type": "code",
      "metadata": {
        "id": "X4TjAIc7kz_K",
        "colab": {
          "base_uri": "https://localhost:8080/"
        },
        "outputId": "29f0897a-6a70-4f8f-91b4-958b2b235dcf"
      },
      "source": [
        "np.dot(a, b)"
      ],
      "execution_count": 46,
      "outputs": [
        {
          "output_type": "execute_result",
          "data": {
            "text/plain": [
              "array([[ 8,  8],\n",
              "       [16, 16]])"
            ]
          },
          "metadata": {},
          "execution_count": 46
        }
      ]
    },
    {
      "cell_type": "code",
      "metadata": {
        "id": "zA-xR5Qqkz_K",
        "colab": {
          "base_uri": "https://localhost:8080/"
        },
        "outputId": "2b1cccc2-1bb3-4617-a3c9-e8f357bf08a7"
      },
      "source": [
        "np.dot(b, a)"
      ],
      "execution_count": 47,
      "outputs": [
        {
          "output_type": "execute_result",
          "data": {
            "text/plain": [
              "array([[ 8,  8],\n",
              "       [16, 16]])"
            ]
          },
          "metadata": {},
          "execution_count": 47
        }
      ]
    },
    {
      "cell_type": "markdown",
      "metadata": {
        "id": "VcYhhcrakz_K"
      },
      "source": [
        "## 7. Умножение матриц ассоциативно"
      ]
    },
    {
      "cell_type": "markdown",
      "metadata": {
        "id": "BCwj_ucGkz_K"
      },
      "source": [
        "$$(AxB)xC==Ax(BxC)$$"
      ]
    },
    {
      "cell_type": "code",
      "metadata": {
        "id": "KgNsADYqkz_K"
      },
      "source": [
        "a = np.random.randint(0, 5, (2, 2))\n",
        "b = np.random.randint(0, 5, (2, 2))\n",
        "c = np.random.randint(0, 5, (2, 2))"
      ],
      "execution_count": 48,
      "outputs": []
    },
    {
      "cell_type": "code",
      "metadata": {
        "id": "75wGl0yHkz_L",
        "colab": {
          "base_uri": "https://localhost:8080/"
        },
        "outputId": "ad7ad35a-307f-440c-de49-a33f12956efe"
      },
      "source": [
        "np.dot(np.dot(a, b), c) == np.dot(a, np.dot(b, c))"
      ],
      "execution_count": 49,
      "outputs": [
        {
          "output_type": "execute_result",
          "data": {
            "text/plain": [
              "array([[ True,  True],\n",
              "       [ True,  True]])"
            ]
          },
          "metadata": {},
          "execution_count": 49
        }
      ]
    },
    {
      "cell_type": "markdown",
      "metadata": {
        "id": "BS-BH0Zdkz_L"
      },
      "source": [
        "## 8. Вычисление определителей"
      ]
    },
    {
      "cell_type": "code",
      "metadata": {
        "id": "7I7XZrIfkz_L",
        "colab": {
          "base_uri": "https://localhost:8080/"
        },
        "outputId": "14897216-8070-4b4b-d048-1d3fe12fe853"
      },
      "source": [
        "a = np.random.randint(0, 5, (2, 2))\n",
        "a"
      ],
      "execution_count": 50,
      "outputs": [
        {
          "output_type": "execute_result",
          "data": {
            "text/plain": [
              "array([[3, 4],\n",
              "       [0, 3]])"
            ]
          },
          "metadata": {},
          "execution_count": 50
        }
      ]
    },
    {
      "cell_type": "code",
      "metadata": {
        "id": "3h6ZCyDQkz_L",
        "colab": {
          "base_uri": "https://localhost:8080/"
        },
        "outputId": "0ba560cb-dc5d-48cf-b528-c6ed0101d6db"
      },
      "source": [
        "det = a[0, 0]*a[1, 1] - a[1, 0]*a[0, 1]\n",
        "det"
      ],
      "execution_count": 51,
      "outputs": [
        {
          "output_type": "execute_result",
          "data": {
            "text/plain": [
              "9"
            ]
          },
          "metadata": {},
          "execution_count": 51
        }
      ]
    },
    {
      "cell_type": "code",
      "metadata": {
        "id": "pw0p4Xj2kz_L",
        "colab": {
          "base_uri": "https://localhost:8080/"
        },
        "outputId": "510a7f54-7956-40d7-97f4-536b1b5782b1"
      },
      "source": [
        "np.linalg.det(a)"
      ],
      "execution_count": 52,
      "outputs": [
        {
          "output_type": "execute_result",
          "data": {
            "text/plain": [
              "9.000000000000002"
            ]
          },
          "metadata": {},
          "execution_count": 52
        }
      ]
    },
    {
      "cell_type": "markdown",
      "metadata": {
        "id": "WZ3E6smmkz_L"
      },
      "source": [
        "Примеры:"
      ]
    },
    {
      "cell_type": "code",
      "metadata": {
        "id": "FjqkQ_D-kz_L",
        "colab": {
          "base_uri": "https://localhost:8080/"
        },
        "outputId": "be711cb4-a17f-483c-dbe1-292ea74480a5"
      },
      "source": [
        "# Вторая строка равна первой, умноженной на 2 – строки линейно зависимы\n",
        "np.linalg.det(np.array([[1, 2], [2, 4]]))"
      ],
      "execution_count": 53,
      "outputs": [
        {
          "output_type": "execute_result",
          "data": {
            "text/plain": [
              "0.0"
            ]
          },
          "metadata": {},
          "execution_count": 53
        }
      ]
    },
    {
      "cell_type": "code",
      "metadata": {
        "id": "3db78IlPkz_M",
        "colab": {
          "base_uri": "https://localhost:8080/"
        },
        "outputId": "7e972ef4-e32b-489c-d7f3-31b0850f16b6"
      },
      "source": [
        "# Диагональная матрица, поэтому произведение элементов на диагонали\n",
        "np.linalg.det(np.array([[2, 0], [0, 3]]))"
      ],
      "execution_count": 54,
      "outputs": [
        {
          "output_type": "execute_result",
          "data": {
            "text/plain": [
              "6.0"
            ]
          },
          "metadata": {},
          "execution_count": 54
        }
      ]
    },
    {
      "cell_type": "code",
      "metadata": {
        "id": "JwIVPlG1kz_M",
        "colab": {
          "base_uri": "https://localhost:8080/"
        },
        "outputId": "615505fb-e5ed-439d-fedc-8807bda1c33e"
      },
      "source": [
        "np.array([[2, 2], [0, 3]])"
      ],
      "execution_count": 55,
      "outputs": [
        {
          "output_type": "execute_result",
          "data": {
            "text/plain": [
              "array([[2, 2],\n",
              "       [0, 3]])"
            ]
          },
          "metadata": {},
          "execution_count": 55
        }
      ]
    },
    {
      "cell_type": "code",
      "metadata": {
        "id": "wsmrUhMWkz_M",
        "colab": {
          "base_uri": "https://localhost:8080/"
        },
        "outputId": "eb5cafd2-f6f6-462c-cc30-ffb75f33e76c"
      },
      "source": [
        "# Верхнетреугольная матрица, поэтому произведение элементов на диагонали\n",
        "np.linalg.det(np.array([[2, 2], [0, 3]]))"
      ],
      "execution_count": 56,
      "outputs": [
        {
          "output_type": "execute_result",
          "data": {
            "text/plain": [
              "6.0"
            ]
          },
          "metadata": {},
          "execution_count": 56
        }
      ]
    },
    {
      "cell_type": "markdown",
      "metadata": {
        "id": "-QoVTJ6pkz_M"
      },
      "source": [
        "## 9. Определитель произведения матриц"
      ]
    },
    {
      "cell_type": "markdown",
      "metadata": {
        "id": "D4IQZNPrkz_M"
      },
      "source": [
        "$$det(A*B)=det(A)*det(B)$$"
      ]
    },
    {
      "cell_type": "code",
      "metadata": {
        "id": "wvWL5z3Mkz_M"
      },
      "source": [
        "a = np.random.randint(0, 5, (2, 2))\n",
        "b = np.random.randint(0, 5, (2, 2))"
      ],
      "execution_count": 57,
      "outputs": []
    },
    {
      "cell_type": "code",
      "metadata": {
        "id": "rlOgfIdMkz_M",
        "colab": {
          "base_uri": "https://localhost:8080/"
        },
        "outputId": "bb308d0b-87ba-4b5d-d2f5-81e88e1cf71b"
      },
      "source": [
        "a, b"
      ],
      "execution_count": 58,
      "outputs": [
        {
          "output_type": "execute_result",
          "data": {
            "text/plain": [
              "(array([[3, 1],\n",
              "        [1, 0]]), array([[2, 0],\n",
              "        [4, 2]]))"
            ]
          },
          "metadata": {},
          "execution_count": 58
        }
      ]
    },
    {
      "cell_type": "code",
      "metadata": {
        "id": "tR8ipnqpkz_M",
        "colab": {
          "base_uri": "https://localhost:8080/"
        },
        "outputId": "282be65a-df19-44c9-f9b9-2703b95f610a"
      },
      "source": [
        "np.linalg.det(np.dot(a, b))"
      ],
      "execution_count": 59,
      "outputs": [
        {
          "output_type": "execute_result",
          "data": {
            "text/plain": [
              "-4.000000000000001"
            ]
          },
          "metadata": {},
          "execution_count": 59
        }
      ]
    },
    {
      "cell_type": "code",
      "metadata": {
        "id": "RQNeCs70kz_N",
        "colab": {
          "base_uri": "https://localhost:8080/"
        },
        "outputId": "c1495ace-9cbd-49f0-a4c2-ee3d38720c91"
      },
      "source": [
        "np.linalg.det(a) * np.linalg.det(b)"
      ],
      "execution_count": 60,
      "outputs": [
        {
          "output_type": "execute_result",
          "data": {
            "text/plain": [
              "-4.0"
            ]
          },
          "metadata": {},
          "execution_count": 60
        }
      ]
    },
    {
      "cell_type": "markdown",
      "metadata": {
        "id": "KmEJRZVskz_N"
      },
      "source": [
        "## 10. Единичная и обратная матрицы"
      ]
    },
    {
      "cell_type": "markdown",
      "metadata": {
        "id": "XlTriJ-7kz_N"
      },
      "source": [
        "Вычисления работают для квадратных матриц. Если определитель равен 0, обратной матрицы не существует."
      ]
    },
    {
      "cell_type": "markdown",
      "metadata": {
        "id": "QONVZQZDkz_N"
      },
      "source": [
        "$$A \\cdot A^{-1} = E$$"
      ]
    },
    {
      "cell_type": "code",
      "metadata": {
        "id": "Y0E1T-6Xkz_N",
        "colab": {
          "base_uri": "https://localhost:8080/"
        },
        "outputId": "1da3518c-89c6-4988-8407-8ab1bdf92d43"
      },
      "source": [
        "a"
      ],
      "execution_count": 61,
      "outputs": [
        {
          "output_type": "execute_result",
          "data": {
            "text/plain": [
              "array([[3, 1],\n",
              "       [1, 0]])"
            ]
          },
          "metadata": {},
          "execution_count": 61
        }
      ]
    },
    {
      "cell_type": "code",
      "metadata": {
        "id": "oDvvYG8dkz_N",
        "colab": {
          "base_uri": "https://localhost:8080/"
        },
        "outputId": "63176572-c2a5-48ba-9d51-1a17fecf2159"
      },
      "source": [
        "np.linalg.det(a)"
      ],
      "execution_count": 62,
      "outputs": [
        {
          "output_type": "execute_result",
          "data": {
            "text/plain": [
              "-1.0"
            ]
          },
          "metadata": {},
          "execution_count": 62
        }
      ]
    },
    {
      "cell_type": "code",
      "metadata": {
        "id": "qYnAXUJzkz_N",
        "colab": {
          "base_uri": "https://localhost:8080/"
        },
        "outputId": "9d02d9e9-b8f4-47f1-caa2-b4cfd0e6a0a7"
      },
      "source": [
        "np.linalg.inv(a)"
      ],
      "execution_count": 63,
      "outputs": [
        {
          "output_type": "execute_result",
          "data": {
            "text/plain": [
              "array([[ 0.,  1.],\n",
              "       [ 1., -3.]])"
            ]
          },
          "metadata": {},
          "execution_count": 63
        }
      ]
    },
    {
      "cell_type": "code",
      "metadata": {
        "id": "XM_E6jLQkz_O",
        "colab": {
          "base_uri": "https://localhost:8080/"
        },
        "outputId": "42bc6da4-0076-4902-92fa-8c061d4e4e8a"
      },
      "source": [
        "np.dot(np.linalg.inv(a), a)"
      ],
      "execution_count": 64,
      "outputs": [
        {
          "output_type": "execute_result",
          "data": {
            "text/plain": [
              "array([[1., 0.],\n",
              "       [0., 1.]])"
            ]
          },
          "metadata": {},
          "execution_count": 64
        }
      ]
    },
    {
      "cell_type": "code",
      "metadata": {
        "id": "d9erF8pHkz_O",
        "colab": {
          "base_uri": "https://localhost:8080/"
        },
        "outputId": "9a627afd-b66d-441d-f1e7-7cbd8574b6fd"
      },
      "source": [
        "np.linalg.det(np.array([[1, 2], [2, 4]]))"
      ],
      "execution_count": 65,
      "outputs": [
        {
          "output_type": "execute_result",
          "data": {
            "text/plain": [
              "0.0"
            ]
          },
          "metadata": {},
          "execution_count": 65
        }
      ]
    },
    {
      "cell_type": "code",
      "metadata": {
        "id": "-9IXY35Pkz_O"
      },
      "source": [
        "# np.linalg.inv(np.array([[1, 2], [2, 4]]))\n",
        "# LinAlgError: Singular matrix"
      ],
      "execution_count": 66,
      "outputs": []
    },
    {
      "cell_type": "markdown",
      "metadata": {
        "id": "HN_VJVE-kz_O"
      },
      "source": [
        "## 11. Коммутативность прямой и обратной матрицы"
      ]
    },
    {
      "cell_type": "markdown",
      "metadata": {
        "id": "z_BSezkakz_O"
      },
      "source": [
        "$$A \\cdot A^{-1} = A^{-1} \\cdot A  = E$$"
      ]
    },
    {
      "cell_type": "code",
      "metadata": {
        "id": "zr1uxPCxkz_O",
        "colab": {
          "base_uri": "https://localhost:8080/"
        },
        "outputId": "da184751-6cf4-47f0-b5ed-4df59f534abd"
      },
      "source": [
        "a"
      ],
      "execution_count": 67,
      "outputs": [
        {
          "output_type": "execute_result",
          "data": {
            "text/plain": [
              "array([[3, 1],\n",
              "       [1, 0]])"
            ]
          },
          "metadata": {},
          "execution_count": 67
        }
      ]
    },
    {
      "cell_type": "code",
      "metadata": {
        "id": "r8FIPyYqkz_O"
      },
      "source": [
        "inv_a = np.linalg.inv(a)"
      ],
      "execution_count": 68,
      "outputs": []
    },
    {
      "cell_type": "code",
      "metadata": {
        "id": "twrGlcSBkz_O",
        "colab": {
          "base_uri": "https://localhost:8080/"
        },
        "outputId": "8b2a5eba-d4f9-4827-a39a-df88ebf8d992"
      },
      "source": [
        "inv_a"
      ],
      "execution_count": 69,
      "outputs": [
        {
          "output_type": "execute_result",
          "data": {
            "text/plain": [
              "array([[ 0.,  1.],\n",
              "       [ 1., -3.]])"
            ]
          },
          "metadata": {},
          "execution_count": 69
        }
      ]
    },
    {
      "cell_type": "code",
      "metadata": {
        "id": "lbrlvJ-9kz_P",
        "colab": {
          "base_uri": "https://localhost:8080/"
        },
        "outputId": "081d31f3-2aa2-44a6-84ec-b33c7605b2d2"
      },
      "source": [
        "np.dot(a, inv_a).astype(int)"
      ],
      "execution_count": 70,
      "outputs": [
        {
          "output_type": "execute_result",
          "data": {
            "text/plain": [
              "array([[1, 0],\n",
              "       [0, 1]])"
            ]
          },
          "metadata": {},
          "execution_count": 70
        }
      ]
    },
    {
      "cell_type": "code",
      "metadata": {
        "id": "Ud581M1Kkz_P",
        "colab": {
          "base_uri": "https://localhost:8080/"
        },
        "outputId": "9b6dc809-05a0-4070-a27d-68ea3f4e3898"
      },
      "source": [
        "np.dot(inv_a, a)"
      ],
      "execution_count": 71,
      "outputs": [
        {
          "output_type": "execute_result",
          "data": {
            "text/plain": [
              "array([[1., 0.],\n",
              "       [0., 1.]])"
            ]
          },
          "metadata": {},
          "execution_count": 71
        }
      ]
    },
    {
      "cell_type": "markdown",
      "metadata": {
        "id": "2hao9fRYkz_P"
      },
      "source": [
        "## 12. Поиск обратной матрицы методом Крамера"
      ]
    },
    {
      "cell_type": "code",
      "metadata": {
        "id": "hzl0cM_Qkz_P"
      },
      "source": [
        "def matrix_inverse(m):\n",
        "    # только 2D\n",
        "    determinant = np.linalg.det(m)\n",
        "    return [[m[1][1]/determinant, -1*m[0][1]/determinant],\n",
        "            [-1*m[1][0]/determinant, m[0][0]/determinant]]"
      ],
      "execution_count": 72,
      "outputs": []
    },
    {
      "cell_type": "code",
      "metadata": {
        "id": "hRIszEShkz_P",
        "colab": {
          "base_uri": "https://localhost:8080/"
        },
        "outputId": "14d02606-82f2-4988-caab-d56e26fb86fa"
      },
      "source": [
        "a"
      ],
      "execution_count": 73,
      "outputs": [
        {
          "output_type": "execute_result",
          "data": {
            "text/plain": [
              "array([[3, 1],\n",
              "       [1, 0]])"
            ]
          },
          "metadata": {},
          "execution_count": 73
        }
      ]
    },
    {
      "cell_type": "code",
      "metadata": {
        "id": "29iEBMiRkz_P",
        "colab": {
          "base_uri": "https://localhost:8080/"
        },
        "outputId": "540bea45-a552-4cd6-ca79-e5fab103c755"
      },
      "source": [
        "np.linalg.inv(a)"
      ],
      "execution_count": 74,
      "outputs": [
        {
          "output_type": "execute_result",
          "data": {
            "text/plain": [
              "array([[ 0.,  1.],\n",
              "       [ 1., -3.]])"
            ]
          },
          "metadata": {},
          "execution_count": 74
        }
      ]
    },
    {
      "cell_type": "code",
      "metadata": {
        "id": "WsGI33rFkz_P",
        "colab": {
          "base_uri": "https://localhost:8080/"
        },
        "outputId": "72bb8e8a-b3b1-4e35-d299-654e38573de8"
      },
      "source": [
        "np.array(matrix_inverse(a))"
      ],
      "execution_count": 75,
      "outputs": [
        {
          "output_type": "execute_result",
          "data": {
            "text/plain": [
              "array([[-0.,  1.],\n",
              "       [ 1., -3.]])"
            ]
          },
          "metadata": {},
          "execution_count": 75
        }
      ]
    },
    {
      "cell_type": "markdown",
      "metadata": {
        "id": "uWU0lfXVkz_Q"
      },
      "source": [
        "## 13. Тензорное произведение векторов"
      ]
    },
    {
      "cell_type": "markdown",
      "metadata": {
        "id": "7BmT0HURkz_Q"
      },
      "source": [
        "Как работает:"
      ]
    },
    {
      "cell_type": "markdown",
      "metadata": {
        "id": "YXU8GKb0kz_Q"
      },
      "source": [
        "$$a = \n",
        "\\begin{pmatrix}\n",
        "a_1 & a_2\n",
        "\\end{pmatrix}$$"
      ]
    },
    {
      "cell_type": "markdown",
      "metadata": {
        "id": "UyReCHdQkz_Q"
      },
      "source": [
        "$$b = \n",
        "\\begin{pmatrix}\n",
        "b_1 & b_2\n",
        "\\end{pmatrix}$$"
      ]
    },
    {
      "cell_type": "markdown",
      "metadata": {
        "id": "XWQyo9dMkz_Q"
      },
      "source": [
        "$$\n",
        "c = a \\space tensordot \\space b = \n",
        "\\begin{pmatrix}\n",
        "a_1 \\cdot [b_1, b_2] \\\\\n",
        "a_2 \\cdot [b_1, b_2] \\\\\n",
        "\\end{pmatrix}\n",
        "$$"
      ]
    },
    {
      "cell_type": "code",
      "metadata": {
        "id": "Y-_EK2gGkz_Q"
      },
      "source": [
        "a = np.random.randint(0, 10, size=2)\n",
        "b = np.random.randint(0, 10, size=2)"
      ],
      "execution_count": 76,
      "outputs": []
    },
    {
      "cell_type": "code",
      "metadata": {
        "id": "vy-KpFU3kz_Q",
        "colab": {
          "base_uri": "https://localhost:8080/"
        },
        "outputId": "d7169614-3113-4612-a207-5c1b5c44b1cb"
      },
      "source": [
        "a, b"
      ],
      "execution_count": 77,
      "outputs": [
        {
          "output_type": "execute_result",
          "data": {
            "text/plain": [
              "(array([8, 5]), array([2, 2]))"
            ]
          },
          "metadata": {},
          "execution_count": 77
        }
      ]
    },
    {
      "cell_type": "code",
      "metadata": {
        "id": "rPbTZ7r8kz_Q",
        "colab": {
          "base_uri": "https://localhost:8080/"
        },
        "outputId": "c74a9dbf-55f1-476c-a572-84263e5d2a9b"
      },
      "source": [
        "np.tensordot(a, b, axes=0)"
      ],
      "execution_count": 78,
      "outputs": [
        {
          "output_type": "execute_result",
          "data": {
            "text/plain": [
              "array([[16, 16],\n",
              "       [10, 10]])"
            ]
          },
          "metadata": {},
          "execution_count": 78
        }
      ]
    },
    {
      "cell_type": "markdown",
      "metadata": {
        "id": "Q472kr3lkz_Q"
      },
      "source": [
        "Ссылка: https://machinelearningmastery.com/introduction-to-tensors-for-machine-learning/"
      ]
    },
    {
      "cell_type": "markdown",
      "metadata": {
        "id": "HmSCkBiNkz_R"
      },
      "source": [
        "Посмотрим как делать slice в тензоре"
      ]
    },
    {
      "cell_type": "code",
      "metadata": {
        "id": "t9SfLcWRkz_R"
      },
      "source": [
        "test = np.random.randint(0, 10, size=(2, 2, 3))"
      ],
      "execution_count": 79,
      "outputs": []
    },
    {
      "cell_type": "code",
      "metadata": {
        "id": "kkWaUWAAkz_R",
        "colab": {
          "base_uri": "https://localhost:8080/"
        },
        "outputId": "147deda4-2a01-44f9-e990-3b1d7bbdd377"
      },
      "source": [
        "test"
      ],
      "execution_count": 80,
      "outputs": [
        {
          "output_type": "execute_result",
          "data": {
            "text/plain": [
              "array([[[8, 3, 9],\n",
              "        [0, 9, 9]],\n",
              "\n",
              "       [[5, 7, 8],\n",
              "        [4, 7, 9]]])"
            ]
          },
          "metadata": {},
          "execution_count": 80
        }
      ]
    },
    {
      "cell_type": "code",
      "metadata": {
        "id": "XQ7uFJFLkz_R",
        "colab": {
          "base_uri": "https://localhost:8080/"
        },
        "outputId": "fd9c138f-8caa-46e7-b90c-c150212493f2"
      },
      "source": [
        "test[:, :, 1]"
      ],
      "execution_count": 81,
      "outputs": [
        {
          "output_type": "execute_result",
          "data": {
            "text/plain": [
              "array([[3, 9],\n",
              "       [7, 7]])"
            ]
          },
          "metadata": {},
          "execution_count": 81
        }
      ]
    }
  ]
}