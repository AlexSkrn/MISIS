{
  "nbformat": 4,
  "nbformat_minor": 0,
  "metadata": {
    "colab": {
      "name": "МИСИС_project_poisson.ipynb",
      "provenance": [],
      "collapsed_sections": []
    },
    "kernelspec": {
      "name": "python3",
      "display_name": "Python 3"
    },
    "language_info": {
      "name": "python"
    }
  },
  "cells": [
    {
      "cell_type": "markdown",
      "metadata": {
        "id": "6o_lZZ6YpnkT"
      },
      "source": [
        "## Задание 1\n",
        "\n",
        "#Моделирование пуассоновской случайной величины\n",
        "Процесс приема заказа хорошо моделируется распределением Пуассона - которое позволяет оценить интенсивность событий, или среднее количество событий за единицу времени.\n",
        "\n",
        "Сервис по заказу такси “Блиц” расширяется и открывается в городе Барнаул. Необходимо рассчитать примерную нагрузку на таксистов. Доступа к данным с заказами у нас нет – ещё бы, это же ценная информация! Поэтому придется эти данные сгенерировать. Напишем функцию, возвращающую случайные значения, распределенные по закону Пуассона.\n",
        "\n",
        "Как вы знаете, вероятность того, что пуассоновская случайная величина имеет значение k, равно ${f(k, l)=l^k e^{-l} / k!}$, где $l$ (лямбда) - параметр распределения.\n",
        "\n",
        "На практике мы немного модифицируем эту формулу, чтобы оптимизировать программу: при решении подсчитывать факториал на каждой итерации не нужно.\n",
        "\n",
        "Для того, чтобы сгенерировать значения такой случайной величины, воспользуемся следующим алгоритмом: выберем случайное число y из промежутка $[0, 1]$. Затем будем суммировать $f(k, l)$ до тех пор, пока сумма не превысит выбранного числа $y$. Тот k, на котором сумма превысила y - это и есть наш результат.\n",
        "\n",
        "Таким образом мы находим, при каком k значение кумулятивной функции распределения превышает выбранное случайное число.\n",
        "\n",
        "**Входные данные**: параметр $l$.\n",
        "\n",
        "**Результат**: напишите функцию poisson(l), которая будет возвращать значения, распределённые по закону Пуассона с параметром $l$.\n",
        "\n",
        "Например, poisson(3) чаще всего будет возвращать 2 или 3."
      ]
    },
    {
      "cell_type": "code",
      "metadata": {
        "colab": {
          "base_uri": "https://localhost:8080/"
        },
        "id": "7vOihYxt1AjW",
        "outputId": "c5cce614-962b-4df9-fb66-9368d5f604f2"
      },
      "source": [
        "# решение одного студента из группы (платформа не принимает)\n",
        "import random as rd\n",
        "import math\n",
        "import numpy as np\n",
        "\n",
        "def poisson(l):\n",
        "    y = rd.random()\n",
        "    k=0\n",
        "    s = (l**k)*math.exp(-l) / math.factorial(k) \n",
        "    while s <= y:\n",
        "        k+=1\n",
        "        f = (l**k)*math.exp(-l) / math.factorial(k)\n",
        "        s += f\n",
        "    return k\n",
        "\n",
        "print(np.mean([poisson(5) for i in range(200000)]))\n",
        "print(np.mean([np.random.poisson(5) for i in range(200000)]))"
      ],
      "execution_count": 3,
      "outputs": [
        {
          "output_type": "stream",
          "name": "stdout",
          "text": [
            "4.997525\n",
            "5.003485\n"
          ]
        }
      ]
    },
    {
      "cell_type": "code",
      "metadata": {
        "colab": {
          "base_uri": "https://localhost:8080/"
        },
        "id": "5ZlQDVxO_SPq",
        "outputId": "abf1910e-e350-4271-d07d-25fde360a039"
      },
      "source": [
        "# решение одного студента из группы (платформа приняла)\n",
        "import random as rd\n",
        "import math\n",
        "\n",
        "def poisson(l):\n",
        "    y = rd.random()\n",
        "    \n",
        "    sum = math.exp(-l) \n",
        "    if sum > y:\n",
        "        return 0\n",
        "    else:\n",
        "        f = math.exp(-l)*l\n",
        "        sum = sum + f\n",
        "        if sum > y:\n",
        "            return 1\n",
        "        else:\n",
        "            k=2\n",
        "            while sum <= y:\n",
        "                f = f*l / k\n",
        "                sum += f\n",
        "                k+=1\n",
        "        return (k-1)\n",
        "\n",
        "print(np.mean([poisson(5) for i in range(200000)]))"
      ],
      "execution_count": null,
      "outputs": [
        {
          "output_type": "stream",
          "name": "stdout",
          "text": [
            "4.99838\n"
          ]
        }
      ]
    },
    {
      "cell_type": "code",
      "metadata": {
        "colab": {
          "base_uri": "https://localhost:8080/"
        },
        "id": "cc7zyYQ84Cw3",
        "outputId": "e2fda1c8-9197-403a-f2c6-725e6e65d069"
      },
      "source": [
        "import random\n",
        "import math\n",
        "import numpy as np\n",
        "# вариант предложен ассистентом курса\n",
        "def poisson(l):\n",
        "    y = random.random()\n",
        "    k = 0\n",
        "    sum = math.exp(-l)\n",
        "    f = math.exp(-l)\n",
        "    while sum < y:\n",
        "        k += 1\n",
        "        f *= l / k\n",
        "        sum += f\n",
        "    return k\n",
        "\n",
        "print(np.mean([poisson(5) for i in range(200000)]))"
      ],
      "execution_count": 3,
      "outputs": [
        {
          "output_type": "stream",
          "name": "stdout",
          "text": [
            "4.993\n"
          ]
        }
      ]
    },
    {
      "cell_type": "code",
      "metadata": {
        "colab": {
          "base_uri": "https://localhost:8080/"
        },
        "id": "jdpydv5CEUmX",
        "outputId": "543a8e5a-bb63-4010-9c2f-4aca2af00428"
      },
      "source": [
        "# см. https://hpaulkeeler.com/simulating-poisson-random-variables-direct-method/\n",
        "# платформа приняла\n",
        "\n",
        "import math\n",
        "import random\n",
        "\n",
        "\n",
        "def poisson(l):\n",
        "    exp_l = math.exp(-l)\n",
        "    k = -1\n",
        "    prod_rand = 1\n",
        "    while prod_rand > exp_l:\n",
        "        prod_rand *= random.random()\n",
        "        k += 1\n",
        "    return k\n",
        "\n",
        "print(np.mean([poisson(3) for i in range(2000000)]))"
      ],
      "execution_count": null,
      "outputs": [
        {
          "output_type": "stream",
          "name": "stdout",
          "text": [
            "3.0008665\n"
          ]
        }
      ]
    },
    {
      "cell_type": "code",
      "metadata": {
        "id": "TTUa1OhFshtw"
      },
      "source": [
        "# Решение от автора:\n",
        "import math\n",
        "import random\n",
        "def poisson(l):\n",
        "    s, p, r, i = math.exp(-l), math.exp(-l), random.random(), 0\n",
        "    while s < r:\n",
        "        i += 1\n",
        "        p = p * l / i;\n",
        "        s += p\n",
        "    return i"
      ],
      "execution_count": null,
      "outputs": []
    },
    {
      "cell_type": "markdown",
      "metadata": {
        "id": "P84AUrmeT4eo"
      },
      "source": [
        "## 2\n",
        "\n",
        "# Насколько модельные данные отличаются от реальных?\n",
        "\n",
        "Отлично, сервис “Блиц” зашел на рынок транспортных услуг Барнаула и успешно доставляет пассажиров из точки А в точку N! Пришло время проверить, насколько сгенерированные нами ранее данные отличаются от реальных.\n",
        "\n",
        "Для этого напишем функцию, которая генерирует массив случайных значений и сравнивает его с реальными данными – находит средний квадрат разности. Это стандартная метрика для нахождения отклонения одной величины от другой.\n",
        "\n",
        "Будем считать, что у нас есть данные по дням за последний год (365 чисел). А именно, пусть у нас есть массив, i-й элемент которого содержит число пассажиров, перевезённых одним водителем в i-й день года. Будем считать, что эта случайная величина имеет распределение Пуассона.\n",
        "\n",
        "Вам требуется найти параметр lambda (напомним, что среднее значение пуассоновской величины как раз равно этому параметру). Затем, используя результат из предыдущей задачи, сгенерируйте 365 чисел. Имея два массива (исходные данные и сгенерированные вами), посчитайте средний квадрат разности между соответствующими значениями: sum((data_real[i] - data_generated[i])2)/365.\n",
        "\n",
        "**Входные данные**: массив data_real из 365 элементов, каждый из элементов равен количеству перевезённых пассажиров в соответствующий день.\n",
        "\n",
        "**Результат**: напишите функцию poisson_error(data), которая сгенерирует массив data_generated и вернёт средний квадрат разности между исходными и сгенерированными данными."
      ]
    },
    {
      "cell_type": "code",
      "metadata": {
        "id": "anqRu3cjNwbQ"
      },
      "source": [
        "import math\n",
        "import random\n",
        "import numpy as np\n",
        "\n",
        "\n",
        "def poisson(l):\n",
        "    exp_l = math.exp(-l)\n",
        "    k = -1\n",
        "    prod_rand = 1\n",
        "    while prod_rand > exp_l:\n",
        "        prod_rand *= random.random()\n",
        "        k += 1\n",
        "    return k\n",
        "\n",
        "\n",
        "def poisson_error(data):\n",
        "    year = 365\n",
        "    data_real = np.array(data)\n",
        "    l = data_real.mean()\n",
        "    data_generated = np.array([poisson(l) for i in range(year)])\n",
        "    return np.sum(np.square(data_real - data_generated))/year\n"
      ],
      "execution_count": 1,
      "outputs": []
    },
    {
      "cell_type": "code",
      "metadata": {
        "colab": {
          "base_uri": "https://localhost:8080/"
        },
        "id": "WAmhxg_aYpan",
        "outputId": "aa0f8a93-1f28-4636-aa79-e22d4fffe9b8"
      },
      "source": [
        "real = [poisson(15) for i in range(365)]\n",
        "poisson_error(real)"
      ],
      "execution_count": null,
      "outputs": [
        {
          "output_type": "execute_result",
          "data": {
            "text/plain": [
              "27.90958904109589"
            ]
          },
          "metadata": {},
          "execution_count": 15
        }
      ]
    },
    {
      "cell_type": "code",
      "metadata": {
        "id": "9r8l9n7Bsq3O"
      },
      "source": [
        "# Решение от автора:\n",
        "import math\n",
        "import random\n",
        "\n",
        "def poisson(l):\n",
        "    s, p, r, i = math.exp(-l), math.exp(-l), random.random(), 0\n",
        "    while s < r:\n",
        "        i += 1\n",
        "        p = p * l / i;\n",
        "        s += p\n",
        "    return i\n",
        "\n",
        "def poisson_error(data):\n",
        "    n = len(data)\n",
        "    l = sum(data) / n\n",
        "    s = 0.0\n",
        "    for i in range(n):\n",
        "        s += (data[i] - poisson(l)) ** 2\n",
        "    return s / n"
      ],
      "execution_count": null,
      "outputs": []
    },
    {
      "cell_type": "markdown",
      "metadata": {
        "id": "JZCpoz2PmkQJ"
      },
      "source": [
        "## Задание 3\n",
        "\n",
        "# Вероятность перевезти ровно k пассажиров\n",
        "Корбен, водитель сервиса такси “Блиц” решил заключить пари с другом. Он утверждает, что завтра у него будет ровно $k$ заказов. Используя исторические данные, найдите параметр пуассоновского распределения $l$ (лямбда) и оцените эту вероятность.\n",
        "\n",
        "**Входные данные**: данные по поездкам data за предыдущие 365 дней и число k.\n",
        "\n",
        "**Результат**: напишите функцию poisson_prob(data, k), вероятность того, что водитель завтра перевезёт ровно k пассажиров.\n",
        "\n",
        "**Пример**: допустим, что data имеет распределение Пуассона с параметром l=3. Тогда функция poisson_prob(data, 3) должна вернуть 0.22404180765538773 ."
      ]
    },
    {
      "cell_type": "code",
      "metadata": {
        "id": "zX4yQ1dfYqwh",
        "colab": {
          "base_uri": "https://localhost:8080/"
        },
        "outputId": "56650931-398b-4cd8-8bed-ab0b5d88faa5"
      },
      "source": [
        "import numpy as np\n",
        "\n",
        "def poisson_prob(data, k):\n",
        "    l = np.mean(data)\n",
        "    return l**k * math.exp(-l) / np.math.factorial(k)\n",
        "\n",
        "\n",
        "test_data = [poisson(3) for i in range(365)]\n",
        "\n",
        "poisson_prob(test_data, 3)"
      ],
      "execution_count": 13,
      "outputs": [
        {
          "output_type": "execute_result",
          "data": {
            "text/plain": [
              "0.223986406849875"
            ]
          },
          "metadata": {},
          "execution_count": 13
        }
      ]
    },
    {
      "cell_type": "code",
      "metadata": {
        "id": "zLZN06COoen6"
      },
      "source": [
        "# Комментарий ассистента курса:\n",
        "# Там в условии задания ошибка с аргументами\n",
        "# На вход функции передаются k и l\n",
        "def poisson_prob(k, l):\n",
        "    result = math.exp(-l)\n",
        "    for i in range(1, k + 1):\n",
        "        result *= (l / i)\n",
        "    return result"
      ],
      "execution_count": 14,
      "outputs": []
    },
    {
      "cell_type": "code",
      "metadata": {
        "colab": {
          "base_uri": "https://localhost:8080/"
        },
        "id": "LzUdHxzLoo_m",
        "outputId": "aefcf58e-deaa-42d4-a177-358379d5968d"
      },
      "source": [
        "import math\n",
        "\n",
        "def poisson_prob(k, l):\n",
        "    return l**k * math.exp(-l) / math.factorial(k)\n",
        "\n",
        "\n",
        "poisson_prob(3, 3)"
      ],
      "execution_count": 16,
      "outputs": [
        {
          "output_type": "execute_result",
          "data": {
            "text/plain": [
              "0.22404180765538775"
            ]
          },
          "metadata": {},
          "execution_count": 16
        }
      ]
    },
    {
      "cell_type": "code",
      "metadata": {
        "id": "U4eFnqdrsy8n"
      },
      "source": [
        "# Решение от автора:\n",
        "def poisson_prob(k, l):\n",
        "    result = math.exp(-l)\n",
        "    for i in range(1, k + 1):\n",
        "        result *= (l / i)\n",
        "    return result"
      ],
      "execution_count": null,
      "outputs": []
    },
    {
      "cell_type": "markdown",
      "metadata": {
        "id": "tP7Gp7V1aEfu"
      },
      "source": [
        "## Задание 4\n",
        "\n",
        "# Время ожидания следующего пассажира\n",
        "Пусть заказы в течение рабочей смены (8 часов) водителя не имеют пиков (т. е., это процесс Пуассона). Корбен хочет сделать перерыв на обед, но не хочет пропускать заказы - тут без вашей помощи не обойтись. Посчитайте матожидание времени до следующего заказа, чтобы Корбен смог спланировать свой перекус.\n",
        "\n",
        "**Входные данные**: как и в предыдущей задаче, вам доступны исторические данные по заказам за предыдущий год data (массив data из 365 элементов).\n",
        "\n",
        "**Результат**: напишите функцию time_to_order(data), которая восстанавливает параметр l пуассоновского распределения и возвращает ожидаемое время до следующего заказа в часах.\n",
        "\n",
        "Например, если вычисленный параметр распределения l будет равен 3, то функция time_to_order должна вернуть 2.6666666666666665. Подсказка: используйте экспоненциальное распределение."
      ]
    },
    {
      "cell_type": "code",
      "metadata": {
        "colab": {
          "base_uri": "https://localhost:8080/"
        },
        "id": "_8z0nF86qZOO",
        "outputId": "c6ef7b18-6a83-41af-cb96-0dcff628dc52"
      },
      "source": [
        "# https://courses.lumenlearning.com/introstats1/chapter/the-exponential-distribution/#fs-idp122384032\n",
        "\n",
        "import numpy as np\n",
        "\n",
        "def time_to_order(data):\n",
        "    return 8/ np.mean(data)\n",
        "\n",
        "\n",
        "real = [poisson(3) for i in range(365)]\n",
        "\n",
        "print(time_to_order(real))"
      ],
      "execution_count": 11,
      "outputs": [
        {
          "output_type": "stream",
          "name": "stdout",
          "text": [
            "2.744360902255639\n"
          ]
        }
      ]
    },
    {
      "cell_type": "code",
      "metadata": {
        "id": "GbzYhjz_s35L"
      },
      "source": [
        "# Решение от автора:\n",
        "def time_to_order(data):\n",
        "    l = sum(data) / len(data)\n",
        "    return 8 / l"
      ],
      "execution_count": null,
      "outputs": []
    },
    {
      "cell_type": "markdown",
      "metadata": {
        "id": "oANtQiIdlAif"
      },
      "source": [
        "## Задание 5\n",
        "\n",
        "# Смесь распределений\n",
        "Количество клиентов сервиса “Блиц” разнится изо дня в день. В целом, мы можем выделить обычные дни (основной поток), а также дни, когда происходят некоторые “знаковые” события (дополнительный поток): например, концерты или футбольные матчи. В такие “знаковые” дни пассажиропоток, а следовательно и число клиентов, растет. Необходимо найти параметры распределений основного потока и дополнительного.\n",
        "\n",
        "Пусть вам даны количества поездок за предыдущие 365 дней и массив с номерами дней, которые были праздничными. Необходимо вернуть параметры пуассоновского распределения для обычных дней и для праздничных.\n",
        "\n",
        "**Входные данные**: массив data с данными о количестве поездок и массив days с номерами праздничных дней (индексация с нуля).\n",
        "\n",
        "**Результат**: напишите функцию estimate_parameters(data, days), возвращающую кортеж из двух чисел (l_usual, l_special). l_usual - параметр распределения в обычные дни, l_special - в праздничные."
      ]
    },
    {
      "cell_type": "code",
      "metadata": {
        "colab": {
          "base_uri": "https://localhost:8080/"
        },
        "id": "XIOMC-UBb-gf",
        "outputId": "b2b90289-23b6-4922-9612-48eb25d61447"
      },
      "source": [
        "def estimate_parameters(data, days):\n",
        "    data, days = np.array(data), np.array(days)\n",
        "    l_usual, l_special = np.delete(data, days).mean(), data[days].mean()\n",
        "    return l_usual, l_special\n",
        "\n",
        "\n",
        "real = [poisson(3) for i in range(365)]\n",
        "idx = random.sample(range(364), 52)\n",
        "estimate_parameters(real, idx)"
      ],
      "execution_count": 44,
      "outputs": [
        {
          "output_type": "execute_result",
          "data": {
            "text/plain": [
              "(3.207667731629393, 2.75)"
            ]
          },
          "metadata": {},
          "execution_count": 44
        }
      ]
    },
    {
      "cell_type": "code",
      "metadata": {
        "id": "nmCI6gA1pGIl"
      },
      "source": [
        "# Решение от автора:\n",
        "def estimate_parameters(data, days):\n",
        "    days = set(days)\n",
        "    usual, holidays = [], []\n",
        "    for i in range(len(data)):\n",
        "        if i in days:\n",
        "            holidays.append(data[i])\n",
        "        else:\n",
        "            usual.append(data[i])\n",
        "    return (sum(usual) / len(usual), sum(holidays) / len(holidays))"
      ],
      "execution_count": null,
      "outputs": []
    }
  ]
}