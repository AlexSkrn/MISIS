{
  "nbformat": 4,
  "nbformat_minor": 0,
  "metadata": {
    "colab": {
      "name": "МИСИС - stats - 02 - linalg tasks.ipynb",
      "provenance": [],
      "collapsed_sections": []
    },
    "kernelspec": {
      "name": "python3",
      "display_name": "Python 3"
    },
    "language_info": {
      "name": "python"
    }
  },
  "cells": [
    {
      "cell_type": "code",
      "metadata": {
        "id": "h7ji6-hqDtPy"
      },
      "source": [
        "import numpy as np"
      ],
      "execution_count": null,
      "outputs": []
    },
    {
      "cell_type": "code",
      "metadata": {
        "colab": {
          "base_uri": "https://localhost:8080/"
        },
        "id": "tKpKjANEyLLk",
        "outputId": "62606e9d-3c29-4ac7-b893-b7fc08402f22"
      },
      "source": [
        "# 5.3\n",
        "\n",
        "X = [1, 2, 3, 4]\n",
        "P_X = [0.2, 0.1, 0.4, 0.3]\n",
        "\n",
        "Y = [-1, 0, 1, 2]\n",
        "P_Y = [0.5, 0.2, 0.1, 0.2]\n",
        "\n",
        "def u(x):\n",
        "    return 3*x + 1\n",
        "  \n",
        "\n",
        "def s(y):\n",
        "    return 5 - y\n",
        "\n",
        "def mu(rand_var, probs):\n",
        "    return sum([x*p for x, p in zip(rand_var, probs)])\n",
        "\n",
        "def var(rand_var, mu, probs):\n",
        "    return sum([p*(x - mu)**2 for x, p in zip(rand_var, probs)]) \n",
        "\n",
        "mu_x = mu(X, P_X)\n",
        "var_x = var(X, mu_x, P_X)\n",
        "print('mu X =', mu_x)\n",
        "print('Var(X) = ', var_x)\n",
        "\n",
        "mu_y = mu(Y, P_Y)\n",
        "var_y = var(Y, mu_y, P_Y)\n",
        "print('mu Y =', mu_y)\n",
        "print('Var(Y) = ', var_y)\n",
        "\n",
        "mu_u = mu([u(x) for x in X], P_X)\n",
        "var_u = var([u(x) for x in X], mu_u, P_X)\n",
        "print('mu U =', mu_u)\n",
        "print('Var(U) = ', var_u)\n",
        "\n",
        "mu_s = mu([s(y) for y in Y], P_Y)\n",
        "var_s = var([s(y) for y in Y], mu_s, P_Y)\n",
        "print('mu S =', mu_s)\n",
        "print('Var(S) = ', var_s)"
      ],
      "execution_count": null,
      "outputs": [
        {
          "output_type": "stream",
          "name": "stdout",
          "text": [
            "mu X = 2.8\n",
            "Var(X) =  1.16\n",
            "mu Y = 0.0\n",
            "Var(Y) =  1.4\n",
            "mu U = 9.4\n",
            "Var(U) =  10.440000000000001\n",
            "mu S = 5.0\n",
            "Var(S) =  1.4\n"
          ]
        }
      ]
    },
    {
      "cell_type": "code",
      "metadata": {
        "id": "N_JVZo-J6rVY"
      },
      "source": [
        "# var(U-S)\n",
        "\n",
        "diff = [u(x) - s(y) for x, y in X, Y]\n"
      ],
      "execution_count": null,
      "outputs": []
    },
    {
      "cell_type": "code",
      "metadata": {
        "colab": {
          "base_uri": "https://localhost:8080/"
        },
        "id": "WikjDAhhA6SR",
        "outputId": "4d8a4cb3-53b0-4a3c-8249-3c25b2f665e7"
      },
      "source": [
        "# Задание 10.1\n",
        "\n",
        "# Случайный покупатель в книжном магазине купит одну, две или три книги с вероятностью 0.3, 0.4 и 0.3, \n",
        "# соответственно. Каждая книга стоит 400 рублей. \n",
        "# Найдите математическое ожидание расходов покупателя магазина.\n",
        "\n",
        "probs = [0.3, 0.4, 0.3]\n",
        "prices = [1*400, 2*400, 3*400]\n",
        "\n",
        "sum([p*val for p, val in zip(probs, prices)])"
      ],
      "execution_count": null,
      "outputs": [
        {
          "output_type": "execute_result",
          "data": {
            "text/plain": [
              "800.0"
            ]
          },
          "metadata": {},
          "execution_count": 4
        }
      ]
    },
    {
      "cell_type": "code",
      "metadata": {
        "colab": {
          "base_uri": "https://localhost:8080/"
        },
        "id": "SnzkzienBUge",
        "outputId": "509ec192-0994-4184-c3e7-7e3c7eefaa07"
      },
      "source": [
        "X = np.array([2, 3, 4, 5])\n",
        "P_X = [0.1, 0.2, 0.6, 0.1]\n",
        "\n",
        "e_x = mu(X, P_X)\n",
        "e_x"
      ],
      "execution_count": null,
      "outputs": [
        {
          "output_type": "execute_result",
          "data": {
            "text/plain": [
              "3.7"
            ]
          },
          "metadata": {},
          "execution_count": 9
        }
      ]
    },
    {
      "cell_type": "code",
      "metadata": {
        "colab": {
          "base_uri": "https://localhost:8080/"
        },
        "id": "2BySbEocDdoH",
        "outputId": "ceeb76ed-db2f-49f1-8cbe-fbd79af17a7b"
      },
      "source": [
        "mu(X * (X+1), P_X)  # 14.3"
      ],
      "execution_count": null,
      "outputs": [
        {
          "output_type": "execute_result",
          "data": {
            "text/plain": [
              "18.0"
            ]
          },
          "metadata": {},
          "execution_count": 14
        }
      ]
    },
    {
      "cell_type": "code",
      "metadata": {
        "id": "-DLy1cMPDz61",
        "colab": {
          "base_uri": "https://localhost:8080/"
        },
        "outputId": "b7819f07-766a-40bf-cdae-bac583269900"
      },
      "source": [
        "import numpy as np\n",
        "import pandas as pd\n",
        "\n",
        "def cos_sim(v1, v2):\n",
        "    v1, v2 = np.array(v1), np.array(v2)\n",
        "    dot_prod = v1.dot(v2)\n",
        "    prod_lengths = np.sqrt(v1.dot(v1)) * (np.sqrt(v2.dot(v2)))\n",
        "    return dot_prod/prod_lengths\n",
        "\n",
        "\n",
        "a = [2, -1, 3]\n",
        "\n",
        "v1 = [-6, 3, -18]\n",
        "v2 = [6, -3, 17]\n",
        "v3 = [0, 0, 1]\n",
        "\n",
        "for vec in v1, v2, v3:\n",
        "    print(cos_sim(a, vec))"
      ],
      "execution_count": null,
      "outputs": [
        {
          "output_type": "stream",
          "name": "stdout",
          "text": [
            "-0.9600014517991345\n",
            "0.9651763779473037\n",
            "0.8017837257372732\n"
          ]
        }
      ]
    },
    {
      "cell_type": "code",
      "metadata": {
        "colab": {
          "base_uri": "https://localhost:8080/"
        },
        "id": "IuwaMVzzQWex",
        "outputId": "eb4b2e30-b336-4ee4-8179-088241790e16"
      },
      "source": [
        "data = np.array( [ [1, 2], [2, 3], [3, 4] ] )\n",
        "\n",
        "A = pd.DataFrame(data)\n",
        "\n",
        "A.values\n"
      ],
      "execution_count": null,
      "outputs": [
        {
          "output_type": "execute_result",
          "data": {
            "text/plain": [
              "array([[1, 2],\n",
              "       [2, 3],\n",
              "       [3, 4]])"
            ]
          },
          "metadata": {},
          "execution_count": 13
        }
      ]
    },
    {
      "cell_type": "code",
      "metadata": {
        "colab": {
          "base_uri": "https://localhost:8080/"
        },
        "id": "2aeliVrgXTmL",
        "outputId": "d179b4df-77cf-432c-f070-16b202ebc16f"
      },
      "source": [
        "A.values[:, 1]"
      ],
      "execution_count": null,
      "outputs": [
        {
          "output_type": "execute_result",
          "data": {
            "text/plain": [
              "array([2, 3, 4])"
            ]
          },
          "metadata": {},
          "execution_count": 14
        }
      ]
    },
    {
      "cell_type": "code",
      "metadata": {
        "id": "gxt13gFrYnXP"
      },
      "source": [
        "import numpy as np\n",
        "\n",
        "Husband_Income = np.array([100,220,140])\n",
        "Wife_Income = np.array([150,200,130])\n",
        "Mother_In_Law_Income = np.array([90,80,100])\n",
        "\n",
        "Husband_Сonsumption = np.array([50,50,60])\n",
        "Wife_Сonsumption = np.array([100,80,140])\n",
        "Mother_In_Law_Сonsumption = np.array([100,20,140])"
      ],
      "execution_count": null,
      "outputs": []
    },
    {
      "cell_type": "code",
      "metadata": {
        "colab": {
          "base_uri": "https://localhost:8080/"
        },
        "id": "XP53bKgjZWVO",
        "outputId": "d839c227-1ccf-42b4-e8f2-eb583b942492"
      },
      "source": [
        "# Задание 10.1\n",
        "\n",
        "# Составьте матрицу Inc доходов семьи, расположив доходы мужа, жены и тещи в первый, второй и третий столбцы.\n",
        "\n",
        "# В ответ запишите диагональные элементы (по главной диагонали) этой матрицы через запятую (без пробела):\n",
        "\n",
        "inc = np.array([Husband_Income, Wife_Income, Mother_In_Law_Income]).T\n",
        "\n",
        "inc\n",
        "# 100,200,100"
      ],
      "execution_count": null,
      "outputs": [
        {
          "output_type": "execute_result",
          "data": {
            "text/plain": [
              "array([[100, 150,  90],\n",
              "       [220, 200,  80],\n",
              "       [140, 130, 100]])"
            ]
          },
          "metadata": {},
          "execution_count": 16
        }
      ]
    },
    {
      "cell_type": "code",
      "metadata": {
        "colab": {
          "base_uri": "https://localhost:8080/"
        },
        "id": "Vcts1vcRZ-Ee",
        "outputId": "c121191c-9853-43d8-a91e-571ee55433cc"
      },
      "source": [
        "# Задание 10.2\n",
        "\n",
        "# Составьте матрицу Cons расходов семьи, расположив расходы мужа, жены и тещи в первый, второй и третий столбцы.\n",
        "\n",
        "# В ответ запишите диагональные элементы (по побочной диагонали) этой матрицы через запятую (без пробела):\n",
        "cons = np.array([Husband_Сonsumption, Wife_Сonsumption, Mother_In_Law_Сonsumption]).T\n",
        "\n",
        "cons\n",
        "# 100,80,60"
      ],
      "execution_count": null,
      "outputs": [
        {
          "output_type": "execute_result",
          "data": {
            "text/plain": [
              "array([[ 50, 100, 100],\n",
              "       [ 50,  80,  20],\n",
              "       [ 60, 140, 140]])"
            ]
          },
          "metadata": {},
          "execution_count": 17
        }
      ]
    },
    {
      "cell_type": "code",
      "metadata": {
        "colab": {
          "base_uri": "https://localhost:8080/"
        },
        "id": "vMpralQaaWcE",
        "outputId": "29147ac6-40ea-4429-927d-1ade63e1611c"
      },
      "source": [
        "# Задание 10.3\n",
        "\n",
        "# Доходы представлены до уплаты налогов. Налоговая ставка - 13%. \n",
        "# Вычислите матрицу доходов семьи Ивановых после уплаты налогов.\n",
        "\n",
        "# Используйте матрицу Inc из предыдущего вопроса, где расходы расположены по столбцам. \n",
        "# В ответ запишите элементы из 1 строки этой матрицы через запятую (без пробела):\n",
        "\n",
        "inc_after_tax = inc - inc*0.13\n",
        "inc_after_tax\n",
        "# 87,130.5,78.3"
      ],
      "execution_count": null,
      "outputs": [
        {
          "output_type": "execute_result",
          "data": {
            "text/plain": [
              "array([[ 87. , 130.5,  78.3],\n",
              "       [191.4, 174. ,  69.6],\n",
              "       [121.8, 113.1,  87. ]])"
            ]
          },
          "metadata": {},
          "execution_count": 18
        }
      ]
    },
    {
      "cell_type": "code",
      "metadata": {
        "colab": {
          "base_uri": "https://localhost:8080/"
        },
        "id": "QtYBjvHFaxkX",
        "outputId": "2ddf79cd-b7bd-4a1f-9241-28823c8223f6"
      },
      "source": [
        "# Задание 10.4\n",
        "\n",
        "# Вычислите матрицу P, которая покажет баланс семьи Ивановых за один месяц (то есть разницу между доходами и расходами)\n",
        "\n",
        "# В ответ запишите элементы из 3 строки этой матрицы через запятую (без пробела):\n",
        "\n",
        "(inc_after_tax - cons)[2]\n",
        "\n",
        "# 61.8,-26.9,-53"
      ],
      "execution_count": null,
      "outputs": [
        {
          "output_type": "execute_result",
          "data": {
            "text/plain": [
              "array([ 61.8, -26.9, -53. ])"
            ]
          },
          "metadata": {},
          "execution_count": 21
        }
      ]
    },
    {
      "cell_type": "code",
      "metadata": {
        "colab": {
          "base_uri": "https://localhost:8080/"
        },
        "id": "O3nyUCOibnA4",
        "outputId": "b3663714-b890-4a4c-a1f2-b5cf92cf2519"
      },
      "source": [
        "inc*cons"
      ],
      "execution_count": null,
      "outputs": [
        {
          "output_type": "execute_result",
          "data": {
            "text/plain": [
              "array([[ 5000, 15000,  9000],\n",
              "       [11000, 16000,  1600],\n",
              "       [ 8400, 18200, 14000]])"
            ]
          },
          "metadata": {},
          "execution_count": 22
        }
      ]
    },
    {
      "cell_type": "code",
      "metadata": {
        "colab": {
          "base_uri": "https://localhost:8080/"
        },
        "id": "xB_ucOrWctoc",
        "outputId": "f86f6bc9-a774-46ab-d84c-39725854e2a5"
      },
      "source": [
        "inc"
      ],
      "execution_count": null,
      "outputs": [
        {
          "output_type": "execute_result",
          "data": {
            "text/plain": [
              "array([[100, 150,  90],\n",
              "       [220, 200,  80],\n",
              "       [140, 130, 100]])"
            ]
          },
          "metadata": {},
          "execution_count": 23
        }
      ]
    },
    {
      "cell_type": "code",
      "metadata": {
        "colab": {
          "base_uri": "https://localhost:8080/"
        },
        "id": "JWel3nGrczri",
        "outputId": "97de32f9-69fb-4484-fb53-9f9fd9dd5154"
      },
      "source": [
        "cons"
      ],
      "execution_count": null,
      "outputs": [
        {
          "output_type": "execute_result",
          "data": {
            "text/plain": [
              "array([[ 50, 100, 100],\n",
              "       [ 50,  80,  20],\n",
              "       [ 60, 140, 140]])"
            ]
          },
          "metadata": {},
          "execution_count": 24
        }
      ]
    },
    {
      "cell_type": "code",
      "metadata": {
        "colab": {
          "base_uri": "https://localhost:8080/"
        },
        "id": "-cnPpHW7c0ch",
        "outputId": "f8dafafc-a38a-45de-d970-202f4edc5b61"
      },
      "source": [
        "np.dot(inc, cons)"
      ],
      "execution_count": null,
      "outputs": [
        {
          "output_type": "execute_result",
          "data": {
            "text/plain": [
              "array([[17900, 34600, 25600],\n",
              "       [25800, 49200, 37200],\n",
              "       [19500, 38400, 30600]])"
            ]
          },
          "metadata": {},
          "execution_count": 25
        }
      ]
    },
    {
      "cell_type": "code",
      "metadata": {
        "id": "-qhzBduGdKhQ"
      },
      "source": [
        "A = np.array([[5,-1,3,1,2], [-2,8,5,-1,1]])\n",
        "x = np.array([1,2,3,4,5])"
      ],
      "execution_count": null,
      "outputs": []
    },
    {
      "cell_type": "code",
      "metadata": {
        "colab": {
          "base_uri": "https://localhost:8080/"
        },
        "id": "UBPyxYzfkHyN",
        "outputId": "92adc8f9-fb9e-40b5-afcb-2d5009c87ea9"
      },
      "source": [
        "# Задание 15.1\n",
        "\n",
        "# Найдите произведение матрицы  и вектора  в том порядке, в котором их можно умножить.\n",
        "\n",
        "# Координаты вектора введите через запятую (без пробела):\n",
        "A@x\n",
        "# 26,30"
      ],
      "execution_count": null,
      "outputs": [
        {
          "output_type": "execute_result",
          "data": {
            "text/plain": [
              "array([26, 30])"
            ]
          },
          "metadata": {},
          "execution_count": 29
        }
      ]
    },
    {
      "cell_type": "code",
      "metadata": {
        "colab": {
          "base_uri": "https://localhost:8080/"
        },
        "id": "0BqYWe47kT12",
        "outputId": "e72ab484-cc8a-499c-f5fa-02c1c650f9f5"
      },
      "source": [
        "x.shape"
      ],
      "execution_count": null,
      "outputs": [
        {
          "output_type": "execute_result",
          "data": {
            "text/plain": [
              "(5,)"
            ]
          },
          "metadata": {},
          "execution_count": 28
        }
      ]
    },
    {
      "cell_type": "code",
      "metadata": {
        "id": "zpFMHLlkkU-P"
      },
      "source": [
        "A = np.array([[1,9,8,5], [3,6,3,2], [3,3,3,3], [0,2,5,9], [4,4,1,2]])\n",
        "B = np.array([[1,-1,0,1,1], [-2,0,2,-1,1]])"
      ],
      "execution_count": null,
      "outputs": []
    },
    {
      "cell_type": "code",
      "metadata": {
        "colab": {
          "base_uri": "https://localhost:8080/"
        },
        "id": "jXjWengxkqv6",
        "outputId": "94381780-ea61-4e30-d8d2-2ddce684f0b9"
      },
      "source": [
        "# Задание 15.2\n",
        "\n",
        "# Найдите произведение матриц A и B в том порядке, в котором их можно умножить.\n",
        "\n",
        "# В ответ запишите элемент из 1 строки и 4 столбца\n",
        "print(A.shape, B.shape)"
      ],
      "execution_count": null,
      "outputs": [
        {
          "output_type": "stream",
          "name": "stdout",
          "text": [
            "(5, 4) (2, 5)\n"
          ]
        }
      ]
    },
    {
      "cell_type": "code",
      "metadata": {
        "colab": {
          "base_uri": "https://localhost:8080/"
        },
        "id": "xMlYnhzlkzd6",
        "outputId": "6a5ed69b-41b0-498b-8561-53e73425f3dc"
      },
      "source": [
        "(B@A)[0,3]"
      ],
      "execution_count": null,
      "outputs": [
        {
          "output_type": "execute_result",
          "data": {
            "text/plain": [
              "14"
            ]
          },
          "metadata": {},
          "execution_count": 37
        }
      ]
    },
    {
      "cell_type": "code",
      "metadata": {
        "id": "MJ-VkdHqk5vS"
      },
      "source": [
        "x = np.array([1,2,1,0,4])\n",
        "y = np.array([2,1,-1,1,0])\n",
        "z = np.array([-1,1,-1,0,0])"
      ],
      "execution_count": null,
      "outputs": []
    },
    {
      "cell_type": "code",
      "metadata": {
        "colab": {
          "base_uri": "https://localhost:8080/"
        },
        "id": "FD7caay7lOs9",
        "outputId": "a752d4a0-fc12-4f54-c35c-f1b67c6d70cc"
      },
      "source": [
        "# Задание 15.3\n",
        "\n",
        "# Найдите матрицу Грама системы векторов \n",
        "# Введите все элементы этой матрицы через запятую (без пробела), перечисляя построчно:\n",
        "\n",
        "res = np.array([x, y, z]).T @  np.array([x, y, z])\n",
        "res"
      ],
      "execution_count": null,
      "outputs": [
        {
          "output_type": "execute_result",
          "data": {
            "text/plain": [
              "array([[ 6,  3,  0,  2,  4],\n",
              "       [ 3,  6,  0,  1,  8],\n",
              "       [ 0,  0,  3, -1,  4],\n",
              "       [ 2,  1, -1,  1,  0],\n",
              "       [ 4,  8,  4,  0, 16]])"
            ]
          },
          "metadata": {},
          "execution_count": 41
        }
      ]
    },
    {
      "cell_type": "code",
      "metadata": {
        "colab": {
          "base_uri": "https://localhost:8080/"
        },
        "id": "i2Nkx2WPoiD5",
        "outputId": "b6b1a1f7-108e-4426-be9d-024e5e0665c5"
      },
      "source": [
        "np.array([x, y, z]) @  np.array([x, y, z]).T"
      ],
      "execution_count": null,
      "outputs": [
        {
          "output_type": "execute_result",
          "data": {
            "text/plain": [
              "array([[22,  3,  0],\n",
              "       [ 3,  7,  0],\n",
              "       [ 0,  0,  3]])"
            ]
          },
          "metadata": {},
          "execution_count": 56
        }
      ]
    },
    {
      "cell_type": "code",
      "metadata": {
        "colab": {
          "base_uri": "https://localhost:8080/"
        },
        "id": "RZ9zOfcQoUyv",
        "outputId": "b73e742d-3f8d-45b1-81b9-c262832928b9"
      },
      "source": [
        "# Подсказка (1 из 1):\n",
        "A = np.array([x, y, z]).T\n",
        "\n",
        "A_gram = A.T@A \n",
        "print(A_gram)"
      ],
      "execution_count": null,
      "outputs": [
        {
          "output_type": "stream",
          "name": "stdout",
          "text": [
            "[[22  3  0]\n",
            " [ 3  7  0]\n",
            " [ 0  0  3]]\n"
          ]
        }
      ]
    },
    {
      "cell_type": "code",
      "metadata": {
        "colab": {
          "base_uri": "https://localhost:8080/",
          "height": 88
        },
        "id": "Yus412z8ozYZ",
        "outputId": "67d93f1a-986e-459a-9fe8-40c412757215"
      },
      "source": [
        "str_res = ''\n",
        "for i in A_gram:\n",
        "  print(i)\n",
        "  str_res += ','.join([str(v) for v in i])\n",
        "  str_res += ','\n",
        "\n",
        "str_res"
      ],
      "execution_count": null,
      "outputs": [
        {
          "output_type": "stream",
          "name": "stdout",
          "text": [
            "[22  3  0]\n",
            "[3 7 0]\n",
            "[0 0 3]\n"
          ]
        },
        {
          "output_type": "execute_result",
          "data": {
            "application/vnd.google.colaboratory.intrinsic+json": {
              "type": "string"
            },
            "text/plain": [
              "'22,3,0,3,7,0,0,0,3,'"
            ]
          },
          "metadata": {},
          "execution_count": 58
        }
      ]
    },
    {
      "cell_type": "code",
      "metadata": {
        "colab": {
          "base_uri": "https://localhost:8080/"
        },
        "id": "2CJ1bAtGoczq",
        "outputId": "b88a02cd-15e5-4894-dbdf-ea68e6fabec6"
      },
      "source": [
        "A"
      ],
      "execution_count": null,
      "outputs": [
        {
          "output_type": "execute_result",
          "data": {
            "text/plain": [
              "array([[ 1,  2, -1],\n",
              "       [ 2,  1,  1],\n",
              "       [ 1, -1, -1],\n",
              "       [ 0,  1,  0],\n",
              "       [ 4,  0,  0]])"
            ]
          },
          "metadata": {},
          "execution_count": 55
        }
      ]
    },
    {
      "cell_type": "code",
      "metadata": {
        "colab": {
          "base_uri": "https://localhost:8080/",
          "height": 124
        },
        "id": "WPK7VXqjmPE-",
        "outputId": "41998512-cce2-41c2-a523-bf93819cdbb6"
      },
      "source": [
        "str_res = ''\n",
        "for i in res:\n",
        "  print(i)\n",
        "  str_res += ','.join([str(v) for v in i])\n",
        "  str_res += ','\n",
        "\n",
        "str_res"
      ],
      "execution_count": null,
      "outputs": [
        {
          "output_type": "stream",
          "name": "stdout",
          "text": [
            "[6 3 0 2 4]\n",
            "[3 6 0 1 8]\n",
            "[ 0  0  3 -1  4]\n",
            "[ 2  1 -1  1  0]\n",
            "[ 4  8  4  0 16]\n"
          ]
        },
        {
          "output_type": "execute_result",
          "data": {
            "application/vnd.google.colaboratory.intrinsic+json": {
              "type": "string"
            },
            "text/plain": [
              "'6,3,0,2,4,3,6,0,1,8,0,0,3,-1,4,2,1,-1,1,0,4,8,4,0,16,'"
            ]
          },
          "metadata": {},
          "execution_count": 53
        }
      ]
    },
    {
      "cell_type": "code",
      "metadata": {
        "colab": {
          "base_uri": "https://localhost:8080/",
          "height": 168
        },
        "id": "MsIgkoxMmg-o",
        "outputId": "d1e48e11-1f5c-4bf3-c171-d03a06ac6384"
      },
      "source": [
        "','.join([ 6,  3,  0,  2,  4])"
      ],
      "execution_count": null,
      "outputs": [
        {
          "output_type": "error",
          "ename": "TypeError",
          "evalue": "ignored",
          "traceback": [
            "\u001b[0;31m---------------------------------------------------------------------------\u001b[0m",
            "\u001b[0;31mTypeError\u001b[0m                                 Traceback (most recent call last)",
            "\u001b[0;32m<ipython-input-51-ff47603d86d5>\u001b[0m in \u001b[0;36m<module>\u001b[0;34m()\u001b[0m\n\u001b[0;32m----> 1\u001b[0;31m \u001b[0;34m','\u001b[0m\u001b[0;34m.\u001b[0m\u001b[0mjoin\u001b[0m\u001b[0;34m(\u001b[0m\u001b[0;34m[\u001b[0m \u001b[0;36m6\u001b[0m\u001b[0;34m,\u001b[0m  \u001b[0;36m3\u001b[0m\u001b[0;34m,\u001b[0m  \u001b[0;36m0\u001b[0m\u001b[0;34m,\u001b[0m  \u001b[0;36m2\u001b[0m\u001b[0;34m,\u001b[0m  \u001b[0;36m4\u001b[0m\u001b[0;34m]\u001b[0m\u001b[0;34m)\u001b[0m\u001b[0;34m\u001b[0m\u001b[0;34m\u001b[0m\u001b[0m\n\u001b[0m",
            "\u001b[0;31mTypeError\u001b[0m: sequence item 0: expected str instance, int found"
          ]
        }
      ]
    },
    {
      "cell_type": "code",
      "metadata": {
        "id": "kyzr_cSknZdU"
      },
      "source": [
        "# В dataframe Count_DF содержится информация по количеству услуг, оказанных каждым стилистом за апрель.\n",
        "\n",
        "# В dataframe Price_DF содержится информация по стоимости услуг у каждого стилиста в тысячах рублей.\n",
        "Count_DF = pd.DataFrame({'Женские стрижки': [10, 2, 12, 4, 6, 10, 22, 7], \n",
        "                                'Мужские стрижки': [5, 21, 12, 8, 25, 3, 1, 0], \n",
        "                                'Окрашивания':[12, 3, 0, 18, 27, 2, 4, 31],\n",
        "                              'Укладка':[15, 25, 30, 14, 25, 17, 25, 31],\n",
        "                                'Уход':[10, 6, 4, 5, 18, 12, 20, 28]\n",
        "                                }, \n",
        "                               index=['Аня', 'Борис', 'Вика', 'Галя', 'Дима', 'Егор', 'Женя','Юра'])\n",
        "Price_DF = pd.DataFrame({'Женские стрижки': [2, 1.8, 2, 1.8, 2.5, 5, 1.1, 4.5], \n",
        "                                'Мужские стрижки': [1.5, 2.5, 2, 1.2, 3.5, 5, 1, 4], \n",
        "                                'Окрашивания':[1, 1, 0, 2.8, 2, 3, 1.5, 2.5],\n",
        "                              'Укладка':[0.8, 1, 0.5, 0.8, 1, 2, 0.5, 1],\n",
        "                                'Уход':[1, 1, 2, 2, 1.5, 2.5, 1.7, 2] \n",
        "                                }, \n",
        "                               index=['Аня', 'Борис', 'Вика', 'Галя', 'Дима', 'Егор', 'Женя','Юра'])"
      ],
      "execution_count": null,
      "outputs": []
    },
    {
      "cell_type": "code",
      "metadata": {
        "colab": {
          "base_uri": "https://localhost:8080/"
        },
        "id": "zNvna-drpOcr",
        "outputId": "b19b56d4-be5c-40b9-f5a9-d5947107ff92"
      },
      "source": [
        "# Задание 15.4\n",
        "\n",
        "# Найдите вектор выручки Бориса.\n",
        "\n",
        "# Введите координаты вектора через запятую (без пробела):\n",
        "\n",
        "counts = Count_DF.values\n",
        "prices = Price_DF.values\n",
        "\n",
        "counts"
      ],
      "execution_count": null,
      "outputs": [
        {
          "output_type": "execute_result",
          "data": {
            "text/plain": [
              "array([[10,  5, 12, 15, 10],\n",
              "       [ 2, 21,  3, 25,  6],\n",
              "       [12, 12,  0, 30,  4],\n",
              "       [ 4,  8, 18, 14,  5],\n",
              "       [ 6, 25, 27, 25, 18],\n",
              "       [10,  3,  2, 17, 12],\n",
              "       [22,  1,  4, 25, 20],\n",
              "       [ 7,  0, 31, 31, 28]])"
            ]
          },
          "metadata": {},
          "execution_count": 62
        }
      ]
    },
    {
      "cell_type": "code",
      "metadata": {
        "colab": {
          "base_uri": "https://localhost:8080/"
        },
        "id": "xHzh4X0kpu_k",
        "outputId": "dba6b2de-a986-495f-ecfa-58eaf3562c9f"
      },
      "source": [
        "np.dot(counts[1], prices[1])"
      ],
      "execution_count": null,
      "outputs": [
        {
          "output_type": "execute_result",
          "data": {
            "text/plain": [
              "90.1"
            ]
          },
          "metadata": {},
          "execution_count": 64
        }
      ]
    },
    {
      "cell_type": "code",
      "metadata": {
        "colab": {
          "base_uri": "https://localhost:8080/"
        },
        "id": "RF57XsBFq3-0",
        "outputId": "506be283-7897-4972-a33d-de56747e03eb"
      },
      "source": [
        "counts[1]*prices[1]\n",
        "3.6,52.5,3,25,6"
      ],
      "execution_count": null,
      "outputs": [
        {
          "output_type": "execute_result",
          "data": {
            "text/plain": [
              "array([ 3.6, 52.5,  3. , 25. ,  6. ])"
            ]
          },
          "metadata": {},
          "execution_count": 65
        }
      ]
    },
    {
      "cell_type": "code",
      "metadata": {
        "colab": {
          "base_uri": "https://localhost:8080/"
        },
        "id": "iRgG7db8qXsw",
        "outputId": "f6e338ea-1fb2-4829-ef5f-9c9dfb9664f5"
      },
      "source": [
        "# Задание 15.5\n",
        "\n",
        "# Найдите вектор прибыли салона по стилистам, если за каждую услугу стилисты платят определенную комиссию салону.\n",
        "\n",
        "# Вектор комиссий com = [0.2, 0.2, 0.3, 0.1, 0.1]\n",
        "\n",
        "# Введите координаты вектора через запятую (без пробела):\n",
        "com = np.array([0.2, 0.2, 0.3, 0.1, 0.1])\n",
        "counts * prices"
      ],
      "execution_count": null,
      "outputs": [
        {
          "output_type": "execute_result",
          "data": {
            "text/plain": [
              "array([[20. ,  7.5, 12. , 12. , 10. ],\n",
              "       [ 3.6, 52.5,  3. , 25. ,  6. ],\n",
              "       [24. , 24. ,  0. , 15. ,  8. ],\n",
              "       [ 7.2,  9.6, 50.4, 11.2, 10. ],\n",
              "       [15. , 87.5, 54. , 25. , 27. ],\n",
              "       [50. , 15. ,  6. , 34. , 30. ],\n",
              "       [24.2,  1. ,  6. , 12.5, 34. ],\n",
              "       [31.5,  0. , 77.5, 31. , 56. ]])"
            ]
          },
          "metadata": {},
          "execution_count": 67
        }
      ]
    },
    {
      "cell_type": "code",
      "metadata": {
        "colab": {
          "base_uri": "https://localhost:8080/"
        },
        "id": "7a580Chmr4Y6",
        "outputId": "c26f1de6-8b61-4dae-ce0c-2058431e2188"
      },
      "source": [
        "np.dot((counts * prices), com.T)\n",
        "# 11.3,15.22,11.9,20.6,41.9,21.2,11.49,38.25"
      ],
      "execution_count": null,
      "outputs": [
        {
          "output_type": "execute_result",
          "data": {
            "text/plain": [
              "array([11.3 , 15.22, 11.9 , 20.6 , 41.9 , 21.2 , 11.49, 38.25])"
            ]
          },
          "metadata": {},
          "execution_count": 68
        }
      ]
    },
    {
      "cell_type": "code",
      "metadata": {
        "colab": {
          "base_uri": "https://localhost:8080/"
        },
        "id": "xXySnkCluHeI",
        "outputId": "6ee2512d-20f5-45ec-eda7-5100da14fc92"
      },
      "source": [
        "com"
      ],
      "execution_count": null,
      "outputs": [
        {
          "output_type": "execute_result",
          "data": {
            "text/plain": [
              "array([0.2, 0.2, 0.3, 0.1, 0.1])"
            ]
          },
          "metadata": {},
          "execution_count": 79
        }
      ]
    },
    {
      "cell_type": "code",
      "metadata": {
        "colab": {
          "base_uri": "https://localhost:8080/"
        },
        "id": "Dglh2KH_sJeK",
        "outputId": "406d666a-6335-41c9-86b1-821de8b166bc"
      },
      "source": [
        "# Задание 15.6\n",
        "\n",
        "# Найдите вектор прибыли стилистов.\n",
        "\n",
        "# Введите координаты вектора через запятую (без пробела):\n",
        "\n",
        "res = []\n",
        "for i in range(counts.shape[0]):\n",
        "    res.append(np.dot(counts[i], prices[i]))\n",
        "\n",
        "np.array(res) - np.dot((counts * prices), com.T)\n",
        "# 50.2,74.88,59.1,67.8,166.6,113.8,66.21,157.75"
      ],
      "execution_count": null,
      "outputs": [
        {
          "output_type": "execute_result",
          "data": {
            "text/plain": [
              "array([ 50.2 ,  74.88,  59.1 ,  67.8 , 166.6 , 113.8 ,  66.21, 157.75])"
            ]
          },
          "metadata": {},
          "execution_count": 80
        }
      ]
    },
    {
      "cell_type": "code",
      "metadata": {
        "colab": {
          "base_uri": "https://localhost:8080/"
        },
        "id": "fFsR3myMsmMr",
        "outputId": "3bb20ad5-f925-40c0-cbf5-3703c3623abd"
      },
      "source": [
        "# Подсказка (1 из 1):\n",
        "styl_inc = (prices*counts)@(np.ones(5)-com)\n",
        "\n",
        "print(styl_inc)"
      ],
      "execution_count": null,
      "outputs": [
        {
          "output_type": "stream",
          "name": "stdout",
          "text": [
            "[ 50.2   74.88  59.1   67.8  166.6  113.8   66.21 157.75]\n"
          ]
        }
      ]
    },
    {
      "cell_type": "code",
      "metadata": {
        "colab": {
          "base_uri": "https://localhost:8080/"
        },
        "id": "Eak1mtBxtcEh",
        "outputId": "80b49404-00b2-49a0-bd90-92605ffe4d2a"
      },
      "source": [
        "np.ones(5)-com"
      ],
      "execution_count": null,
      "outputs": [
        {
          "output_type": "execute_result",
          "data": {
            "text/plain": [
              "array([0.8, 0.8, 0.7, 0.9, 0.9])"
            ]
          },
          "metadata": {},
          "execution_count": 81
        }
      ]
    },
    {
      "cell_type": "code",
      "metadata": {
        "colab": {
          "base_uri": "https://localhost:8080/"
        },
        "id": "g8T4T4oBunOd",
        "outputId": "935dec7b-0376-41a0-ef6b-41347864dc2c"
      },
      "source": [
        "prices*counts"
      ],
      "execution_count": null,
      "outputs": [
        {
          "output_type": "execute_result",
          "data": {
            "text/plain": [
              "array([[20. ,  7.5, 12. , 12. , 10. ],\n",
              "       [ 3.6, 52.5,  3. , 25. ,  6. ],\n",
              "       [24. , 24. ,  0. , 15. ,  8. ],\n",
              "       [ 7.2,  9.6, 50.4, 11.2, 10. ],\n",
              "       [15. , 87.5, 54. , 25. , 27. ],\n",
              "       [50. , 15. ,  6. , 34. , 30. ],\n",
              "       [24.2,  1. ,  6. , 12.5, 34. ],\n",
              "       [31.5,  0. , 77.5, 31. , 56. ]])"
            ]
          },
          "metadata": {},
          "execution_count": 82
        }
      ]
    },
    {
      "cell_type": "code",
      "metadata": {
        "colab": {
          "base_uri": "https://localhost:8080/"
        },
        "id": "jUJH6-_busX2",
        "outputId": "3997b0e0-b4aa-4795-8132-4ab38412fc02"
      },
      "source": [
        "import numpy as np\n",
        "\n",
        "\n",
        "A = np.array([[1, 2], [3, 4]])\n",
        "np.linalg.inv(A)"
      ],
      "execution_count": null,
      "outputs": [
        {
          "output_type": "execute_result",
          "data": {
            "text/plain": [
              "array([[-2. ,  1. ],\n",
              "       [ 1.5, -0.5]])"
            ]
          },
          "metadata": {},
          "execution_count": 86
        }
      ]
    },
    {
      "cell_type": "code",
      "metadata": {
        "id": "NMz4A8zMxRnx"
      },
      "source": [
        "import numpy as np\n",
        "\n",
        "\n",
        "A = np.array([[8, 6, 11], [7, 5, 9],[6, 10, 6]])"
      ],
      "execution_count": null,
      "outputs": []
    },
    {
      "cell_type": "code",
      "metadata": {
        "id": "mLMKp9PODRby"
      },
      "source": [
        "# Задание 20.1\n",
        "\n",
        "# Найдите обратную матрицу к матрице А.\n",
        "\n",
        "# В ответ запишите элемент из 2 строки и 1 столбца, округлив его до трёх знаков после запятой\n",
        "\n",
        "A_inv = np.linalg.inv(A)"
      ],
      "execution_count": null,
      "outputs": []
    },
    {
      "cell_type": "code",
      "metadata": {
        "colab": {
          "base_uri": "https://localhost:8080/"
        },
        "id": "HyhNa2YQDp9e",
        "outputId": "c752e420-de81-4422-8c10-4970a0827496"
      },
      "source": [
        "A_inv"
      ],
      "execution_count": null,
      "outputs": [
        {
          "output_type": "execute_result",
          "data": {
            "text/plain": [
              "array([[-1.875  ,  2.3125 , -0.03125],\n",
              "       [ 0.375  , -0.5625 ,  0.15625],\n",
              "       [ 1.25   , -1.375  , -0.0625 ]])"
            ]
          },
          "metadata": {},
          "execution_count": 7
        }
      ]
    },
    {
      "cell_type": "code",
      "metadata": {
        "id": "ZDaNe3efD6Qs"
      },
      "source": [
        "v1 = np.array([9, 10, 7, 7, 9])\n",
        "v2 = np.array([2, 0, 5, 1, 4])\n",
        "v3 = np.array([4, 0, 0, 4, 1])\n",
        "v4 = np.array([3, -4, 3, -1, -4])"
      ],
      "execution_count": null,
      "outputs": []
    },
    {
      "cell_type": "code",
      "metadata": {
        "colab": {
          "base_uri": "https://localhost:8080/"
        },
        "id": "3ADxFPumEGxS",
        "outputId": "6fc7d78f-8208-452b-9345-f348f273845d"
      },
      "source": [
        "# Найдите ранг системы векторов v1, v2, v3, v4.\n",
        "\n",
        "A = np.array([v1, v2, v3, v4])\n",
        "\n",
        "np.linalg.matrix_rank(A)"
      ],
      "execution_count": null,
      "outputs": [
        {
          "output_type": "execute_result",
          "data": {
            "text/plain": [
              "4"
            ]
          },
          "metadata": {},
          "execution_count": 9
        }
      ]
    },
    {
      "cell_type": "code",
      "metadata": {
        "colab": {
          "base_uri": "https://localhost:8080/"
        },
        "id": "jSfjBE-8EUnc",
        "outputId": "4d568de0-f962-4f8a-8587-4190a2a4e658"
      },
      "source": [
        "res = A @  A.T\n",
        "res"
      ],
      "execution_count": null,
      "outputs": [
        {
          "output_type": "execute_result",
          "data": {
            "text/plain": [
              "array([[360,  96,  73, -35],\n",
              "       [ 96,  46,  16,   4],\n",
              "       [ 73,  16,  33,   4],\n",
              "       [-35,   4,   4,  51]])"
            ]
          },
          "metadata": {},
          "execution_count": 11
        }
      ]
    },
    {
      "cell_type": "code",
      "metadata": {
        "colab": {
          "base_uri": "https://localhost:8080/"
        },
        "id": "P1lwKlgyEt4l",
        "outputId": "5b3c1a48-f536-48e9-853b-b57b38ca5a9e"
      },
      "source": [
        "np.linalg.det(res)"
      ],
      "execution_count": null,
      "outputs": [
        {
          "output_type": "execute_result",
          "data": {
            "text/plain": [
              "3716647.9999999995"
            ]
          },
          "metadata": {},
          "execution_count": 12
        }
      ]
    },
    {
      "cell_type": "code",
      "metadata": {
        "colab": {
          "base_uri": "https://localhost:8080/"
        },
        "id": "j2hlEEsFFE9_",
        "outputId": "63c1d3b2-f44e-43c0-f8ef-4fe065d2ed64"
      },
      "source": [
        "# Задание 20.7\n",
        "\n",
        "# Найдите обратную матрицу к матрице Грама системы v1, v2, v3, v4.\n",
        "\n",
        "# В ответ запишите элемент из 3 строки и 1 столбца, округлив его до трёх знаков после запятой\n",
        "\n",
        "np.linalg.inv(res)"
      ],
      "execution_count": null,
      "outputs": [
        {
          "output_type": "execute_result",
          "data": {
            "text/plain": [
              "array([[ 0.01711488, -0.02798543, -0.02623063,  0.01599775],\n",
              "       [-0.02798543,  0.071967  ,  0.03031441, -0.02722776],\n",
              "       [-0.02623063,  0.03031441,  0.07683106, -0.02640498],\n",
              "       [ 0.01599775, -0.02722776, -0.02640498,  0.03479318]])"
            ]
          },
          "metadata": {},
          "execution_count": 13
        }
      ]
    },
    {
      "cell_type": "code",
      "metadata": {
        "id": "WUg4Ao2qFa4B"
      },
      "source": [
        "A = np.array([[1, 2], [-3, 1], [1, 2], [1, -1]])"
      ],
      "execution_count": null,
      "outputs": []
    },
    {
      "cell_type": "code",
      "metadata": {
        "colab": {
          "base_uri": "https://localhost:8080/"
        },
        "id": "osaS8clAZKoB",
        "outputId": "66fd8935-2532-4138-d976-2e49630a7c3a"
      },
      "source": [
        "G = np.dot(A.T, A)\n",
        "G"
      ],
      "execution_count": null,
      "outputs": [
        {
          "output_type": "execute_result",
          "data": {
            "text/plain": [
              "array([[12,  0],\n",
              "       [ 0, 10]])"
            ]
          },
          "metadata": {},
          "execution_count": 16
        }
      ]
    },
    {
      "cell_type": "code",
      "metadata": {
        "colab": {
          "base_uri": "https://localhost:8080/"
        },
        "id": "S77x2sEBZNen",
        "outputId": "767c1976-3d0d-4da4-e3a2-032c97802180"
      },
      "source": [
        "G_inv = np.linalg.inv(G)\n",
        "G_inv"
      ],
      "execution_count": null,
      "outputs": [
        {
          "output_type": "execute_result",
          "data": {
            "text/plain": [
              "array([[0.08333333, 0.        ],\n",
              "       [0.        , 0.1       ]])"
            ]
          },
          "metadata": {},
          "execution_count": 17
        }
      ]
    },
    {
      "cell_type": "code",
      "metadata": {
        "colab": {
          "base_uri": "https://localhost:8080/"
        },
        "id": "OKKS-KkHZc76",
        "outputId": "98843075-6493-4a66-fd91-6e492ceff982"
      },
      "source": [
        "b = np.array([1, 4, 5, 0])\n",
        "\n",
        "np.dot(A.T, b)"
      ],
      "execution_count": null,
      "outputs": [
        {
          "output_type": "execute_result",
          "data": {
            "text/plain": [
              "array([-6, 16])"
            ]
          },
          "metadata": {},
          "execution_count": 21
        }
      ]
    },
    {
      "cell_type": "code",
      "metadata": {
        "id": "J4eVw5zXZydf"
      },
      "source": [
        "np.array"
      ],
      "execution_count": null,
      "outputs": []
    },
    {
      "cell_type": "code",
      "metadata": {
        "id": "-IaP7XCcLqbK"
      },
      "source": [
        "import numpy as np"
      ],
      "execution_count": null,
      "outputs": []
    },
    {
      "cell_type": "code",
      "metadata": {
        "id": "6em6cjhxLvsU"
      },
      "source": [
        "X = np.array([11, 8])\n",
        "\n",
        "X_st = (X - X.mean())/np.sqrt(sum((X-X.mean())**2))"
      ],
      "execution_count": null,
      "outputs": []
    },
    {
      "cell_type": "code",
      "metadata": {
        "colab": {
          "base_uri": "https://localhost:8080/"
        },
        "id": "xJN9v9dwMNox",
        "outputId": "b4c3bfd5-cb01-476a-ac13-3482b1329334"
      },
      "source": [
        "X_st\n",
        "# 0.71,-0.71"
      ],
      "execution_count": null,
      "outputs": [
        {
          "output_type": "execute_result",
          "data": {
            "text/plain": [
              "array([ 0.70710678, -0.70710678])"
            ]
          },
          "metadata": {},
          "execution_count": 5
        }
      ]
    },
    {
      "cell_type": "code",
      "metadata": {
        "id": "h0BkugH6ILCi"
      },
      "source": [
        ""
      ],
      "execution_count": null,
      "outputs": []
    }
  ]
}