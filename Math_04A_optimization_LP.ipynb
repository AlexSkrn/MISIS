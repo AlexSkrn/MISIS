{
  "nbformat": 4,
  "nbformat_minor": 0,
  "metadata": {
    "kernelspec": {
      "display_name": "Python 3",
      "language": "python",
      "name": "python3"
    },
    "language_info": {
      "codemirror_mode": {
        "name": "ipython",
        "version": 3
      },
      "file_extension": ".py",
      "mimetype": "text/x-python",
      "name": "python",
      "nbconvert_exporter": "python",
      "pygments_lexer": "ipython3",
      "version": "3.6.8"
    },
    "colab": {
      "name": "МИСИС_optimization_Linear_Programming.ipynb",
      "provenance": [],
      "collapsed_sections": []
    }
  },
  "cells": [
    {
      "cell_type": "markdown",
      "metadata": {
        "id": "pvO50y-MwM-l"
      },
      "source": [
        "Допустим, у нас есть $n$ товаров с заданными стоимостями $v_i$ и массой $w_i$. В сумку убирается $С$ кг. Сколько какого товара взять, чтобы сумма всех стоимостей товаров была наибольшей?"
      ]
    },
    {
      "cell_type": "code",
      "metadata": {
        "id": "qrGbvaApwM-n"
      },
      "source": [
        "values = [4, 2, 1, 7, 3, 6]\n",
        "weights = [5, 9, 8, 2, 6, 5]\n",
        "C = 15\n",
        "n = 6"
      ],
      "execution_count": null,
      "outputs": []
    },
    {
      "cell_type": "markdown",
      "metadata": {
        "id": "7Lp_oPDnwM-p"
      },
      "source": [
        "Сформулируем задачу:\n",
        "$$\\max\\sum v_i x_i$$\n",
        "$$\\sum w_i x_i \\leq C $$"
      ]
    },
    {
      "cell_type": "markdown",
      "metadata": {
        "id": "5NIuJsEswM-p"
      },
      "source": [
        "Как должна выглядеть задача:\n",
        "$$\\min c^T x$$\n",
        "$$A x \\leq b $$"
      ]
    },
    {
      "cell_type": "markdown",
      "metadata": {
        "id": "mnxbXrnUwM-p"
      },
      "source": [
        "Получается, что $c=-v$, $A=w^T$, $b=(C)$"
      ]
    },
    {
      "cell_type": "code",
      "metadata": {
        "id": "U-OqkQbkwM-q"
      },
      "source": [
        "import numpy as np"
      ],
      "execution_count": null,
      "outputs": []
    },
    {
      "cell_type": "code",
      "metadata": {
        "id": "BlhdMx5xwM-q"
      },
      "source": [
        "c = - np.array(values)\n",
        "A = np.array(weights)         #shape = (6,)\n",
        "A = np.expand_dims(A, 0)      #shape = (1,6)\n",
        "b = np.array([C])"
      ],
      "execution_count": null,
      "outputs": []
    },
    {
      "cell_type": "code",
      "metadata": {
        "colab": {
          "base_uri": "https://localhost:8080/"
        },
        "id": "IOvRtUGO2xjI",
        "outputId": "ae4ff2c6-b988-4488-f657-3d86160125ea"
      },
      "source": [
        "b"
      ],
      "execution_count": null,
      "outputs": [
        {
          "output_type": "execute_result",
          "data": {
            "text/plain": [
              "array([15])"
            ]
          },
          "metadata": {},
          "execution_count": 18
        }
      ]
    },
    {
      "cell_type": "code",
      "metadata": {
        "id": "Ixwn30EawM-r"
      },
      "source": [
        "from scipy.optimize import linprog"
      ],
      "execution_count": null,
      "outputs": []
    },
    {
      "cell_type": "code",
      "metadata": {
        "colab": {
          "base_uri": "https://localhost:8080/"
        },
        "id": "_jOLd6KXwM-r",
        "outputId": "e4e8b8ef-3542-418c-ab34-113e73c3490d"
      },
      "source": [
        "linprog(c=c, A_ub=A, b_ub=b)"
      ],
      "execution_count": null,
      "outputs": [
        {
          "output_type": "stream",
          "name": "stderr",
          "text": [
            "/usr/local/lib/python3.7/dist-packages/numpy/core/fromnumeric.py:87: VisibleDeprecationWarning: Creating an ndarray from ragged nested sequences (which is a list-or-tuple of lists-or-tuples-or ndarrays with different lengths or shapes) is deprecated. If you meant to do this, you must specify 'dtype=object' when creating the ndarray\n",
            "  return ufunc.reduce(obj, axis, dtype, out, **passkwargs)\n"
          ]
        },
        {
          "output_type": "execute_result",
          "data": {
            "text/plain": [
              "     con: array([], dtype=float64)\n",
              "     fun: -52.50000000003075\n",
              " message: 'Optimization terminated successfully.'\n",
              "     nit: 5\n",
              "   slack: array([-2.24904539e-11])\n",
              "  status: 0\n",
              " success: True\n",
              "       x: array([6.18738527e-14, 1.05853305e-12, 1.21475942e-13, 7.50000000e+00,\n",
              "       4.00246688e-13, 4.71394158e-13])"
            ]
          },
          "metadata": {},
          "execution_count": 13
        }
      ]
    },
    {
      "cell_type": "code",
      "metadata": {
        "scrolled": true,
        "colab": {
          "base_uri": "https://localhost:8080/"
        },
        "id": "3BGJz2MiwM-t",
        "outputId": "20fc0ea2-a8bf-4404-9ab5-7405debc9631"
      },
      "source": [
        "!pip install cvxpy"
      ],
      "execution_count": null,
      "outputs": [
        {
          "output_type": "stream",
          "name": "stdout",
          "text": [
            "Requirement already satisfied: cvxpy in /usr/local/lib/python3.7/dist-packages (1.0.31)\n",
            "Requirement already satisfied: scipy>=1.1.0 in /usr/local/lib/python3.7/dist-packages (from cvxpy) (1.4.1)\n",
            "Requirement already satisfied: scs>=1.1.3 in /usr/local/lib/python3.7/dist-packages (from cvxpy) (2.1.4)\n",
            "Requirement already satisfied: ecos>=2 in /usr/local/lib/python3.7/dist-packages (from cvxpy) (2.0.7.post1)\n",
            "Requirement already satisfied: multiprocess in /usr/local/lib/python3.7/dist-packages (from cvxpy) (0.70.12.2)\n",
            "Requirement already satisfied: numpy>=1.15 in /usr/local/lib/python3.7/dist-packages (from cvxpy) (1.19.5)\n",
            "Requirement already satisfied: osqp>=0.4.1 in /usr/local/lib/python3.7/dist-packages (from cvxpy) (0.6.2.post0)\n",
            "Requirement already satisfied: qdldl in /usr/local/lib/python3.7/dist-packages (from osqp>=0.4.1->cvxpy) (0.1.5.post0)\n",
            "Requirement already satisfied: dill>=0.3.4 in /usr/local/lib/python3.7/dist-packages (from multiprocess->cvxpy) (0.3.4)\n"
          ]
        }
      ]
    },
    {
      "cell_type": "code",
      "metadata": {
        "id": "tFrBkrW4wM-t"
      },
      "source": [
        "import cvxpy"
      ],
      "execution_count": null,
      "outputs": []
    },
    {
      "cell_type": "code",
      "metadata": {
        "id": "wHqdsUspwM-u"
      },
      "source": [
        "x = cvxpy.Variable(shape=n, integer = True)"
      ],
      "execution_count": null,
      "outputs": []
    },
    {
      "cell_type": "code",
      "metadata": {
        "id": "rzBiIONrwM-u"
      },
      "source": [
        "constraint = (A @ x <= b)\n",
        "total_value = c * x"
      ],
      "execution_count": null,
      "outputs": []
    },
    {
      "cell_type": "code",
      "metadata": {
        "id": "JqUQni-8wM-v"
      },
      "source": [
        "problem = cvxpy.Problem(cvxpy.Minimize(total_value), constraints=[constraint])"
      ],
      "execution_count": null,
      "outputs": []
    },
    {
      "cell_type": "code",
      "metadata": {
        "colab": {
          "base_uri": "https://localhost:8080/"
        },
        "id": "W5SIlfLJwM-v",
        "outputId": "71c40fa4-d86e-4172-eedd-676007d6d5b5"
      },
      "source": [
        "problem.solve()"
      ],
      "execution_count": null,
      "outputs": [
        {
          "output_type": "execute_result",
          "data": {
            "text/plain": [
              "-inf"
            ]
          },
          "metadata": {},
          "execution_count": 20
        }
      ]
    },
    {
      "cell_type": "code",
      "metadata": {
        "id": "hZ3f9-_iwM-v"
      },
      "source": [
        "x.value"
      ],
      "execution_count": null,
      "outputs": []
    },
    {
      "cell_type": "markdown",
      "metadata": {
        "id": "9t8pG9SXwM-w"
      },
      "source": [
        "Теперь положительные $x$"
      ]
    },
    {
      "cell_type": "code",
      "metadata": {
        "colab": {
          "base_uri": "https://localhost:8080/"
        },
        "id": "36MtZtMrwM-w",
        "outputId": "8478bb92-6218-4936-abf1-129b32499ff2"
      },
      "source": [
        "x = cvxpy.Variable(shape=n, integer=True)\n",
        "constraint = (A @ x <= b)\n",
        "x_positive = (x >= 0)\n",
        "total_value = c * x\n",
        "problem = cvxpy.Problem(cvxpy.Minimize(total_value), constraints=[constraint, x_positive])\n",
        "problem.solve()"
      ],
      "execution_count": null,
      "outputs": [
        {
          "output_type": "execute_result",
          "data": {
            "text/plain": [
              "-49.0"
            ]
          },
          "metadata": {},
          "execution_count": 23
        }
      ]
    },
    {
      "cell_type": "code",
      "metadata": {
        "colab": {
          "base_uri": "https://localhost:8080/"
        },
        "id": "ZcW4zhjxwM-x",
        "outputId": "e331d81c-8fe7-4f7a-ee75-7fd5a48bd497"
      },
      "source": [
        "x.value"
      ],
      "execution_count": null,
      "outputs": [
        {
          "output_type": "execute_result",
          "data": {
            "text/plain": [
              "array([0., 0., 0., 7., 0., 0.])"
            ]
          },
          "metadata": {},
          "execution_count": 24
        }
      ]
    },
    {
      "cell_type": "markdown",
      "metadata": {
        "id": "DzAGbRSUwM-x"
      },
      "source": [
        "Теперь $x = 0$ или $1$"
      ]
    },
    {
      "cell_type": "code",
      "metadata": {
        "colab": {
          "base_uri": "https://localhost:8080/"
        },
        "id": "NPkB9wuZ9yWC",
        "outputId": "00ee6ede-2e47-42d1-c5b6-2342e2fb2b6b"
      },
      "source": [
        "# A матрица весов\n",
        "# c -1 * вектор стоимости\n",
        "# x переменная в форме n  -- c * x - объективная функция\n",
        "# b ограничение по весу"
      ],
      "execution_count": null,
      "outputs": [
        {
          "output_type": "execute_result",
          "data": {
            "text/plain": [
              "array([15])"
            ]
          },
          "metadata": {},
          "execution_count": 32
        }
      ]
    },
    {
      "cell_type": "code",
      "metadata": {
        "colab": {
          "base_uri": "https://localhost:8080/"
        },
        "id": "ZZoIz4kX-Gzd",
        "outputId": "e32d42ba-825a-4638-928e-56abe585715b"
      },
      "source": [
        "c"
      ],
      "execution_count": null,
      "outputs": [
        {
          "output_type": "execute_result",
          "data": {
            "text/plain": [
              "array([-4, -2, -1, -7, -3, -6])"
            ]
          },
          "metadata": {},
          "execution_count": 29
        }
      ]
    },
    {
      "cell_type": "code",
      "metadata": {
        "colab": {
          "base_uri": "https://localhost:8080/"
        },
        "id": "bWgUSivywM-x",
        "outputId": "e6414886-c396-48cb-cfa5-400b1ae47477"
      },
      "source": [
        "x = cvxpy.Variable(shape=n, boolean=True)\n",
        "constraint = A @ x <= b\n",
        "x_positive = x >= 0\n",
        "total_value = c * x\n",
        "problem = cvxpy.Problem(cvxpy.Minimize(total_value), constraints=[constraint, x_positive])\n",
        "problem.solve()"
      ],
      "execution_count": null,
      "outputs": [
        {
          "output_type": "execute_result",
          "data": {
            "text/plain": [
              "-17.0"
            ]
          },
          "metadata": {},
          "execution_count": 25
        }
      ]
    },
    {
      "cell_type": "code",
      "metadata": {
        "colab": {
          "base_uri": "https://localhost:8080/"
        },
        "id": "yr5hlG0dwM-y",
        "outputId": "f9d17e4c-a2a3-4752-b54f-79f831371ca2"
      },
      "source": [
        "x.value"
      ],
      "execution_count": null,
      "outputs": [
        {
          "output_type": "execute_result",
          "data": {
            "text/plain": [
              "array([1., 0., 0., 1., 0., 1.])"
            ]
          },
          "metadata": {},
          "execution_count": 26
        }
      ]
    },
    {
      "cell_type": "markdown",
      "metadata": {
        "id": "ldvEsCv0DZMx"
      },
      "source": [
        "Задание 5.1\n",
        "\n",
        "Составьте оптимальный план перевозок, со Склада № 1 и Склада № 2, в три торговых центра, с учётом тарифов, запасов и потребностей, которые указаны в таблице:\n",
        "\n",
        "--- | ТЦ1 (110 шт.) | ТЦ2 (250) | ТЦ3 (140)\n",
        "---- |---| --- | ----\n",
        "склад 1 (180) | 2 уе | 2 | 3\n",
        "склад 2 (220) | 7 | 7 | 6\n",
        "\n",
        "\n",
        "Сформулируйте задачу, как задачу линейного программирования.\n",
        "\n",
        "В ответ запишите минимальную суммарную стоимость поставки (с точностью до целых)"
      ]
    },
    {
      "cell_type": "code",
      "metadata": {
        "colab": {
          "base_uri": "https://localhost:8080/"
        },
        "id": "AaDBv5TjYFIY",
        "outputId": "edef82ab-78ee-42c6-d331-b8f00ddcf001"
      },
      "source": [
        "# http://yetanothermathprogrammingconsultant.blogspot.com/2019/11/cvxpy-matrix-style-modeling-limits.html\n",
        "import numpy as np\n",
        "import cvxpy as cp\n",
        "\n",
        "#----- data -------\n",
        "capacity = np.array([180, 220])\n",
        "demand = np.array([110, 150, 140])\n",
        "cost = np.array([[2, 5, 3],\n",
        "            [7, 7, 6]])\n",
        "# freight = 90\n",
        "# cost = freight*distance/1000\n",
        "\n",
        "#------ set up LP data --------\n",
        "C = cost\n",
        "d = demand\n",
        "s = capacity\n",
        "\n",
        "#---- matrix formulation ----\n",
        "\n",
        "ei = np.ones(s.shape)\n",
        "ej = np.ones(d.shape)\n",
        "\n",
        "X = cp.Variable(C.shape,\"X\")\n",
        "prob = cp.Problem(\n",
        "    cp.Minimize(cp.trace(C.T@X)),\n",
        "    [X.T@ei >= d, \n",
        "     X@ej <= s, \n",
        "     X>=0])\n",
        "prob.solve(verbose=True)\n",
        "print(\"status:\",prob.status)\n",
        "print(\"objective:\",prob.value)\n",
        "print(\"levels:\",X.value)\n",
        "\n",
        "#---- summations ----\n",
        "\n",
        "prob2 = cp.Problem(\n",
        "    cp.Minimize(cp.sum(cp.multiply(C,X))),\n",
        "    [cp.sum(X,axis=0) >= d,\n",
        "    cp.sum(X,axis=1) <= s,\n",
        "    X >= 0])\n",
        "prob2.solve(verbose=True)\n",
        "print(\"status:\",prob2.status)\n",
        "print(\"objective:\",prob2.value)\n",
        "print(\"levels:\",X.value)"
      ],
      "execution_count": null,
      "outputs": [
        {
          "output_type": "stream",
          "name": "stdout",
          "text": [
            "\n",
            "ECOS 2.0.7 - (C) embotech GmbH, Zurich Switzerland, 2012-15. Web: www.embotech.com/ECOS\n",
            "\n",
            "It     pcost       dcost      gap   pres   dres    k/t    mu     step   sigma     IR    |   BT\n",
            " 0  +1.733e+03  +1.733e+03  +3e+03  1e-01  4e-01  1e+00  3e+02    ---    ---    1  1  - |  -  - \n",
            " 1  +1.994e+03  +1.999e+03  +4e+02  1e-02  4e-02  5e+00  3e+01  0.8994  2e-02   0  0  0 |  0  0\n",
            " 2  +1.909e+03  +1.911e+03  +7e+01  2e-03  8e-03  2e+00  6e+00  0.8708  6e-02   0  0  0 |  0  0\n",
            " 3  +1.900e+03  +1.900e+03  +2e+00  7e-05  3e-04  8e-02  2e-01  0.9690  5e-03   0  0  0 |  0  0\n",
            " 4  +1.900e+03  +1.900e+03  +3e-02  8e-07  3e-06  9e-04  2e-03  0.9890  1e-04   1  0  0 |  0  0\n",
            " 5  +1.900e+03  +1.900e+03  +3e-04  9e-09  3e-08  1e-05  3e-05  0.9890  1e-04   1  0  0 |  0  0\n",
            " 6  +1.900e+03  +1.900e+03  +3e-06  1e-10  4e-10  1e-07  3e-07  0.9890  1e-04   2  0  0 |  0  0\n",
            "\n",
            "OPTIMAL (within feastol=3.7e-10, reltol=1.7e-09, abstol=3.3e-06).\n",
            "Runtime: 0.001747 seconds.\n",
            "\n",
            "status: optimal\n",
            "objective: 1900.0000000153718\n",
            "levels: [[1.10000000e+02 1.65305188e-07 6.99999999e+01]\n",
            " [1.78736588e-08 1.50000000e+02 7.00000001e+01]]\n",
            "\n",
            "ECOS 2.0.7 - (C) embotech GmbH, Zurich Switzerland, 2012-15. Web: www.embotech.com/ECOS\n",
            "\n",
            "It     pcost       dcost      gap   pres   dres    k/t    mu     step   sigma     IR    |   BT\n",
            " 0  +1.733e+03  +1.733e+03  +3e+03  1e-01  4e-01  1e+00  3e+02    ---    ---    1  1  - |  -  - \n",
            " 1  +1.994e+03  +1.999e+03  +4e+02  1e-02  4e-02  5e+00  3e+01  0.8994  2e-02   0  0  0 |  0  0\n",
            " 2  +1.909e+03  +1.911e+03  +7e+01  2e-03  8e-03  2e+00  6e+00  0.8708  6e-02   0  0  0 |  0  0\n",
            " 3  +1.900e+03  +1.900e+03  +2e+00  7e-05  3e-04  8e-02  2e-01  0.9690  5e-03   0  0  0 |  0  0\n",
            " 4  +1.900e+03  +1.900e+03  +3e-02  8e-07  3e-06  9e-04  2e-03  0.9890  1e-04   1  0  0 |  0  0\n",
            " 5  +1.900e+03  +1.900e+03  +3e-04  9e-09  3e-08  1e-05  3e-05  0.9890  1e-04   1  0  0 |  0  0\n",
            " 6  +1.900e+03  +1.900e+03  +3e-06  1e-10  4e-10  1e-07  3e-07  0.9890  1e-04   2  0  0 |  0  0\n",
            "\n",
            "OPTIMAL (within feastol=3.7e-10, reltol=1.7e-09, abstol=3.3e-06).\n",
            "Runtime: 0.001225 seconds.\n",
            "\n",
            "status: optimal\n",
            "objective: 1900.0000000153718\n",
            "levels: [[1.10000000e+02 1.65305188e-07 6.99999999e+01]\n",
            " [1.78736588e-08 1.50000000e+02 7.00000001e+01]]\n"
          ]
        }
      ]
    },
    {
      "cell_type": "code",
      "metadata": {
        "colab": {
          "base_uri": "https://localhost:8080/"
        },
        "id": "cyzSXZLFnzZ8",
        "outputId": "d717c80c-ac83-4e43-ab17-8fd28bf7798f"
      },
      "source": [
        "import numpy as np\n",
        "import cvxpy\n",
        "\n",
        "# Инициализация матрицы стоимости и матрицы, которая будет задавать поставки:\n",
        "c = np.array([[2, 5, 3], [7, 7, 6]])\n",
        "x = cvxpy.Variable(shape=(2, 3), integer=True)\n",
        "\n",
        "# Ограничения для задачи: у нас есть ограничения на объемы продукции в складах \n",
        "# - это даёт ограничения-неравенства на суммы по рядам, \n",
        "# и ограничения, связанные с требованиями ТЦ \n",
        "# - это даёт ограничения-равенства на суммы по столбцам:\n",
        "\n",
        "constraint = [cvxpy.sum(x[0]) <= 180, \n",
        "              cvxpy.sum(x[1]) <= 220, \n",
        "              cvxpy.sum(x[:, 0]) == 110, \n",
        "              cvxpy.sum(x[:, 1]) == 150, \n",
        "              cvxpy.sum(x[:, 2]) == 140, \n",
        "              x >= 0]\n",
        "\n",
        "# Непосредственно минимизируемая функция \n",
        "# - сумма поэлементных произведений матриц x и c :        \n",
        "\n",
        "total_value = cvxpy.sum(cvxpy.multiply(c, x))\n",
        "problem = cvxpy.Problem(cvxpy.Minimize(total_value), constraints=constraint)\n",
        "problem.solve(solver='ECOS_BB')"
      ],
      "execution_count": null,
      "outputs": [
        {
          "output_type": "execute_result",
          "data": {
            "text/plain": [
              "1900.0000000102355"
            ]
          },
          "metadata": {},
          "execution_count": 1
        }
      ]
    },
    {
      "cell_type": "code",
      "metadata": {
        "colab": {
          "base_uri": "https://localhost:8080/"
        },
        "id": "DdlmjTz9em7A",
        "outputId": "ccb7b2f0-e7a6-47a6-ea04-59e0dabe83f7"
      },
      "source": [
        "x.value"
      ],
      "execution_count": null,
      "outputs": [
        {
          "output_type": "execute_result",
          "data": {
            "text/plain": [
              "array([[1.10000000e+02, 3.50528004e-09, 7.00000000e+01],\n",
              "       [3.36650313e-09, 1.50000000e+02, 7.00000000e+01]])"
            ]
          },
          "metadata": {},
          "execution_count": 2
        }
      ]
    },
    {
      "cell_type": "code",
      "metadata": {
        "colab": {
          "base_uri": "https://localhost:8080/"
        },
        "id": "EPEUOcOxeq9j",
        "outputId": "c8c8c924-85ad-4fc3-a216-4c2adc2c63d4"
      },
      "source": [
        "from scipy.optimize import linprog\n",
        "import numpy as np\n",
        "\n",
        "c = np.array([2, 5, 3, 7, 7, 6])\n",
        "\n",
        "A_ub = np.array([[1, 1, 1, 0, 0, 0], [0, 0, 0, 1, 1, 1]])\n",
        "b_ub = np.array([180, 220])\n",
        "\n",
        "A_eq = np.array([[1, 0, 0, 1, 0, 0], [0, 1, 0, 0, 1, 0], [0, 0, 1, 0, 0, 1]])\n",
        "b_eq = np.array([110, 150, 140])\n",
        "\n",
        "args = linprog(c=c, A_ub=A_ub, b_ub=b_ub, A_eq=A_eq, b_eq=b_eq)\n",
        "args"
      ],
      "execution_count": null,
      "outputs": [
        {
          "output_type": "stream",
          "name": "stderr",
          "text": [
            "/usr/local/lib/python3.7/dist-packages/numpy/core/fromnumeric.py:87: VisibleDeprecationWarning: Creating an ndarray from ragged nested sequences (which is a list-or-tuple of lists-or-tuples-or ndarrays with different lengths or shapes) is deprecated. If you meant to do this, you must specify 'dtype=object' when creating the ndarray\n",
            "  return ufunc.reduce(obj, axis, dtype, out, **passkwargs)\n"
          ]
        },
        {
          "output_type": "execute_result",
          "data": {
            "text/plain": [
              "     con: array([4.39231928e-06, 6.01910409e-06, 5.61240802e-06])\n",
              "     fun: 1899.9999256826418\n",
              " message: 'Optimization terminated successfully.'\n",
              "     nit: 5\n",
              "   slack: array([7.20365003e-06, 8.82018139e-06])\n",
              "  status: 0\n",
              " success: True\n",
              "       x: array([1.09999995e+02, 4.43103329e-08, 6.99999980e+01, 8.98577274e-07,\n",
              "       1.49999994e+02, 6.99999963e+01])"
            ]
          },
          "metadata": {},
          "execution_count": 3
        }
      ]
    },
    {
      "cell_type": "markdown",
      "metadata": {
        "id": "W0rEgU6OxvPk"
      },
      "source": [
        "Задание 5.2\n",
        "\n",
        "Решите задачу о назначениях\n",
        "\n",
        "колонки - задачи, строки - исполнители\n",
        "\n",
        "В ответ запишите минимальную стоимость\n",
        "\n",
        " -- | 1 | 2 | 3 | 4 | 5 \n",
        " -- | -| - |  -| -| -\n",
        " 1 | 1000 | 12 | 10 | 19 | 8\n",
        " 2 | 12 | 1000 | 3 | 7| 2\n",
        " 3 | 10 | 3 | 1000 | 6 |20\n",
        " 4 | 19 | 7 |6 |1000 |4\n",
        " 5 |8 |2 |20 | 4 |1000\n"
      ]
    },
    {
      "cell_type": "code",
      "metadata": {
        "id": "f0MEXoULe3hL",
        "colab": {
          "base_uri": "https://localhost:8080/"
        },
        "outputId": "c8026ef8-d874-47d4-d8c6-af0af5e76086"
      },
      "source": [
        "# Задание 5.2\n",
        "import cvxpy as cvx\n",
        "import numpy as np\n",
        "\n",
        "c = np.array([[1000, 12,   10,   19,   8],\n",
        "              [12,   1000, 3,    7,    2],\n",
        "              [10,   3,    1000, 6,    20],\n",
        "              [19,   7,    6,    1000, 4],\n",
        "              [8,    2,    20,   4,    1000]])\n",
        "\n",
        "# описывает параметры переменной х пока без задания мест расположения 0 и 1\n",
        "x = cvx.Variable(shape=(5,5), boolean=True)\n",
        "\n",
        "#это суммы по столбцам и строкам, которые должны быть равны единицам. \n",
        "# Указаны как равенство векторов сумм по столбцам и строкам векторам, состоящих из единиц\n",
        "constraints = [cvx.sum(x, axis=0) == np.ones(5), cvx.sum(x, axis=1) == np.ones(5)]\n",
        "\n",
        "func = cvx.sum(cvx.multiply(x, c))\n",
        "\n",
        "#problem выбирает такое расположение  0 и 1  в х,  чтобы минимизировать func.\n",
        "problem = cvx.Problem(cvx.Minimize(func), constraints=constraints)\n",
        "problem.solve(solver='ECOS_BB')"
      ],
      "execution_count": 2,
      "outputs": [
        {
          "output_type": "execute_result",
          "data": {
            "text/plain": [
              "31.999999999961364"
            ]
          },
          "metadata": {},
          "execution_count": 2
        }
      ]
    },
    {
      "cell_type": "code",
      "metadata": {
        "colab": {
          "base_uri": "https://localhost:8080/"
        },
        "id": "WP0xi0-ry9zn",
        "outputId": "f557fc0a-211c-4149-ff00-159f62047a7b"
      },
      "source": [
        "# Задание 5.3\n",
        "\n",
        "# Необходимо найти кратчайший маршрут из точки А, который проходит через все другие \n",
        "# точки и возвращается в А.\n",
        "# Сформулируйте эту задачу как задачу ЦЛП и решите её.\n",
        "# В ответ запишите длину кратчайшего пути\n",
        "\n",
        "import cvxpy\n",
        "import numpy as np\n",
        "x = cvxpy.Variable(shape=(5,5), boolean=True)\n",
        "u = cvxpy.Variable(shape=5, integer=True)\n",
        "\n",
        "from itertools import product\n",
        "\n",
        "# матрица стоимостей переходов (длина маршрута) составляется для вершин в алфавитном порядке:\n",
        "# первая строка/столбец - это вершина A, вторая строка/столбец - вершина B и т.д.\n",
        "\n",
        "# элемент d[0, 1] - это цена перехода из вершины A в вершину B, и так далее.\n",
        "\n",
        "constraints = [\n",
        "    cvxpy.sum(x, axis=0) == np.ones(5),\n",
        "    cvxpy.sum(x, axis=1) == np.ones(5),\n",
        "    u >= 0,\n",
        "    u <= 4,\n",
        "    cvxpy.sum(cvxpy.diag(x)) == 0\n",
        "]\n",
        "\n",
        "# Это условия, которые должны обеспечить связность графа, \n",
        "# то есть то что маршрут не будет разбит на независимые подциклы\n",
        "for i, j in product(range(5), range(5)):\n",
        "    if i >= 0 and j >= 1 and i != j:\n",
        "        constraints.append(u[i] - u[j] + 5 * x[i,j] <= 4)\n",
        "\n",
        "d = np.array([[0, 12, 10, 19, 8], \n",
        "              [12, 0, 3, 7, 2], \n",
        "              [10, 3, 0, 6, 20], \n",
        "              [19, 7, 6, 0, 4], \n",
        "              [8, 2, 20, 4, 0]])\n",
        "\n",
        "func = cvxpy.sum(cvxpy.multiply(x, d))\n",
        "problem = cvxpy.Problem(cvxpy.Minimize(func), constraints=constraints)\n",
        "result = problem.solve(solver='ECOS_BB')\n",
        "np.round(result)"
      ],
      "execution_count": 3,
      "outputs": [
        {
          "output_type": "execute_result",
          "data": {
            "text/plain": [
              "32.0"
            ]
          },
          "metadata": {},
          "execution_count": 3
        }
      ]
    },
    {
      "cell_type": "code",
      "metadata": {
        "colab": {
          "base_uri": "https://localhost:8080/"
        },
        "id": "SLcv5JurzDxr",
        "outputId": "bc796e36-0b28-4c57-847a-9b923c1a07e7"
      },
      "source": [
        "# альтернативное решение\n",
        "\n",
        "# адание 5.3 может быть решено и без условий, добавляемых в циклеб\n",
        "# потому что в этом графе  такой ситуации возникнуть не может, \n",
        "# а для 6 точек уже возможны несвязные подмаршруты, поэтому условия связности понадобятся\n",
        "\n",
        "import cvxpy\n",
        "import numpy as np\n",
        "\n",
        "x = cvxpy.Variable(shape=(5,5), boolean=True)\n",
        "\n",
        "# матрица стоимостей переходов из вершины в вершину\n",
        "d = np.array([\n",
        "    # A   B   C   D   E\n",
        "    [ 0, 12, 10, 19,  8], # A\n",
        "    [12,  0,  3,  7,  2], # B\n",
        "    [10,  3,  0,  6, 20], # C\n",
        "    [19,  7,  6,  0,  4], # D\n",
        "    [ 8,  2, 20,  4,  0]])# E\n",
        "\n",
        "constraints = [\n",
        "    cvxpy.sum(x, axis=0) == np.ones(5), # в каждой строке может быть выбран только один переход\n",
        "    cvxpy.sum(x, axis=1) == np.ones(5), # в каждом столбце может быть выбран только один переход\n",
        "    cvxpy.sum(cvxpy.diag(x)) == 0,      # не может быть выбран переход из точки в ту же точку\n",
        "]\n",
        "\n",
        "func = cvxpy.sum(cvxpy.multiply(x, d))\n",
        "problem = cvxpy.Problem(cvxpy.Minimize(func), constraints=constraints)\n",
        "result = problem.solve(solver='ECOS_BB')\n",
        "np.round(result)"
      ],
      "execution_count": 4,
      "outputs": [
        {
          "output_type": "execute_result",
          "data": {
            "text/plain": [
              "32.0"
            ]
          },
          "metadata": {},
          "execution_count": 4
        }
      ]
    },
    {
      "cell_type": "code",
      "metadata": {
        "id": "7K60bxQSz9TO"
      },
      "source": [
        ""
      ],
      "execution_count": null,
      "outputs": []
    }
  ]
}