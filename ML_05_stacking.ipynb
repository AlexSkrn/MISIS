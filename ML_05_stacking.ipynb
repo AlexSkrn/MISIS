{
  "nbformat": 4,
  "nbformat_minor": 0,
  "metadata": {
    "kernelspec": {
      "display_name": "Python 3",
      "language": "python",
      "name": "python3"
    },
    "language_info": {
      "codemirror_mode": {
        "name": "ipython",
        "version": 3
      },
      "file_extension": ".py",
      "mimetype": "text/x-python",
      "name": "python",
      "nbconvert_exporter": "python",
      "pygments_lexer": "ipython3",
      "version": "3.7.3"
    },
    "colab": {
      "name": "ML05_stacking.ipynb",
      "provenance": [],
      "collapsed_sections": []
    }
  },
  "cells": [
    {
      "cell_type": "markdown",
      "metadata": {
        "id": "SVGEqntXHZeD"
      },
      "source": [
        "# 6.2 Стекинг"
      ]
    },
    {
      "cell_type": "code",
      "metadata": {
        "id": "IREftSDTHZeE"
      },
      "source": [
        "import pandas as pd\n",
        "import numpy as np\n",
        "from sklearn.model_selection import train_test_split, KFold\n",
        "from sklearn.linear_model import LogisticRegression, LinearRegression\n",
        "from sklearn.ensemble import RandomForestClassifier, GradientBoostingClassifier\n",
        "from sklearn.base import clone\n",
        "\n",
        "from sklearn.preprocessing import StandardScaler\n",
        "from sklearn.metrics import accuracy_score\n",
        "from tqdm import tqdm\n",
        "from matplotlib import pyplot as plt\n",
        "\n",
        "%matplotlib inline"
      ],
      "execution_count": 1,
      "outputs": []
    },
    {
      "cell_type": "code",
      "metadata": {
        "id": "1J0r6DYGHZeH"
      },
      "source": [
        "df = pd.read_csv('https://archive.ics.uci.edu/ml/machine-learning-databases/covtype/covtype.data.gz', sep=',', header=None)[:10000]"
      ],
      "execution_count": 2,
      "outputs": []
    },
    {
      "cell_type": "code",
      "metadata": {
        "id": "i7SUi2FRHZeJ",
        "colab": {
          "base_uri": "https://localhost:8080/",
          "height": 207
        },
        "outputId": "a895705b-782f-46d6-d0ec-d4656d6a8f93"
      },
      "source": [
        "df.head(3)"
      ],
      "execution_count": 3,
      "outputs": [
        {
          "output_type": "execute_result",
          "data": {
            "text/html": [
              "\n",
              "  <div id=\"df-518bce12-37b1-4584-b727-cd1570d0f75e\">\n",
              "    <div class=\"colab-df-container\">\n",
              "      <div>\n",
              "<style scoped>\n",
              "    .dataframe tbody tr th:only-of-type {\n",
              "        vertical-align: middle;\n",
              "    }\n",
              "\n",
              "    .dataframe tbody tr th {\n",
              "        vertical-align: top;\n",
              "    }\n",
              "\n",
              "    .dataframe thead th {\n",
              "        text-align: right;\n",
              "    }\n",
              "</style>\n",
              "<table border=\"1\" class=\"dataframe\">\n",
              "  <thead>\n",
              "    <tr style=\"text-align: right;\">\n",
              "      <th></th>\n",
              "      <th>0</th>\n",
              "      <th>1</th>\n",
              "      <th>2</th>\n",
              "      <th>3</th>\n",
              "      <th>4</th>\n",
              "      <th>5</th>\n",
              "      <th>6</th>\n",
              "      <th>7</th>\n",
              "      <th>8</th>\n",
              "      <th>9</th>\n",
              "      <th>10</th>\n",
              "      <th>11</th>\n",
              "      <th>12</th>\n",
              "      <th>13</th>\n",
              "      <th>14</th>\n",
              "      <th>15</th>\n",
              "      <th>16</th>\n",
              "      <th>17</th>\n",
              "      <th>18</th>\n",
              "      <th>19</th>\n",
              "      <th>20</th>\n",
              "      <th>21</th>\n",
              "      <th>22</th>\n",
              "      <th>23</th>\n",
              "      <th>24</th>\n",
              "      <th>25</th>\n",
              "      <th>26</th>\n",
              "      <th>27</th>\n",
              "      <th>28</th>\n",
              "      <th>29</th>\n",
              "      <th>30</th>\n",
              "      <th>31</th>\n",
              "      <th>32</th>\n",
              "      <th>33</th>\n",
              "      <th>34</th>\n",
              "      <th>35</th>\n",
              "      <th>36</th>\n",
              "      <th>37</th>\n",
              "      <th>38</th>\n",
              "      <th>39</th>\n",
              "      <th>40</th>\n",
              "      <th>41</th>\n",
              "      <th>42</th>\n",
              "      <th>43</th>\n",
              "      <th>44</th>\n",
              "      <th>45</th>\n",
              "      <th>46</th>\n",
              "      <th>47</th>\n",
              "      <th>48</th>\n",
              "      <th>49</th>\n",
              "      <th>50</th>\n",
              "      <th>51</th>\n",
              "      <th>52</th>\n",
              "      <th>53</th>\n",
              "      <th>54</th>\n",
              "    </tr>\n",
              "  </thead>\n",
              "  <tbody>\n",
              "    <tr>\n",
              "      <th>0</th>\n",
              "      <td>2596</td>\n",
              "      <td>51</td>\n",
              "      <td>3</td>\n",
              "      <td>258</td>\n",
              "      <td>0</td>\n",
              "      <td>510</td>\n",
              "      <td>221</td>\n",
              "      <td>232</td>\n",
              "      <td>148</td>\n",
              "      <td>6279</td>\n",
              "      <td>1</td>\n",
              "      <td>0</td>\n",
              "      <td>0</td>\n",
              "      <td>0</td>\n",
              "      <td>0</td>\n",
              "      <td>0</td>\n",
              "      <td>0</td>\n",
              "      <td>0</td>\n",
              "      <td>0</td>\n",
              "      <td>0</td>\n",
              "      <td>0</td>\n",
              "      <td>0</td>\n",
              "      <td>0</td>\n",
              "      <td>0</td>\n",
              "      <td>0</td>\n",
              "      <td>0</td>\n",
              "      <td>0</td>\n",
              "      <td>0</td>\n",
              "      <td>0</td>\n",
              "      <td>0</td>\n",
              "      <td>0</td>\n",
              "      <td>0</td>\n",
              "      <td>0</td>\n",
              "      <td>0</td>\n",
              "      <td>0</td>\n",
              "      <td>0</td>\n",
              "      <td>0</td>\n",
              "      <td>0</td>\n",
              "      <td>0</td>\n",
              "      <td>0</td>\n",
              "      <td>0</td>\n",
              "      <td>0</td>\n",
              "      <td>1</td>\n",
              "      <td>0</td>\n",
              "      <td>0</td>\n",
              "      <td>0</td>\n",
              "      <td>0</td>\n",
              "      <td>0</td>\n",
              "      <td>0</td>\n",
              "      <td>0</td>\n",
              "      <td>0</td>\n",
              "      <td>0</td>\n",
              "      <td>0</td>\n",
              "      <td>0</td>\n",
              "      <td>5</td>\n",
              "    </tr>\n",
              "    <tr>\n",
              "      <th>1</th>\n",
              "      <td>2590</td>\n",
              "      <td>56</td>\n",
              "      <td>2</td>\n",
              "      <td>212</td>\n",
              "      <td>-6</td>\n",
              "      <td>390</td>\n",
              "      <td>220</td>\n",
              "      <td>235</td>\n",
              "      <td>151</td>\n",
              "      <td>6225</td>\n",
              "      <td>1</td>\n",
              "      <td>0</td>\n",
              "      <td>0</td>\n",
              "      <td>0</td>\n",
              "      <td>0</td>\n",
              "      <td>0</td>\n",
              "      <td>0</td>\n",
              "      <td>0</td>\n",
              "      <td>0</td>\n",
              "      <td>0</td>\n",
              "      <td>0</td>\n",
              "      <td>0</td>\n",
              "      <td>0</td>\n",
              "      <td>0</td>\n",
              "      <td>0</td>\n",
              "      <td>0</td>\n",
              "      <td>0</td>\n",
              "      <td>0</td>\n",
              "      <td>0</td>\n",
              "      <td>0</td>\n",
              "      <td>0</td>\n",
              "      <td>0</td>\n",
              "      <td>0</td>\n",
              "      <td>0</td>\n",
              "      <td>0</td>\n",
              "      <td>0</td>\n",
              "      <td>0</td>\n",
              "      <td>0</td>\n",
              "      <td>0</td>\n",
              "      <td>0</td>\n",
              "      <td>0</td>\n",
              "      <td>0</td>\n",
              "      <td>1</td>\n",
              "      <td>0</td>\n",
              "      <td>0</td>\n",
              "      <td>0</td>\n",
              "      <td>0</td>\n",
              "      <td>0</td>\n",
              "      <td>0</td>\n",
              "      <td>0</td>\n",
              "      <td>0</td>\n",
              "      <td>0</td>\n",
              "      <td>0</td>\n",
              "      <td>0</td>\n",
              "      <td>5</td>\n",
              "    </tr>\n",
              "    <tr>\n",
              "      <th>2</th>\n",
              "      <td>2804</td>\n",
              "      <td>139</td>\n",
              "      <td>9</td>\n",
              "      <td>268</td>\n",
              "      <td>65</td>\n",
              "      <td>3180</td>\n",
              "      <td>234</td>\n",
              "      <td>238</td>\n",
              "      <td>135</td>\n",
              "      <td>6121</td>\n",
              "      <td>1</td>\n",
              "      <td>0</td>\n",
              "      <td>0</td>\n",
              "      <td>0</td>\n",
              "      <td>0</td>\n",
              "      <td>0</td>\n",
              "      <td>0</td>\n",
              "      <td>0</td>\n",
              "      <td>0</td>\n",
              "      <td>0</td>\n",
              "      <td>0</td>\n",
              "      <td>0</td>\n",
              "      <td>0</td>\n",
              "      <td>0</td>\n",
              "      <td>0</td>\n",
              "      <td>1</td>\n",
              "      <td>0</td>\n",
              "      <td>0</td>\n",
              "      <td>0</td>\n",
              "      <td>0</td>\n",
              "      <td>0</td>\n",
              "      <td>0</td>\n",
              "      <td>0</td>\n",
              "      <td>0</td>\n",
              "      <td>0</td>\n",
              "      <td>0</td>\n",
              "      <td>0</td>\n",
              "      <td>0</td>\n",
              "      <td>0</td>\n",
              "      <td>0</td>\n",
              "      <td>0</td>\n",
              "      <td>0</td>\n",
              "      <td>0</td>\n",
              "      <td>0</td>\n",
              "      <td>0</td>\n",
              "      <td>0</td>\n",
              "      <td>0</td>\n",
              "      <td>0</td>\n",
              "      <td>0</td>\n",
              "      <td>0</td>\n",
              "      <td>0</td>\n",
              "      <td>0</td>\n",
              "      <td>0</td>\n",
              "      <td>0</td>\n",
              "      <td>2</td>\n",
              "    </tr>\n",
              "  </tbody>\n",
              "</table>\n",
              "</div>\n",
              "      <button class=\"colab-df-convert\" onclick=\"convertToInteractive('df-518bce12-37b1-4584-b727-cd1570d0f75e')\"\n",
              "              title=\"Convert this dataframe to an interactive table.\"\n",
              "              style=\"display:none;\">\n",
              "        \n",
              "  <svg xmlns=\"http://www.w3.org/2000/svg\" height=\"24px\"viewBox=\"0 0 24 24\"\n",
              "       width=\"24px\">\n",
              "    <path d=\"M0 0h24v24H0V0z\" fill=\"none\"/>\n",
              "    <path d=\"M18.56 5.44l.94 2.06.94-2.06 2.06-.94-2.06-.94-.94-2.06-.94 2.06-2.06.94zm-11 1L8.5 8.5l.94-2.06 2.06-.94-2.06-.94L8.5 2.5l-.94 2.06-2.06.94zm10 10l.94 2.06.94-2.06 2.06-.94-2.06-.94-.94-2.06-.94 2.06-2.06.94z\"/><path d=\"M17.41 7.96l-1.37-1.37c-.4-.4-.92-.59-1.43-.59-.52 0-1.04.2-1.43.59L10.3 9.45l-7.72 7.72c-.78.78-.78 2.05 0 2.83L4 21.41c.39.39.9.59 1.41.59.51 0 1.02-.2 1.41-.59l7.78-7.78 2.81-2.81c.8-.78.8-2.07 0-2.86zM5.41 20L4 18.59l7.72-7.72 1.47 1.35L5.41 20z\"/>\n",
              "  </svg>\n",
              "      </button>\n",
              "      \n",
              "  <style>\n",
              "    .colab-df-container {\n",
              "      display:flex;\n",
              "      flex-wrap:wrap;\n",
              "      gap: 12px;\n",
              "    }\n",
              "\n",
              "    .colab-df-convert {\n",
              "      background-color: #E8F0FE;\n",
              "      border: none;\n",
              "      border-radius: 50%;\n",
              "      cursor: pointer;\n",
              "      display: none;\n",
              "      fill: #1967D2;\n",
              "      height: 32px;\n",
              "      padding: 0 0 0 0;\n",
              "      width: 32px;\n",
              "    }\n",
              "\n",
              "    .colab-df-convert:hover {\n",
              "      background-color: #E2EBFA;\n",
              "      box-shadow: 0px 1px 2px rgba(60, 64, 67, 0.3), 0px 1px 3px 1px rgba(60, 64, 67, 0.15);\n",
              "      fill: #174EA6;\n",
              "    }\n",
              "\n",
              "    [theme=dark] .colab-df-convert {\n",
              "      background-color: #3B4455;\n",
              "      fill: #D2E3FC;\n",
              "    }\n",
              "\n",
              "    [theme=dark] .colab-df-convert:hover {\n",
              "      background-color: #434B5C;\n",
              "      box-shadow: 0px 1px 3px 1px rgba(0, 0, 0, 0.15);\n",
              "      filter: drop-shadow(0px 1px 2px rgba(0, 0, 0, 0.3));\n",
              "      fill: #FFFFFF;\n",
              "    }\n",
              "  </style>\n",
              "\n",
              "      <script>\n",
              "        const buttonEl =\n",
              "          document.querySelector('#df-518bce12-37b1-4584-b727-cd1570d0f75e button.colab-df-convert');\n",
              "        buttonEl.style.display =\n",
              "          google.colab.kernel.accessAllowed ? 'block' : 'none';\n",
              "\n",
              "        async function convertToInteractive(key) {\n",
              "          const element = document.querySelector('#df-518bce12-37b1-4584-b727-cd1570d0f75e');\n",
              "          const dataTable =\n",
              "            await google.colab.kernel.invokeFunction('convertToInteractive',\n",
              "                                                     [key], {});\n",
              "          if (!dataTable) return;\n",
              "\n",
              "          const docLinkHtml = 'Like what you see? Visit the ' +\n",
              "            '<a target=\"_blank\" href=https://colab.research.google.com/notebooks/data_table.ipynb>data table notebook</a>'\n",
              "            + ' to learn more about interactive tables.';\n",
              "          element.innerHTML = '';\n",
              "          dataTable['output_type'] = 'display_data';\n",
              "          await google.colab.output.renderOutput(dataTable, element);\n",
              "          const docLink = document.createElement('div');\n",
              "          docLink.innerHTML = docLinkHtml;\n",
              "          element.appendChild(docLink);\n",
              "        }\n",
              "      </script>\n",
              "    </div>\n",
              "  </div>\n",
              "  "
            ],
            "text/plain": [
              "     0    1   2    3   4     5    6    7   ...  47  48  49  50  51  52  53  54\n",
              "0  2596   51   3  258   0   510  221  232  ...   0   0   0   0   0   0   0   5\n",
              "1  2590   56   2  212  -6   390  220  235  ...   0   0   0   0   0   0   0   5\n",
              "2  2804  139   9  268  65  3180  234  238  ...   0   0   0   0   0   0   0   2\n",
              "\n",
              "[3 rows x 55 columns]"
            ]
          },
          "metadata": {},
          "execution_count": 3
        }
      ]
    },
    {
      "cell_type": "code",
      "metadata": {
        "id": "Pjzuwk_aHZeM",
        "colab": {
          "base_uri": "https://localhost:8080/"
        },
        "outputId": "3e7f233d-7327-4024-f2fe-689765b2e1ee"
      },
      "source": [
        "df.shape"
      ],
      "execution_count": 4,
      "outputs": [
        {
          "output_type": "execute_result",
          "data": {
            "text/plain": [
              "(10000, 55)"
            ]
          },
          "metadata": {},
          "execution_count": 4
        }
      ]
    },
    {
      "cell_type": "code",
      "metadata": {
        "id": "lYKjBKSsHZeO"
      },
      "source": [
        "features = list(range(0, 54))\n",
        "target = 54\n",
        "\n",
        "df = df[(df[target] == 1) | (df[target] == 2)]"
      ],
      "execution_count": 5,
      "outputs": []
    },
    {
      "cell_type": "code",
      "metadata": {
        "id": "muwO4M4sHZeQ"
      },
      "source": [
        "cover_train, cover_test = train_test_split(df, test_size=0.5)\n",
        "\n",
        "cover_X_train, cover_y_train = cover_train[features], cover_train[target]\n",
        "cover_X_test, cover_y_test = cover_test[features], cover_test[target]"
      ],
      "execution_count": 6,
      "outputs": []
    },
    {
      "cell_type": "code",
      "metadata": {
        "id": "97GG-s4cHZeS"
      },
      "source": [
        "scaler = StandardScaler()\n",
        "cover_X_train = scaler.fit_transform(cover_X_train)\n",
        "cover_X_test = scaler.transform(cover_X_test)"
      ],
      "execution_count": 7,
      "outputs": []
    },
    {
      "cell_type": "markdown",
      "metadata": {
        "id": "lRnSXWqzKh3x"
      },
      "source": [
        "Stacking — еще один способ объединить несколько алгоритмов в один, который часто используется как в решении реальных задач из промышленной сферы, так и в конкурсах на платформах вроде Kaggle.  \n",
        "Подход использует понятие _базовых классификаторов_, каждый из которых независимо обучается на некотором (возможно одном и том же) множестве признаков, а также _мета-классификатора_, использующего предсказания базовых классификаторов как признаки.\n",
        "\n",
        "Для избежания переобучения будем разбивать обучающую выборку на фолды.  \n",
        "Например, фолды при разбиении на три части:  \n",
        "``==*``  \n",
        "``=*=``  \n",
        "``*==``  \n",
        "\n",
        "Это требуется для того, чтобы получить новые признаки (ответы алгоритмов на первом уровне) на всей обучающей выборке, т.е. ответы алгоритма на тех объектах, которые не были использованы во время обучения. В примере выше мы будем использовать ответы алгоритма, полученные на объектах звездочках. _Важно_: на каждом фолде мы обучаем алгоритм заново."
      ]
    },
    {
      "cell_type": "code",
      "metadata": {
        "id": "hcomzpKcHZeU"
      },
      "source": [
        "def compute_meta_feature(clf, X_train, X_test, y_train, cv):\n",
        "    \"\"\"\n",
        "    Computes meta-features using the classifier.\n",
        "    \n",
        "    :arg clf: scikit-learn classifier\n",
        "    :args X_train, y_train: training set\n",
        "    :arg X_test: testing set\n",
        "    :arg cv: cross-validation folding\n",
        "    \"\"\"\n",
        "    X_meta_train = np.zeros_like(y_train, dtype=np.float32)\n",
        "    for train_fold_index, predict_fold_index in cv.split(X_train):\n",
        "        X_fold_train, X_fold_predict = X_train[train_fold_index], X_train[predict_fold_index]\n",
        "        y_fold_train = y_train[train_fold_index]\n",
        "        \n",
        "        folded_clf = clone(clf)\n",
        "        folded_clf.fit(X_fold_train, y_fold_train)\n",
        "        X_meta_train[predict_fold_index] = folded_clf.predict_proba(X_fold_predict)[:, 1]\n",
        "    \n",
        "    meta_clf = clone(clf)\n",
        "    meta_clf.fit(X_train, y_train)\n",
        "    \n",
        "    X_meta_test = meta_clf.predict_proba(X_test)[:, 1]\n",
        "    \n",
        "    return X_meta_train, X_meta_test"
      ],
      "execution_count": 8,
      "outputs": []
    },
    {
      "cell_type": "code",
      "metadata": {
        "id": "IcKj44HrHZeW"
      },
      "source": [
        "def generate_metafeatures(classifiers, X_train, X_test, y_train, cv):\n",
        "    \"\"\"\n",
        "    Generates metafeatures using a list of classifiers.\n",
        "    \n",
        "    :arg classifiers: list of scikit-learn classifiers\n",
        "    :args X_train, y_train: training set\n",
        "    :arg X_test: testing set\n",
        "    :arg cv: cross-validation folding\n",
        "    \"\"\"\n",
        "    features = [\n",
        "        compute_meta_feature(clf, X_train, X_test, y_train, cv)\n",
        "        for clf in tqdm(classifiers)\n",
        "    ]\n",
        "    \n",
        "    stacked_features_train = np.vstack([\n",
        "        features_train for features_train, features_test in features\n",
        "    ]).T\n",
        "\n",
        "    stacked_features_test = np.vstack([\n",
        "        features_test for features_train, features_test in features\n",
        "    ]).T\n",
        "    \n",
        "    return stacked_features_train, stacked_features_test"
      ],
      "execution_count": 9,
      "outputs": []
    },
    {
      "cell_type": "code",
      "metadata": {
        "id": "4V6xy7_0HZeY"
      },
      "source": [
        "np.random.seed(42)"
      ],
      "execution_count": 10,
      "outputs": []
    },
    {
      "cell_type": "code",
      "metadata": {
        "id": "Gbv7YXs8HZea",
        "colab": {
          "base_uri": "https://localhost:8080/"
        },
        "outputId": "bc866fa2-25d1-41a4-86c6-62c35076a4a4"
      },
      "source": [
        "# baseline\n",
        "clf = GradientBoostingClassifier(n_estimators=300)\n",
        "clf.fit(cover_X_train, cover_y_train)\n",
        "\n",
        "accuracy_score(clf.predict(cover_X_test), cover_y_test)"
      ],
      "execution_count": 11,
      "outputs": [
        {
          "output_type": "execute_result",
          "data": {
            "text/plain": [
              "0.7857646229739254"
            ]
          },
          "metadata": {},
          "execution_count": 11
        }
      ]
    },
    {
      "cell_type": "code",
      "metadata": {
        "id": "NmrhIV1aHZec",
        "colab": {
          "base_uri": "https://localhost:8080/"
        },
        "outputId": "37a488f6-5b20-493a-d92f-70150d010605"
      },
      "source": [
        "# stacking\n",
        "cv = KFold(n_splits=10, shuffle=True)\n",
        "\n",
        "stacked_features_train, stacked_features_test = generate_metafeatures([\n",
        "    LogisticRegression(C=0.001, penalty='l1', solver='liblinear', max_iter=5000),\n",
        "    LogisticRegression(C=0.001, penalty='l2', solver='liblinear', max_iter=5000),  \n",
        "    RandomForestClassifier(n_estimators=300, n_jobs=-1),\n",
        "    GradientBoostingClassifier(n_estimators=300)\n",
        "], cover_X_train, cover_X_test, cover_y_train.values, cv)"
      ],
      "execution_count": 12,
      "outputs": [
        {
          "output_type": "stream",
          "name": "stderr",
          "text": [
            "100%|██████████| 4/4 [00:29<00:00,  7.37s/it]\n"
          ]
        }
      ]
    },
    {
      "cell_type": "code",
      "metadata": {
        "id": "KAqWN10ZHZee"
      },
      "source": [
        "# где это используется?\n",
        "total_features_train = np.hstack([cover_X_train, stacked_features_train])\n",
        "total_features_test = np.hstack([cover_X_test, stacked_features_test])"
      ],
      "execution_count": 13,
      "outputs": []
    },
    {
      "cell_type": "code",
      "metadata": {
        "id": "B-wCuCCdHZef",
        "colab": {
          "base_uri": "https://localhost:8080/"
        },
        "outputId": "01be7215-7355-4de1-ebc4-8b731b8743e6"
      },
      "source": [
        "np.random.seed(42)\n",
        "clf = LogisticRegression(penalty='none', solver='lbfgs')\n",
        "clf.fit(stacked_features_train, cover_y_train)\n",
        "accuracy_score(clf.predict(stacked_features_test), cover_y_test)"
      ],
      "execution_count": 14,
      "outputs": [
        {
          "output_type": "execute_result",
          "data": {
            "text/plain": [
              "0.7906976744186046"
            ]
          },
          "metadata": {},
          "execution_count": 14
        }
      ]
    },
    {
      "cell_type": "code",
      "source": [
        "# 6. Стекинг. Практика\n",
        "import pandas as pd\n",
        "import numpy as np\n",
        "\n",
        "from sklearn.ensemble import (AdaBoostClassifier, GradientBoostingClassifier,\n",
        "                              RandomForestClassifier, ExtraTreesClassifier)\n",
        "from sklearn.linear_model import LogisticRegression\n",
        "from sklearn.tree import DecisionTreeClassifier\n",
        "from sklearn.base import clone\n",
        "from sklearn.neighbors import KNeighborsClassifier\n",
        "\n",
        "from sklearn.model_selection import train_test_split, KFold, StratifiedKFold\n",
        "from sklearn.metrics import f1_score\n",
        "from sklearn.datasets import load_digits\n",
        "\n",
        "from tqdm import tqdm\n",
        "\n",
        "from sklearn.model_selection import RandomizedSearchCV\n",
        "from scipy.stats.distributions import randint"
      ],
      "metadata": {
        "id": "LYheleDZN8it"
      },
      "execution_count": 15,
      "outputs": []
    },
    {
      "cell_type": "code",
      "source": [
        "dataset = load_digits()\n",
        "X, y = dataset['data'], dataset['target']\n",
        "\n",
        "X_train, X_test, y_train, y_test = train_test_split(X, y, random_state=42, test_size=0.2)"
      ],
      "metadata": {
        "id": "a4El0IoORd5F"
      },
      "execution_count": 16,
      "outputs": []
    },
    {
      "cell_type": "code",
      "source": [
        "# Задание 6.1\n",
        "\n",
        "# В скринкасте мы разобрали схему генерации признаков в стекинге, когда для тестовой выборки \n",
        "# алгоритм заново переобучался на всей тренировочной выборке. Реализуйте схему, когда вместо \n",
        "# этого производится агрегация ответов всех обученных на фолдах классификаторов на тестовой \n",
        "# выборке при помощи усреднения.\n",
        "\n",
        "# Логика решения:\n",
        "# 1) Создадим X_meta_test, заполним его нулями (по аналогии с X_meta_train);\n",
        "# 2) Далее на каждом шаге, где мы обучаем folded_clf.fit(X_fold_train, y_fold_train) \n",
        "# и его предсказания на X_fold_predict запихиваем в X_meta_train[predict_fold_index] \n",
        "# добавим еще одну строку, где в X_meta_test будем добавлять предсказания вероятностей \n",
        "# folded_clf на X_test. Их можно сразу складывать друг с другом или сохранить много массивов, \n",
        "# тогда в конце их нужно будет все сложить, а потом делить на количество сплитов (количество \n",
        "# массивов равно количеству сплитов в кросс - валидации);\n",
        "# 3) После цикла останется только усреднить все эти массивы, это и будет наш X_meta_test."
      ],
      "metadata": {
        "id": "orHeuxmbRy5g"
      },
      "execution_count": null,
      "outputs": []
    },
    {
      "cell_type": "code",
      "source": [
        "# За основу нужно взять следующий код:\n",
        "def compute_meta_feature(clf, X_train, X_test, y_train, cv):\n",
        "    \"\"\"Эта функция подсчитывает признаки для мета-классификатора.    \n",
        "     \n",
        "    Они являются вероятностями классов при решении задачи многоклассовой классификации.    \n",
        "    :arg clf: классификатор    \n",
        "    :args X_train, y_train: обучающая выборка    \n",
        "    :arg X_test: признаки тестовой выборки    \n",
        "    :arg cv: класс, генерирующий фолды (KFold)    \n",
        "    :returns X_meta_train, X_meta_test: новые признаки для обучающей и тестовой выборок\n",
        "    \"\"\"\n",
        "    n_classes = len(np.unique(y_train))\n",
        "    X_meta_train = np.zeros((len(X_train), n_classes), dtype=np.float32)\n",
        "    for train_fold_index, predict_fold_index in cv.split(X_train):\n",
        "        X_fold_train, X_fold_predict = X_train[train_fold_index], X_train[predict_fold_index]\n",
        "        y_fold_train = y_train[train_fold_index]\n",
        "\n",
        "        folded_clf = clone(clf)\n",
        "        folded_clf.fit(X_fold_train, y_fold_train)\n",
        "\n",
        "        X_meta_train[predict_fold_index] = folded_clf.predict_proba(X_fold_predict)\n",
        "\n",
        "    meta_clf = clone(clf)\n",
        "    meta_clf.fit(X_train, y_train)\n",
        "\n",
        "    X_meta_test = meta_clf.predict_proba(X_test)\n",
        "\n",
        "    return X_meta_train, X_meta_test"
      ],
      "metadata": {
        "id": "D4mxQbB3Salt"
      },
      "execution_count": 17,
      "outputs": []
    },
    {
      "cell_type": "code",
      "source": [
        "def compute_meta_feature_mean(clf, X_train, X_test, y_train, cv):\n",
        "    \"\"\"\n",
        "    Эта функция подсчитывает признаки для мета-классификатора. \n",
        "    Они являются вероятностями классов при решении задачи многоклассовой классификации.\n",
        "\n",
        "    :arg clf: классификатор\n",
        "    :args X_train, y_train: обучающая выборка\n",
        "    :arg X_test: признаки тестовой выборки\n",
        "    :arg cv: класс, генерирующий фолды (KFold)\n",
        "\n",
        "    :returns X_meta_train, X_meta_test: новые признаки для обучающей и тестовой выборок\n",
        "    \"\"\"\n",
        "    # ваш код"
      ],
      "metadata": {
        "id": "AWN6qmB5SxI0"
      },
      "execution_count": 18,
      "outputs": []
    },
    {
      "cell_type": "code",
      "source": [
        "# Для следующих заданий используйте этот код:\n",
        "def compute_meta_feature(clf, X_train, X_test, y_train, cv):\n",
        "    \n",
        "    n_classes = len(np.unique(y_train))\n",
        "    X_meta_train = np.zeros((len(y_train), n_classes), dtype=np.float32)\n",
        "\n",
        "    splits = cv.split(X_train)\n",
        "    for train_fold_index, predict_fold_index in splits:\n",
        "        X_fold_train, X_fold_predict = X_train[train_fold_index], X_train[predict_fold_index]\n",
        "        y_fold_train = y_train[train_fold_index]\n",
        "        \n",
        "        folded_clf = clone(clf)\n",
        "        folded_clf.fit(X_fold_train, y_fold_train)\n",
        "        \n",
        "        X_meta_train[predict_fold_index] = folded_clf.predict_proba(X_fold_predict)\n",
        "    \n",
        "    meta_clf = clone(clf)\n",
        "    meta_clf.fit(X_train, y_train)\n",
        "    \n",
        "    X_meta_test = meta_clf.predict_proba(X_test)\n",
        "    \n",
        "    return X_meta_train, X_meta_test\n",
        "\n",
        "\n",
        "def generate_meta_features(classifiers, X_train, X_test, y_train, cv):\n",
        "   \n",
        "    features = [\n",
        "        compute_meta_feature(clf, X_train, X_test, y_train, cv)\n",
        "        for clf in tqdm(classifiers)\n",
        "    ]\n",
        "    \n",
        "    stacked_features_train = np.hstack([\n",
        "        features_train for features_train, features_test in features\n",
        "    ])\n",
        "\n",
        "    stacked_features_test = np.hstack([\n",
        "        features_test for features_train, features_test in features\n",
        "    ])\n",
        "    \n",
        "    return stacked_features_train, stacked_features_test\n",
        "\n",
        "def compute_metric(clf, X_train=X_train, y_train=y_train, X_test=X_test):\n",
        "    clf.fit(X_train, y_train)\n",
        "    y_test_pred = clf.predict(X_test)\n",
        "    # у_test в аргументы бы добавить\n",
        "    return np.round(f1_score(y_test, y_test_pred, average='macro'), 6)"
      ],
      "metadata": {
        "id": "3YOQaHOHS1-6"
      },
      "execution_count": 19,
      "outputs": []
    },
    {
      "cell_type": "code",
      "source": [
        "# Во всех случаях, когда модель принимает random_state — обязательно указывайте его равным 42\n",
        "# На разных версиях sklearn ответы могут отличаться\n",
        "# В задании может понадобиться, а может не понадобиться нормализация и это нужно проверить \n",
        "# во время решения задания."
      ],
      "metadata": {
        "id": "GS8oaEazUex-"
      },
      "execution_count": 20,
      "outputs": []
    },
    {
      "cell_type": "code",
      "source": [
        "# Задание 6.2\n",
        "\n",
        "# Используйте функцию generate_meta_features для стекинга следующих алгоритмов:\n",
        "#  - логистическая регрессия с L1-регуляризацией, C=0.001, солвер — 'saga', схема работы \n",
        "#  - мультиклассовой классификации — one-vs-rest, максимальное допустимое количество итераций — 2000\n",
        "#  - логистическая регрессия с L2-регуляризацией, C=0.001, солвер — 'saga', схема работы \n",
        "#  - мультиклассовой классификации — multinomial, максимальное допустимое количество итераций — 2000\n",
        "#  - случайный лес из 300 деревьев\n",
        "#  - градиентный бустинг из 200 деревьев\n",
        "# Как мета-алгоритм используйте логистическую регрессию без регуляризации со схемой работы \n",
        "# мультиклассовой классификации — auto и солвером 'lbfgs'.\n",
        "# Посчитайте качество при помощи передачи новых признаков в функцию compute_metric."
      ],
      "metadata": {
        "id": "8U-pJr-SUlTS"
      },
      "execution_count": null,
      "outputs": []
    },
    {
      "cell_type": "code",
      "source": [
        "cv = KFold(n_splits=10, shuffle=True, random_state=42)\n",
        "\n",
        "# новые фичи без таргетов, разбитые на две выборки\n",
        "stacked_features_train, stacked_features_test = generate_meta_features([\n",
        "    LogisticRegression(\n",
        "        C=0.001, penalty='l1', solver='saga', multi_class='ovr', max_iter=2000\n",
        "        ),\n",
        "    LogisticRegression(\n",
        "        C=0.001, penalty='l2', solver='saga', multi_class='multinomial', max_iter=2000\n",
        "        ),  \n",
        "    RandomForestClassifier(n_estimators=300, n_jobs=-1),\n",
        "    GradientBoostingClassifier(n_estimators=200)\n",
        "], X_train, X_test, y_train, cv)"
      ],
      "metadata": {
        "colab": {
          "base_uri": "https://localhost:8080/"
        },
        "id": "BEJtEXTwU2As",
        "outputId": "2833214f-5cf9-45d4-dd6f-671d46a22e4d"
      },
      "execution_count": 22,
      "outputs": [
        {
          "output_type": "stream",
          "name": "stderr",
          "text": [
            "100%|██████████| 4/4 [03:38<00:00, 54.52s/it]\n"
          ]
        }
      ]
    },
    {
      "cell_type": "code",
      "source": [
        "np.random.seed(42)\n",
        "clf = LogisticRegression(penalty='none', solver='lbfgs', multi_class='auto')\n",
        "\n",
        "compute_metric(clf, stacked_features_train, y_train, stacked_features_test)"
      ],
      "metadata": {
        "colab": {
          "base_uri": "https://localhost:8080/"
        },
        "id": "HKJ17qbiVHkz",
        "outputId": "71f27e61-acd5-486e-c2ab-48be0da05577"
      },
      "execution_count": 23,
      "outputs": [
        {
          "output_type": "execute_result",
          "data": {
            "text/plain": [
              "0.983805"
            ]
          },
          "metadata": {},
          "execution_count": 23
        }
      ]
    },
    {
      "cell_type": "code",
      "source": [
        "# Задание 6.3\n",
        "\n",
        "# Используйте функцию generate_meta_features для стекинга следующих алгоритмов:\n",
        "#  - случайный лес из 300 деревьев\n",
        "#  - случайный лес из 200 экстремальных деревьев\n",
        "# Как мета-алгоритм используйте логистическую регрессию без регуляризации со схемой работы \n",
        "# мультиклассовой классификации — auto и солвером 'lbfgs'.\n",
        "# Посчитайте качество при помощи передачи новых признаков в функцию compute_metric."
      ],
      "metadata": {
        "id": "FU3OtXjxfhLc"
      },
      "execution_count": null,
      "outputs": []
    },
    {
      "cell_type": "code",
      "source": [
        "stacked_features_train, stacked_features_test = generate_meta_features([\n",
        "    RandomForestClassifier(n_estimators=300, random_state=42, n_jobs=-1),\n",
        "    ExtraTreesClassifier(n_estimators=200, random_state=42, n_jobs=-1),\n",
        "], X_train, X_test, y_train, cv)"
      ],
      "metadata": {
        "colab": {
          "base_uri": "https://localhost:8080/"
        },
        "id": "FZ7C87PThvvi",
        "outputId": "993b2bf8-47e4-4495-bbec-fe29901c45f2"
      },
      "execution_count": 29,
      "outputs": [
        {
          "output_type": "stream",
          "name": "stderr",
          "text": [
            "100%|██████████| 2/2 [00:23<00:00, 11.61s/it]\n"
          ]
        }
      ]
    },
    {
      "cell_type": "code",
      "source": [
        "np.random.seed(42)\n",
        "clf = LogisticRegression(penalty='none', solver='lbfgs', multi_class='auto')\n",
        "\n",
        "compute_metric(clf, stacked_features_train, y_train, stacked_features_test)"
      ],
      "metadata": {
        "colab": {
          "base_uri": "https://localhost:8080/"
        },
        "id": "VTi6DSPVh9q0",
        "outputId": "4351f562-5df8-4ae5-c7d3-b74099aef90d"
      },
      "execution_count": 30,
      "outputs": [
        {
          "output_type": "execute_result",
          "data": {
            "text/plain": [
              "0.982421"
            ]
          },
          "metadata": {},
          "execution_count": 30
        }
      ]
    },
    {
      "cell_type": "code",
      "source": [
        "# Задание 6.4\n",
        "\n",
        "# Используйте функцию generate_meta_features для стекинга следующих алгоритмов:\n",
        "#  - метод ближайшего соседа (k-NN) со стандартными параметрами\n",
        "#  - случайный лес из 300 экстремальных деревьев\n",
        "# Как мета-алгоритм используйте логистическую регрессию без регуляризации со схемой работы \n",
        "# мультиклассовой классификации — auto и солвером 'lbfgs'.\n",
        "# Посчитайте качество при помощи передачи новых признаков в функцию compute_metric."
      ],
      "metadata": {
        "id": "OU-4-v-zjHq9"
      },
      "execution_count": null,
      "outputs": []
    },
    {
      "cell_type": "code",
      "source": [
        "stacked_features_train, stacked_features_test = generate_meta_features([\n",
        "    KNeighborsClassifier(n_jobs=-1),\n",
        "    ExtraTreesClassifier(n_estimators=300, random_state=42, n_jobs=-1),\n",
        "], X_train, X_test, y_train, cv)"
      ],
      "metadata": {
        "colab": {
          "base_uri": "https://localhost:8080/"
        },
        "id": "p1Ze4OxEkX3_",
        "outputId": "9a35ec79-ab77-4844-bb02-bb615101f2ad"
      },
      "execution_count": 31,
      "outputs": [
        {
          "output_type": "stream",
          "name": "stderr",
          "text": [
            "100%|██████████| 2/2 [00:11<00:00,  5.82s/it]\n"
          ]
        }
      ]
    },
    {
      "cell_type": "code",
      "source": [
        "np.random.seed(42)\n",
        "clf = LogisticRegression(penalty='none', solver='lbfgs', multi_class='auto')\n",
        "\n",
        "compute_metric(clf, stacked_features_train, y_train, stacked_features_test)"
      ],
      "metadata": {
        "colab": {
          "base_uri": "https://localhost:8080/"
        },
        "id": "eVU9cbMvkrG6",
        "outputId": "6dfef2f8-7746-45f3-ba63-e83d05f3394e"
      },
      "execution_count": 32,
      "outputs": [
        {
          "output_type": "stream",
          "name": "stderr",
          "text": [
            "/usr/local/lib/python3.7/dist-packages/sklearn/linear_model/_logistic.py:818: ConvergenceWarning: lbfgs failed to converge (status=1):\n",
            "STOP: TOTAL NO. of ITERATIONS REACHED LIMIT.\n",
            "\n",
            "Increase the number of iterations (max_iter) or scale the data as shown in:\n",
            "    https://scikit-learn.org/stable/modules/preprocessing.html\n",
            "Please also refer to the documentation for alternative solver options:\n",
            "    https://scikit-learn.org/stable/modules/linear_model.html#logistic-regression\n",
            "  extra_warning_msg=_LOGISTIC_SOLVER_CONVERGENCE_MSG,\n"
          ]
        },
        {
          "output_type": "execute_result",
          "data": {
            "text/plain": [
              "0.989904"
            ]
          },
          "metadata": {},
          "execution_count": 32
        }
      ]
    },
    {
      "cell_type": "code",
      "source": [
        "# Задание 6.5\n",
        "\n",
        "# Используйте функцию generate_meta_features для стекинга следующих алгоритмов:\n",
        "#  - логистическая регрессия с L1-регуляризацией, C=0.001, солвер — 'saga', схема работы \n",
        "#    мультиклассовой классификации — one-vs-rest, максимальное допустимоей количество итераций — 2000\n",
        "#  - метод ближайшего соседа со стандартными параметрами\n",
        "#  - случайный лес из 300 экстремальных деревьев\n",
        "#  - AdaBoost со стандартными параметрами\n",
        "# Как мета-алгоритм используйте логистическую регрессию без регуляризации со схемой работы \n",
        "# мультиклассовой классификации — auto и солвером 'lbfgs'.\n",
        "# Посчитайте качество при помощи передачи новых признаков в функцию compute_metric."
      ],
      "metadata": {
        "id": "Ru4g5hShk6NU"
      },
      "execution_count": null,
      "outputs": []
    },
    {
      "cell_type": "code",
      "source": [
        "stacked_features_train, stacked_features_test = generate_meta_features([\n",
        "    LogisticRegression(\n",
        "        C=0.001, penalty='l1', solver='saga', multi_class='ovr', max_iter=2000\n",
        "        ),\n",
        "    KNeighborsClassifier(n_jobs=-1),\n",
        "    ExtraTreesClassifier(n_estimators=300, random_state=42, n_jobs=-1),\n",
        "    AdaBoostClassifier(random_state=42),\n",
        "], X_train, X_test, y_train, cv)"
      ],
      "metadata": {
        "colab": {
          "base_uri": "https://localhost:8080/"
        },
        "id": "axr6uRSVm-3x",
        "outputId": "1ba5ffde-0720-4b41-eb1e-4932c2f29cb8"
      },
      "execution_count": 33,
      "outputs": [
        {
          "output_type": "stream",
          "name": "stderr",
          "text": [
            "100%|██████████| 4/4 [01:00<00:00, 15.04s/it]\n"
          ]
        }
      ]
    },
    {
      "cell_type": "code",
      "source": [
        "np.random.seed(42)\n",
        "clf = LogisticRegression(penalty='none', solver='lbfgs', multi_class='auto')\n",
        "\n",
        "compute_metric(clf, stacked_features_train, y_train, stacked_features_test)"
      ],
      "metadata": {
        "colab": {
          "base_uri": "https://localhost:8080/"
        },
        "id": "CXCOwIZAnA0L",
        "outputId": "385071f3-c3f2-4184-8975-6e7a25c45dc2"
      },
      "execution_count": 34,
      "outputs": [
        {
          "output_type": "execute_result",
          "data": {
            "text/plain": [
              "0.987404"
            ]
          },
          "metadata": {},
          "execution_count": 34
        }
      ]
    },
    {
      "cell_type": "code",
      "source": [
        "def compute_meta_feature(clf, X_train, X_test, y_train, cv):\n",
        "    \n",
        "    n_classes = len(np.unique(y_train))\n",
        "    X_meta_train = np.zeros((len(y_train), n_classes), dtype=np.float32)\n",
        "\n",
        "    splits = cv.split(X_train, y_train)\n",
        "    for train_fold_index, predict_fold_index in splits:\n",
        "        X_fold_train, X_fold_predict = X_train[train_fold_index], X_train[predict_fold_index]\n",
        "        y_fold_train = y_train[train_fold_index]\n",
        "        \n",
        "        folded_clf = clone(clf)\n",
        "        folded_clf.fit(X_fold_train, y_fold_train)\n",
        "        \n",
        "        X_meta_train[predict_fold_index] = folded_clf.predict_proba(X_fold_predict)\n",
        "    \n",
        "    meta_clf = clone(clf)\n",
        "    meta_clf.fit(X_train, y_train)\n",
        "    \n",
        "    X_meta_test = meta_clf.predict_proba(X_test)\n",
        "    \n",
        "    return X_meta_train, X_meta_test"
      ],
      "metadata": {
        "id": "mzyJIXgsoeQs"
      },
      "execution_count": 38,
      "outputs": []
    },
    {
      "cell_type": "code",
      "source": [
        "# Задание 6.6\n",
        "\n",
        "# Используйте функцию generate_meta_features для стекинга следующих алгоритмов:\n",
        "#  - случайный лес из 300 деревьев\n",
        "#  - случайный лес из 300 экстремальных деревьев\n",
        "\n",
        "# Для генерации фолдов используйте класс StratifiedKFold, который позволяет делать так \n",
        "# называемые стратифицированные разбиения (в каждом фолде будет одинаковое соотношение классов).\n",
        "# Для корректной работы необходимо подправить код в функции compute_meta_feature. \n",
        "\n",
        "# Как мета-алгоритм используйте логистическую регрессию без регуляризации со схемой работы \n",
        "# мультиклассовой классификации — auto и солвером 'lbfgs'.\n",
        "\n",
        "# Посчитайте качество при помощи передачи новых признаков в функцию compute_metric. \n",
        "# Количество фолдов = 10"
      ],
      "metadata": {
        "id": "XU0lQikBn_uS"
      },
      "execution_count": 35,
      "outputs": []
    },
    {
      "cell_type": "code",
      "source": [
        "skf = StratifiedKFold(n_splits=10, shuffle=False, random_state=None)\n",
        "\n",
        "stacked_features_train, stacked_features_test = generate_meta_features([\n",
        "    RandomForestClassifier(n_estimators=300, random_state=42, n_jobs=-1),\n",
        "    ExtraTreesClassifier(n_estimators=300, random_state=42, n_jobs=-1),\n",
        "], X_train, X_test, y_train, skf)"
      ],
      "metadata": {
        "colab": {
          "base_uri": "https://localhost:8080/"
        },
        "id": "EVlWEz7_p4Vk",
        "outputId": "0733d922-3b70-4cfc-9a12-a7a1ee0c8a27"
      },
      "execution_count": 39,
      "outputs": [
        {
          "output_type": "stream",
          "name": "stderr",
          "text": [
            "\n",
            "  0%|          | 0/2 [00:00<?, ?it/s]\u001b[A\n",
            " 50%|█████     | 1/2 [00:13<00:13, 13.69s/it]\u001b[A\n",
            "100%|██████████| 2/2 [00:23<00:00, 11.72s/it]\n"
          ]
        }
      ]
    },
    {
      "cell_type": "code",
      "source": [
        "np.random.seed(42)\n",
        "clf = LogisticRegression(penalty='none', solver='lbfgs', multi_class='auto')\n",
        "\n",
        "compute_metric(clf, stacked_features_train, y_train, stacked_features_test)"
      ],
      "metadata": {
        "colab": {
          "base_uri": "https://localhost:8080/"
        },
        "id": "cLrBvi65qe6q",
        "outputId": "3d4ecf56-2865-458d-b71b-b2dcb79f7388"
      },
      "execution_count": 40,
      "outputs": [
        {
          "output_type": "execute_result",
          "data": {
            "text/plain": [
              "0.979448"
            ]
          },
          "metadata": {},
          "execution_count": 40
        }
      ]
    },
    {
      "cell_type": "code",
      "source": [
        "# Задание 6.7\n",
        "\n",
        "# В предыдущей задаче измените 10 фолдов на 20. Укажите полученное качество."
      ],
      "metadata": {
        "id": "-D_YmOONrPaY"
      },
      "execution_count": null,
      "outputs": []
    },
    {
      "cell_type": "code",
      "source": [
        "skf = StratifiedKFold(n_splits=20, shuffle=False, random_state=None)\n",
        "\n",
        "stacked_features_train, stacked_features_test = generate_meta_features([\n",
        "    RandomForestClassifier(n_estimators=300, random_state=42, n_jobs=-1),\n",
        "    ExtraTreesClassifier(n_estimators=300, random_state=42, n_jobs=-1),\n",
        "], X_train, X_test, y_train, skf)"
      ],
      "metadata": {
        "colab": {
          "base_uri": "https://localhost:8080/"
        },
        "id": "KvY17hqMriAs",
        "outputId": "a4f27b21-ca37-4b5d-fcd2-f27584647010"
      },
      "execution_count": 41,
      "outputs": [
        {
          "output_type": "stream",
          "name": "stderr",
          "text": [
            "\n",
            "  0%|          | 0/2 [00:00<?, ?it/s]\u001b[A\n",
            " 50%|█████     | 1/2 [00:29<00:29, 29.67s/it]\u001b[A\n",
            "100%|██████████| 2/2 [00:48<00:00, 24.37s/it]\n"
          ]
        }
      ]
    },
    {
      "cell_type": "code",
      "source": [
        "np.random.seed(42)\n",
        "clf = LogisticRegression(penalty='none', solver='lbfgs', multi_class='auto')\n",
        "\n",
        "compute_metric(clf, stacked_features_train, y_train, stacked_features_test)"
      ],
      "metadata": {
        "colab": {
          "base_uri": "https://localhost:8080/"
        },
        "id": "-7UWA6zlrlZC",
        "outputId": "26b2f86a-ec55-4246-a310-b63f9872b8ad"
      },
      "execution_count": 42,
      "outputs": [
        {
          "output_type": "execute_result",
          "data": {
            "text/plain": [
              "0.983963"
            ]
          },
          "metadata": {},
          "execution_count": 42
        }
      ]
    },
    {
      "cell_type": "code",
      "source": [
        "# Задание 6.8\n",
        "\n",
        "# В предыдущей задаче укажите количество фолдов равным 5 и поменяйте мета-алгоритм \n",
        "# на случайный лес со стандартными параметрами. Укажите полученное качество."
      ],
      "metadata": {
        "id": "o2IkxXt4ryZP"
      },
      "execution_count": null,
      "outputs": []
    },
    {
      "cell_type": "code",
      "source": [
        "skf = StratifiedKFold(n_splits=5, shuffle=False, random_state=None)\n",
        "\n",
        "stacked_features_train, stacked_features_test = generate_meta_features([\n",
        "    RandomForestClassifier(n_estimators=300, random_state=42, n_jobs=-1),\n",
        "    ExtraTreesClassifier(n_estimators=300, random_state=42, n_jobs=-1),\n",
        "], X_train, X_test, y_train, skf)\n",
        "\n",
        "np.random.seed(42)\n",
        "clf = RandomForestClassifier(random_state=42, n_jobs=-1)\n",
        "\n",
        "compute_metric(clf, stacked_features_train, y_train, stacked_features_test)"
      ],
      "metadata": {
        "colab": {
          "base_uri": "https://localhost:8080/"
        },
        "id": "5BxLB3y6seUX",
        "outputId": "62727e80-a364-4da8-c399-91bc423456a7"
      },
      "execution_count": 43,
      "outputs": [
        {
          "output_type": "stream",
          "name": "stderr",
          "text": [
            "\n",
            "  0%|          | 0/2 [00:00<?, ?it/s]\u001b[A\n",
            " 50%|█████     | 1/2 [00:08<00:08,  8.69s/it]\u001b[A\n",
            "100%|██████████| 2/2 [00:14<00:00,  7.21s/it]\n"
          ]
        },
        {
          "output_type": "execute_result",
          "data": {
            "text/plain": [
              "0.985118"
            ]
          },
          "metadata": {},
          "execution_count": 43
        }
      ]
    },
    {
      "cell_type": "code",
      "source": [
        "# Задание 6.9\n",
        "\n",
        "# В предыдущей задаче поменяйте мета-алгоритм на метод ближайших соседей (k-NN) со \n",
        "# стандартными параметрами. Укажите полученное качество."
      ],
      "metadata": {
        "id": "TuDHZM6jssyP"
      },
      "execution_count": 44,
      "outputs": []
    },
    {
      "cell_type": "code",
      "source": [
        "skf = StratifiedKFold(n_splits=5, shuffle=False, random_state=None)\n",
        "\n",
        "stacked_features_train, stacked_features_test = generate_meta_features([\n",
        "    RandomForestClassifier(n_estimators=300, random_state=42, n_jobs=-1),\n",
        "    ExtraTreesClassifier(n_estimators=300, random_state=42, n_jobs=-1),\n",
        "], X_train, X_test, y_train, skf)\n",
        "\n",
        "np.random.seed(42)\n",
        "clf = KNeighborsClassifier(n_jobs=-1)\n",
        "\n",
        "compute_metric(clf, stacked_features_train, y_train, stacked_features_test)"
      ],
      "metadata": {
        "colab": {
          "base_uri": "https://localhost:8080/"
        },
        "id": "ptoMi2hNtE8A",
        "outputId": "1edd9e40-d8ce-4026-f4a2-c88a80f24a91"
      },
      "execution_count": 45,
      "outputs": [
        {
          "output_type": "stream",
          "name": "stderr",
          "text": [
            "\n",
            "  0%|          | 0/2 [00:00<?, ?it/s]\u001b[A\n",
            " 50%|█████     | 1/2 [00:08<00:08,  8.80s/it]\u001b[A\n",
            "100%|██████████| 2/2 [00:14<00:00,  7.25s/it]\n"
          ]
        },
        {
          "output_type": "execute_result",
          "data": {
            "text/plain": [
              "0.984162"
            ]
          },
          "metadata": {},
          "execution_count": 45
        }
      ]
    },
    {
      "cell_type": "code",
      "source": [
        "# Задание 6.10\n",
        "\n",
        "# В предыдущей задаче поменяйте мета-алгоритм на градиентный бустинг со стандартными параметрами. \n",
        "# Укажите полученное качество."
      ],
      "metadata": {
        "id": "PiE-kj1htQ_t"
      },
      "execution_count": null,
      "outputs": []
    },
    {
      "cell_type": "code",
      "source": [
        "skf = StratifiedKFold(n_splits=5, shuffle=False, random_state=None)\n",
        "\n",
        "stacked_features_train, stacked_features_test = generate_meta_features([\n",
        "    RandomForestClassifier(n_estimators=300, random_state=42, n_jobs=-1),\n",
        "    ExtraTreesClassifier(n_estimators=300, random_state=42, n_jobs=-1),\n",
        "], X_train, X_test, y_train, skf)\n",
        "\n",
        "np.random.seed(42)\n",
        "clf = GradientBoostingClassifier()\n",
        "\n",
        "compute_metric(clf, stacked_features_train, y_train, stacked_features_test)"
      ],
      "metadata": {
        "colab": {
          "base_uri": "https://localhost:8080/"
        },
        "id": "zZ1E9SC8tt81",
        "outputId": "7cfa195e-dcc9-4a30-fa39-220d8093d1c9"
      },
      "execution_count": 46,
      "outputs": [
        {
          "output_type": "stream",
          "name": "stderr",
          "text": [
            "\n",
            "  0%|          | 0/2 [00:00<?, ?it/s]\u001b[A\n",
            " 50%|█████     | 1/2 [00:08<00:08,  8.71s/it]\u001b[A\n",
            "100%|██████████| 2/2 [00:14<00:00,  7.19s/it]\n"
          ]
        },
        {
          "output_type": "execute_result",
          "data": {
            "text/plain": [
              "0.984925"
            ]
          },
          "metadata": {},
          "execution_count": 46
        }
      ]
    },
    {
      "cell_type": "code",
      "source": [
        "# Задание 6.11\n",
        "\n",
        "# Используйте функцию generate_meta_features для стекинга следующих алгоритмов:\n",
        "#  - случайный лес из 300 деревьев, критерий Джини, максимальная глубина — 24\n",
        "#  - случайный лес из 300 экстремальных деревьев\n",
        "# Для генерации фолдов используйте класс StratifiedKFold, который позволяет делать так \n",
        "# называемые стратифицированные разбиения (в каждом фолде будет одинаковое соотношение классов). \n",
        "# StratifiedKFold строго только один раз перетасовывает данные и разбивает их на несколько частей. \n",
        "# Каждую такую часть он сможет использовать как тестовый набор.\n",
        "\n",
        "# Для генерации фолдов используйте класс StratifiedKFold и поправленный вами ранее код \n",
        "# в функции compute_meta_feature. Выполните разбиение на 3 фолда.\n",
        "\n",
        "# Как мета-алгортм используйте случайный лес из 100 экстремальных деревьев. \n",
        "# Посчитайте качество при помощи передачи новых признаков в функцию compute_metric."
      ],
      "metadata": {
        "id": "JOKEoME4tt1Q"
      },
      "execution_count": null,
      "outputs": []
    },
    {
      "cell_type": "code",
      "source": [
        "skf = StratifiedKFold(n_splits=3, shuffle=False, random_state=None)\n",
        "\n",
        "stacked_features_train, stacked_features_test = generate_meta_features([\n",
        "    RandomForestClassifier(\n",
        "        n_estimators=300,\n",
        "        criterion='gini',\n",
        "        max_depth=24,\n",
        "        random_state=42,\n",
        "        n_jobs=-1,\n",
        "        ),\n",
        "    ExtraTreesClassifier(n_estimators=300, random_state=42, n_jobs=-1),\n",
        "], X_train, X_test, y_train, skf)\n",
        "\n",
        "np.random.seed(42)\n",
        "clf = ExtraTreesClassifier(n_estimators=100, random_state=42, n_jobs=-1)\n",
        "\n",
        "compute_metric(clf, stacked_features_train, y_train, stacked_features_test)"
      ],
      "metadata": {
        "colab": {
          "base_uri": "https://localhost:8080/"
        },
        "id": "WNFlPUhIuiQx",
        "outputId": "76c2c325-d565-452e-b914-319868ecd14d"
      },
      "execution_count": 47,
      "outputs": [
        {
          "output_type": "stream",
          "name": "stderr",
          "text": [
            "\n",
            "  0%|          | 0/2 [00:00<?, ?it/s]\u001b[A\n",
            " 50%|█████     | 1/2 [00:06<00:06,  6.58s/it]\u001b[A\n",
            "100%|██████████| 2/2 [00:10<00:00,  5.21s/it]\n"
          ]
        },
        {
          "output_type": "execute_result",
          "data": {
            "text/plain": [
              "0.984162"
            ]
          },
          "metadata": {},
          "execution_count": 47
        }
      ]
    },
    {
      "cell_type": "code",
      "source": [
        "# Задание 6.12\n",
        "\n",
        "# Обучите на тренировочной выборке следующие алгоритмы:\n",
        "#  - случайный лес из 300 деревьев, критерий Джини, максимальная глубина — 24\n",
        "#  - случайный лес из 300 экстремальных деревьев\n",
        "#  - логистическую регрессию со стандартными параметрами\n",
        "# Усредните их ответы на тестовой выборке и посчитайте качество аналогично функции \n",
        "# compute_metric (F1-score с макро-усреднением, округленный до 6 знака).\n",
        "\n",
        "# train\n",
        "# predict on test\n",
        "# average\n",
        "# F1"
      ],
      "metadata": {
        "id": "YKBfMwZ1vemX"
      },
      "execution_count": null,
      "outputs": []
    },
    {
      "cell_type": "code",
      "source": [
        "rf = RandomForestClassifier(\n",
        "    n_estimators=300,\n",
        "    criterion='gini',\n",
        "    max_depth=24,\n",
        "    random_state=42,\n",
        "    n_jobs=-1\n",
        "    ).fit(X_train, y_train)\n",
        "\n",
        "rd_y_pred = rf.predict(X_test)"
      ],
      "metadata": {
        "id": "Mbr0Thw-wlVl"
      },
      "execution_count": 48,
      "outputs": []
    },
    {
      "cell_type": "code",
      "source": [
        "extra_rf = ExtraTreesClassifier(\n",
        "    n_estimators=300,\n",
        "    random_state=42,\n",
        "    n_jobs=-1\n",
        "    ).fit(X_train, y_train)\n",
        "extra_rd_y_pred = extra_rf.predict(X_test)"
      ],
      "metadata": {
        "id": "XPPoVtOcxMvu"
      },
      "execution_count": 50,
      "outputs": []
    },
    {
      "cell_type": "code",
      "source": [
        "lg = LogisticRegression(random_state=42, n_jobs=-1).fit(X_train, y_train)\n",
        "lg_y_pred = lg.predict(X_test)"
      ],
      "metadata": {
        "id": "Te3DtLtXydKG"
      },
      "execution_count": 51,
      "outputs": []
    },
    {
      "cell_type": "code",
      "source": [
        "lg_y_pred.shape"
      ],
      "metadata": {
        "colab": {
          "base_uri": "https://localhost:8080/"
        },
        "id": "A-B1Uhh-zIzn",
        "outputId": "7d20a2f5-dd95-4f73-945d-3cac9aa68d8d"
      },
      "execution_count": 52,
      "outputs": [
        {
          "output_type": "execute_result",
          "data": {
            "text/plain": [
              "(360,)"
            ]
          },
          "metadata": {},
          "execution_count": 52
        }
      ]
    },
    {
      "cell_type": "code",
      "source": [
        "ave_pred = np.array([rd_y_pred, extra_rd_y_pred, lg_y_pred]).mean(axis=0)\n",
        "ave_pred.shape"
      ],
      "metadata": {
        "colab": {
          "base_uri": "https://localhost:8080/"
        },
        "id": "lWbaXqyLy6Fm",
        "outputId": "fdbcdb6e-96fb-4a97-b27f-3c799f5ecd89"
      },
      "execution_count": 55,
      "outputs": [
        {
          "output_type": "execute_result",
          "data": {
            "text/plain": [
              "(360,)"
            ]
          },
          "metadata": {},
          "execution_count": 55
        }
      ]
    },
    {
      "cell_type": "code",
      "source": [
        "np.round(ave_pred).astype('int')"
      ],
      "metadata": {
        "colab": {
          "base_uri": "https://localhost:8080/"
        },
        "id": "8h7AQ2oq1D4t",
        "outputId": "263d0a17-cc1c-4841-fd73-821b3ba965ab"
      },
      "execution_count": 60,
      "outputs": [
        {
          "output_type": "execute_result",
          "data": {
            "text/plain": [
              "array([6, 9, 3, 7, 2, 1, 5, 2, 5, 2, 1, 9, 4, 0, 4, 2, 3, 7, 8, 8, 4, 3,\n",
              "       9, 7, 5, 6, 3, 5, 6, 3, 4, 9, 1, 4, 4, 6, 9, 4, 7, 6, 6, 9, 1, 3,\n",
              "       6, 1, 3, 0, 6, 5, 5, 1, 7, 5, 6, 0, 9, 0, 0, 1, 0, 4, 5, 2, 4, 5,\n",
              "       7, 0, 7, 5, 9, 5, 5, 4, 7, 0, 4, 5, 5, 9, 9, 0, 2, 3, 8, 0, 6, 4,\n",
              "       4, 9, 1, 2, 8, 3, 5, 2, 9, 0, 4, 4, 4, 3, 5, 3, 1, 3, 5, 9, 4, 2,\n",
              "       7, 7, 4, 4, 1, 9, 2, 7, 8, 7, 2, 6, 9, 4, 0, 7, 2, 7, 5, 8, 7, 5,\n",
              "       7, 8, 0, 6, 6, 4, 2, 8, 0, 9, 4, 6, 9, 9, 6, 9, 0, 5, 5, 6, 6, 0,\n",
              "       6, 4, 3, 9, 3, 7, 7, 2, 9, 0, 5, 5, 5, 6, 5, 9, 9, 8, 4, 2, 1, 3,\n",
              "       7, 7, 2, 2, 3, 9, 8, 0, 3, 2, 2, 5, 6, 9, 9, 4, 1, 4, 4, 2, 3, 6,\n",
              "       4, 8, 5, 9, 5, 7, 3, 9, 4, 8, 1, 5, 4, 4, 9, 6, 1, 8, 6, 0, 4, 5,\n",
              "       2, 7, 3, 6, 4, 5, 6, 0, 3, 2, 3, 6, 7, 1, 6, 1, 4, 7, 6, 7, 6, 5,\n",
              "       5, 1, 5, 2, 8, 8, 9, 6, 7, 6, 2, 2, 2, 3, 4, 8, 8, 3, 6, 0, 9, 7,\n",
              "       7, 0, 1, 0, 4, 5, 1, 5, 3, 6, 0, 4, 1, 0, 0, 3, 6, 5, 9, 7, 3, 5,\n",
              "       5, 9, 9, 8, 5, 3, 3, 2, 0, 5, 8, 3, 4, 0, 2, 4, 6, 4, 3, 4, 5, 0,\n",
              "       5, 2, 1, 3, 1, 4, 1, 1, 7, 0, 1, 5, 2, 1, 2, 8, 7, 0, 6, 4, 8, 8,\n",
              "       5, 1, 8, 4, 5, 8, 7, 9, 8, 6, 0, 6, 2, 0, 7, 9, 8, 9, 5, 2, 7, 7,\n",
              "       1, 8, 7, 4, 3, 8, 3, 5])"
            ]
          },
          "metadata": {},
          "execution_count": 60
        }
      ]
    },
    {
      "cell_type": "code",
      "source": [
        "round(f1_score(y_test, np.round(ave_pred).astype('int'), average='macro'), 6)\n",
        "# не принимается ответ, попробую стандартизировать данные"
      ],
      "metadata": {
        "colab": {
          "base_uri": "https://localhost:8080/"
        },
        "id": "zD1qgc8nzchr",
        "outputId": "ce5b9b52-8df0-4eca-e662-bb5c8eab18ef"
      },
      "execution_count": 61,
      "outputs": [
        {
          "output_type": "execute_result",
          "data": {
            "text/plain": [
              "0.960096"
            ]
          },
          "metadata": {},
          "execution_count": 61
        }
      ]
    },
    {
      "cell_type": "code",
      "source": [
        "scaler = StandardScaler()\n",
        "X_train_std = scaler.fit_transform(X_train)\n",
        "X_test_std = scaler.transform(X_test)"
      ],
      "metadata": {
        "id": "bMDIi1nN3U3h"
      },
      "execution_count": 63,
      "outputs": []
    },
    {
      "cell_type": "code",
      "source": [
        "rf = RandomForestClassifier(\n",
        "    n_estimators=300,\n",
        "    criterion='gini',\n",
        "    max_depth=24,\n",
        "    random_state=42,\n",
        "    n_jobs=-1\n",
        "    ).fit(X_train_std, y_train)\n",
        "\n",
        "rd_y_pred = rf.predict(X_test_std)\n",
        "\n",
        "extra_rf = ExtraTreesClassifier(\n",
        "    n_estimators=300,\n",
        "    random_state=42,\n",
        "    n_jobs=-1\n",
        "    ).fit(X_train_std, y_train)\n",
        "extra_rd_y_pred = extra_rf.predict(X_test_std)\n",
        "\n",
        "lg = LogisticRegression(random_state=42, n_jobs=-1).fit(X_train_std, y_train)\n",
        "lg_y_pred = lg.predict(X_test_std)\n",
        "\n",
        "ave_pred = np.array([rd_y_pred, extra_rd_y_pred, lg_y_pred]).mean(axis=0)\n",
        "ave_pred.shape"
      ],
      "metadata": {
        "colab": {
          "base_uri": "https://localhost:8080/"
        },
        "id": "rwjCoDXS3oyY",
        "outputId": "6b1ab98e-dc3c-43a7-c98b-dedcbed2bf91"
      },
      "execution_count": 65,
      "outputs": [
        {
          "output_type": "execute_result",
          "data": {
            "text/plain": [
              "(360,)"
            ]
          },
          "metadata": {},
          "execution_count": 65
        }
      ]
    },
    {
      "cell_type": "code",
      "source": [
        "round(f1_score(y_test, np.round(ave_pred).astype('int'), average='macro'), 6)\n",
        "# не помогло, все равно платформа не приняла ответ"
      ],
      "metadata": {
        "colab": {
          "base_uri": "https://localhost:8080/"
        },
        "id": "SGIeCswn35y7",
        "outputId": "d121421e-bf87-490b-d7d0-cd5b5846c4ef"
      },
      "execution_count": 66,
      "outputs": [
        {
          "output_type": "execute_result",
          "data": {
            "text/plain": [
              "0.959129"
            ]
          },
          "metadata": {},
          "execution_count": 66
        }
      ]
    },
    {
      "cell_type": "code",
      "source": [
        ""
      ],
      "metadata": {
        "id": "9aC-lG1I4Hj4"
      },
      "execution_count": null,
      "outputs": []
    }
  ]
}