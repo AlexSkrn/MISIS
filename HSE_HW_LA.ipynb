{
  "nbformat": 4,
  "nbformat_minor": 0,
  "metadata": {
    "colab": {
      "name": "HSE_HW_LA.ipynb",
      "provenance": [],
      "collapsed_sections": []
    },
    "kernelspec": {
      "name": "python3",
      "display_name": "Python 3"
    },
    "language_info": {
      "name": "python"
    }
  },
  "cells": [
    {
      "cell_type": "code",
      "metadata": {
        "id": "eEAr_02_K7Bn"
      },
      "source": [
        "from sympy import (\n",
        "    Matrix, init_printing, symbols, solve_linear_system, I)\n",
        "import sympy as sp\n",
        "from sympy.solvers import solve\n",
        "\n",
        "init_printing(use_unicode=True)\n",
        "\n",
        "x, y, z = symbols('x y z')\n",
        "\n",
        "x1, x2, x3, x4, x5 = symbols('x1 x2 x3 x4 x5')"
      ],
      "execution_count": null,
      "outputs": []
    },
    {
      "cell_type": "code",
      "metadata": {
        "colab": {
          "base_uri": "https://localhost:8080/",
          "height": 58
        },
        "id": "ZHX6Bf_fMF2R",
        "outputId": "679b89d1-267a-47b3-fe73-c8e17b5091d9"
      },
      "source": [
        "A = Matrix([[1, 4], [-5, 2]])\n",
        "B = Matrix([[3, 8], [1, 2]])\n",
        "\n",
        "B*A"
      ],
      "execution_count": null,
      "outputs": [
        {
          "output_type": "execute_result",
          "data": {
            "text/latex": "$\\displaystyle \\left[\\begin{matrix}-37 & 28\\\\-9 & 8\\end{matrix}\\right]$",
            "text/plain": [
              "⎡-37  28⎤\n",
              "⎢       ⎥\n",
              "⎣-9   8 ⎦"
            ]
          },
          "metadata": {
            "tags": []
          },
          "execution_count": 4
        }
      ]
    },
    {
      "cell_type": "code",
      "metadata": {
        "id": "HcHZFCW0LBSQ"
      },
      "source": [
        "A = Matrix([[0, 4, 2], [-3, 5, 0]])\n",
        "B = Matrix([[7, 3], [5, -2], [12, 0]])"
      ],
      "execution_count": null,
      "outputs": []
    },
    {
      "cell_type": "code",
      "metadata": {
        "colab": {
          "base_uri": "https://localhost:8080/"
        },
        "id": "FGDJNX0pLc_K",
        "outputId": "33eab3fa-bfbb-49ea-f7e6-9f2e51366b03"
      },
      "source": [
        "print(A*B)"
      ],
      "execution_count": null,
      "outputs": [
        {
          "output_type": "stream",
          "text": [
            "Matrix([[44, -8], [4, -19]])\n"
          ],
          "name": "stdout"
        }
      ]
    },
    {
      "cell_type": "code",
      "metadata": {
        "colab": {
          "base_uri": "https://localhost:8080/"
        },
        "id": "E0-3mKzOLeCA",
        "outputId": "cf2bfc32-3e76-4da7-c1ce-7faa76a017fb"
      },
      "source": [
        "print(B*A)"
      ],
      "execution_count": null,
      "outputs": [
        {
          "output_type": "stream",
          "text": [
            "Matrix([[-9, 43, 14], [6, 10, 10], [0, 48, 24]])\n"
          ],
          "name": "stdout"
        }
      ]
    },
    {
      "cell_type": "code",
      "metadata": {
        "colab": {
          "base_uri": "https://localhost:8080/",
          "height": 78
        },
        "id": "srFuWksjLy9U",
        "outputId": "e2a7f4ef-fb19-43b3-ee66-128212db2b18"
      },
      "source": [
        "A = Matrix([[-4, 1, 0], [0, -4, 1], [0, 0, -4]])\n",
        "\n",
        "A"
      ],
      "execution_count": null,
      "outputs": [
        {
          "output_type": "execute_result",
          "data": {
            "text/latex": "$\\displaystyle \\left[\\begin{matrix}-4 & 1 & 0\\\\0 & -4 & 1\\\\0 & 0 & -4\\end{matrix}\\right]$",
            "text/plain": [
              "⎡-4  1   0 ⎤\n",
              "⎢          ⎥\n",
              "⎢0   -4  1 ⎥\n",
              "⎢          ⎥\n",
              "⎣0   0   -4⎦"
            ]
          },
          "metadata": {
            "tags": []
          },
          "execution_count": 7
        }
      ]
    },
    {
      "cell_type": "code",
      "metadata": {
        "colab": {
          "base_uri": "https://localhost:8080/"
        },
        "id": "0W-MRUYuMf6I",
        "outputId": "26a9cc2b-2840-4b89-8893-336c980bd933"
      },
      "source": [
        "print(A**4)"
      ],
      "execution_count": null,
      "outputs": [
        {
          "output_type": "stream",
          "text": [
            "Matrix([[256, -256, 96], [0, 256, -256], [0, 0, 256]])\n"
          ],
          "name": "stdout"
        }
      ]
    },
    {
      "cell_type": "code",
      "metadata": {
        "id": "me4GA0mHMzkU"
      },
      "source": [
        "A= Matrix([[2, 1, 0, 0, 0],\n",
        "[0, 2, 0, 0, 0],\n",
        "[0, 0, -5,1, 0],\n",
        "[0, 0, 0, -5, 1],\n",
        "[0, 0, 0, 0, -5]])"
      ],
      "execution_count": null,
      "outputs": []
    },
    {
      "cell_type": "code",
      "metadata": {
        "colab": {
          "base_uri": "https://localhost:8080/",
          "height": 119
        },
        "id": "7duD3HXxOZ65",
        "outputId": "c3e16202-deeb-4761-8827-5ffe4032a749"
      },
      "source": [
        "A"
      ],
      "execution_count": null,
      "outputs": [
        {
          "output_type": "execute_result",
          "data": {
            "text/latex": "$\\displaystyle \\left[\\begin{matrix}2 & 1 & 0 & 0 & 0\\\\0 & 2 & 0 & 0 & 0\\\\0 & 0 & -5 & 1 & 0\\\\0 & 0 & 0 & -5 & 1\\\\0 & 0 & 0 & 0 & -5\\end{matrix}\\right]$",
            "text/plain": [
              "⎡2  1  0   0   0 ⎤\n",
              "⎢                ⎥\n",
              "⎢0  2  0   0   0 ⎥\n",
              "⎢                ⎥\n",
              "⎢0  0  -5  1   0 ⎥\n",
              "⎢                ⎥\n",
              "⎢0  0  0   -5  1 ⎥\n",
              "⎢                ⎥\n",
              "⎣0  0  0   0   -5⎦"
            ]
          },
          "metadata": {
            "tags": []
          },
          "execution_count": 14
        }
      ]
    },
    {
      "cell_type": "code",
      "metadata": {
        "colab": {
          "base_uri": "https://localhost:8080/"
        },
        "id": "gThR41w7OdZw",
        "outputId": "5857eee4-f571-4280-89ae-7add809dba6e"
      },
      "source": [
        "print(A**4)"
      ],
      "execution_count": null,
      "outputs": [
        {
          "output_type": "stream",
          "text": [
            "Matrix([[16, 32, 0, 0, 0], [0, 16, 0, 0, 0], [0, 0, 625, -500, 150], [0, 0, 0, 625, -500], [0, 0, 0, 0, 625]])\n"
          ],
          "name": "stdout"
        }
      ]
    },
    {
      "cell_type": "code",
      "metadata": {
        "colab": {
          "base_uri": "https://localhost:8080/",
          "height": 38
        },
        "id": "mIkGFs6lSeZ7",
        "outputId": "bcf78a3c-9b98-4592-8509-fd5e10931f12"
      },
      "source": [
        "A = Matrix([[2, 1, 3, 9], [1, -2, 1, -2], [3, 2, 2, 7]])\n",
        "\n",
        "solve_linear_system(A, x, y, z)"
      ],
      "execution_count": null,
      "outputs": [
        {
          "output_type": "execute_result",
          "data": {
            "image/png": "[encoded data removed]",
            "text/latex": "$\\displaystyle \\left\\{ x : -1, \\  y : 2, \\  z : 3\\right\\}$",
            "text/plain": [
              "{x: -1, y: 2, z: 3}"
            ]
          },
          "metadata": {
            "tags": []
          },
          "execution_count": 32
        }
      ]
    },
    {
      "cell_type": "code",
      "metadata": {
        "colab": {
          "base_uri": "https://localhost:8080/",
          "height": 78
        },
        "id": "51l-G16-S_mx",
        "outputId": "afee3385-0345-4c28-f6c4-4c43c3857125"
      },
      "source": [
        "A = Matrix([[2,1,3], [1,-2,1], [3,2,2], [0,0,0]]).T\n",
        "\n",
        "A"
      ],
      "execution_count": null,
      "outputs": [
        {
          "output_type": "execute_result",
          "data": {
            "text/latex": "$\\displaystyle \\left[\\begin{matrix}2 & 1 & 3 & 0\\\\1 & -2 & 2 & 0\\\\3 & 1 & 2 & 0\\end{matrix}\\right]$",
            "text/plain": [
              "⎡2  1   3  0⎤\n",
              "⎢           ⎥\n",
              "⎢1  -2  2  0⎥\n",
              "⎢           ⎥\n",
              "⎣3  1   2  0⎦"
            ]
          },
          "metadata": {
            "tags": []
          },
          "execution_count": 39
        }
      ]
    },
    {
      "cell_type": "code",
      "metadata": {
        "colab": {
          "base_uri": "https://localhost:8080/",
          "height": 38
        },
        "id": "-P7hssFUajzR",
        "outputId": "6e55069b-3944-4616-8a2a-e448e39e6c5e"
      },
      "source": [
        "solve_linear_system(A, x, y, z)"
      ],
      "execution_count": null,
      "outputs": [
        {
          "output_type": "execute_result",
          "data": {
            "image/png": "[encoded data removed]",
            "text/latex": "$\\displaystyle \\left\\{ x : 0, \\  y : 0, \\  z : 0\\right\\}$",
            "text/plain": [
              "{x: 0, y: 0, z: 0}"
            ]
          },
          "metadata": {
            "tags": []
          },
          "execution_count": 40
        }
      ]
    },
    {
      "cell_type": "code",
      "metadata": {
        "id": "Wg7E1ahUcPI0",
        "colab": {
          "base_uri": "https://localhost:8080/",
          "height": 98
        },
        "outputId": "aa8980bf-7253-490d-cd28-ced2bd336abc"
      },
      "source": [
        "A = Matrix([[33,24,39], [42,32,50], [33,20,38], [65,48,77]])\n",
        "\n",
        "A"
      ],
      "execution_count": null,
      "outputs": [
        {
          "output_type": "execute_result",
          "data": {
            "text/latex": "$\\displaystyle \\left[\\begin{matrix}33 & 24 & 39\\\\42 & 32 & 50\\\\33 & 20 & 38\\\\65 & 48 & 77\\end{matrix}\\right]$",
            "text/plain": [
              "⎡33  24  39⎤\n",
              "⎢          ⎥\n",
              "⎢42  32  50⎥\n",
              "⎢          ⎥\n",
              "⎢33  20  38⎥\n",
              "⎢          ⎥\n",
              "⎣65  48  77⎦"
            ]
          },
          "metadata": {
            "tags": []
          },
          "execution_count": 2
        }
      ]
    },
    {
      "cell_type": "code",
      "metadata": {
        "colab": {
          "base_uri": "https://localhost:8080/",
          "height": 58
        },
        "id": "n3fbrTTmH385",
        "outputId": "bf7e00ff-3b4d-4d28-8dd0-23eb8a4c2f35"
      },
      "source": [
        "solve_linear_system(A, x, y)"
      ],
      "execution_count": null,
      "outputs": [
        {
          "output_type": "execute_result",
          "data": {
            "image/png": "[encoded data removed]",
            "text/latex": "$\\displaystyle \\left\\{ x : 1, \\  y : \\frac{1}{4}\\right\\}$",
            "text/plain": [
              "{x: 1, y: 1/4}"
            ]
          },
          "metadata": {
            "tags": []
          },
          "execution_count": 3
        }
      ]
    },
    {
      "cell_type": "code",
      "metadata": {
        "id": "ezfRDim0H9Bg",
        "colab": {
          "base_uri": "https://localhost:8080/",
          "height": 58
        },
        "outputId": "dd0af0ce-0d0b-41a4-f3ef-eb6598414aa6"
      },
      "source": [
        "A = Matrix([[-6, 9, 3, 2, 4], [-2, 3, 5, 2, 2], [-2, 6, 4, 3, 3]])\n",
        "solve_linear_system(A, x1, x2, x3, x4)"
      ],
      "execution_count": null,
      "outputs": [
        {
          "output_type": "execute_result",
          "data": {
            "image/png": "[encoded data removed]",
            "text/latex": "$\\displaystyle \\left\\{ x_{1} : - \\frac{x_{4}}{2}, \\  x_{2} : \\frac{7}{18} - \\frac{4 x_{4}}{9}, \\  x_{3} : \\frac{1}{6} - \\frac{x_{4}}{3}\\right\\}$",
            "text/plain": [
              "⎧    -x₄       7    4⋅x₄      1   x₄⎫\n",
              "⎨x₁: ────, x₂: ── - ────, x₃: ─ - ──⎬\n",
              "⎩     2        18    9        6   3 ⎭"
            ]
          },
          "metadata": {
            "tags": []
          },
          "execution_count": 49
        }
      ]
    },
    {
      "cell_type": "code",
      "metadata": {
        "colab": {
          "base_uri": "https://localhost:8080/"
        },
        "id": "BZHtsmlvMR4-",
        "outputId": "9e2634f1-6d76-49b7-bd80-b2d05952e5ae"
      },
      "source": [
        "print((A.row(0) / -3 + A.row(1))/ 4)"
      ],
      "execution_count": null,
      "outputs": [
        {
          "output_type": "stream",
          "text": [
            "Matrix([[0, 0, 1, 1/3, 1/6]])\n"
          ],
          "name": "stdout"
        }
      ]
    },
    {
      "cell_type": "code",
      "metadata": {
        "colab": {
          "base_uri": "https://localhost:8080/"
        },
        "id": "QUlzoAE1MSok",
        "outputId": "2731c441-56e2-4fcd-bb36-22afa7fba5de"
      },
      "source": [
        "print((A.row(0) / -3 + A.row(2)) / 3)"
      ],
      "execution_count": null,
      "outputs": [
        {
          "output_type": "stream",
          "text": [
            "Matrix([[0, 1, 1, 7/9, 5/9]])\n"
          ],
          "name": "stdout"
        }
      ]
    },
    {
      "cell_type": "code",
      "metadata": {
        "colab": {
          "base_uri": "https://localhost:8080/"
        },
        "id": "3VihpHdHNI_e",
        "outputId": "65575f06-0840-4c6f-9af4-4d72b2c6a322"
      },
      "source": [
        "print(A.row(0) / -6)"
      ],
      "execution_count": null,
      "outputs": [
        {
          "output_type": "stream",
          "text": [
            "Matrix([[1, -3/2, -1/2, -1/3, -2/3]])\n"
          ],
          "name": "stdout"
        }
      ]
    },
    {
      "cell_type": "code",
      "metadata": {
        "colab": {
          "base_uri": "https://localhost:8080/",
          "height": 38
        },
        "id": "ZbCgbIoSQz0a",
        "outputId": "85e781d9-ba4c-42df-fbcc-6da918ce3997"
      },
      "source": [
        "(A.row(0) / -6) + (1/2)* ((A.row(0) / -3 + A.row(1))/ 4)"
      ],
      "execution_count": null,
      "outputs": [
        {
          "output_type": "execute_result",
          "data": {
            "text/latex": "$\\displaystyle \\left[\\begin{matrix}1 & - \\frac{3}{2} & 0 & -0.166666666666667 & -0.583333333333333\\end{matrix}\\right]$",
            "text/plain": [
              "[1  -3/2  0  -0.166666666666667  -0.583333333333333]"
            ]
          },
          "metadata": {
            "tags": []
          },
          "execution_count": 37
        }
      ]
    },
    {
      "cell_type": "code",
      "metadata": {
        "colab": {
          "base_uri": "https://localhost:8080/"
        },
        "id": "jX9Uj3sYQJl_",
        "outputId": "ed3befb2-029d-407a-beea-7d1ce88b6338"
      },
      "source": [
        "print(((A.row(0) / -3 + A.row(2)) / 3)  + (-1) * ((A.row(0) / -3 + A.row(1))/ 4))"
      ],
      "execution_count": null,
      "outputs": [
        {
          "output_type": "stream",
          "text": [
            "Matrix([[0, 1, 0, 4/9, 7/18]])\n"
          ],
          "name": "stdout"
        }
      ]
    },
    {
      "cell_type": "code",
      "metadata": {
        "id": "a7GeqzM5Nf9U"
      },
      "source": [
        "B = Matrix ([[1, -3/2, -1/2, -1/3, -2/3],\n",
        "[0, 1, 1, 7/9, 5/9],\n",
        "[0, 0, 1, 1/3, 1/6]])"
      ],
      "execution_count": null,
      "outputs": []
    },
    {
      "cell_type": "code",
      "metadata": {
        "colab": {
          "base_uri": "https://localhost:8080/",
          "height": 38
        },
        "id": "ef7kAv16PGVL",
        "outputId": "83c1181c-2796-40ec-c4e7-f94ec7265cf2"
      },
      "source": [
        "B.row(2) * -1 + B.row(1)"
      ],
      "execution_count": null,
      "outputs": [
        {
          "output_type": "execute_result",
          "data": {
            "text/latex": "$\\displaystyle \\left[\\begin{matrix}0 & 1 & 0 & 0.444444444444444 & 0.388888888888889\\end{matrix}\\right]$",
            "text/plain": [
              "[0  1  0  0.444444444444444  0.388888888888889]"
            ]
          },
          "metadata": {
            "tags": []
          },
          "execution_count": 29
        }
      ]
    },
    {
      "cell_type": "code",
      "metadata": {
        "colab": {
          "base_uri": "https://localhost:8080/",
          "height": 51
        },
        "id": "doR0q3UfP__p",
        "outputId": "866e66f6-b488-4f24-ed84-fa1be219a37d"
      },
      "source": [
        "sp.Rational(-3,2) * sp.Rational(7, 18)"
      ],
      "execution_count": null,
      "outputs": [
        {
          "output_type": "execute_result",
          "data": {
            "image/png": "[encoded data removed]",
            "text/latex": "$\\displaystyle - \\frac{7}{12}$",
            "text/plain": [
              "-7/12"
            ]
          },
          "metadata": {
            "tags": []
          },
          "execution_count": 45
        }
      ]
    },
    {
      "cell_type": "code",
      "metadata": {
        "colab": {
          "base_uri": "https://localhost:8080/",
          "height": 51
        },
        "id": "_Igk3AZYS6XF",
        "outputId": "7260b834-9c02-4b9d-a4b8-babeb1bd9ef2"
      },
      "source": [
        "sp.Rational(-3,2) * sp.Rational(-4, 9)"
      ],
      "execution_count": null,
      "outputs": [
        {
          "output_type": "execute_result",
          "data": {
            "image/png": "[encoded data removed]",
            "text/latex": "$\\displaystyle \\frac{2}{3}$",
            "text/plain": [
              "2/3"
            ]
          },
          "metadata": {
            "tags": []
          },
          "execution_count": 46
        }
      ]
    },
    {
      "cell_type": "code",
      "metadata": {
        "colab": {
          "base_uri": "https://localhost:8080/",
          "height": 51
        },
        "id": "csq_5gL6Tiwv",
        "outputId": "99760fc4-d2ac-4cc9-a1e6-76eaae17367d"
      },
      "source": [
        "sp.Rational(2, 3) - sp.Rational(1, 6)"
      ],
      "execution_count": null,
      "outputs": [
        {
          "output_type": "execute_result",
          "data": {
            "image/png": "[encoded data removed]",
            "text/latex": "$\\displaystyle \\frac{1}{2}$",
            "text/plain": [
              "1/2"
            ]
          },
          "metadata": {
            "tags": []
          },
          "execution_count": 47
        }
      ]
    },
    {
      "cell_type": "code",
      "metadata": {
        "colab": {
          "base_uri": "https://localhost:8080/"
        },
        "id": "r6rVCp_5TsMG",
        "outputId": "20c505d0-3786-480f-d731-f748fb925611"
      },
      "source": [
        "A = Matrix([[1, 1, 1], [1, 2, 3], [1, 3, 6]])\n",
        "\n",
        "print(A.inv())"
      ],
      "execution_count": null,
      "outputs": [
        {
          "output_type": "stream",
          "text": [
            "Matrix([[3, -3, 1], [-3, 5, -2], [1, -2, 1]])\n"
          ],
          "name": "stdout"
        }
      ]
    },
    {
      "cell_type": "code",
      "metadata": {
        "colab": {
          "base_uri": "https://localhost:8080/",
          "height": 37
        },
        "id": "qf9a34f2on9c",
        "outputId": "0c9ee2b6-1c9a-472b-fe96-b4fdd6de076d"
      },
      "source": [
        "A.det()"
      ],
      "execution_count": null,
      "outputs": [
        {
          "output_type": "execute_result",
          "data": {
            "image/png": "[encoded data removed]",
            "text/latex": "$\\displaystyle 1$",
            "text/plain": [
              "1"
            ]
          },
          "metadata": {
            "tags": []
          },
          "execution_count": 51
        }
      ]
    },
    {
      "cell_type": "code",
      "metadata": {
        "id": "Ww8BbrX4pZhj"
      },
      "source": [
        "B = Matrix([[1, 1, 1], [1, 2, 3], [1, 3, 6]])"
      ],
      "execution_count": null,
      "outputs": []
    },
    {
      "cell_type": "code",
      "metadata": {
        "colab": {
          "base_uri": "https://localhost:8080/",
          "height": 78
        },
        "id": "hJUZNvK9r0aW",
        "outputId": "5267684b-fd66-4781-a434-4ae878fa48a4"
      },
      "source": [
        "B"
      ],
      "execution_count": null,
      "outputs": [
        {
          "output_type": "execute_result",
          "data": {
            "text/latex": "$\\displaystyle \\left[\\begin{matrix}1 & 1 & 1\\\\1 & 2 & 3\\\\1 & 3 & 6\\end{matrix}\\right]$",
            "text/plain": [
              "⎡1  1  1⎤\n",
              "⎢       ⎥\n",
              "⎢1  2  3⎥\n",
              "⎢       ⎥\n",
              "⎣1  3  6⎦"
            ]
          },
          "metadata": {
            "tags": []
          },
          "execution_count": 54
        }
      ]
    },
    {
      "cell_type": "code",
      "metadata": {
        "id": "EiT9HYeor1j2"
      },
      "source": [
        "C = Matrix([2, 1, 5])"
      ],
      "execution_count": null,
      "outputs": []
    },
    {
      "cell_type": "code",
      "metadata": {
        "colab": {
          "base_uri": "https://localhost:8080/",
          "height": 78
        },
        "id": "_Wqfnkdhr9Jl",
        "outputId": "08bc740c-bde6-4a65-8850-99929159eef3"
      },
      "source": [
        "C"
      ],
      "execution_count": null,
      "outputs": [
        {
          "output_type": "execute_result",
          "data": {
            "text/latex": "$\\displaystyle \\left[\\begin{matrix}2\\\\1\\\\5\\end{matrix}\\right]$",
            "text/plain": [
              "⎡2⎤\n",
              "⎢ ⎥\n",
              "⎢1⎥\n",
              "⎢ ⎥\n",
              "⎣5⎦"
            ]
          },
          "metadata": {
            "tags": []
          },
          "execution_count": 60
        }
      ]
    },
    {
      "cell_type": "code",
      "metadata": {
        "colab": {
          "base_uri": "https://localhost:8080/",
          "height": 78
        },
        "id": "B9_xwqoyr-Ks",
        "outputId": "f0724e8c-95cf-4bf3-c03b-ce2664e5aeed"
      },
      "source": [
        "A*A.inv()"
      ],
      "execution_count": null,
      "outputs": [
        {
          "output_type": "execute_result",
          "data": {
            "text/latex": "$\\displaystyle \\left[\\begin{matrix}1 & 0 & 0\\\\0 & 1 & 0\\\\0 & 0 & 1\\end{matrix}\\right]$",
            "text/plain": [
              "⎡1  0  0⎤\n",
              "⎢       ⎥\n",
              "⎢0  1  0⎥\n",
              "⎢       ⎥\n",
              "⎣0  0  1⎦"
            ]
          },
          "metadata": {
            "tags": []
          },
          "execution_count": 66
        }
      ]
    },
    {
      "cell_type": "code",
      "metadata": {
        "colab": {
          "base_uri": "https://localhost:8080/",
          "height": 78
        },
        "id": "tybL8MF6sFbz",
        "outputId": "94d2b45d-a847-4581-a5c0-f05a369e327e"
      },
      "source": [
        "A.inv()*C"
      ],
      "execution_count": null,
      "outputs": [
        {
          "output_type": "execute_result",
          "data": {
            "text/latex": "$\\displaystyle \\left[\\begin{matrix}8\\\\-11\\\\5\\end{matrix}\\right]$",
            "text/plain": [
              "⎡ 8 ⎤\n",
              "⎢   ⎥\n",
              "⎢-11⎥\n",
              "⎢   ⎥\n",
              "⎣ 5 ⎦"
            ]
          },
          "metadata": {
            "tags": []
          },
          "execution_count": 67
        }
      ]
    },
    {
      "cell_type": "code",
      "metadata": {
        "id": "LMa6c9WhsGnn"
      },
      "source": [
        "A = Matrix([[1, 1, -2, 0],\n",
        "[1, -2, 1, 0],\n",
        "[-2, 1, 1, 0]])"
      ],
      "execution_count": null,
      "outputs": []
    },
    {
      "cell_type": "code",
      "metadata": {
        "colab": {
          "base_uri": "https://localhost:8080/"
        },
        "id": "1Kphap0xyCMb",
        "outputId": "f474dc3c-bcf4-4977-afe8-edc18495bcaa"
      },
      "source": [
        "print(A.rref())"
      ],
      "execution_count": null,
      "outputs": [
        {
          "output_type": "stream",
          "text": [
            "(Matrix([\n",
            "[1, 0, -1, 0],\n",
            "[0, 1, -1, 0],\n",
            "[0, 0,  0, 0]]), (0, 1))\n"
          ],
          "name": "stdout"
        }
      ]
    },
    {
      "cell_type": "code",
      "metadata": {
        "colab": {
          "base_uri": "https://localhost:8080/"
        },
        "id": "WAiXEF1VyFdp",
        "outputId": "b20c1a11-a729-40fc-fbf5-105f6af0a044"
      },
      "source": [
        "A = Matrix([[10, 1, 2, 1],\n",
        "[6, 1, 2, 6],\n",
        "[2, 1, 2, 11]])\n",
        "\n",
        "print(A.rref())"
      ],
      "execution_count": null,
      "outputs": [
        {
          "output_type": "stream",
          "text": [
            "(Matrix([\n",
            "[1, 0, 0, -5/4],\n",
            "[0, 1, 2, 27/2],\n",
            "[0, 0, 0,    0]]), (0, 1))\n"
          ],
          "name": "stdout"
        }
      ]
    },
    {
      "cell_type": "code",
      "metadata": {
        "colab": {
          "base_uri": "https://localhost:8080/"
        },
        "id": "R3xqcyBKJf1w",
        "outputId": "4e495b0c-ddaf-4b71-87d0-487c82320eb0"
      },
      "source": [
        "A = Matrix([[10, 1, 2, 1],\n",
        "[6, 1, 2, 6],\n",
        "[0, 0, 1, 0]])\n",
        "\n",
        "print(A.rref())"
      ],
      "execution_count": null,
      "outputs": [
        {
          "output_type": "stream",
          "text": [
            "(Matrix([\n",
            "[1, 0, 0, -5/4],\n",
            "[0, 1, 0, 27/2],\n",
            "[0, 0, 1,    0]]), (0, 1, 2))\n"
          ],
          "name": "stdout"
        }
      ]
    },
    {
      "cell_type": "code",
      "metadata": {
        "colab": {
          "base_uri": "https://localhost:8080/",
          "height": 58
        },
        "id": "J72vUc9Gv2eF",
        "outputId": "424d0cfc-a99c-40d7-e741-120017268366"
      },
      "source": [
        "solve_linear_system(A, x1, x2, x3)"
      ],
      "execution_count": null,
      "outputs": [
        {
          "output_type": "execute_result",
          "data": {
            "image/png": "[encoded data removed]",
            "text/latex": "$\\displaystyle \\left\\{ x_{1} : - 2 x_{2} - \\frac{54}{5}, \\  x_{3} : \\frac{4}{5}\\right\\}$",
            "text/plain": [
              "{x₁: -2⋅x₂ - 54/5, x₃: 4/5}"
            ]
          },
          "metadata": {
            "tags": []
          },
          "execution_count": 15
        }
      ]
    },
    {
      "cell_type": "code",
      "metadata": {
        "colab": {
          "base_uri": "https://localhost:8080/",
          "height": 58
        },
        "id": "S2y5x14UvG-_",
        "outputId": "fbab4159-aad8-43ba-d0a4-f171c1803a66"
      },
      "source": [
        "solve_linear_system(A, x3, x2, x1)"
      ],
      "execution_count": null,
      "outputs": [
        {
          "output_type": "execute_result",
          "data": {
            "image/png": "[encoded data removed]",
            "text/latex": "$\\displaystyle \\left\\{ x_{2} : \\frac{27}{5} - \\frac{x_{1}}{2}, \\  x_{3} : - \\frac{4}{5}\\right\\}$",
            "text/plain": [
              "⎧    27   x₁          ⎫\n",
              "⎨x₂: ── - ──, x₃: -4/5⎬\n",
              "⎩    5    2           ⎭"
            ]
          },
          "metadata": {
            "tags": []
          },
          "execution_count": 8
        }
      ]
    },
    {
      "cell_type": "code",
      "metadata": {
        "colab": {
          "base_uri": "https://localhost:8080/",
          "height": 58
        },
        "id": "6EIcSKXwvgmy",
        "outputId": "b7c3dc19-58b8-449f-ac09-b3b919c79713"
      },
      "source": [
        "A = Matrix([[1, 2, 1, -10],\n",
        "[6, 2, 1, -6],\n",
        "[11, 2, 1, -2]])\n",
        "\n",
        "solve_linear_system(A, x1, x2, x3)"
      ],
      "execution_count": null,
      "outputs": [
        {
          "output_type": "execute_result",
          "data": {
            "image/png": "[encoded data removed]",
            "text/latex": "$\\displaystyle \\left\\{ x_{1} : \\frac{4}{5}, \\  x_{2} : - \\frac{x_{3}}{2} - \\frac{27}{5}\\right\\}$",
            "text/plain": [
              "⎧               x₃   27⎫\n",
              "⎨x₁: 4/5, x₂: - ── - ──⎬\n",
              "⎩               2    5 ⎭"
            ]
          },
          "metadata": {
            "tags": []
          },
          "execution_count": 10
        }
      ]
    },
    {
      "cell_type": "code",
      "metadata": {
        "colab": {
          "base_uri": "https://localhost:8080/",
          "height": 78
        },
        "id": "s3YlFMYSv-MR",
        "outputId": "270e1667-0f57-40df-a0da-faf7afe74161"
      },
      "source": [
        "A.rref()"
      ],
      "execution_count": null,
      "outputs": [
        {
          "output_type": "execute_result",
          "data": {
            "text/latex": "$\\displaystyle \\left( \\left[\\begin{matrix}1 & 0 & 0 & \\frac{4}{5}\\\\0 & 1 & \\frac{1}{2} & - \\frac{27}{5}\\\\0 & 0 & 0 & 0\\end{matrix}\\right], \\  \\left( 0, \\  1\\right)\\right)$",
            "text/plain": [
              "⎛⎡1  0   0    4/5 ⎤        ⎞\n",
              "⎜⎢                ⎥        ⎟\n",
              "⎜⎢0  1  1/2  -27/5⎥, (0, 1)⎟\n",
              "⎜⎢                ⎥        ⎟\n",
              "⎝⎣0  0   0     0  ⎦        ⎠"
            ]
          },
          "metadata": {
            "tags": []
          },
          "execution_count": 11
        }
      ]
    },
    {
      "cell_type": "code",
      "metadata": {
        "colab": {
          "base_uri": "https://localhost:8080/",
          "height": 58
        },
        "id": "TqB-Mlvhxp9e",
        "outputId": "59939608-c467-4d4d-9aa9-36e68e7aec76"
      },
      "source": [
        "P = Matrix([[-5, sp.Rational(17,2)], [-6, 9]])\n",
        "\n",
        "Be = Matrix([[1, 10], [2, 8]])\n",
        "\n",
        "P"
      ],
      "execution_count": null,
      "outputs": [
        {
          "output_type": "execute_result",
          "data": {
            "text/latex": "$\\displaystyle \\left[\\begin{matrix}-5 & \\frac{17}{2}\\\\-6 & 9\\end{matrix}\\right]$",
            "text/plain": [
              "⎡-5  17/2⎤\n",
              "⎢        ⎥\n",
              "⎣-6   9  ⎦"
            ]
          },
          "metadata": {
            "tags": []
          },
          "execution_count": 37
        }
      ]
    },
    {
      "cell_type": "code",
      "metadata": {
        "colab": {
          "base_uri": "https://localhost:8080/",
          "height": 58
        },
        "id": "9wuD5yTu-Cni",
        "outputId": "727bcc25-a296-4283-9d2f-56402b673119"
      },
      "source": [
        "Be"
      ],
      "execution_count": null,
      "outputs": [
        {
          "output_type": "execute_result",
          "data": {
            "text/latex": "$\\displaystyle \\left[\\begin{matrix}1 & 10\\\\2 & 8\\end{matrix}\\right]$",
            "text/plain": [
              "⎡1  10⎤\n",
              "⎢     ⎥\n",
              "⎣2  8 ⎦"
            ]
          },
          "metadata": {
            "tags": []
          },
          "execution_count": 38
        }
      ]
    },
    {
      "cell_type": "code",
      "metadata": {
        "colab": {
          "base_uri": "https://localhost:8080/",
          "height": 58
        },
        "id": "Vv6VdTWS-EbN",
        "outputId": "426b1e5f-fb34-4fe0-ba98-31293c9bbca4"
      },
      "source": [
        "P*Be"
      ],
      "execution_count": null,
      "outputs": [
        {
          "output_type": "execute_result",
          "data": {
            "text/latex": "$\\displaystyle \\left[\\begin{matrix}12 & 18\\\\12 & 12\\end{matrix}\\right]$",
            "text/plain": [
              "⎡12  18⎤\n",
              "⎢      ⎥\n",
              "⎣12  12⎦"
            ]
          },
          "metadata": {
            "tags": []
          },
          "execution_count": 39
        }
      ]
    },
    {
      "cell_type": "code",
      "metadata": {
        "id": "Sy0NwzI3-GOL"
      },
      "source": [
        "C = Matrix([4[x1, x2], [x3, x]])"
      ],
      "execution_count": null,
      "outputs": []
    },
    {
      "cell_type": "code",
      "metadata": {
        "colab": {
          "base_uri": "https://localhost:8080/",
          "height": 58
        },
        "id": "r7VTGUel-pej",
        "outputId": "ba3d2dde-f758-48e3-da7f-2c4839a6042f"
      },
      "source": [
        "C"
      ],
      "execution_count": null,
      "outputs": [
        {
          "output_type": "execute_result",
          "data": {
            "text/latex": "$\\displaystyle \\left[\\begin{matrix}x_{1} & x_{2}\\\\x_{3} & x_{4}\\end{matrix}\\right]$",
            "text/plain": [
              "⎡x₁  x₂⎤\n",
              "⎢      ⎥\n",
              "⎣x₃  x₄⎦"
            ]
          },
          "metadata": {
            "tags": []
          },
          "execution_count": 21
        }
      ]
    },
    {
      "cell_type": "code",
      "metadata": {
        "colab": {
          "base_uri": "https://localhost:8080/",
          "height": 58
        },
        "id": "spG3t-fe-qMR",
        "outputId": "46b63c40-461a-4fd5-f767-cb254aa8b167"
      },
      "source": [
        "C*Be"
      ],
      "execution_count": null,
      "outputs": [
        {
          "output_type": "execute_result",
          "data": {
            "text/latex": "$\\displaystyle \\left[\\begin{matrix}x_{1} + 2 x_{2} & 10 x_{1} + 8 x_{2}\\\\x_{3} + 2 x_{4} & 10 x_{3} + 8 x_{4}\\end{matrix}\\right]$",
            "text/plain": [
              "⎡x₁ + 2⋅x₂  10⋅x₁ + 8⋅x₂⎤\n",
              "⎢                       ⎥\n",
              "⎣x₃ + 2⋅x₄  10⋅x₃ + 8⋅x₄⎦"
            ]
          },
          "metadata": {
            "tags": []
          },
          "execution_count": 24
        }
      ]
    },
    {
      "cell_type": "code",
      "metadata": {
        "colab": {
          "base_uri": "https://localhost:8080/",
          "height": 38
        },
        "id": "IkJDJbzF-s-1",
        "outputId": "ae9e117a-04bf-48d7-e6fe-a8cd8ded635b"
      },
      "source": [
        "system = Matrix([[1, 2, 12], [10, 8, 12]])\n",
        "solve_linear_system(system, x1, x2)"
      ],
      "execution_count": null,
      "outputs": [
        {
          "output_type": "execute_result",
          "data": {
            "image/png": "[encoded data removed]",
            "text/latex": "$\\displaystyle \\left\\{ x_{1} : -6, \\  x_{2} : 9\\right\\}$",
            "text/plain": [
              "{x₁: -6, x₂: 9}"
            ]
          },
          "metadata": {
            "tags": []
          },
          "execution_count": 33
        }
      ]
    },
    {
      "cell_type": "code",
      "metadata": {
        "colab": {
          "base_uri": "https://localhost:8080/",
          "height": 58
        },
        "id": "3CiSXFuWKDDl",
        "outputId": "a1acf1e9-316c-4bf4-b77e-f4b3465ee80e"
      },
      "source": [
        "С = Matrix([[2, 1], [-2, 2]])\n",
        "С"
      ],
      "execution_count": null,
      "outputs": [
        {
          "output_type": "execute_result",
          "data": {
            "text/latex": "$\\displaystyle \\left[\\begin{matrix}2 & 1\\\\-2 & 2\\end{matrix}\\right]$",
            "text/plain": [
              "⎡2   1⎤\n",
              "⎢     ⎥\n",
              "⎣-2  2⎦"
            ]
          },
          "metadata": {
            "tags": []
          },
          "execution_count": 9
        }
      ]
    },
    {
      "cell_type": "code",
      "metadata": {
        "colab": {
          "base_uri": "https://localhost:8080/",
          "height": 58
        },
        "id": "K5QrZDUfOTYz",
        "outputId": "d908d8b0-7e09-4253-feef-c340cf6a6b83"
      },
      "source": [
        "С.T *Matrix([1, 2])"
      ],
      "execution_count": null,
      "outputs": [
        {
          "output_type": "execute_result",
          "data": {
            "text/latex": "$\\displaystyle \\left[\\begin{matrix}-2\\\\5\\end{matrix}\\right]$",
            "text/plain": [
              "⎡-2⎤\n",
              "⎢  ⎥\n",
              "⎣5 ⎦"
            ]
          },
          "metadata": {
            "tags": []
          },
          "execution_count": 16
        }
      ]
    },
    {
      "cell_type": "code",
      "metadata": {
        "colab": {
          "base_uri": "https://localhost:8080/",
          "height": 68
        },
        "id": "0mW5-t6dOfYL",
        "outputId": "b02e7e4b-63bd-41dc-8940-7ca1aa792782"
      },
      "source": [
        "A = Matrix([[sp.sqrt(3)/2, sp.Rational(1, 2), 1], \n",
        "            [-sp.Rational(1, 2), sp.sqrt(3)/2, 0]])\n",
        "\n",
        "A"
      ],
      "execution_count": null,
      "outputs": [
        {
          "output_type": "execute_result",
          "data": {
            "text/latex": "$\\displaystyle \\left[\\begin{matrix}\\frac{\\sqrt{3}}{2} & \\frac{1}{2} & 1\\\\- \\frac{1}{2} & \\frac{\\sqrt{3}}{2} & 0\\end{matrix}\\right]$",
            "text/plain": [
              "⎡ √3         ⎤\n",
              "⎢ ──   1/2  1⎥\n",
              "⎢ 2          ⎥\n",
              "⎢            ⎥\n",
              "⎢      √3    ⎥\n",
              "⎢-1/2  ──   0⎥\n",
              "⎣      2     ⎦"
            ]
          },
          "metadata": {
            "tags": []
          },
          "execution_count": 12
        }
      ]
    },
    {
      "cell_type": "code",
      "metadata": {
        "colab": {
          "base_uri": "https://localhost:8080/",
          "height": 61
        },
        "id": "Cxs4nweOjh_j",
        "outputId": "84bc763d-efa2-4c5f-a22c-d860d2757da0"
      },
      "source": [
        "A.rref()"
      ],
      "execution_count": null,
      "outputs": [
        {
          "output_type": "execute_result",
          "data": {
            "text/latex": "$\\displaystyle \\left( \\left[\\begin{matrix}1 & 0 & \\frac{\\sqrt{3}}{2}\\\\0 & 1 & \\frac{1}{2}\\end{matrix}\\right], \\  \\left( 0, \\  1\\right)\\right)$",
            "text/plain": [
              "⎛⎡      √3 ⎤        ⎞\n",
              "⎜⎢1  0  ── ⎥        ⎟\n",
              "⎜⎢      2  ⎥, (0, 1)⎟\n",
              "⎜⎢         ⎥        ⎟\n",
              "⎝⎣0  1  1/2⎦        ⎠"
            ]
          },
          "metadata": {
            "tags": []
          },
          "execution_count": 13
        }
      ]
    },
    {
      "cell_type": "code",
      "metadata": {
        "colab": {
          "base_uri": "https://localhost:8080/",
          "height": 68
        },
        "id": "jQ6DKICZj1W_",
        "outputId": "171c7853-3a93-4c1f-cae5-d3cc7a548e84"
      },
      "source": [
        "B = Matrix([[sp.sqrt(3)/2, sp.Rational(1, 2), 0], \n",
        "            [-sp.Rational(1, 2), sp.sqrt(3)/2, 1]])\n",
        "\n",
        "B"
      ],
      "execution_count": null,
      "outputs": [
        {
          "output_type": "execute_result",
          "data": {
            "text/latex": "$\\displaystyle \\left[\\begin{matrix}\\frac{\\sqrt{3}}{2} & \\frac{1}{2} & 0\\\\- \\frac{1}{2} & \\frac{\\sqrt{3}}{2} & 1\\end{matrix}\\right]$",
            "text/plain": [
              "⎡ √3         ⎤\n",
              "⎢ ──   1/2  0⎥\n",
              "⎢ 2          ⎥\n",
              "⎢            ⎥\n",
              "⎢      √3    ⎥\n",
              "⎢-1/2  ──   1⎥\n",
              "⎣      2     ⎦"
            ]
          },
          "metadata": {
            "tags": []
          },
          "execution_count": 15
        }
      ]
    },
    {
      "cell_type": "code",
      "metadata": {
        "colab": {
          "base_uri": "https://localhost:8080/",
          "height": 61
        },
        "id": "RSeRFwJYk-be",
        "outputId": "af1e3ed4-4feb-4254-a315-f503e1686226"
      },
      "source": [
        "B.rref()"
      ],
      "execution_count": null,
      "outputs": [
        {
          "output_type": "execute_result",
          "data": {
            "text/latex": "$\\displaystyle \\left( \\left[\\begin{matrix}1 & 0 & - \\frac{1}{2}\\\\0 & 1 & \\frac{\\sqrt{3}}{2}\\end{matrix}\\right], \\  \\left( 0, \\  1\\right)\\right)$",
            "text/plain": [
              "⎛⎡1  0  -1/2⎤        ⎞\n",
              "⎜⎢          ⎥        ⎟\n",
              "⎜⎢       √3 ⎥, (0, 1)⎟\n",
              "⎜⎢0  1   ── ⎥        ⎟\n",
              "⎝⎣       2  ⎦        ⎠"
            ]
          },
          "metadata": {
            "tags": []
          },
          "execution_count": 16
        }
      ]
    },
    {
      "cell_type": "code",
      "metadata": {
        "colab": {
          "base_uri": "https://localhost:8080/",
          "height": 68
        },
        "id": "ikdGI7hslG3C",
        "outputId": "06b48533-3f6e-470b-e515-b5510b1ce3ea"
      },
      "source": [
        "C = Matrix([[sp.sqrt(3)/2, -sp.Rational(1, 2)],\n",
        "            [sp.Rational(1, 2), sp.sqrt(3)/2]])\n",
        "\n",
        "C"
      ],
      "execution_count": null,
      "outputs": [
        {
          "output_type": "execute_result",
          "data": {
            "text/latex": "$\\displaystyle \\left[\\begin{matrix}\\frac{\\sqrt{3}}{2} & - \\frac{1}{2}\\\\\\frac{1}{2} & \\frac{\\sqrt{3}}{2}\\end{matrix}\\right]$",
            "text/plain": [
              "⎡√3       ⎤\n",
              "⎢──   -1/2⎥\n",
              "⎢2        ⎥\n",
              "⎢         ⎥\n",
              "⎢      √3 ⎥\n",
              "⎢1/2   ── ⎥\n",
              "⎣      2  ⎦"
            ]
          },
          "metadata": {
            "tags": []
          },
          "execution_count": 18
        }
      ]
    },
    {
      "cell_type": "code",
      "metadata": {
        "colab": {
          "base_uri": "https://localhost:8080/",
          "height": 61
        },
        "id": "nTb_dCb3lkSx",
        "outputId": "cf08a900-ec53-48ad-fc60-1bf6f82eebbc"
      },
      "source": [
        "C.T*Matrix([[sp.Rational(1, 2)], [sp.sqrt(3)/2]])"
      ],
      "execution_count": null,
      "outputs": [
        {
          "output_type": "execute_result",
          "data": {
            "text/latex": "$\\displaystyle \\left[\\begin{matrix}\\frac{\\sqrt{3}}{2}\\\\\\frac{1}{2}\\end{matrix}\\right]$",
            "text/plain": [
              "⎡√3 ⎤\n",
              "⎢── ⎥\n",
              "⎢2  ⎥\n",
              "⎢   ⎥\n",
              "⎣1/2⎦"
            ]
          },
          "metadata": {
            "tags": []
          },
          "execution_count": 22
        }
      ]
    },
    {
      "cell_type": "code",
      "metadata": {
        "colab": {
          "base_uri": "https://localhost:8080/",
          "height": 61
        },
        "id": "4nxTwLrVmGLU",
        "outputId": "d8ca5c1e-312f-4c83-fe25-edd4ae006899"
      },
      "source": [
        "C.T*Matrix([[0], [1]])"
      ],
      "execution_count": null,
      "outputs": [
        {
          "output_type": "execute_result",
          "data": {
            "text/latex": "$\\displaystyle \\left[\\begin{matrix}\\frac{1}{2}\\\\\\frac{\\sqrt{3}}{2}\\end{matrix}\\right]$",
            "text/plain": [
              "⎡1/2⎤\n",
              "⎢   ⎥\n",
              "⎢√3 ⎥\n",
              "⎢── ⎥\n",
              "⎣2  ⎦"
            ]
          },
          "metadata": {
            "tags": []
          },
          "execution_count": 21
        }
      ]
    },
    {
      "cell_type": "code",
      "metadata": {
        "colab": {
          "base_uri": "https://localhost:8080/"
        },
        "id": "GCgZT76ommwf",
        "outputId": "b50a1781-4e75-4f26-b644-ddf0d423b4a1"
      },
      "source": [
        "print(C.T)"
      ],
      "execution_count": null,
      "outputs": [
        {
          "output_type": "stream",
          "text": [
            "Matrix([[sqrt(3)/2, 1/2], [-1/2, sqrt(3)/2]])\n"
          ],
          "name": "stdout"
        }
      ]
    },
    {
      "cell_type": "code",
      "metadata": {
        "colab": {
          "base_uri": "https://localhost:8080/",
          "height": 58
        },
        "id": "DBascHbynAsQ",
        "outputId": "75fcb6b4-f393-449f-a8d0-0c7fcc288eb0"
      },
      "source": [
        "(C.T)**12"
      ],
      "execution_count": null,
      "outputs": [
        {
          "output_type": "execute_result",
          "data": {
            "text/latex": "$\\displaystyle \\left[\\begin{matrix}1 & 0\\\\0 & 1\\end{matrix}\\right]$",
            "text/plain": [
              "⎡1  0⎤\n",
              "⎢    ⎥\n",
              "⎣0  1⎦"
            ]
          },
          "metadata": {
            "tags": []
          },
          "execution_count": 35
        }
      ]
    },
    {
      "cell_type": "code",
      "metadata": {
        "id": "6CzT-uHXsNIv"
      },
      "source": [
        "A = Matrix([[4, 8], [1, 9]])"
      ],
      "execution_count": null,
      "outputs": []
    },
    {
      "cell_type": "code",
      "metadata": {
        "colab": {
          "base_uri": "https://localhost:8080/",
          "height": 58
        },
        "id": "bpO4uAkquZvm",
        "outputId": "a5f931b4-e083-4da3-e834-38019b608369"
      },
      "source": [
        "A"
      ],
      "execution_count": null,
      "outputs": [
        {
          "output_type": "execute_result",
          "data": {
            "text/latex": "$\\displaystyle \\left[\\begin{matrix}4 & 8\\\\1 & 9\\end{matrix}\\right]$",
            "text/plain": [
              "⎡4  8⎤\n",
              "⎢    ⎥\n",
              "⎣1  9⎦"
            ]
          },
          "metadata": {
            "tags": []
          },
          "execution_count": 3
        }
      ]
    },
    {
      "cell_type": "code",
      "metadata": {
        "colab": {
          "base_uri": "https://localhost:8080/",
          "height": 37
        },
        "id": "-F_vJx6JuaS5",
        "outputId": "9dc2dc6f-1099-4604-cc17-496d572fdf44"
      },
      "source": [
        "A.det()\n"
      ],
      "execution_count": null,
      "outputs": [
        {
          "output_type": "execute_result",
          "data": {
            "image/png": "[encoded data removed]",
            "text/latex": "$\\displaystyle 28$",
            "text/plain": [
              "28"
            ]
          },
          "metadata": {
            "tags": []
          },
          "execution_count": 4
        }
      ]
    },
    {
      "cell_type": "code",
      "metadata": {
        "colab": {
          "base_uri": "https://localhost:8080/",
          "height": 37
        },
        "id": "IAoAPNc9ucVN",
        "outputId": "b4904c2f-f0f4-4315-b200-f09a4a96d533"
      },
      "source": [
        "A = Matrix([[-1, 5, 4],\n",
        "[3, -2, 0],\n",
        "[-1, 3, 6]])\n",
        "\n",
        "A.det()"
      ],
      "execution_count": null,
      "outputs": [
        {
          "output_type": "execute_result",
          "data": {
            "image/png": "[encoded data removed]",
            "text/latex": "$\\displaystyle -50$",
            "text/plain": [
              "-50"
            ]
          },
          "metadata": {
            "tags": []
          },
          "execution_count": 2
        }
      ]
    },
    {
      "cell_type": "code",
      "metadata": {
        "colab": {
          "base_uri": "https://localhost:8080/",
          "height": 37
        },
        "id": "LU7eyHQFOBhs",
        "outputId": "ceb10001-65bc-4766-aa73-db6231bf0cdb"
      },
      "source": [
        "solve(x**2 - 6*x + 5, x)"
      ],
      "execution_count": null,
      "outputs": [
        {
          "output_type": "execute_result",
          "data": {
            "image/png": "[encoded data removed]",
            "text/latex": "$\\displaystyle \\left[ 1, \\  5\\right]$",
            "text/plain": [
              "[1, 5]"
            ]
          },
          "metadata": {
            "tags": []
          },
          "execution_count": 4
        }
      ]
    },
    {
      "cell_type": "code",
      "metadata": {
        "colab": {
          "base_uri": "https://localhost:8080/",
          "height": 38
        },
        "id": "nqoj8R4sYjvY",
        "outputId": "20419772-bc66-444c-ea33-1b4df406fbfc"
      },
      "source": [
        "A = Matrix([[-3, 3, 0], [1, -1, 0]])\n",
        "\n",
        "solve_linear_system(A, x, y)"
      ],
      "execution_count": null,
      "outputs": [
        {
          "output_type": "execute_result",
          "data": {
            "image/png": "[encoded data removed]",
            "text/latex": "$\\displaystyle \\left\\{ x : y\\right\\}$",
            "text/plain": [
              "{x: y}"
            ]
          },
          "metadata": {
            "tags": []
          },
          "execution_count": 8
        }
      ]
    },
    {
      "cell_type": "code",
      "metadata": {
        "colab": {
          "base_uri": "https://localhost:8080/",
          "height": 47
        },
        "id": "MiORvkfjRpC1",
        "outputId": "b20ea594-e611-4af9-d969-8d3b7a8ec397"
      },
      "source": [
        "solve(x**2 + 6*x - 5, x)"
      ],
      "execution_count": null,
      "outputs": [
        {
          "output_type": "execute_result",
          "data": {
            "image/png": "[encoded data removed]",
            "text/latex": "$\\displaystyle \\left[ -3 + \\sqrt{14}, \\  - \\sqrt{14} - 3\\right]$",
            "text/plain": [
              "[-3 + √14, -√14 - 3]"
            ]
          },
          "metadata": {
            "tags": []
          },
          "execution_count": 4
        }
      ]
    },
    {
      "cell_type": "code",
      "metadata": {
        "colab": {
          "base_uri": "https://localhost:8080/",
          "height": 37
        },
        "id": "tTIyS5RiYf6X",
        "outputId": "1828da41-5375-4fef-8bfa-a4c84d38f0c9"
      },
      "source": [
        "solve((2 - x) * (4 -x) -3, x)"
      ],
      "execution_count": null,
      "outputs": [
        {
          "output_type": "execute_result",
          "data": {
            "image/png": "[encoded data removed]",
            "text/latex": "$\\displaystyle \\left[ 1, \\  5\\right]$",
            "text/plain": [
              "[1, 5]"
            ]
          },
          "metadata": {
            "tags": []
          },
          "execution_count": 5
        }
      ]
    },
    {
      "cell_type": "code",
      "metadata": {
        "colab": {
          "base_uri": "https://localhost:8080/",
          "height": 58
        },
        "id": "M6-sGCxJYoVD",
        "outputId": "7b685196-0ca0-4e9f-e1ed-87d0f0bc5401"
      },
      "source": [
        "A = Matrix([[-3, 1], [1, 1]])\n",
        "\n",
        "A.rref()"
      ],
      "execution_count": null,
      "outputs": [
        {
          "output_type": "execute_result",
          "data": {
            "text/latex": "$\\displaystyle \\left( \\left[\\begin{matrix}1 & 0\\\\0 & 1\\end{matrix}\\right], \\  \\left( 0, \\  1\\right)\\right)$",
            "text/plain": [
              "⎛⎡1  0⎤        ⎞\n",
              "⎜⎢    ⎥, (0, 1)⎟\n",
              "⎝⎣0  1⎦        ⎠"
            ]
          },
          "metadata": {
            "tags": []
          },
          "execution_count": 9
        }
      ]
    },
    {
      "cell_type": "code",
      "metadata": {
        "id": "_LDrDdY4Yszn"
      },
      "source": [
        "A = Matrix([[2, 3], [1, 4]])\n",
        "\n",
        "P = Matrix([[-3, 1], [1, 1]])"
      ],
      "execution_count": null,
      "outputs": []
    },
    {
      "cell_type": "code",
      "metadata": {
        "colab": {
          "base_uri": "https://localhost:8080/",
          "height": 58
        },
        "id": "Qq7_N_Ywa23P",
        "outputId": "7450654a-b6b2-4f06-fd05-2d1dfb5fb9d0"
      },
      "source": [
        "P.inv() * A * P"
      ],
      "execution_count": null,
      "outputs": [
        {
          "output_type": "execute_result",
          "data": {
            "text/latex": "$\\displaystyle \\left[\\begin{matrix}1 & 0\\\\0 & 5\\end{matrix}\\right]$",
            "text/plain": [
              "⎡1  0⎤\n",
              "⎢    ⎥\n",
              "⎣0  5⎦"
            ]
          },
          "metadata": {
            "tags": []
          },
          "execution_count": 17
        }
      ]
    },
    {
      "cell_type": "code",
      "metadata": {
        "colab": {
          "base_uri": "https://localhost:8080/"
        },
        "id": "FnVoeYq-c3eN",
        "outputId": "7d09cbff-f743-4a63-eff8-ae4ad82959a2"
      },
      "source": [
        "print(Matrix([[-3, 1, 2, 3], [1, 1, 1, 4]]).rref()[0])"
      ],
      "execution_count": null,
      "outputs": [
        {
          "output_type": "stream",
          "text": [
            "Matrix([[1, 0, -1/4, 1/4], [0, 1, 5/4, 15/4]])\n"
          ],
          "name": "stdout"
        }
      ]
    },
    {
      "cell_type": "code",
      "metadata": {
        "id": "E9YcB--KiHG-"
      },
      "source": [
        "B = Matrix([Matrix([[-3, 1, 2, 3], [1, 1, 1, 4]]).rref()[0].row(0)[2:4],\n",
        "Matrix([[-3, 1, 2, 3], [1, 1, 1, 4]]).rref()[0].row(1)[2:4]])"
      ],
      "execution_count": null,
      "outputs": []
    },
    {
      "cell_type": "code",
      "metadata": {
        "colab": {
          "base_uri": "https://localhost:8080/",
          "height": 58
        },
        "id": "ht8TuEjwj3fu",
        "outputId": "eb1b174b-dab7-4f49-a310-8aadb246ac82"
      },
      "source": [
        "B"
      ],
      "execution_count": null,
      "outputs": [
        {
          "output_type": "execute_result",
          "data": {
            "text/latex": "$\\displaystyle \\left[\\begin{matrix}- \\frac{1}{4} & \\frac{1}{4}\\\\\\frac{5}{4} & \\frac{15}{4}\\end{matrix}\\right]$",
            "text/plain": [
              "⎡-1/4  1/4 ⎤\n",
              "⎢          ⎥\n",
              "⎣5/4   15/4⎦"
            ]
          },
          "metadata": {
            "tags": []
          },
          "execution_count": 35
        }
      ]
    },
    {
      "cell_type": "code",
      "metadata": {
        "colab": {
          "base_uri": "https://localhost:8080/",
          "height": 58
        },
        "id": "wrr7JORUk8m3",
        "outputId": "04aaa8e0-6359-486d-d0ce-a6fd05cc4ce0"
      },
      "source": [
        "B.inv() * Matrix([[1, 0], [0, 5]]) * B"
      ],
      "execution_count": null,
      "outputs": [
        {
          "output_type": "execute_result",
          "data": {
            "text/latex": "$\\displaystyle \\left[\\begin{matrix}2 & 3\\\\1 & 4\\end{matrix}\\right]$",
            "text/plain": [
              "⎡2  3⎤\n",
              "⎢    ⎥\n",
              "⎣1  4⎦"
            ]
          },
          "metadata": {
            "tags": []
          },
          "execution_count": 36
        }
      ]
    },
    {
      "cell_type": "code",
      "metadata": {
        "colab": {
          "base_uri": "https://localhost:8080/",
          "height": 58
        },
        "id": "vJ2Kyct1lLO9",
        "outputId": "66aa1b1b-0581-4596-d554-222bae95b806"
      },
      "source": [
        "B.inv()"
      ],
      "execution_count": null,
      "outputs": [
        {
          "output_type": "execute_result",
          "data": {
            "text/latex": "$\\displaystyle \\left[\\begin{matrix}-3 & \\frac{1}{5}\\\\1 & \\frac{1}{5}\\end{matrix}\\right]$",
            "text/plain": [
              "⎡-3  1/5⎤\n",
              "⎢       ⎥\n",
              "⎣1   1/5⎦"
            ]
          },
          "metadata": {
            "tags": []
          },
          "execution_count": 37
        }
      ]
    },
    {
      "cell_type": "code",
      "metadata": {
        "colab": {
          "base_uri": "https://localhost:8080/",
          "height": 58
        },
        "id": "00PhK5z_lfsI",
        "outputId": "701ab826-8fdb-427e-b494-4ada577dc78c"
      },
      "source": [
        "C = Matrix([[-3, 1], [1, 1]])\n",
        "C"
      ],
      "execution_count": null,
      "outputs": [
        {
          "output_type": "execute_result",
          "data": {
            "text/latex": "$\\displaystyle \\left[\\begin{matrix}-3 & 1\\\\1 & 1\\end{matrix}\\right]$",
            "text/plain": [
              "⎡-3  1⎤\n",
              "⎢     ⎥\n",
              "⎣1   1⎦"
            ]
          },
          "metadata": {
            "tags": []
          },
          "execution_count": 39
        }
      ]
    },
    {
      "cell_type": "code",
      "metadata": {
        "colab": {
          "base_uri": "https://localhost:8080/",
          "height": 58
        },
        "id": "WJzkIKnzo5FW",
        "outputId": "07a7150d-832a-4346-c918-37c108e69845"
      },
      "source": [
        "C * Matrix([[1, 0], [0, 5]]) * C.inv()"
      ],
      "execution_count": null,
      "outputs": [
        {
          "output_type": "execute_result",
          "data": {
            "text/latex": "$\\displaystyle \\left[\\begin{matrix}2 & 3\\\\1 & 4\\end{matrix}\\right]$",
            "text/plain": [
              "⎡2  3⎤\n",
              "⎢    ⎥\n",
              "⎣1  4⎦"
            ]
          },
          "metadata": {
            "tags": []
          },
          "execution_count": 40
        }
      ]
    },
    {
      "cell_type": "code",
      "metadata": {
        "colab": {
          "base_uri": "https://localhost:8080/"
        },
        "id": "RdUilBuZo_5P",
        "outputId": "da87a708-7685-49ff-e7e3-5adf57f60aa9"
      },
      "source": [
        "print(C.inv())"
      ],
      "execution_count": null,
      "outputs": [
        {
          "output_type": "stream",
          "text": [
            "Matrix([[-1/4, 1/4], [1/4, 3/4]])\n"
          ],
          "name": "stdout"
        }
      ]
    },
    {
      "cell_type": "code",
      "metadata": {
        "colab": {
          "base_uri": "https://localhost:8080/"
        },
        "id": "AR0mDBGNpm-z",
        "outputId": "a6ddbb60-361e-4eb8-ffc8-ec85c08dc50d"
      },
      "source": [
        "d = {'a': 1}\n",
        "d['b'] =  2\n",
        "d"
      ],
      "execution_count": null,
      "outputs": [
        {
          "output_type": "execute_result",
          "data": {
            "text/plain": [
              "{'a': 1, 'b': 2}"
            ]
          },
          "metadata": {
            "tags": []
          },
          "execution_count": 2
        }
      ]
    },
    {
      "cell_type": "code",
      "metadata": {
        "colab": {
          "base_uri": "https://localhost:8080/"
        },
        "id": "PGJl1De3TvOi",
        "outputId": "002cb47a-15ea-498e-908b-f865eaa6bf93"
      },
      "source": [
        "for i in ['abcd']:\n",
        "  print(i, end=',')"
      ],
      "execution_count": null,
      "outputs": [
        {
          "output_type": "stream",
          "text": [
            "abcd,"
          ],
          "name": "stdout"
        }
      ]
    },
    {
      "cell_type": "code",
      "metadata": {
        "colab": {
          "base_uri": "https://localhost:8080/"
        },
        "id": "AUA6PHJvZ05y",
        "outputId": "fc02acff-8b92-4364-90a5-1b4d852d23d3"
      },
      "source": [
        "locations = {'North America': {'USA': ['Mountain View']}}\n",
        "locations['North America']['USA'].append('Atlanta')\n",
        "locations['Asia'] = {'India': ['Bangalore']}\n",
        "locations['Asia']['China'] = ['Shanghai']\n",
        "locations['Africa'] = {'Egypt': 'Cairo'}\n",
        "\n",
        "for country in locations['Asia'].keys():\n",
        "    print(country)\n",
        "    for city in locations['Asia'][country]:\n",
        "        print(city)\n",
        "        # city_country.append((city, country))"
      ],
      "execution_count": null,
      "outputs": [
        {
          "output_type": "stream",
          "text": [
            "India\n",
            "Bangalore\n",
            "China\n",
            "Shanghai\n"
          ],
          "name": "stdout"
        }
      ]
    },
    {
      "cell_type": "code",
      "metadata": {
        "colab": {
          "base_uri": "https://localhost:8080/"
        },
        "id": "nW_alsYObPz1",
        "outputId": "82fbad91-0269-49cd-d7b5-b35d9ccaaded"
      },
      "source": [
        "print(locations['Asia'].keys())"
      ],
      "execution_count": null,
      "outputs": [
        {
          "output_type": "stream",
          "text": [
            "dict_keys(['India', 'China'])\n"
          ],
          "name": "stdout"
        }
      ]
    },
    {
      "cell_type": "code",
      "metadata": {
        "colab": {
          "base_uri": "https://localhost:8080/"
        },
        "id": "RoshnVUnaYSq",
        "outputId": "62c1c316-019e-4169-e4a9-f934aaf5d07e"
      },
      "source": [
        "for city in locations['Asia']['India']:\n",
        "  print(city)"
      ],
      "execution_count": null,
      "outputs": [
        {
          "output_type": "stream",
          "text": [
            "Bangalore\n"
          ],
          "name": "stdout"
        }
      ]
    },
    {
      "cell_type": "code",
      "metadata": {
        "colab": {
          "base_uri": "https://localhost:8080/"
        },
        "id": "mEX0esuRap_N",
        "outputId": "6b656c65-b832-45ac-ace5-fc090831e0f8"
      },
      "source": [
        "a = ('Hello', 'World')\n",
        "b = (1, 2, 3)\n",
        "print(a + b)"
      ],
      "execution_count": null,
      "outputs": [
        {
          "output_type": "stream",
          "text": [
            "('Hello', 'World', 1, 2, 3)\n"
          ],
          "name": "stdout"
        }
      ]
    },
    {
      "cell_type": "code",
      "metadata": {
        "colab": {
          "base_uri": "https://localhost:8080/"
        },
        "id": "5rqLyYsTfeUA",
        "outputId": "9a8d7376-ae01-442f-c6cb-b2b00656ae0f"
      },
      "source": [
        "c = a + b\n",
        "c"
      ],
      "execution_count": null,
      "outputs": [
        {
          "output_type": "execute_result",
          "data": {
            "text/plain": [
              "('Hello', 'World', 1, 2, 3)"
            ]
          },
          "metadata": {
            "tags": []
          },
          "execution_count": 3
        }
      ]
    },
    {
      "cell_type": "code",
      "metadata": {
        "colab": {
          "base_uri": "https://localhost:8080/",
          "height": 38
        },
        "id": "xTBfNsaZN1sc",
        "outputId": "71ef6207-5435-448d-f846-086bf536f294"
      },
      "source": [
        "solve(x**2 - 2*x + 2, x)"
      ],
      "execution_count": null,
      "outputs": [
        {
          "output_type": "execute_result",
          "data": {
            "image/png": "[encoded data removed]",
            "text/latex": "$\\displaystyle \\left[ 1 - i, \\  1 + i\\right]$",
            "text/plain": [
              "[1 - ⅈ, 1 + ⅈ]"
            ]
          },
          "metadata": {
            "tags": []
          },
          "execution_count": 8
        }
      ]
    },
    {
      "cell_type": "code",
      "metadata": {
        "colab": {
          "base_uri": "https://localhost:8080/",
          "height": 37
        },
        "id": "4kUZ4tuCDBEM",
        "outputId": "7db6a67b-925d-4a3f-9fd2-e1409465d9cf"
      },
      "source": [
        "solve((-4-x)*(1-x)-3*2, x)"
      ],
      "execution_count": null,
      "outputs": [
        {
          "output_type": "execute_result",
          "data": {
            "image/png": "[encoded data removed]",
            "text/latex": "$\\displaystyle \\left[ -5, \\  2\\right]$",
            "text/plain": [
              "[-5, 2]"
            ]
          },
          "metadata": {
            "tags": []
          },
          "execution_count": 8
        }
      ]
    },
    {
      "cell_type": "code",
      "metadata": {
        "id": "n5oYnZ_CN_qh",
        "colab": {
          "base_uri": "https://localhost:8080/",
          "height": 58
        },
        "outputId": "d20e124b-13a4-4e9a-838a-bdb72c70c1a6"
      },
      "source": [
        "C = Matrix([[-2, 1], [1, 3]])\n",
        "B = Matrix([[-5, 0], [0, 2]])\n",
        "\n",
        "C*B*C.inv()"
      ],
      "execution_count": null,
      "outputs": [
        {
          "output_type": "execute_result",
          "data": {
            "text/latex": "$\\displaystyle \\left[\\begin{matrix}-4 & 2\\\\3 & 1\\end{matrix}\\right]$",
            "text/plain": [
              "⎡-4  2⎤\n",
              "⎢     ⎥\n",
              "⎣3   1⎦"
            ]
          },
          "metadata": {
            "tags": []
          },
          "execution_count": 18
        }
      ]
    },
    {
      "cell_type": "code",
      "metadata": {
        "colab": {
          "base_uri": "https://localhost:8080/",
          "height": 58
        },
        "id": "f5jShJ7AGfaT",
        "outputId": "bc375812-08fa-483b-e84b-44da4bb4b7f6"
      },
      "source": [
        "C.inv()"
      ],
      "execution_count": null,
      "outputs": [
        {
          "output_type": "execute_result",
          "data": {
            "text/latex": "$\\displaystyle \\left[\\begin{matrix}- \\frac{3}{7} & \\frac{1}{7}\\\\\\frac{1}{7} & \\frac{2}{7}\\end{matrix}\\right]$",
            "text/plain": [
              "⎡-3/7  1/7⎤\n",
              "⎢         ⎥\n",
              "⎣1/7   2/7⎦"
            ]
          },
          "metadata": {
            "tags": []
          },
          "execution_count": 19
        }
      ]
    },
    {
      "cell_type": "code",
      "metadata": {
        "colab": {
          "base_uri": "https://localhost:8080/",
          "height": 37
        },
        "id": "l40uW8VBIBtY",
        "outputId": "84016074-ad8f-4ab2-ce47-67197dfae840"
      },
      "source": [
        "A.det()"
      ],
      "execution_count": null,
      "outputs": [
        {
          "output_type": "execute_result",
          "data": {
            "image/png": "[encoded data removed]",
            "text/latex": "$\\displaystyle -10$",
            "text/plain": [
              "-10"
            ]
          },
          "metadata": {
            "tags": []
          },
          "execution_count": 20
        }
      ]
    },
    {
      "cell_type": "code",
      "metadata": {
        "id": "BN8kDXd0ERnV"
      },
      "source": [
        "A = Matrix([[-4, 2], [3, 1]])\n",
        "# A\n",
        "# A.rref()"
      ],
      "execution_count": null,
      "outputs": []
    },
    {
      "cell_type": "code",
      "metadata": {
        "colab": {
          "base_uri": "https://localhost:8080/",
          "height": 37
        },
        "id": "92eDTFN4FMah",
        "outputId": "aaa24ccb-f4dd-475b-b92f-1f6c179ee11d"
      },
      "source": [
        "A.eigenvals()"
      ],
      "execution_count": null,
      "outputs": [
        {
          "output_type": "execute_result",
          "data": {
            "image/png": "[encoded data removed]",
            "text/latex": "$\\displaystyle \\left\\{ -5 : 1, \\  2 : 1\\right\\}$",
            "text/plain": [
              "{-5: 1, 2: 1}"
            ]
          },
          "metadata": {
            "tags": []
          },
          "execution_count": 16
        }
      ]
    },
    {
      "cell_type": "code",
      "metadata": {
        "colab": {
          "base_uri": "https://localhost:8080/",
          "height": 58
        },
        "id": "XFyRVkvaFe5s",
        "outputId": "a8ae8f65-062e-493f-bced-987bed060c78"
      },
      "source": [
        "A.eigenvects()"
      ],
      "execution_count": null,
      "outputs": [
        {
          "output_type": "execute_result",
          "data": {
            "text/latex": "$\\displaystyle \\left[ \\left( -5, \\  1, \\  \\left[ \\left[\\begin{matrix}-2\\\\1\\end{matrix}\\right]\\right]\\right), \\  \\left( 2, \\  1, \\  \\left[ \\left[\\begin{matrix}\\frac{1}{3}\\\\1\\end{matrix}\\right]\\right]\\right)\\right]$",
            "text/plain": [
              "⎡⎛       ⎡⎡-2⎤⎤⎞  ⎛      ⎡⎡1/3⎤⎤⎞⎤\n",
              "⎢⎜-5, 1, ⎢⎢  ⎥⎥⎟, ⎜2, 1, ⎢⎢   ⎥⎥⎟⎥\n",
              "⎣⎝       ⎣⎣1 ⎦⎦⎠  ⎝      ⎣⎣ 1 ⎦⎦⎠⎦"
            ]
          },
          "metadata": {
            "tags": []
          },
          "execution_count": 17
        }
      ]
    },
    {
      "cell_type": "code",
      "metadata": {
        "colab": {
          "base_uri": "https://localhost:8080/",
          "height": 58
        },
        "id": "XRiVJhqgMBdC",
        "outputId": "37606a72-d068-4528-ba04-08294455aadd"
      },
      "source": [
        "A = Matrix([[1- (1 + I), -1, 0], [1, 1 - (1+I), 0]])\n",
        "A"
      ],
      "execution_count": null,
      "outputs": [
        {
          "output_type": "execute_result",
          "data": {
            "text/latex": "$\\displaystyle \\left[\\begin{matrix}- i & -1 & 0\\\\1 & - i & 0\\end{matrix}\\right]$",
            "text/plain": [
              "⎡-ⅈ  -1  0⎤\n",
              "⎢         ⎥\n",
              "⎣1   -ⅈ  0⎦"
            ]
          },
          "metadata": {
            "tags": []
          },
          "execution_count": 28
        }
      ]
    },
    {
      "cell_type": "code",
      "metadata": {
        "colab": {
          "base_uri": "https://localhost:8080/",
          "height": 38
        },
        "id": "ro35JYVrMavV",
        "outputId": "398a8ba7-3a7b-4c1c-938f-c5d53d42760f"
      },
      "source": [
        "solve_linear_system(A, x, y)"
      ],
      "execution_count": null,
      "outputs": [
        {
          "output_type": "execute_result",
          "data": {
            "image/png": "[encoded data removed]",
            "text/latex": "$\\displaystyle \\left\\{ x : i y\\right\\}$",
            "text/plain": [
              "{x: ⅈ⋅y}"
            ]
          },
          "metadata": {
            "tags": []
          },
          "execution_count": 29
        }
      ]
    },
    {
      "cell_type": "code",
      "metadata": {
        "colab": {
          "base_uri": "https://localhost:8080/",
          "height": 58
        },
        "id": "jg1E3dD9O3bH",
        "outputId": "c77b134c-5c2a-46dc-97f1-af48ed8eb594"
      },
      "source": [
        "C = Matrix([[-I, I], [1, 1]])\n",
        "B = Matrix([[1-I, 0], [0, 1 + I]])\n",
        "B"
      ],
      "execution_count": null,
      "outputs": [
        {
          "output_type": "execute_result",
          "data": {
            "text/latex": "$\\displaystyle \\left[\\begin{matrix}1 - i & 0\\\\0 & 1 + i\\end{matrix}\\right]$",
            "text/plain": [
              "⎡1 - ⅈ    0  ⎤\n",
              "⎢            ⎥\n",
              "⎣  0    1 + ⅈ⎦"
            ]
          },
          "metadata": {
            "tags": []
          },
          "execution_count": 31
        }
      ]
    },
    {
      "cell_type": "code",
      "metadata": {
        "colab": {
          "base_uri": "https://localhost:8080/",
          "height": 68
        },
        "id": "HAj_CwYoPLN2",
        "outputId": "19e82653-8ce3-4137-bd90-a698c0871937"
      },
      "source": [
        "C*B*C.inv()"
      ],
      "execution_count": null,
      "outputs": [
        {
          "output_type": "execute_result",
          "data": {
            "text/latex": "$\\displaystyle \\left[\\begin{matrix}1 & - \\frac{i \\left(1 - i\\right)}{2} + \\frac{i \\left(1 + i\\right)}{2}\\\\- \\frac{i \\left(1 + i\\right)}{2} + \\frac{i \\left(1 - i\\right)}{2} & 1\\end{matrix}\\right]$",
            "text/plain": [
              "⎡                           ⅈ⋅(1 - ⅈ)   ⅈ⋅(1 + ⅈ)⎤\n",
              "⎢           1             - ───────── + ─────────⎥\n",
              "⎢                               2           2    ⎥\n",
              "⎢                                                ⎥\n",
              "⎢  ⅈ⋅(1 + ⅈ)   ⅈ⋅(1 - ⅈ)                         ⎥\n",
              "⎢- ───────── + ─────────             1           ⎥\n",
              "⎣      2           2                             ⎦"
            ]
          },
          "metadata": {
            "tags": []
          },
          "execution_count": 32
        }
      ]
    },
    {
      "cell_type": "code",
      "metadata": {
        "colab": {
          "base_uri": "https://localhost:8080/",
          "height": 58
        },
        "id": "CinemHeBP4SM",
        "outputId": "f75100d2-5f87-470f-9136-a9219a518904"
      },
      "source": [
        "C.inv()"
      ],
      "execution_count": null,
      "outputs": [
        {
          "output_type": "execute_result",
          "data": {
            "text/latex": "$\\displaystyle \\left[\\begin{matrix}\\frac{i}{2} & \\frac{1}{2}\\\\- \\frac{i}{2} & \\frac{1}{2}\\end{matrix}\\right]$",
            "text/plain": [
              "⎡ ⅈ      ⎤\n",
              "⎢ ─   1/2⎥\n",
              "⎢ 2      ⎥\n",
              "⎢        ⎥\n",
              "⎢-ⅈ      ⎥\n",
              "⎢───  1/2⎥\n",
              "⎣ 2      ⎦"
            ]
          },
          "metadata": {
            "tags": []
          },
          "execution_count": 33
        }
      ]
    },
    {
      "cell_type": "code",
      "metadata": {
        "colab": {
          "base_uri": "https://localhost:8080/",
          "height": 58
        },
        "id": "EHKRNHHtZhm4",
        "outputId": "f32eec39-0ab8-4f7e-bfc1-4ced01f09f36"
      },
      "source": [
        "# задача про белок\n",
        "A = Matrix([[0, 1.6], [0.3, 0.8]])\n",
        "A"
      ],
      "execution_count": null,
      "outputs": [
        {
          "output_type": "execute_result",
          "data": {
            "text/latex": "$\\displaystyle \\left[\\begin{matrix}0 & 1.6\\\\0.3 & 0.8\\end{matrix}\\right]$",
            "text/plain": [
              "⎡ 0   1.6⎤\n",
              "⎢        ⎥\n",
              "⎣0.3  0.8⎦"
            ]
          },
          "metadata": {
            "tags": []
          },
          "execution_count": 6
        }
      ]
    },
    {
      "cell_type": "code",
      "metadata": {
        "colab": {
          "base_uri": "https://localhost:8080/",
          "height": 58
        },
        "id": "Kc3Wb2OmZqM6",
        "outputId": "961c997c-1ac5-4c65-ed66-64ea3f9ea163"
      },
      "source": [
        "b = Matrix([[100], [100]])\n",
        "A*b"
      ],
      "execution_count": null,
      "outputs": [
        {
          "output_type": "execute_result",
          "data": {
            "text/latex": "$\\displaystyle \\left[\\begin{matrix}160.0\\\\110.0\\end{matrix}\\right]$",
            "text/plain": [
              "⎡160.0⎤\n",
              "⎢     ⎥\n",
              "⎣110.0⎦"
            ]
          },
          "metadata": {
            "tags": []
          },
          "execution_count": 7
        }
      ]
    },
    {
      "cell_type": "code",
      "metadata": {
        "colab": {
          "base_uri": "https://localhost:8080/",
          "height": 58
        },
        "id": "S6A92FxudmIJ",
        "outputId": "2e8d997f-f547-41d8-a9d9-c694a0cb7ec1"
      },
      "source": [
        "A - x*sp.eye(2)"
      ],
      "execution_count": null,
      "outputs": [
        {
          "output_type": "execute_result",
          "data": {
            "text/latex": "$\\displaystyle \\left[\\begin{matrix}- x & 1.6\\\\0.3 & 0.8 - x\\end{matrix}\\right]$",
            "text/plain": [
              "⎡-x     1.6  ⎤\n",
              "⎢            ⎥\n",
              "⎣0.3  0.8 - x⎦"
            ]
          },
          "metadata": {
            "tags": []
          },
          "execution_count": 8
        }
      ]
    },
    {
      "cell_type": "code",
      "metadata": {
        "colab": {
          "base_uri": "https://localhost:8080/",
          "height": 38
        },
        "id": "w_aDCHyzf8AW",
        "outputId": "9ce956b9-50f3-4efa-953f-35e8b603433c"
      },
      "source": [
        "(A - x*sp.eye(2)).det()"
      ],
      "execution_count": null,
      "outputs": [
        {
          "output_type": "execute_result",
          "data": {
            "image/png": "[encoded data removed]",
            "text/latex": "$\\displaystyle x^{2} - 0.8 x - 0.48$",
            "text/plain": [
              " 2               \n",
              "x  - 0.8⋅x - 0.48"
            ]
          },
          "metadata": {
            "tags": []
          },
          "execution_count": 9
        }
      ]
    },
    {
      "cell_type": "code",
      "metadata": {
        "colab": {
          "base_uri": "https://localhost:8080/",
          "height": 37
        },
        "id": "CWKe14vWdtoi",
        "outputId": "bc048017-3bea-495f-f39f-ccdfa7088522"
      },
      "source": [
        "solve((A - x*sp.eye(2)).det(), x)"
      ],
      "execution_count": null,
      "outputs": [
        {
          "output_type": "execute_result",
          "data": {
            "image/png": "[encoded data removed]",
            "text/latex": "$\\displaystyle \\left[ -0.4, \\  1.2\\right]$",
            "text/plain": [
              "[-0.4, 1.2]"
            ]
          },
          "metadata": {
            "tags": []
          },
          "execution_count": 10
        }
      ]
    },
    {
      "cell_type": "code",
      "metadata": {
        "colab": {
          "base_uri": "https://localhost:8080/",
          "height": 37
        },
        "id": "wXOyjvp7bHpn",
        "outputId": "512675dd-6eb3-41f7-a24d-dc3becfd3e4e"
      },
      "source": [
        "solve(x**2 - 0.8*x - 0.48, x)"
      ],
      "execution_count": null,
      "outputs": [
        {
          "output_type": "execute_result",
          "data": {
            "image/png": "[encoded data removed]",
            "text/latex": "$\\displaystyle \\left[ -0.4, \\  1.2\\right]$",
            "text/plain": [
              "[-0.4, 1.2]"
            ]
          },
          "metadata": {
            "tags": []
          },
          "execution_count": 11
        }
      ]
    },
    {
      "cell_type": "code",
      "metadata": {
        "colab": {
          "base_uri": "https://localhost:8080/",
          "height": 58
        },
        "id": "Cuva-8DMe4nc",
        "outputId": "bb1aed5b-6b8f-439d-87d2-4634cd820f96"
      },
      "source": [
        "S0 = (A - (-0.4)*sp.eye(2)).col_insert(2, Matrix([[0], [0]]))\n",
        "S0"
      ],
      "execution_count": null,
      "outputs": [
        {
          "output_type": "execute_result",
          "data": {
            "text/latex": "$\\displaystyle \\left[\\begin{matrix}0.4 & 1.6 & 0\\\\0.3 & 1.2 & 0\\end{matrix}\\right]$",
            "text/plain": [
              "⎡0.4  1.6  0⎤\n",
              "⎢           ⎥\n",
              "⎣0.3  1.2  0⎦"
            ]
          },
          "metadata": {
            "tags": []
          },
          "execution_count": 12
        }
      ]
    },
    {
      "cell_type": "code",
      "metadata": {
        "colab": {
          "base_uri": "https://localhost:8080/",
          "height": 38
        },
        "id": "9AV06nyUfGp6",
        "outputId": "53ffc498-02d5-448a-f831-f901eb1091e9"
      },
      "source": [
        "solve_linear_system(S0, x, y)"
      ],
      "execution_count": null,
      "outputs": [
        {
          "output_type": "execute_result",
          "data": {
            "image/png": "[encoded data removed]",
            "text/latex": "$\\displaystyle \\left\\{ x : 0, \\  y : 0\\right\\}$",
            "text/plain": [
              "{x: 0, y: 0}"
            ]
          },
          "metadata": {
            "tags": []
          },
          "execution_count": 13
        }
      ]
    },
    {
      "cell_type": "code",
      "metadata": {
        "colab": {
          "base_uri": "https://localhost:8080/",
          "height": 38
        },
        "id": "uGCM17eVb7cP",
        "outputId": "2ae9a8ce-dd5e-4d54-d4d3-8c9a82ab4691"
      },
      "source": [
        "solve_linear_system(Matrix([[-0.4, 1.6, 0], [0.3, 0.4, 0]]), x, y)"
      ],
      "execution_count": null,
      "outputs": [
        {
          "output_type": "execute_result",
          "data": {
            "image/png": "[encoded data removed]",
            "text/latex": "$\\displaystyle \\left\\{ x : 0, \\  y : 0\\right\\}$",
            "text/plain": [
              "{x: 0, y: 0}"
            ]
          },
          "metadata": {
            "tags": []
          },
          "execution_count": 14
        }
      ]
    },
    {
      "cell_type": "code",
      "metadata": {
        "colab": {
          "base_uri": "https://localhost:8080/",
          "height": 58
        },
        "id": "UhhUe2P2cT57",
        "outputId": "fe171be5-4749-4a32-f48f-4533150c4256"
      },
      "source": [
        "S = (A - 1.2*sp.eye(2)).col_insert(2, Matrix([[0], [0]]))\n",
        "S"
      ],
      "execution_count": null,
      "outputs": [
        {
          "output_type": "execute_result",
          "data": {
            "text/latex": "$\\displaystyle \\left[\\begin{matrix}-1.2 & 1.6 & 0\\\\0.3 & -0.4 & 0\\end{matrix}\\right]$",
            "text/plain": [
              "⎡-1.2  1.6   0⎤\n",
              "⎢             ⎥\n",
              "⎣0.3   -0.4  0⎦"
            ]
          },
          "metadata": {
            "tags": []
          },
          "execution_count": 15
        }
      ]
    },
    {
      "cell_type": "code",
      "metadata": {
        "colab": {
          "base_uri": "https://localhost:8080/",
          "height": 38
        },
        "id": "lZeT0KAhdRxb",
        "outputId": "5e9b5148-204b-4334-d2df-f70afad9c755"
      },
      "source": [
        "solve_linear_system(S, x, y)"
      ],
      "execution_count": null,
      "outputs": [
        {
          "output_type": "execute_result",
          "data": {
            "image/png": "[encoded data removed]",
            "text/latex": "$\\displaystyle \\left\\{ x : 0, \\  y : 0\\right\\}$",
            "text/plain": [
              "{x: 0, y: 0}"
            ]
          },
          "metadata": {
            "tags": []
          },
          "execution_count": 16
        }
      ]
    },
    {
      "cell_type": "code",
      "metadata": {
        "colab": {
          "base_uri": "https://localhost:8080/",
          "height": 58
        },
        "id": "-vwqsp7Di28i",
        "outputId": "3d7dadb6-961e-4ac0-cf6d-74f43440eac3"
      },
      "source": [
        "A**10 * b"
      ],
      "execution_count": null,
      "outputs": [
        {
          "output_type": "execute_result",
          "data": {
            "text/latex": "$\\displaystyle \\left[\\begin{matrix}773.96443136\\\\580.47594496\\end{matrix}\\right]$",
            "text/plain": [
              "⎡773.96443136⎤\n",
              "⎢            ⎥\n",
              "⎣580.47594496⎦"
            ]
          },
          "metadata": {
            "tags": []
          },
          "execution_count": 17
        }
      ]
    },
    {
      "cell_type": "code",
      "metadata": {
        "colab": {
          "base_uri": "https://localhost:8080/",
          "height": 58
        },
        "id": "_59nvFM4jCPP",
        "outputId": "fd2d4e06-fcc6-4e22-eb2e-ee3a941556ef"
      },
      "source": [
        "# C = Matrix([[-4, sp.Rational(4, 3)], [1, 1]])\n",
        "# C\n",
        "C = Matrix([[-4, 4], [1, 3]])\n",
        "C"
      ],
      "execution_count": null,
      "outputs": [
        {
          "output_type": "execute_result",
          "data": {
            "text/latex": "$\\displaystyle \\left[\\begin{matrix}-4 & 4\\\\1 & 3\\end{matrix}\\right]$",
            "text/plain": [
              "⎡-4  4⎤\n",
              "⎢     ⎥\n",
              "⎣1   3⎦"
            ]
          },
          "metadata": {
            "tags": []
          },
          "execution_count": 18
        }
      ]
    },
    {
      "cell_type": "code",
      "metadata": {
        "colab": {
          "base_uri": "https://localhost:8080/",
          "height": 58
        },
        "id": "jmd-GbKYj43k",
        "outputId": "71ba399f-e3e9-40ce-8ef5-6016f108f482"
      },
      "source": [
        "C.inv()"
      ],
      "execution_count": null,
      "outputs": [
        {
          "output_type": "execute_result",
          "data": {
            "text/latex": "$\\displaystyle \\left[\\begin{matrix}- \\frac{3}{16} & \\frac{1}{4}\\\\\\frac{1}{16} & \\frac{1}{4}\\end{matrix}\\right]$",
            "text/plain": [
              "⎡-3/16  1/4⎤\n",
              "⎢          ⎥\n",
              "⎣1/16   1/4⎦"
            ]
          },
          "metadata": {
            "tags": []
          },
          "execution_count": 19
        }
      ]
    },
    {
      "cell_type": "code",
      "metadata": {
        "colab": {
          "base_uri": "https://localhost:8080/",
          "height": 58
        },
        "id": "EDCs7FWnjMR6",
        "outputId": "f3dc145f-2b47-4ca3-d0cd-574dacefe820"
      },
      "source": [
        "B = Matrix([[-0.4, 0], [0, 1.2]])\n",
        "B"
      ],
      "execution_count": null,
      "outputs": [
        {
          "output_type": "execute_result",
          "data": {
            "text/latex": "$\\displaystyle \\left[\\begin{matrix}-0.4 & 0\\\\0 & 1.2\\end{matrix}\\right]$",
            "text/plain": [
              "⎡-0.4   0 ⎤\n",
              "⎢         ⎥\n",
              "⎣ 0    1.2⎦"
            ]
          },
          "metadata": {
            "tags": []
          },
          "execution_count": 20
        }
      ]
    },
    {
      "cell_type": "code",
      "metadata": {
        "colab": {
          "base_uri": "https://localhost:8080/",
          "height": 58
        },
        "id": "e-ODNh8VjaOE",
        "outputId": "af523755-8d26-476d-f7f4-27017660afc1"
      },
      "source": [
        "C*(B**10)*C.inv()*b"
      ],
      "execution_count": null,
      "outputs": [
        {
          "output_type": "execute_result",
          "data": {
            "text/latex": "$\\displaystyle \\left[\\begin{matrix}773.96443136\\\\580.47594496\\end{matrix}\\right]$",
            "text/plain": [
              "⎡773.96443136⎤\n",
              "⎢            ⎥\n",
              "⎣580.47594496⎦"
            ]
          },
          "metadata": {
            "tags": []
          },
          "execution_count": 21
        }
      ]
    },
    {
      "cell_type": "code",
      "metadata": {
        "colab": {
          "base_uri": "https://localhost:8080/",
          "height": 68
        },
        "id": "Bu9dyCMOQbiR",
        "outputId": "baaf0923-03be-4128-a4e8-83bd1a2d28eb"
      },
      "source": [
        "C*(B**x)*C.inv()"
      ],
      "execution_count": null,
      "outputs": [
        {
          "output_type": "execute_result",
          "data": {
            "text/latex": "$\\displaystyle \\left[\\begin{matrix}\\frac{3 \\left(-0.4\\right)^{x}}{4} + \\frac{1.2^{x}}{4} & - \\left(-0.4\\right)^{x} + 1.2^{x}\\\\- \\frac{3 \\left(-0.4\\right)^{x}}{16} + \\frac{3 \\cdot 1.2^{x}}{16} & \\frac{\\left(-0.4\\right)^{x}}{4} + \\frac{3 \\cdot 1.2^{x}}{4}\\end{matrix}\\right]$",
            "text/plain": [
              "⎡        x      x                  ⎤\n",
              "⎢  3⋅-0.4    1.2           x      x⎥\n",
              "⎢  ─────── + ────    - -0.4  + 1.2 ⎥\n",
              "⎢     4       4                    ⎥\n",
              "⎢                                  ⎥\n",
              "⎢        x        x      x        x⎥\n",
              "⎢  3⋅-0.4    3⋅1.2   -0.4    3⋅1.2 ⎥\n",
              "⎢- ─────── + ──────  ───── + ──────⎥\n",
              "⎣     16       16      4       4   ⎦"
            ]
          },
          "metadata": {
            "tags": []
          },
          "execution_count": 27
        }
      ]
    },
    {
      "cell_type": "code",
      "metadata": {
        "colab": {
          "base_uri": "https://localhost:8080/",
          "height": 98
        },
        "id": "oxmyMPit5UJY",
        "outputId": "9c11218a-54e3-4063-fed8-bd9b64112d0f"
      },
      "source": [
        "# 3\n",
        "\n",
        "A = Matrix([[1, 3, 5, 0, 4, 0], \n",
        "             [2, -1, 3, 1, 2, 0],\n",
        "             [-1, 2, 0, 4, 5, 0],\n",
        "             [4, 1, 9, 5, 10, 0]]\n",
        "            )\n",
        "A"
      ],
      "execution_count": null,
      "outputs": [
        {
          "output_type": "execute_result",
          "data": {
            "text/latex": "$\\displaystyle \\left[\\begin{matrix}1 & 3 & 5 & 0 & 4 & 0\\\\2 & -1 & 3 & 1 & 2 & 0\\\\-1 & 2 & 0 & 4 & 5 & 0\\\\4 & 1 & 9 & 5 & 10 & 0\\end{matrix}\\right]$",
            "text/plain": [
              "⎡1   3   5  0  4   0⎤\n",
              "⎢                   ⎥\n",
              "⎢2   -1  3  1  2   0⎥\n",
              "⎢                   ⎥\n",
              "⎢-1  2   0  4  5   0⎥\n",
              "⎢                   ⎥\n",
              "⎣4   1   9  5  10  0⎦"
            ]
          },
          "metadata": {
            "tags": []
          },
          "execution_count": 18
        }
      ]
    },
    {
      "cell_type": "code",
      "metadata": {
        "colab": {
          "base_uri": "https://localhost:8080/"
        },
        "id": "6ueSXOivQbFq",
        "outputId": "54e7785c-2d66-4845-8c78-576b75c6239e"
      },
      "source": [
        "print(solve_linear_system(A, x1, x2, x3, x4, x5))"
      ],
      "execution_count": null,
      "outputs": [
        {
          "output_type": "stream",
          "text": [
            "{x1: -2*x3 - x5, x2: -x3 - x5, x4: -x5}\n"
          ],
          "name": "stdout"
        }
      ]
    },
    {
      "cell_type": "code",
      "metadata": {
        "colab": {
          "base_uri": "https://localhost:8080/",
          "height": 98
        },
        "id": "k4mm0jaZX9jM",
        "outputId": "29b41fff-8eb6-4d4d-b285-f66cf412f7b2"
      },
      "source": [
        "A.rref()"
      ],
      "execution_count": null,
      "outputs": [
        {
          "output_type": "execute_result",
          "data": {
            "text/latex": "$\\displaystyle \\left( \\left[\\begin{matrix}1 & 0 & 2 & 0 & 1 & 0\\\\0 & 1 & 1 & 0 & 1 & 0\\\\0 & 0 & 0 & 1 & 1 & 0\\\\0 & 0 & 0 & 0 & 0 & 0\\end{matrix}\\right], \\  \\left( 0, \\  1, \\  3\\right)\\right)$",
            "text/plain": [
              "⎛⎡1  0  2  0  1  0⎤           ⎞\n",
              "⎜⎢                ⎥           ⎟\n",
              "⎜⎢0  1  1  0  1  0⎥           ⎟\n",
              "⎜⎢                ⎥, (0, 1, 3)⎟\n",
              "⎜⎢0  0  0  1  1  0⎥           ⎟\n",
              "⎜⎢                ⎥           ⎟\n",
              "⎝⎣0  0  0  0  0  0⎦           ⎠"
            ]
          },
          "metadata": {
            "tags": []
          },
          "execution_count": 24
        }
      ]
    },
    {
      "cell_type": "code",
      "metadata": {
        "colab": {
          "base_uri": "https://localhost:8080/",
          "height": 58
        },
        "id": "R_KNUf7jhkDf",
        "outputId": "4d2f3068-6653-460a-dad4-6f64a52e4f8a"
      },
      "source": [
        "# 5\n",
        "\n",
        "A = Matrix([[0, 1], [-4, 4]])\n",
        "A"
      ],
      "execution_count": null,
      "outputs": [
        {
          "output_type": "execute_result",
          "data": {
            "text/latex": "$\\displaystyle \\left[\\begin{matrix}0 & 1\\\\-4 & 4\\end{matrix}\\right]$",
            "text/plain": [
              "⎡0   1⎤\n",
              "⎢     ⎥\n",
              "⎣-4  4⎦"
            ]
          },
          "metadata": {
            "tags": []
          },
          "execution_count": 25
        }
      ]
    },
    {
      "cell_type": "code",
      "metadata": {
        "colab": {
          "base_uri": "https://localhost:8080/",
          "height": 58
        },
        "id": "PNNxOq4jhs6d",
        "outputId": "66797d28-d10c-4baf-875e-462288b6462e"
      },
      "source": [
        "b = Matrix([[0], [-4]])\n",
        "b"
      ],
      "execution_count": null,
      "outputs": [
        {
          "output_type": "execute_result",
          "data": {
            "text/latex": "$\\displaystyle \\left[\\begin{matrix}0\\\\-4\\end{matrix}\\right]$",
            "text/plain": [
              "⎡0 ⎤\n",
              "⎢  ⎥\n",
              "⎣-4⎦"
            ]
          },
          "metadata": {
            "tags": []
          },
          "execution_count": 38
        }
      ]
    },
    {
      "cell_type": "code",
      "metadata": {
        "colab": {
          "base_uri": "https://localhost:8080/",
          "height": 58
        },
        "id": "pWLg3o0Eh0xV",
        "outputId": "f3c9058b-8564-415c-a02f-363504756c50"
      },
      "source": [
        "A*b"
      ],
      "execution_count": null,
      "outputs": [
        {
          "output_type": "execute_result",
          "data": {
            "text/latex": "$\\displaystyle \\left[\\begin{matrix}-4\\\\-16\\end{matrix}\\right]$",
            "text/plain": [
              "⎡-4 ⎤\n",
              "⎢   ⎥\n",
              "⎣-16⎦"
            ]
          },
          "metadata": {
            "tags": []
          },
          "execution_count": 39
        }
      ]
    },
    {
      "cell_type": "code",
      "metadata": {
        "colab": {
          "base_uri": "https://localhost:8080/",
          "height": 58
        },
        "id": "sf3Zg7EJiJFU",
        "outputId": "5021345c-a944-4cde-faf6-84f5a4ed6b9c"
      },
      "source": [
        "A - x*sp.eye(2)"
      ],
      "execution_count": null,
      "outputs": [
        {
          "output_type": "execute_result",
          "data": {
            "text/latex": "$\\displaystyle \\left[\\begin{matrix}- x & 1\\\\-4 & 4 - x\\end{matrix}\\right]$",
            "text/plain": [
              "⎡-x    1  ⎤\n",
              "⎢         ⎥\n",
              "⎣-4  4 - x⎦"
            ]
          },
          "metadata": {
            "tags": []
          },
          "execution_count": 40
        }
      ]
    },
    {
      "cell_type": "code",
      "metadata": {
        "colab": {
          "base_uri": "https://localhost:8080/",
          "height": 38
        },
        "id": "1mcUPZbonptJ",
        "outputId": "5fce4267-d211-4238-ae2f-a9a17d42ac1e"
      },
      "source": [
        "(A - x*sp.eye(2)).det()"
      ],
      "execution_count": null,
      "outputs": [
        {
          "output_type": "execute_result",
          "data": {
            "image/png": "[encoded data removed]",
            "text/latex": "$\\displaystyle x^{2} - 4 x + 4$",
            "text/plain": [
              " 2          \n",
              "x  - 4⋅x + 4"
            ]
          },
          "metadata": {
            "tags": []
          },
          "execution_count": 41
        }
      ]
    },
    {
      "cell_type": "code",
      "metadata": {
        "colab": {
          "base_uri": "https://localhost:8080/",
          "height": 37
        },
        "id": "5_jtHRgpn158",
        "outputId": "afefcac7-e7db-43b9-a4c8-ecc350588686"
      },
      "source": [
        "solve((A - x*sp.eye(2)).det(), x)"
      ],
      "execution_count": null,
      "outputs": [
        {
          "output_type": "execute_result",
          "data": {
            "image/png": "[encoded data removed]",
            "text/latex": "$\\displaystyle \\left[ 2\\right]$",
            "text/plain": [
              "[2]"
            ]
          },
          "metadata": {
            "tags": []
          },
          "execution_count": 42
        }
      ]
    },
    {
      "cell_type": "code",
      "metadata": {
        "colab": {
          "base_uri": "https://localhost:8080/",
          "height": 58
        },
        "id": "r15QSELw2zJW",
        "outputId": "381c7779-d52f-40c4-eb93-69f7cd3c439b"
      },
      "source": [
        "# part b\n",
        "A = Matrix([[0, 1], [-sp.Rational(1, 2), sp.Rational(3, 2)]])\n",
        "A"
      ],
      "execution_count": null,
      "outputs": [
        {
          "output_type": "execute_result",
          "data": {
            "text/latex": "$\\displaystyle \\left[\\begin{matrix}0 & 1\\\\- \\frac{1}{2} & \\frac{3}{2}\\end{matrix}\\right]$",
            "text/plain": [
              "⎡ 0     1 ⎤\n",
              "⎢         ⎥\n",
              "⎣-1/2  3/2⎦"
            ]
          },
          "metadata": {
            "tags": []
          },
          "execution_count": 44
        }
      ]
    },
    {
      "cell_type": "code",
      "metadata": {
        "colab": {
          "base_uri": "https://localhost:8080/",
          "height": 58
        },
        "id": "SH_Smk-Y29b3",
        "outputId": "07d58ac7-59fa-4c7b-e740-a0d4523c6eb2"
      },
      "source": [
        "b = Matrix([[0], [2]])\n",
        "b"
      ],
      "execution_count": null,
      "outputs": [
        {
          "output_type": "execute_result",
          "data": {
            "text/latex": "$\\displaystyle \\left[\\begin{matrix}0\\\\2\\end{matrix}\\right]$",
            "text/plain": [
              "⎡0⎤\n",
              "⎢ ⎥\n",
              "⎣2⎦"
            ]
          },
          "metadata": {
            "tags": []
          },
          "execution_count": 70
        }
      ]
    },
    {
      "cell_type": "code",
      "metadata": {
        "colab": {
          "base_uri": "https://localhost:8080/",
          "height": 58
        },
        "id": "Kzcct2tn3GC5",
        "outputId": "c90a8d21-e037-4340-a343-7fbdedf1764d"
      },
      "source": [
        "A*b"
      ],
      "execution_count": null,
      "outputs": [
        {
          "output_type": "execute_result",
          "data": {
            "text/latex": "$\\displaystyle \\left[\\begin{matrix}2\\\\3\\end{matrix}\\right]$",
            "text/plain": [
              "⎡2⎤\n",
              "⎢ ⎥\n",
              "⎣3⎦"
            ]
          },
          "metadata": {
            "tags": []
          },
          "execution_count": 71
        }
      ]
    },
    {
      "cell_type": "code",
      "metadata": {
        "colab": {
          "base_uri": "https://localhost:8080/",
          "height": 58
        },
        "id": "kpQsvFRM3LyX",
        "outputId": "6fdd7110-1e52-4d72-f635-ae1730b2d3e7"
      },
      "source": [
        "solve((A - x*sp.eye(2)).det(), x)"
      ],
      "execution_count": null,
      "outputs": [
        {
          "output_type": "execute_result",
          "data": {
            "image/png": "[encoded data removed]",
            "text/latex": "$\\displaystyle \\left[ \\frac{1}{2}, \\  1\\right]$",
            "text/plain": [
              "[1/2, 1]"
            ]
          },
          "metadata": {
            "tags": []
          },
          "execution_count": 50
        }
      ]
    },
    {
      "cell_type": "code",
      "metadata": {
        "colab": {
          "base_uri": "https://localhost:8080/",
          "height": 58
        },
        "id": "GBNoFoL-3aNL",
        "outputId": "972324ee-c8d3-4c38-aac2-0b07c1c38e4c"
      },
      "source": [
        "S = (A - sp.Rational(1, 2)*sp.eye(2)).col_insert(2, Matrix([[0], [0]]))\n",
        "S"
      ],
      "execution_count": null,
      "outputs": [
        {
          "output_type": "execute_result",
          "data": {
            "text/latex": "$\\displaystyle \\left[\\begin{matrix}- \\frac{1}{2} & 1 & 0\\\\- \\frac{1}{2} & 1 & 0\\end{matrix}\\right]$",
            "text/plain": [
              "⎡-1/2  1  0⎤\n",
              "⎢          ⎥\n",
              "⎣-1/2  1  0⎦"
            ]
          },
          "metadata": {
            "tags": []
          },
          "execution_count": 62
        }
      ]
    },
    {
      "cell_type": "code",
      "metadata": {
        "colab": {
          "base_uri": "https://localhost:8080/",
          "height": 38
        },
        "id": "ioMdGd1o3o1b",
        "outputId": "ad7b077c-db36-4982-9bc4-aea369195f0e"
      },
      "source": [
        "solve_linear_system(S, x, y)"
      ],
      "execution_count": null,
      "outputs": [
        {
          "output_type": "execute_result",
          "data": {
            "image/png": "[encoded data removed]",
            "text/latex": "$\\displaystyle \\left\\{ x : 2 y\\right\\}$",
            "text/plain": [
              "{x: 2⋅y}"
            ]
          },
          "metadata": {
            "tags": []
          },
          "execution_count": 63
        }
      ]
    },
    {
      "cell_type": "code",
      "metadata": {
        "colab": {
          "base_uri": "https://localhost:8080/",
          "height": 58
        },
        "id": "Kc6SxbHg3ycx",
        "outputId": "03ab34cb-b092-4737-873d-af453ab8ce7c"
      },
      "source": [
        "S = (A - sp.eye(2)).col_insert(2, Matrix([[0], [0]]))\n",
        "S"
      ],
      "execution_count": null,
      "outputs": [
        {
          "output_type": "execute_result",
          "data": {
            "text/latex": "$\\displaystyle \\left[\\begin{matrix}-1 & 1 & 0\\\\- \\frac{1}{2} & \\frac{1}{2} & 0\\end{matrix}\\right]$",
            "text/plain": [
              "⎡ -1    1   0⎤\n",
              "⎢            ⎥\n",
              "⎣-1/2  1/2  0⎦"
            ]
          },
          "metadata": {
            "tags": []
          },
          "execution_count": 64
        }
      ]
    },
    {
      "cell_type": "code",
      "metadata": {
        "colab": {
          "base_uri": "https://localhost:8080/",
          "height": 38
        },
        "id": "Wy-55Itq4Rot",
        "outputId": "3e821848-0e37-4241-8457-40aa9d61b0dd"
      },
      "source": [
        "solve_linear_system(S, x, y)"
      ],
      "execution_count": null,
      "outputs": [
        {
          "output_type": "execute_result",
          "data": {
            "image/png": "[encoded data removed]",
            "text/latex": "$\\displaystyle \\left\\{ x : y\\right\\}$",
            "text/plain": [
              "{x: y}"
            ]
          },
          "metadata": {
            "tags": []
          },
          "execution_count": 65
        }
      ]
    },
    {
      "cell_type": "code",
      "metadata": {
        "colab": {
          "base_uri": "https://localhost:8080/",
          "height": 58
        },
        "id": "HJpEuyRc4Xfy",
        "outputId": "d327a846-63c3-45a7-8f56-56954ad93807"
      },
      "source": [
        "C = Matrix([[2, 1], [1, 1]])\n",
        "C"
      ],
      "execution_count": null,
      "outputs": [
        {
          "output_type": "execute_result",
          "data": {
            "text/latex": "$\\displaystyle \\left[\\begin{matrix}2 & 1\\\\1 & 1\\end{matrix}\\right]$",
            "text/plain": [
              "⎡2  1⎤\n",
              "⎢    ⎥\n",
              "⎣1  1⎦"
            ]
          },
          "metadata": {
            "tags": []
          },
          "execution_count": 66
        }
      ]
    },
    {
      "cell_type": "code",
      "metadata": {
        "colab": {
          "base_uri": "https://localhost:8080/",
          "height": 58
        },
        "id": "uEztRplL44GG",
        "outputId": "5a1888ad-285f-4f0d-a289-bc19db6de430"
      },
      "source": [
        "C.inv()"
      ],
      "execution_count": null,
      "outputs": [
        {
          "output_type": "execute_result",
          "data": {
            "text/latex": "$\\displaystyle \\left[\\begin{matrix}1 & -1\\\\-1 & 2\\end{matrix}\\right]$",
            "text/plain": [
              "⎡1   -1⎤\n",
              "⎢      ⎥\n",
              "⎣-1  2 ⎦"
            ]
          },
          "metadata": {
            "tags": []
          },
          "execution_count": 67
        }
      ]
    },
    {
      "cell_type": "code",
      "metadata": {
        "colab": {
          "base_uri": "https://localhost:8080/",
          "height": 58
        },
        "id": "5UiZAp_y46F9",
        "outputId": "887eef1a-46ad-4518-c974-02dc3b3f5455"
      },
      "source": [
        "C*A*C.inv()"
      ],
      "execution_count": null,
      "outputs": [
        {
          "output_type": "execute_result",
          "data": {
            "text/latex": "$\\displaystyle \\left[\\begin{matrix}-4 & \\frac{15}{2}\\\\-3 & \\frac{11}{2}\\end{matrix}\\right]$",
            "text/plain": [
              "⎡-4  15/2⎤\n",
              "⎢        ⎥\n",
              "⎣-3  11/2⎦"
            ]
          },
          "metadata": {
            "tags": []
          },
          "execution_count": 68
        }
      ]
    },
    {
      "cell_type": "code",
      "metadata": {
        "colab": {
          "base_uri": "https://localhost:8080/",
          "height": 58
        },
        "id": "uD_WR_St9nz6",
        "outputId": "f4e77461-f771-4553-f6b8-81e1f88c7b16"
      },
      "source": [
        "A"
      ],
      "execution_count": null,
      "outputs": [
        {
          "output_type": "execute_result",
          "data": {
            "text/latex": "$\\displaystyle \\left[\\begin{matrix}0 & 1\\\\- \\frac{1}{2} & \\frac{3}{2}\\end{matrix}\\right]$",
            "text/plain": [
              "⎡ 0     1 ⎤\n",
              "⎢         ⎥\n",
              "⎣-1/2  3/2⎦"
            ]
          },
          "metadata": {
            "tags": []
          },
          "execution_count": 69
        }
      ]
    },
    {
      "cell_type": "code",
      "metadata": {
        "colab": {
          "base_uri": "https://localhost:8080/"
        },
        "id": "2WBYa-4C9uzJ",
        "outputId": "e980d0de-8e49-4f2a-e67e-f83f2e309f3d"
      },
      "source": [
        "experience = ['Вагнер', 7, 'Лисов', 3, 'Тихомиров', 12, 'z', 7]\n",
        "[*zip(l[::2], l[1::2])]"
      ],
      "execution_count": null,
      "outputs": [
        {
          "output_type": "execute_result",
          "data": {
            "text/plain": [
              "[('Вагнер', 7), ('Лисов', 3), ('Тихомиров', 12)]"
            ]
          },
          "metadata": {
            "tags": []
          },
          "execution_count": 93
        }
      ]
    },
    {
      "cell_type": "code",
      "metadata": {
        "id": "mcwnCmbLN_0R"
      },
      "source": [
        "# res = sorted(\n",
        "#     [*zip(experience[::2], experience [1::2])],\n",
        "#      key=lambda x: x[1])[0][0])\n",
        "# print(res)"
      ],
      "execution_count": null,
      "outputs": []
    },
    {
      "cell_type": "code",
      "metadata": {
        "id": "Hyv3aH-BP-wd"
      },
      "source": [
        "# [sorted(, key=lambda x: x[1], reverse=True)[0][0]]\n"
      ],
      "execution_count": null,
      "outputs": []
    },
    {
      "cell_type": "code",
      "metadata": {
        "colab": {
          "base_uri": "https://localhost:8080/"
        },
        "id": "vevlQ_F7QZIQ",
        "outputId": "6fc0dfff-2ee5-4b08-8500-98dec38f5c25"
      },
      "source": [
        "temp = dict()\n",
        "for el in [*zip(experience [1::2], experience[::2])]:\n",
        "    try:\n",
        "        temp[el[0]].append(el[1])\n",
        "    except KeyError:\n",
        "        temp[el[0]] = [el[1]]\n",
        "\n",
        "\n",
        "print(sorted(list(temp.items()), key=lambda x: x[0], reverse=True)[0][1])\n"
      ],
      "execution_count": null,
      "outputs": [
        {
          "output_type": "stream",
          "text": [
            "['Тихомиров']\n"
          ],
          "name": "stdout"
        }
      ]
    },
    {
      "cell_type": "code",
      "metadata": {
        "colab": {
          "base_uri": "https://localhost:8080/"
        },
        "id": "XhWxLNEgRFae",
        "outputId": "58ca22d5-15c7-408e-f64e-2f6185233661"
      },
      "source": [
        "list(temp.items())"
      ],
      "execution_count": null,
      "outputs": [
        {
          "output_type": "execute_result",
          "data": {
            "text/plain": [
              "[(7, ['Вагнер', 'z']), (3, ['Лисов']), (12, ['Тихомиров'])]"
            ]
          },
          "metadata": {
            "tags": []
          },
          "execution_count": 98
        }
      ]
    },
    {
      "cell_type": "code",
      "metadata": {
        "colab": {
          "base_uri": "https://localhost:8080/"
        },
        "id": "VVexehENR2ee",
        "outputId": "67436a05-3bb2-459d-945d-0c6ce5471e37"
      },
      "source": [
        "query = ['Олег', 'Ольга', 'Юлия', 'Елена']\n",
        "\n",
        "print(query[1:] + query[:1])"
      ],
      "execution_count": null,
      "outputs": [
        {
          "output_type": "stream",
          "text": [
            "['Ольга', 'Юлия', 'Елена', 'Олег']\n"
          ],
          "name": "stdout"
        }
      ]
    },
    {
      "cell_type": "code",
      "metadata": {
        "colab": {
          "base_uri": "https://localhost:8080/"
        },
        "id": "-ZlnojZvNCDe",
        "outputId": "c21962cd-dfd7-47d7-bcd4-a3f9c3129ca0"
      },
      "source": [
        "lst = ['four', '4', 4, 'четыре']\n",
        "res = [True if type(el) is str else False for el in lst]\n",
        "print(res)"
      ],
      "execution_count": null,
      "outputs": [
        {
          "output_type": "stream",
          "text": [
            "[True, True, False, True]\n"
          ],
          "name": "stdout"
        }
      ]
    },
    {
      "cell_type": "code",
      "metadata": {
        "colab": {
          "base_uri": "https://localhost:8080/"
        },
        "id": "aLcOnDuBO2hw",
        "outputId": "91c19d72-66eb-4449-f500-ba6164abd244"
      },
      "source": [
        "res = []\n",
        "for l in lst:\n",
        "    if type(l) == str:\n",
        "        res.append(True)\n",
        "    else:\n",
        "        res.append(False)\n",
        "print(res)"
      ],
      "execution_count": null,
      "outputs": [
        {
          "output_type": "stream",
          "text": [
            "[True, True, False, True]\n"
          ],
          "name": "stdout"
        }
      ]
    },
    {
      "cell_type": "code",
      "metadata": {
        "colab": {
          "base_uri": "https://localhost:8080/"
        },
        "id": "LyvB4v2HShzL",
        "outputId": "157a1422-cf27-417f-8716-252712669b3a"
      },
      "source": [
        "names = ['Петров', 'Сидоров']\n",
        "tabs = [123, 124]\n",
        "\n",
        "print([name + '  '  +  str(tab) for name, tab in zip(names, tabs)])"
      ],
      "execution_count": null,
      "outputs": [
        {
          "output_type": "stream",
          "text": [
            "['Петров  123', 'Сидоров  124']\n"
          ],
          "name": "stdout"
        }
      ]
    },
    {
      "cell_type": "code",
      "metadata": {
        "colab": {
          "base_uri": "https://localhost:8080/"
        },
        "id": "S9bIWmRyWISR",
        "outputId": "d9d91d99-ed21-421f-fb71-38de79738d06"
      },
      "source": [
        "my_list=[i+j for i, j in zip(range(10), range(10,20)) if i%3==0 or j%3==0]\n",
        "my_list"
      ],
      "execution_count": null,
      "outputs": [
        {
          "output_type": "execute_result",
          "data": {
            "text/plain": [
              "[10, 14, 16, 20, 22, 26, 28]"
            ]
          },
          "metadata": {
            "tags": []
          },
          "execution_count": 13
        }
      ]
    },
    {
      "cell_type": "code",
      "metadata": {
        "colab": {
          "base_uri": "https://localhost:8080/"
        },
        "id": "YQisOh-IWOkg",
        "outputId": "cdbe98c1-68ba-4ecd-c2b6-26d6e0d1241d"
      },
      "source": [
        "my_list = []\n",
        "for i, j in zip(range(10), range(10, 20)):\n",
        "       if i % 3 == 0 or j % 3 == 0:\n",
        "             my_list.append(i + j)\n",
        "\n",
        "my_list"
      ],
      "execution_count": null,
      "outputs": [
        {
          "output_type": "execute_result",
          "data": {
            "text/plain": [
              "[10, 14, 16, 20, 22, 26, 28]"
            ]
          },
          "metadata": {
            "tags": []
          },
          "execution_count": 15
        }
      ]
    },
    {
      "cell_type": "code",
      "metadata": {
        "colab": {
          "base_uri": "https://localhost:8080/"
        },
        "id": "U85buLHKkXMU",
        "outputId": "6fe52740-819f-4e32-c472-33c04ddd2971"
      },
      "source": [
        "my_dict = dict([['Иванов', 11], ['Петров', 12], ['Антонов', 13], ['Ильичев', 14]])\n",
        "my_dict"
      ],
      "execution_count": null,
      "outputs": [
        {
          "output_type": "execute_result",
          "data": {
            "text/plain": [
              "{'Антонов': 13, 'Иванов': 11, 'Ильичев': 14, 'Петров': 12}"
            ]
          },
          "metadata": {
            "tags": []
          },
          "execution_count": 19
        }
      ]
    },
    {
      "cell_type": "code",
      "metadata": {
        "colab": {
          "base_uri": "https://localhost:8080/"
        },
        "id": "fWEY7oyLx4vj",
        "outputId": "ae6930cf-d357-4d12-d176-c32a8869f542"
      },
      "source": [
        "exp = [['Андрей', 179], ['Вова', 165], ['Юра', 166], ['Андрей', 170]]\n",
        "\n",
        "num_trials = len(exp)\n",
        "num_participants = len(set([el[0] for el in exp]))\n",
        "mean = sum([el[1] for el  in exp]) // num_trials\n",
        "print([num_trials, num_participants, mean])"
      ],
      "execution_count": null,
      "outputs": [
        {
          "output_type": "stream",
          "text": [
            "[4, 3, 170]\n"
          ],
          "name": "stdout"
        }
      ]
    },
    {
      "cell_type": "code",
      "metadata": {
        "colab": {
          "base_uri": "https://localhost:8080/",
          "height": 38
        },
        "id": "pxhALKRl0dlc",
        "outputId": "c8bb6001-d72b-402e-9012-89eb3419e15e"
      },
      "source": [
        "A = Matrix([[-sp.Rational(1, 2), 0, sp.Rational(3, 2)]])\n",
        "A"
      ],
      "execution_count": null,
      "outputs": [
        {
          "output_type": "execute_result",
          "data": {
            "text/latex": "$\\displaystyle \\left[\\begin{matrix}- \\frac{1}{2} & 0 & \\frac{3}{2}\\end{matrix}\\right]$",
            "text/plain": [
              "[-1/2  0  3/2]"
            ]
          },
          "metadata": {
            "tags": []
          },
          "execution_count": 28
        }
      ]
    },
    {
      "cell_type": "code",
      "metadata": {
        "colab": {
          "base_uri": "https://localhost:8080/",
          "height": 78
        },
        "id": "8E30iNgThw8e",
        "outputId": "46218970-3152-4957-c0f6-a6b805ef189e"
      },
      "source": [
        "b = Matrix([[0], [1], [2]])\n",
        "b"
      ],
      "execution_count": null,
      "outputs": [
        {
          "output_type": "execute_result",
          "data": {
            "text/latex": "$\\displaystyle \\left[\\begin{matrix}0\\\\1\\\\2\\end{matrix}\\right]$",
            "text/plain": [
              "⎡0⎤\n",
              "⎢ ⎥\n",
              "⎢1⎥\n",
              "⎢ ⎥\n",
              "⎣2⎦"
            ]
          },
          "metadata": {
            "tags": []
          },
          "execution_count": 29
        }
      ]
    },
    {
      "cell_type": "code",
      "metadata": {
        "colab": {
          "base_uri": "https://localhost:8080/",
          "height": 38
        },
        "id": "_AilrmJNh4nF",
        "outputId": "a331f2fb-1efc-409b-8870-39c33733e7c2"
      },
      "source": [
        "A*b"
      ],
      "execution_count": null,
      "outputs": [
        {
          "output_type": "execute_result",
          "data": {
            "text/latex": "$\\displaystyle \\left[\\begin{matrix}3\\end{matrix}\\right]$",
            "text/plain": [
              "[3]"
            ]
          },
          "metadata": {
            "tags": []
          },
          "execution_count": 30
        }
      ]
    },
    {
      "cell_type": "code",
      "metadata": {
        "colab": {
          "base_uri": "https://localhost:8080/",
          "height": 38
        },
        "id": "DtY_Evrd0yNp",
        "outputId": "dd553d7b-71e9-47e5-c8a3-1583971741fd"
      },
      "source": [
        "sp.expand((x + y)**4)"
      ],
      "execution_count": null,
      "outputs": [
        {
          "output_type": "execute_result",
          "data": {
            "image/png": "[encoded data removed]",
            "text/latex": "$\\displaystyle x^{4} + 4 x^{3} y + 6 x^{2} y^{2} + 4 x y^{3} + y^{4}$",
            "text/plain": [
              " 4      3        2  2        3    4\n",
              "x  + 4⋅x ⋅y + 6⋅x ⋅y  + 4⋅x⋅y  + y "
            ]
          },
          "metadata": {
            "tags": []
          },
          "execution_count": 5
        }
      ]
    },
    {
      "cell_type": "code",
      "metadata": {
        "colab": {
          "base_uri": "https://localhost:8080/",
          "height": 78
        },
        "id": "dyVkhR-X8yhR",
        "outputId": "6ab3566b-459a-4138-cc5d-c7af4e21a691"
      },
      "source": [
        "A = Matrix([[1, 1, -sp.Rational(1, 2)], [1, -1, 1], [-sp.Rational(1, 2), 1, 1]])\n",
        "A"
      ],
      "execution_count": null,
      "outputs": [
        {
          "output_type": "execute_result",
          "data": {
            "text/latex": "$\\displaystyle \\left[\\begin{matrix}1 & 1 & - \\frac{1}{2}\\\\1 & -1 & 1\\\\- \\frac{1}{2} & 1 & 1\\end{matrix}\\right]$",
            "text/plain": [
              "⎡ 1    1   -1/2⎤\n",
              "⎢              ⎥\n",
              "⎢ 1    -1   1  ⎥\n",
              "⎢              ⎥\n",
              "⎣-1/2  1    1  ⎦"
            ]
          },
          "metadata": {
            "tags": []
          },
          "execution_count": 7
        }
      ]
    },
    {
      "cell_type": "code",
      "metadata": {
        "id": "dFy78gny1vpI",
        "colab": {
          "base_uri": "https://localhost:8080/",
          "height": 78
        },
        "outputId": "60d22956-b469-4296-de24-b73cf76bb28d"
      },
      "source": [
        "D = Matrix([[2, -1, 0], [0, 2, -1], [-1, -1, 1]])\n",
        "D"
      ],
      "execution_count": null,
      "outputs": [
        {
          "output_type": "execute_result",
          "data": {
            "text/latex": "$\\displaystyle \\left[\\begin{matrix}2 & -1 & 0\\\\0 & 2 & -1\\\\-1 & -1 & 1\\end{matrix}\\right]$",
            "text/plain": [
              "⎡2   -1  0 ⎤\n",
              "⎢          ⎥\n",
              "⎢0   2   -1⎥\n",
              "⎢          ⎥\n",
              "⎣-1  -1  1 ⎦"
            ]
          },
          "metadata": {
            "tags": []
          },
          "execution_count": 2
        }
      ]
    },
    {
      "cell_type": "code",
      "metadata": {
        "colab": {
          "base_uri": "https://localhost:8080/"
        },
        "id": "hWpxmwpT8AzG",
        "outputId": "fc40703a-a59f-4fa7-bced-0de609c7fdfa"
      },
      "source": [
        "C = D.inv()\n",
        "print(C)"
      ],
      "execution_count": null,
      "outputs": [
        {
          "output_type": "stream",
          "text": [
            "Matrix([[1, 1, 1], [1, 2, 2], [2, 3, 4]])\n"
          ],
          "name": "stdout"
        }
      ]
    },
    {
      "cell_type": "code",
      "metadata": {
        "colab": {
          "base_uri": "https://localhost:8080/"
        },
        "id": "VeLSX0tg8v1_",
        "outputId": "e9112c3c-aecf-4372-aaa4-d9d450511fc3"
      },
      "source": [
        "print(C.T * A * C)"
      ],
      "execution_count": null,
      "outputs": [
        {
          "output_type": "stream",
          "text": [
            "Matrix([[8, 25/2, 15], [25/2, 19, 47/2], [15, 47/2, 29]])\n"
          ],
          "name": "stdout"
        }
      ]
    },
    {
      "cell_type": "code",
      "metadata": {
        "colab": {
          "base_uri": "https://localhost:8080/"
        },
        "id": "P2CANqtIHhXE",
        "outputId": "bcc83d95-16dd-4138-877d-f9dfe5f620b7"
      },
      "source": [
        "print(C.T)"
      ],
      "execution_count": null,
      "outputs": [
        {
          "output_type": "stream",
          "text": [
            "Matrix([[1, 1, 2], [1, 2, 3], [1, 2, 4]])\n"
          ],
          "name": "stdout"
        }
      ]
    },
    {
      "cell_type": "code",
      "metadata": {
        "colab": {
          "base_uri": "https://localhost:8080/"
        },
        "id": "ePK6_4zYOS5j",
        "outputId": "a9446a80-e1ec-4ecc-e8c5-e44111abe58e"
      },
      "source": [
        "A = Matrix([[1, x, 5], [x, 4, 3], [5, 3, 1]])\n",
        "print(A)"
      ],
      "execution_count": null,
      "outputs": [
        {
          "output_type": "stream",
          "text": [
            "Matrix([[1, x, 5], [x, 4, 3], [5, 3, 1]])\n"
          ],
          "name": "stdout"
        }
      ]
    },
    {
      "cell_type": "code",
      "metadata": {
        "colab": {
          "base_uri": "https://localhost:8080/"
        },
        "id": "F46tLgFNSOkL",
        "outputId": "0c47fcd0-d48b-434f-df77-4ff23efa8af5"
      },
      "source": [
        "print(A.det())"
      ],
      "execution_count": null,
      "outputs": [
        {
          "output_type": "stream",
          "text": [
            "-x**2 + 30*x - 105\n"
          ],
          "name": "stdout"
        }
      ]
    },
    {
      "cell_type": "code",
      "metadata": {
        "colab": {
          "base_uri": "https://localhost:8080/"
        },
        "id": "M6mv_ecEOdIR",
        "outputId": "88e2debd-df5d-42b5-9ec1-2a0be74216d1"
      },
      "source": [
        "print(solve(A.det(), x))"
      ],
      "execution_count": null,
      "outputs": [
        {
          "output_type": "stream",
          "text": [
            "[15 - 2*sqrt(30), 2*sqrt(30) + 15]\n"
          ],
          "name": "stdout"
        }
      ]
    },
    {
      "cell_type": "code",
      "metadata": {
        "colab": {
          "base_uri": "https://localhost:8080/",
          "height": 78
        },
        "id": "UTW2HFRIbb6q",
        "outputId": "d8486f33-d3e0-49fc-ff9a-f7b57bee5466"
      },
      "source": [
        "A = Matrix([[-1, 2, 0], [2, x, 4], [0, 4, -1]])\n",
        "A"
      ],
      "execution_count": null,
      "outputs": [
        {
          "output_type": "execute_result",
          "data": {
            "text/latex": "$\\displaystyle \\left[\\begin{matrix}-1 & 2 & 0\\\\2 & x & 4\\\\0 & 4 & -1\\end{matrix}\\right]$",
            "text/plain": [
              "⎡-1  2  0 ⎤\n",
              "⎢         ⎥\n",
              "⎢2   x  4 ⎥\n",
              "⎢         ⎥\n",
              "⎣0   4  -1⎦"
            ]
          },
          "metadata": {
            "tags": []
          },
          "execution_count": 3
        }
      ]
    },
    {
      "cell_type": "code",
      "metadata": {
        "colab": {
          "base_uri": "https://localhost:8080/",
          "height": 38
        },
        "id": "5OkmI4iAbwSI",
        "outputId": "d9369b8d-5f70-472a-b1b0-be803082d5af"
      },
      "source": [
        "A.det()"
      ],
      "execution_count": null,
      "outputs": [
        {
          "output_type": "execute_result",
          "data": {
            "image/png": "[encoded data removed]",
            "text/latex": "$\\displaystyle x + 20$",
            "text/plain": [
              "x + 20"
            ]
          },
          "metadata": {
            "tags": []
          },
          "execution_count": 4
        }
      ]
    },
    {
      "cell_type": "code",
      "metadata": {
        "colab": {
          "base_uri": "https://localhost:8080/",
          "height": 37
        },
        "id": "39g1ED7Cbo5h",
        "outputId": "b32f3218-bfc3-4f0f-9bb3-4efb97c5f534"
      },
      "source": [
        "solve(A.det(), x)"
      ],
      "execution_count": null,
      "outputs": [
        {
          "output_type": "execute_result",
          "data": {
            "image/png": "[encoded data removed]",
            "text/latex": "$\\displaystyle \\left[ -22\\right]$",
            "text/plain": [
              "[-22]"
            ]
          },
          "metadata": {
            "tags": []
          },
          "execution_count": 20
        }
      ]
    },
    {
      "cell_type": "code",
      "metadata": {
        "colab": {
          "base_uri": "https://localhost:8080/",
          "height": 78
        },
        "id": "nlDB1IjDtXcZ",
        "outputId": "99e69193-6f40-4df0-a5af-4b35bd591fc2"
      },
      "source": [
        "# 4\n",
        "\n",
        "A = Matrix([[1, 1, 2], [1, 2, 1], [2, 1, 1]])\n",
        "A"
      ],
      "execution_count": null,
      "outputs": [
        {
          "output_type": "execute_result",
          "data": {
            "text/latex": "$\\displaystyle \\left[\\begin{matrix}1 & 1 & 2\\\\1 & 2 & 1\\\\2 & 1 & 1\\end{matrix}\\right]$",
            "text/plain": [
              "⎡1  1  2⎤\n",
              "⎢       ⎥\n",
              "⎢1  2  1⎥\n",
              "⎢       ⎥\n",
              "⎣2  1  1⎦"
            ]
          },
          "metadata": {
            "tags": []
          },
          "execution_count": 5
        }
      ]
    },
    {
      "cell_type": "code",
      "metadata": {
        "colab": {
          "base_uri": "https://localhost:8080/",
          "height": 37
        },
        "id": "MUtIym8ntd3V",
        "outputId": "408657ae-d899-4aee-8ca8-a8f655e46858"
      },
      "source": [
        "solve((A - x*sp.eye(3)).det(), x)"
      ],
      "execution_count": null,
      "outputs": [
        {
          "output_type": "execute_result",
          "data": {
            "image/png": "[encoded data removed]",
            "text/latex": "$\\displaystyle \\left[ -1, \\  1, \\  4\\right]$",
            "text/plain": [
              "[-1, 1, 4]"
            ]
          },
          "metadata": {
            "tags": []
          },
          "execution_count": 9
        }
      ]
    },
    {
      "cell_type": "code",
      "metadata": {
        "colab": {
          "base_uri": "https://localhost:8080/",
          "height": 78
        },
        "id": "oI5lSkjTtjNe",
        "outputId": "ba17362f-ee20-4d76-f1f6-0838a4961b65"
      },
      "source": [
        "S0 = (A - (-1)*sp.eye(3)).col_insert(3, Matrix([[0], [0], [0]]))\n",
        "S0"
      ],
      "execution_count": null,
      "outputs": [
        {
          "output_type": "execute_result",
          "data": {
            "text/latex": "$\\displaystyle \\left[\\begin{matrix}2 & 1 & 2 & 0\\\\1 & 3 & 1 & 0\\\\2 & 1 & 2 & 0\\end{matrix}\\right]$",
            "text/plain": [
              "⎡2  1  2  0⎤\n",
              "⎢          ⎥\n",
              "⎢1  3  1  0⎥\n",
              "⎢          ⎥\n",
              "⎣2  1  2  0⎦"
            ]
          },
          "metadata": {
            "tags": []
          },
          "execution_count": 12
        }
      ]
    },
    {
      "cell_type": "code",
      "metadata": {
        "colab": {
          "base_uri": "https://localhost:8080/",
          "height": 38
        },
        "id": "NRGAkYmCxYAS",
        "outputId": "7021fd47-eab8-4093-8fe1-48fc9ef23ade"
      },
      "source": [
        "solve_linear_system(S0, x, y, z)"
      ],
      "execution_count": null,
      "outputs": [
        {
          "output_type": "execute_result",
          "data": {
            "image/png": "[encoded data removed]",
            "text/latex": "$\\displaystyle \\left\\{ x : - z, \\  y : 0\\right\\}$",
            "text/plain": [
              "{x: -z, y: 0}"
            ]
          },
          "metadata": {
            "tags": []
          },
          "execution_count": 13
        }
      ]
    },
    {
      "cell_type": "code",
      "metadata": {
        "colab": {
          "base_uri": "https://localhost:8080/",
          "height": 78
        },
        "id": "YgiJhnKayJVa",
        "outputId": "2ef9292b-f9b5-4951-8f54-ac7453179684"
      },
      "source": [
        "S1 = (A - (1)*sp.eye(3)).col_insert(3, Matrix([[0], [0], [0]]))\n",
        "S1"
      ],
      "execution_count": null,
      "outputs": [
        {
          "output_type": "execute_result",
          "data": {
            "text/latex": "$\\displaystyle \\left[\\begin{matrix}0 & 1 & 2 & 0\\\\1 & 1 & 1 & 0\\\\2 & 1 & 0 & 0\\end{matrix}\\right]$",
            "text/plain": [
              "⎡0  1  2  0⎤\n",
              "⎢          ⎥\n",
              "⎢1  1  1  0⎥\n",
              "⎢          ⎥\n",
              "⎣2  1  0  0⎦"
            ]
          },
          "metadata": {
            "tags": []
          },
          "execution_count": 14
        }
      ]
    },
    {
      "cell_type": "code",
      "metadata": {
        "colab": {
          "base_uri": "https://localhost:8080/",
          "height": 38
        },
        "id": "l86K8wStyfaI",
        "outputId": "6456f516-54d4-418d-a4f5-e886bd25815d"
      },
      "source": [
        "solve_linear_system(S1, x, y, z)"
      ],
      "execution_count": null,
      "outputs": [
        {
          "output_type": "execute_result",
          "data": {
            "image/png": "[encoded data removed]",
            "text/latex": "$\\displaystyle \\left\\{ x : z, \\  y : - 2 z\\right\\}$",
            "text/plain": [
              "{x: z, y: -2⋅z}"
            ]
          },
          "metadata": {
            "tags": []
          },
          "execution_count": 15
        }
      ]
    },
    {
      "cell_type": "code",
      "metadata": {
        "colab": {
          "base_uri": "https://localhost:8080/",
          "height": 78
        },
        "id": "PZCfRFwNyitU",
        "outputId": "87f39eb7-2760-4dec-d6ac-70607d5cc4ce"
      },
      "source": [
        "S2 = (A - (4)*sp.eye(3)).col_insert(3, Matrix([[0], [0], [0]]))\n",
        "S2"
      ],
      "execution_count": null,
      "outputs": [
        {
          "output_type": "execute_result",
          "data": {
            "text/latex": "$\\displaystyle \\left[\\begin{matrix}-3 & 1 & 2 & 0\\\\1 & -2 & 1 & 0\\\\2 & 1 & -3 & 0\\end{matrix}\\right]$",
            "text/plain": [
              "⎡-3  1   2   0⎤\n",
              "⎢             ⎥\n",
              "⎢1   -2  1   0⎥\n",
              "⎢             ⎥\n",
              "⎣2   1   -3  0⎦"
            ]
          },
          "metadata": {
            "tags": []
          },
          "execution_count": 16
        }
      ]
    },
    {
      "cell_type": "code",
      "metadata": {
        "colab": {
          "base_uri": "https://localhost:8080/",
          "height": 38
        },
        "id": "vvvS1MgPy5p0",
        "outputId": "b9de55ab-f213-45ea-a418-67109cf8e696"
      },
      "source": [
        "solve_linear_system(S2, x, y, z)"
      ],
      "execution_count": null,
      "outputs": [
        {
          "output_type": "execute_result",
          "data": {
            "image/png": "[encoded data removed]",
            "text/latex": "$\\displaystyle \\left\\{ x : z, \\  y : z\\right\\}$",
            "text/plain": [
              "{x: z, y: z}"
            ]
          },
          "metadata": {
            "tags": []
          },
          "execution_count": 17
        }
      ]
    },
    {
      "cell_type": "code",
      "metadata": {
        "colab": {
          "base_uri": "https://localhost:8080/"
        },
        "id": "20dm3Ccyy8O_",
        "outputId": "55c5aa00-b5ee-4c8a-da4a-c0d0f48fc372"
      },
      "source": [
        "print(A)"
      ],
      "execution_count": null,
      "outputs": [
        {
          "output_type": "stream",
          "text": [
            "Matrix([[1, 1, 2], [1, 2, 1], [2, 1, 1]])\n"
          ],
          "name": "stdout"
        }
      ]
    },
    {
      "cell_type": "code",
      "metadata": {
        "colab": {
          "base_uri": "https://localhost:8080/",
          "height": 88
        },
        "id": "_CXiHKm92hhO",
        "outputId": "97b21f5e-038e-4dc0-cdc6-377a24d6b9e4"
      },
      "source": [
        "C = Matrix([\n",
        "            [-1/sp.sqrt(2), 1/sp.sqrt(6), 1/sp.sqrt(3)],\n",
        "            [0, -2/sp.sqrt(6), 1/sp.sqrt(3)],\n",
        "            [1/sp.sqrt(2), 1/sp.sqrt(6), 1/sp.sqrt(3)]\n",
        "            ])\n",
        "C"
      ],
      "execution_count": null,
      "outputs": [
        {
          "output_type": "execute_result",
          "data": {
            "text/latex": "$\\displaystyle \\left[\\begin{matrix}- \\frac{\\sqrt{2}}{2} & \\frac{\\sqrt{6}}{6} & \\frac{\\sqrt{3}}{3}\\\\0 & - \\frac{\\sqrt{6}}{3} & \\frac{\\sqrt{3}}{3}\\\\\\frac{\\sqrt{2}}{2} & \\frac{\\sqrt{6}}{6} & \\frac{\\sqrt{3}}{3}\\end{matrix}\\right]$",
            "text/plain": [
              "⎡-√2    √6   √3⎤\n",
              "⎢────   ──   ──⎥\n",
              "⎢ 2     6    3 ⎥\n",
              "⎢              ⎥\n",
              "⎢      -√6   √3⎥\n",
              "⎢ 0    ────  ──⎥\n",
              "⎢       3    3 ⎥\n",
              "⎢              ⎥\n",
              "⎢ √2    √6   √3⎥\n",
              "⎢ ──    ──   ──⎥\n",
              "⎣ 2     6    3 ⎦"
            ]
          },
          "metadata": {
            "tags": []
          },
          "execution_count": 21
        }
      ]
    },
    {
      "cell_type": "code",
      "metadata": {
        "colab": {
          "base_uri": "https://localhost:8080/",
          "height": 78
        },
        "id": "Z4uvXmcL3AA1",
        "outputId": "76956eb8-7aff-4cc4-f860-d98283503aa4"
      },
      "source": [
        "C.T*A*C"
      ],
      "execution_count": null,
      "outputs": [
        {
          "output_type": "execute_result",
          "data": {
            "text/latex": "$\\displaystyle \\left[\\begin{matrix}-1 & 0 & 0\\\\0 & 1 & 0\\\\0 & 0 & 4\\end{matrix}\\right]$",
            "text/plain": [
              "⎡-1  0  0⎤\n",
              "⎢        ⎥\n",
              "⎢0   1  0⎥\n",
              "⎢        ⎥\n",
              "⎣0   0  4⎦"
            ]
          },
          "metadata": {
            "tags": []
          },
          "execution_count": 22
        }
      ]
    },
    {
      "cell_type": "code",
      "metadata": {
        "id": "bUMiVlPW3VpJ"
      },
      "source": [
        "a1 = Matrix([[1, 2, 2, -1]])\n",
        "a2 = Matrix([[1, 1, -5, 3]])\n",
        "a3 = Matrix([[3, 2, 8, -7]])"
      ],
      "execution_count": null,
      "outputs": []
    },
    {
      "cell_type": "code",
      "metadata": {
        "id": "PSc7fgWXEyzC"
      },
      "source": [
        "u1 = a1"
      ],
      "execution_count": null,
      "outputs": []
    },
    {
      "cell_type": "code",
      "metadata": {
        "colab": {
          "base_uri": "https://localhost:8080/",
          "height": 98
        },
        "id": "AUXVr9nGE6Qj",
        "outputId": "d011b645-cd0e-426c-89a7-b0eb2fbddc23"
      },
      "source": [
        " u2 = a2.T - ((a2 * u1.T)[0]/(u1 * u1.T)[0]) * u1.T\n",
        " u2"
      ],
      "execution_count": null,
      "outputs": [
        {
          "output_type": "execute_result",
          "data": {
            "text/latex": "$\\displaystyle \\left[\\begin{matrix}2\\\\3\\\\-3\\\\2\\end{matrix}\\right]$",
            "text/plain": [
              "⎡2 ⎤\n",
              "⎢  ⎥\n",
              "⎢3 ⎥\n",
              "⎢  ⎥\n",
              "⎢-3⎥\n",
              "⎢  ⎥\n",
              "⎣2 ⎦"
            ]
          },
          "metadata": {
            "tags": []
          },
          "execution_count": 9
        }
      ]
    },
    {
      "cell_type": "code",
      "metadata": {
        "colab": {
          "base_uri": "https://localhost:8080/",
          "height": 37
        },
        "id": "Cxxkfv6TQM9C",
        "outputId": "c6c445a2-b93d-45d4-9393-39b87e28f483"
      },
      "source": [
        "((a2 * u1.T)[0]/(u1 * u1.T)[0])"
      ],
      "execution_count": null,
      "outputs": [
        {
          "output_type": "execute_result",
          "data": {
            "image/png": "[encoded data removed]",
            "text/latex": "$\\displaystyle -1$",
            "text/plain": [
              "-1"
            ]
          },
          "metadata": {
            "tags": []
          },
          "execution_count": 8
        }
      ]
    },
    {
      "cell_type": "code",
      "metadata": {
        "colab": {
          "base_uri": "https://localhost:8080/",
          "height": 98
        },
        "id": "jSnMR3EgQTea",
        "outputId": "0f2611f3-31f7-41df-aa39-18418dec6694"
      },
      "source": [
        "u3 = a3.T - ((a3 * u1.T)[0]/(u1 * u1.T)[0]) * u1.T - ((a3 * u2)[0]/(u2.T * u2)[0]) * u2\n",
        "u3"
      ],
      "execution_count": null,
      "outputs": [
        {
          "output_type": "execute_result",
          "data": {
            "text/latex": "$\\displaystyle \\left[\\begin{matrix}2\\\\-1\\\\-1\\\\-2\\end{matrix}\\right]$",
            "text/plain": [
              "⎡2 ⎤\n",
              "⎢  ⎥\n",
              "⎢-1⎥\n",
              "⎢  ⎥\n",
              "⎢-1⎥\n",
              "⎢  ⎥\n",
              "⎣-2⎦"
            ]
          },
          "metadata": {
            "tags": []
          },
          "execution_count": 14
        }
      ]
    },
    {
      "cell_type": "code",
      "metadata": {
        "colab": {
          "base_uri": "https://localhost:8080/"
        },
        "id": "bYFR77NMRe3N",
        "outputId": "a0cbea25-a2e9-4212-b17f-6a342f9e9cc0"
      },
      "source": [
        "print(u2.T)"
      ],
      "execution_count": null,
      "outputs": [
        {
          "output_type": "stream",
          "text": [
            "Matrix([[2, 3, -3, 2]])\n"
          ],
          "name": "stdout"
        }
      ]
    },
    {
      "cell_type": "code",
      "metadata": {
        "colab": {
          "base_uri": "https://localhost:8080/"
        },
        "id": "oWFir9fBQcKN",
        "outputId": "4edc82de-9d5c-4a63-f6a3-a526bfa1c4d1"
      },
      "source": [
        "print(u3.T)"
      ],
      "execution_count": null,
      "outputs": [
        {
          "output_type": "stream",
          "text": [
            "Matrix([[2, -1, -1, -2]])\n"
          ],
          "name": "stdout"
        }
      ]
    },
    {
      "cell_type": "code",
      "metadata": {
        "id": "IbRduvpZRKVP"
      },
      "source": [
        "#задание 6 по линалгебре\n",
        "A = Matrix([[2, 4, 2, 4, 2]])\n",
        "B = Matrix([[6, 4, 4, 4, 6]])\n",
        "C = Matrix([[5, 7, 5, 7, 2]])"
      ],
      "execution_count": null,
      "outputs": []
    },
    {
      "cell_type": "code",
      "metadata": {
        "colab": {
          "base_uri": "https://localhost:8080/",
          "height": 37
        },
        "id": "-L8irka2Untr",
        "outputId": "b28d838d-b912-4f83-e85c-af17ae84009c"
      },
      "source": [
        "s = sum([(b - a)**2 for b, a in zip(B, A)])\n",
        "s"
      ],
      "execution_count": null,
      "outputs": [
        {
          "output_type": "execute_result",
          "data": {
            "image/png": "[encoded data removed]",
            "text/latex": "$\\displaystyle 36$",
            "text/plain": [
              "36"
            ]
          },
          "metadata": {
            "tags": []
          },
          "execution_count": 21
        }
      ]
    },
    {
      "cell_type": "code",
      "metadata": {
        "colab": {
          "base_uri": "https://localhost:8080/",
          "height": 37
        },
        "id": "8ZEaqkUgWhAM",
        "outputId": "d1e23468-d97e-494f-b9bf-8e6892ce1894"
      },
      "source": [
        "sp.sqrt(s)"
      ],
      "execution_count": null,
      "outputs": [
        {
          "output_type": "execute_result",
          "data": {
            "image/png": "[encoded data removed]",
            "text/latex": "$\\displaystyle 6$",
            "text/plain": [
              "6"
            ]
          },
          "metadata": {
            "tags": []
          },
          "execution_count": 23
        }
      ]
    },
    {
      "cell_type": "code",
      "metadata": {
        "colab": {
          "base_uri": "https://localhost:8080/",
          "height": 37
        },
        "id": "_wKQm4TtWxKN",
        "outputId": "f7f255df-1bae-4175-b028-3b4cf4407782"
      },
      "source": [
        "s = sum([(c - a)**2 for c, a in zip(C, A)])\n",
        "s"
      ],
      "execution_count": null,
      "outputs": [
        {
          "output_type": "execute_result",
          "data": {
            "image/png": "[encoded data removed]",
            "text/latex": "$\\displaystyle 36$",
            "text/plain": [
              "36"
            ]
          },
          "metadata": {
            "tags": []
          },
          "execution_count": 24
        }
      ]
    },
    {
      "cell_type": "code",
      "metadata": {
        "colab": {
          "base_uri": "https://localhost:8080/",
          "height": 37
        },
        "id": "nUA8belAXK0R",
        "outputId": "0959386b-5aeb-4718-aef7-8463af73e0cf"
      },
      "source": [
        "s = sum([(c - b)**2 for c, b in zip(C, B)])\n",
        "s"
      ],
      "execution_count": null,
      "outputs": [
        {
          "output_type": "execute_result",
          "data": {
            "image/png": "[encoded data removed]",
            "text/latex": "$\\displaystyle 36$",
            "text/plain": [
              "36"
            ]
          },
          "metadata": {
            "tags": []
          },
          "execution_count": 25
        }
      ]
    },
    {
      "cell_type": "code",
      "metadata": {
        "colab": {
          "base_uri": "https://localhost:8080/",
          "height": 38
        },
        "id": "HEAElu_BXhAN",
        "outputId": "daba8fcf-8f61-47df-c29f-abc3c85bc1ac"
      },
      "source": [
        "(B-A) * (C-A).T"
      ],
      "execution_count": null,
      "outputs": [
        {
          "output_type": "execute_result",
          "data": {
            "text/latex": "$\\displaystyle \\left[\\begin{matrix}18\\end{matrix}\\right]$",
            "text/plain": [
              "[18]"
            ]
          },
          "metadata": {
            "tags": []
          },
          "execution_count": 27
        }
      ]
    },
    {
      "cell_type": "code",
      "metadata": {
        "colab": {
          "base_uri": "https://localhost:8080/",
          "height": 38
        },
        "id": "ZNq54jCjx709",
        "outputId": "a3ffdfec-dac0-43dc-d1d3-7c0074f7f82b"
      },
      "source": [
        "# 2\n",
        "\n",
        "a1 = Matrix([[1, 2, 2, -1]])\n",
        "u2 = Matrix([[2, 3, -3, 2]])\n",
        "u3 = Matrix([[2, -1, -1, -2]])\n",
        "\n",
        "a1 * u2.T"
      ],
      "execution_count": null,
      "outputs": [
        {
          "output_type": "execute_result",
          "data": {
            "text/latex": "$\\displaystyle \\left[\\begin{matrix}0\\end{matrix}\\right]$",
            "text/plain": [
              "[0]"
            ]
          },
          "metadata": {
            "tags": []
          },
          "execution_count": 5
        }
      ]
    },
    {
      "cell_type": "code",
      "metadata": {
        "colab": {
          "base_uri": "https://localhost:8080/",
          "height": 38
        },
        "id": "p3-0tVVSySkj",
        "outputId": "d1f6efa3-2ea6-4527-91df-693e7dda1687"
      },
      "source": [
        "a1 * u3.T"
      ],
      "execution_count": null,
      "outputs": [
        {
          "output_type": "execute_result",
          "data": {
            "text/latex": "$\\displaystyle \\left[\\begin{matrix}0\\end{matrix}\\right]$",
            "text/plain": [
              "[0]"
            ]
          },
          "metadata": {
            "tags": []
          },
          "execution_count": 6
        }
      ]
    },
    {
      "cell_type": "code",
      "metadata": {
        "colab": {
          "base_uri": "https://localhost:8080/",
          "height": 38
        },
        "id": "4FDyBYpcydR2",
        "outputId": "dbc82133-2ba0-4faa-cab8-89b67af52f9a"
      },
      "source": [
        "u2 * u3.T"
      ],
      "execution_count": null,
      "outputs": [
        {
          "output_type": "execute_result",
          "data": {
            "text/latex": "$\\displaystyle \\left[\\begin{matrix}0\\end{matrix}\\right]$",
            "text/plain": [
              "[0]"
            ]
          },
          "metadata": {
            "tags": []
          },
          "execution_count": 7
        }
      ]
    },
    {
      "cell_type": "code",
      "metadata": {
        "id": "twEoZS5_c3PU"
      },
      "source": [
        "v = Matrix([[1, 2, 3, 4]])\n",
        "u = Matrix([[2, 1, 1, 2]])\n",
        "# u2 = Matrix([[-2, sp.Rational(1, 2), sp.Rational(15, 10), 1]])\n",
        "\n",
        "# u1*u2.T"
      ],
      "execution_count": null,
      "outputs": []
    },
    {
      "cell_type": "code",
      "metadata": {
        "colab": {
          "base_uri": "https://localhost:8080/",
          "height": 38
        },
        "id": "rApyn98vQf6V",
        "outputId": "4e070383-89a4-4a18-96ac-1c34a202f195"
      },
      "source": [
        "u2 = v.T - (((v*u.T)[0])/((u * u.T)[0]))*u.T\n",
        "u2 = u2.T\n",
        "u2"
      ],
      "execution_count": null,
      "outputs": [
        {
          "output_type": "execute_result",
          "data": {
            "text/latex": "$\\displaystyle \\left[\\begin{matrix}-2 & \\frac{1}{2} & \\frac{3}{2} & 1\\end{matrix}\\right]$",
            "text/plain": [
              "[-2  1/2  3/2  1]"
            ]
          },
          "metadata": {
            "tags": []
          },
          "execution_count": 46
        }
      ]
    },
    {
      "cell_type": "code",
      "metadata": {
        "colab": {
          "base_uri": "https://localhost:8080/",
          "height": 55
        },
        "id": "FXiBQKltcyV2",
        "outputId": "4dc163d3-4cc2-469f-df5c-d9266a2702fd"
      },
      "source": [
        "len_u2 = sp.sqrt(sum([x**2 for x in u2]))\n",
        "len_u2"
      ],
      "execution_count": null,
      "outputs": [
        {
          "output_type": "execute_result",
          "data": {
            "image/png": "[encoded data removed]",
            "text/latex": "$\\displaystyle \\frac{\\sqrt{30}}{2}$",
            "text/plain": [
              "√30\n",
              "───\n",
              " 2 "
            ]
          },
          "metadata": {
            "tags": []
          },
          "execution_count": 57
        }
      ]
    },
    {
      "cell_type": "code",
      "metadata": {
        "colab": {
          "base_uri": "https://localhost:8080/",
          "height": 38
        },
        "id": "lj37k6pPWLqB",
        "outputId": "2fe6945c-143f-446f-863f-a46ba7e481d8"
      },
      "source": [
        "u*u2.T"
      ],
      "execution_count": null,
      "outputs": [
        {
          "output_type": "execute_result",
          "data": {
            "text/latex": "$\\displaystyle \\left[\\begin{matrix}0\\end{matrix}\\right]$",
            "text/plain": [
              "[0]"
            ]
          },
          "metadata": {
            "tags": []
          },
          "execution_count": 47
        }
      ]
    },
    {
      "cell_type": "code",
      "metadata": {
        "colab": {
          "base_uri": "https://localhost:8080/",
          "height": 38
        },
        "id": "4zSraSg1Q5wP",
        "outputId": "b35f99c1-0b8f-41db-a2da-854873ad4b49"
      },
      "source": [
        "w = v - u2\n",
        "w"
      ],
      "execution_count": null,
      "outputs": [
        {
          "output_type": "execute_result",
          "data": {
            "text/latex": "$\\displaystyle \\left[\\begin{matrix}3 & \\frac{3}{2} & \\frac{3}{2} & 3\\end{matrix}\\right]$",
            "text/plain": [
              "[3  3/2  3/2  3]"
            ]
          },
          "metadata": {
            "tags": []
          },
          "execution_count": 48
        }
      ]
    },
    {
      "cell_type": "code",
      "metadata": {
        "colab": {
          "base_uri": "https://localhost:8080/",
          "height": 47
        },
        "id": "UnpXv9JVFRAP",
        "outputId": "e5b09fcf-5443-41c1-d5c0-27f415381010"
      },
      "source": [
        "len_v = sp.sqrt(sum([x**2 for x in v]))\n",
        "len_u = sp.sqrt(sum([x**2 for x in u]))\n",
        "\n",
        "cos_angle = (v*u.T)/(len_v * len_u)\n",
        "cos_angle"
      ],
      "execution_count": null,
      "outputs": [
        {
          "output_type": "execute_result",
          "data": {
            "text/latex": "$\\displaystyle \\left[\\begin{matrix}\\frac{\\sqrt{3}}{2}\\end{matrix}\\right]$",
            "text/plain": [
              "⎡√3⎤\n",
              "⎢──⎥\n",
              "⎣2 ⎦"
            ]
          },
          "metadata": {
            "tags": []
          },
          "execution_count": 30
        }
      ]
    },
    {
      "cell_type": "code",
      "metadata": {
        "id": "exXHNTfmZw8E"
      },
      "source": [
        "len_v = sp.sqrt(sum([x**2 for x in v]))\n",
        "len_w = sp.sqrt(sum([x**2 for x in w]))"
      ],
      "execution_count": null,
      "outputs": []
    },
    {
      "cell_type": "code",
      "metadata": {
        "colab": {
          "base_uri": "https://localhost:8080/",
          "height": 38
        },
        "id": "2sorcNaXZzux",
        "outputId": "c3e7a593-cf08-415a-c376-22d1a99296a0"
      },
      "source": [
        "len_v"
      ],
      "execution_count": null,
      "outputs": [
        {
          "output_type": "execute_result",
          "data": {
            "image/png": "[encoded data removed]",
            "text/latex": "$\\displaystyle \\sqrt{30}$",
            "text/plain": [
              "√30"
            ]
          },
          "metadata": {
            "tags": []
          },
          "execution_count": 50
        }
      ]
    },
    {
      "cell_type": "code",
      "metadata": {
        "colab": {
          "base_uri": "https://localhost:8080/",
          "height": 55
        },
        "id": "IVCc-iNQZ2cR",
        "outputId": "2799ba7a-a3d1-49e4-d081-337060cafc89"
      },
      "source": [
        "len_w"
      ],
      "execution_count": null,
      "outputs": [
        {
          "output_type": "execute_result",
          "data": {
            "image/png": "[encoded data removed]",
            "text/latex": "$\\displaystyle \\frac{3 \\sqrt{10}}{2}$",
            "text/plain": [
              "3⋅√10\n",
              "─────\n",
              "  2  "
            ]
          },
          "metadata": {
            "tags": []
          },
          "execution_count": 51
        }
      ]
    },
    {
      "cell_type": "code",
      "metadata": {
        "colab": {
          "base_uri": "https://localhost:8080/",
          "height": 47
        },
        "id": "jFKpm0bNSdWQ",
        "outputId": "8c1fa3c5-cc7a-47df-8f7f-b5c1ba85d055"
      },
      "source": [
        "\n",
        "cos_angle = (v*w.T)/(len_v * len_w)\n",
        "cos_angle"
      ],
      "execution_count": null,
      "outputs": [
        {
          "output_type": "execute_result",
          "data": {
            "text/latex": "$\\displaystyle \\left[\\begin{matrix}\\frac{\\sqrt{3}}{2}\\end{matrix}\\right]$",
            "text/plain": [
              "⎡√3⎤\n",
              "⎢──⎥\n",
              "⎣2 ⎦"
            ]
          },
          "metadata": {
            "tags": []
          },
          "execution_count": 52
        }
      ]
    },
    {
      "cell_type": "code",
      "metadata": {
        "colab": {
          "base_uri": "https://localhost:8080/",
          "height": 38
        },
        "id": "IW2kHaDxYo4-",
        "outputId": "725de61b-b4d0-4f1c-e6c8-443dd596e4ba"
      },
      "source": [
        "v"
      ],
      "execution_count": null,
      "outputs": [
        {
          "output_type": "execute_result",
          "data": {
            "text/latex": "$\\displaystyle \\left[\\begin{matrix}2 & 1 & 1 & 2\\end{matrix}\\right]$",
            "text/plain": [
              "[2  1  1  2]"
            ]
          },
          "metadata": {
            "tags": []
          },
          "execution_count": 42
        }
      ]
    },
    {
      "cell_type": "code",
      "metadata": {
        "colab": {
          "base_uri": "https://localhost:8080/",
          "height": 37
        },
        "id": "RFUCMU-MYjD6",
        "outputId": "8021810a-adba-4011-ac46-b0692b7b3d61"
      },
      "source": [
        "[x**2 for x in v]"
      ],
      "execution_count": null,
      "outputs": [
        {
          "output_type": "execute_result",
          "data": {
            "image/png": "[encoded data removed]",
            "text/latex": "$\\displaystyle \\left[ 4, \\  1, \\  1, \\  4\\right]$",
            "text/plain": [
              "[4, 1, 1, 4]"
            ]
          },
          "metadata": {
            "tags": []
          },
          "execution_count": 41
        }
      ]
    },
    {
      "cell_type": "code",
      "metadata": {
        "colab": {
          "base_uri": "https://localhost:8080/",
          "height": 38
        },
        "id": "MupvHx-KXaDy",
        "outputId": "a84d5f49-21f5-4fee-f405-9831eb741eb8"
      },
      "source": [
        "len_v"
      ],
      "execution_count": null,
      "outputs": [
        {
          "output_type": "execute_result",
          "data": {
            "image/png": "[encoded data removed]",
            "text/latex": "$\\displaystyle \\sqrt{10}$",
            "text/plain": [
              "√10"
            ]
          },
          "metadata": {
            "tags": []
          },
          "execution_count": 39
        }
      ]
    },
    {
      "cell_type": "code",
      "metadata": {
        "colab": {
          "base_uri": "https://localhost:8080/",
          "height": 55
        },
        "id": "-RPwvbeoXbzS",
        "outputId": "e25d7b66-1e76-495f-a200-816030e86bf4"
      },
      "source": [
        "len_w"
      ],
      "execution_count": null,
      "outputs": [
        {
          "output_type": "execute_result",
          "data": {
            "image/png": "[encoded data removed]",
            "text/latex": "$\\displaystyle \\frac{\\sqrt{70}}{2}$",
            "text/plain": [
              "√70\n",
              "───\n",
              " 2 "
            ]
          },
          "metadata": {
            "tags": []
          },
          "execution_count": 40
        }
      ]
    },
    {
      "cell_type": "code",
      "metadata": {
        "colab": {
          "base_uri": "https://localhost:8080/",
          "height": 47
        },
        "id": "lSf36Go8Tiim",
        "outputId": "ba53052c-68bd-4a84-9d5e-5f8935496a05"
      },
      "source": [
        "sp.acos(cos_angle)"
      ],
      "execution_count": null,
      "outputs": [
        {
          "output_type": "execute_result",
          "data": {
            "text/latex": "$\\displaystyle \\operatorname{acos}{\\left(\\left[\\begin{matrix}\\frac{2 \\sqrt{7}}{7}\\end{matrix}\\right] \\right)}$",
            "text/plain": [
              "    ⎛⎡2⋅√7⎤⎞\n",
              "acos⎜⎢────⎥⎟\n",
              "    ⎝⎣ 7  ⎦⎠"
            ]
          },
          "metadata": {
            "tags": []
          },
          "execution_count": 38
        }
      ]
    },
    {
      "cell_type": "code",
      "metadata": {
        "colab": {
          "base_uri": "https://localhost:8080/",
          "height": 38
        },
        "id": "s9x2wxXXTjGA",
        "outputId": "66ef03cb-36df-4250-c80d-ca0a7d51df8a"
      },
      "source": [
        "w + u2"
      ],
      "execution_count": null,
      "outputs": [
        {
          "output_type": "execute_result",
          "data": {
            "text/latex": "$\\displaystyle \\left[\\begin{matrix}1 & 2 & 3 & 4\\end{matrix}\\right]$",
            "text/plain": [
              "[1  2  3  4]"
            ]
          },
          "metadata": {
            "tags": []
          },
          "execution_count": 55
        }
      ]
    },
    {
      "cell_type": "code",
      "metadata": {
        "colab": {
          "base_uri": "https://localhost:8080/",
          "height": 38
        },
        "id": "K0iHvciec9yX",
        "outputId": "069bbe9e-5f70-4911-9d96-21942497befb"
      },
      "source": [
        "u2"
      ],
      "execution_count": null,
      "outputs": [
        {
          "output_type": "execute_result",
          "data": {
            "text/latex": "$\\displaystyle \\left[\\begin{matrix}-2 & \\frac{1}{2} & \\frac{3}{2} & 1\\end{matrix}\\right]$",
            "text/plain": [
              "[-2  1/2  3/2  1]"
            ]
          },
          "metadata": {
            "tags": []
          },
          "execution_count": 56
        }
      ]
    },
    {
      "cell_type": "code",
      "metadata": {
        "id": "xVF_8qVfdc92",
        "colab": {
          "base_uri": "https://localhost:8080/",
          "height": 98
        },
        "outputId": "5c780247-5427-4e1f-94e5-5bbd8cbf7950"
      },
      "source": [
        "b = Matrix([[1, -1, 0, -1]])\n",
        "A = Matrix([[2, 0, -1], [0, 1, 1], [1,-1,1], [1, 0, -1]])\n",
        "A"
      ],
      "execution_count": null,
      "outputs": [
        {
          "output_type": "execute_result",
          "data": {
            "text/latex": "$\\displaystyle \\left[\\begin{matrix}2 & 0 & -1\\\\0 & 1 & 1\\\\1 & -1 & 1\\\\1 & 0 & -1\\end{matrix}\\right]$",
            "text/plain": [
              "⎡2  0   -1⎤\n",
              "⎢         ⎥\n",
              "⎢0  1   1 ⎥\n",
              "⎢         ⎥\n",
              "⎢1  -1  1 ⎥\n",
              "⎢         ⎥\n",
              "⎣1  0   -1⎦"
            ]
          },
          "metadata": {
            "tags": []
          },
          "execution_count": 3
        }
      ]
    },
    {
      "cell_type": "code",
      "metadata": {
        "colab": {
          "base_uri": "https://localhost:8080/",
          "height": 78
        },
        "id": "ASu7KOaQdmjE",
        "outputId": "5ad94a9d-0166-4398-872b-2b54d674c3ff"
      },
      "source": [
        "res = (A.T*A).inv()*(A.T*b.T)\n",
        "res"
      ],
      "execution_count": null,
      "outputs": [
        {
          "output_type": "execute_result",
          "data": {
            "text/latex": "$\\displaystyle \\left[\\begin{matrix}0\\\\- \\frac{1}{2}\\\\- \\frac{1}{4}\\end{matrix}\\right]$",
            "text/plain": [
              "⎡ 0  ⎤\n",
              "⎢    ⎥\n",
              "⎢-1/2⎥\n",
              "⎢    ⎥\n",
              "⎣-1/4⎦"
            ]
          },
          "metadata": {
            "tags": []
          },
          "execution_count": 8
        }
      ]
    },
    {
      "cell_type": "code",
      "metadata": {
        "colab": {
          "base_uri": "https://localhost:8080/"
        },
        "id": "ZYUAxOW5duvY",
        "outputId": "f25dde96-a12d-4be6-e1c8-d90dea9fe823"
      },
      "source": [
        "b0 = A*res\n",
        "print(b0)"
      ],
      "execution_count": null,
      "outputs": [
        {
          "output_type": "stream",
          "text": [
            "Matrix([[1/4], [-3/4], [1/4], [1/4]])\n"
          ],
          "name": "stdout"
        }
      ]
    },
    {
      "cell_type": "code",
      "metadata": {
        "colab": {
          "base_uri": "https://localhost:8080/",
          "height": 38
        },
        "id": "G7Xs1cs_d8bI",
        "outputId": "9469608c-31dd-4c9e-ba92-8d9db643e428"
      },
      "source": [
        "A.col(0).T * (b.T - b0)"
      ],
      "execution_count": null,
      "outputs": [
        {
          "output_type": "execute_result",
          "data": {
            "text/latex": "$\\displaystyle \\left[\\begin{matrix}0\\end{matrix}\\right]$",
            "text/plain": [
              "[0]"
            ]
          },
          "metadata": {
            "tags": []
          },
          "execution_count": 15
        }
      ]
    },
    {
      "cell_type": "code",
      "metadata": {
        "colab": {
          "base_uri": "https://localhost:8080/",
          "height": 38
        },
        "id": "2jbHFEBakL1d",
        "outputId": "7ef15dbf-2f8b-4ebb-f64b-bf554d78363c"
      },
      "source": [
        "A.col(1).T * (b.T - b0)"
      ],
      "execution_count": null,
      "outputs": [
        {
          "output_type": "execute_result",
          "data": {
            "text/latex": "$\\displaystyle \\left[\\begin{matrix}0\\end{matrix}\\right]$",
            "text/plain": [
              "[0]"
            ]
          },
          "metadata": {
            "tags": []
          },
          "execution_count": 16
        }
      ]
    },
    {
      "cell_type": "code",
      "metadata": {
        "colab": {
          "base_uri": "https://localhost:8080/",
          "height": 38
        },
        "id": "0H2GtwjXkVm4",
        "outputId": "ba1d4211-4288-476b-b9dd-145629d02c73"
      },
      "source": [
        "A.col(2).T * (b.T - b0)"
      ],
      "execution_count": null,
      "outputs": [
        {
          "output_type": "execute_result",
          "data": {
            "text/latex": "$\\displaystyle \\left[\\begin{matrix}0\\end{matrix}\\right]$",
            "text/plain": [
              "[0]"
            ]
          },
          "metadata": {
            "tags": []
          },
          "execution_count": 17
        }
      ]
    },
    {
      "cell_type": "code",
      "metadata": {
        "id": "cY3A4e-Tkxs7"
      },
      "source": [
        "# 3\n",
        "\n",
        "U = Matrix([[1, 2, 1]])\n",
        "\n",
        "v1 = Matrix([[-3, 1, 1]])\n",
        "v2 = Matrix([[-1, -1, 3]])"
      ],
      "execution_count": null,
      "outputs": []
    },
    {
      "cell_type": "code",
      "metadata": {
        "colab": {
          "base_uri": "https://localhost:8080/",
          "height": 38
        },
        "id": "oxE_ixgP4q-q",
        "outputId": "30ae8ecc-7035-4f41-db13-79bdaa7d10ca"
      },
      "source": [
        "U*v2.T"
      ],
      "execution_count": null,
      "outputs": [
        {
          "output_type": "execute_result",
          "data": {
            "text/latex": "$\\displaystyle \\left[\\begin{matrix}0\\end{matrix}\\right]$",
            "text/plain": [
              "[0]"
            ]
          },
          "metadata": {
            "tags": []
          },
          "execution_count": 12
        }
      ]
    },
    {
      "cell_type": "code",
      "metadata": {
        "colab": {
          "base_uri": "https://localhost:8080/",
          "height": 38
        },
        "id": "A6PZhOjg4sg2",
        "outputId": "4e9fc135-f8ea-4440-8e39-d90af87faeae"
      },
      "source": [
        "v1*v2.T"
      ],
      "execution_count": null,
      "outputs": [
        {
          "output_type": "execute_result",
          "data": {
            "text/latex": "$\\displaystyle \\left[\\begin{matrix}5\\end{matrix}\\right]$",
            "text/plain": [
              "[5]"
            ]
          },
          "metadata": {
            "tags": []
          },
          "execution_count": 13
        }
      ]
    },
    {
      "cell_type": "code",
      "metadata": {
        "colab": {
          "base_uri": "https://localhost:8080/",
          "height": 38
        },
        "id": "eQYovuLK8wRU",
        "outputId": "d1779883-9480-439a-dc5a-bbd9fad79f02"
      },
      "source": [
        "u = v2.T - ((v1*v2.T)[0]/(v1*v1.T)[0])*v1.T\n",
        "u = u.T\n",
        "u"
      ],
      "execution_count": null,
      "outputs": [
        {
          "output_type": "execute_result",
          "data": {
            "text/latex": "$\\displaystyle \\left[\\begin{matrix}\\frac{4}{11} & - \\frac{16}{11} & \\frac{28}{11}\\end{matrix}\\right]$",
            "text/plain": [
              "⎡      -16   28⎤\n",
              "⎢4/11  ────  ──⎥\n",
              "⎣       11   11⎦"
            ]
          },
          "metadata": {
            "tags": []
          },
          "execution_count": 24
        }
      ]
    },
    {
      "cell_type": "code",
      "metadata": {
        "colab": {
          "base_uri": "https://localhost:8080/",
          "height": 38
        },
        "id": "iuWOwARi-Pif",
        "outputId": "3c251a85-4526-4028-ab1a-d869917d1de6"
      },
      "source": [
        "v1 * u.T"
      ],
      "execution_count": null,
      "outputs": [
        {
          "output_type": "execute_result",
          "data": {
            "text/latex": "$\\displaystyle \\left[\\begin{matrix}0\\end{matrix}\\right]$",
            "text/plain": [
              "[0]"
            ]
          },
          "metadata": {
            "tags": []
          },
          "execution_count": 25
        }
      ]
    },
    {
      "cell_type": "code",
      "metadata": {
        "colab": {
          "base_uri": "https://localhost:8080/",
          "height": 38
        },
        "id": "Ol3cKa0F-dUE",
        "outputId": "ae56bbfc-8127-48bb-e9d9-d5477a82b8f4"
      },
      "source": [
        "U*u.T"
      ],
      "execution_count": null,
      "outputs": [
        {
          "output_type": "execute_result",
          "data": {
            "text/latex": "$\\displaystyle \\left[\\begin{matrix}0\\end{matrix}\\right]$",
            "text/plain": [
              "[0]"
            ]
          },
          "metadata": {
            "tags": []
          },
          "execution_count": 26
        }
      ]
    },
    {
      "cell_type": "code",
      "metadata": {
        "colab": {
          "base_uri": "https://localhost:8080/"
        },
        "id": "52bVR5XCAfsd",
        "outputId": "f809705a-9942-48d8-fbf9-17a5b999eda3"
      },
      "source": [
        "print(u)"
      ],
      "execution_count": null,
      "outputs": [
        {
          "output_type": "stream",
          "text": [
            "Matrix([[4/11, -16/11, 28/11]])\n"
          ],
          "name": "stdout"
        }
      ]
    },
    {
      "cell_type": "code",
      "metadata": {
        "id": "0DGGCyPNAdaT"
      },
      "source": [
        ""
      ],
      "execution_count": null,
      "outputs": []
    }
  ]
}