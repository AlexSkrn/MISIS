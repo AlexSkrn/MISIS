{
 "cells": [
  {
   "cell_type": "markdown",
   "metadata": {
    "id": "0dYWwsc44yV8"
   },
   "source": [
    "Dataset MNIST: картинки с рукописными цифрами.\n",
    "\n",
    "x: 70_000 картинок размера 28x28.\n",
    "\n",
    "y: 70_000 значений, какая цифра на картинке (0-9).\n",
    "\n",
    "Обучаемся на 60_000 примерах, в результате можем распознать, какая цифра изображена на картинке, в т.ч. для тех 10_000 картинок, которые не входили в обучающую выборку.\n",
    "\n",
    "Реализация на SVM."
   ]
  },
  {
   "cell_type": "code",
   "execution_count": 1,
   "metadata": {
    "executionInfo": {
     "elapsed": 1779,
     "status": "ok",
     "timestamp": 1648135709851,
     "user": {
      "displayName": "Yaromir Shpilevskiy",
      "photoUrl": "https://lh3.googleusercontent.com/a/default-user=s64",
      "userId": "06486777525784599515"
     },
     "user_tz": -180
    },
    "id": "yVWQV9aYaLHF"
   },
   "outputs": [],
   "source": [
    "# sklearn\n",
    "from sklearn.svm import SVC\n",
    "from sklearn.model_selection import train_test_split\n",
    "from sklearn.metrics import confusion_matrix, classification_report"
   ]
  },
  {
   "cell_type": "code",
   "execution_count": 3,
   "metadata": {
    "executionInfo": {
     "elapsed": 372,
     "status": "ok",
     "timestamp": 1648136478803,
     "user": {
      "displayName": "Yaromir Shpilevskiy",
      "photoUrl": "https://lh3.googleusercontent.com/a/default-user=s64",
      "userId": "06486777525784599515"
     },
     "user_tz": -180
    },
    "id": "1vpxs9pHcMd1"
   },
   "outputs": [],
   "source": [
    "# В этом примере используем tensorflow только для удобного скачивания данных.\n",
    "import tensorflow as tf"
   ]
  },
  {
   "cell_type": "code",
   "execution_count": 4,
   "metadata": {
    "executionInfo": {
     "elapsed": 603,
     "status": "ok",
     "timestamp": 1648136528786,
     "user": {
      "displayName": "Yaromir Shpilevskiy",
      "photoUrl": "https://lh3.googleusercontent.com/a/default-user=s64",
      "userId": "06486777525784599515"
     },
     "user_tz": -180
    },
    "id": "qRzGyGYWMgyg"
   },
   "outputs": [],
   "source": [
    "# Для красивого вывода результатов.\n",
    "import seaborn as sn\n",
    "import pandas as pd\n",
    "import matplotlib.pyplot as plt\n",
    "# matplotlib - \"magic function\" IPython shell, которая задаёт вывод matplotlib.\n",
    "%matplotlib inline"
   ]
  },
  {
   "cell_type": "code",
   "execution_count": 5,
   "metadata": {
    "executionInfo": {
     "elapsed": 461,
     "status": "ok",
     "timestamp": 1648136704518,
     "user": {
      "displayName": "Yaromir Shpilevskiy",
      "photoUrl": "https://lh3.googleusercontent.com/a/default-user=s64",
      "userId": "06486777525784599515"
     },
     "user_tz": -180
    },
    "id": "RUn96uceHnrx"
   },
   "outputs": [],
   "source": [
    "# Будут нужны различные вспомогательные методы из numpy.\n",
    "import numpy as np"
   ]
  },
  {
   "cell_type": "code",
   "execution_count": 6,
   "metadata": {
    "colab": {
     "base_uri": "https://localhost:8080/"
    },
    "executionInfo": {
     "elapsed": 1043,
     "status": "ok",
     "timestamp": 1648136757788,
     "user": {
      "displayName": "Yaromir Shpilevskiy",
      "photoUrl": "https://lh3.googleusercontent.com/a/default-user=s64",
      "userId": "06486777525784599515"
     },
     "user_tz": -180
    },
    "id": "XY1AMlc3cOsb",
    "outputId": "7e36172f-e2f6-4135-b9cf-e677090fafb7"
   },
   "outputs": [
    {
     "name": "stdout",
     "output_type": "stream",
     "text": [
      "Downloading data from https://storage.googleapis.com/tensorflow/tf-keras-datasets/mnist.npz\n",
      "11493376/11490434 [==============================] - 0s 0us/step\n",
      "11501568/11490434 [==============================] - 0s 0us/step\n"
     ]
    }
   ],
   "source": [
    "# Скачиваем датасет MNIST с картинками цифр, написанных от руки.\n",
    "(x_train, y_train), (x_test, y_test) = tf.keras.datasets.mnist.load_data()"
   ]
  },
  {
   "cell_type": "code",
   "execution_count": 7,
   "metadata": {
    "colab": {
     "base_uri": "https://localhost:8080/"
    },
    "executionInfo": {
     "elapsed": 391,
     "status": "ok",
     "timestamp": 1648136821589,
     "user": {
      "displayName": "Yaromir Shpilevskiy",
      "photoUrl": "https://lh3.googleusercontent.com/a/default-user=s64",
      "userId": "06486777525784599515"
     },
     "user_tz": -180
    },
    "id": "CEUoNRvaeewS",
    "outputId": "70af17e0-de5e-4f2c-9cfe-2deaa90b4e77"
   },
   "outputs": [
    {
     "name": "stdout",
     "output_type": "stream",
     "text": [
      "(60000, 28, 28)\n",
      "(10000, 28, 28)\n",
      "(60000,)\n",
      "(10000,)\n",
      "[5 0 4 1 9 2 1 3 1 4]\n",
      "[7 2 1 0 4 1 4 9 5 9]\n"
     ]
    }
   ],
   "source": [
    "# Посмотрим на обучающую и тестовую выборку.\n",
    "print(x_train.shape)\n",
    "print(x_test.shape)\n",
    "print(y_train.shape)\n",
    "print(y_test.shape)\n",
    "print(y_train[:10])\n",
    "print(y_test[:10])\n",
    "\n",
    "# Стоит убедиться, что совпадают размеры массивов входных картинок и их правильных ответов.\n",
    "# И \"fail fast\", если это не так. Не обучать классификатор на кривых данных.\n",
    "assert x_train.shape[0] == y_train.shape[0], f\"В обучающей выборке размер массива входных картинок ({x_train.shape[0]}) и их правильных ответов ({y_train.shape[0]}) не совпадает.\"\n",
    "assert x_test.shape[0] == y_test.shape[0], f\"В обучающей выборке размер массива входных картинок ({x_test.shape[0]}) и их правильных ответов ({y_test.shape[0]}) не совпадает.\"\n"
   ]
  },
  {
   "cell_type": "code",
   "execution_count": 9,
   "metadata": {
    "colab": {
     "base_uri": "https://localhost:8080/",
     "height": 1000
    },
    "executionInfo": {
     "elapsed": 415,
     "status": "ok",
     "timestamp": 1648137042066,
     "user": {
      "displayName": "Yaromir Shpilevskiy",
      "photoUrl": "https://lh3.googleusercontent.com/a/default-user=s64",
      "userId": "06486777525784599515"
     },
     "user_tz": -180
    },
    "id": "n0YcKT_LLBTI",
    "outputId": "f597ab55-819e-4c86-fb02-3463d80c102a"
   },
   "outputs": [
    {
     "name": "stdout",
     "output_type": "stream",
     "text": [
      "[[  0   0   0   0   0   0   0   0   0   0   0   0   0   0   0   0   0   0\n",
      "    0   0   0   0   0   0   0   0   0   0]\n",
      " [  0   0   0   0   0   0   0   0   0   0   0   0   0   0   0   0   0   0\n",
      "    0   0   0   0   0   0   0   0   0   0]\n",
      " [  0   0   0   0   0   0   0   0   0   0   0   0   0   0   0   0   0   0\n",
      "    0   0   0   0   0   0   0   0   0   0]\n",
      " [  0   0   0   0   0   0   0   0   0   0   0   0   0   0   0   0   0   0\n",
      "    0   0   0   0   0   0   0   0   0   0]\n",
      " [  0   0   0   0   0   0   0   0   0   0   0   0   0   0   0   0   0   0\n",
      "    0   0   0   0   0   0   0   0   0   0]\n",
      " [  0   0   0   0   0   0   0   0   0   0   0   0   3  18  18  18 126 136\n",
      "  175  26 166 255 247 127   0   0   0   0]\n",
      " [  0   0   0   0   0   0   0   0  30  36  94 154 170 253 253 253 253 253\n",
      "  225 172 253 242 195  64   0   0   0   0]\n",
      " [  0   0   0   0   0   0   0  49 238 253 253 253 253 253 253 253 253 251\n",
      "   93  82  82  56  39   0   0   0   0   0]\n",
      " [  0   0   0   0   0   0   0  18 219 253 253 253 253 253 198 182 247 241\n",
      "    0   0   0   0   0   0   0   0   0   0]\n",
      " [  0   0   0   0   0   0   0   0  80 156 107 253 253 205  11   0  43 154\n",
      "    0   0   0   0   0   0   0   0   0   0]\n",
      " [  0   0   0   0   0   0   0   0   0  14   1 154 253  90   0   0   0   0\n",
      "    0   0   0   0   0   0   0   0   0   0]\n",
      " [  0   0   0   0   0   0   0   0   0   0   0 139 253 190   2   0   0   0\n",
      "    0   0   0   0   0   0   0   0   0   0]\n",
      " [  0   0   0   0   0   0   0   0   0   0   0  11 190 253  70   0   0   0\n",
      "    0   0   0   0   0   0   0   0   0   0]\n",
      " [  0   0   0   0   0   0   0   0   0   0   0   0  35 241 225 160 108   1\n",
      "    0   0   0   0   0   0   0   0   0   0]\n",
      " [  0   0   0   0   0   0   0   0   0   0   0   0   0  81 240 253 253 119\n",
      "   25   0   0   0   0   0   0   0   0   0]\n",
      " [  0   0   0   0   0   0   0   0   0   0   0   0   0   0  45 186 253 253\n",
      "  150  27   0   0   0   0   0   0   0   0]\n",
      " [  0   0   0   0   0   0   0   0   0   0   0   0   0   0   0  16  93 252\n",
      "  253 187   0   0   0   0   0   0   0   0]\n",
      " [  0   0   0   0   0   0   0   0   0   0   0   0   0   0   0   0   0 249\n",
      "  253 249  64   0   0   0   0   0   0   0]\n",
      " [  0   0   0   0   0   0   0   0   0   0   0   0   0   0  46 130 183 253\n",
      "  253 207   2   0   0   0   0   0   0   0]\n",
      " [  0   0   0   0   0   0   0   0   0   0   0   0  39 148 229 253 253 253\n",
      "  250 182   0   0   0   0   0   0   0   0]\n",
      " [  0   0   0   0   0   0   0   0   0   0  24 114 221 253 253 253 253 201\n",
      "   78   0   0   0   0   0   0   0   0   0]\n",
      " [  0   0   0   0   0   0   0   0  23  66 213 253 253 253 253 198  81   2\n",
      "    0   0   0   0   0   0   0   0   0   0]\n",
      " [  0   0   0   0   0   0  18 171 219 253 253 253 253 195  80   9   0   0\n",
      "    0   0   0   0   0   0   0   0   0   0]\n",
      " [  0   0   0   0  55 172 226 253 253 253 253 244 133  11   0   0   0   0\n",
      "    0   0   0   0   0   0   0   0   0   0]\n",
      " [  0   0   0   0 136 253 253 253 212 135 132  16   0   0   0   0   0   0\n",
      "    0   0   0   0   0   0   0   0   0   0]\n",
      " [  0   0   0   0   0   0   0   0   0   0   0   0   0   0   0   0   0   0\n",
      "    0   0   0   0   0   0   0   0   0   0]\n",
      " [  0   0   0   0   0   0   0   0   0   0   0   0   0   0   0   0   0   0\n",
      "    0   0   0   0   0   0   0   0   0   0]\n",
      " [  0   0   0   0   0   0   0   0   0   0   0   0   0   0   0   0   0   0\n",
      "    0   0   0   0   0   0   0   0   0   0]]\n"
     ]
    },
    {
     "data": {
      "text/plain": [
       "<matplotlib.image.AxesImage at 0x7fe9f492ec90>"
      ]
     },
     "execution_count": 9,
     "metadata": {},
     "output_type": "execute_result"
    },
    {
     "data": {
      "image/png": "[encoded data removed]",
      "text/plain": [
       "<Figure size 432x288 with 1 Axes>"
      ]
     },
     "metadata": {
      "needs_background": "light"
     },
     "output_type": "display_data"
    }
   ],
   "source": [
    "# В каком виде элемент.\n",
    "print(x_train[0])\n",
    "plt.imshow(x_train[0], cmap='gray_r')"
   ]
  },
  {
   "cell_type": "code",
   "execution_count": 10,
   "metadata": {
    "colab": {
     "base_uri": "https://localhost:8080/"
    },
    "executionInfo": {
     "elapsed": 550,
     "status": "ok",
     "timestamp": 1648137108105,
     "user": {
      "displayName": "Yaromir Shpilevskiy",
      "photoUrl": "https://lh3.googleusercontent.com/a/default-user=s64",
      "userId": "06486777525784599515"
     },
     "user_tz": -180
    },
    "id": "CuiQdMZlf_bV",
    "outputId": "e27eca5f-58ce-42b4-da18-b4e05c70bf48"
   },
   "outputs": [
    {
     "name": "stdout",
     "output_type": "stream",
     "text": [
      "(60000, 784)\n",
      "(10000, 784)\n"
     ]
    }
   ],
   "source": [
    "x_train_flat = x_train.reshape(-1, 28*28)\n",
    "print(x_train_flat.shape)\n",
    "\n",
    "x_test_flat = x_test.reshape(-1, 28*28)\n",
    "print(x_test_flat.shape)"
   ]
  },
  {
   "cell_type": "code",
   "execution_count": 11,
   "metadata": {
    "executionInfo": {
     "elapsed": 641,
     "status": "ok",
     "timestamp": 1648137110252,
     "user": {
      "displayName": "Yaromir Shpilevskiy",
      "photoUrl": "https://lh3.googleusercontent.com/a/default-user=s64",
      "userId": "06486777525784599515"
     },
     "user_tz": -180
    },
    "id": "GdCGJ2qzaY-G"
   },
   "outputs": [],
   "source": [
    "# SVM классификатор.\n",
    "svc = SVC()"
   ]
  },
  {
   "cell_type": "code",
   "execution_count": 12,
   "metadata": {
    "executionInfo": {
     "elapsed": 291887,
     "status": "ok",
     "timestamp": 1648137403805,
     "user": {
      "displayName": "Yaromir Shpilevskiy",
      "photoUrl": "https://lh3.googleusercontent.com/a/default-user=s64",
      "userId": "06486777525784599515"
     },
     "user_tz": -180
    },
    "id": "EUrHVty8fwr9"
   },
   "outputs": [],
   "source": [
    "# Обучаем SVM классификатор.\n",
    "svc = svc.fit(x_train_flat, y_train)"
   ]
  },
  {
   "cell_type": "code",
   "execution_count": 13,
   "metadata": {
    "executionInfo": {
     "elapsed": 102484,
     "status": "ok",
     "timestamp": 1648137510394,
     "user": {
      "displayName": "Yaromir Shpilevskiy",
      "photoUrl": "https://lh3.googleusercontent.com/a/default-user=s64",
      "userId": "06486777525784599515"
     },
     "user_tz": -180
    },
    "id": "JKYwRDS5JFgI"
   },
   "outputs": [],
   "source": [
    "y_pred = svc.predict(x_test_flat)"
   ]
  },
  {
   "cell_type": "code",
   "execution_count": 14,
   "metadata": {
    "colab": {
     "base_uri": "https://localhost:8080/",
     "height": 264
    },
    "executionInfo": {
     "elapsed": 2082,
     "status": "ok",
     "timestamp": 1648137529180,
     "user": {
      "displayName": "Yaromir Shpilevskiy",
      "photoUrl": "https://lh3.googleusercontent.com/a/default-user=s64",
      "userId": "06486777525784599515"
     },
     "user_tz": -180
    },
    "id": "8j0e4909J_lQ",
    "outputId": "85910a5f-897a-43d6-bc87-fa8dd0db9c47"
   },
   "outputs": [
    {
     "name": "stdout",
     "output_type": "stream",
     "text": [
      "(10000,)\n",
      "[7 2 1 0 4 1 4 9 6 9]\n"
     ]
    },
    {
     "data": {
      "image/png": "[encoded data removed]",
      "text/plain": [
       "<Figure size 432x288 with 10 Axes>"
      ]
     },
     "metadata": {
      "needs_background": "light"
     },
     "output_type": "display_data"
    }
   ],
   "source": [
    "print(y_pred.shape)\n",
    "print(y_pred[:10])\n",
    "\n",
    "fig = plt.figure()\n",
    "\n",
    "for i in range(10):\n",
    "    im_idx = np.argwhere(y_pred == i)[0]\n",
    "    ax = fig.add_subplot(2, 5, i+1)\n",
    "    ax.imshow(x_test[i], cmap='gray_r')"
   ]
  },
  {
   "cell_type": "code",
   "execution_count": 15,
   "metadata": {
    "executionInfo": {
     "elapsed": 542,
     "status": "ok",
     "timestamp": 1648137894077,
     "user": {
      "displayName": "Yaromir Shpilevskiy",
      "photoUrl": "https://lh3.googleusercontent.com/a/default-user=s64",
      "userId": "06486777525784599515"
     },
     "user_tz": -180
    },
    "id": "2CynltSgKPgR"
   },
   "outputs": [],
   "source": [
    "# Confusion matrix.\n",
    "confusion_matrix_arr = confusion_matrix(y_test, y_pred)"
   ]
  },
  {
   "cell_type": "code",
   "execution_count": 17,
   "metadata": {
    "colab": {
     "base_uri": "https://localhost:8080/"
    },
    "executionInfo": {
     "elapsed": 358,
     "status": "ok",
     "timestamp": 1648138022455,
     "user": {
      "displayName": "Yaromir Shpilevskiy",
      "photoUrl": "https://lh3.googleusercontent.com/a/default-user=s64",
      "userId": "06486777525784599515"
     },
     "user_tz": -180
    },
    "id": "xkKyELIfMH13",
    "outputId": "811abe3b-9fe6-4c6c-9600-e76eb4712871"
   },
   "outputs": [
    {
     "name": "stdout",
     "output_type": "stream",
     "text": [
      "[[ 973    0    1    0    0    2    1    1    2    0]\n",
      " [   0 1126    3    1    0    1    1    1    2    0]\n",
      " [   6    1 1006    2    1    0    2    7    6    1]\n",
      " [   0    0    2  995    0    2    0    5    5    1]\n",
      " [   0    0    5    0  961    0    3    0    2   11]\n",
      " [   2    0    0    9    0  871    4    1    4    1]\n",
      " [   6    2    0    0    2    3  944    0    1    0]\n",
      " [   0    6   11    1    1    0    0  996    2   11]\n",
      " [   3    0    2    6    3    2    2    3  950    3]\n",
      " [   3    4    1    7   10    2    1    7    4  970]]\n"
     ]
    }
   ],
   "source": [
    "# Напечатаем confusion matrix.\n",
    "print(confusion_matrix_arr)"
   ]
  },
  {
   "cell_type": "code",
   "execution_count": 18,
   "metadata": {
    "colab": {
     "base_uri": "https://localhost:8080/",
     "height": 592
    },
    "executionInfo": {
     "elapsed": 1258,
     "status": "ok",
     "timestamp": 1648138750131,
     "user": {
      "displayName": "Yaromir Shpilevskiy",
      "photoUrl": "https://lh3.googleusercontent.com/a/default-user=s64",
      "userId": "06486777525784599515"
     },
     "user_tz": -180
    },
    "id": "wIrs3XEIMuup",
    "outputId": "34f95738-bc36-442a-dae0-d9ff247ac4ad"
   },
   "outputs": [
    {
     "data": {
      "image/png": "[encoded data removed]",
      "text/plain": [
       "<Figure size 720x720 with 2 Axes>"
      ]
     },
     "metadata": {
      "needs_background": "light"
     },
     "output_type": "display_data"
    }
   ],
   "source": [
    "# Напечатаем confusion matrix красиво. =)\n",
    "# Сделаем из Python массива Pandas DataFrame.\n",
    "confusion_matrix_df = pd.DataFrame(confusion_matrix_arr)\n",
    "# Размер картинки.\n",
    "fig, ax = plt.subplots(figsize=(10,10))\n",
    "# Seaborn Heatmap\n",
    "sn.heatmap(confusion_matrix_df, annot=True, fmt='d', ax=ax, annot_kws={\"size\": 20}) # Размер шрифта.\n",
    "\n",
    "plt.show()"
   ]
  },
  {
   "cell_type": "code",
   "execution_count": null,
   "metadata": {
    "id": "4XjnEBfGKuqb"
   },
   "outputs": [],
   "source": [
    "# Метрики качества классификации: precision recall f1-score support.\n",
    "clf_rep = classification_report(y_test, y_pred)"
   ]
  },
  {
   "cell_type": "code",
   "execution_count": null,
   "metadata": {
    "colab": {
     "base_uri": "https://localhost:8080/"
    },
    "executionInfo": {
     "elapsed": 252,
     "status": "ok",
     "timestamp": 1648130774439,
     "user": {
      "displayName": "Yaromir Shpilevskiy",
      "photoUrl": "https://lh3.googleusercontent.com/a/default-user=s64",
      "userId": "06486777525784599515"
     },
     "user_tz": -180
    },
    "id": "YrSPXM5lK1ae",
    "outputId": "a3d81bde-c740-48c2-8d65-cf5808a793f5"
   },
   "outputs": [
    {
     "name": "stdout",
     "output_type": "stream",
     "text": [
      "              precision    recall  f1-score   support\n",
      "\n",
      "           0       0.98      0.99      0.99       980\n",
      "           1       0.99      0.99      0.99      1135\n",
      "           2       0.98      0.97      0.98      1032\n",
      "           3       0.97      0.99      0.98      1010\n",
      "           4       0.98      0.98      0.98       982\n",
      "           5       0.99      0.98      0.98       892\n",
      "           6       0.99      0.99      0.99       958\n",
      "           7       0.98      0.97      0.97      1028\n",
      "           8       0.97      0.98      0.97       974\n",
      "           9       0.97      0.96      0.97      1009\n",
      "\n",
      "    accuracy                           0.98     10000\n",
      "   macro avg       0.98      0.98      0.98     10000\n",
      "weighted avg       0.98      0.98      0.98     10000\n",
      "\n"
     ]
    }
   ],
   "source": [
    "print(clf_rep)"
   ]
  },
  {
   "cell_type": "markdown",
   "metadata": {
    "id": "Bkc2o8Ay125G"
   },
   "source": [
    "Домашнее задание:\n",
    "\n",
    "1. Добавить оценку вероятностей.\n",
    "```\n",
    "# Включить оценку вероятностей. (Необходимо сделать до обучения классификатора.)\n",
    "SVC(probability=True)\n",
    "# Оценка вероятностей.\n",
    "svc.predict_proba(x_test_flat)\n",
    "```\n",
    "В качестве проверки можно убедиться, что в сумме вероятности дают единицу.\n",
    "\n",
    "2. Поэкспериментировать с параметрами SVC: C, gamma, kernel.\n",
    "* Посмотреть, как влияет на confusion_matrix.\n",
    "* Посмотреть, как влияет на метрики классификации.\n"
   ]
  },
  {
   "cell_type": "markdown",
   "metadata": {
    "id": "0dYWwsc44yV8"
   },
   "source": [
    "Dataset MNIST: картинки с рукописными цифрами.\n",
    "\n",
    "x: 70_000 картинок размера 28x28.\n",
    "\n",
    "y: 70_000 значений, какая цифра на картинке (0-9).\n",
    "\n",
    "Обучаемся на 60_000 примерах, в результате можем распознать, какая цифра изображена на картинке, в т.ч. для тех 10_000 картинок, которые не входили в обучающую выборку.\n",
    "\n",
    "Реализация с помощью KNN."
   ]
  },
  {
   "cell_type": "code",
   "execution_count": 1,
   "metadata": {
    "executionInfo": {
     "elapsed": 857,
     "status": "ok",
     "timestamp": 1648131231819,
     "user": {
      "displayName": "Yaromir Shpilevskiy",
      "photoUrl": "https://lh3.googleusercontent.com/a/default-user=s64",
      "userId": "06486777525784599515"
     },
     "user_tz": -180
    },
    "id": "yVWQV9aYaLHF"
   },
   "outputs": [],
   "source": [
    "# sklearn\n",
    "from sklearn.neighbors import KNeighborsClassifier\n",
    "from sklearn.metrics import confusion_matrix, classification_report"
   ]
  },
  {
   "cell_type": "code",
   "execution_count": 2,
   "metadata": {
    "executionInfo": {
     "elapsed": 5724,
     "status": "ok",
     "timestamp": 1648131241091,
     "user": {
      "displayName": "Yaromir Shpilevskiy",
      "photoUrl": "https://lh3.googleusercontent.com/a/default-user=s64",
      "userId": "06486777525784599515"
     },
     "user_tz": -180
    },
    "id": "1vpxs9pHcMd1"
   },
   "outputs": [],
   "source": [
    "# В этом примере используем tensorflow только для удобного скачивания данных.\n",
    "import tensorflow as tf"
   ]
  },
  {
   "cell_type": "code",
   "execution_count": 3,
   "metadata": {
    "executionInfo": {
     "elapsed": 334,
     "status": "ok",
     "timestamp": 1648131242525,
     "user": {
      "displayName": "Yaromir Shpilevskiy",
      "photoUrl": "https://lh3.googleusercontent.com/a/default-user=s64",
      "userId": "06486777525784599515"
     },
     "user_tz": -180
    },
    "id": "qRzGyGYWMgyg"
   },
   "outputs": [],
   "source": [
    "# Для красивого вывода результатов.\n",
    "import seaborn as sn\n",
    "import pandas as pd\n",
    "import matplotlib.pyplot as plt\n",
    "# matplotlib - \"magic function\" IPython shell, которая задаёт вывод matplotlib.\n",
    "%matplotlib inline"
   ]
  },
  {
   "cell_type": "code",
   "execution_count": 4,
   "metadata": {
    "executionInfo": {
     "elapsed": 264,
     "status": "ok",
     "timestamp": 1648131246128,
     "user": {
      "displayName": "Yaromir Shpilevskiy",
      "photoUrl": "https://lh3.googleusercontent.com/a/default-user=s64",
      "userId": "06486777525784599515"
     },
     "user_tz": -180
    },
    "id": "y5uiDTf_LEBd"
   },
   "outputs": [],
   "source": [
    "# Будут нужны различные вспомогательные методы из numpy.\n",
    "import numpy as np"
   ]
  },
  {
   "cell_type": "code",
   "execution_count": 5,
   "metadata": {
    "colab": {
     "base_uri": "https://localhost:8080/"
    },
    "executionInfo": {
     "elapsed": 1287,
     "status": "ok",
     "timestamp": 1648131250665,
     "user": {
      "displayName": "Yaromir Shpilevskiy",
      "photoUrl": "https://lh3.googleusercontent.com/a/default-user=s64",
      "userId": "06486777525784599515"
     },
     "user_tz": -180
    },
    "id": "XY1AMlc3cOsb",
    "outputId": "fa0351b6-32d7-4c33-e002-7772b0e257ba"
   },
   "outputs": [
    {
     "name": "stdout",
     "output_type": "stream",
     "text": [
      "Downloading data from https://storage.googleapis.com/tensorflow/tf-keras-datasets/mnist.npz\n",
      "11493376/11490434 [==============================] - 0s 0us/step\n",
      "11501568/11490434 [==============================] - 0s 0us/step\n"
     ]
    }
   ],
   "source": [
    "# Скачиваем датасет MNIST с картинками цифр, написанных от руки.\n",
    "(x_train, y_train), (x_test, y_test) = tf.keras.datasets.mnist.load_data()"
   ]
  },
  {
   "cell_type": "code",
   "execution_count": 6,
   "metadata": {
    "colab": {
     "base_uri": "https://localhost:8080/"
    },
    "executionInfo": {
     "elapsed": 14,
     "status": "ok",
     "timestamp": 1648131252972,
     "user": {
      "displayName": "Yaromir Shpilevskiy",
      "photoUrl": "https://lh3.googleusercontent.com/a/default-user=s64",
      "userId": "06486777525784599515"
     },
     "user_tz": -180
    },
    "id": "CEUoNRvaeewS",
    "outputId": "14ac054a-0ea3-4257-aa63-98ae0c1261a7"
   },
   "outputs": [
    {
     "name": "stdout",
     "output_type": "stream",
     "text": [
      "(60000, 28, 28)\n",
      "(10000, 28, 28)\n",
      "(60000,)\n",
      "(10000,)\n",
      "[5 0 4 1 9 2 1 3 1 4]\n",
      "[7 2 1 0 4 1 4 9 5 9]\n"
     ]
    }
   ],
   "source": [
    "# Посмотрим на обучающую и тестовую выборку.\n",
    "print(x_train.shape)\n",
    "print(x_test.shape)\n",
    "print(y_train.shape)\n",
    "print(y_test.shape)\n",
    "print(y_train[:10])\n",
    "print(y_test[:10])\n",
    "\n",
    "# Стоит убедиться, что совпадают размеры массивов входных картинок и их правильных ответов.\n",
    "# И \"fail fast\", если это не так. Не обучать классификатор на кривых данных.\n",
    "assert x_train.shape[0] == y_train.shape[0], f\"В обучающей выборке размер массива входных картинок ({x_train.shape[0]}) и их правильных ответов ({y_train.shape[0]}) не совпадает.\"\n",
    "assert x_test.shape[0] == y_test.shape[0], f\"В обучающей выборке размер массива входных картинок ({x_test.shape[0]}) и их правильных ответов ({y_test.shape[0]}) не совпадает.\"\n"
   ]
  },
  {
   "cell_type": "code",
   "execution_count": 7,
   "metadata": {
    "colab": {
     "base_uri": "https://localhost:8080/",
     "height": 1000
    },
    "executionInfo": {
     "elapsed": 547,
     "status": "ok",
     "timestamp": 1648131261365,
     "user": {
      "displayName": "Yaromir Shpilevskiy",
      "photoUrl": "https://lh3.googleusercontent.com/a/default-user=s64",
      "userId": "06486777525784599515"
     },
     "user_tz": -180
    },
    "id": "89_DAw54LEBu",
    "outputId": "c8c936e9-059a-41c4-952c-da309c460256"
   },
   "outputs": [
    {
     "name": "stdout",
     "output_type": "stream",
     "text": [
      "[[  0   0   0   0   0   0   0   0   0   0   0   0   0   0   0   0   0   0\n",
      "    0   0   0   0   0   0   0   0   0   0]\n",
      " [  0   0   0   0   0   0   0   0   0   0   0   0   0   0   0   0   0   0\n",
      "    0   0   0   0   0   0   0   0   0   0]\n",
      " [  0   0   0   0   0   0   0   0   0   0   0   0   0   0   0   0   0   0\n",
      "    0   0   0   0   0   0   0   0   0   0]\n",
      " [  0   0   0   0   0   0   0   0   0   0   0   0   0   0   0   0   0   0\n",
      "    0   0   0   0   0   0   0   0   0   0]\n",
      " [  0   0   0   0   0   0   0   0   0   0   0   0   0   0   0   0   0   0\n",
      "    0   0   0   0   0   0   0   0   0   0]\n",
      " [  0   0   0   0   0   0   0   0   0   0   0   0   3  18  18  18 126 136\n",
      "  175  26 166 255 247 127   0   0   0   0]\n",
      " [  0   0   0   0   0   0   0   0  30  36  94 154 170 253 253 253 253 253\n",
      "  225 172 253 242 195  64   0   0   0   0]\n",
      " [  0   0   0   0   0   0   0  49 238 253 253 253 253 253 253 253 253 251\n",
      "   93  82  82  56  39   0   0   0   0   0]\n",
      " [  0   0   0   0   0   0   0  18 219 253 253 253 253 253 198 182 247 241\n",
      "    0   0   0   0   0   0   0   0   0   0]\n",
      " [  0   0   0   0   0   0   0   0  80 156 107 253 253 205  11   0  43 154\n",
      "    0   0   0   0   0   0   0   0   0   0]\n",
      " [  0   0   0   0   0   0   0   0   0  14   1 154 253  90   0   0   0   0\n",
      "    0   0   0   0   0   0   0   0   0   0]\n",
      " [  0   0   0   0   0   0   0   0   0   0   0 139 253 190   2   0   0   0\n",
      "    0   0   0   0   0   0   0   0   0   0]\n",
      " [  0   0   0   0   0   0   0   0   0   0   0  11 190 253  70   0   0   0\n",
      "    0   0   0   0   0   0   0   0   0   0]\n",
      " [  0   0   0   0   0   0   0   0   0   0   0   0  35 241 225 160 108   1\n",
      "    0   0   0   0   0   0   0   0   0   0]\n",
      " [  0   0   0   0   0   0   0   0   0   0   0   0   0  81 240 253 253 119\n",
      "   25   0   0   0   0   0   0   0   0   0]\n",
      " [  0   0   0   0   0   0   0   0   0   0   0   0   0   0  45 186 253 253\n",
      "  150  27   0   0   0   0   0   0   0   0]\n",
      " [  0   0   0   0   0   0   0   0   0   0   0   0   0   0   0  16  93 252\n",
      "  253 187   0   0   0   0   0   0   0   0]\n",
      " [  0   0   0   0   0   0   0   0   0   0   0   0   0   0   0   0   0 249\n",
      "  253 249  64   0   0   0   0   0   0   0]\n",
      " [  0   0   0   0   0   0   0   0   0   0   0   0   0   0  46 130 183 253\n",
      "  253 207   2   0   0   0   0   0   0   0]\n",
      " [  0   0   0   0   0   0   0   0   0   0   0   0  39 148 229 253 253 253\n",
      "  250 182   0   0   0   0   0   0   0   0]\n",
      " [  0   0   0   0   0   0   0   0   0   0  24 114 221 253 253 253 253 201\n",
      "   78   0   0   0   0   0   0   0   0   0]\n",
      " [  0   0   0   0   0   0   0   0  23  66 213 253 253 253 253 198  81   2\n",
      "    0   0   0   0   0   0   0   0   0   0]\n",
      " [  0   0   0   0   0   0  18 171 219 253 253 253 253 195  80   9   0   0\n",
      "    0   0   0   0   0   0   0   0   0   0]\n",
      " [  0   0   0   0  55 172 226 253 253 253 253 244 133  11   0   0   0   0\n",
      "    0   0   0   0   0   0   0   0   0   0]\n",
      " [  0   0   0   0 136 253 253 253 212 135 132  16   0   0   0   0   0   0\n",
      "    0   0   0   0   0   0   0   0   0   0]\n",
      " [  0   0   0   0   0   0   0   0   0   0   0   0   0   0   0   0   0   0\n",
      "    0   0   0   0   0   0   0   0   0   0]\n",
      " [  0   0   0   0   0   0   0   0   0   0   0   0   0   0   0   0   0   0\n",
      "    0   0   0   0   0   0   0   0   0   0]\n",
      " [  0   0   0   0   0   0   0   0   0   0   0   0   0   0   0   0   0   0\n",
      "    0   0   0   0   0   0   0   0   0   0]]\n"
     ]
    },
    {
     "data": {
      "text/plain": [
       "<matplotlib.image.AxesImage at 0x7efe4cdf1810>"
      ]
     },
     "execution_count": 7,
     "metadata": {},
     "output_type": "execute_result"
    },
    {
     "data": {
      "image/png": "[encoded data removed]",
      "text/plain": [
       "<Figure size 432x288 with 1 Axes>"
      ]
     },
     "metadata": {
      "needs_background": "light"
     },
     "output_type": "display_data"
    }
   ],
   "source": [
    "# В каком виде элемент.\n",
    "print(x_train[0])\n",
    "plt.imshow(x_train[0], cmap='gray_r')"
   ]
  },
  {
   "cell_type": "code",
   "execution_count": 8,
   "metadata": {
    "colab": {
     "base_uri": "https://localhost:8080/"
    },
    "executionInfo": {
     "elapsed": 386,
     "status": "ok",
     "timestamp": 1648131265821,
     "user": {
      "displayName": "Yaromir Shpilevskiy",
      "photoUrl": "https://lh3.googleusercontent.com/a/default-user=s64",
      "userId": "06486777525784599515"
     },
     "user_tz": -180
    },
    "id": "CuiQdMZlf_bV",
    "outputId": "242f00ea-cdde-4ba5-abd4-c8484db52f94"
   },
   "outputs": [
    {
     "name": "stdout",
     "output_type": "stream",
     "text": [
      "(60000, 784)\n",
      "(10000, 784)\n"
     ]
    }
   ],
   "source": [
    "x_train_flat = x_train.reshape(-1, 28*28)\n",
    "print(x_train_flat.shape)\n",
    "\n",
    "x_test_flat = x_test.reshape(-1, 28*28)\n",
    "print(x_test_flat.shape)"
   ]
  },
  {
   "cell_type": "code",
   "execution_count": 9,
   "metadata": {
    "executionInfo": {
     "elapsed": 472,
     "status": "ok",
     "timestamp": 1648131269703,
     "user": {
      "displayName": "Yaromir Shpilevskiy",
      "photoUrl": "https://lh3.googleusercontent.com/a/default-user=s64",
      "userId": "06486777525784599515"
     },
     "user_tz": -180
    },
    "id": "GdCGJ2qzaY-G"
   },
   "outputs": [],
   "source": [
    "# KNN классификатор.\n",
    "knc = KNeighborsClassifier(n_neighbors=5, n_jobs=-1)"
   ]
  },
  {
   "cell_type": "code",
   "execution_count": 10,
   "metadata": {
    "executionInfo": {
     "elapsed": 248,
     "status": "ok",
     "timestamp": 1648131273481,
     "user": {
      "displayName": "Yaromir Shpilevskiy",
      "photoUrl": "https://lh3.googleusercontent.com/a/default-user=s64",
      "userId": "06486777525784599515"
     },
     "user_tz": -180
    },
    "id": "EUrHVty8fwr9"
   },
   "outputs": [],
   "source": [
    "# Обучаем KNN классификатор.\n",
    "knc = knc.fit(x_train_flat, y_train)"
   ]
  },
  {
   "cell_type": "code",
   "execution_count": 11,
   "metadata": {
    "executionInfo": {
     "elapsed": 47119,
     "status": "ok",
     "timestamp": 1648131323994,
     "user": {
      "displayName": "Yaromir Shpilevskiy",
      "photoUrl": "https://lh3.googleusercontent.com/a/default-user=s64",
      "userId": "06486777525784599515"
     },
     "user_tz": -180
    },
    "id": "JKYwRDS5JFgI"
   },
   "outputs": [],
   "source": [
    "y_pred = knc.predict(x_test_flat)"
   ]
  },
  {
   "cell_type": "code",
   "execution_count": 12,
   "metadata": {
    "colab": {
     "base_uri": "https://localhost:8080/",
     "height": 264
    },
    "executionInfo": {
     "elapsed": 1561,
     "status": "ok",
     "timestamp": 1648131332220,
     "user": {
      "displayName": "Yaromir Shpilevskiy",
      "photoUrl": "https://lh3.googleusercontent.com/a/default-user=s64",
      "userId": "06486777525784599515"
     },
     "user_tz": -180
    },
    "id": "8j0e4909J_lQ",
    "outputId": "810e94e7-3bff-4cd0-e093-6d0cb61f39a3"
   },
   "outputs": [
    {
     "name": "stdout",
     "output_type": "stream",
     "text": [
      "(10000,)\n",
      "[7 2 1 0 4 1 4 9 5 9]\n"
     ]
    },
    {
     "data": {
      "image/png": "[encoded data removed]",
      "text/plain": [
       "<Figure size 432x288 with 10 Axes>"
      ]
     },
     "metadata": {
      "needs_background": "light"
     },
     "output_type": "display_data"
    }
   ],
   "source": [
    "print(y_pred.shape)\n",
    "print(y_pred[:10])\n",
    "\n",
    "fig = plt.figure()\n",
    "\n",
    "for i in range(10):\n",
    "    im_idx = np.argwhere(y_pred == i)[0]\n",
    "    ax = fig.add_subplot(2, 5, i+1)\n",
    "    ax.imshow(x_test[i], cmap='gray_r')"
   ]
  },
  {
   "cell_type": "code",
   "execution_count": 13,
   "metadata": {
    "executionInfo": {
     "elapsed": 248,
     "status": "ok",
     "timestamp": 1648131344296,
     "user": {
      "displayName": "Yaromir Shpilevskiy",
      "photoUrl": "https://lh3.googleusercontent.com/a/default-user=s64",
      "userId": "06486777525784599515"
     },
     "user_tz": -180
    },
    "id": "HxWdy8Vx7pxl"
   },
   "outputs": [],
   "source": [
    "# Confusion matrix.\n",
    "confusion_matrix_arr = confusion_matrix(y_test, y_pred)"
   ]
  },
  {
   "cell_type": "code",
   "execution_count": 14,
   "metadata": {
    "colab": {
     "base_uri": "https://localhost:8080/"
    },
    "executionInfo": {
     "elapsed": 266,
     "status": "ok",
     "timestamp": 1648131347129,
     "user": {
      "displayName": "Yaromir Shpilevskiy",
      "photoUrl": "https://lh3.googleusercontent.com/a/default-user=s64",
      "userId": "06486777525784599515"
     },
     "user_tz": -180
    },
    "id": "xkKyELIfMH13",
    "outputId": "2417d4d7-6818-482b-daef-049c43a416ac"
   },
   "outputs": [
    {
     "name": "stdout",
     "output_type": "stream",
     "text": [
      "[[ 974    1    1    0    0    1    2    1    0    0]\n",
      " [   0 1133    2    0    0    0    0    0    0    0]\n",
      " [  11    8  991    2    1    0    1   15    3    0]\n",
      " [   0    3    3  976    1   13    1    6    3    4]\n",
      " [   3    7    0    0  944    0    4    2    1   21]\n",
      " [   5    0    0   12    2  862    4    1    2    4]\n",
      " [   5    3    0    0    3    2  945    0    0    0]\n",
      " [   0   22    4    0    3    0    0  988    0   11]\n",
      " [   8    3    5   13    6   12    5    5  913    4]\n",
      " [   5    7    3    9    7    3    1   10    2  962]]\n"
     ]
    }
   ],
   "source": [
    "# Напечатаем confusion matrix.\n",
    "print(confusion_matrix_arr)"
   ]
  },
  {
   "cell_type": "code",
   "execution_count": 15,
   "metadata": {
    "colab": {
     "base_uri": "https://localhost:8080/",
     "height": 592
    },
    "executionInfo": {
     "elapsed": 1289,
     "status": "ok",
     "timestamp": 1648131355019,
     "user": {
      "displayName": "Yaromir Shpilevskiy",
      "photoUrl": "https://lh3.googleusercontent.com/a/default-user=s64",
      "userId": "06486777525784599515"
     },
     "user_tz": -180
    },
    "id": "wIrs3XEIMuup",
    "outputId": "5d97d5e1-b287-4ec8-d31d-6a38b0594c2b"
   },
   "outputs": [
    {
     "data": {
      "image/png": "[encoded data removed]",
      "text/plain": [
       "<Figure size 720x720 with 2 Axes>"
      ]
     },
     "metadata": {
      "needs_background": "light"
     },
     "output_type": "display_data"
    }
   ],
   "source": [
    "# Напечатаем confusion matrix красиво. =)\n",
    "# Сделаем из Python массива Pandas DataFrame.\n",
    "confusion_matrix_df = pd.DataFrame(confusion_matrix_arr)\n",
    "# Размер картинки.\n",
    "fig, ax = plt.subplots(figsize=(10,10))\n",
    "# Seaborn Heatmap\n",
    "sn.heatmap(confusion_matrix_df, annot=True, fmt='d', ax=ax, annot_kws={\"size\": 20}) # Размер шрифта.\n",
    "\n",
    "plt.show()"
   ]
  },
  {
   "cell_type": "code",
   "execution_count": 16,
   "metadata": {
    "executionInfo": {
     "elapsed": 260,
     "status": "ok",
     "timestamp": 1648131359507,
     "user": {
      "displayName": "Yaromir Shpilevskiy",
      "photoUrl": "https://lh3.googleusercontent.com/a/default-user=s64",
      "userId": "06486777525784599515"
     },
     "user_tz": -180
    },
    "id": "mLyqXI_0LF0Z"
   },
   "outputs": [],
   "source": [
    "# Другие метрики качества классификации.\n",
    "clf_rep = classification_report(y_test, y_pred)"
   ]
  },
  {
   "cell_type": "code",
   "execution_count": 17,
   "metadata": {
    "colab": {
     "base_uri": "https://localhost:8080/"
    },
    "executionInfo": {
     "elapsed": 302,
     "status": "ok",
     "timestamp": 1648131363862,
     "user": {
      "displayName": "Yaromir Shpilevskiy",
      "photoUrl": "https://lh3.googleusercontent.com/a/default-user=s64",
      "userId": "06486777525784599515"
     },
     "user_tz": -180
    },
    "id": "ZNex-pEeLGn_",
    "outputId": "c1a5ea89-957e-401a-c1fb-f3795c3494cc"
   },
   "outputs": [
    {
     "name": "stdout",
     "output_type": "stream",
     "text": [
      "              precision    recall  f1-score   support\n",
      "\n",
      "           0       0.96      0.99      0.98       980\n",
      "           1       0.95      1.00      0.98      1135\n",
      "           2       0.98      0.96      0.97      1032\n",
      "           3       0.96      0.97      0.97      1010\n",
      "           4       0.98      0.96      0.97       982\n",
      "           5       0.97      0.97      0.97       892\n",
      "           6       0.98      0.99      0.98       958\n",
      "           7       0.96      0.96      0.96      1028\n",
      "           8       0.99      0.94      0.96       974\n",
      "           9       0.96      0.95      0.95      1009\n",
      "\n",
      "    accuracy                           0.97     10000\n",
      "   macro avg       0.97      0.97      0.97     10000\n",
      "weighted avg       0.97      0.97      0.97     10000\n",
      "\n"
     ]
    }
   ],
   "source": [
    "print(clf_rep)"
   ]
  },
  {
   "cell_type": "markdown",
   "metadata": {
    "id": "JuL5kLtqLpWR"
   },
   "source": [
    "Домашнее задание:\n",
    "\n",
    "1. Поэкспериментировать с n_neighbors:\n",
    "* Посмотреть, как влияет на confusion_matrix.\n",
    "* Посмотреть, как влияет на метрики классификации.\n"
   ]
  },
  {
   "cell_type": "markdown",
   "metadata": {
    "id": "wXK8m5PN6XvU"
   },
   "source": [
    "Dataset MNIST: картинки с рукописными цифрами.\n",
    "\n",
    "x: 70_000 картинок размера 28x28.\n",
    "\n",
    "y: 70_000 значений, какая цифра на картинке (0-9).\n",
    "\n",
    "Обучаемся на 60_000 примерах, в результате можем распознать, какая цифра изображена на картинке, в т.ч. для тех 10_000 картинок, которые не входили в обучающую выборку.\n",
    "\n",
    "Реализация методом KNN."
   ]
  },
  {
   "cell_type": "code",
   "execution_count": 1,
   "metadata": {
    "executionInfo": {
     "elapsed": 1708,
     "status": "ok",
     "timestamp": 1648131485019,
     "user": {
      "displayName": "Yaromir Shpilevskiy",
      "photoUrl": "https://lh3.googleusercontent.com/a/default-user=s64",
      "userId": "06486777525784599515"
     },
     "user_tz": -180
    },
    "id": "LCWmjZU6eRyq"
   },
   "outputs": [],
   "source": [
    "from collections import Counter\n",
    "from sklearn.datasets import fetch_openml\n",
    "import matplotlib.pyplot as plt\n",
    "import pandas as pd\n",
    "import time\n",
    "# Более \"низкоуровневый\" подход: используем численные методы из библиотеки numpy. Будет посложнее.\n",
    "import numpy as np"
   ]
  },
  {
   "cell_type": "code",
   "execution_count": 2,
   "metadata": {
    "executionInfo": {
     "elapsed": 378,
     "status": "ok",
     "timestamp": 1648131487441,
     "user": {
      "displayName": "Yaromir Shpilevskiy",
      "photoUrl": "https://lh3.googleusercontent.com/a/default-user=s64",
      "userId": "06486777525784599515"
     },
     "user_tz": -180
    },
    "id": "pmIxMdwST_9L"
   },
   "outputs": [],
   "source": [
    "# Для скачивания данных.\n",
    "import ssl\n",
    "ssl._create_default_https_context = ssl._create_unverified_context"
   ]
  },
  {
   "cell_type": "code",
   "execution_count": 3,
   "metadata": {
    "executionInfo": {
     "elapsed": 245,
     "status": "ok",
     "timestamp": 1648131489801,
     "user": {
      "displayName": "Yaromir Shpilevskiy",
      "photoUrl": "https://lh3.googleusercontent.com/a/default-user=s64",
      "userId": "06486777525784599515"
     },
     "user_tz": -180
    },
    "id": "r5zExostoWgE"
   },
   "outputs": [],
   "source": [
    "# Рассчитывает Эвклидовое расстояние.\n",
    "def euclidean_distance(x,y):   \n",
    "    return np.sqrt(np.sum((x-y)**2))"
   ]
  },
  {
   "cell_type": "code",
   "execution_count": 4,
   "metadata": {
    "executionInfo": {
     "elapsed": 47960,
     "status": "ok",
     "timestamp": 1648131540615,
     "user": {
      "displayName": "Yaromir Shpilevskiy",
      "photoUrl": "https://lh3.googleusercontent.com/a/default-user=s64",
      "userId": "06486777525784599515"
     },
     "user_tz": -180
    },
    "id": "AGpD0MdSUG6n"
   },
   "outputs": [],
   "source": [
    "# Скачиваем данные.\n",
    "x, y = fetch_openml('mnist_784', version=1, return_X_y=True)"
   ]
  },
  {
   "cell_type": "code",
   "execution_count": 5,
   "metadata": {
    "colab": {
     "base_uri": "https://localhost:8080/"
    },
    "executionInfo": {
     "elapsed": 274,
     "status": "ok",
     "timestamp": 1648131544377,
     "user": {
      "displayName": "Yaromir Shpilevskiy",
      "photoUrl": "https://lh3.googleusercontent.com/a/default-user=s64",
      "userId": "06486777525784599515"
     },
     "user_tz": -180
    },
    "id": "jdyIOYC7US3_",
    "outputId": "4b130c44-545e-4b90-a01c-378e04eed237"
   },
   "outputs": [
    {
     "name": "stdout",
     "output_type": "stream",
     "text": [
      "Количество картинок и их размерность:  (70000, 784)\n",
      "Количество правильных ответов к каждой картинке:  (70000,)\n"
     ]
    }
   ],
   "source": [
    "# Посмотрим на данные.\n",
    "# На момент написания: (70000, 784).\n",
    "# Обратите внимание, что в этот датасете картинка 28x28 уже линеаризована в массив из 784 пикселей.\n",
    "print('Количество картинок и их размерность: ', x.shape)\n",
    "print('Количество правильных ответов к каждой картинке: ', y.shape)\n",
    "\n",
    "# Стоит убедиться, что совпадает размер массива входных картинок и их правильных ответов.\n",
    "# И \"fail fast\", если это не так. Не обучать классификатор на кривых данных.\n",
    "assert x.shape[0] == y.shape[0], f\"Размер массива входных картинок ({x.shape[0]}) и их правильных ответов ({y.shape[0]}) не совпадает.\""
   ]
  },
  {
   "cell_type": "code",
   "execution_count": 15,
   "metadata": {
    "colab": {
     "base_uri": "https://localhost:8080/"
    },
    "executionInfo": {
     "elapsed": 10,
     "status": "ok",
     "timestamp": 1648131881699,
     "user": {
      "displayName": "Yaromir Shpilevskiy",
      "photoUrl": "https://lh3.googleusercontent.com/a/default-user=s64",
      "userId": "06486777525784599515"
     },
     "user_tz": -180
    },
    "id": "LPu11U5JeiOz",
    "outputId": "b6d83f50-995d-4a0f-e837-3350ea168fe6"
   },
   "outputs": [
    {
     "name": "stdout",
     "output_type": "stream",
     "text": [
      "<class 'pandas.core.frame.DataFrame'> <class 'numpy.ndarray'>\n"
     ]
    }
   ],
   "source": [
    "n_train = 60_000\n",
    "n_test = 10_000\n",
    "# Граница (в размере элементов) между обучающей и тестовой выборкой.\n",
    "split_boundary = 60_000\n",
    "\n",
    "x_train = x.values[:n_train,:]\n",
    "y_train = y.values[:n_train]\n",
    "x_test, y_test = x.values[split_boundary:split_boundary + n_test, :] , y.values[split_boundary:split_boundary + n_test]"
   ]
  },
  {
   "cell_type": "code",
   "execution_count": 16,
   "metadata": {
    "executionInfo": {
     "elapsed": 239,
     "status": "ok",
     "timestamp": 1648131907124,
     "user": {
      "displayName": "Yaromir Shpilevskiy",
      "photoUrl": "https://lh3.googleusercontent.com/a/default-user=s64",
      "userId": "06486777525784599515"
     },
     "user_tz": -180
    },
    "id": "3rHA5vi_emEn"
   },
   "outputs": [],
   "source": [
    "# Сделаем из Python массивов Pandas DataFrame для картинок.\n",
    "x_train_df = pd.DataFrame(x_train)\n",
    "x_test_df = pd.DataFrame(x_test)"
   ]
  },
  {
   "cell_type": "code",
   "execution_count": 17,
   "metadata": {
    "executionInfo": {
     "elapsed": 336,
     "status": "ok",
     "timestamp": 1648131911900,
     "user": {
      "displayName": "Yaromir Shpilevskiy",
      "photoUrl": "https://lh3.googleusercontent.com/a/default-user=s64",
      "userId": "06486777525784599515"
     },
     "user_tz": -180
    },
    "id": "p4DyL7gwQZ9K"
   },
   "outputs": [],
   "source": [
    "# Сделаем из Python массивов Pandas DataFrame для правильных ответов.\n",
    "y_train_df = pd.DataFrame(data = y_train, columns = ['Цифра'])\n",
    "y_test_df = pd.DataFrame(data = y_test, columns = ['Цифра'])"
   ]
  },
  {
   "cell_type": "code",
   "execution_count": null,
   "metadata": {
    "id": "eQ904bXb-IgG",
    "scrolled": true
   },
   "outputs": [],
   "source": [
    "# Список Эвклидовых расстояний.\n",
    "train_euc_dist = []\n",
    "# Список индексов\n",
    "train_idxs = []\n",
    "# Какие значения K пробуем.\n",
    "k_vals = [1, 3, 5, 7, 9, 11, 13, 15, 17, 19, 21]\n",
    "# Список списков для хранения прогнозируемого значения для каждого K.\n",
    "train_predictions = [[] for _ in range(len(k_vals))]\n",
    "\n",
    "# Обучение.\n",
    "for i in range(0, n_train):\n",
    "    train_vec_1 = x_train_df.iloc[i]\n",
    "    # Сравниваем каждый с каждым.\n",
    "    for j in range(0, n_train):\n",
    "        train_vec_2 = x_train_df.iloc[j]\n",
    "        # Вычисляем Эвклидово расстояние.\n",
    "        euc_dist = euclidean_distance(train_vec_1, train_vec_2)\n",
    "        train_euc_dist.append(euc_dist)\n",
    "        # Сохраняем индекс.\n",
    "        train_idxs.append(j)\n",
    "\n",
    "    # Словарь с результатами.\n",
    "    d = {'index': train_idxs, 'distance': train_euc_dist}\n",
    "    # Создаём Pandas DataFrame\n",
    "    df = pd.DataFrame(d, columns=['index', 'distance'])\n",
    "    # Сортируем во возрастанию Эвклидова расстояния.\n",
    "    df_sorted = df.sort_values(by='distance')\n",
    "\n",
    "    # Итерируемся по пробным значениям K.\n",
    "    for k in range(len(k_vals)):\n",
    "        index_list = list(df_sorted['index'][:k_vals[k]])\n",
    "        distance = list(df_sorted['distance'][:k_vals[k]])\n",
    "        res_list = [y_train[i] for i in index_list]\n",
    "        # Ищем класс с максимальным количеством \"голосов\".\n",
    "        pred_value = max(res_list, key=res_list.count)\n",
    "        # Сохраняем прогнозируемое значение.\n",
    "        train_predictions[k].append(pred_value)\n",
    "\n",
    "    # Обнуляем списки.\n",
    "    train_idxs = []\n",
    "    train_euc_dist = []"
   ]
  },
  {
   "cell_type": "code",
   "execution_count": null,
   "metadata": {
    "id": "50tEu2CH-xs0",
    "scrolled": true
   },
   "outputs": [],
   "source": [
    "# Тестирование.\n",
    "for i in range(0, n_test):\n",
    "    test_vec_1 = df_test.iloc[i]\n",
    "    # Каждый с каждым.\n",
    "    for j in range(0, n_test):\n",
    "        train_vec_2 = df_train.iloc[j]\n",
    "        # Вычисляем Эвклидово расстояние.\n",
    "        euc_dist = euclidean_distance(test_vec_1, train_vec_2)\n",
    "        test_dist.append(euc_dist)\n",
    "        # Сохраняем индекс.\n",
    "        test_idxs.append(j)\n",
    "\n",
    "    # Словарь с результатами.\n",
    "    d = {'index': test_idxs, 'distance': test_dist}\n",
    "    # Создаём Pandas DataFrame\n",
    "    df = pd.DataFrame(d, columns=['index', 'distance'])\n",
    "    # Сортируем во возрастанию Эвклидова расстояния.\n",
    "    df_sorted = df.sort_values(by='distance')\n",
    "\n",
    "    # Итерируемся по пробным значениям K.\n",
    "    for k in range(len(k_vals)):\n",
    "        index_list = list(df_sorted['index'][:k_vals[k]])\n",
    "        distance = list(df_sorted['distance'][:k_vals[k]])\n",
    "        res_list = [train_predictions[k][ind] for ind in index_list]\n",
    "        # Ищем класс с максимальным количеством \"голосов\".\n",
    "        pred_value = max(res_list, key=res_list.count)\n",
    "        # Сохраняем прогнозируемое значение.\n",
    "        test_pred_lists[k].append(pred_value)\n",
    "\n",
    "    # Обнуляем списки.\n",
    "    test_idxs = []\n",
    "    test_dist = []"
   ]
  },
  {
   "cell_type": "code",
   "execution_count": null,
   "metadata": {
    "id": "XGcLsFrYqPbz",
    "outputId": "05c50f64-35ff-4625-d8e5-d5279d3dd237"
   },
   "outputs": [
    {
     "name": "stdout",
     "output_type": "stream",
     "text": [
      "The test accuracy is 90.4% for K=1\n",
      "The test accuracy is 90.9% for K=3\n",
      "The test accuracy is 91.5% for K=5\n",
      "The test accuracy is 90.4% for K=7\n",
      "The test accuracy is 89.8% for K=9\n",
      "The test accuracy is 88.4% for K=11\n",
      "The test accuracy is 88.9% for K=13\n",
      "The test accuracy is 88.3% for K=15\n",
      "The test accuracy is 87.9% for K=17\n",
      "The test accuracy is 87.6% for K=19\n",
      "The test accuracy is 86.8% for K=21\n"
     ]
    }
   ],
   "source": [
    "# Вычисляем результаты для тестовой выборки.\n",
    "test_pred = 0\n",
    "test_pred_result = []\n",
    "for K in range(len(k_values)):\n",
    "    for l1,l2 in zip(test_pred_lists[K], y_test.tolist()):\n",
    "        if l1 == l2:\n",
    "            test_pred += 1\n",
    "    accuracy = test_pred/1000\n",
    "    test_pred_result.append((round(accuracy*100,2)))\n",
    "    print('The test accuracy is '+str(accuracy*100)+'% for K='+str(k_values[K]))\n",
    "    test_pred = 0"
   ]
  },
  {
   "cell_type": "markdown",
   "metadata": {
    "colab_type": "text",
    "id": "iJRLGIMdOVRK"
   },
   "source": [
    "# MNIST: мотивация использовать нейросети"
   ]
  },
  {
   "cell_type": "code",
   "execution_count": 0,
   "metadata": {
    "colab": {},
    "colab_type": "code",
    "id": "NPDfQS-kNO1v"
   },
   "outputs": [],
   "source": [
    "import tensorflow as tf  # пока что используем этот пакет только для скачки данных :)\n",
    "import numpy as np\n",
    "import sklearn\n",
    "import matplotlib.pyplot as plt"
   ]
  },
  {
   "cell_type": "code",
   "execution_count": 0,
   "metadata": {
    "colab": {},
    "colab_type": "code",
    "id": "5ynJ91PONjLN"
   },
   "outputs": [],
   "source": [
    "# скачиваем данные\n",
    "(x_train, y_train), (x_val, y_val) = tf.keras.datasets.mnist.load_data()"
   ]
  },
  {
   "cell_type": "code",
   "execution_count": 3,
   "metadata": {
    "colab": {
     "base_uri": "https://localhost:8080/",
     "height": 85
    },
    "colab_type": "code",
    "id": "gFOePELMN8KM",
    "outputId": "2f971407-6e5b-45d0-b5b7-54ce323ae481"
   },
   "outputs": [
    {
     "name": "stdout",
     "output_type": "stream",
     "text": [
      "(60000, 28, 28)\n",
      "(10000, 28, 28)\n",
      "[5 0 4 1 9 2 1 3 1 4]\n",
      "[7 2 1 0 4 1 4 9 5 9]\n"
     ]
    }
   ],
   "source": [
    "# что за данные\n",
    "print(x_train.shape)\n",
    "print(x_val.shape)\n",
    "print (y_train[:10])\n",
    "print (y_val[:10])"
   ]
  },
  {
   "cell_type": "code",
   "execution_count": 4,
   "metadata": {
    "colab": {
     "base_uri": "https://localhost:8080/",
     "height": 745
    },
    "colab_type": "code",
    "id": "S_1_CbatN_Kt",
    "outputId": "d8463379-66d2-4e23-b7f6-687a0ad72ca1"
   },
   "outputs": [
    {
     "name": "stdout",
     "output_type": "stream",
     "text": [
      "Пример кусочка картинки (пиксели со значениями от 0 до 255):\n"
     ]
    },
    {
     "data": {
      "image/png": "[encoded data removed]",
      "text/plain": [
       "<Figure size 576x396 with 1 Axes>"
      ]
     },
     "metadata": {
      "tags": []
     },
     "output_type": "display_data"
    },
    {
     "name": "stdout",
     "output_type": "stream",
     "text": [
      "Пример картинки:\n"
     ]
    },
    {
     "data": {
      "image/png": "[encoded data removed]",
      "text/plain": [
       "<Figure size 576x396 with 1 Axes>"
      ]
     },
     "metadata": {
      "tags": []
     },
     "output_type": "display_data"
    },
    {
     "name": "stdout",
     "output_type": "stream",
     "text": [
      "y_train [shape (60000,)] 10 примеров:\n",
      " [5 0 4 1 9 2 1 3 1 4]\n"
     ]
    }
   ],
   "source": [
    "# нарисуем картинку\n",
    "x_train_image = np.tile(x_train[5, :, :].reshape((28, 28))[:, :, np.newaxis], (1, 1, 3))\n",
    "print(\"Пример кусочка картинки (пиксели со значениями от 0 до 255):\")\n",
    "plt.imshow(x_train_image[15:20, 5:10], cmap=\"Greys\")\n",
    "plt.show()\n",
    "print(\"Пример картинки:\")\n",
    "plt.imshow(x_train_image, cmap=\"Greys\")\n",
    "plt.show()\n",
    "print(\"y_train [shape %s] 10 примеров:\\n\" % (str(y_train.shape)), y_train[:10])"
   ]
  },
  {
   "cell_type": "markdown",
   "metadata": {
    "colab_type": "text",
    "id": "wZ_4gaiqOPlR"
   },
   "source": [
    "# Линейная модель\n",
    "\n",
    "Линейная модель не умеет работать с двумерным входом, поэтому предлагается превратить картинку 28x28 в вектор длины 28*28=784, выписав ее построчно!\n",
    "\n",
    "<img src=\"https://camo.githubusercontent.com/f663cd4f29335972950dded4d422c07aeee8af55/68747470733a2f2f63646e2d696d616765732d312e6d656469756d2e636f6d2f6d61782f313630302f312a34473067737539327250684e2d636f397076315035414032782e706e67\" width=\"400\">\n"
   ]
  },
  {
   "cell_type": "code",
   "execution_count": 9,
   "metadata": {
    "colab": {
     "base_uri": "https://localhost:8080/",
     "height": 51
    },
    "colab_type": "code",
    "id": "VqB1Agb4OSwn",
    "outputId": "13f4c9d1-e617-4883-f2cf-28000cd21488"
   },
   "outputs": [
    {
     "name": "stdout",
     "output_type": "stream",
     "text": [
      "(60000, 784)\n",
      "(10000, 784)\n"
     ]
    }
   ],
   "source": [
    "x_train_flat = x_train.reshape(-1, 28*28).astype(float)\n",
    "print(x_train_flat.shape)\n",
    "\n",
    "x_val_flat = x_val.reshape(-1, 28*28).astype(float)\n",
    "print(x_val_flat.shape)"
   ]
  },
  {
   "cell_type": "code",
   "execution_count": 0,
   "metadata": {
    "colab": {},
    "colab_type": "code",
    "id": "0D5Yh8npubt9"
   },
   "outputs": [],
   "source": [
    "from sklearn.preprocessing import StandardScaler\n",
    "scaler = StandardScaler()\n",
    "x_train_flat = scaler.fit_transform(x_train_flat)\n",
    "x_val_flat = scaler.transform(x_val_flat)"
   ]
  },
  {
   "cell_type": "code",
   "execution_count": 18,
   "metadata": {
    "colab": {
     "base_uri": "https://localhost:8080/",
     "height": 153
    },
    "colab_type": "code",
    "id": "PPfvt_z8uzzA",
    "outputId": "331c0640-d2f7-4eb3-ca4c-c2d91e352d3a"
   },
   "outputs": [
    {
     "data": {
      "text/plain": [
       "array([ 0.        ,  0.        , -0.03059266, -0.00852241, -0.01408835,\n",
       "       -0.2625969 , -0.16124756,  0.        ,  1.71565971,  0.74933951,\n",
       "       -0.11300485, -0.19700703,  1.12192712,  0.27021375, -0.00577281,\n",
       "       -0.70132425,  1.64634567, -0.1273685 , -0.15382451, -0.19833719,\n",
       "       -0.70732309, -0.00477028, -0.60978718, -0.9194134 , -0.17786005,\n",
       "       -0.16833376,  0.65022085, -0.63188648,  0.        , -0.48806277,\n",
       "        1.17394853, -0.14774138, -0.07003976, -0.61257571,  3.52099754,\n",
       "        0.        , -0.09396514, -0.1826269 , -0.00579016,  0.        ])"
      ]
     },
     "execution_count": 18,
     "metadata": {
      "tags": []
     },
     "output_type": "execute_result"
    }
   ],
   "source": [
    "# кусочек фичей\n",
    "x_train_flat[0, ::20]"
   ]
  },
  {
   "cell_type": "code",
   "execution_count": 19,
   "metadata": {
    "colab": {
     "base_uri": "https://localhost:8080/",
     "height": 105
    },
    "colab_type": "code",
    "id": "TOfQsfBHPh0Z",
    "outputId": "35b6c8f8-6bbb-4201-f8d4-960ee4b8f999"
   },
   "outputs": [
    {
     "name": "stdout",
     "output_type": "stream",
     "text": [
      "CPU times: user 1min 16s, sys: 4.94 s, total: 1min 21s\n",
      "Wall time: 41.2 s\n"
     ]
    },
    {
     "name": "stderr",
     "output_type": "stream",
     "text": [
      "/usr/local/lib/python3.6/dist-packages/sklearn/linear_model/logistic.py:758: ConvergenceWarning: lbfgs failed to converge. Increase the number of iterations.\n",
      "  \"of iterations.\", ConvergenceWarning)\n"
     ]
    }
   ],
   "source": [
    "%%time\n",
    "# обучаем линейную модель, обучается градиентными методами оптимизации\n",
    "from sklearn.linear_model import LogisticRegression\n",
    "clf = LogisticRegression(multi_class=\"multinomial\", solver=\"lbfgs\")\n",
    "clf.fit(x_train_flat, y_train)"
   ]
  },
  {
   "cell_type": "code",
   "execution_count": 21,
   "metadata": {
    "colab": {
     "base_uri": "https://localhost:8080/",
     "height": 34
    },
    "colab_type": "code",
    "id": "VAo61IJMQF1t",
    "outputId": "3c23adfb-cdb3-4624-fa14-57cbdda57987"
   },
   "outputs": [
    {
     "data": {
      "text/plain": [
       "0.9246"
      ]
     },
     "execution_count": 21,
     "metadata": {
      "tags": []
     },
     "output_type": "execute_result"
    }
   ],
   "source": [
    "# не так плохо работает!\n",
    "from sklearn.metrics import accuracy_score\n",
    "accuracy_score(y_val, clf.predict(x_val_flat))"
   ]
  },
  {
   "cell_type": "markdown",
   "metadata": {
    "colab_type": "text",
    "id": "1FWx3v7iQajc"
   },
   "source": [
    "# Градиентный бустинг\n",
    "\n",
    "<img src=\"https://www.researchgate.net/profile/Maria_Peraita-Adrados/publication/326379229/figure/fig5/AS:647978477948928@1531501516288/A-simple-example-of-visualizing-gradient-boosting_W640.jpg\" width=\"300\">\n",
    "\n",
    "Над деревьями делают бустинг и это алгоритм №1 на Kaggle! Проверим в нашей задаче!"
   ]
  },
  {
   "cell_type": "code",
   "execution_count": 32,
   "metadata": {
    "colab": {
     "base_uri": "https://localhost:8080/",
     "height": 238
    },
    "colab_type": "code",
    "id": "_0Dy7dGNQwlW",
    "outputId": "9bb7ccdb-ef67-47b8-dd7c-b2bb4974a5f2"
   },
   "outputs": [
    {
     "name": "stdout",
     "output_type": "stream",
     "text": [
      "      Iter       Train Loss      OOB Improve   Remaining Time \n",
      "         1       39985.6554       28714.1686            3.32m\n",
      "         2       31412.0718        8641.5732            2.95m\n",
      "         3       25408.3052        5680.0781            2.64m\n",
      "         4       21762.9822        3544.6881            2.28m\n",
      "         5       19197.6986        2600.7659            1.89m\n",
      "         6       17329.1094        1901.8676            1.51m\n",
      "         7       15265.1690        1804.2433            1.13m\n",
      "         8       13979.1283        1277.8810           45.27s\n",
      "         9       13082.2559         908.0964           22.60s\n",
      "        10       12156.0697         921.5624            0.00s\n",
      "CPU times: user 3min 48s, sys: 75 ms, total: 3min 48s\n",
      "Wall time: 3min 48s\n"
     ]
    }
   ],
   "source": [
    "%%time\n",
    "# очень долго работает (потому что алгоритм переборный)!\n",
    "from sklearn.ensemble import GradientBoostingClassifier\n",
    "clf = GradientBoostingClassifier(learning_rate=0.3, n_estimators=10, verbose=1, subsample=0.5)\n",
    "clf.fit(x_train_flat, y_train)"
   ]
  },
  {
   "cell_type": "code",
   "execution_count": 33,
   "metadata": {
    "colab": {
     "base_uri": "https://localhost:8080/",
     "height": 34
    },
    "colab_type": "code",
    "id": "lLYqL37qQ9ux",
    "outputId": "e872d0f9-21dd-42ce-cf86-0fa15a52a3fa"
   },
   "outputs": [
    {
     "data": {
      "text/plain": [
       "0.8909"
      ]
     },
     "execution_count": 33,
     "metadata": {
      "tags": []
     },
     "output_type": "execute_result"
    }
   ],
   "source": [
    "# качество так себе, а если картинка будет 300x300 это будет еще и вечность работать!\n",
    "accuracy_score(y_val, clf.predict(x_val_flat))"
   ]
  },
  {
   "cell_type": "markdown",
   "metadata": {
    "colab_type": "text",
    "id": "n8jUd6IORgQh"
   },
   "source": [
    "# Нейросети\n",
    "\n",
    "Соберем сложную функцию как комбинацию простых линейных моделей (например, логистических регрессий):\n",
    "\n",
    "<img src=\"https://cdn-images-1.medium.com/max/1600/1*Gh5PS4R_A5drl5ebd_gNrg@2x.png\" width=\"300\">\n",
    "\n",
    "Для оптимизации всех параметров нам не нужен перебор, мы можем честно посчитать производную потерь по каждому параметру и чуточку их подвинуть! Это работает очень быстро!\n"
   ]
  },
  {
   "cell_type": "code",
   "execution_count": 34,
   "metadata": {
    "colab": {
     "base_uri": "https://localhost:8080/",
     "height": 105
    },
    "colab_type": "code",
    "id": "sJHszdc1Ri1m",
    "outputId": "63e05ec0-6fc5-4d88-8c33-95d0f1dc7338"
   },
   "outputs": [
    {
     "name": "stdout",
     "output_type": "stream",
     "text": [
      "CPU times: user 25.9 s, sys: 8.32 s, total: 34.2 s\n",
      "Wall time: 17.4 s\n"
     ]
    },
    {
     "name": "stderr",
     "output_type": "stream",
     "text": [
      "/usr/local/lib/python3.6/dist-packages/sklearn/neural_network/multilayer_perceptron.py:562: ConvergenceWarning: Stochastic Optimizer: Maximum iterations (10) reached and the optimization hasn't converged yet.\n",
      "  % self.max_iter, ConvergenceWarning)\n"
     ]
    }
   ],
   "source": [
    "%%time\n",
    "from sklearn.neural_network import MLPClassifier  # многослойный персептрон (просто много полносвязных слоев)\n",
    "clf = MLPClassifier(max_iter=10, random_state=0)\n",
    "clf.fit(x_train_flat, y_train)"
   ]
  },
  {
   "cell_type": "code",
   "execution_count": 35,
   "metadata": {
    "colab": {
     "base_uri": "https://localhost:8080/",
     "height": 34
    },
    "colab_type": "code",
    "id": "E44ErFPpSDIy",
    "outputId": "e98fccdc-8636-4e8b-c3ad-78d25cb9e153"
   },
   "outputs": [
    {
     "data": {
      "text/plain": [
       "0.9742"
      ]
     },
     "execution_count": 35,
     "metadata": {
      "tags": []
     },
     "output_type": "execute_result"
    }
   ],
   "source": [
    "# качество выше линейной модели, скорость на высоте!\n",
    "# будем копать в сторону нейросетей!\n",
    "accuracy_score(y_val, clf.predict(x_val_flat))"
   ]
  },
  {
   "cell_type": "code",
   "execution_count": 0,
   "metadata": {
    "colab": {},
    "colab_type": "code",
    "id": "e3p6CJJXW9f4"
   },
   "outputs": [],
   "source": []
  }
 ],
 "metadata": {
  "accelerator": "GPU",
  "colab": {
   "collapsed_sections": [],
   "name": "1_1_1_svc_sklearn_mnist.ipynb",
   "provenance": []
  },
  "kernelspec": {
   "display_name": "Python 3",
   "language": "python",
   "name": "python3"
  },
  "language_info": {
   "codemirror_mode": {
    "name": "ipython",
    "version": 3
   },
   "file_extension": ".py",
   "mimetype": "text/x-python",
   "name": "python",
   "nbconvert_exporter": "python",
   "pygments_lexer": "ipython3",
   "version": "3.9.2"
  }
 },
 "nbformat": 4,
 "nbformat_minor": 0
}
