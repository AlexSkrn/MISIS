{
  "nbformat": 4,
  "nbformat_minor": 0,
  "metadata": {
    "kernelspec": {
      "display_name": "Python 3",
      "language": "python",
      "name": "python3"
    },
    "language_info": {
      "codemirror_mode": {
        "name": "ipython",
        "version": 3
      },
      "file_extension": ".py",
      "mimetype": "text/x-python",
      "name": "python",
      "nbconvert_exporter": "python",
      "pygments_lexer": "ipython3",
      "version": "3.7.7"
    },
    "colab": {
      "name": "Math_05_probability.ipynb",
      "provenance": [],
      "collapsed_sections": []
    }
  },
  "cells": [
    {
      "cell_type": "code",
      "metadata": {
        "id": "kGwZib9tdc7g"
      },
      "source": [
        "import numpy as np\n",
        "import pandas as pd"
      ],
      "execution_count": null,
      "outputs": []
    },
    {
      "cell_type": "markdown",
      "metadata": {
        "id": "BFnsGsvVdc7k"
      },
      "source": [
        "# Теория вероятностей"
      ]
    },
    {
      "cell_type": "markdown",
      "metadata": {
        "id": "nUDHMeqldc7l"
      },
      "source": [
        "## 1. Базовые понятия"
      ]
    },
    {
      "cell_type": "markdown",
      "metadata": {
        "id": "p3Jma8Nrdc7m"
      },
      "source": [
        "**Теория вероятностей** – математическая наука, позволяющая по вероятности одних случайных событий находить вероятности других случайных событий, связанных каким–либо образом между собой.  \n",
        "Любой эксперимент имеет результат. В ТВ результат эксперимента – это **исход**."
      ]
    },
    {
      "cell_type": "markdown",
      "metadata": {
        "id": "WbCzvcCYdc7m"
      },
      "source": [
        "Исход или группа исходов, удовлетворяющих определенным требованием, называется **событием**."
      ]
    },
    {
      "cell_type": "markdown",
      "metadata": {
        "id": "oibMOi5qdc7n"
      },
      "source": [
        "Например, если считать при броске кубика событием выпадение 1, а выпало 3, то событие не произошло."
      ]
    },
    {
      "cell_type": "code",
      "metadata": {
        "id": "ktw4NTW1dc7n",
        "outputId": "fa59ae41-567c-4525-db8d-6196cf55d534"
      },
      "source": [
        "np.random.randint(1, 7)"
      ],
      "execution_count": null,
      "outputs": [
        {
          "data": {
            "text/plain": [
              "1"
            ]
          },
          "execution_count": 90,
          "metadata": {},
          "output_type": "execute_result"
        }
      ]
    },
    {
      "cell_type": "markdown",
      "metadata": {
        "id": "pVrWhpJjdc7p"
      },
      "source": [
        "**Достоверное событие** – это такое событие, которое всегда происходит в рассматриваемом эксперименте.\n",
        "\n",
        "**Невозможное событие** – это такое событие, которое никогда не может наступить в рассматриваемом эксперименте.\n",
        "\n",
        "Событие, которое при воспроизведении опыта может наступить, а может и не наступить, называется **случайным событием**."
      ]
    },
    {
      "cell_type": "code",
      "metadata": {
        "id": "1qjaJwKDdc7p",
        "outputId": "95a138d8-321e-46bc-95bd-55f4535bc85b"
      },
      "source": [
        "# Какое событие здесь будет невозможно, если моделируем бросок кубика?\n",
        "np.random.randint(1, 6)"
      ],
      "execution_count": null,
      "outputs": [
        {
          "data": {
            "text/plain": [
              "3"
            ]
          },
          "execution_count": 99,
          "metadata": {},
          "output_type": "execute_result"
        }
      ]
    },
    {
      "cell_type": "markdown",
      "metadata": {
        "id": "sqH4f-bfdc7q"
      },
      "source": [
        "## Вероятностное пространство"
      ]
    },
    {
      "cell_type": "markdown",
      "metadata": {
        "id": "CYL64uTwdc7r"
      },
      "source": [
        "Вероятностное пространство – $(\\Omega, \\Sigma, P)$\n",
        "\n",
        "* $\\Omega$ – произвольное непустое множество, элементы которого называются исходами  \n",
        "* $\\sigma$ - сигма-алгебра подмножеств $\\Omega$ , называемых случайными событиями:\n",
        "  * $\\sigma$ содержит $\\Omega$\n",
        "  * Если $E \\in \\sigma$, то его дополнение $X \\backslash E \\in \\sigma$\n",
        "  * Объединение или пересечение подмножеств из $\\Sigma$ принадлежит $\\sigma$\n",
        "* $P$ – вероятность, такая, что $P(\\Omega) = 1$"
      ]
    },
    {
      "cell_type": "markdown",
      "metadata": {
        "id": "yrpMe5u2dc7r"
      },
      "source": [
        "**Вероятность** – степень возможности наступления события."
      ]
    },
    {
      "cell_type": "code",
      "metadata": {
        "id": "KX4aoV25dc7r",
        "outputId": "494303ee-63c7-488a-a379-0d4dbe95cac0"
      },
      "source": [
        "np.random.randint(0, 2, 100000000).mean()"
      ],
      "execution_count": null,
      "outputs": [
        {
          "data": {
            "text/plain": [
              "0.5000003"
            ]
          },
          "execution_count": 104,
          "metadata": {},
          "output_type": "execute_result"
        }
      ]
    },
    {
      "cell_type": "code",
      "metadata": {
        "id": "l5drg_Sddc7s",
        "outputId": "96b3b602-6070-45e2-da39-3c0591d4ff8a"
      },
      "source": [
        "number_of_rolls = 1000000\n",
        "dice_rolls = np.random.randint(1, 7, number_of_rolls)\n",
        "len(np.where(dice_rolls == 1)[0]) / number_of_rolls"
      ],
      "execution_count": null,
      "outputs": [
        {
          "data": {
            "text/plain": [
              "0.167004"
            ]
          },
          "execution_count": 147,
          "metadata": {},
          "output_type": "execute_result"
        }
      ]
    },
    {
      "cell_type": "code",
      "metadata": {
        "id": "k_UU50zzdc7s",
        "outputId": "690f1f32-7e7e-4ee8-e447-9986c79e10fa"
      },
      "source": [
        "1/6"
      ],
      "execution_count": null,
      "outputs": [
        {
          "data": {
            "text/plain": [
              "0.16666666666666666"
            ]
          },
          "execution_count": 106,
          "metadata": {},
          "output_type": "execute_result"
        }
      ]
    },
    {
      "cell_type": "markdown",
      "metadata": {
        "id": "NNtiIFmydc7s"
      },
      "source": [
        "### Дополнение, Объединение, Пересечение"
      ]
    },
    {
      "cell_type": "markdown",
      "metadata": {
        "id": "-PtW8eVkdc7t"
      },
      "source": [
        "Дополнение – есть событие $A$ с вероятностью $P(A)$ и событие $B = \\Omega \\backslash A$, тогда $P(B) = 1 - P(A)$"
      ]
    },
    {
      "cell_type": "markdown",
      "metadata": {
        "id": "psoeXgb4dc7t"
      },
      "source": [
        "Объединение – $A \\cup B$. Произошло либо $A$, либо $B$, либо $A$ и $B$ одновременно"
      ]
    },
    {
      "cell_type": "markdown",
      "metadata": {
        "id": "jsNAwMp5dc7t"
      },
      "source": [
        "Пересечение – $A \\cap B$. Произошли одновременно $A$ и $B$"
      ]
    },
    {
      "cell_type": "markdown",
      "metadata": {
        "id": "xDAQNURNdc7t"
      },
      "source": [
        "## 2. Условная вероятность"
      ]
    },
    {
      "cell_type": "markdown",
      "metadata": {
        "id": "Xq4kzgnydc7t"
      },
      "source": [
        "$P(A|B)$ – вероятность события $A$ при условии, что $B$ произошло"
      ]
    },
    {
      "cell_type": "markdown",
      "metadata": {
        "id": "gYnXu5ZSdc7u"
      },
      "source": [
        "$$P(A|B) = \\frac{P(A \\cap B)}{P(B)}$$"
      ]
    },
    {
      "cell_type": "code",
      "metadata": {
        "id": "hSVffMOOdc7u"
      },
      "source": [
        "data = pd.read_csv(\"./data.csv\")"
      ],
      "execution_count": null,
      "outputs": []
    },
    {
      "cell_type": "code",
      "metadata": {
        "colab": {
          "base_uri": "https://localhost:8080/",
          "height": 235
        },
        "id": "7GRmdQAFdc7u",
        "outputId": "4a228346-6157-44d9-c59c-a3c93d76f46e"
      },
      "source": [
        "data"
      ],
      "execution_count": null,
      "outputs": [
        {
          "output_type": "execute_result",
          "data": {
            "text/html": [
              "<div>\n",
              "<style scoped>\n",
              "    .dataframe tbody tr th:only-of-type {\n",
              "        vertical-align: middle;\n",
              "    }\n",
              "\n",
              "    .dataframe tbody tr th {\n",
              "        vertical-align: top;\n",
              "    }\n",
              "\n",
              "    .dataframe thead th {\n",
              "        text-align: right;\n",
              "    }\n",
              "</style>\n",
              "<table border=\"1\" class=\"dataframe\">\n",
              "  <thead>\n",
              "    <tr style=\"text-align: right;\">\n",
              "      <th></th>\n",
              "      <th>company</th>\n",
              "      <th>model</th>\n",
              "      <th>rating</th>\n",
              "      <th>type</th>\n",
              "    </tr>\n",
              "  </thead>\n",
              "  <tbody>\n",
              "    <tr>\n",
              "      <th>0</th>\n",
              "      <td>ford</td>\n",
              "      <td>mustang</td>\n",
              "      <td>A</td>\n",
              "      <td>coupe</td>\n",
              "    </tr>\n",
              "    <tr>\n",
              "      <th>1</th>\n",
              "      <td>chevy</td>\n",
              "      <td>camaro</td>\n",
              "      <td>B</td>\n",
              "      <td>coupe</td>\n",
              "    </tr>\n",
              "    <tr>\n",
              "      <th>2</th>\n",
              "      <td>ford</td>\n",
              "      <td>fiesta</td>\n",
              "      <td>C</td>\n",
              "      <td>sedan</td>\n",
              "    </tr>\n",
              "    <tr>\n",
              "      <th>3</th>\n",
              "      <td>ford</td>\n",
              "      <td>focus</td>\n",
              "      <td>A</td>\n",
              "      <td>sedan</td>\n",
              "    </tr>\n",
              "    <tr>\n",
              "      <th>4</th>\n",
              "      <td>ford</td>\n",
              "      <td>taurus</td>\n",
              "      <td>B</td>\n",
              "      <td>sedan</td>\n",
              "    </tr>\n",
              "    <tr>\n",
              "      <th>5</th>\n",
              "      <td>toyota</td>\n",
              "      <td>camry</td>\n",
              "      <td>B</td>\n",
              "      <td>sedan</td>\n",
              "    </tr>\n",
              "  </tbody>\n",
              "</table>\n",
              "</div>"
            ],
            "text/plain": [
              "  company    model rating   type\n",
              "0    ford  mustang      A  coupe\n",
              "1   chevy   camaro      B  coupe\n",
              "2    ford   fiesta      C  sedan\n",
              "3    ford    focus      A  sedan\n",
              "4    ford   taurus      B  sedan\n",
              "5  toyota    camry      B  sedan"
            ]
          },
          "metadata": {},
          "execution_count": 28
        }
      ]
    },
    {
      "cell_type": "code",
      "metadata": {
        "colab": {
          "base_uri": "https://localhost:8080/"
        },
        "id": "0GQTIOKjdc7u",
        "outputId": "ede28d1d-94b9-409a-97e5-773855bf8cd1"
      },
      "source": [
        "rating_probs = data.groupby('rating').size().div(len(data))\n",
        "rating_probs"
      ],
      "execution_count": null,
      "outputs": [
        {
          "output_type": "execute_result",
          "data": {
            "text/plain": [
              "rating\n",
              "A    0.333333\n",
              "B    0.500000\n",
              "C    0.166667\n",
              "dtype: float64"
            ]
          },
          "metadata": {},
          "execution_count": 29
        }
      ]
    },
    {
      "cell_type": "markdown",
      "metadata": {
        "id": "6My8NlE-dc7u"
      },
      "source": [
        "Посчитаем все условные вероятности для $P(type|rating)$"
      ]
    },
    {
      "cell_type": "code",
      "metadata": {
        "colab": {
          "base_uri": "https://localhost:8080/"
        },
        "id": "-j3pbQ_uPtGo",
        "outputId": "8357eac1-bcdf-488c-d7b0-cbd8ca44baa0"
      },
      "source": [
        "data.groupby(['type', 'rating']).size().div(len(data))"
      ],
      "execution_count": null,
      "outputs": [
        {
          "output_type": "execute_result",
          "data": {
            "text/plain": [
              "type   rating\n",
              "coupe  A         0.166667\n",
              "       B         0.166667\n",
              "sedan  A         0.166667\n",
              "       B         0.333333\n",
              "       C         0.166667\n",
              "dtype: float64"
            ]
          },
          "metadata": {},
          "execution_count": 36
        }
      ]
    },
    {
      "cell_type": "code",
      "metadata": {
        "id": "NRJXLS4idc7v",
        "outputId": "c2f23c7a-7b62-4257-e777-0b4e581720f3"
      },
      "source": [
        "data.groupby(['type', 'rating']).size().div(len(data)).div(rating_probs, axis=0, level='rating')\n"
      ],
      "execution_count": null,
      "outputs": [
        {
          "data": {
            "text/plain": [
              "type   rating\n",
              "coupe  A         0.500000\n",
              "       B         0.333333\n",
              "sedan  A         0.500000\n",
              "       B         0.666667\n",
              "       C         1.000000\n",
              "dtype: float64"
            ]
          },
          "execution_count": 54,
          "metadata": {},
          "output_type": "execute_result"
        }
      ]
    },
    {
      "cell_type": "code",
      "metadata": {
        "id": "WLVj4XXLdc7v",
        "outputId": "9a125fbd-acc0-45df-abff-73a7a8c56aaa"
      },
      "source": [
        "data['count'] = 1\n",
        "pivot = pd.pivot_table(\n",
        "    data, \n",
        "    values='count', \n",
        "    index=['rating'], \n",
        "    columns=['type'], \n",
        "    aggfunc=np.size, \n",
        "    fill_value=0\n",
        ")\n",
        "pivot"
      ],
      "execution_count": null,
      "outputs": [
        {
          "data": {
            "text/html": [
              "<div>\n",
              "<style scoped>\n",
              "    .dataframe tbody tr th:only-of-type {\n",
              "        vertical-align: middle;\n",
              "    }\n",
              "\n",
              "    .dataframe tbody tr th {\n",
              "        vertical-align: top;\n",
              "    }\n",
              "\n",
              "    .dataframe thead th {\n",
              "        text-align: right;\n",
              "    }\n",
              "</style>\n",
              "<table border=\"1\" class=\"dataframe\">\n",
              "  <thead>\n",
              "    <tr style=\"text-align: right;\">\n",
              "      <th>type</th>\n",
              "      <th>coupe</th>\n",
              "      <th>sedan</th>\n",
              "    </tr>\n",
              "    <tr>\n",
              "      <th>rating</th>\n",
              "      <th></th>\n",
              "      <th></th>\n",
              "    </tr>\n",
              "  </thead>\n",
              "  <tbody>\n",
              "    <tr>\n",
              "      <th>A</th>\n",
              "      <td>1</td>\n",
              "      <td>1</td>\n",
              "    </tr>\n",
              "    <tr>\n",
              "      <th>B</th>\n",
              "      <td>1</td>\n",
              "      <td>2</td>\n",
              "    </tr>\n",
              "    <tr>\n",
              "      <th>C</th>\n",
              "      <td>0</td>\n",
              "      <td>1</td>\n",
              "    </tr>\n",
              "  </tbody>\n",
              "</table>\n",
              "</div>"
            ],
            "text/plain": [
              "type    coupe  sedan\n",
              "rating              \n",
              "A           1      1\n",
              "B           1      2\n",
              "C           0      1"
            ]
          },
          "execution_count": 58,
          "metadata": {},
          "output_type": "execute_result"
        }
      ]
    },
    {
      "cell_type": "markdown",
      "metadata": {
        "id": "y4uq6K0Mdc7v"
      },
      "source": [
        "Посчитаем по pivot table условную вероятность для $P(coupe|A)$"
      ]
    },
    {
      "cell_type": "code",
      "metadata": {
        "id": "IeAVWh8Zdc7v",
        "outputId": "f9c15132-d635-47ff-bd05-aba26825e14c"
      },
      "source": [
        "(1/(1 + 1 + 1 + 2 + 1))/(1/3)"
      ],
      "execution_count": null,
      "outputs": [
        {
          "data": {
            "text/plain": [
              "0.5"
            ]
          },
          "execution_count": 56,
          "metadata": {},
          "output_type": "execute_result"
        }
      ]
    },
    {
      "cell_type": "code",
      "metadata": {
        "id": "qonrNPGsdc7w",
        "outputId": "37d8be0d-8c90-4436-b1cf-28f3c0a6cdef"
      },
      "source": [
        "(pivot.loc['A', 'coupe']/(pivot.sum().sum())) / rating_probs['A']"
      ],
      "execution_count": null,
      "outputs": [
        {
          "data": {
            "text/plain": [
              "0.5"
            ]
          },
          "execution_count": 61,
          "metadata": {},
          "output_type": "execute_result"
        }
      ]
    },
    {
      "cell_type": "markdown",
      "metadata": {
        "id": "pE4HpnpUdc7w"
      },
      "source": [
        "## 3. Формула Байеса"
      ]
    },
    {
      "cell_type": "markdown",
      "metadata": {
        "id": "dLH_BnlLdc7w"
      },
      "source": [
        "$$P(A|B) = \\frac{P(B|A) \\cdot P(A)}{P(B)}$$"
      ]
    },
    {
      "cell_type": "markdown",
      "metadata": {
        "id": "em6n7mdDdc7w"
      },
      "source": [
        "Выводится из формулы условной вероятности:"
      ]
    },
    {
      "cell_type": "markdown",
      "metadata": {
        "id": "5Or2scogdc7w"
      },
      "source": [
        "$$P(A|B) = \\frac{P(A \\cap B)}{P(B)}$$\n",
        "$$P(B|A) = \\frac{P(B \\cap A)}{P(A)}$$\n",
        "$$P(A \\cap B) = P(B \\cap A) \\implies$$\n",
        "$$P(A \\cap B) = P(A|B) \\cdot P(B) = P(B|A) \\cdot P(A) \\implies$$\n",
        "$$P(A|B) = \\frac{P(B|A) \\cdot P(A)}{P(B)}$$"
      ]
    },
    {
      "cell_type": "markdown",
      "metadata": {
        "id": "3NZljLhndc7w"
      },
      "source": [
        "Поговорим про лекарства:  \n",
        "Допустим, надо оценить вероятность того, что человек принимает лекарства (U – принимает, !U – не принимает)  \n",
        "Тест может вернуть положительный или отрицательный результат (+ или -)"
      ]
    },
    {
      "cell_type": "markdown",
      "metadata": {
        "id": "wteS-4Cgdc7w"
      },
      "source": [
        "Допустим, наш тест имеет sensitivity 97% – из 100 человек тест будет True Positive у 97  \n",
        "Допустим, наш тест имеет specificity 95% – из 100 человек тест будет True Negative у 95  \n",
        "Также, мы знаем, что 0.5% нашего населения использует это лекарство (наш Prior)\n",
        "\n",
        "Какая вероятность, что случайно взятый человек будет использовать лекарство?"
      ]
    },
    {
      "cell_type": "markdown",
      "metadata": {
        "id": "DwGU7FS3dc7x"
      },
      "source": [
        "$$P(U|+) = \\frac{P(+|U) \\cdot P(U)}{P(+)} = \\frac{P(+|U) \\cdot P(U)}{P(+|U) \\cdot P(U) + P(+|!U) \\cdot p(!U)}$$"
      ]
    },
    {
      "cell_type": "markdown",
      "metadata": {
        "id": "V9MSaWJEdc7x"
      },
      "source": [
        "$P(U) = распространенность \\space (prevalence)$  \n",
        "$P(!U) = 1 - P(U)$  \n",
        "$P(+|U) = sensitivity$  \n",
        "$P(-|!U) = specificity$  \n",
        "$P(+|!U) = 1 - specificity$"
      ]
    },
    {
      "cell_type": "code",
      "metadata": {
        "id": "XDai2kzvdc7x"
      },
      "source": [
        "def drug_user(\n",
        "        sensitivity=0.97,\n",
        "        specificity=0.95,\n",
        "        prevalence=0.005):\n",
        "    \n",
        "    p_user = prevalence\n",
        "    p_non_user = 1 - prevalence\n",
        "    p_pos_user = sensitivity\n",
        "    p_neg_user = specificity\n",
        "    p_pos_non_user = 1 - specificity\n",
        "    \n",
        "    num = p_pos_user * p_user\n",
        "    den = p_pos_user * p_user + p_pos_non_user * p_non_user\n",
        "    \n",
        "    prob = num/den\n",
        "    \n",
        "    return prob"
      ],
      "execution_count": null,
      "outputs": []
    },
    {
      "cell_type": "code",
      "metadata": {
        "colab": {
          "base_uri": "https://localhost:8080/"
        },
        "id": "ES2cKOjCdc7y",
        "outputId": "e0bbf1d9-5ab8-43ab-a2e0-3dbf2dacae28"
      },
      "source": [
        "drug_user(sensitivity=0.97, specificity=0.95, prevalence=0.005)"
      ],
      "execution_count": null,
      "outputs": [
        {
          "output_type": "execute_result",
          "data": {
            "text/plain": [
              "0.08882783882783876"
            ]
          },
          "metadata": {},
          "execution_count": 39
        }
      ]
    },
    {
      "cell_type": "markdown",
      "metadata": {
        "id": "M8TUmIDadc7y"
      },
      "source": [
        "Получается, даже при большой чувствительности и специфичности мы находим человека, использующего лекарство, при положительном тесте всего в 9% случаев"
      ]
    },
    {
      "cell_type": "markdown",
      "metadata": {
        "id": "xrxscO2Ydc7y"
      },
      "source": [
        "## 4. Случайные величины"
      ]
    },
    {
      "cell_type": "markdown",
      "metadata": {
        "id": "f78bkwmUdc7y"
      },
      "source": [
        "### Матожидание и дисперсия"
      ]
    },
    {
      "cell_type": "markdown",
      "metadata": {
        "id": "mSDletS7dc7y"
      },
      "source": [
        "Математическое ожидание $E(X)$ – среднее значение случайной величины."
      ]
    },
    {
      "cell_type": "markdown",
      "metadata": {
        "id": "LNQ_fKDydc7y"
      },
      "source": [
        "Дисперсия $D(X)$ – разброс случайной величины. Стандартное отклонение – корень из дисперсии."
      ]
    },
    {
      "cell_type": "code",
      "metadata": {
        "id": "WHzOz5rGdc7y",
        "colab": {
          "base_uri": "https://localhost:8080/"
        },
        "outputId": "720b37a2-4cbb-49d7-82b6-c644dbe0c792"
      },
      "source": [
        "data = np.random.randint(0, 10, 5000)\n",
        "data"
      ],
      "execution_count": null,
      "outputs": [
        {
          "output_type": "execute_result",
          "data": {
            "text/plain": [
              "array([7, 0, 7, ..., 3, 3, 5])"
            ]
          },
          "metadata": {},
          "execution_count": 6
        }
      ]
    },
    {
      "cell_type": "code",
      "metadata": {
        "id": "TB5I4PH1dc7y",
        "colab": {
          "base_uri": "https://localhost:8080/"
        },
        "outputId": "25fc72c8-0bf4-43e7-f4c2-0ac547913226"
      },
      "source": [
        "E = data.mean()\n",
        "E\n",
        "# 4.543"
      ],
      "execution_count": null,
      "outputs": [
        {
          "output_type": "execute_result",
          "data": {
            "text/plain": [
              "4.5354"
            ]
          },
          "metadata": {},
          "execution_count": 3
        }
      ]
    },
    {
      "cell_type": "code",
      "metadata": {
        "id": "O2n2lyL5dc7z",
        "colab": {
          "base_uri": "https://localhost:8080/"
        },
        "outputId": "1a6f4a1f-79d3-4ecf-c232-37b19a082a49"
      },
      "source": [
        "D = np.square(data.std())\n",
        "D\n",
        "# 8.194951000000001"
      ],
      "execution_count": null,
      "outputs": [
        {
          "output_type": "execute_result",
          "data": {
            "text/plain": [
              "8.125257560000001"
            ]
          },
          "metadata": {},
          "execution_count": 8
        }
      ]
    },
    {
      "cell_type": "code",
      "metadata": {
        "colab": {
          "base_uri": "https://localhost:8080/"
        },
        "id": "kyRJ7rUgbT-g",
        "outputId": "886d0537-30f2-4671-aa9f-a01611f1ba65"
      },
      "source": [
        "data.std()"
      ],
      "execution_count": null,
      "outputs": [
        {
          "output_type": "execute_result",
          "data": {
            "text/plain": [
              "2.8504837414025013"
            ]
          },
          "metadata": {},
          "execution_count": 7
        }
      ]
    },
    {
      "cell_type": "markdown",
      "metadata": {
        "id": "wmoUQ_Twdc7z"
      },
      "source": [
        "### Функция распределения и плотность вероятности"
      ]
    },
    {
      "cell_type": "markdown",
      "metadata": {
        "id": "u3UtpYnBdc7z"
      },
      "source": [
        "Функция распределения (Cumulative Distribution Function, CDF): $F(x) = P(X \\leq x)$  \n",
        "Значение функции распределения в точке $x$ равно вероятности события ${X \\leq x}$"
      ]
    },
    {
      "cell_type": "markdown",
      "metadata": {
        "id": "MSh9G26zdc7z"
      },
      "source": [
        "Функция плотности вероятности (Probability Density Function, PDF): такая $f(X)$, что \n",
        "$$P(\\xi \\in [a, b]) = \\int_a^b f(x)dx$$\n",
        "\n",
        "То есть, можем получить вероятность события, взяв интеграл по функции распределения."
      ]
    },
    {
      "cell_type": "markdown",
      "metadata": {
        "id": "U7w-V46Jdc7z"
      },
      "source": [
        "Вероятность того, что переменная попала в промежуток $[a, b]$ = $F(b) - F(a)$"
      ]
    },
    {
      "cell_type": "code",
      "metadata": {
        "colab": {
          "base_uri": "https://localhost:8080/",
          "height": 592
        },
        "id": "_0WBspeHdc7z",
        "outputId": "3e29d80c-8f71-44fe-fc73-9d16edaef613"
      },
      "source": [
        "import matplotlib.pyplot as plt\n",
        "import seaborn as sns\n",
        "import scipy\n",
        "\n",
        "x = np.random.randn(10000) \n",
        "norm_cdf = scipy.stats.norm.cdf(x) \n",
        "norm_pdf = scipy.stats.norm.pdf(x) \n",
        "\n",
        "plt.figure(figsize=(12, 10))\n",
        "sns.lineplot(x=x, y=norm_cdf, label='cdf')\n",
        "sns.lineplot(x=x, y=norm_pdf, label='pdf')\n",
        "plt.show();"
      ],
      "execution_count": null,
      "outputs": [
        {
          "output_type": "display_data",
          "data": {
            "image/png": "[encoded data removed]",
            "text/plain": [
              "<Figure size 864x720 with 1 Axes>"
            ]
          },
          "metadata": {
            "needs_background": "light"
          }
        }
      ]
    },
    {
      "cell_type": "markdown",
      "metadata": {
        "id": "8C7nUZo_dc7z"
      },
      "source": [
        "### Распределение среднего"
      ]
    },
    {
      "cell_type": "markdown",
      "metadata": {
        "id": "jr52w4hDdc70"
      },
      "source": [
        "Если мы возьмем случайные примеры ($X_1 .. X_n$) из выборки с $E = \\mu$ и $D = \\sigma^2$, то распределение следующей случайной величины будет нормальным: \n",
        "$$Z = \\frac{\\bar{X} - \\mu}{\\frac{\\sigma}{\\sqrt(n)}}$$\n",
        "При $n \\rightarrow \\infty$  \n",
        "Это называется Центральная Предельная Теорема"
      ]
    },
    {
      "cell_type": "code",
      "metadata": {
        "colab": {
          "base_uri": "https://localhost:8080/",
          "height": 673
        },
        "id": "OCLNihBIdc70",
        "outputId": "6addad6a-d2b5-4268-887b-9099e769a6e8"
      },
      "source": [
        "def repeat_sample_draws_exponential(n, samp_size, mu):\n",
        "    means = []\n",
        "    samples = []\n",
        "    for i in range(0, n):\n",
        "        samples.append(np.random.exponential(mu, samp_size))\n",
        "        means.append(np.mean(samples[i]))\n",
        "\n",
        "    plt.clf()\n",
        "    plt.figure(figsize=(12, 10))\n",
        "    plt.hist(means, bins=100, histtype='step')\n",
        "    plt.title('Распределение по {} выборкам'.format(n))\n",
        "    plt.xlabel('Среднее значение по одной выборке')\n",
        "    print('Матожидание {0:.2f}'.format(np.mean(means)))\n",
        "    print('Стандартное отклонение {0:.2f}'.format(np.std(means)))\n",
        "\n",
        "repeat_sample_draws_exponential(1000, 100, 170)"
      ],
      "execution_count": null,
      "outputs": [
        {
          "output_type": "stream",
          "name": "stdout",
          "text": [
            "Матожидание 171.24\n",
            "Стандартное отклонение 16.61\n"
          ]
        },
        {
          "output_type": "display_data",
          "data": {
            "text/plain": [
              "<Figure size 432x288 with 0 Axes>"
            ]
          },
          "metadata": {}
        },
        {
          "output_type": "display_data",
          "data": {
            "image/png": "[encoded data removed]",
            "text/plain": [
              "<Figure size 864x720 with 1 Axes>"
            ]
          },
          "metadata": {
            "needs_background": "light"
          }
        }
      ]
    },
    {
      "cell_type": "markdown",
      "metadata": {
        "id": "j5AySfZ9dc70"
      },
      "source": [
        "$\\sigma_{sample_mean} = \\frac{\\sigma_{population}}{\\sqrt{sample_size}}$"
      ]
    },
    {
      "cell_type": "markdown",
      "source": [
        "# Медиана и дисперсия дискретного распределения"
      ],
      "metadata": {
        "id": "GLjte2p5F-T9"
      }
    },
    {
      "cell_type": "code",
      "source": [
        "import scipy.stats\n",
        "from scipy import optimize\n",
        "\n",
        "# найдите медиану распределения\n",
        "values = [[10, 20], [0.2, 0.8]]\n",
        "X = scipy.stats.rv_discrete(values=values)\n",
        "X.median()"
      ],
      "metadata": {
        "colab": {
          "base_uri": "https://localhost:8080/"
        },
        "id": "Y-YG4RAhF9-p",
        "outputId": "dd4ff5e4-4b97-446a-b6d7-c5ca26d59dcf"
      },
      "execution_count": null,
      "outputs": [
        {
          "output_type": "execute_result",
          "data": {
            "text/plain": [
              "20.0"
            ]
          },
          "metadata": {},
          "execution_count": 7
        }
      ]
    },
    {
      "cell_type": "code",
      "source": [
        "values = [[10, 15, 20, 30], [0.25, 0.25, 0.2, 0.3]]\n",
        "X = scipy.stats.rv_discrete(values=values)\n",
        "X.median()"
      ],
      "metadata": {
        "colab": {
          "base_uri": "https://localhost:8080/"
        },
        "id": "KLiOGbR4GEb5",
        "outputId": "1122ffac-4b00-4f2d-8766-61c38d749410"
      },
      "execution_count": null,
      "outputs": [
        {
          "output_type": "execute_result",
          "data": {
            "text/plain": [
              "15.0"
            ]
          },
          "metadata": {},
          "execution_count": 8
        }
      ]
    },
    {
      "cell_type": "code",
      "source": [
        "values = [[10, 15, 20, 30, 1000000], [0.25, 0.25, 0.2, 0.2, 0.1]]\n",
        "X = scipy.stats.rv_discrete(values=values)\n",
        "X.median()"
      ],
      "metadata": {
        "colab": {
          "base_uri": "https://localhost:8080/"
        },
        "id": "NTkyjWzMGJcE",
        "outputId": "a0d9fe6a-d09c-4cb9-851a-36cda3c46ec6"
      },
      "execution_count": null,
      "outputs": [
        {
          "output_type": "execute_result",
          "data": {
            "text/plain": [
              "15.0"
            ]
          },
          "metadata": {},
          "execution_count": 9
        }
      ]
    },
    {
      "cell_type": "code",
      "source": [
        "values = [[-1, 0, 1, 2], [0.5, 0.2, 0.2, 0.1]]\n",
        "X = scipy.stats.rv_discrete(values=values)\n",
        "X.var()"
      ],
      "metadata": {
        "colab": {
          "base_uri": "https://localhost:8080/"
        },
        "id": "hcn4UbjMGMHF",
        "outputId": "55c2ec30-0480-456a-bd8d-2c5985ac1824"
      },
      "execution_count": null,
      "outputs": [
        {
          "output_type": "execute_result",
          "data": {
            "text/plain": [
              "1.09"
            ]
          },
          "metadata": {},
          "execution_count": 10
        }
      ]
    },
    {
      "cell_type": "code",
      "source": [
        "X.std()"
      ],
      "metadata": {
        "colab": {
          "base_uri": "https://localhost:8080/"
        },
        "id": "DSehANeSGP7u",
        "outputId": "9af3deb7-a1aa-4a71-8ab0-cc103f2f1c64"
      },
      "execution_count": null,
      "outputs": [
        {
          "output_type": "execute_result",
          "data": {
            "text/plain": [
              "1.044030650891055"
            ]
          },
          "metadata": {},
          "execution_count": 11
        }
      ]
    },
    {
      "cell_type": "code",
      "source": [
        "def f(x):\n",
        "  return -(x - x**2)\n",
        "\n",
        "optimize.minimize(f, x0=0.1)"
      ],
      "metadata": {
        "colab": {
          "base_uri": "https://localhost:8080/"
        },
        "id": "tgwpdQh7GVD4",
        "outputId": "91ac7b4b-0aec-4e95-e7db-d0f6a2ee20d9"
      },
      "execution_count": null,
      "outputs": [
        {
          "output_type": "execute_result",
          "data": {
            "text/plain": [
              "      fun: -0.24999999999999994\n",
              " hess_inv: array([[0.5]])\n",
              "      jac: array([0.])\n",
              "  message: 'Optimization terminated successfully.'\n",
              "     nfev: 12\n",
              "      nit: 2\n",
              "     njev: 4\n",
              "   status: 0\n",
              "  success: True\n",
              "        x: array([0.49999999])"
            ]
          },
          "metadata": {},
          "execution_count": 12
        }
      ]
    },
    {
      "cell_type": "markdown",
      "source": [
        "# Дискретное равномерное распределение\n",
        "\n",
        "$X \\sim Uniform([a, b])$\n",
        "\n",
        "Равновероятные модели (генератор случайных чисел, равномерный шум)\n",
        "\n",
        "$EX = \\frac{a + b}{2}$\n",
        "\n",
        "$var = \\frac{n^2 - 1}{12}$\n",
        "\n",
        "$std = \\frac{n-1}{\\sqrt{12}}$\n",
        "\n",
        "$std = \\frac{b-a}{\\sqrt{12}}$, для непрервыного"
      ],
      "metadata": {
        "id": "9NgCdeXxE0yr"
      }
    },
    {
      "cell_type": "markdown",
      "source": [
        "Задача 1\n",
        "\n",
        "Найдите ожидаемое количество эклеров и стандартное отклонение при покупке в равновероятной модели.\n",
        "\n",
        "Решение:\n",
        "\n",
        "Пусть X — количество купленных эклеров, N = 6, P = 1/6 "
      ],
      "metadata": {
        "id": "0wEhHNUuE74q"
      }
    },
    {
      "cell_type": "code",
      "source": [
        "from sympy.stats import DiscreteUniform, density, variance, E\n",
        "\n",
        "X = DiscreteUniform(name='X', items=list(range(1, 7)))\n",
        "\n",
        "print(density(X).dict)\n",
        "print(E(X))\n",
        "print(variance(X)**(1/2))"
      ],
      "metadata": {
        "colab": {
          "base_uri": "https://localhost:8080/"
        },
        "id": "eNmTGzIxE_P8",
        "outputId": "3cefcba3-e3eb-4d3c-8b71-89d267bfdcd5"
      },
      "execution_count": null,
      "outputs": [
        {
          "output_type": "stream",
          "name": "stdout",
          "text": [
            "{1: 1/6, 2: 1/6, 3: 1/6, 4: 1/6, 5: 1/6, 6: 1/6}\n",
            "7/2\n",
            "1.70782512765993\n"
          ]
        }
      ]
    },
    {
      "cell_type": "markdown",
      "source": [
        "# Распределение Бернулли\n",
        "\n",
        "$EX = np$, n независимых опытов\n",
        "\n",
        "$var(X) = npq$, p - success, q - failure (= 1-p)\n",
        "\n",
        "$std(X) = \\sqrt{np(1-p)}$\n",
        "\n",
        "Вероятность из n опытов k успехов:\n",
        "\n",
        "$P_n(k) = C_n^k \\cdot p^k \\cdot q^{n-k}$"
      ],
      "metadata": {
        "id": "gOP1lLcnFJHu"
      }
    },
    {
      "cell_type": "markdown",
      "source": [
        "Задача 2\n",
        "\n",
        "Вы стреляете по мишени. Вероятность попасть составляет 60%. В случае успеха вы выиграете плюшевого мишку стоимостью 3000 рублей, а в случае промаха — ничего. У вас один выстрел. Сколько должен стоить билет, чтобы обеспечить fair game?"
      ],
      "metadata": {
        "id": "hPchbvskIhc6"
      }
    },
    {
      "cell_type": "code",
      "source": [
        "from sympy.stats import Bernoulli, density, variance\n",
        "\n",
        "succ, fail = 3000, 0  # цена успеха, неуспеха\n",
        "prob = 0.6  # вероятность успеха\n",
        "\n",
        "X = Bernoulli(name='X', p=prob, succ=succ, fail=fail)\n",
        "print(E(X))\n",
        "print(variance(X)/succ)  # =3000*0.6*0.4"
      ],
      "metadata": {
        "colab": {
          "base_uri": "https://localhost:8080/"
        },
        "id": "9MgMOa35FMEi",
        "outputId": "f7a01282-1eb3-4ce0-f7fe-354aec780b88"
      },
      "execution_count": null,
      "outputs": [
        {
          "output_type": "stream",
          "name": "stdout",
          "text": [
            "1800.00000000000\n",
            "720.000000000000\n"
          ]
        }
      ]
    },
    {
      "cell_type": "markdown",
      "source": [
        "Задача\n",
        "\n",
        "Поисковая система показывает выдачу. Пользователь кликает на продукт с вероятностью p=0.6. В случае клика случайная величина = 1, иначе = 0. Найти матожидание и диспесрсию. X = {число кликов на одну выдачу}, X = {0; 1}\n",
        "\n",
        "$EX = np = 1*0.6 = 0.6$\n",
        "\n",
        "$Var(X) = npq = 1*0.6*0.4 = 0.24$\n",
        "\n",
        "Найти матожидание и дисперсию, если рассматривать величину \"среднее количество кликов\".\n",
        "\n",
        "$\\overline X =$ {среднее число кликов среди n повторений}, то есть среднее число кликов на 1 выдачу (100 раз показали, 60 раз кликнули)\n",
        "\n",
        "$E(\\overline X) = E(\\frac{x_1 + x_2 + ... +x_n}{n}) = \\frac{1}{n} E(x_1+x_2+...+x_n) = \\frac{1}{n}(na) = a = 0.6, a= E(X_i)$\n",
        "\n",
        "$Var(\\overline X) = Var(\\frac{x_1 + x_2 + ... +x_n}{n}) = \\frac{1}{n^2} E(x_1+x_2+...+x_n) = \\frac{1}{n^2}(n \\sigma^2) = \\frac{\\sigma^2}{n} = \\frac{0.24}{n}$\n",
        "\n",
        "$\\sigma_{\\overline X} = \\sqrt{\\frac{0.24}{n}}$"
      ],
      "metadata": {
        "id": "WYMrXJZbQM39"
      }
    },
    {
      "cell_type": "markdown",
      "source": [
        "# Биномиальное распределение Bi(n, p)\n",
        "\n",
        "Биномиальный закон $P_n(k) = C_n^k \\cdot p^k \\cdot q^{n-k}$\n",
        "\n",
        "Задача\n",
        "\n",
        "Из всех, кликнувших на рекламу магазина, покупку совершает в среднем каждый сотый. Магазин закупил у поисковой системы 10,000 кликов. Найти матожидание и дисперсию количество покупок. p = 1/100. В среднем 100 кликов - 1 покупка. \n",
        "\n",
        "X = {число покупок среди n=10,000 кликов}\n",
        "\n",
        "схема Бернулли\n",
        "\n",
        "n = 10,000, p = 1/100, q=1-p = 99/100, p приблизительно не меняется\n",
        "\n",
        "$EX = np = 10^4 \\frac{1}{100} = 100$\n",
        "\n",
        "$Var(X) = npq = 10^4 \\cdot \\frac{1}{100} \\cdot \\frac{99}{100} = 99$\n",
        "\n",
        "$\\sigma \\approx 10$\n",
        "\n",
        "$3 \\sigma = 30$\n",
        "\n",
        "В большинстве случаев число покупок 100 +- 30\n",
        "\n",
        "(70; 130) правило 3-x сигм\n",
        "\n",
        "\n",
        "\n",
        "\n"
      ],
      "metadata": {
        "id": "ptFFLBDdVXPv"
      }
    },
    {
      "cell_type": "markdown",
      "source": [
        "Задача 3\n",
        "\n",
        "Сравните две рекламных стратегии: в одной конверсия составляет 2%, но баннер увидит  100 000 пользователей, а в другой конверсия 40%, но охват всего  5000 пользователей."
      ],
      "metadata": {
        "id": "4SgGm7zwFRI-"
      }
    },
    {
      "cell_type": "code",
      "source": [
        "from sympy.stats import Binomial, density\n",
        "\n",
        "X = Binomial('X', n=100000, p=0.02, succ=1, fail=0)\n",
        "Y = Binomial('Y', n=5000, p=0.4, succ=1, fail=0)\n",
        "\n",
        "# print(E(X))  # 100 000 * 0.02 = 2000\n",
        "# print(E(Y))  # 5000 * 0.4 = 2000\n",
        "\n",
        "# variance(X)**(1/2)  # std = sqrt(n*p(1-p)) approx. 44\n",
        "# variance(Y)**(1/2)  # approx 34"
      ],
      "metadata": {
        "id": "ZsBnF5BjFb_b"
      },
      "execution_count": null,
      "outputs": []
    },
    {
      "cell_type": "code",
      "source": [
        "# Задание 16.1\n",
        "\n",
        "# Вы стреляете по мишени. Вероятность набрать максимальное количество очков составляет 7%. \n",
        "# В этом случае вы выиграете плюшевого мишку стоимостью 5000 рублей, а если наберете \n",
        "# меньше максимума — ничего. Сколько рублей должен стоить билет, чтобы обеспечить fair game?\n",
        "from sympy.stats import Bernoulli\n",
        "\n",
        "\n",
        "X = Bernoulli(name='X', p=0.07, succ=5000, fail=0)\n",
        "print(E(X))"
      ],
      "metadata": {
        "colab": {
          "base_uri": "https://localhost:8080/"
        },
        "id": "rabsMTDpFifP",
        "outputId": "59ae4c8c-ed1c-4ae8-b662-1b7ac7d94c3d"
      },
      "execution_count": null,
      "outputs": [
        {
          "output_type": "stream",
          "name": "stdout",
          "text": [
            "350.000000000000\n"
          ]
        }
      ]
    },
    {
      "cell_type": "code",
      "source": [
        "# Задание 16.2\n",
        "\n",
        "# Вы купили 85 лотерейных билетов. У каждого вероятность выигрыша составляет 0.001. \n",
        "# Каково ожидаемое количество выигрышных билетов?\n",
        "from sympy.stats import Binomial\n",
        "\n",
        "X = Binomial('X', n=85, p=0.001, succ=1, fail=0)\n",
        "E(X)"
      ],
      "metadata": {
        "colab": {
          "base_uri": "https://localhost:8080/",
          "height": 37
        },
        "id": "tLDgyyqBFlAI",
        "outputId": "29198223-ce97-47c0-e9f1-70443c22de2c"
      },
      "execution_count": null,
      "outputs": [
        {
          "output_type": "execute_result",
          "data": {
            "text/latex": "$\\displaystyle 0.085$",
            "text/plain": [
              "0.0850000000000000"
            ]
          },
          "metadata": {},
          "execution_count": 5
        }
      ]
    },
    {
      "cell_type": "markdown",
      "source": [
        "**Задача**\n",
        "\n",
        "Банк выдает 5 кредитов. Вероятность невозврата кредита = 0.2. Составить закон распределения кол-ва заемщиков, не вернувших кредит по окончению срока кредитования\n",
        "\n",
        "X - число кредитов, 1 заемщик - 1 кредит\n",
        "```\n",
        "   k\n",
        "X     0       1        2      3      4       5  - сколько клиентов кредитов не вернули\n",
        "P 0.32748  0.4096  0.2048  0.0512  0.0064 0.000322\n",
        "```\n",
        "\n",
        "\n",
        "$k=0, P_5(0) = C_5^0 \\cdot 0.2^0 \\cdot 0.8^5$"
      ],
      "metadata": {
        "id": "q75O4yl_nVkh"
      }
    },
    {
      "cell_type": "markdown",
      "source": [
        "**Задача**\n",
        "\n",
        "Вероятность перевыполнения плана орг-ции P1 = 0.9, P2 = 0.8, P3 = 0.7\n",
        "\n",
        "X - число орг-ций, перевыполнивших план\n",
        "\n",
        "Найти закон распредел., функцию распр. F(x), матожидание M(X) и дисперсию D(X)\n",
        "\n",
        "q1 = 0.1, q2 = 0.2, q3 = 0.3\n",
        "\n",
        "```\n",
        "X    0   1  2  3 - кол-во орг-ций, перевыполнивних план\n",
        "P  0.006\n",
        "```\n",
        "\n",
        "Проверить, дают ли в сумме единицу!\n",
        "\n",
        "$P(0) = q1 \\cdot q2 \\cdot q3 = 0.006$\n",
        "\n",
        "$p(1) = p1 \\cdot q2 \\cdot q2 + p2 \\cdot q1 \\cdot q3 + p3 \\cdot q1 \\cdot q2 = 0.092$\n",
        "\n",
        "$p(2) = p1 p2 q3 + p1 p3 q2 + p2 p3 q1 = 0.398$\n",
        "\n",
        "$p(3) = p1p2p3 = 0.504"
      ],
      "metadata": {
        "id": "Xl9QRpz-lFlW"
      }
    },
    {
      "cell_type": "markdown",
      "source": [
        "Функция распр. - это функция, определ-яя вероят. события, при котором с.в. X примет значение, меьшее чем x: \n",
        "\n",
        " \\begin{align}\n",
        "        $F(x) = P(X < x) = \\left\\{\n",
        "        \\begin{array}{cl}\n",
        "        0 & x \\le 0 \\\\\n",
        "        p1=0.006 & 0 < x \\le 1 \\\\\n",
        "        p2+p1=0.098 & 1 < x \\le 2\\\\\n",
        "        0.4968 & 2 < x \\le 3\\\\\n",
        "        1 & x > 3\n",
        "        \\end{array}\n",
        "        \\right.\n",
        "    \\end{align}\n",
        "\n",
        "Ступенчатая функция\n",
        "\n",
        "```\n",
        "  k          0      1     2        3   sum\n",
        "p_i       0.006   0092   0392  0.504   1\n",
        "X           0       1     2      3\n",
        "xp_i       0     0092    0796  1512    2.4 = M(X)\n",
        "x_i^2 p_i  0     0092    1.592  4.536  6.22 = M(X^2)\n",
        "```\n",
        "\n",
        "$D(x) = M(X^2) - M^2(X) = 6.22 - 2.4^2 = 0.46$\n",
        "\n",
        "среднеквадратическое отклонение\n",
        "\n",
        "$\\sigma (X) = \\sqrt{D(x)} ≈ 0.68$\n"
      ],
      "metadata": {
        "id": "8PWumxOMrGJH"
      }
    },
    {
      "cell_type": "markdown",
      "source": [
        "**Задача**\n",
        "\n",
        "При перевозке грузов повреждается в среднем 1 деталь из 12. Отправлена партия из 6 деталей. \n",
        "\n",
        "X - кол-во поврежденных деталей\n",
        "\n",
        "Найти закон распр. числа поврежд. деталей\n",
        "\n",
        "p = 1/12, q = 11/12\n",
        "\n",
        "```\n",
        "X    0         1   2  3  4  5  6 \n",
        "P  (11/12)^6\n",
        "```\n",
        "Формала Бернули\n",
        "\n",
        "$p(0) = C_6^0 (1/12)^0(11/12)^6$\n",
        "\n",
        "$M(x) = np = 6 \\cdot \\frac{1}{12} = 0.5$\n",
        "\n",
        "$D(x) = npq = 6 \\cdot \\frac{1}{12} \\cdot \\frac{11}{12} = \\frac{11}{24} = 0.46$"
      ],
      "metadata": {
        "id": "TsafF7PUvdK2"
      }
    },
    {
      "cell_type": "markdown",
      "source": [
        "# Распределение Пуассона (n - кол-во испытаний (большое), p - вероятность (малая))\n",
        "\n",
        "**Задача А**\n",
        "\n",
        "Магазин ожидает, что у них в среднем 100 покупок в день. Оценить разборос кол-ва покупок в разные дни.\n",
        "\n",
        "Если в схеме Бернулли n велико, а p мало, то можно приблизить законом Пуассона.\n",
        "\n",
        "$f(x) = \\frac {λ^x e^{-λ}}{x!}$\n",
        "\n",
        "x - число несчастных случаев, дефектов\n",
        "\n",
        "λ - среднее кол-во \"успехов\" за данное время = np = 100 (среднее число событий за 24 часа)\n",
        "\n",
        "$X \\sim P(λ=100)$\n",
        "\n",
        "$EX = Var(X) = λ = 100$\n",
        "\n",
        "**Задача Б**\n",
        "\n",
        "Оценить время ожидания до следующего заказа.\n",
        "\n",
        "В прошлой задаче был поток событий за 24 часа.\n",
        "\n",
        "X = {время ожидания покупки}\n",
        "\n",
        "X - непрерывная случайная величина\n",
        "\n",
        "**Экспоненциальный закон**\n",
        "\n",
        "\\begin{align}\n",
        "        f(x) = \\left\\{\n",
        "        \\begin{array}{cl}\n",
        "        0 & x \\lt 0 \\\\\n",
        "        λe^{-λx} & x >= 0\n",
        "        \\end{array}\n",
        "        \\right.\n",
        "    \\end{align}\n",
        "\n",
        "\n",
        "$EX = \\frac{1}{λ} = \\frac{1}{100}$ - за ед. времени\n",
        "\n",
        "$Var(X) = \\frac{1}{λ^2} = \\frac{1}{10^4}$\n",
        "\n",
        "Тогда для времени 24 ч.:\n",
        "\n",
        "$EX = \\frac{24 \\cdot 60}{100} = 14.4$ мин"
      ],
      "metadata": {
        "id": "kH78RAv-b0EJ"
      }
    },
    {
      "cell_type": "code",
      "source": [
        "# Задание 16.3/ 20.1\n",
        "\n",
        "# Иван Петрович 20 лет живет в доме, в котором 30 лифтов и одна кнопка вызова. За это время \n",
        "# он провел много измерений и предполагает, что если нажать на кнопку, то количество лифтов, \n",
        "# пришедших за минуту, подчиняется распределению Пуассона с lambda=2. Это значит, что\n",
        "\n",
        "# E(X) = lambda, в среднем приходит 2 лифта в минуту/В среднем лифта приходится ждать полминуты"
      ],
      "metadata": {
        "id": "AwRYRTmNFoTr"
      },
      "execution_count": null,
      "outputs": []
    },
    {
      "cell_type": "markdown",
      "source": [
        "**Задача**\n",
        "\n",
        "Отравлено n=10,000 изделий, вероятность повреждения 1 изделия p=0.0003. Найти вероятность, что прибудут 4 поврежденных изделия.\n",
        "\n",
        "P : 4 поврежденных\n",
        "\n",
        "n = 10,000; x=4\n",
        "\n",
        "$\\lambda = np = 10000 \\cdot 0.0003 = 3$\n",
        "\n",
        "$P_{10000}(4) = 0.168$\n",
        "\n"
      ],
      "metadata": {
        "id": "2MRzzuv-xWpu"
      }
    },
    {
      "cell_type": "markdown",
      "source": [
        "**Задача**\n",
        "\n",
        "Вероятность сбоя в работе телефон. станции при каждом вызове p=0.004, поступило n=500 вызовов. Определить вероятность P(9) сбоев\n",
        "\n",
        "x = 9\n",
        "\n",
        "$λ = np = 2$ - среднее кол-во сбоев\n",
        "\n",
        "$P_{500}(9) ≈ \\frac{2^9e^{-2}}{9!} = 0.0002$\n",
        "\n",
        "\n",
        "Вероятность от 4 до 6 сбоев $P(4 <= X <= 6) = P(4) + P(5) + P(6)$\n"
      ],
      "metadata": {
        "id": "97fp7lgCzY23"
      }
    },
    {
      "cell_type": "markdown",
      "source": [
        "Задача\n",
        "\n",
        "Число атак истребителей, к-ым может подвергнуться бомбардировщик имеет матожидание a = M(X) = 3. Каждая атака с вероятностью 0.4 заканчивается поражением бомбардировщика. Определить вероятность поражения в результате 3 атак.\n",
        "\n",
        "$P_3 = P(3) = \\frac{a^x e^{-a}}{x!} = \\frac{3^3 e^{-3}}{3!} ≈ 0.244$\n",
        "\n",
        "1-ая атака неуспешная, 2-ая неуспешная, 3-я неуспешная\n",
        "\n",
        "$q = (1-p)(1-p)(1-p) = (1-0.4)^3 = 0.216$ Вероятность того, что будет 3 неуспешных атаки\n",
        "\n",
        "Хотя бы 1 успешная - это противоположная вероятность: p = 1 - 0.216 = 0.784 - вероятн., что бомб. будет поражен хотя бы 1 раз из 3 \n",
        "\n",
        "Умножаем вероятностть совершения трех атак на вероятность поражения в результате хотя бы 1:\n",
        "\n",
        "$P_3p = 0.244 \\cdot 0.784 = 0.1756$"
      ],
      "metadata": {
        "id": "5zsC1UtL2INm"
      }
    },
    {
      "cell_type": "markdown",
      "source": [
        "Задача \n",
        "\n",
        "Вероятность хотя бы 1 сбоя ЭВМ в сутки. $\\lambda = 1.5$\n",
        "\n",
        "x = 0\n",
        "\n",
        "$P_0 = \\frac{1.5^0e^{-1.5}}{0!} = 0.2231$\n",
        "\n",
        "$P(x>=1) = 1 - P_0 = 0.777$"
      ],
      "metadata": {
        "id": "Ks9ODJBX4-qT"
      }
    },
    {
      "cell_type": "markdown",
      "metadata": {
        "id": "bjbzLM3IP3I1"
      },
      "source": [
        "# Парные дискретные распределения "
      ]
    },
    {
      "cell_type": "code",
      "metadata": {
        "id": "N8RGJGwLP3fz"
      },
      "source": [
        "# 17.3\n",
        "\n",
        "from math import sqrt\n",
        "\n",
        "def mu(X, P):\n",
        "    \"\"\"Return mean of probability distribution.\"\"\"\n",
        "    return sum([x*p for x, p in zip(X, P)])\n",
        "\n",
        "def std(X, P, mu):\n",
        "    \"\"\"Return standard deviation of probability distributin.\"\"\"\n",
        "    return sqrt(sum([(x - mu)**2 * p for x, p in zip(X, P)]))\n",
        "\n",
        "def expected_val(X, P):\n",
        "    \"\"\"Return expected value of probability distribution.\"\"\"\n",
        "    return sum([x*p for x, p in zip(X, P)])\n",
        "\n",
        "def exp_val_xy(X, Y, P):\n",
        "    \"\"\"Return expected value of joint probability distribution.\n",
        "\n",
        "    P must be given by columns as a one-dim array.\n",
        "    \"\"\"\n",
        "    P = iter(P)\n",
        "    e_xy = 0\n",
        "    for y in Y:\n",
        "        for x in X:\n",
        "            e_xy += y*x*next(P)\n",
        "\n",
        "    return e_xy"
      ],
      "execution_count": null,
      "outputs": []
    },
    {
      "cell_type": "code",
      "metadata": {
        "colab": {
          "base_uri": "https://localhost:8080/"
        },
        "id": "OrYD4NimZdll",
        "outputId": "b4232eac-8371-4fb9-baa0-b83761d92a8b"
      },
      "source": [
        "xy_p = [0.1, 0.3, 0.2, 0.1, 0.1, 0.2]\n",
        "\n",
        "x = [-1, 0, 1]\n",
        "p_x = [0.2, 0.4, 0.4]\n",
        "\n",
        "std_x = std(x, p_x, mu(x, p_x)) \n",
        "print('Std X =', std_x)\n",
        "\n",
        "e_x = expected_val(x, p_x)\n",
        "print('E(X) =', e_x)"
      ],
      "execution_count": null,
      "outputs": [
        {
          "output_type": "stream",
          "name": "stdout",
          "text": [
            "Std X = 0.7483314773547883\n",
            "E(X) = 0.2\n"
          ]
        }
      ]
    },
    {
      "cell_type": "code",
      "metadata": {
        "colab": {
          "base_uri": "https://localhost:8080/"
        },
        "id": "AqK4fPXpQtoJ",
        "outputId": "eef4a7e8-8b47-4216-8431-600fc8befd92"
      },
      "source": [
        "y = [0, 1]\n",
        "p_y = [0.6, 0.4]\n",
        "\n",
        "std_y = std(y, p_y, mu(y, p_y))\n",
        "print('Std Y =', std_y)\n",
        "\n",
        "e_y = expected_val(y, p_y)\n",
        "print('E(Y) =', e_y)"
      ],
      "execution_count": null,
      "outputs": [
        {
          "output_type": "stream",
          "name": "stdout",
          "text": [
            "Std Y = 0.4898979485566356\n",
            "E(Y) = 0.4\n"
          ]
        }
      ]
    },
    {
      "cell_type": "code",
      "metadata": {
        "colab": {
          "base_uri": "https://localhost:8080/"
        },
        "id": "JO-AEQkkRB5g",
        "outputId": "9220d4c8-6c9e-48eb-d576-667ded38621f"
      },
      "source": [
        "e_xy = exp_val_xy(x, y, xy_p)\n",
        "print('E(XY) =', e_xy)"
      ],
      "execution_count": null,
      "outputs": [
        {
          "output_type": "stream",
          "name": "stdout",
          "text": [
            "E(XY) = 0.1\n"
          ]
        }
      ]
    },
    {
      "cell_type": "code",
      "metadata": {
        "colab": {
          "base_uri": "https://localhost:8080/"
        },
        "id": "cyKxlnnsY9mE",
        "outputId": "e1cf7ee8-2425-41fe-faaf-98b31836935a"
      },
      "source": [
        "cov_xy = e_xy - e_x*e_y\n",
        "print('cov(XY) = E(XY) - E(X)*E(Y) =', round(cov_xy, 3))"
      ],
      "execution_count": null,
      "outputs": [
        {
          "output_type": "stream",
          "name": "stdout",
          "text": [
            "cov(XY) = E(XY) - E(X)*E(Y) = 0.02\n"
          ]
        }
      ]
    },
    {
      "cell_type": "code",
      "metadata": {
        "colab": {
          "base_uri": "https://localhost:8080/"
        },
        "id": "kEK13ja7Z3YZ",
        "outputId": "248e2738-7599-41ab-b31d-3416011deb77"
      },
      "source": [
        "corr_xy = cov_xy / (std_x * std_y)\n",
        "print('corr(XY) = cov(XY)/(std X *std Y) =', round(corr_xy, 3))"
      ],
      "execution_count": null,
      "outputs": [
        {
          "output_type": "stream",
          "name": "stdout",
          "text": [
            "corr(XY) = cov(XY)/(std X *std Y) = 0.055\n"
          ]
        }
      ]
    },
    {
      "cell_type": "code",
      "metadata": {
        "id": "SOE541lRaT0y"
      },
      "source": [
        ""
      ],
      "execution_count": null,
      "outputs": []
    }
  ]
}