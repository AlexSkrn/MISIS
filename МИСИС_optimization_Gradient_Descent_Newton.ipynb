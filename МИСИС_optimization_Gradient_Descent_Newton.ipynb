{
  "nbformat": 4,
  "nbformat_minor": 0,
  "metadata": {
    "kernelspec": {
      "display_name": "Python 3",
      "language": "python",
      "name": "python3"
    },
    "language_info": {
      "codemirror_mode": {
        "name": "ipython",
        "version": 3
      },
      "file_extension": ".py",
      "mimetype": "text/x-python",
      "name": "python",
      "nbconvert_exporter": "python",
      "pygments_lexer": "ipython3",
      "version": "3.6.8"
    },
    "colab": {
      "name": "МИСИС-optimization-Gradient_Descent-Newton.ipynb",
      "provenance": [],
      "collapsed_sections": []
    }
  },
  "cells": [
    {
      "cell_type": "markdown",
      "metadata": {
        "id": "Aa5TZAbXBcc0"
      },
      "source": [
        "https://ru.wikipedia.org/wiki/Функция_Розенброка\n",
        "\n",
        "для оценки производительности алгоритмов оптимизации\n",
        "\n",
        "Она имеет глобальный минимум в точке ${(x,y)=(1,1)}$ где ${f(x,y)=0}$."
      ]
    },
    {
      "cell_type": "code",
      "metadata": {
        "id": "N7DaACIF-Hf-"
      },
      "source": [
        "def f(x, y):\n",
        "    return (1 - x) ** 2 + 100 * (y - x ** 2) ** 2\n",
        "def grad(x, y):\n",
        "    dx = 2 * x - 2 + 100 * (-4 * y * x + 4 * x ** 3)\n",
        "    dy = 100 * (2 * y - 2 * x ** 2)\n",
        "    return (dx, dy)"
      ],
      "execution_count": null,
      "outputs": []
    },
    {
      "cell_type": "code",
      "metadata": {
        "id": "MBRKSiaG-HgI"
      },
      "source": [
        "def dist(x1, x2):\n",
        "    \"\"\"Квадрат расстояния между векторами (x_new - x_cur).\"\"\"\n",
        "    return (x1[0] - x2[0]) ** 2 + (x1[1] - x2[1]) ** 2"
      ],
      "execution_count": null,
      "outputs": []
    },
    {
      "cell_type": "code",
      "metadata": {
        "colab": {
          "base_uri": "https://localhost:8080/"
        },
        "id": "ELKQUlPf-HgE",
        "outputId": "5281aad8-1e93-4167-87bb-d28d1010d2d9"
      },
      "source": [
        "x0 = (0, 2)  # начальная точка\n",
        "gamma = 1e-3  # если 0.1, то не работает, слишком большой шаг\n",
        "x_cur = x0\n",
        "\n",
        "vals = []\n",
        "coords = []\n",
        "i = 0\n",
        "while True:\n",
        "    x_new = (x_cur[0] - gamma * grad(*x_cur)[0],\n",
        "            x_cur[1] - gamma * grad(*x_cur)[1])\n",
        "    # функция f(x, y) положительная, поэтому первый вариант условия остановки: if f(*x_cur) < 0.01:\n",
        "    # последние 2,000 итераций точка практически не изменялась, поэтому\n",
        "    # можем отслеживать расстояние между точками как условие остановки\n",
        "    if dist(x_new, x_cur) < 1e-9:  \n",
        "        break\n",
        "    x_cur = x_new\n",
        "    vals.append(f(*x_cur))\n",
        "    coords.append(x_cur)\n",
        "    i += 1\n",
        "    if i % 1000 == 0:\n",
        "        print(f\"iter={i}; x=({x_cur[0]:.2f}, {x_cur[1]:.2f});\"\n",
        "              f\" f(x)={f(*x_cur):.2f}; grad f(x)=({grad(*x_cur)[0]:.2f}, {grad(*x_cur)[1]:.2f})\")"
      ],
      "execution_count": null,
      "outputs": [
        {
          "output_type": "stream",
          "name": "stdout",
          "text": [
            "iter=1000; x=(0.68, 0.47); f(x)=0.10; grad f(x)=(-0.22, -0.30)\n",
            "iter=2000; x=(0.83, 0.68); f(x)=0.03; grad f(x)=(-0.09, -0.15)\n",
            "iter=3000; x=(0.89, 0.80); f(x)=0.01; grad f(x)=(-0.05, -0.09)\n",
            "iter=4000; x=(0.93, 0.87); f(x)=0.00; grad f(x)=(-0.03, -0.06)\n",
            "iter=5000; x=(0.96, 0.92); f(x)=0.00; grad f(x)=(-0.02, -0.04)\n"
          ]
        }
      ]
    },
    {
      "cell_type": "code",
      "metadata": {
        "id": "1vat30Z7-HgG"
      },
      "source": [
        "import matplotlib.pyplot as plt\n",
        "import numpy as np"
      ],
      "execution_count": null,
      "outputs": []
    },
    {
      "cell_type": "code",
      "metadata": {
        "colab": {
          "base_uri": "https://localhost:8080/",
          "height": 282
        },
        "id": "Nc-mTxKh-HgH",
        "outputId": "715d8abb-4290-41b5-a007-8b2e0613492c"
      },
      "source": [
        "plt.plot(vals)"
      ],
      "execution_count": null,
      "outputs": [
        {
          "output_type": "execute_result",
          "data": {
            "text/plain": [
              "[<matplotlib.lines.Line2D at 0x7f7935029b50>]"
            ]
          },
          "metadata": {},
          "execution_count": 9
        },
        {
          "output_type": "display_data",
          "data": {
            "image/png": "[encoded data removed]",
            "text/plain": [
              "<Figure size 432x288 with 1 Axes>"
            ]
          },
          "metadata": {
            "needs_background": "light"
          }
        }
      ]
    },
    {
      "cell_type": "code",
      "metadata": {
        "colab": {
          "base_uri": "https://localhost:8080/",
          "height": 286
        },
        "id": "bYSCBI6y-HgH",
        "outputId": "ab735dd5-8b5a-417b-da7b-50e62d0b8d5a"
      },
      "source": [
        "n = 100 # number of discretization points along the x-axis\n",
        "m = 100 # number of discretization points along the x-axis\n",
        "a=-0.5; b=2. # extreme points in the x-axis\n",
        "c=-1.5; d=4. # extreme points in the y-axis\n",
        "# сетка из 10,000 точек\n",
        "X,Y = np.meshgrid(np.linspace(a,b,n), np.linspace(c,d,m))\n",
        "\n",
        "Z = f(X,Y)\n",
        "\n",
        "plt.xlim(a,b)\n",
        "plt.ylim(c,d)\n",
        "\n",
        "plt.contour(X,Y,Z, np.logspace(-0.5, 3, 31),cmap='gray_r')\n",
        "plt.plot([c[0] for c in coords], [c[1] for c in coords])\n",
        "plt.scatter(1,1,c='red')\n",
        "\n"
      ],
      "execution_count": null,
      "outputs": [
        {
          "output_type": "execute_result",
          "data": {
            "text/plain": [
              "<matplotlib.collections.PathCollection at 0x7f7934af8810>"
            ]
          },
          "metadata": {},
          "execution_count": 10
        },
        {
          "output_type": "display_data",
          "data": {
            "image/png": "[encoded data removed]",
            "text/plain": [
              "<Figure size 432x288 with 1 Axes>"
            ]
          },
          "metadata": {
            "needs_background": "light"
          }
        }
      ]
    },
    {
      "cell_type": "code",
      "metadata": {
        "id": "hy1Nbr3M-HgJ"
      },
      "source": [
        "from scipy import optimize"
      ],
      "execution_count": null,
      "outputs": []
    },
    {
      "cell_type": "code",
      "metadata": {
        "id": "k4on2nkw-HgJ"
      },
      "source": [
        "def f_for_scipy(x):\n",
        "    \"\"\"Можно использовать вместо лямбды ниже.\"\"\"\n",
        "    return f(x[0], x[1])"
      ],
      "execution_count": null,
      "outputs": []
    },
    {
      "cell_type": "code",
      "metadata": {
        "colab": {
          "base_uri": "https://localhost:8080/"
        },
        "id": "gd3PZwq3-HgK",
        "outputId": "98831d04-7b9c-4af9-d2e6-bc709039d0ad"
      },
      "source": [
        "optimize.minimize(lambda x: f(*x), x0=(0, 0)) \n",
        "\n",
        "#  fun: 2.8439678482945157e-11 Значкние функции почти 0\n",
        "# nit: 19 кол-во итераций\n",
        "# hess_inv: используется вторая производная, обратная матрица\n",
        "# jac значение градиента в оптимальной точке"
      ],
      "execution_count": null,
      "outputs": [
        {
          "output_type": "execute_result",
          "data": {
            "text/plain": [
              "      fun: 2.8439678482945157e-11\n",
              " hess_inv: array([[0.49482463, 0.98957652],\n",
              "       [0.98957652, 1.98394249]])\n",
              "      jac: array([ 3.98697753e-06, -2.84422585e-06])\n",
              "  message: 'Optimization terminated successfully.'\n",
              "     nfev: 96\n",
              "      nit: 19\n",
              "     njev: 24\n",
              "   status: 0\n",
              "  success: True\n",
              "        x: array([0.99999467, 0.99998932])"
            ]
          },
          "metadata": {},
          "execution_count": 15
        }
      ]
    },
    {
      "cell_type": "markdown",
      "metadata": {
        "id": "NsIaC7W0NVZv"
      },
      "source": [
        "## Задания"
      ]
    },
    {
      "cell_type": "code",
      "metadata": {
        "colab": {
          "base_uri": "https://localhost:8080/"
        },
        "id": "_kcrDpEG-HgL",
        "outputId": "59f81778-c638-4040-c3ea-9809fded050c"
      },
      "source": [
        "# 7.1 найти минимум\n",
        "\n",
        "def f(x, y):\n",
        "    return 2*x**2 - 4*x*y + y**4 + 2\n",
        "\n",
        "# если начать с (0, 0), то найденный минимум = 2\n",
        "optimize.minimize(lambda x: f(*x), x0=(1,1))"
      ],
      "execution_count": null,
      "outputs": [
        {
          "output_type": "execute_result",
          "data": {
            "text/plain": [
              "      fun: 1.0\n",
              " hess_inv: array([[1, 0],\n",
              "       [0, 1]])\n",
              "      jac: array([2.98023224e-08, 8.94069672e-08])\n",
              "  message: 'Optimization terminated successfully.'\n",
              "     nfev: 4\n",
              "      nit: 0\n",
              "     njev: 1\n",
              "   status: 0\n",
              "  success: True\n",
              "        x: array([1., 1.])"
            ]
          },
          "metadata": {},
          "execution_count": 20
        }
      ]
    },
    {
      "cell_type": "code",
      "metadata": {
        "colab": {
          "base_uri": "https://localhost:8080/"
        },
        "id": "pvrDxv34TkOy",
        "outputId": "9a4c23f3-0766-44e9-c7cc-0da222d92dba"
      },
      "source": [
        "# 7.2\n",
        "\n",
        "def f(x, y):\n",
        "    return (2.1 - x - y)**2 + (2.9 - x - 3*y)**2 + (4.1 - x - 5*y)**2\n",
        "\n",
        "optimize.minimize(lambda x: f(*x), x0=(10,10))"
      ],
      "execution_count": null,
      "outputs": [
        {
          "output_type": "execute_result",
          "data": {
            "text/plain": [
              "      fun: 0.0266666666671097\n",
              " hess_inv: array([[ 0.72926369, -0.18745323],\n",
              "       [-0.18745323,  0.06252255]])\n",
              "      jac: array([-2.07545236e-06, -7.31856562e-06])\n",
              "  message: 'Optimization terminated successfully.'\n",
              "     nfev: 28\n",
              "      nit: 5\n",
              "     njev: 7\n",
              "   status: 0\n",
              "  success: True\n",
              "        x: array([1.53333326, 0.49999991])"
            ]
          },
          "metadata": {},
          "execution_count": 23
        }
      ]
    },
    {
      "cell_type": "code",
      "metadata": {
        "colab": {
          "base_uri": "https://localhost:8080/"
        },
        "id": "ZNO5vM6WN66y",
        "outputId": "0619d53d-550d-46a0-93db-3635d99008d3"
      },
      "source": [
        "# 7.3\n",
        "\n",
        "def f(x, y, z):\n",
        "    return x**3 - 2*x**2 + y**2 + z**2 - 2*x*y + x*z - y*z + 3*z\n",
        "\n",
        "optimize.minimize(lambda x: f(*x), x0=(0,0,0))"
      ],
      "execution_count": null,
      "outputs": [
        {
          "output_type": "execute_result",
          "data": {
            "text/plain": [
              "      fun: -6.999999999999065\n",
              " hess_inv: array([[0.1694933 , 0.16823764, 0.00210979],\n",
              "       [0.16823764, 0.83505246, 0.33489336],\n",
              "       [0.00210979, 0.33489336, 0.66844386]])\n",
              "      jac: array([ 3.69548798e-06, -6.55651093e-07,  1.01327896e-06])\n",
              "  message: 'Optimization terminated successfully.'\n",
              "     nfev: 55\n",
              "      nit: 9\n",
              "     njev: 11\n",
              "   status: 0\n",
              "  success: True\n",
              "        x: array([ 2.00000048,  1.00000032, -1.99999961])"
            ]
          },
          "metadata": {},
          "execution_count": 19
        }
      ]
    },
    {
      "cell_type": "code",
      "metadata": {
        "id": "Hhk_7aXQPlAI"
      },
      "source": [
        "# 8.2 Напишите следующую точку градиентного спуска с momentum для функции\n",
        "import numpy as np\n",
        "\n",
        "def f(x, y, z):\n",
        "    return 2*x**2 - 4*x*z + 4*y**2 - 8*y*z + 9*z**2 + 4*x + 8*y - 20*z\n",
        "\n",
        "curr = np.array([1, 2, -5])  # текущая точка\n",
        "prev = np.array([0, 0, 0])  # перед ней была\n",
        "lamb = 0.25\n",
        "alpha = 1"
      ],
      "execution_count": null,
      "outputs": []
    },
    {
      "cell_type": "code",
      "metadata": {
        "id": "XBk8OsJAWyjw"
      },
      "source": [
        "from sympy import symbols, Derivative, diff\n",
        "\n",
        "x, y, z = symbols('x y z')"
      ],
      "execution_count": null,
      "outputs": []
    },
    {
      "cell_type": "code",
      "metadata": {
        "colab": {
          "base_uri": "https://localhost:8080/"
        },
        "id": "8h44GOiSXMFf",
        "outputId": "8844add0-1f77-487a-98a6-4b521299c304"
      },
      "source": [
        "def grad_func(x_val, y_val, z_val, expr):\n",
        "    \"\"\"Evalute gradient of a function in 3 variables at a given point.\"\"\"\n",
        "    dx, dy, dz = diff(expr, x), diff(expr, y), diff(expr, z)\n",
        "    dx_eval = dx.subs([(x, x_val), (y, y_val), (z, z_val)])\n",
        "    dy_eval = dy.subs([(x, x_val), (y, y_val), (z, z_val)])\n",
        "    dz_eval = dz.subs([(x, x_val), (y, y_val), (z, z_val)])\n",
        "    return np.array([dx_eval, dy_eval, dz_eval])\n",
        "\n",
        "\n",
        "expr = 2*x**2 - 4*x*z + 4*y**2 - 8*y*z + 9*z**2 + 4*x + 8*y - 20*z\n",
        "grad_func(*curr, expr)\n",
        "# array([28, 64, -130], dtype=object)"
      ],
      "execution_count": null,
      "outputs": [
        {
          "output_type": "execute_result",
          "data": {
            "text/plain": [
              "array([28, 64, -130], dtype=object)"
            ]
          },
          "metadata": {},
          "execution_count": 62
        }
      ]
    },
    {
      "cell_type": "code",
      "metadata": {
        "colab": {
          "base_uri": "https://localhost:8080/"
        },
        "id": "0fnoWMzQYMf5",
        "outputId": "e90c24f0-f7de-4e48-c0ce-b72ccf5799df"
      },
      "source": [
        "curr - lamb*grad_func(*curr) + alpha*(curr - prev)\n",
        "# -5,-12,22.5"
      ],
      "execution_count": null,
      "outputs": [
        {
          "output_type": "execute_result",
          "data": {
            "text/plain": [
              "array([-5.00000000000000, -12.0000000000000, 22.5000000000000],\n",
              "      dtype=object)"
            ]
          },
          "metadata": {},
          "execution_count": 56
        }
      ]
    },
    {
      "cell_type": "markdown",
      "metadata": {
        "id": "F1N1YRRpj_YY"
      },
      "source": [
        "## Метод Ньютона\n",
        "\n",
        "${x^{(n+1)} = x^{(n)} - [Hf(x^{(n)})]^{-1} \\nabla f(x^{(n)})}$"
      ]
    },
    {
      "cell_type": "code",
      "metadata": {
        "colab": {
          "base_uri": "https://localhost:8080/"
        },
        "id": "tN9Y6pxsnCh5",
        "outputId": "3eb69c3f-33ba-4001-ed34-edfd7bc71441"
      },
      "source": [
        "def eval_grad_2_var(x_val, y_val, expr):\n",
        "    \"\"\"Evalute gradient of a function in 2 variables at a given point.\"\"\"\n",
        "    dx, dy = diff(expr, x), diff(expr, y)\n",
        "    dx_eval = dx.subs([(x, x_val), (y, y_val)])\n",
        "    dy_eval = dy.subs([(x, x_val), (y, y_val)])\n",
        "    return np.array([dx_eval, dy_eval])\n",
        "\n",
        "expr = x**2 + x*y - 2*x + 3*y - 1\n",
        "point = np.array([0, 1])\n",
        "eval_grad_2_var(*point, expr)"
      ],
      "execution_count": null,
      "outputs": [
        {
          "output_type": "execute_result",
          "data": {
            "text/plain": [
              "array([-1, 3], dtype=object)"
            ]
          },
          "metadata": {},
          "execution_count": 63
        }
      ]
    },
    {
      "cell_type": "code",
      "metadata": {
        "colab": {
          "base_uri": "https://localhost:8080/"
        },
        "id": "aSgyN9Ffb1Cd",
        "outputId": "bb0ec70e-3a67-4ae8-e5c4-a72587a98e00"
      },
      "source": [
        "#  9.4\n",
        "\n",
        "# Найдите следующий шаг метода Ньютона для функции\n",
        "\n",
        "expr = x**2 + x*y - 2*x + 3*y - 1\n",
        "point = np.array([0, 1])  # текущая точка\n",
        "subs = [(x, 0), (y, 1)]\n",
        "\n",
        "def hesse(expr, subs):\n",
        "    hesse = np.array(\n",
        "        [\n",
        "        [diff(expr, x, x).subs(subs), diff(expr, x, y).subs(subs)],\n",
        "        [diff(expr, y, x).subs(subs), diff(expr, y, y).subs(subs)]\n",
        "        ]\n",
        "        )\n",
        "    return hesse\n",
        "\n",
        "hesse(expr, subs)"
      ],
      "execution_count": null,
      "outputs": [
        {
          "output_type": "execute_result",
          "data": {
            "text/plain": [
              "array([[2, 1],\n",
              "       [1, 0]], dtype=object)"
            ]
          },
          "metadata": {},
          "execution_count": 64
        }
      ]
    },
    {
      "cell_type": "code",
      "metadata": {
        "colab": {
          "base_uri": "https://localhost:8080/"
        },
        "id": "oQkirI1fl_vq",
        "outputId": "c4d96118-c522-49ce-f641-0f30ca066405"
      },
      "source": [
        "point - np.linalg.inv(hesse(expr, subs).astype('float')) @ eval_grad_2_var(*point, expr)\n",
        "# -3,8"
      ],
      "execution_count": null,
      "outputs": [
        {
          "output_type": "execute_result",
          "data": {
            "text/plain": [
              "array([-3.00000000000000, 8.00000000000000], dtype=object)"
            ]
          },
          "metadata": {},
          "execution_count": 73
        }
      ]
    },
    {
      "cell_type": "code",
      "metadata": {
        "id": "RBdJHz2Wodzk"
      },
      "source": [
        ""
      ],
      "execution_count": null,
      "outputs": []
    }
  ]
}