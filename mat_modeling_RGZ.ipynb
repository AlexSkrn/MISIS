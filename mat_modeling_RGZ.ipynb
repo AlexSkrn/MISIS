{
  "nbformat": 4,
  "nbformat_minor": 0,
  "metadata": {
    "colab": {
      "name": "mat_modeling_RGZ.ipynb",
      "provenance": [],
      "collapsed_sections": [],
      "toc_visible": true
    },
    "kernelspec": {
      "name": "python3",
      "display_name": "Python 3"
    },
    "language_info": {
      "name": "python"
    }
  },
  "cells": [
    {
      "cell_type": "markdown",
      "source": [
        "# Приложение к расчётно-графическому домашнему заданию"
      ],
      "metadata": {
        "id": "QMRw9vAX5drF"
      }
    },
    {
      "cell_type": "code",
      "source": [
        "import numpy as np\n",
        "import pandas as pd\n",
        "\n",
        "import cvxpy\n",
        "np.set_printoptions(suppress=True)"
      ],
      "metadata": {
        "id": "5QSTGaNZCI69"
      },
      "execution_count": 1,
      "outputs": []
    },
    {
      "cell_type": "markdown",
      "source": [
        "# Входные данные"
      ],
      "metadata": {
        "id": "4gIQlfHvAJFa"
      }
    },
    {
      "cell_type": "code",
      "source": [
        "# Входные данные\n",
        "product_qty = np.array([  # продукты (включая отходы в последней колонке)\n",
        "    [0.070, 0.888, 0, 0, 0, 0, 0.042],  # технологии\n",
        "    [0.42, 0, 0, 0, 0, 0.539, 0.041], \n",
        "    [0, 0, 0, 0.154, 0, 0.807, 0.039], \n",
        "    [0.352, 0, 0.470, 0, 0.158, 0, 0.020], \n",
        "    [0, 0, 0.973, 0, 0, 0, 0.027], \n",
        "    [0.145, 0, 0, 0, 0.815, 0, 0.040],  \n",
        "    [0, 0.687, 0, 0, 0, 0.277, 0.036], \n",
        "    [0.145, 0, 0, 0, 0, 0.833, 0.022], \n",
        "    [0, 0, 0, 0.318, 0.652, 0, 0.03], \n",
        "    [0, 0, 0, 0, 0.978, 0, 0.022], \n",
        "    [0, 0, 0, 0.795, 0.163, 0, 0.042]\n",
        "    ])\n",
        "\n",
        "# производительность (тонн/час)\n",
        "productivity = np.array([5, 9, 10, 10, 11, 10, 14, 11, 14, 12, 15])\n",
        "plan = np.array([150, 130, 140, 150, 200, 100])\n",
        "\n",
        "scheme = [(0, 6), (6, 11)]  # технологическая схема агрегатов\n",
        "\n",
        "times = [5, 6]  # фонд свободного времени для каждого агрегата"
      ],
      "metadata": {
        "id": "NSv9m8PObC5q"
      },
      "execution_count": 2,
      "outputs": []
    },
    {
      "cell_type": "markdown",
      "source": [
        "# 1) Построить оптимальный план с первоначальными условиями"
      ],
      "metadata": {
        "id": "hC1cT8Cj_8s5"
      }
    },
    {
      "cell_type": "code",
      "source": [
        "def production_plan(product_qty, productivity, plan, unit_scheme, times):\n",
        "    \"\"\"Возвращает общее мин. кол-во тонн и расход ресурсов по каждой технологии.\n",
        "    \n",
        "    product_qty:  матрица кол-ва продуктов, тонн в форме (технологии X продукты)\n",
        "    productivity: вектор производительности тонн/час\n",
        "    plan:         вектор плана, тонн\n",
        "    unit_scheme:  схема расположения агрегатов в форме [(0, 6), (6, 11)]\n",
        "    times:        вектор фонда свободного времени по каждому агрегату \n",
        "    \"\"\"\n",
        "    # кол-во технологий, кол-во продуктов\n",
        "    tech_num, products_num = product_qty.shape[0], product_qty.shape[1]\n",
        "    # решающая переменная\n",
        "    x = cvxpy.Variable(shape=(1, tech_num), integer=False)\n",
        "\n",
        "    constraints = []  # ограничения по плану, производительности и времени\n",
        "    # хотим выполнить план - ограничения по плану производства \n",
        "    for prod_num in range(products_num):\n",
        "        constraints.append(x @ product_qty[:, prod_num] >= plan[prod_num])\n",
        "    # учитываем производительность агрегатов и фонд свободного времени для каждого агрегата \n",
        "    for idx, u in enumerate(unit_scheme):\n",
        "        constraints.append(\n",
        "            x[:, u[0]:u[1]] @ (1 / productivity[u[0]:u[1]]) <= times[idx]\n",
        "            )\n",
        "    # условие неотрицательности\n",
        "    constraints.append(x >= 0)\n",
        "\n",
        "    # целевая функция - минимизация совокупного количества (нижний предел - план)\n",
        "    obj_func = cvxpy.sum(x)\n",
        "    problem = cvxpy.Problem(cvxpy.Minimize(obj_func), constraints=constraints)\n",
        "    \n",
        "    # мин совокупное кол-во и колич-во по каждой технологии\n",
        "    min_ttl_qty = np.round(problem.solve(solver='ECOS_BB'), 2)\n",
        "    resource_consumption = x.value\n",
        "\n",
        "    return min_ttl_qty, resource_consumption"
      ],
      "metadata": {
        "id": "pxIB4Q5ca_uQ"
      },
      "execution_count": 3,
      "outputs": []
    },
    {
      "cell_type": "code",
      "source": [
        "# последний столбец product_qty - величина отходов - не нужен\n",
        "res = production_plan(product_qty[:, :-1], productivity, plan, scheme, times)\n",
        "try:\n",
        "    qty = np.round(res[1], 3)\n",
        "    print(\n",
        "    f'Кол-во прод. + отходы (т): {res[0]}\\nКол-во прод. по каждой техн. (т):\\n {qty}'\n",
        "    )\n",
        "except Exception:\n",
        "    print('Нет решения при таких временных ограничениях')"
      ],
      "metadata": {
        "colab": {
          "base_uri": "https://localhost:8080/"
        },
        "id": "T7w5MPnHnFS4",
        "outputId": "41d9f601-8d7d-4be6-bc99-d4c267b083fe"
      },
      "execution_count": 4,
      "outputs": [
        {
          "output_type": "stream",
          "name": "stdout",
          "text": [
            "Нет решения при таких временных ограничениях\n"
          ]
        }
      ]
    },
    {
      "cell_type": "markdown",
      "source": [
        "# 2) Убрать ограничение по времени и посмотреть, какие минимальные ресурсы нужны на выполнение плана\n",
        "\n",
        "Произвольно выбираю большое время, чтобы найти минимум ресурсов на выполение плана без учета временых ограничений."
      ],
      "metadata": {
        "id": "7wGK1Zsb_fbe"
      }
    },
    {
      "cell_type": "code",
      "source": [
        "res = production_plan(\n",
        "    product_qty[:, :-1],\n",
        "    productivity,\n",
        "    plan,\n",
        "    scheme,\n",
        "    times=[1000, 1000]  # неогран. фонд свободного времени для каждого агрегата\n",
        "    )\n",
        "\n",
        "qty = np.round(res[1], 3)\n",
        "print(\n",
        "f'Кол-во прод., включая отходы (т): {res[0]}\\nКол-во прод. по каждой технологии (т):\\n {qty}'\n",
        ")\n",
        "print('Кол-во тонн каждого продукта (включая отходы)')\n",
        "print(np.round(res[1] @ product_qty, 3))  # == np.sum(res[1])"
      ],
      "metadata": {
        "colab": {
          "base_uri": "https://localhost:8080/"
        },
        "id": "4aO-_5SV_OAE",
        "outputId": "368ad11d-c263-46e3-d0f9-b83d5b1aeb3b"
      },
      "execution_count": 5,
      "outputs": [
        {
          "output_type": "stream",
          "name": "stdout",
          "text": [
            "Кол-во прод., включая отходы (т): 896.86\n",
            "Кол-во прод. по каждой технологии (т):\n",
            " [[146.396  53.634   0.    297.872   0.      0.      0.     85.344  86.627\n",
            "   72.954 154.028]]\n",
            "Кол-во тонн каждого продукта (включая отходы)\n",
            "[[150.    130.    140.    150.    200.    100.     26.856]]\n"
          ]
        }
      ]
    },
    {
      "cell_type": "code",
      "source": [
        "# проверка сумм\n",
        "# np.sum(qty), np.sum(res[1] @ product_qty)"
      ],
      "metadata": {
        "id": "mgf69gH7rzgE"
      },
      "execution_count": 104,
      "outputs": []
    },
    {
      "cell_type": "code",
      "source": [
        "# минимум используемых ресурсов\n",
        "x_min = res[1]\n",
        "x_min"
      ],
      "metadata": {
        "colab": {
          "base_uri": "https://localhost:8080/"
        },
        "id": "GOPdEjFRhK9g",
        "outputId": "75be55db-ed11-4299-d7e0-e74dbbf67072"
      },
      "execution_count": 6,
      "outputs": [
        {
          "output_type": "execute_result",
          "data": {
            "text/plain": [
              "array([[146.39638397,  53.63423753,   0.00000127, 297.87234018,\n",
              "          0.0000002 ,   0.00000889,   0.00001615,  85.34350604,\n",
              "         86.6269202 ,  72.95375188, 154.02847701]])"
            ]
          },
          "metadata": {},
          "execution_count": 6
        }
      ]
    },
    {
      "cell_type": "markdown",
      "source": [
        "# 4) Совокупное минимальное время для выполнения плана"
      ],
      "metadata": {
        "id": "RdSHWjIK1ihL"
      }
    },
    {
      "cell_type": "code",
      "source": [
        "def minimize_total_time(prod_qty, p, plan, min_res=None, tol=None):\n",
        "    \"\"\"Возвращает общее мин. время и расход ресурсов по каждой технологии.\n",
        "    \n",
        "    prod_qty:  количество тонн j-го продукта, получаемого из 1 тонны ресурса \n",
        "               по i-ой технологии \n",
        "               размер матрицы (кол-во технологий X кол-во продуктов)\n",
        "    p:         вектор производительности переработки ресурса по i-ой технологии, тонн в час\n",
        "    plan:      вектор плана производства j-го продукта, тонны\n",
        "    min_res:   ограничение по соблюдению минимума расхода ресурсов\n",
        "               Может быть предоставлен вектор минимума ресурсов\n",
        "    tol:       допуск на увеличение минимума расходра ресурсов\n",
        "    \"\"\"\n",
        "    # кол-во технологий, кол-во продуктов\n",
        "    tech_num, products_num = prod_qty.shape[0], prod_qty.shape[1]\n",
        "    # решающая переменная\n",
        "    x = cvxpy.Variable(shape=(1, tech_num), integer=False)\n",
        "\n",
        "    constraints = []\n",
        "    # хотим выполнить план - ограничения по плану производства \n",
        "    for prod_num in range(products_num):\n",
        "        constraints.append(x @ prod_qty[:, prod_num] >= plan[prod_num])\n",
        "    # если хотим установить ограничение по расходу ресурсов или допустить \n",
        "    #   небольшое увеличение расхода ресурсов по каждой технологии\n",
        "    if min_res is not None and tol is not None:\n",
        "        constraints.append(x <= cvxpy.multiply(min_res, tol))\n",
        "    # условие неотрицательности\n",
        "    constraints.append(x >= 0)\n",
        "\n",
        "    # целевая функция - минимизация совокупного времени по двум агрегатам\n",
        "    # разбивки согласно тех. схеме нет\n",
        "    obj_func = x @ (1 / p)\n",
        "    problem = cvxpy.Problem(cvxpy.Minimize(obj_func), constraints=constraints)\n",
        "    \n",
        "    # мин общее время и колич-во по каждой технологии\n",
        "    min_ttl_time = np.round(problem.solve(solver='ECOS_BB'), 2)\n",
        "    resource_consumption = x.value\n",
        "\n",
        "    return min_ttl_time, resource_consumption"
      ],
      "metadata": {
        "id": "CjQY84Wd7ouI"
      },
      "execution_count": 106,
      "outputs": []
    },
    {
      "cell_type": "code",
      "source": [
        "res = minimize_total_time(\n",
        "    product_qty[:, :-1],\n",
        "    productivity,\n",
        "    plan,\n",
        "    x_min,\n",
        "    1      # допуск нулевой, то есть хотим уложиться в минимум расхода ресурсов\n",
        "    )\n",
        "print(f'Мин общее время для выполнения плана: {res[0]} часа')\n",
        "print('Кол-во тонн каждого продукта (включая отходы):')\n",
        "print(np.round(res[1] @ product_qty, 3))\n",
        "print(f'Кол-во тонн по каждой технологии:\\n {np.round(res[1][0], 3)}')\n",
        "print('Общий расход ресурсов')\n",
        "# для проверки -- общий расход ресурсов по технологиям и по продуктам с отходами\n",
        "np.sum(res[1]), np.sum(res[1] @ product_qty)"
      ],
      "metadata": {
        "colab": {
          "base_uri": "https://localhost:8080/",
          "height": 0
        },
        "id": "AC_8QHRtfsxR",
        "outputId": "8262d459-f34f-4011-e0c3-8a9e07825c87"
      },
      "execution_count": 107,
      "outputs": [
        {
          "output_type": "stream",
          "name": "stdout",
          "text": [
            "Мин общее время для выполнения плана: 95.32 часа\n",
            "Кол-во тонн каждого продукта (включая отходы):\n",
            "[[150.    130.    140.    150.    200.    100.     26.856]]\n",
            "Кол-во тонн по каждой технологии:\n",
            " [146.396  53.634   0.    297.872   0.      0.      0.     85.344  86.627\n",
            "  72.954 154.028]\n",
            "Общий расход ресурсов\n"
          ]
        },
        {
          "output_type": "execute_result",
          "data": {
            "text/plain": [
              "(896.8556430261112, 896.8556430261114)"
            ]
          },
          "metadata": {},
          "execution_count": 107
        }
      ]
    },
    {
      "cell_type": "code",
      "source": [
        "# отказ от требования по оптимальности потребления ресурсов\n",
        "res_2 = minimize_total_time(\n",
        "    product_qty[:, :-1],\n",
        "    productivity,\n",
        "    plan,\n",
        "    # x_min,\n",
        "    # 1.8      # допуск не влияет, но можно отказаться от ограничения\n",
        "    )\n",
        "print(f'Мин общее время для выполнения плана: {res_2[0]}')\n",
        "print('Кол-во тонн каждого продукта (включая отходы):')\n",
        "print(np.round(res_2[1] @ product_qty, 3))\n",
        "print(f'Кол-во тонн по каждой технологии:\\n {np.round(res_2[1][0], 3)}')\n",
        "print('Общий расход ресурсов')\n",
        "# для проверки -- общий расход ресурсов по технологиям и по продуктам с отходами\n",
        "np.sum(res_2[1]), np.sum(res_2[1] @ product_qty)"
      ],
      "metadata": {
        "colab": {
          "base_uri": "https://localhost:8080/",
          "height": 0
        },
        "id": "qquc-2wYKBCU",
        "outputId": "3f92b04e-4e09-4163-d456-542f1e4aee39"
      },
      "execution_count": 108,
      "outputs": [
        {
          "output_type": "stream",
          "name": "stdout",
          "text": [
            "Мин общее время для выполнения плана: 77.03\n",
            "Кол-во тонн каждого продукта (включая отходы):\n",
            "[[150.    130.    150.776 150.    200.    100.     27.439]]\n",
            "Кол-во тонн по каждой технологии:\n",
            " [  0.     88.281   0.    320.801   0.      0.    189.229   0.    202.043\n",
            "   0.    107.862]\n",
            "Общий расход ресурсов\n"
          ]
        },
        {
          "output_type": "execute_result",
          "data": {
            "text/plain": [
              "(908.215531832929, 908.215531832929)"
            ]
          },
          "metadata": {},
          "execution_count": 108
        }
      ]
    },
    {
      "cell_type": "markdown",
      "source": [
        "В таблице ниже показано время работы по каждой технологии в сценарии, в котором ищется минимальное время для выполнения плана при соблюдении минимума ресурсов по каждой технологии."
      ],
      "metadata": {
        "id": "JJkh5wsH1FLZ"
      }
    },
    {
      "cell_type": "code",
      "source": [
        "tech_time = []\n",
        "for time in np.round(res[1]/productivity, 2)[0]:\n",
        "    tech_time.append(time)\n",
        "tech_time = np.array(tech_time)\n",
        "columns = ['Часы']\n",
        "tech_time_df = pd.DataFrame(data=tech_time, columns=columns)\n",
        "tech_time_df.index += 1\n",
        "tech_time_df"
      ],
      "metadata": {
        "colab": {
          "base_uri": "https://localhost:8080/",
          "height": 394
        },
        "id": "D6S_2kiGzQze",
        "outputId": "922a40c9-099a-460c-d680-6581d316b946"
      },
      "execution_count": 109,
      "outputs": [
        {
          "output_type": "execute_result",
          "data": {
            "text/html": [
              "\n",
              "  <div id=\"df-f2fdb0cc-603b-46af-bda9-e054c4b6aa23\">\n",
              "    <div class=\"colab-df-container\">\n",
              "      <div>\n",
              "<style scoped>\n",
              "    .dataframe tbody tr th:only-of-type {\n",
              "        vertical-align: middle;\n",
              "    }\n",
              "\n",
              "    .dataframe tbody tr th {\n",
              "        vertical-align: top;\n",
              "    }\n",
              "\n",
              "    .dataframe thead th {\n",
              "        text-align: right;\n",
              "    }\n",
              "</style>\n",
              "<table border=\"1\" class=\"dataframe\">\n",
              "  <thead>\n",
              "    <tr style=\"text-align: right;\">\n",
              "      <th></th>\n",
              "      <th>Часы</th>\n",
              "    </tr>\n",
              "  </thead>\n",
              "  <tbody>\n",
              "    <tr>\n",
              "      <th>1</th>\n",
              "      <td>29.28</td>\n",
              "    </tr>\n",
              "    <tr>\n",
              "      <th>2</th>\n",
              "      <td>5.96</td>\n",
              "    </tr>\n",
              "    <tr>\n",
              "      <th>3</th>\n",
              "      <td>0.00</td>\n",
              "    </tr>\n",
              "    <tr>\n",
              "      <th>4</th>\n",
              "      <td>29.79</td>\n",
              "    </tr>\n",
              "    <tr>\n",
              "      <th>5</th>\n",
              "      <td>0.00</td>\n",
              "    </tr>\n",
              "    <tr>\n",
              "      <th>6</th>\n",
              "      <td>0.00</td>\n",
              "    </tr>\n",
              "    <tr>\n",
              "      <th>7</th>\n",
              "      <td>0.00</td>\n",
              "    </tr>\n",
              "    <tr>\n",
              "      <th>8</th>\n",
              "      <td>7.76</td>\n",
              "    </tr>\n",
              "    <tr>\n",
              "      <th>9</th>\n",
              "      <td>6.19</td>\n",
              "    </tr>\n",
              "    <tr>\n",
              "      <th>10</th>\n",
              "      <td>6.08</td>\n",
              "    </tr>\n",
              "    <tr>\n",
              "      <th>11</th>\n",
              "      <td>10.27</td>\n",
              "    </tr>\n",
              "  </tbody>\n",
              "</table>\n",
              "</div>\n",
              "      <button class=\"colab-df-convert\" onclick=\"convertToInteractive('df-f2fdb0cc-603b-46af-bda9-e054c4b6aa23')\"\n",
              "              title=\"Convert this dataframe to an interactive table.\"\n",
              "              style=\"display:none;\">\n",
              "        \n",
              "  <svg xmlns=\"http://www.w3.org/2000/svg\" height=\"24px\"viewBox=\"0 0 24 24\"\n",
              "       width=\"24px\">\n",
              "    <path d=\"M0 0h24v24H0V0z\" fill=\"none\"/>\n",
              "    <path d=\"M18.56 5.44l.94 2.06.94-2.06 2.06-.94-2.06-.94-.94-2.06-.94 2.06-2.06.94zm-11 1L8.5 8.5l.94-2.06 2.06-.94-2.06-.94L8.5 2.5l-.94 2.06-2.06.94zm10 10l.94 2.06.94-2.06 2.06-.94-2.06-.94-.94-2.06-.94 2.06-2.06.94z\"/><path d=\"M17.41 7.96l-1.37-1.37c-.4-.4-.92-.59-1.43-.59-.52 0-1.04.2-1.43.59L10.3 9.45l-7.72 7.72c-.78.78-.78 2.05 0 2.83L4 21.41c.39.39.9.59 1.41.59.51 0 1.02-.2 1.41-.59l7.78-7.78 2.81-2.81c.8-.78.8-2.07 0-2.86zM5.41 20L4 18.59l7.72-7.72 1.47 1.35L5.41 20z\"/>\n",
              "  </svg>\n",
              "      </button>\n",
              "      \n",
              "  <style>\n",
              "    .colab-df-container {\n",
              "      display:flex;\n",
              "      flex-wrap:wrap;\n",
              "      gap: 12px;\n",
              "    }\n",
              "\n",
              "    .colab-df-convert {\n",
              "      background-color: #E8F0FE;\n",
              "      border: none;\n",
              "      border-radius: 50%;\n",
              "      cursor: pointer;\n",
              "      display: none;\n",
              "      fill: #1967D2;\n",
              "      height: 32px;\n",
              "      padding: 0 0 0 0;\n",
              "      width: 32px;\n",
              "    }\n",
              "\n",
              "    .colab-df-convert:hover {\n",
              "      background-color: #E2EBFA;\n",
              "      box-shadow: 0px 1px 2px rgba(60, 64, 67, 0.3), 0px 1px 3px 1px rgba(60, 64, 67, 0.15);\n",
              "      fill: #174EA6;\n",
              "    }\n",
              "\n",
              "    [theme=dark] .colab-df-convert {\n",
              "      background-color: #3B4455;\n",
              "      fill: #D2E3FC;\n",
              "    }\n",
              "\n",
              "    [theme=dark] .colab-df-convert:hover {\n",
              "      background-color: #434B5C;\n",
              "      box-shadow: 0px 1px 3px 1px rgba(0, 0, 0, 0.15);\n",
              "      filter: drop-shadow(0px 1px 2px rgba(0, 0, 0, 0.3));\n",
              "      fill: #FFFFFF;\n",
              "    }\n",
              "  </style>\n",
              "\n",
              "      <script>\n",
              "        const buttonEl =\n",
              "          document.querySelector('#df-f2fdb0cc-603b-46af-bda9-e054c4b6aa23 button.colab-df-convert');\n",
              "        buttonEl.style.display =\n",
              "          google.colab.kernel.accessAllowed ? 'block' : 'none';\n",
              "\n",
              "        async function convertToInteractive(key) {\n",
              "          const element = document.querySelector('#df-f2fdb0cc-603b-46af-bda9-e054c4b6aa23');\n",
              "          const dataTable =\n",
              "            await google.colab.kernel.invokeFunction('convertToInteractive',\n",
              "                                                     [key], {});\n",
              "          if (!dataTable) return;\n",
              "\n",
              "          const docLinkHtml = 'Like what you see? Visit the ' +\n",
              "            '<a target=\"_blank\" href=https://colab.research.google.com/notebooks/data_table.ipynb>data table notebook</a>'\n",
              "            + ' to learn more about interactive tables.';\n",
              "          element.innerHTML = '';\n",
              "          dataTable['output_type'] = 'display_data';\n",
              "          await google.colab.output.renderOutput(dataTable, element);\n",
              "          const docLink = document.createElement('div');\n",
              "          docLink.innerHTML = docLinkHtml;\n",
              "          element.appendChild(docLink);\n",
              "        }\n",
              "      </script>\n",
              "    </div>\n",
              "  </div>\n",
              "  "
            ],
            "text/plain": [
              "     Часы\n",
              "1   29.28\n",
              "2    5.96\n",
              "3    0.00\n",
              "4   29.79\n",
              "5    0.00\n",
              "6    0.00\n",
              "7    0.00\n",
              "8    7.76\n",
              "9    6.19\n",
              "10   6.08\n",
              "11  10.27"
            ]
          },
          "metadata": {},
          "execution_count": 109
        }
      ]
    },
    {
      "cell_type": "markdown",
      "source": [
        "Время по агрегатам"
      ],
      "metadata": {
        "id": "a9lUUKH9LE4g"
      }
    },
    {
      "cell_type": "code",
      "source": [
        "u_1 = tech_time_df.iloc[0:7, :].sum()[0]\n",
        "u_2 = tech_time_df.iloc[7:12, :].sum()[0]\n",
        "print(f'Время по агр. 1 ({u_1} ч.) + по агр. 2 ({u_2} ч.) = {u_1 + u_2} ч')"
      ],
      "metadata": {
        "colab": {
          "base_uri": "https://localhost:8080/",
          "height": 0
        },
        "id": "Me2C33X0H3pv",
        "outputId": "3d0b856f-2f01-414a-f1f7-684b3d384aab"
      },
      "execution_count": 110,
      "outputs": [
        {
          "output_type": "stream",
          "name": "stdout",
          "text": [
            "Время по агр. 1 (65.03 ч.) + по агр. 2 (30.3 ч.) = 95.33 ч\n"
          ]
        }
      ]
    },
    {
      "cell_type": "markdown",
      "source": [
        "# 5) Отказаться от исходного плана, сохранить ограничения по времени -- Максимизация доходов\n",
        "\n",
        "Сохраняем время работы агрегатов, убираем план, вводим цену на продукцию. Ищем новый, самый выгодный производственный план. То есть приоритезируем производство самых выгодных продуктов"
      ],
      "metadata": {
        "id": "ow-nWMRPDt-n"
      }
    },
    {
      "cell_type": "code",
      "source": [
        "def maximize_profit(prod_qty, p, prices, unit_scheme, times):\n",
        "    \"\"\"Возвращает макс. прибыль и расход ресурсов по каждой технологии.\n",
        "    \n",
        "    prod_qty:  количество тонн j-го продукта, получаемого из 1 тонны ресурса \n",
        "               по i-ой технологии \n",
        "               размер матрицы (кол-во технологий X кол-во продуктов)\n",
        "    p:         вектор производительности переработки ресурса по i-ой технологии, тонн в час\n",
        "    prices:    вектор цен на конечную продукцию\n",
        "    unit_scheme:  схема расположения агрегатов в форме [(0, 6), (6, 11)]\n",
        "    times:        вектор фонда свободного времени по каждому агрегату\n",
        "    \"\"\"\n",
        "    # кол-во технологий, кол-во продуктов\n",
        "    tech_num, products_num = prod_qty.shape[0], prod_qty.shape[1]\n",
        "    # решающая переменная\n",
        "    x = cvxpy.Variable(shape=(1, tech_num), integer=False)\n",
        "\n",
        "    constraints = []\n",
        "    # учитываем производительность агрегатов и фонд свободного времени для каждого агрегата \n",
        "    for idx, u in enumerate(unit_scheme):\n",
        "        constraints.append(\n",
        "            x[:, u[0]:u[1]] @ (1 / productivity[u[0]:u[1]]) <= times[idx]\n",
        "            )\n",
        "    # условие неотрицательности\n",
        "    constraints.append(x >= 0)\n",
        "\n",
        "    # целевая функция - минимизация совокупного времени по двум агрегатам\n",
        "    # разбивки согласно тех. схеме нет\n",
        "    obj_func = (x @ prod_qty) @ prices \n",
        "    problem = cvxpy.Problem(cvxpy.Maximize(obj_func), constraints=constraints)\n",
        "    \n",
        "    # мин общее время и колич-во по каждой технологии\n",
        "    min_ttl_time = np.round(problem.solve(solver='ECOS_BB'), 2)\n",
        "    resource_consumption = x.value\n",
        "\n",
        "    return min_ttl_time, resource_consumption"
      ],
      "metadata": {
        "id": "jI74L1_kDzLw"
      },
      "execution_count": 111,
      "outputs": []
    },
    {
      "cell_type": "code",
      "source": [
        "# проверка размерностей\n",
        "# x = np.ones((1, 11))\n",
        "# print(x.shape)\n",
        "# prices = np.array([100, 125, 150, 175, 200, 225])\n",
        "# print(prices.shape)\n",
        "# print((x @ product_qty[:, :-1]).shape)\n",
        "# (x @ product_qty[:, :-1]) @ prices"
      ],
      "metadata": {
        "id": "Dm7dSpQiWFq3"
      },
      "execution_count": 112,
      "outputs": []
    },
    {
      "cell_type": "code",
      "source": [
        "# определяем цены\n",
        "prices = np.array([100, 125, 150, 175, 200, 225])\n",
        "max_prof_res = maximize_profit(\n",
        "    product_qty[:, :-1],\n",
        "    productivity,\n",
        "    prices,\n",
        "    scheme,\n",
        "    times\n",
        "    )"
      ],
      "metadata": {
        "id": "Z_ZNWn43TmYS"
      },
      "execution_count": 113,
      "outputs": []
    },
    {
      "cell_type": "code",
      "source": [
        "print(f'Максимальный доход {max_prof_res[0]} долл.')\n",
        "print('Кол-во тонн каждого продукта (и отходы последняя цифра):')\n",
        "print(np.round(max_prof_res[1] @ product_qty, 3))\n",
        "print(f'Расход ресурсов по каждой технологии (т):\\n {np.round(max_prof_res[1][0], 3)}')\n",
        "print('Общий расход ресурсов')\n",
        "# для проверки -- общий расход ресурсов по технологиям и продуктам\n",
        "np.sum(max_prof_res[1]), np.sum(max_prof_res[1] @ product_qty)"
      ],
      "metadata": {
        "colab": {
          "base_uri": "https://localhost:8080/",
          "height": 0
        },
        "id": "Azd6f7ftW3Bn",
        "outputId": "1c4b53ee-79a1-47cc-f98d-fa88b2c5dd34"
      },
      "execution_count": 114,
      "outputs": [
        {
          "output_type": "stream",
          "name": "stdout",
          "text": [
            "Максимальный доход 26054.45 долл.\n",
            "Кол-во тонн каждого продукта (и отходы последняя цифра):\n",
            "[[ 0.     0.     0.    34.412 54.768 40.35   4.47 ]]\n",
            "Расход ресурсов по каждой технологии (т):\n",
            " [ 0.  0. 50.  0.  0.  0.  0.  0. 84.  0.  0.]\n",
            "Общий расход ресурсов\n"
          ]
        },
        {
          "output_type": "execute_result",
          "data": {
            "text/plain": [
              "(134.00000018877688, 134.00000018877688)"
            ]
          },
          "metadata": {},
          "execution_count": 114
        }
      ]
    },
    {
      "cell_type": "code",
      "source": [
        ""
      ],
      "metadata": {
        "id": "zOsnwJHAU6uh"
      },
      "execution_count": null,
      "outputs": []
    },
    {
      "cell_type": "code",
      "source": [
        ""
      ],
      "metadata": {
        "id": "ubQnnm-nU4W0"
      },
      "execution_count": null,
      "outputs": []
    },
    {
      "cell_type": "code",
      "source": [
        ""
      ],
      "metadata": {
        "id": "TWJkThuCU4l6"
      },
      "execution_count": null,
      "outputs": []
    },
    {
      "cell_type": "code",
      "source": [
        ""
      ],
      "metadata": {
        "id": "ClFYaJE9U3ZH"
      },
      "execution_count": null,
      "outputs": []
    },
    {
      "cell_type": "code",
      "source": [
        ""
      ],
      "metadata": {
        "id": "qABesE2dRc2b"
      },
      "execution_count": null,
      "outputs": []
    },
    {
      "cell_type": "code",
      "source": [
        ""
      ],
      "metadata": {
        "id": "2mpx1fohRcyy"
      },
      "execution_count": null,
      "outputs": []
    },
    {
      "cell_type": "code",
      "source": [
        ""
      ],
      "metadata": {
        "id": "vFoYouCcRcvY"
      },
      "execution_count": null,
      "outputs": []
    },
    {
      "cell_type": "code",
      "source": [
        ""
      ],
      "metadata": {
        "id": "qM4CXnoDBBEj"
      },
      "execution_count": null,
      "outputs": []
    },
    {
      "cell_type": "code",
      "source": [
        ""
      ],
      "metadata": {
        "id": "MH3ztur2WBEP"
      },
      "execution_count": null,
      "outputs": []
    },
    {
      "cell_type": "code",
      "source": [
        ""
      ],
      "metadata": {
        "id": "4UhtYjf4WBAy"
      },
      "execution_count": null,
      "outputs": []
    },
    {
      "cell_type": "code",
      "source": [
        ""
      ],
      "metadata": {
        "id": "6VoHtvTdWA-G"
      },
      "execution_count": null,
      "outputs": []
    },
    {
      "cell_type": "code",
      "source": [
        ""
      ],
      "metadata": {
        "id": "FTeZUydbWCBh"
      },
      "execution_count": null,
      "outputs": []
    },
    {
      "cell_type": "code",
      "source": [
        ""
      ],
      "metadata": {
        "id": "k_UpDxxYWA7M"
      },
      "execution_count": null,
      "outputs": []
    },
    {
      "cell_type": "code",
      "source": [
        ""
      ],
      "metadata": {
        "id": "XpIgMMWTWA4P"
      },
      "execution_count": null,
      "outputs": []
    },
    {
      "cell_type": "code",
      "source": [
        ""
      ],
      "metadata": {
        "id": "0dJ-XEUAWAxz"
      },
      "execution_count": null,
      "outputs": []
    },
    {
      "cell_type": "code",
      "source": [
        ""
      ],
      "metadata": {
        "id": "N9NlGAqLWAo5"
      },
      "execution_count": null,
      "outputs": []
    },
    {
      "cell_type": "code",
      "source": [
        ""
      ],
      "metadata": {
        "id": "SvROZxo4WAe5"
      },
      "execution_count": null,
      "outputs": []
    },
    {
      "cell_type": "code",
      "source": [
        ""
      ],
      "metadata": {
        "id": "iZzF2KGNWATJ"
      },
      "execution_count": null,
      "outputs": []
    },
    {
      "cell_type": "code",
      "source": [
        "# 2) Минимизировать время работы медленного агрегата при введении допуска (1-2%) на увеличение \n",
        "# использования ресурсов по сравнению с найденным в п. 1) минимумом используемых ресурсов"
      ],
      "metadata": {
        "id": "VhewcfbjhK2c"
      },
      "execution_count": 9,
      "outputs": []
    },
    {
      "cell_type": "code",
      "source": [
        "def minimize_time_slow_unit(\n",
        "    x_min, product_qty, productivity, plan, \n",
        "    unit_scheme, tolerance\n",
        "    ):\n",
        "    \"\"\"Возвращает мин. время медленного агрегата и расход ресурсов по каждой технологии.\n",
        "    \n",
        "    x_min:    минимальный расход ресурсов по каждой технологии\n",
        "    product_qty:  матрица кол-ва продуктов, тонн в форме (технологии X продукты)\n",
        "    productivity: вектор производительности тонн/час\n",
        "    plan:         вектор плана, тонн\n",
        "    unit_scheme:  схема расположения агрегатов в форме [(0, 6), (6, 11)]\n",
        "    tolerance:    размер допуска, или уступки, по перерасходу ресурсов\n",
        "    \"\"\"\n",
        "    # кол-во технологий, кол-во продуктов\n",
        "    u = unit_scheme[0]  # № агрегата\n",
        "    tech_num, products_num = product_qty.shape[0], product_qty.shape[1]\n",
        "    # решающая переменная\n",
        "    x = cvxpy.Variable(shape=(1, tech_num), integer=False)\n",
        "\n",
        "    constraints = []  # ограничения по плану и расходу ресурсов с допуском \n",
        "    # хотим выполнить план - ограничение по плану\n",
        "    for prod_num in range(products_num):\n",
        "        constraints.append(x @ product_qty[:, prod_num] >= plan[prod_num])\n",
        "    # хотим допустить небольшое увеличение расхода ресурсов по каждой технологии\n",
        "    # constraints.append(x <= cvxpy.multiply(x_min, tolerance))\n",
        "    # что если делать допуск только по ресурсам по данному агрегату?\n",
        "    constraints.append(x[:, u[0]:u[1]] <= cvxpy.multiply(x_min[:, u[0]:u[1]], tolerance))\n",
        "    # условие неотрицательности\n",
        "    constraints.append(x >= 0)\n",
        "\n",
        "    # целевая функция - минимизация времени работы медленного агрегата\n",
        "    u = unit_scheme[0]\n",
        "    obj_func = cvxpy.sum(x[:, u[0]:u[1]] @ (1 / productivity[u[0]:u[1]]))\n",
        "    problem = cvxpy.Problem(cvxpy.Minimize(obj_func), constraints=constraints)\n",
        "    \n",
        "    # мин время и расход ресурсов по каждой технологии\n",
        "    min_time = problem.solve(solver='ECOS_BB')\n",
        "    resource_consumption = x.value\n",
        "\n",
        "    return min_time, resource_consumption"
      ],
      "metadata": {
        "id": "D3FTqbEwhKwl"
      },
      "execution_count": 7,
      "outputs": []
    },
    {
      "cell_type": "code",
      "source": [
        "min_time_slow_unit_res = minimize_time_slow_unit(\n",
        "    x_min,\n",
        "    product_qty[:, :-1],\n",
        "    productivity,\n",
        "    plan,\n",
        "    scheme,\n",
        "    1.02  # допуск или уступка по расходу ресурсов 1.02 = на 2% выше минимума\n",
        "    )\n",
        "\n",
        "print(f'Мин. время работы медленного агрегата {min_time_slow_unit_res[0]} часа')"
      ],
      "metadata": {
        "colab": {
          "base_uri": "https://localhost:8080/"
        },
        "id": "GcoWN9vQmSq1",
        "outputId": "80984b42-3551-4d79-9287-6d81136fbca1"
      },
      "execution_count": 45,
      "outputs": [
        {
          "output_type": "stream",
          "name": "stdout",
          "text": [
            "Мин. время работы медленного агрегата 29.7872341111724 часа\n"
          ]
        }
      ]
    },
    {
      "cell_type": "code",
      "source": [
        "min_time_slow_unit_res"
      ],
      "metadata": {
        "colab": {
          "base_uri": "https://localhost:8080/"
        },
        "id": "7-CPWW0vXl3m",
        "outputId": "ad52528b-0099-4b80-e219-68c82f859e7f"
      },
      "execution_count": 46,
      "outputs": [
        {
          "output_type": "execute_result",
          "data": {
            "text/plain": [
              "(29.7872341111724,\n",
              " array([[  0.00000004,   0.00000004,   0.00000044, 297.87234031,\n",
              "           0.0000001 ,   0.00000014, 232.86746979, 324.92563601,\n",
              "         123.42285721, 104.00850185, 160.2581152 ]]))"
            ]
          },
          "metadata": {},
          "execution_count": 46
        }
      ]
    },
    {
      "cell_type": "code",
      "source": [
        "print('Кол-во тонн каждого продукта (включая отходы):')\n",
        "print(np.round(min_time_slow_unit_res[1] @ product_qty, 3))\n",
        "print(f'Кол-во тонн по каждой технологии:\\n {np.round(min_time_slow_unit_res[1][0], 3)}')\n",
        "print('Общий расход ресурсов')\n",
        "# для проверки -- общий расход ресурсов по технологиям и по продуктам с отходами\n",
        "np.sum(min_time_slow_unit_res[1]), np.sum(min_time_slow_unit_res[1] @ product_qty)"
      ],
      "metadata": {
        "colab": {
          "base_uri": "https://localhost:8080/"
        },
        "id": "RpyBqJPmXxcz",
        "outputId": "24cdd40d-46e8-49bb-e80d-6479f2b0648c"
      },
      "execution_count": 47,
      "outputs": [
        {
          "output_type": "stream",
          "name": "stdout",
          "text": [
            "Кол-во тонн каждого продукта (включая отходы):\n",
            "[[151.965 159.98  140.    166.654 255.378 335.167  34.211]]\n",
            "Кол-во тонн по каждой технологии:\n",
            " [  0.      0.      0.    297.872   0.      0.    232.867 324.926 123.423\n",
            " 104.009 160.258]\n",
            "Общий расход ресурсов\n"
          ]
        },
        {
          "output_type": "execute_result",
          "data": {
            "text/plain": [
              "(1243.354921138456, 1243.354921138456)"
            ]
          },
          "metadata": {},
          "execution_count": 47
        }
      ]
    },
    {
      "cell_type": "code",
      "source": [
        "tech_time = []\n",
        "for time in np.round(min_time_slow_unit_res[1]/productivity, 2)[0]:\n",
        "    tech_time.append(time)\n",
        "tech_time = np.array(tech_time)\n",
        "columns = ['Часы']\n",
        "tech_time_df = pd.DataFrame(data=tech_time, columns=columns)\n",
        "# tech_time_df.index += 1\n",
        "tech_time_df"
      ],
      "metadata": {
        "colab": {
          "base_uri": "https://localhost:8080/",
          "height": 394
        },
        "id": "lPZ3q11DY76u",
        "outputId": "e454d853-14c0-4b0f-e3bb-f3a631acec9c"
      },
      "execution_count": 48,
      "outputs": [
        {
          "output_type": "execute_result",
          "data": {
            "text/html": [
              "\n",
              "  <div id=\"df-1bd16a03-cbfb-4c89-9429-7806ee5a248a\">\n",
              "    <div class=\"colab-df-container\">\n",
              "      <div>\n",
              "<style scoped>\n",
              "    .dataframe tbody tr th:only-of-type {\n",
              "        vertical-align: middle;\n",
              "    }\n",
              "\n",
              "    .dataframe tbody tr th {\n",
              "        vertical-align: top;\n",
              "    }\n",
              "\n",
              "    .dataframe thead th {\n",
              "        text-align: right;\n",
              "    }\n",
              "</style>\n",
              "<table border=\"1\" class=\"dataframe\">\n",
              "  <thead>\n",
              "    <tr style=\"text-align: right;\">\n",
              "      <th></th>\n",
              "      <th>Часы</th>\n",
              "    </tr>\n",
              "  </thead>\n",
              "  <tbody>\n",
              "    <tr>\n",
              "      <th>0</th>\n",
              "      <td>0.00</td>\n",
              "    </tr>\n",
              "    <tr>\n",
              "      <th>1</th>\n",
              "      <td>0.00</td>\n",
              "    </tr>\n",
              "    <tr>\n",
              "      <th>2</th>\n",
              "      <td>0.00</td>\n",
              "    </tr>\n",
              "    <tr>\n",
              "      <th>3</th>\n",
              "      <td>29.79</td>\n",
              "    </tr>\n",
              "    <tr>\n",
              "      <th>4</th>\n",
              "      <td>0.00</td>\n",
              "    </tr>\n",
              "    <tr>\n",
              "      <th>5</th>\n",
              "      <td>0.00</td>\n",
              "    </tr>\n",
              "    <tr>\n",
              "      <th>6</th>\n",
              "      <td>16.63</td>\n",
              "    </tr>\n",
              "    <tr>\n",
              "      <th>7</th>\n",
              "      <td>29.54</td>\n",
              "    </tr>\n",
              "    <tr>\n",
              "      <th>8</th>\n",
              "      <td>8.82</td>\n",
              "    </tr>\n",
              "    <tr>\n",
              "      <th>9</th>\n",
              "      <td>8.67</td>\n",
              "    </tr>\n",
              "    <tr>\n",
              "      <th>10</th>\n",
              "      <td>10.68</td>\n",
              "    </tr>\n",
              "  </tbody>\n",
              "</table>\n",
              "</div>\n",
              "      <button class=\"colab-df-convert\" onclick=\"convertToInteractive('df-1bd16a03-cbfb-4c89-9429-7806ee5a248a')\"\n",
              "              title=\"Convert this dataframe to an interactive table.\"\n",
              "              style=\"display:none;\">\n",
              "        \n",
              "  <svg xmlns=\"http://www.w3.org/2000/svg\" height=\"24px\"viewBox=\"0 0 24 24\"\n",
              "       width=\"24px\">\n",
              "    <path d=\"M0 0h24v24H0V0z\" fill=\"none\"/>\n",
              "    <path d=\"M18.56 5.44l.94 2.06.94-2.06 2.06-.94-2.06-.94-.94-2.06-.94 2.06-2.06.94zm-11 1L8.5 8.5l.94-2.06 2.06-.94-2.06-.94L8.5 2.5l-.94 2.06-2.06.94zm10 10l.94 2.06.94-2.06 2.06-.94-2.06-.94-.94-2.06-.94 2.06-2.06.94z\"/><path d=\"M17.41 7.96l-1.37-1.37c-.4-.4-.92-.59-1.43-.59-.52 0-1.04.2-1.43.59L10.3 9.45l-7.72 7.72c-.78.78-.78 2.05 0 2.83L4 21.41c.39.39.9.59 1.41.59.51 0 1.02-.2 1.41-.59l7.78-7.78 2.81-2.81c.8-.78.8-2.07 0-2.86zM5.41 20L4 18.59l7.72-7.72 1.47 1.35L5.41 20z\"/>\n",
              "  </svg>\n",
              "      </button>\n",
              "      \n",
              "  <style>\n",
              "    .colab-df-container {\n",
              "      display:flex;\n",
              "      flex-wrap:wrap;\n",
              "      gap: 12px;\n",
              "    }\n",
              "\n",
              "    .colab-df-convert {\n",
              "      background-color: #E8F0FE;\n",
              "      border: none;\n",
              "      border-radius: 50%;\n",
              "      cursor: pointer;\n",
              "      display: none;\n",
              "      fill: #1967D2;\n",
              "      height: 32px;\n",
              "      padding: 0 0 0 0;\n",
              "      width: 32px;\n",
              "    }\n",
              "\n",
              "    .colab-df-convert:hover {\n",
              "      background-color: #E2EBFA;\n",
              "      box-shadow: 0px 1px 2px rgba(60, 64, 67, 0.3), 0px 1px 3px 1px rgba(60, 64, 67, 0.15);\n",
              "      fill: #174EA6;\n",
              "    }\n",
              "\n",
              "    [theme=dark] .colab-df-convert {\n",
              "      background-color: #3B4455;\n",
              "      fill: #D2E3FC;\n",
              "    }\n",
              "\n",
              "    [theme=dark] .colab-df-convert:hover {\n",
              "      background-color: #434B5C;\n",
              "      box-shadow: 0px 1px 3px 1px rgba(0, 0, 0, 0.15);\n",
              "      filter: drop-shadow(0px 1px 2px rgba(0, 0, 0, 0.3));\n",
              "      fill: #FFFFFF;\n",
              "    }\n",
              "  </style>\n",
              "\n",
              "      <script>\n",
              "        const buttonEl =\n",
              "          document.querySelector('#df-1bd16a03-cbfb-4c89-9429-7806ee5a248a button.colab-df-convert');\n",
              "        buttonEl.style.display =\n",
              "          google.colab.kernel.accessAllowed ? 'block' : 'none';\n",
              "\n",
              "        async function convertToInteractive(key) {\n",
              "          const element = document.querySelector('#df-1bd16a03-cbfb-4c89-9429-7806ee5a248a');\n",
              "          const dataTable =\n",
              "            await google.colab.kernel.invokeFunction('convertToInteractive',\n",
              "                                                     [key], {});\n",
              "          if (!dataTable) return;\n",
              "\n",
              "          const docLinkHtml = 'Like what you see? Visit the ' +\n",
              "            '<a target=\"_blank\" href=https://colab.research.google.com/notebooks/data_table.ipynb>data table notebook</a>'\n",
              "            + ' to learn more about interactive tables.';\n",
              "          element.innerHTML = '';\n",
              "          dataTable['output_type'] = 'display_data';\n",
              "          await google.colab.output.renderOutput(dataTable, element);\n",
              "          const docLink = document.createElement('div');\n",
              "          docLink.innerHTML = docLinkHtml;\n",
              "          element.appendChild(docLink);\n",
              "        }\n",
              "      </script>\n",
              "    </div>\n",
              "  </div>\n",
              "  "
            ],
            "text/plain": [
              "     Часы\n",
              "0    0.00\n",
              "1    0.00\n",
              "2    0.00\n",
              "3   29.79\n",
              "4    0.00\n",
              "5    0.00\n",
              "6   16.63\n",
              "7   29.54\n",
              "8    8.82\n",
              "9    8.67\n",
              "10  10.68"
            ]
          },
          "metadata": {},
          "execution_count": 48
        }
      ]
    },
    {
      "cell_type": "code",
      "source": [
        "tech_time_df.sum()"
      ],
      "metadata": {
        "colab": {
          "base_uri": "https://localhost:8080/"
        },
        "id": "tsq614xXZcli",
        "outputId": "12452193-ae20-4797-e5a6-7ca2844cf11a"
      },
      "execution_count": 49,
      "outputs": [
        {
          "output_type": "execute_result",
          "data": {
            "text/plain": [
              "Часы    104.13\n",
              "dtype: float64"
            ]
          },
          "metadata": {},
          "execution_count": 49
        }
      ]
    },
    {
      "cell_type": "code",
      "source": [
        "u_1 = tech_time_df.iloc[0:6, :].sum()[0]\n",
        "u_2 = tech_time_df.iloc[6:, :].sum()[0]\n",
        "print(f'Время по агр. 1 ({u_1} ч.) + по агр. 2 ({u_2} ч.) = {u_1 + u_2} ч')"
      ],
      "metadata": {
        "colab": {
          "base_uri": "https://localhost:8080/"
        },
        "id": "ov-M5aFnZFmO",
        "outputId": "3941edcb-e1a8-4ec6-ef56-0d38b400044e"
      },
      "execution_count": 50,
      "outputs": [
        {
          "output_type": "stream",
          "name": "stdout",
          "text": [
            "Время по агр. 1 (29.79 ч.) + по агр. 2 (74.34 ч.) = 104.13 ч\n"
          ]
        }
      ]
    },
    {
      "cell_type": "code",
      "source": [
        "# 3) Минимизировать время работы быстрого агрегата при не увеличении суммарного времени \n",
        "# работы обоих агрегатов. !Не забыть при допуск на увеличение ресурсов и здесь\n",
        "def minimize_time_fast_unit(\n",
        "    x_min, slow_unit_time, product_qty, productivity, \n",
        "    plan, unit_scheme, tolerance\n",
        "    ):\n",
        "    \"\"\"Возвращает мин. время быстрого агрегата и расход ресурсов по каждой технологии.\n",
        "    \n",
        "    x_min:    минимальный расход ресурсов по каждой технологии\n",
        "    slow_unit_time: мин время работы медленного агрегата\n",
        "    product_qty:  матрица кол-ва продуктов, тонн в форме (технологии X продукты)\n",
        "    productivity: вектор производительности тонн/час\n",
        "    plan:         вектор плана, тонн\n",
        "    unit_scheme:  схема расположения агрегатов в форме [(0, 6), (6, 11)]\n",
        "    tolerance:    размер допуска, или уступки, по перерасходу ресурсов\n",
        "    \"\"\"\n",
        "    # кол-во технологий, кол-во продуктов\n",
        "    u = unit_scheme[1]  # № агрегата\n",
        "    tech_num, products_num = product_qty.shape[0], product_qty.shape[1]\n",
        "    # решающая переменная\n",
        "    x = cvxpy.Variable(shape=(1, tech_num), integer=False)\n",
        "\n",
        "    constraints = []  # ограничения по плану и расходу ресурсов с допуском \n",
        "    # хотим выполнить план - ограничение по плану\n",
        "    for prod_num in range(products_num):\n",
        "        constraints.append(x @ product_qty[:, prod_num] >= plan[prod_num])\n",
        "    # хотим допустить небольшое увеличение расхода ресурсов по каждой технологии\n",
        "    # constraints.append(x <= cvxpy.multiply(x_min, tolerance))\n",
        "    # что если делать допуск только по ресурсам по данному агрегату?\n",
        "    constraints.append(x[:, u[0]:u[1]] <= cvxpy.multiply(x_min[:, u[0]:u[1]], tolerance))\n",
        "    # не хотим превысить суммарное время работы обоих агрегатов\n",
        "    constraints.append(cvxpy.sum(x @ (1 / productivity)) <= slow_unit_time)\n",
        "    # условие неотрицательности\n",
        "    constraints.append(x >= 0)\n",
        "\n",
        "    # целевая функция - минимизация времени работы быстрого агрегата\n",
        "    # u = unit_scheme[1]\n",
        "    obj_func = cvxpy.sum(x[:, u[0]:u[1]] @ (1 / productivity[u[0]:u[1]]))\n",
        "    problem = cvxpy.Problem(cvxpy.Minimize(obj_func), constraints=constraints)\n",
        "    \n",
        "    # мин время и расход ресурсов по каждой технологии\n",
        "    min_time = problem.solve(solver='ECOS_BB')\n",
        "    resource_consumption = x.value\n",
        "\n",
        "    return min_time, resource_consumption"
      ],
      "metadata": {
        "id": "XTOWrxN2rsw8"
      },
      "execution_count": 32,
      "outputs": []
    },
    {
      "cell_type": "code",
      "source": [
        "min_time_fast_unit_res = minimize_time_fast_unit(\n",
        "    min_time_slow_unit_res[1],  # хочу сохранить объем использования первого агрегата вместо  x_min,\n",
        "    105,\n",
        "    product_qty[:, :-1],\n",
        "    productivity,\n",
        "    plan,\n",
        "    scheme,\n",
        "    1.02  # допуск или уступка\n",
        "    )\n",
        "\n",
        "print(f'Мин. время работы быстрого агрегата {min_time_fast_unit_res[0]} часа')"
      ],
      "metadata": {
        "colab": {
          "base_uri": "https://localhost:8080/"
        },
        "id": "QBhZ39aOtg6p",
        "outputId": "cd9b9e38-fc1d-4fa2-e73f-59f68c53ee77"
      },
      "execution_count": 39,
      "outputs": [
        {
          "output_type": "stream",
          "name": "stdout",
          "text": [
            "Мин. время работы быстрого агрегата 10.40320147242008 часа\n"
          ]
        }
      ]
    },
    {
      "cell_type": "code",
      "source": [
        "print('Кол-во тонн каждого продукта (включая отходы):')\n",
        "print(np.round(min_time_fast_unit_res[1] @ product_qty, 3))\n",
        "print(f'Кол-во тонн по каждой технологии:\\n {np.round(min_time_fast_unit_res[1][0], 3)}')\n",
        "print('Общий расход ресурсов')\n",
        "# для проверки -- общий расход ресурсов по технологиям и по продуктам с отходами\n",
        "np.sum(min_time_fast_unit_res[1]), np.sum(min_time_fast_unit_res[1] @ product_qty)"
      ],
      "metadata": {
        "colab": {
          "base_uri": "https://localhost:8080/"
        },
        "id": "1QC_GeQoeGqe",
        "outputId": "99612e79-d4e0-41b9-cdf3-b75883d45ee2"
      },
      "execution_count": 40,
      "outputs": [
        {
          "output_type": "stream",
          "name": "stdout",
          "text": [
            "Кол-во тонн каждого продукта (включая отходы):\n",
            "[[150.    130.    157.728 150.    200.    135.942  31.949]]\n",
            "Кол-во тонн по каждой технологии:\n",
            " [146.396   0.    168.453 335.592   0.    149.13    0.      0.      0.\n",
            "   0.    156.048]\n",
            "Общий расход ресурсов\n"
          ]
        },
        {
          "output_type": "execute_result",
          "data": {
            "text/plain": [
              "(955.6196109026034, 955.6196109026034)"
            ]
          },
          "metadata": {},
          "execution_count": 40
        }
      ]
    },
    {
      "cell_type": "code",
      "source": [
        "tech_time = []\n",
        "for time in np.round(min_time_fast_unit_res[1]/productivity, 2)[0]:\n",
        "    tech_time.append(time)\n",
        "tech_time = np.array(tech_time)\n",
        "columns = ['Часы']\n",
        "tech_time_df = pd.DataFrame(data=tech_time, columns=columns)\n",
        "# tech_time_df.index += 1\n",
        "tech_time_df"
      ],
      "metadata": {
        "colab": {
          "base_uri": "https://localhost:8080/",
          "height": 394
        },
        "id": "qg6B7tmWeQmP",
        "outputId": "8e772fe4-e367-4c90-d3c2-65adef0185e3"
      },
      "execution_count": 41,
      "outputs": [
        {
          "output_type": "execute_result",
          "data": {
            "text/html": [
              "\n",
              "  <div id=\"df-52b44b27-df50-4904-9520-d33ce05d66d8\">\n",
              "    <div class=\"colab-df-container\">\n",
              "      <div>\n",
              "<style scoped>\n",
              "    .dataframe tbody tr th:only-of-type {\n",
              "        vertical-align: middle;\n",
              "    }\n",
              "\n",
              "    .dataframe tbody tr th {\n",
              "        vertical-align: top;\n",
              "    }\n",
              "\n",
              "    .dataframe thead th {\n",
              "        text-align: right;\n",
              "    }\n",
              "</style>\n",
              "<table border=\"1\" class=\"dataframe\">\n",
              "  <thead>\n",
              "    <tr style=\"text-align: right;\">\n",
              "      <th></th>\n",
              "      <th>Часы</th>\n",
              "    </tr>\n",
              "  </thead>\n",
              "  <tbody>\n",
              "    <tr>\n",
              "      <th>0</th>\n",
              "      <td>29.28</td>\n",
              "    </tr>\n",
              "    <tr>\n",
              "      <th>1</th>\n",
              "      <td>0.00</td>\n",
              "    </tr>\n",
              "    <tr>\n",
              "      <th>2</th>\n",
              "      <td>16.85</td>\n",
              "    </tr>\n",
              "    <tr>\n",
              "      <th>3</th>\n",
              "      <td>33.56</td>\n",
              "    </tr>\n",
              "    <tr>\n",
              "      <th>4</th>\n",
              "      <td>0.00</td>\n",
              "    </tr>\n",
              "    <tr>\n",
              "      <th>5</th>\n",
              "      <td>14.91</td>\n",
              "    </tr>\n",
              "    <tr>\n",
              "      <th>6</th>\n",
              "      <td>0.00</td>\n",
              "    </tr>\n",
              "    <tr>\n",
              "      <th>7</th>\n",
              "      <td>0.00</td>\n",
              "    </tr>\n",
              "    <tr>\n",
              "      <th>8</th>\n",
              "      <td>0.00</td>\n",
              "    </tr>\n",
              "    <tr>\n",
              "      <th>9</th>\n",
              "      <td>0.00</td>\n",
              "    </tr>\n",
              "    <tr>\n",
              "      <th>10</th>\n",
              "      <td>10.40</td>\n",
              "    </tr>\n",
              "  </tbody>\n",
              "</table>\n",
              "</div>\n",
              "      <button class=\"colab-df-convert\" onclick=\"convertToInteractive('df-52b44b27-df50-4904-9520-d33ce05d66d8')\"\n",
              "              title=\"Convert this dataframe to an interactive table.\"\n",
              "              style=\"display:none;\">\n",
              "        \n",
              "  <svg xmlns=\"http://www.w3.org/2000/svg\" height=\"24px\"viewBox=\"0 0 24 24\"\n",
              "       width=\"24px\">\n",
              "    <path d=\"M0 0h24v24H0V0z\" fill=\"none\"/>\n",
              "    <path d=\"M18.56 5.44l.94 2.06.94-2.06 2.06-.94-2.06-.94-.94-2.06-.94 2.06-2.06.94zm-11 1L8.5 8.5l.94-2.06 2.06-.94-2.06-.94L8.5 2.5l-.94 2.06-2.06.94zm10 10l.94 2.06.94-2.06 2.06-.94-2.06-.94-.94-2.06-.94 2.06-2.06.94z\"/><path d=\"M17.41 7.96l-1.37-1.37c-.4-.4-.92-.59-1.43-.59-.52 0-1.04.2-1.43.59L10.3 9.45l-7.72 7.72c-.78.78-.78 2.05 0 2.83L4 21.41c.39.39.9.59 1.41.59.51 0 1.02-.2 1.41-.59l7.78-7.78 2.81-2.81c.8-.78.8-2.07 0-2.86zM5.41 20L4 18.59l7.72-7.72 1.47 1.35L5.41 20z\"/>\n",
              "  </svg>\n",
              "      </button>\n",
              "      \n",
              "  <style>\n",
              "    .colab-df-container {\n",
              "      display:flex;\n",
              "      flex-wrap:wrap;\n",
              "      gap: 12px;\n",
              "    }\n",
              "\n",
              "    .colab-df-convert {\n",
              "      background-color: #E8F0FE;\n",
              "      border: none;\n",
              "      border-radius: 50%;\n",
              "      cursor: pointer;\n",
              "      display: none;\n",
              "      fill: #1967D2;\n",
              "      height: 32px;\n",
              "      padding: 0 0 0 0;\n",
              "      width: 32px;\n",
              "    }\n",
              "\n",
              "    .colab-df-convert:hover {\n",
              "      background-color: #E2EBFA;\n",
              "      box-shadow: 0px 1px 2px rgba(60, 64, 67, 0.3), 0px 1px 3px 1px rgba(60, 64, 67, 0.15);\n",
              "      fill: #174EA6;\n",
              "    }\n",
              "\n",
              "    [theme=dark] .colab-df-convert {\n",
              "      background-color: #3B4455;\n",
              "      fill: #D2E3FC;\n",
              "    }\n",
              "\n",
              "    [theme=dark] .colab-df-convert:hover {\n",
              "      background-color: #434B5C;\n",
              "      box-shadow: 0px 1px 3px 1px rgba(0, 0, 0, 0.15);\n",
              "      filter: drop-shadow(0px 1px 2px rgba(0, 0, 0, 0.3));\n",
              "      fill: #FFFFFF;\n",
              "    }\n",
              "  </style>\n",
              "\n",
              "      <script>\n",
              "        const buttonEl =\n",
              "          document.querySelector('#df-52b44b27-df50-4904-9520-d33ce05d66d8 button.colab-df-convert');\n",
              "        buttonEl.style.display =\n",
              "          google.colab.kernel.accessAllowed ? 'block' : 'none';\n",
              "\n",
              "        async function convertToInteractive(key) {\n",
              "          const element = document.querySelector('#df-52b44b27-df50-4904-9520-d33ce05d66d8');\n",
              "          const dataTable =\n",
              "            await google.colab.kernel.invokeFunction('convertToInteractive',\n",
              "                                                     [key], {});\n",
              "          if (!dataTable) return;\n",
              "\n",
              "          const docLinkHtml = 'Like what you see? Visit the ' +\n",
              "            '<a target=\"_blank\" href=https://colab.research.google.com/notebooks/data_table.ipynb>data table notebook</a>'\n",
              "            + ' to learn more about interactive tables.';\n",
              "          element.innerHTML = '';\n",
              "          dataTable['output_type'] = 'display_data';\n",
              "          await google.colab.output.renderOutput(dataTable, element);\n",
              "          const docLink = document.createElement('div');\n",
              "          docLink.innerHTML = docLinkHtml;\n",
              "          element.appendChild(docLink);\n",
              "        }\n",
              "      </script>\n",
              "    </div>\n",
              "  </div>\n",
              "  "
            ],
            "text/plain": [
              "     Часы\n",
              "0   29.28\n",
              "1    0.00\n",
              "2   16.85\n",
              "3   33.56\n",
              "4    0.00\n",
              "5   14.91\n",
              "6    0.00\n",
              "7    0.00\n",
              "8    0.00\n",
              "9    0.00\n",
              "10  10.40"
            ]
          },
          "metadata": {},
          "execution_count": 41
        }
      ]
    },
    {
      "cell_type": "code",
      "source": [
        "u_1 = tech_time_df.iloc[0:6, :].sum()[0]\n",
        "u_2 = tech_time_df.iloc[6:, :].sum()[0]\n",
        "print(f'Время по агр. 1 ({u_1} ч.) + по агр. 2 ({u_2} ч.) = {u_1 + u_2} ч')"
      ],
      "metadata": {
        "colab": {
          "base_uri": "https://localhost:8080/"
        },
        "id": "qDDsJ1ezea-B",
        "outputId": "18a0594b-fe30-4d0f-afbc-8ac2efa417b3"
      },
      "execution_count": 38,
      "outputs": [
        {
          "output_type": "stream",
          "name": "stdout",
          "text": [
            "Время по агр. 1 (94.6 ч.) + по агр. 2 (10.4 ч.) = 105.0 ч\n"
          ]
        }
      ]
    },
    {
      "cell_type": "code",
      "source": [
        ""
      ],
      "metadata": {
        "id": "cXK8nFD6eGfE"
      },
      "execution_count": null,
      "outputs": []
    },
    {
      "cell_type": "code",
      "source": [
        "z = np.ones((1, 11))\n",
        "z"
      ],
      "metadata": {
        "colab": {
          "base_uri": "https://localhost:8080/",
          "height": 0
        },
        "id": "fjEetC8VhKlz",
        "outputId": "ca71592d-4226-4d52-b3c3-fb7bad630826"
      },
      "execution_count": 12,
      "outputs": [
        {
          "output_type": "execute_result",
          "data": {
            "text/plain": [
              "array([[1., 1., 1., 1., 1., 1., 1., 1., 1., 1., 1.]])"
            ]
          },
          "metadata": {},
          "execution_count": 12
        }
      ]
    },
    {
      "cell_type": "code",
      "source": [
        "cvxpy.multiply(x_min, 1.02)"
      ],
      "metadata": {
        "colab": {
          "base_uri": "https://localhost:8080/",
          "height": 0
        },
        "id": "GpDcPQUhlA7q",
        "outputId": "81f299cc-2365-49cb-d2f4-722f639f5514"
      },
      "execution_count": 17,
      "outputs": [
        {
          "output_type": "execute_result",
          "data": {
            "text/plain": [
              "Expression(CONSTANT, NONNEGATIVE, (1, 11))"
            ]
          },
          "metadata": {},
          "execution_count": 17
        }
      ]
    },
    {
      "cell_type": "code",
      "source": [
        "z <= x_min * 1.02"
      ],
      "metadata": {
        "colab": {
          "base_uri": "https://localhost:8080/",
          "height": 0
        },
        "id": "UhIGooIekm_7",
        "outputId": "6285979b-84e1-4f8f-a555-646be3864e0a"
      },
      "execution_count": 19,
      "outputs": [
        {
          "output_type": "execute_result",
          "data": {
            "text/plain": [
              "array([[ True,  True, False,  True, False, False, False,  True,  True,\n",
              "         True,  True]])"
            ]
          },
          "metadata": {},
          "execution_count": 19
        }
      ]
    },
    {
      "cell_type": "code",
      "source": [
        "F_12_max, F_12_distr = distribute_two(a)"
      ],
      "metadata": {
        "id": "OfMiW-Nk_bXb"
      },
      "execution_count": 11,
      "outputs": []
    },
    {
      "cell_type": "code",
      "source": [
        "F_12_max, F_12_distr"
      ],
      "metadata": {
        "colab": {
          "base_uri": "https://localhost:8080/"
        },
        "id": "cYgBrhcZEATu",
        "outputId": "2fb66157-631d-43b6-8b86-a1672276b952"
      },
      "execution_count": 15,
      "outputs": [
        {
          "output_type": "execute_result",
          "data": {
            "text/plain": [
              "([0, 5, 9, 11.5, 13], [[0, 0], [1, 0], [1, 1], [2, 1], [3, 1]])"
            ]
          },
          "metadata": {},
          "execution_count": 15
        }
      ]
    },
    {
      "cell_type": "code",
      "source": [
        "b = [0, 6, 8, 10, 12]\n",
        "F_123 = distribute_two([F_12_max, b])\n",
        "F_123"
      ],
      "metadata": {
        "colab": {
          "base_uri": "https://localhost:8080/"
        },
        "id": "deF6HxAuB6Yp",
        "outputId": "0f4c7ee3-3e9f-4f5d-f531-b439aef3e1e4"
      },
      "execution_count": 13,
      "outputs": [
        {
          "output_type": "execute_result",
          "data": {
            "text/plain": [
              "([0, 6, 11, 15, 17.5], [[0, 0], [0, 1], [1, 1], [2, 1], [3, 1]])"
            ]
          },
          "metadata": {},
          "execution_count": 13
        }
      ]
    },
    {
      "cell_type": "code",
      "source": [
        "F_123_dist = []\n",
        "for i in F_123[1]:\n",
        "    F_123_dist.append(F_12_distr[i[0]] + [i[1]])\n",
        "\n",
        "F_123_dist"
      ],
      "metadata": {
        "colab": {
          "base_uri": "https://localhost:8080/"
        },
        "id": "zfvOq1jiCFiZ",
        "outputId": "a656bd7f-9674-41d2-9530-1be4b768df39"
      },
      "execution_count": 14,
      "outputs": [
        {
          "output_type": "execute_result",
          "data": {
            "text/plain": [
              "[[0, 0, 0], [0, 0, 1], [1, 0, 1], [1, 1, 1], [2, 1, 1]]"
            ]
          },
          "metadata": {},
          "execution_count": 14
        }
      ]
    },
    {
      "cell_type": "code",
      "source": [
        "c = [0, 4.5, 7, 9, 11]\n",
        "F_1234 = distribute_two([F_123[0], c])\n",
        "F_1234"
      ],
      "metadata": {
        "colab": {
          "base_uri": "https://localhost:8080/"
        },
        "id": "fz0bLr_lDRkI",
        "outputId": "8c234a06-1a85-458a-f900-8c7afe3d3448"
      },
      "execution_count": 16,
      "outputs": [
        {
          "output_type": "execute_result",
          "data": {
            "text/plain": [
              "([0, 6, 11, 15.5, 19.5], [[0, 0], [1, 0], [2, 0], [2, 1], [3, 1]])"
            ]
          },
          "metadata": {},
          "execution_count": 16
        }
      ]
    },
    {
      "cell_type": "code",
      "source": [
        "F_1234_dist = []\n",
        "for i in F_1234[1]:\n",
        "    F_1234_dist.append(F_123_dist[i[0]] + [i[1]])\n",
        "\n",
        "F_1234_dist"
      ],
      "metadata": {
        "colab": {
          "base_uri": "https://localhost:8080/"
        },
        "id": "h1kshw0HOh7h",
        "outputId": "0d5eeefe-2a59-4309-c909-b8dc8e4b6157"
      },
      "execution_count": 18,
      "outputs": [
        {
          "output_type": "execute_result",
          "data": {
            "text/plain": [
              "[[0, 0, 0, 0], [0, 0, 1, 0], [1, 0, 1, 0], [1, 0, 1, 1], [1, 1, 1, 1]]"
            ]
          },
          "metadata": {},
          "execution_count": 18
        }
      ]
    },
    {
      "cell_type": "code",
      "source": [
        ""
      ],
      "metadata": {
        "id": "z0R8Pd1PQ9y4"
      },
      "execution_count": 44,
      "outputs": []
    },
    {
      "cell_type": "code",
      "source": [
        "from pprint import pprint"
      ],
      "metadata": {
        "id": "pKdmi_mhZnpo"
      },
      "execution_count": 42,
      "outputs": []
    },
    {
      "cell_type": "code",
      "source": [
        "import numpy as np\n",
        "import pandas as pd\n",
        "\n",
        "\n",
        "def distribute_two(a):\n",
        "    \"\"\"Return max profit list and distribution list for 2 banks.\"\"\"\n",
        "    max_list = []\n",
        "    opt_list = []\n",
        "\n",
        "    for i in range(len(a[0])):\n",
        "        max = a[0][i] + a[1][0]\n",
        "        opt = [i, 0]\n",
        "        for j in range(i+1):\n",
        "            test_max = a[0][i-j] + a[1][j]\n",
        "            if test_max > max:\n",
        "                max = test_max\n",
        "                opt = [i-j, j]\n",
        "        max_list.append(max)\n",
        "        opt_list.append(opt)\n",
        "    return max_list, opt_list\n",
        "\n",
        "\n",
        "# a = [[0, 5, 7.5, 9, 10],\n",
        "#      [0, 4, 5.5, 8, 10]\n",
        "#      ]\n",
        "# b = [[0, 5, 9, 11.5, 13],\n",
        "#      [0, 6, 8, 10, 12]\n",
        "#      ]\n",
        "\n",
        "# distribute_two(a)\n",
        "# distribute_two(b)"
      ],
      "metadata": {
        "id": "LErqIIzQN82I"
      },
      "execution_count": 77,
      "outputs": []
    },
    {
      "cell_type": "code",
      "source": [
        "def distribute(a):\n",
        "    \"\"\"Return max profits and distribution of investments.\n",
        "    \n",
        "    a : a profit matrix A x B, rows are banks, columns are investments\n",
        "        a_ij - profit j from bank i \n",
        "    \"\"\"\n",
        "    a = np.hstack((np.zeros((len(a), 1)), a))\n",
        "    dist_table = list(a[:2, :])\n",
        "\n",
        "    F_12_max, F_12_distr = distribute_two(a[0:2, :])\n",
        "    dist_table.append(F_12_max)\n",
        "    dist_table.append(F_12_distr)\n",
        "    for row in a[2:, :]:\n",
        "        # print(row)\n",
        "        dist_table.append(row)\n",
        "        F_123 = distribute_two([dist_table[-3], row])\n",
        "        F_123_dist = []\n",
        "        for i in F_123[1]:\n",
        "            F_123_dist.append(dist_table[-2][i[0]] + [i[1]])\n",
        "        dist_table.append(F_123[0])    # add maximum profits\n",
        "        dist_table.append(F_123_dist)  # add optimal distribution\n",
        "\n",
        "    return dist_table\n",
        "\n",
        "# a = [[5, 7.5, 9, 10],\n",
        "#   [4, 5.5, 8, 10],\n",
        "#   [6, 8, 10, 12],\n",
        "#   [4.5, 7, 9, 11]\n",
        "#   ]\n",
        "# res = distribute(a)\n",
        "# pprint(res)"
      ],
      "metadata": {
        "id": "srHNJeLgOw03"
      },
      "execution_count": 78,
      "outputs": []
    },
    {
      "cell_type": "code",
      "source": [
        "def build_column_names(col_num):\n",
        "    \"\"\"Return a list of column names.\"\"\"\n",
        "    columns = ['f1(x)', 'f2(x)', 'F12(A)', 'F12_dist']\n",
        "    n = int((col_num - 4) / 3)\n",
        "    count = 3\n",
        "    for i in range(n):\n",
        "        s = f'f{count}(x)'\n",
        "        columns.append(s)\n",
        "        r = ''.join([str(i) for i in range(1, count+1)])\n",
        "        s = f'F{r}(A)'\n",
        "        columns.append(s)\n",
        "        s = f'F{r}_dist'\n",
        "        columns.append(s)\n",
        "        count += 1\n",
        "    return columns"
      ],
      "metadata": {
        "id": "OOIQAAnWZzWh"
      },
      "execution_count": 80,
      "outputs": []
    },
    {
      "cell_type": "code",
      "source": [
        "# Часть 1 и 2\n",
        "a = [[5, 7.5, 9, 10],\n",
        "  [4, 5.5, 8, 10],\n",
        "  [6, 8, 10, 12],\n",
        "  [4.5, 7, 9, 11]\n",
        "  ]\n",
        "def main(a):\n",
        "    res = distribute(a)\n",
        "    dist_table = np.array(res, dtype='object')\n",
        "    columns = build_column_names(dist_table.shape[0])\n",
        "    best_dist = pd.DataFrame(dist_table.T, columns=columns)\n",
        "    return best_dist\n",
        "\n",
        "best_dist = main(a)\n",
        "best_dist"
      ],
      "metadata": {
        "colab": {
          "base_uri": "https://localhost:8080/",
          "height": 206
        },
        "id": "MYIiN8E0oooj",
        "outputId": "b11a4ed0-19d9-4fc1-fc55-23b6514f8d77"
      },
      "execution_count": 87,
      "outputs": [
        {
          "output_type": "execute_result",
          "data": {
            "text/html": [
              "\n",
              "  <div id=\"df-b57b6a9a-358f-4f55-97a0-7d0404868a80\">\n",
              "    <div class=\"colab-df-container\">\n",
              "      <div>\n",
              "<style scoped>\n",
              "    .dataframe tbody tr th:only-of-type {\n",
              "        vertical-align: middle;\n",
              "    }\n",
              "\n",
              "    .dataframe tbody tr th {\n",
              "        vertical-align: top;\n",
              "    }\n",
              "\n",
              "    .dataframe thead th {\n",
              "        text-align: right;\n",
              "    }\n",
              "</style>\n",
              "<table border=\"1\" class=\"dataframe\">\n",
              "  <thead>\n",
              "    <tr style=\"text-align: right;\">\n",
              "      <th></th>\n",
              "      <th>f1(x)</th>\n",
              "      <th>f2(x)</th>\n",
              "      <th>F12(A)</th>\n",
              "      <th>F12_dist</th>\n",
              "      <th>f3(x)</th>\n",
              "      <th>F123(A)</th>\n",
              "      <th>F123_dist</th>\n",
              "      <th>f4(x)</th>\n",
              "      <th>F1234(A)</th>\n",
              "      <th>F1234_dist</th>\n",
              "    </tr>\n",
              "  </thead>\n",
              "  <tbody>\n",
              "    <tr>\n",
              "      <th>0</th>\n",
              "      <td>0</td>\n",
              "      <td>0</td>\n",
              "      <td>0</td>\n",
              "      <td>[0, 0]</td>\n",
              "      <td>0</td>\n",
              "      <td>0</td>\n",
              "      <td>[0, 0, 0]</td>\n",
              "      <td>0</td>\n",
              "      <td>0</td>\n",
              "      <td>[0, 0, 0, 0]</td>\n",
              "    </tr>\n",
              "    <tr>\n",
              "      <th>1</th>\n",
              "      <td>5</td>\n",
              "      <td>4</td>\n",
              "      <td>5</td>\n",
              "      <td>[1, 0]</td>\n",
              "      <td>6</td>\n",
              "      <td>6</td>\n",
              "      <td>[0, 0, 1]</td>\n",
              "      <td>4.5</td>\n",
              "      <td>6</td>\n",
              "      <td>[0, 0, 1, 0]</td>\n",
              "    </tr>\n",
              "    <tr>\n",
              "      <th>2</th>\n",
              "      <td>7.5</td>\n",
              "      <td>5.5</td>\n",
              "      <td>9</td>\n",
              "      <td>[1, 1]</td>\n",
              "      <td>8</td>\n",
              "      <td>11</td>\n",
              "      <td>[1, 0, 1]</td>\n",
              "      <td>7</td>\n",
              "      <td>11</td>\n",
              "      <td>[1, 0, 1, 0]</td>\n",
              "    </tr>\n",
              "    <tr>\n",
              "      <th>3</th>\n",
              "      <td>9</td>\n",
              "      <td>8</td>\n",
              "      <td>11.5</td>\n",
              "      <td>[2, 1]</td>\n",
              "      <td>10</td>\n",
              "      <td>15</td>\n",
              "      <td>[1, 1, 1]</td>\n",
              "      <td>9</td>\n",
              "      <td>15.5</td>\n",
              "      <td>[1, 0, 1, 1]</td>\n",
              "    </tr>\n",
              "    <tr>\n",
              "      <th>4</th>\n",
              "      <td>10</td>\n",
              "      <td>10</td>\n",
              "      <td>13</td>\n",
              "      <td>[3, 1]</td>\n",
              "      <td>12</td>\n",
              "      <td>17.5</td>\n",
              "      <td>[2, 1, 1]</td>\n",
              "      <td>11</td>\n",
              "      <td>19.5</td>\n",
              "      <td>[1, 1, 1, 1]</td>\n",
              "    </tr>\n",
              "  </tbody>\n",
              "</table>\n",
              "</div>\n",
              "      <button class=\"colab-df-convert\" onclick=\"convertToInteractive('df-b57b6a9a-358f-4f55-97a0-7d0404868a80')\"\n",
              "              title=\"Convert this dataframe to an interactive table.\"\n",
              "              style=\"display:none;\">\n",
              "        \n",
              "  <svg xmlns=\"http://www.w3.org/2000/svg\" height=\"24px\"viewBox=\"0 0 24 24\"\n",
              "       width=\"24px\">\n",
              "    <path d=\"M0 0h24v24H0V0z\" fill=\"none\"/>\n",
              "    <path d=\"M18.56 5.44l.94 2.06.94-2.06 2.06-.94-2.06-.94-.94-2.06-.94 2.06-2.06.94zm-11 1L8.5 8.5l.94-2.06 2.06-.94-2.06-.94L8.5 2.5l-.94 2.06-2.06.94zm10 10l.94 2.06.94-2.06 2.06-.94-2.06-.94-.94-2.06-.94 2.06-2.06.94z\"/><path d=\"M17.41 7.96l-1.37-1.37c-.4-.4-.92-.59-1.43-.59-.52 0-1.04.2-1.43.59L10.3 9.45l-7.72 7.72c-.78.78-.78 2.05 0 2.83L4 21.41c.39.39.9.59 1.41.59.51 0 1.02-.2 1.41-.59l7.78-7.78 2.81-2.81c.8-.78.8-2.07 0-2.86zM5.41 20L4 18.59l7.72-7.72 1.47 1.35L5.41 20z\"/>\n",
              "  </svg>\n",
              "      </button>\n",
              "      \n",
              "  <style>\n",
              "    .colab-df-container {\n",
              "      display:flex;\n",
              "      flex-wrap:wrap;\n",
              "      gap: 12px;\n",
              "    }\n",
              "\n",
              "    .colab-df-convert {\n",
              "      background-color: #E8F0FE;\n",
              "      border: none;\n",
              "      border-radius: 50%;\n",
              "      cursor: pointer;\n",
              "      display: none;\n",
              "      fill: #1967D2;\n",
              "      height: 32px;\n",
              "      padding: 0 0 0 0;\n",
              "      width: 32px;\n",
              "    }\n",
              "\n",
              "    .colab-df-convert:hover {\n",
              "      background-color: #E2EBFA;\n",
              "      box-shadow: 0px 1px 2px rgba(60, 64, 67, 0.3), 0px 1px 3px 1px rgba(60, 64, 67, 0.15);\n",
              "      fill: #174EA6;\n",
              "    }\n",
              "\n",
              "    [theme=dark] .colab-df-convert {\n",
              "      background-color: #3B4455;\n",
              "      fill: #D2E3FC;\n",
              "    }\n",
              "\n",
              "    [theme=dark] .colab-df-convert:hover {\n",
              "      background-color: #434B5C;\n",
              "      box-shadow: 0px 1px 3px 1px rgba(0, 0, 0, 0.15);\n",
              "      filter: drop-shadow(0px 1px 2px rgba(0, 0, 0, 0.3));\n",
              "      fill: #FFFFFF;\n",
              "    }\n",
              "  </style>\n",
              "\n",
              "      <script>\n",
              "        const buttonEl =\n",
              "          document.querySelector('#df-b57b6a9a-358f-4f55-97a0-7d0404868a80 button.colab-df-convert');\n",
              "        buttonEl.style.display =\n",
              "          google.colab.kernel.accessAllowed ? 'block' : 'none';\n",
              "\n",
              "        async function convertToInteractive(key) {\n",
              "          const element = document.querySelector('#df-b57b6a9a-358f-4f55-97a0-7d0404868a80');\n",
              "          const dataTable =\n",
              "            await google.colab.kernel.invokeFunction('convertToInteractive',\n",
              "                                                     [key], {});\n",
              "          if (!dataTable) return;\n",
              "\n",
              "          const docLinkHtml = 'Like what you see? Visit the ' +\n",
              "            '<a target=\"_blank\" href=https://colab.research.google.com/notebooks/data_table.ipynb>data table notebook</a>'\n",
              "            + ' to learn more about interactive tables.';\n",
              "          element.innerHTML = '';\n",
              "          dataTable['output_type'] = 'display_data';\n",
              "          await google.colab.output.renderOutput(dataTable, element);\n",
              "          const docLink = document.createElement('div');\n",
              "          docLink.innerHTML = docLinkHtml;\n",
              "          element.appendChild(docLink);\n",
              "        }\n",
              "      </script>\n",
              "    </div>\n",
              "  </div>\n",
              "  "
            ],
            "text/plain": [
              "  f1(x) f2(x) F12(A) F12_dist  ...  F123_dist f4(x) F1234(A)    F1234_dist\n",
              "0     0     0      0   [0, 0]  ...  [0, 0, 0]     0        0  [0, 0, 0, 0]\n",
              "1     5     4      5   [1, 0]  ...  [0, 0, 1]   4.5        6  [0, 0, 1, 0]\n",
              "2   7.5   5.5      9   [1, 1]  ...  [1, 0, 1]     7       11  [1, 0, 1, 0]\n",
              "3     9     8   11.5   [2, 1]  ...  [1, 1, 1]     9     15.5  [1, 0, 1, 1]\n",
              "4    10    10     13   [3, 1]  ...  [2, 1, 1]    11     19.5  [1, 1, 1, 1]\n",
              "\n",
              "[5 rows x 10 columns]"
            ]
          },
          "metadata": {},
          "execution_count": 87
        }
      ]
    },
    {
      "cell_type": "code",
      "source": [
        "# часть 3\n",
        "a = [\n",
        "  # [5, 7.5, 9, 10],  # убираем 1-ый агрегат\n",
        "  [4, 5.5, 8, 10],\n",
        "  [6, 8, 10, 12],\n",
        "  [4.5, 7, 9, 11]\n",
        "  ]\n",
        "best_dist = main(a)\n",
        "best_dist"
      ],
      "metadata": {
        "colab": {
          "base_uri": "https://localhost:8080/",
          "height": 206
        },
        "id": "HGdMhIs4oCMc",
        "outputId": "c093d515-6b82-4edc-88af-a40161355e76"
      },
      "execution_count": 88,
      "outputs": [
        {
          "output_type": "execute_result",
          "data": {
            "text/html": [
              "\n",
              "  <div id=\"df-2089ccd9-6530-4d3b-aae9-9806fa839bd4\">\n",
              "    <div class=\"colab-df-container\">\n",
              "      <div>\n",
              "<style scoped>\n",
              "    .dataframe tbody tr th:only-of-type {\n",
              "        vertical-align: middle;\n",
              "    }\n",
              "\n",
              "    .dataframe tbody tr th {\n",
              "        vertical-align: top;\n",
              "    }\n",
              "\n",
              "    .dataframe thead th {\n",
              "        text-align: right;\n",
              "    }\n",
              "</style>\n",
              "<table border=\"1\" class=\"dataframe\">\n",
              "  <thead>\n",
              "    <tr style=\"text-align: right;\">\n",
              "      <th></th>\n",
              "      <th>f1(x)</th>\n",
              "      <th>f2(x)</th>\n",
              "      <th>F12(A)</th>\n",
              "      <th>F12_dist</th>\n",
              "      <th>f3(x)</th>\n",
              "      <th>F123(A)</th>\n",
              "      <th>F123_dist</th>\n",
              "    </tr>\n",
              "  </thead>\n",
              "  <tbody>\n",
              "    <tr>\n",
              "      <th>0</th>\n",
              "      <td>0</td>\n",
              "      <td>0</td>\n",
              "      <td>0</td>\n",
              "      <td>[0, 0]</td>\n",
              "      <td>0</td>\n",
              "      <td>0</td>\n",
              "      <td>[0, 0, 0]</td>\n",
              "    </tr>\n",
              "    <tr>\n",
              "      <th>1</th>\n",
              "      <td>4</td>\n",
              "      <td>6</td>\n",
              "      <td>6</td>\n",
              "      <td>[0, 1]</td>\n",
              "      <td>4.5</td>\n",
              "      <td>6</td>\n",
              "      <td>[0, 1, 0]</td>\n",
              "    </tr>\n",
              "    <tr>\n",
              "      <th>2</th>\n",
              "      <td>5.5</td>\n",
              "      <td>8</td>\n",
              "      <td>10</td>\n",
              "      <td>[1, 1]</td>\n",
              "      <td>7</td>\n",
              "      <td>10.5</td>\n",
              "      <td>[0, 1, 1]</td>\n",
              "    </tr>\n",
              "    <tr>\n",
              "      <th>3</th>\n",
              "      <td>8</td>\n",
              "      <td>10</td>\n",
              "      <td>12</td>\n",
              "      <td>[1, 2]</td>\n",
              "      <td>9</td>\n",
              "      <td>14.5</td>\n",
              "      <td>[1, 1, 1]</td>\n",
              "    </tr>\n",
              "    <tr>\n",
              "      <th>4</th>\n",
              "      <td>10</td>\n",
              "      <td>12</td>\n",
              "      <td>14</td>\n",
              "      <td>[3, 1]</td>\n",
              "      <td>11</td>\n",
              "      <td>17</td>\n",
              "      <td>[1, 1, 2]</td>\n",
              "    </tr>\n",
              "  </tbody>\n",
              "</table>\n",
              "</div>\n",
              "      <button class=\"colab-df-convert\" onclick=\"convertToInteractive('df-2089ccd9-6530-4d3b-aae9-9806fa839bd4')\"\n",
              "              title=\"Convert this dataframe to an interactive table.\"\n",
              "              style=\"display:none;\">\n",
              "        \n",
              "  <svg xmlns=\"http://www.w3.org/2000/svg\" height=\"24px\"viewBox=\"0 0 24 24\"\n",
              "       width=\"24px\">\n",
              "    <path d=\"M0 0h24v24H0V0z\" fill=\"none\"/>\n",
              "    <path d=\"M18.56 5.44l.94 2.06.94-2.06 2.06-.94-2.06-.94-.94-2.06-.94 2.06-2.06.94zm-11 1L8.5 8.5l.94-2.06 2.06-.94-2.06-.94L8.5 2.5l-.94 2.06-2.06.94zm10 10l.94 2.06.94-2.06 2.06-.94-2.06-.94-.94-2.06-.94 2.06-2.06.94z\"/><path d=\"M17.41 7.96l-1.37-1.37c-.4-.4-.92-.59-1.43-.59-.52 0-1.04.2-1.43.59L10.3 9.45l-7.72 7.72c-.78.78-.78 2.05 0 2.83L4 21.41c.39.39.9.59 1.41.59.51 0 1.02-.2 1.41-.59l7.78-7.78 2.81-2.81c.8-.78.8-2.07 0-2.86zM5.41 20L4 18.59l7.72-7.72 1.47 1.35L5.41 20z\"/>\n",
              "  </svg>\n",
              "      </button>\n",
              "      \n",
              "  <style>\n",
              "    .colab-df-container {\n",
              "      display:flex;\n",
              "      flex-wrap:wrap;\n",
              "      gap: 12px;\n",
              "    }\n",
              "\n",
              "    .colab-df-convert {\n",
              "      background-color: #E8F0FE;\n",
              "      border: none;\n",
              "      border-radius: 50%;\n",
              "      cursor: pointer;\n",
              "      display: none;\n",
              "      fill: #1967D2;\n",
              "      height: 32px;\n",
              "      padding: 0 0 0 0;\n",
              "      width: 32px;\n",
              "    }\n",
              "\n",
              "    .colab-df-convert:hover {\n",
              "      background-color: #E2EBFA;\n",
              "      box-shadow: 0px 1px 2px rgba(60, 64, 67, 0.3), 0px 1px 3px 1px rgba(60, 64, 67, 0.15);\n",
              "      fill: #174EA6;\n",
              "    }\n",
              "\n",
              "    [theme=dark] .colab-df-convert {\n",
              "      background-color: #3B4455;\n",
              "      fill: #D2E3FC;\n",
              "    }\n",
              "\n",
              "    [theme=dark] .colab-df-convert:hover {\n",
              "      background-color: #434B5C;\n",
              "      box-shadow: 0px 1px 3px 1px rgba(0, 0, 0, 0.15);\n",
              "      filter: drop-shadow(0px 1px 2px rgba(0, 0, 0, 0.3));\n",
              "      fill: #FFFFFF;\n",
              "    }\n",
              "  </style>\n",
              "\n",
              "      <script>\n",
              "        const buttonEl =\n",
              "          document.querySelector('#df-2089ccd9-6530-4d3b-aae9-9806fa839bd4 button.colab-df-convert');\n",
              "        buttonEl.style.display =\n",
              "          google.colab.kernel.accessAllowed ? 'block' : 'none';\n",
              "\n",
              "        async function convertToInteractive(key) {\n",
              "          const element = document.querySelector('#df-2089ccd9-6530-4d3b-aae9-9806fa839bd4');\n",
              "          const dataTable =\n",
              "            await google.colab.kernel.invokeFunction('convertToInteractive',\n",
              "                                                     [key], {});\n",
              "          if (!dataTable) return;\n",
              "\n",
              "          const docLinkHtml = 'Like what you see? Visit the ' +\n",
              "            '<a target=\"_blank\" href=https://colab.research.google.com/notebooks/data_table.ipynb>data table notebook</a>'\n",
              "            + ' to learn more about interactive tables.';\n",
              "          element.innerHTML = '';\n",
              "          dataTable['output_type'] = 'display_data';\n",
              "          await google.colab.output.renderOutput(dataTable, element);\n",
              "          const docLink = document.createElement('div');\n",
              "          docLink.innerHTML = docLinkHtml;\n",
              "          element.appendChild(docLink);\n",
              "        }\n",
              "      </script>\n",
              "    </div>\n",
              "  </div>\n",
              "  "
            ],
            "text/plain": [
              "  f1(x) f2(x) F12(A) F12_dist f3(x) F123(A)  F123_dist\n",
              "0     0     0      0   [0, 0]     0       0  [0, 0, 0]\n",
              "1     4     6      6   [0, 1]   4.5       6  [0, 1, 0]\n",
              "2   5.5     8     10   [1, 1]     7    10.5  [0, 1, 1]\n",
              "3     8    10     12   [1, 2]     9    14.5  [1, 1, 1]\n",
              "4    10    12     14   [3, 1]    11      17  [1, 1, 2]"
            ]
          },
          "metadata": {},
          "execution_count": 88
        }
      ]
    },
    {
      "cell_type": "code",
      "source": [
        "# пример данных из учебника\n",
        "b = [[0.28, 0.45, 0.65, 0.78, 0.9, 1.02, 1.13, 1.23, 1.32],\n",
        "     [0.25, 0.41, 0.55, 0.65, 0.75, 0.8, 0.85, 0.88, 0.9],\n",
        "     [0.15, 0.25, 0.4, 0.5, 0.62, 0.73, 0.82, 0.9, 0.96]\n",
        "     ]\n",
        "\n",
        "best_dist = main(b)\n",
        "best_dist"
      ],
      "metadata": {
        "colab": {
          "base_uri": "https://localhost:8080/",
          "height": 363
        },
        "id": "RSttlnUYo6Se",
        "outputId": "7d197da0-b110-4866-8a06-4bee9e5df5a7"
      },
      "execution_count": 90,
      "outputs": [
        {
          "output_type": "execute_result",
          "data": {
            "text/html": [
              "\n",
              "  <div id=\"df-270f024d-755a-4ed0-939d-a7e40d0998e0\">\n",
              "    <div class=\"colab-df-container\">\n",
              "      <div>\n",
              "<style scoped>\n",
              "    .dataframe tbody tr th:only-of-type {\n",
              "        vertical-align: middle;\n",
              "    }\n",
              "\n",
              "    .dataframe tbody tr th {\n",
              "        vertical-align: top;\n",
              "    }\n",
              "\n",
              "    .dataframe thead th {\n",
              "        text-align: right;\n",
              "    }\n",
              "</style>\n",
              "<table border=\"1\" class=\"dataframe\">\n",
              "  <thead>\n",
              "    <tr style=\"text-align: right;\">\n",
              "      <th></th>\n",
              "      <th>f1(x)</th>\n",
              "      <th>f2(x)</th>\n",
              "      <th>F12(A)</th>\n",
              "      <th>F12_dist</th>\n",
              "      <th>f3(x)</th>\n",
              "      <th>F123(A)</th>\n",
              "      <th>F123_dist</th>\n",
              "    </tr>\n",
              "  </thead>\n",
              "  <tbody>\n",
              "    <tr>\n",
              "      <th>0</th>\n",
              "      <td>0</td>\n",
              "      <td>0</td>\n",
              "      <td>0</td>\n",
              "      <td>[0, 0]</td>\n",
              "      <td>0</td>\n",
              "      <td>0</td>\n",
              "      <td>[0, 0, 0]</td>\n",
              "    </tr>\n",
              "    <tr>\n",
              "      <th>1</th>\n",
              "      <td>0.28</td>\n",
              "      <td>0.25</td>\n",
              "      <td>0.28</td>\n",
              "      <td>[1, 0]</td>\n",
              "      <td>0.15</td>\n",
              "      <td>0.28</td>\n",
              "      <td>[1, 0, 0]</td>\n",
              "    </tr>\n",
              "    <tr>\n",
              "      <th>2</th>\n",
              "      <td>0.45</td>\n",
              "      <td>0.41</td>\n",
              "      <td>0.53</td>\n",
              "      <td>[1, 1]</td>\n",
              "      <td>0.25</td>\n",
              "      <td>0.53</td>\n",
              "      <td>[1, 1, 0]</td>\n",
              "    </tr>\n",
              "    <tr>\n",
              "      <th>3</th>\n",
              "      <td>0.65</td>\n",
              "      <td>0.55</td>\n",
              "      <td>0.7</td>\n",
              "      <td>[2, 1]</td>\n",
              "      <td>0.4</td>\n",
              "      <td>0.7</td>\n",
              "      <td>[2, 1, 0]</td>\n",
              "    </tr>\n",
              "    <tr>\n",
              "      <th>4</th>\n",
              "      <td>0.78</td>\n",
              "      <td>0.65</td>\n",
              "      <td>0.9</td>\n",
              "      <td>[3, 1]</td>\n",
              "      <td>0.5</td>\n",
              "      <td>0.9</td>\n",
              "      <td>[3, 1, 0]</td>\n",
              "    </tr>\n",
              "    <tr>\n",
              "      <th>5</th>\n",
              "      <td>0.9</td>\n",
              "      <td>0.75</td>\n",
              "      <td>1.06</td>\n",
              "      <td>[3, 2]</td>\n",
              "      <td>0.62</td>\n",
              "      <td>1.06</td>\n",
              "      <td>[3, 2, 0]</td>\n",
              "    </tr>\n",
              "    <tr>\n",
              "      <th>6</th>\n",
              "      <td>1.02</td>\n",
              "      <td>0.8</td>\n",
              "      <td>1.2</td>\n",
              "      <td>[3, 3]</td>\n",
              "      <td>0.73</td>\n",
              "      <td>1.21</td>\n",
              "      <td>[3, 2, 1]</td>\n",
              "    </tr>\n",
              "    <tr>\n",
              "      <th>7</th>\n",
              "      <td>1.13</td>\n",
              "      <td>0.85</td>\n",
              "      <td>1.33</td>\n",
              "      <td>[4, 3]</td>\n",
              "      <td>0.82</td>\n",
              "      <td>1.35</td>\n",
              "      <td>[3, 3, 1]</td>\n",
              "    </tr>\n",
              "    <tr>\n",
              "      <th>8</th>\n",
              "      <td>1.23</td>\n",
              "      <td>0.88</td>\n",
              "      <td>1.45</td>\n",
              "      <td>[5, 3]</td>\n",
              "      <td>0.9</td>\n",
              "      <td>1.48</td>\n",
              "      <td>[4, 3, 1]</td>\n",
              "    </tr>\n",
              "    <tr>\n",
              "      <th>9</th>\n",
              "      <td>1.32</td>\n",
              "      <td>0.9</td>\n",
              "      <td>1.57</td>\n",
              "      <td>[6, 3]</td>\n",
              "      <td>0.96</td>\n",
              "      <td>1.6</td>\n",
              "      <td>[5, 3, 1]</td>\n",
              "    </tr>\n",
              "  </tbody>\n",
              "</table>\n",
              "</div>\n",
              "      <button class=\"colab-df-convert\" onclick=\"convertToInteractive('df-270f024d-755a-4ed0-939d-a7e40d0998e0')\"\n",
              "              title=\"Convert this dataframe to an interactive table.\"\n",
              "              style=\"display:none;\">\n",
              "        \n",
              "  <svg xmlns=\"http://www.w3.org/2000/svg\" height=\"24px\"viewBox=\"0 0 24 24\"\n",
              "       width=\"24px\">\n",
              "    <path d=\"M0 0h24v24H0V0z\" fill=\"none\"/>\n",
              "    <path d=\"M18.56 5.44l.94 2.06.94-2.06 2.06-.94-2.06-.94-.94-2.06-.94 2.06-2.06.94zm-11 1L8.5 8.5l.94-2.06 2.06-.94-2.06-.94L8.5 2.5l-.94 2.06-2.06.94zm10 10l.94 2.06.94-2.06 2.06-.94-2.06-.94-.94-2.06-.94 2.06-2.06.94z\"/><path d=\"M17.41 7.96l-1.37-1.37c-.4-.4-.92-.59-1.43-.59-.52 0-1.04.2-1.43.59L10.3 9.45l-7.72 7.72c-.78.78-.78 2.05 0 2.83L4 21.41c.39.39.9.59 1.41.59.51 0 1.02-.2 1.41-.59l7.78-7.78 2.81-2.81c.8-.78.8-2.07 0-2.86zM5.41 20L4 18.59l7.72-7.72 1.47 1.35L5.41 20z\"/>\n",
              "  </svg>\n",
              "      </button>\n",
              "      \n",
              "  <style>\n",
              "    .colab-df-container {\n",
              "      display:flex;\n",
              "      flex-wrap:wrap;\n",
              "      gap: 12px;\n",
              "    }\n",
              "\n",
              "    .colab-df-convert {\n",
              "      background-color: #E8F0FE;\n",
              "      border: none;\n",
              "      border-radius: 50%;\n",
              "      cursor: pointer;\n",
              "      display: none;\n",
              "      fill: #1967D2;\n",
              "      height: 32px;\n",
              "      padding: 0 0 0 0;\n",
              "      width: 32px;\n",
              "    }\n",
              "\n",
              "    .colab-df-convert:hover {\n",
              "      background-color: #E2EBFA;\n",
              "      box-shadow: 0px 1px 2px rgba(60, 64, 67, 0.3), 0px 1px 3px 1px rgba(60, 64, 67, 0.15);\n",
              "      fill: #174EA6;\n",
              "    }\n",
              "\n",
              "    [theme=dark] .colab-df-convert {\n",
              "      background-color: #3B4455;\n",
              "      fill: #D2E3FC;\n",
              "    }\n",
              "\n",
              "    [theme=dark] .colab-df-convert:hover {\n",
              "      background-color: #434B5C;\n",
              "      box-shadow: 0px 1px 3px 1px rgba(0, 0, 0, 0.15);\n",
              "      filter: drop-shadow(0px 1px 2px rgba(0, 0, 0, 0.3));\n",
              "      fill: #FFFFFF;\n",
              "    }\n",
              "  </style>\n",
              "\n",
              "      <script>\n",
              "        const buttonEl =\n",
              "          document.querySelector('#df-270f024d-755a-4ed0-939d-a7e40d0998e0 button.colab-df-convert');\n",
              "        buttonEl.style.display =\n",
              "          google.colab.kernel.accessAllowed ? 'block' : 'none';\n",
              "\n",
              "        async function convertToInteractive(key) {\n",
              "          const element = document.querySelector('#df-270f024d-755a-4ed0-939d-a7e40d0998e0');\n",
              "          const dataTable =\n",
              "            await google.colab.kernel.invokeFunction('convertToInteractive',\n",
              "                                                     [key], {});\n",
              "          if (!dataTable) return;\n",
              "\n",
              "          const docLinkHtml = 'Like what you see? Visit the ' +\n",
              "            '<a target=\"_blank\" href=https://colab.research.google.com/notebooks/data_table.ipynb>data table notebook</a>'\n",
              "            + ' to learn more about interactive tables.';\n",
              "          element.innerHTML = '';\n",
              "          dataTable['output_type'] = 'display_data';\n",
              "          await google.colab.output.renderOutput(dataTable, element);\n",
              "          const docLink = document.createElement('div');\n",
              "          docLink.innerHTML = docLinkHtml;\n",
              "          element.appendChild(docLink);\n",
              "        }\n",
              "      </script>\n",
              "    </div>\n",
              "  </div>\n",
              "  "
            ],
            "text/plain": [
              "  f1(x) f2(x) F12(A) F12_dist f3(x) F123(A)  F123_dist\n",
              "0     0     0      0   [0, 0]     0       0  [0, 0, 0]\n",
              "1  0.28  0.25   0.28   [1, 0]  0.15    0.28  [1, 0, 0]\n",
              "2  0.45  0.41   0.53   [1, 1]  0.25    0.53  [1, 1, 0]\n",
              "3  0.65  0.55    0.7   [2, 1]   0.4     0.7  [2, 1, 0]\n",
              "4  0.78  0.65    0.9   [3, 1]   0.5     0.9  [3, 1, 0]\n",
              "5   0.9  0.75   1.06   [3, 2]  0.62    1.06  [3, 2, 0]\n",
              "6  1.02   0.8    1.2   [3, 3]  0.73    1.21  [3, 2, 1]\n",
              "7  1.13  0.85   1.33   [4, 3]  0.82    1.35  [3, 3, 1]\n",
              "8  1.23  0.88   1.45   [5, 3]   0.9    1.48  [4, 3, 1]\n",
              "9  1.32   0.9   1.57   [6, 3]  0.96     1.6  [5, 3, 1]"
            ]
          },
          "metadata": {},
          "execution_count": 90
        }
      ]
    },
    {
      "cell_type": "code",
      "source": [
        ""
      ],
      "metadata": {
        "id": "3PqUGpr9qe8_"
      },
      "execution_count": null,
      "outputs": []
    }
  ]
}