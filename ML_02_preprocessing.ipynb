{
 "cells": [
  {
   "cell_type": "markdown",
   "metadata": {
    "id": "2bNjOQxbAjYC"
   },
   "source": [
    "# Обработка пропусков"
   ]
  },
  {
   "cell_type": "code",
   "execution_count": null,
   "metadata": {
    "id": "HgVNg9QGAjYE"
   },
   "outputs": [],
   "source": [
    "import pandas as pd\n",
    "import numpy as np"
   ]
  },
  {
   "cell_type": "markdown",
   "metadata": {
    "id": "0IKg4ABeAjYF"
   },
   "source": [
    "Создадим и выведем небольшой набор тестовых данных."
   ]
  },
  {
   "cell_type": "code",
   "execution_count": null,
   "metadata": {
    "id": "vGoDsgrFAjYF"
   },
   "outputs": [],
   "source": [
    "test_data = pd.DataFrame([[1, 2, np.nan], [3, np.nan, 4], \n",
    "                          [0, 1, 2]], columns=['one', 'two', 'three'])"
   ]
  },
  {
   "cell_type": "code",
   "execution_count": null,
   "metadata": {
    "id": "dFCLdAD-AjYG",
    "outputId": "0ccc9b5b-3c04-4c2e-9d79-32a8dfcae706"
   },
   "outputs": [
    {
     "data": {
      "text/html": [
       "<div>\n",
       "<style scoped>\n",
       "    .dataframe tbody tr th:only-of-type {\n",
       "        vertical-align: middle;\n",
       "    }\n",
       "\n",
       "    .dataframe tbody tr th {\n",
       "        vertical-align: top;\n",
       "    }\n",
       "\n",
       "    .dataframe thead th {\n",
       "        text-align: right;\n",
       "    }\n",
       "</style>\n",
       "<table border=\"1\" class=\"dataframe\">\n",
       "  <thead>\n",
       "    <tr style=\"text-align: right;\">\n",
       "      <th></th>\n",
       "      <th>one</th>\n",
       "      <th>two</th>\n",
       "      <th>three</th>\n",
       "    </tr>\n",
       "  </thead>\n",
       "  <tbody>\n",
       "    <tr>\n",
       "      <th>0</th>\n",
       "      <td>1</td>\n",
       "      <td>2.0</td>\n",
       "      <td>NaN</td>\n",
       "    </tr>\n",
       "    <tr>\n",
       "      <th>1</th>\n",
       "      <td>3</td>\n",
       "      <td>NaN</td>\n",
       "      <td>4.0</td>\n",
       "    </tr>\n",
       "    <tr>\n",
       "      <th>2</th>\n",
       "      <td>0</td>\n",
       "      <td>1.0</td>\n",
       "      <td>2.0</td>\n",
       "    </tr>\n",
       "  </tbody>\n",
       "</table>\n",
       "</div>"
      ],
      "text/plain": [
       "   one  two  three\n",
       "0    1  2.0    NaN\n",
       "1    3  NaN    4.0\n",
       "2    0  1.0    2.0"
      ]
     },
     "execution_count": 3,
     "metadata": {},
     "output_type": "execute_result"
    }
   ],
   "source": [
    "test_data"
   ]
  },
  {
   "cell_type": "markdown",
   "metadata": {
    "id": "a0m4T4qFAjYH"
   },
   "source": [
    "## Поиск пропусков\n",
    "\n",
    "В данных часто бывают пропуски. В Pandas их можно находить с помощью метода `.isna()`:"
   ]
  },
  {
   "cell_type": "code",
   "execution_count": null,
   "metadata": {
    "id": "U5sK3pVeAjYH",
    "outputId": "03a5186a-e6ac-4fe7-fd9f-ed6a594b0e09"
   },
   "outputs": [
    {
     "data": {
      "text/html": [
       "<div>\n",
       "<style scoped>\n",
       "    .dataframe tbody tr th:only-of-type {\n",
       "        vertical-align: middle;\n",
       "    }\n",
       "\n",
       "    .dataframe tbody tr th {\n",
       "        vertical-align: top;\n",
       "    }\n",
       "\n",
       "    .dataframe thead th {\n",
       "        text-align: right;\n",
       "    }\n",
       "</style>\n",
       "<table border=\"1\" class=\"dataframe\">\n",
       "  <thead>\n",
       "    <tr style=\"text-align: right;\">\n",
       "      <th></th>\n",
       "      <th>one</th>\n",
       "      <th>two</th>\n",
       "      <th>three</th>\n",
       "    </tr>\n",
       "  </thead>\n",
       "  <tbody>\n",
       "    <tr>\n",
       "      <th>0</th>\n",
       "      <td>False</td>\n",
       "      <td>False</td>\n",
       "      <td>True</td>\n",
       "    </tr>\n",
       "    <tr>\n",
       "      <th>1</th>\n",
       "      <td>False</td>\n",
       "      <td>True</td>\n",
       "      <td>False</td>\n",
       "    </tr>\n",
       "    <tr>\n",
       "      <th>2</th>\n",
       "      <td>False</td>\n",
       "      <td>False</td>\n",
       "      <td>False</td>\n",
       "    </tr>\n",
       "  </tbody>\n",
       "</table>\n",
       "</div>"
      ],
      "text/plain": [
       "     one    two  three\n",
       "0  False  False   True\n",
       "1  False   True  False\n",
       "2  False  False  False"
      ]
     },
     "execution_count": 4,
     "metadata": {},
     "output_type": "execute_result"
    }
   ],
   "source": [
    "test_data.isna()"
   ]
  },
  {
   "cell_type": "markdown",
   "metadata": {
    "id": "1NY9m99aAjYI"
   },
   "source": [
    "Можно находить пропуски в пределах одного признака (столбца):"
   ]
  },
  {
   "cell_type": "code",
   "execution_count": null,
   "metadata": {
    "id": "0fMZ8L8JAjYI",
    "outputId": "33e91085-7a12-4687-bafd-730a0f37e9a7"
   },
   "outputs": [
    {
     "data": {
      "text/plain": [
       "0    False\n",
       "1     True\n",
       "2    False\n",
       "Name: two, dtype: bool"
      ]
     },
     "execution_count": 5,
     "metadata": {},
     "output_type": "execute_result"
    }
   ],
   "source": [
    "test_data['two'].isna()"
   ]
  },
  {
   "cell_type": "markdown",
   "metadata": {
    "id": "_KLVKrYXAjYI"
   },
   "source": [
    "## Удаление столбцов/строк с пропусками"
   ]
  },
  {
   "cell_type": "markdown",
   "metadata": {
    "id": "R-qDr-TIAjYJ"
   },
   "source": [
    "С помощью метода `.dropna()` можно удалять столбцы/строки с пропусками, указывая ось с помощью параметра `axis`.  \n",
    "Если нужно удалить строки, в которых встречается пропуск (NaN), `axis=0`:"
   ]
  },
  {
   "cell_type": "code",
   "execution_count": null,
   "metadata": {
    "id": "l9BRPglsAjYJ",
    "outputId": "0d5bf182-32eb-4e85-bbfc-1257834b4ec8"
   },
   "outputs": [
    {
     "data": {
      "text/html": [
       "<div>\n",
       "<style scoped>\n",
       "    .dataframe tbody tr th:only-of-type {\n",
       "        vertical-align: middle;\n",
       "    }\n",
       "\n",
       "    .dataframe tbody tr th {\n",
       "        vertical-align: top;\n",
       "    }\n",
       "\n",
       "    .dataframe thead th {\n",
       "        text-align: right;\n",
       "    }\n",
       "</style>\n",
       "<table border=\"1\" class=\"dataframe\">\n",
       "  <thead>\n",
       "    <tr style=\"text-align: right;\">\n",
       "      <th></th>\n",
       "      <th>one</th>\n",
       "      <th>two</th>\n",
       "      <th>three</th>\n",
       "    </tr>\n",
       "  </thead>\n",
       "  <tbody>\n",
       "    <tr>\n",
       "      <th>0</th>\n",
       "      <td>1</td>\n",
       "      <td>2.0</td>\n",
       "      <td>NaN</td>\n",
       "    </tr>\n",
       "    <tr>\n",
       "      <th>1</th>\n",
       "      <td>3</td>\n",
       "      <td>NaN</td>\n",
       "      <td>4.0</td>\n",
       "    </tr>\n",
       "    <tr>\n",
       "      <th>2</th>\n",
       "      <td>0</td>\n",
       "      <td>1.0</td>\n",
       "      <td>2.0</td>\n",
       "    </tr>\n",
       "  </tbody>\n",
       "</table>\n",
       "</div>"
      ],
      "text/plain": [
       "   one  two  three\n",
       "0    1  2.0    NaN\n",
       "1    3  NaN    4.0\n",
       "2    0  1.0    2.0"
      ]
     },
     "execution_count": 7,
     "metadata": {},
     "output_type": "execute_result"
    }
   ],
   "source": [
    "test_data"
   ]
  },
  {
   "cell_type": "code",
   "execution_count": null,
   "metadata": {
    "id": "3wu_vcyUAjYJ",
    "outputId": "43fe3cb5-cb09-4f23-de34-679780f08966"
   },
   "outputs": [
    {
     "data": {
      "text/html": [
       "<div>\n",
       "<style scoped>\n",
       "    .dataframe tbody tr th:only-of-type {\n",
       "        vertical-align: middle;\n",
       "    }\n",
       "\n",
       "    .dataframe tbody tr th {\n",
       "        vertical-align: top;\n",
       "    }\n",
       "\n",
       "    .dataframe thead th {\n",
       "        text-align: right;\n",
       "    }\n",
       "</style>\n",
       "<table border=\"1\" class=\"dataframe\">\n",
       "  <thead>\n",
       "    <tr style=\"text-align: right;\">\n",
       "      <th></th>\n",
       "      <th>one</th>\n",
       "      <th>two</th>\n",
       "      <th>three</th>\n",
       "    </tr>\n",
       "  </thead>\n",
       "  <tbody>\n",
       "    <tr>\n",
       "      <th>2</th>\n",
       "      <td>0</td>\n",
       "      <td>1.0</td>\n",
       "      <td>2.0</td>\n",
       "    </tr>\n",
       "  </tbody>\n",
       "</table>\n",
       "</div>"
      ],
      "text/plain": [
       "   one  two  three\n",
       "2    0  1.0    2.0"
      ]
     },
     "execution_count": 6,
     "metadata": {},
     "output_type": "execute_result"
    }
   ],
   "source": [
    "test_data.dropna(axis=0)"
   ]
  },
  {
   "cell_type": "markdown",
   "metadata": {
    "id": "yWhIIRzTAjYJ"
   },
   "source": [
    "Если нужно удалить столбцы, в которых встречается пропуск (NaN), `axis=1`:"
   ]
  },
  {
   "cell_type": "code",
   "execution_count": null,
   "metadata": {
    "id": "thmiuaZ4AjYK",
    "outputId": "44694193-82a6-49a5-8ce8-d036cbf87320"
   },
   "outputs": [
    {
     "data": {
      "text/html": [
       "<div>\n",
       "<style scoped>\n",
       "    .dataframe tbody tr th:only-of-type {\n",
       "        vertical-align: middle;\n",
       "    }\n",
       "\n",
       "    .dataframe tbody tr th {\n",
       "        vertical-align: top;\n",
       "    }\n",
       "\n",
       "    .dataframe thead th {\n",
       "        text-align: right;\n",
       "    }\n",
       "</style>\n",
       "<table border=\"1\" class=\"dataframe\">\n",
       "  <thead>\n",
       "    <tr style=\"text-align: right;\">\n",
       "      <th></th>\n",
       "      <th>one</th>\n",
       "    </tr>\n",
       "  </thead>\n",
       "  <tbody>\n",
       "    <tr>\n",
       "      <th>0</th>\n",
       "      <td>1</td>\n",
       "    </tr>\n",
       "    <tr>\n",
       "      <th>1</th>\n",
       "      <td>3</td>\n",
       "    </tr>\n",
       "    <tr>\n",
       "      <th>2</th>\n",
       "      <td>0</td>\n",
       "    </tr>\n",
       "  </tbody>\n",
       "</table>\n",
       "</div>"
      ],
      "text/plain": [
       "   one\n",
       "0    1\n",
       "1    3\n",
       "2    0"
      ]
     },
     "execution_count": 8,
     "metadata": {},
     "output_type": "execute_result"
    }
   ],
   "source": [
    "test_data.dropna(axis=1)"
   ]
  },
  {
   "cell_type": "markdown",
   "metadata": {
    "id": "Grl1psrXAjYK"
   },
   "source": [
    "По умолчанию, параметр `axis` равен 0:"
   ]
  },
  {
   "cell_type": "code",
   "execution_count": null,
   "metadata": {
    "id": "ZmBv9FsiAjYK",
    "outputId": "4858044b-4924-468f-a38b-2a3317be966d"
   },
   "outputs": [
    {
     "data": {
      "text/html": [
       "<div>\n",
       "<style scoped>\n",
       "    .dataframe tbody tr th:only-of-type {\n",
       "        vertical-align: middle;\n",
       "    }\n",
       "\n",
       "    .dataframe tbody tr th {\n",
       "        vertical-align: top;\n",
       "    }\n",
       "\n",
       "    .dataframe thead th {\n",
       "        text-align: right;\n",
       "    }\n",
       "</style>\n",
       "<table border=\"1\" class=\"dataframe\">\n",
       "  <thead>\n",
       "    <tr style=\"text-align: right;\">\n",
       "      <th></th>\n",
       "      <th>one</th>\n",
       "      <th>two</th>\n",
       "      <th>three</th>\n",
       "    </tr>\n",
       "  </thead>\n",
       "  <tbody>\n",
       "    <tr>\n",
       "      <th>2</th>\n",
       "      <td>0</td>\n",
       "      <td>1.0</td>\n",
       "      <td>2.0</td>\n",
       "    </tr>\n",
       "  </tbody>\n",
       "</table>\n",
       "</div>"
      ],
      "text/plain": [
       "   one  two  three\n",
       "2    0  1.0    2.0"
      ]
     },
     "execution_count": 9,
     "metadata": {},
     "output_type": "execute_result"
    }
   ],
   "source": [
    "test_data.dropna()"
   ]
  },
  {
   "cell_type": "markdown",
   "metadata": {
    "id": "bklEL1s8AjYL"
   },
   "source": [
    "Если нужно удалить пропуски только для определенных столбцов (или строк, при указании другого значения параметра `axis`), нужно передать список индексов (номеров строк или названий столбцов) столбцов (или строк) в параметр `subset`:"
   ]
  },
  {
   "cell_type": "code",
   "execution_count": null,
   "metadata": {
    "id": "6DEnH2SYAjYL",
    "outputId": "810e0bce-a480-46b1-e926-8476574ae5ea"
   },
   "outputs": [
    {
     "data": {
      "text/html": [
       "<div>\n",
       "<style scoped>\n",
       "    .dataframe tbody tr th:only-of-type {\n",
       "        vertical-align: middle;\n",
       "    }\n",
       "\n",
       "    .dataframe tbody tr th {\n",
       "        vertical-align: top;\n",
       "    }\n",
       "\n",
       "    .dataframe thead th {\n",
       "        text-align: right;\n",
       "    }\n",
       "</style>\n",
       "<table border=\"1\" class=\"dataframe\">\n",
       "  <thead>\n",
       "    <tr style=\"text-align: right;\">\n",
       "      <th></th>\n",
       "      <th>one</th>\n",
       "      <th>two</th>\n",
       "      <th>three</th>\n",
       "    </tr>\n",
       "  </thead>\n",
       "  <tbody>\n",
       "    <tr>\n",
       "      <th>0</th>\n",
       "      <td>1</td>\n",
       "      <td>2.0</td>\n",
       "      <td>NaN</td>\n",
       "    </tr>\n",
       "    <tr>\n",
       "      <th>1</th>\n",
       "      <td>3</td>\n",
       "      <td>NaN</td>\n",
       "      <td>4.0</td>\n",
       "    </tr>\n",
       "    <tr>\n",
       "      <th>2</th>\n",
       "      <td>0</td>\n",
       "      <td>1.0</td>\n",
       "      <td>2.0</td>\n",
       "    </tr>\n",
       "  </tbody>\n",
       "</table>\n",
       "</div>"
      ],
      "text/plain": [
       "   one  two  three\n",
       "0    1  2.0    NaN\n",
       "1    3  NaN    4.0\n",
       "2    0  1.0    2.0"
      ]
     },
     "execution_count": 10,
     "metadata": {},
     "output_type": "execute_result"
    }
   ],
   "source": [
    "test_data"
   ]
  },
  {
   "cell_type": "code",
   "execution_count": null,
   "metadata": {
    "id": "RN3CLz15AjYL",
    "outputId": "d7a6f6b2-d17a-45a8-8434-95d757cbfd4c"
   },
   "outputs": [
    {
     "data": {
      "text/html": [
       "<div>\n",
       "<style scoped>\n",
       "    .dataframe tbody tr th:only-of-type {\n",
       "        vertical-align: middle;\n",
       "    }\n",
       "\n",
       "    .dataframe tbody tr th {\n",
       "        vertical-align: top;\n",
       "    }\n",
       "\n",
       "    .dataframe thead th {\n",
       "        text-align: right;\n",
       "    }\n",
       "</style>\n",
       "<table border=\"1\" class=\"dataframe\">\n",
       "  <thead>\n",
       "    <tr style=\"text-align: right;\">\n",
       "      <th></th>\n",
       "      <th>one</th>\n",
       "      <th>two</th>\n",
       "    </tr>\n",
       "  </thead>\n",
       "  <tbody>\n",
       "    <tr>\n",
       "      <th>0</th>\n",
       "      <td>1</td>\n",
       "      <td>2.0</td>\n",
       "    </tr>\n",
       "    <tr>\n",
       "      <th>1</th>\n",
       "      <td>3</td>\n",
       "      <td>NaN</td>\n",
       "    </tr>\n",
       "    <tr>\n",
       "      <th>2</th>\n",
       "      <td>0</td>\n",
       "      <td>1.0</td>\n",
       "    </tr>\n",
       "  </tbody>\n",
       "</table>\n",
       "</div>"
      ],
      "text/plain": [
       "   one  two\n",
       "0    1  2.0\n",
       "1    3  NaN\n",
       "2    0  1.0"
      ]
     },
     "execution_count": 11,
     "metadata": {},
     "output_type": "execute_result"
    }
   ],
   "source": [
    "test_data.dropna(subset=[0], axis=1)"
   ]
  },
  {
   "cell_type": "code",
   "execution_count": null,
   "metadata": {
    "id": "5Jj7YrgWAjYM",
    "outputId": "b4f50bb4-66d9-47d3-db13-b38aaa779eb0"
   },
   "outputs": [
    {
     "data": {
      "text/html": [
       "<div>\n",
       "<style scoped>\n",
       "    .dataframe tbody tr th:only-of-type {\n",
       "        vertical-align: middle;\n",
       "    }\n",
       "\n",
       "    .dataframe tbody tr th {\n",
       "        vertical-align: top;\n",
       "    }\n",
       "\n",
       "    .dataframe thead th {\n",
       "        text-align: right;\n",
       "    }\n",
       "</style>\n",
       "<table border=\"1\" class=\"dataframe\">\n",
       "  <thead>\n",
       "    <tr style=\"text-align: right;\">\n",
       "      <th></th>\n",
       "      <th>one</th>\n",
       "      <th>two</th>\n",
       "      <th>three</th>\n",
       "    </tr>\n",
       "  </thead>\n",
       "  <tbody>\n",
       "    <tr>\n",
       "      <th>0</th>\n",
       "      <td>1</td>\n",
       "      <td>2.0</td>\n",
       "      <td>NaN</td>\n",
       "    </tr>\n",
       "    <tr>\n",
       "      <th>2</th>\n",
       "      <td>0</td>\n",
       "      <td>1.0</td>\n",
       "      <td>2.0</td>\n",
       "    </tr>\n",
       "  </tbody>\n",
       "</table>\n",
       "</div>"
      ],
      "text/plain": [
       "   one  two  three\n",
       "0    1  2.0    NaN\n",
       "2    0  1.0    2.0"
      ]
     },
     "execution_count": 12,
     "metadata": {},
     "output_type": "execute_result"
    }
   ],
   "source": [
    "test_data.dropna(subset=['two'], axis=0)"
   ]
  },
  {
   "cell_type": "markdown",
   "metadata": {
    "id": "kskTfpQUAjYM"
   },
   "source": [
    "## Заполнение статистиками\n",
    "\n",
    "Иногда удаление строк/столбцов с пропусками - слишком грубое решение. Можно заменять пропуски статистиками или каким-то константным значением с помощью метода `fillna()`:"
   ]
  },
  {
   "cell_type": "code",
   "execution_count": null,
   "metadata": {
    "id": "UEcX85TxAjYN",
    "outputId": "6f8d9099-f78e-464a-dc08-1530440a600d"
   },
   "outputs": [
    {
     "data": {
      "text/html": [
       "<div>\n",
       "<style scoped>\n",
       "    .dataframe tbody tr th:only-of-type {\n",
       "        vertical-align: middle;\n",
       "    }\n",
       "\n",
       "    .dataframe tbody tr th {\n",
       "        vertical-align: top;\n",
       "    }\n",
       "\n",
       "    .dataframe thead th {\n",
       "        text-align: right;\n",
       "    }\n",
       "</style>\n",
       "<table border=\"1\" class=\"dataframe\">\n",
       "  <thead>\n",
       "    <tr style=\"text-align: right;\">\n",
       "      <th></th>\n",
       "      <th>one</th>\n",
       "      <th>two</th>\n",
       "      <th>three</th>\n",
       "    </tr>\n",
       "  </thead>\n",
       "  <tbody>\n",
       "    <tr>\n",
       "      <th>0</th>\n",
       "      <td>1</td>\n",
       "      <td>2.0</td>\n",
       "      <td>-1.0</td>\n",
       "    </tr>\n",
       "    <tr>\n",
       "      <th>1</th>\n",
       "      <td>3</td>\n",
       "      <td>-1.0</td>\n",
       "      <td>4.0</td>\n",
       "    </tr>\n",
       "    <tr>\n",
       "      <th>2</th>\n",
       "      <td>0</td>\n",
       "      <td>1.0</td>\n",
       "      <td>2.0</td>\n",
       "    </tr>\n",
       "  </tbody>\n",
       "</table>\n",
       "</div>"
      ],
      "text/plain": [
       "   one  two  three\n",
       "0    1  2.0   -1.0\n",
       "1    3 -1.0    4.0\n",
       "2    0  1.0    2.0"
      ]
     },
     "execution_count": 13,
     "metadata": {},
     "output_type": "execute_result"
    }
   ],
   "source": [
    "# По умолчанию заменяет все пропуски\n",
    "test_data.fillna(-1)"
   ]
  },
  {
   "cell_type": "markdown",
   "metadata": {
    "id": "F3zPTrhiAjYN"
   },
   "source": [
    "Можно заменять разными статистиками, например:\n",
    " - среднее значение, `np.mean()`\n",
    " - максимальное значение, `np.max()`\n",
    " - минимальное значение, `np.min()`\n",
    " - медиана, `np.median()`\n"
   ]
  },
  {
   "cell_type": "code",
   "execution_count": null,
   "metadata": {
    "id": "OdV8eSGKAjYN",
    "outputId": "8d8a7b2f-7d2f-4f33-886a-803efd553883"
   },
   "outputs": [
    {
     "data": {
      "text/plain": [
       "0    2.0\n",
       "1    2.0\n",
       "2    1.0\n",
       "Name: two, dtype: float64"
      ]
     },
     "execution_count": 14,
     "metadata": {},
     "output_type": "execute_result"
    }
   ],
   "source": [
    "max_two = np.max(test_data['two'])\n",
    "test_data['two'].fillna(max_two)"
   ]
  },
  {
   "cell_type": "markdown",
   "metadata": {
    "id": "jlaX0HGTAjYN"
   },
   "source": [
    "Методы типа `np.mean()` можно вызывать у самих столбцов с помощью `column.mean()`:"
   ]
  },
  {
   "cell_type": "code",
   "execution_count": null,
   "metadata": {
    "id": "WgkCHfqIAjYO",
    "outputId": "2a3697b4-0727-4f5d-fb71-bbe807ed331d"
   },
   "outputs": [
    {
     "data": {
      "text/plain": [
       "0    3.0\n",
       "1    4.0\n",
       "2    2.0\n",
       "Name: three, dtype: float64"
      ]
     },
     "execution_count": 16,
     "metadata": {},
     "output_type": "execute_result"
    }
   ],
   "source": [
    "test_data['three'].fillna(test_data['three'].mean())"
   ]
  },
  {
   "cell_type": "code",
   "execution_count": 2,
   "metadata": {
    "colab": {
     "base_uri": "https://localhost:8080/",
     "height": 371
    },
    "id": "YWOkDQ1qktEb",
    "outputId": "bdff39f9-5501-45f3-e7fe-12069ca810e8"
   },
   "outputs": [
    {
     "data": {
      "text/html": [
       "<div>\n",
       "<style scoped>\n",
       "    .dataframe tbody tr th:only-of-type {\n",
       "        vertical-align: middle;\n",
       "    }\n",
       "\n",
       "    .dataframe tbody tr th {\n",
       "        vertical-align: top;\n",
       "    }\n",
       "\n",
       "    .dataframe thead th {\n",
       "        text-align: right;\n",
       "    }\n",
       "</style>\n",
       "<table border=\"1\" class=\"dataframe\">\n",
       "  <thead>\n",
       "    <tr style=\"text-align: right;\">\n",
       "      <th></th>\n",
       "      <th>ticket_id</th>\n",
       "      <th>agency_name</th>\n",
       "      <th>inspector_name</th>\n",
       "      <th>violator_name</th>\n",
       "      <th>violation_street_number</th>\n",
       "      <th>violation_street_name</th>\n",
       "      <th>violation_zip_code</th>\n",
       "      <th>mailing_address_str_number</th>\n",
       "      <th>mailing_address_str_name</th>\n",
       "      <th>city</th>\n",
       "      <th>state</th>\n",
       "      <th>zip_code</th>\n",
       "      <th>non_us_str_code</th>\n",
       "      <th>country</th>\n",
       "      <th>ticket_issued_date</th>\n",
       "      <th>hearing_date</th>\n",
       "      <th>violation_code</th>\n",
       "      <th>violation_description</th>\n",
       "      <th>disposition</th>\n",
       "      <th>fine_amount</th>\n",
       "      <th>admin_fee</th>\n",
       "      <th>state_fee</th>\n",
       "      <th>late_fee</th>\n",
       "      <th>discount_amount</th>\n",
       "      <th>clean_up_cost</th>\n",
       "      <th>judgment_amount</th>\n",
       "      <th>payment_amount</th>\n",
       "      <th>balance_due</th>\n",
       "      <th>payment_date</th>\n",
       "      <th>payment_status</th>\n",
       "      <th>collection_status</th>\n",
       "      <th>grafitti_status</th>\n",
       "      <th>compliance_detail</th>\n",
       "      <th>compliance</th>\n",
       "    </tr>\n",
       "  </thead>\n",
       "  <tbody>\n",
       "    <tr>\n",
       "      <th>0</th>\n",
       "      <td>22056</td>\n",
       "      <td>Buildings, Safety Engineering &amp; Env Department</td>\n",
       "      <td>Sims, Martinzie</td>\n",
       "      <td>INVESTMENT INC., MIDWEST MORTGAGE</td>\n",
       "      <td>2900.0</td>\n",
       "      <td>TYLER</td>\n",
       "      <td>NaN</td>\n",
       "      <td>3.0</td>\n",
       "      <td>S. WICKER</td>\n",
       "      <td>CHICAGO</td>\n",
       "      <td>IL</td>\n",
       "      <td>60606</td>\n",
       "      <td>NaN</td>\n",
       "      <td>USA</td>\n",
       "      <td>2004-03-16 11:40:00</td>\n",
       "      <td>2005-03-21 10:30:00</td>\n",
       "      <td>9-1-36(a)</td>\n",
       "      <td>Failure of owner to obtain certificate of comp...</td>\n",
       "      <td>Responsible by Default</td>\n",
       "      <td>250.0</td>\n",
       "      <td>20.0</td>\n",
       "      <td>10.0</td>\n",
       "      <td>25.0</td>\n",
       "      <td>0.0</td>\n",
       "      <td>0.0</td>\n",
       "      <td>305.0</td>\n",
       "      <td>0.0</td>\n",
       "      <td>305.0</td>\n",
       "      <td>NaN</td>\n",
       "      <td>NO PAYMENT APPLIED</td>\n",
       "      <td>NaN</td>\n",
       "      <td>NaN</td>\n",
       "      <td>non-compliant by no payment</td>\n",
       "      <td>0.0</td>\n",
       "    </tr>\n",
       "    <tr>\n",
       "      <th>1</th>\n",
       "      <td>27586</td>\n",
       "      <td>Buildings, Safety Engineering &amp; Env Department</td>\n",
       "      <td>Williams, Darrin</td>\n",
       "      <td>Michigan, Covenant House</td>\n",
       "      <td>4311.0</td>\n",
       "      <td>CENTRAL</td>\n",
       "      <td>NaN</td>\n",
       "      <td>2959.0</td>\n",
       "      <td>Martin Luther King</td>\n",
       "      <td>Detroit</td>\n",
       "      <td>MI</td>\n",
       "      <td>48208</td>\n",
       "      <td>NaN</td>\n",
       "      <td>USA</td>\n",
       "      <td>2004-04-23 12:30:00</td>\n",
       "      <td>2005-05-06 13:30:00</td>\n",
       "      <td>61-63.0600</td>\n",
       "      <td>Failed To Secure Permit For Lawful Use Of Buil...</td>\n",
       "      <td>Responsible by Determination</td>\n",
       "      <td>750.0</td>\n",
       "      <td>20.0</td>\n",
       "      <td>10.0</td>\n",
       "      <td>75.0</td>\n",
       "      <td>0.0</td>\n",
       "      <td>0.0</td>\n",
       "      <td>855.0</td>\n",
       "      <td>780.0</td>\n",
       "      <td>75.0</td>\n",
       "      <td>2005-06-02 00:00:00</td>\n",
       "      <td>PAID IN FULL</td>\n",
       "      <td>NaN</td>\n",
       "      <td>NaN</td>\n",
       "      <td>compliant by late payment within 1 month</td>\n",
       "      <td>1.0</td>\n",
       "    </tr>\n",
       "    <tr>\n",
       "      <th>2</th>\n",
       "      <td>22062</td>\n",
       "      <td>Buildings, Safety Engineering &amp; Env Department</td>\n",
       "      <td>Sims, Martinzie</td>\n",
       "      <td>SANDERS, DERRON</td>\n",
       "      <td>1449.0</td>\n",
       "      <td>LONGFELLOW</td>\n",
       "      <td>NaN</td>\n",
       "      <td>23658.0</td>\n",
       "      <td>P.O. BOX</td>\n",
       "      <td>DETROIT</td>\n",
       "      <td>MI</td>\n",
       "      <td>48223</td>\n",
       "      <td>NaN</td>\n",
       "      <td>USA</td>\n",
       "      <td>2004-04-26 13:40:00</td>\n",
       "      <td>2005-03-29 10:30:00</td>\n",
       "      <td>9-1-36(a)</td>\n",
       "      <td>Failure of owner to obtain certificate of comp...</td>\n",
       "      <td>Not responsible by Dismissal</td>\n",
       "      <td>250.0</td>\n",
       "      <td>0.0</td>\n",
       "      <td>0.0</td>\n",
       "      <td>0.0</td>\n",
       "      <td>0.0</td>\n",
       "      <td>0.0</td>\n",
       "      <td>0.0</td>\n",
       "      <td>0.0</td>\n",
       "      <td>0.0</td>\n",
       "      <td>NaN</td>\n",
       "      <td>NO PAYMENT APPLIED</td>\n",
       "      <td>NaN</td>\n",
       "      <td>NaN</td>\n",
       "      <td>not responsible by disposition</td>\n",
       "      <td>NaN</td>\n",
       "    </tr>\n",
       "  </tbody>\n",
       "</table>\n",
       "</div>"
      ],
      "text/plain": [
       "   ticket_id  ... compliance\n",
       "0      22056  ...        0.0\n",
       "1      27586  ...        1.0\n",
       "2      22062  ...        NaN\n",
       "\n",
       "[3 rows x 34 columns]"
      ]
     },
     "execution_count": 2,
     "metadata": {},
     "output_type": "execute_result"
    }
   ],
   "source": [
    "# Задание 6.6\n",
    "\n",
    "# Загрузите данные train.csv, найдите признак, обозначающий штат. Затем найдите значение, \n",
    "# которое встречается чаще всего. Замените пропуски этим значением и запишите получившийся \n",
    "# признак в переменную result.\n",
    "import pandas as pd\n",
    "\n",
    "vis_data = pd.read_csv(\"train.csv\", encoding = 'ISO-8859-1', low_memory = False)\n",
    "vis_data.head(3)"
   ]
  },
  {
   "cell_type": "code",
   "execution_count": 19,
   "metadata": {
    "colab": {
     "base_uri": "https://localhost:8080/"
    },
    "id": "CVMXInH0k4so",
    "outputId": "7feff4f2-d910-4e5f-ba7f-468368287a10"
   },
   "outputs": [
    {
     "data": {
      "text/plain": [
       "True"
      ]
     },
     "execution_count": 19,
     "metadata": {},
     "output_type": "execute_result"
    }
   ],
   "source": [
    "mx_val = vis_data['state'].value_counts().index[0]\n",
    "result = vis_data['state'].fillna(mx_val)\n",
    "\n",
    "(result == vis_data['state']).all()"
   ]
  },
  {
   "cell_type": "code",
   "execution_count": 51,
   "metadata": {
    "colab": {
     "base_uri": "https://localhost:8080/",
     "height": 243
    },
    "id": "LixoSgVAlXgj",
    "outputId": "4361badb-10d9-4fc6-c63e-5528cf701eb9"
   },
   "outputs": [
    {
     "data": {
      "text/html": [
       "<div>\n",
       "<style scoped>\n",
       "    .dataframe tbody tr th:only-of-type {\n",
       "        vertical-align: middle;\n",
       "    }\n",
       "\n",
       "    .dataframe tbody tr th {\n",
       "        vertical-align: top;\n",
       "    }\n",
       "\n",
       "    .dataframe thead th {\n",
       "        text-align: right;\n",
       "    }\n",
       "</style>\n",
       "<table border=\"1\" class=\"dataframe\">\n",
       "  <thead>\n",
       "    <tr style=\"text-align: right;\">\n",
       "      <th></th>\n",
       "      <th>id</th>\n",
       "      <th>full_sq</th>\n",
       "      <th>life_sq</th>\n",
       "      <th>floor</th>\n",
       "      <th>sub_area</th>\n",
       "      <th>preschool_quota</th>\n",
       "      <th>preschool_education_centers_raion</th>\n",
       "      <th>school_quota</th>\n",
       "      <th>school_education_centers_raion</th>\n",
       "      <th>school_education_centers_top_20_raion</th>\n",
       "      <th>hospital_beds_raion</th>\n",
       "      <th>healthcare_centers_raion</th>\n",
       "      <th>university_top_20_raion</th>\n",
       "      <th>sport_objects_raion</th>\n",
       "      <th>additional_education_raion</th>\n",
       "      <th>culture_objects_top_25_raion</th>\n",
       "      <th>shopping_centers_raion</th>\n",
       "      <th>office_raion</th>\n",
       "      <th>metro_min_avto</th>\n",
       "      <th>metro_km_avto</th>\n",
       "      <th>metro_min_walk</th>\n",
       "      <th>metro_km_walk</th>\n",
       "      <th>kindergarten_km</th>\n",
       "      <th>school_km</th>\n",
       "      <th>park_km</th>\n",
       "      <th>green_zone_km</th>\n",
       "      <th>industrial_km</th>\n",
       "      <th>railroad_station_walk_km</th>\n",
       "      <th>railroad_station_walk_min</th>\n",
       "      <th>public_transport_station_km</th>\n",
       "      <th>public_transport_station_min_walk</th>\n",
       "      <th>mkad_km</th>\n",
       "      <th>ttk_km</th>\n",
       "      <th>sadovoe_km</th>\n",
       "      <th>bulvar_ring_km</th>\n",
       "      <th>kremlin_km</th>\n",
       "      <th>big_market_km</th>\n",
       "      <th>market_shop_km</th>\n",
       "      <th>fitness_km</th>\n",
       "      <th>swim_pool_km</th>\n",
       "      <th>ice_rink_km</th>\n",
       "      <th>stadium_km</th>\n",
       "      <th>basketball_km</th>\n",
       "      <th>hospice_morgue_km</th>\n",
       "      <th>university_km</th>\n",
       "      <th>workplaces_km</th>\n",
       "      <th>shopping_centers_km</th>\n",
       "      <th>office_km</th>\n",
       "      <th>additional_education_km</th>\n",
       "      <th>preschool_km</th>\n",
       "      <th>big_church_km</th>\n",
       "      <th>church_synagogue_km</th>\n",
       "      <th>theater_km</th>\n",
       "      <th>museum_km</th>\n",
       "      <th>ecology</th>\n",
       "      <th>price_doc</th>\n",
       "    </tr>\n",
       "  </thead>\n",
       "  <tbody>\n",
       "    <tr>\n",
       "      <th>0</th>\n",
       "      <td>1</td>\n",
       "      <td>43</td>\n",
       "      <td>27.0</td>\n",
       "      <td>4.0</td>\n",
       "      <td>Bibirevo</td>\n",
       "      <td>5001.0</td>\n",
       "      <td>5</td>\n",
       "      <td>11065.0</td>\n",
       "      <td>5</td>\n",
       "      <td>0</td>\n",
       "      <td>240.0</td>\n",
       "      <td>1</td>\n",
       "      <td>0</td>\n",
       "      <td>7</td>\n",
       "      <td>3</td>\n",
       "      <td>0</td>\n",
       "      <td>16</td>\n",
       "      <td>1</td>\n",
       "      <td>2.590241</td>\n",
       "      <td>1.131260</td>\n",
       "      <td>13.575119</td>\n",
       "      <td>1.131260</td>\n",
       "      <td>0.145700</td>\n",
       "      <td>0.177975</td>\n",
       "      <td>2.158587</td>\n",
       "      <td>0.600973</td>\n",
       "      <td>1.080934</td>\n",
       "      <td>5.419893</td>\n",
       "      <td>65.038716</td>\n",
       "      <td>0.274985</td>\n",
       "      <td>3.299822</td>\n",
       "      <td>1.422391</td>\n",
       "      <td>10.918587</td>\n",
       "      <td>13.100618</td>\n",
       "      <td>13.675657</td>\n",
       "      <td>15.156211</td>\n",
       "      <td>10.814172</td>\n",
       "      <td>1.676258</td>\n",
       "      <td>0.485841</td>\n",
       "      <td>3.065047</td>\n",
       "      <td>1.107594</td>\n",
       "      <td>8.148591</td>\n",
       "      <td>3.516513</td>\n",
       "      <td>2.392353</td>\n",
       "      <td>6.715026</td>\n",
       "      <td>0.884350</td>\n",
       "      <td>0.648488</td>\n",
       "      <td>0.637189</td>\n",
       "      <td>0.947962</td>\n",
       "      <td>0.177975</td>\n",
       "      <td>0.625783</td>\n",
       "      <td>0.628187</td>\n",
       "      <td>14.053047</td>\n",
       "      <td>7.389498</td>\n",
       "      <td>good</td>\n",
       "      <td>5850000</td>\n",
       "    </tr>\n",
       "    <tr>\n",
       "      <th>1</th>\n",
       "      <td>2</td>\n",
       "      <td>34</td>\n",
       "      <td>19.0</td>\n",
       "      <td>3.0</td>\n",
       "      <td>Nagatinskij Zaton</td>\n",
       "      <td>3119.0</td>\n",
       "      <td>5</td>\n",
       "      <td>6237.0</td>\n",
       "      <td>8</td>\n",
       "      <td>0</td>\n",
       "      <td>229.0</td>\n",
       "      <td>1</td>\n",
       "      <td>0</td>\n",
       "      <td>6</td>\n",
       "      <td>1</td>\n",
       "      <td>1</td>\n",
       "      <td>3</td>\n",
       "      <td>0</td>\n",
       "      <td>0.936700</td>\n",
       "      <td>0.647337</td>\n",
       "      <td>7.620630</td>\n",
       "      <td>0.635053</td>\n",
       "      <td>0.147754</td>\n",
       "      <td>0.273345</td>\n",
       "      <td>0.550690</td>\n",
       "      <td>0.065321</td>\n",
       "      <td>0.966479</td>\n",
       "      <td>3.411993</td>\n",
       "      <td>40.943917</td>\n",
       "      <td>0.065263</td>\n",
       "      <td>0.783160</td>\n",
       "      <td>9.503405</td>\n",
       "      <td>3.103996</td>\n",
       "      <td>6.444333</td>\n",
       "      <td>8.132640</td>\n",
       "      <td>8.698054</td>\n",
       "      <td>6.910568</td>\n",
       "      <td>3.424716</td>\n",
       "      <td>0.668364</td>\n",
       "      <td>2.000154</td>\n",
       "      <td>8.972823</td>\n",
       "      <td>6.127073</td>\n",
       "      <td>1.161579</td>\n",
       "      <td>2.543747</td>\n",
       "      <td>1.852560</td>\n",
       "      <td>0.686252</td>\n",
       "      <td>0.519311</td>\n",
       "      <td>0.688796</td>\n",
       "      <td>1.072315</td>\n",
       "      <td>0.273345</td>\n",
       "      <td>0.967821</td>\n",
       "      <td>0.471447</td>\n",
       "      <td>6.829889</td>\n",
       "      <td>0.709260</td>\n",
       "      <td>excellent</td>\n",
       "      <td>6000000</td>\n",
       "    </tr>\n",
       "    <tr>\n",
       "      <th>2</th>\n",
       "      <td>3</td>\n",
       "      <td>43</td>\n",
       "      <td>29.0</td>\n",
       "      <td>2.0</td>\n",
       "      <td>Tekstil'shhiki</td>\n",
       "      <td>1463.0</td>\n",
       "      <td>4</td>\n",
       "      <td>5580.0</td>\n",
       "      <td>7</td>\n",
       "      <td>0</td>\n",
       "      <td>1183.0</td>\n",
       "      <td>1</td>\n",
       "      <td>0</td>\n",
       "      <td>5</td>\n",
       "      <td>1</td>\n",
       "      <td>0</td>\n",
       "      <td>0</td>\n",
       "      <td>1</td>\n",
       "      <td>2.120999</td>\n",
       "      <td>1.637996</td>\n",
       "      <td>17.351515</td>\n",
       "      <td>1.445960</td>\n",
       "      <td>0.049102</td>\n",
       "      <td>0.158072</td>\n",
       "      <td>0.374848</td>\n",
       "      <td>0.453172</td>\n",
       "      <td>0.939275</td>\n",
       "      <td>1.277658</td>\n",
       "      <td>15.331896</td>\n",
       "      <td>0.328756</td>\n",
       "      <td>3.945073</td>\n",
       "      <td>5.604800</td>\n",
       "      <td>2.927487</td>\n",
       "      <td>6.963403</td>\n",
       "      <td>8.054252</td>\n",
       "      <td>9.067885</td>\n",
       "      <td>5.752368</td>\n",
       "      <td>1.375443</td>\n",
       "      <td>0.733101</td>\n",
       "      <td>1.239304</td>\n",
       "      <td>1.978517</td>\n",
       "      <td>0.767569</td>\n",
       "      <td>1.952771</td>\n",
       "      <td>0.621357</td>\n",
       "      <td>0.841254</td>\n",
       "      <td>1.510089</td>\n",
       "      <td>1.486533</td>\n",
       "      <td>1.543049</td>\n",
       "      <td>0.391957</td>\n",
       "      <td>0.158072</td>\n",
       "      <td>3.178751</td>\n",
       "      <td>0.755946</td>\n",
       "      <td>4.273200</td>\n",
       "      <td>3.156423</td>\n",
       "      <td>poor</td>\n",
       "      <td>5700000</td>\n",
       "    </tr>\n",
       "    <tr>\n",
       "      <th>3</th>\n",
       "      <td>4</td>\n",
       "      <td>89</td>\n",
       "      <td>50.0</td>\n",
       "      <td>9.0</td>\n",
       "      <td>Mitino</td>\n",
       "      <td>6839.0</td>\n",
       "      <td>9</td>\n",
       "      <td>17063.0</td>\n",
       "      <td>10</td>\n",
       "      <td>0</td>\n",
       "      <td>NaN</td>\n",
       "      <td>1</td>\n",
       "      <td>0</td>\n",
       "      <td>17</td>\n",
       "      <td>6</td>\n",
       "      <td>0</td>\n",
       "      <td>11</td>\n",
       "      <td>4</td>\n",
       "      <td>1.489049</td>\n",
       "      <td>0.984537</td>\n",
       "      <td>11.565624</td>\n",
       "      <td>0.963802</td>\n",
       "      <td>0.179441</td>\n",
       "      <td>0.236455</td>\n",
       "      <td>0.078090</td>\n",
       "      <td>0.106125</td>\n",
       "      <td>0.451173</td>\n",
       "      <td>4.291432</td>\n",
       "      <td>51.497190</td>\n",
       "      <td>0.131597</td>\n",
       "      <td>1.579164</td>\n",
       "      <td>2.677824</td>\n",
       "      <td>14.606501</td>\n",
       "      <td>17.457198</td>\n",
       "      <td>18.309433</td>\n",
       "      <td>19.487005</td>\n",
       "      <td>27.892717</td>\n",
       "      <td>0.811275</td>\n",
       "      <td>0.623484</td>\n",
       "      <td>1.950317</td>\n",
       "      <td>6.483172</td>\n",
       "      <td>7.385521</td>\n",
       "      <td>4.923843</td>\n",
       "      <td>3.549558</td>\n",
       "      <td>10.903161</td>\n",
       "      <td>0.622272</td>\n",
       "      <td>0.599914</td>\n",
       "      <td>0.934273</td>\n",
       "      <td>0.892674</td>\n",
       "      <td>0.236455</td>\n",
       "      <td>1.031777</td>\n",
       "      <td>1.561505</td>\n",
       "      <td>16.990677</td>\n",
       "      <td>16.041521</td>\n",
       "      <td>good</td>\n",
       "      <td>13100000</td>\n",
       "    </tr>\n",
       "    <tr>\n",
       "      <th>4</th>\n",
       "      <td>5</td>\n",
       "      <td>77</td>\n",
       "      <td>77.0</td>\n",
       "      <td>4.0</td>\n",
       "      <td>Basmannoe</td>\n",
       "      <td>3240.0</td>\n",
       "      <td>7</td>\n",
       "      <td>7770.0</td>\n",
       "      <td>9</td>\n",
       "      <td>0</td>\n",
       "      <td>562.0</td>\n",
       "      <td>4</td>\n",
       "      <td>2</td>\n",
       "      <td>25</td>\n",
       "      <td>2</td>\n",
       "      <td>0</td>\n",
       "      <td>10</td>\n",
       "      <td>93</td>\n",
       "      <td>1.257186</td>\n",
       "      <td>0.876620</td>\n",
       "      <td>8.266305</td>\n",
       "      <td>0.688859</td>\n",
       "      <td>0.247901</td>\n",
       "      <td>0.376838</td>\n",
       "      <td>0.258289</td>\n",
       "      <td>0.236214</td>\n",
       "      <td>0.392871</td>\n",
       "      <td>0.853960</td>\n",
       "      <td>10.247521</td>\n",
       "      <td>0.071480</td>\n",
       "      <td>0.857764</td>\n",
       "      <td>11.616653</td>\n",
       "      <td>1.721834</td>\n",
       "      <td>0.046810</td>\n",
       "      <td>0.787593</td>\n",
       "      <td>2.578671</td>\n",
       "      <td>9.155057</td>\n",
       "      <td>1.969738</td>\n",
       "      <td>0.220288</td>\n",
       "      <td>2.544696</td>\n",
       "      <td>3.975401</td>\n",
       "      <td>3.610754</td>\n",
       "      <td>0.307915</td>\n",
       "      <td>1.864637</td>\n",
       "      <td>0.991683</td>\n",
       "      <td>0.892668</td>\n",
       "      <td>0.429052</td>\n",
       "      <td>0.077901</td>\n",
       "      <td>0.810801</td>\n",
       "      <td>0.376838</td>\n",
       "      <td>0.378756</td>\n",
       "      <td>0.121681</td>\n",
       "      <td>1.112486</td>\n",
       "      <td>1.800125</td>\n",
       "      <td>excellent</td>\n",
       "      <td>16331452</td>\n",
       "    </tr>\n",
       "  </tbody>\n",
       "</table>\n",
       "</div>"
      ],
      "text/plain": [
       "   id  full_sq  life_sq  floor  ... theater_km  museum_km    ecology  price_doc\n",
       "0   1       43     27.0    4.0  ...  14.053047   7.389498       good    5850000\n",
       "1   2       34     19.0    3.0  ...   6.829889   0.709260  excellent    6000000\n",
       "2   3       43     29.0    2.0  ...   4.273200   3.156423       poor    5700000\n",
       "3   4       89     50.0    9.0  ...  16.990677  16.041521       good   13100000\n",
       "4   5       77     77.0    4.0  ...   1.112486   1.800125  excellent   16331452\n",
       "\n",
       "[5 rows x 56 columns]"
      ]
     },
     "execution_count": 51,
     "metadata": {},
     "output_type": "execute_result"
    }
   ],
   "source": [
    "# Задание 6.7\n",
    "\n",
    "# Data set, посвященный квартирам, выставленным на продажу. \n",
    "# Избавимся от пропусков. Нас будут интересовать только те квартиры, про которые продавцы \n",
    "# заполнили все данные. Удалите все строки, где есть хотя бы один пропуск. Сколько объектов осталось?\n",
    "\n",
    "import pandas as pd\n",
    "\n",
    "data = pd.read_csv('data_flats.csv', sep=\";\")\n",
    "\n",
    "data.head()"
   ]
  },
  {
   "cell_type": "code",
   "execution_count": 52,
   "metadata": {
    "colab": {
     "base_uri": "https://localhost:8080/"
    },
    "id": "4NbW0gBzuz9m",
    "outputId": "fb2273c0-c718-475c-8f74-2c394d3c368a"
   },
   "outputs": [
    {
     "data": {
      "text/plain": [
       "(30469, 56)"
      ]
     },
     "execution_count": 52,
     "metadata": {},
     "output_type": "execute_result"
    }
   ],
   "source": [
    "data.shape"
   ]
  },
  {
   "cell_type": "code",
   "execution_count": 53,
   "metadata": {
    "colab": {
     "base_uri": "https://localhost:8080/"
    },
    "id": "WYg8yZX6yHis",
    "outputId": "2fac1e29-8ba1-4aba-a642-d41c967b04b0"
   },
   "outputs": [
    {
     "data": {
      "text/plain": [
       "(13652, 56)"
      ]
     },
     "execution_count": 53,
     "metadata": {},
     "output_type": "execute_result"
    }
   ],
   "source": [
    "data.dropna(axis=0).shape"
   ]
  },
  {
   "cell_type": "code",
   "execution_count": 41,
   "metadata": {
    "id": "Tbc0H25Atvfm"
   },
   "outputs": [],
   "source": [
    "# data.info()"
   ]
  },
  {
   "cell_type": "code",
   "execution_count": 36,
   "metadata": {
    "colab": {
     "base_uri": "https://localhost:8080/"
    },
    "id": "y_T-Bix7vn_Z",
    "outputId": "a9a7aec4-d42a-418e-b422-c4b17e6a3261"
   },
   "outputs": [
    {
     "name": "stdout",
     "output_type": "stream",
     "text": [
      "0 id\n",
      "1 full_sq\n",
      "5095 life_sq\n",
      "168 floor\n",
      "1 sub_area\n",
      "5111 preschool_quota\n",
      "1 preschool_education_centers_raion\n",
      "5109 school_quota\n",
      "1 school_education_centers_raion\n",
      "1 school_education_centers_top_20_raion\n",
      "11612 hospital_beds_raion\n",
      "1 healthcare_centers_raion\n",
      "1 university_top_20_raion\n",
      "1 sport_objects_raion\n",
      "1 additional_education_raion\n",
      "1 culture_objects_top_25_raion\n",
      "1 shopping_centers_raion\n",
      "1 office_raion\n",
      "1 metro_min_avto\n",
      "1 metro_km_avto\n",
      "14 metro_min_walk\n",
      "14 metro_km_walk\n",
      "1 kindergarten_km\n",
      "1 school_km\n",
      "1 park_km\n",
      "1 green_zone_km\n",
      "1 industrial_km\n",
      "14 railroad_station_walk_km\n",
      "14 railroad_station_walk_min\n",
      "1 public_transport_station_km\n",
      "1 public_transport_station_min_walk\n",
      "1 mkad_km\n",
      "1 ttk_km\n",
      "1 sadovoe_km\n",
      "1 bulvar_ring_km\n",
      "1 kremlin_km\n",
      "1 big_market_km\n",
      "1 market_shop_km\n",
      "1 fitness_km\n",
      "1 swim_pool_km\n",
      "1 ice_rink_km\n",
      "1 stadium_km\n",
      "1 basketball_km\n",
      "1 hospice_morgue_km\n",
      "1 university_km\n",
      "1 workplaces_km\n",
      "1 shopping_centers_km\n",
      "1 office_km\n",
      "1 additional_education_km\n",
      "1 preschool_km\n",
      "1 big_church_km\n",
      "1 church_synagogue_km\n",
      "1 theater_km\n",
      "1 museum_km\n",
      "1 ecology\n",
      "1 price_doc\n"
     ]
    }
   ],
   "source": [
    "for col in data:\n",
    "    print(sum(data[col].isna()), col)"
   ]
  },
  {
   "cell_type": "code",
   "execution_count": null,
   "metadata": {
    "id": "QCYUgQSrwCYg"
   },
   "outputs": [],
   "source": [
    "# вы хотите проанализировать состояние цен на квартиры в нескольких  районах: \n",
    "# \"Лефортово\", \"Перово\", \"Басманное\" и \"Богородское\". Для того, чтобы сравнить цены на \n",
    "# квартирах в этих районах, можно использовать визуализацию с помощью боксплотов. \n",
    "# Постройте боксплоты для распределения цен по этим районами (должно получиться четыре боксплота \n",
    "# - по одному для каждого района). На основании полученных диаграмм ответьте на вопросы ниже."
   ]
  },
  {
   "cell_type": "code",
   "execution_count": 64,
   "metadata": {
    "colab": {
     "base_uri": "https://localhost:8080/",
     "height": 496
    },
    "id": "yLJEjKULFzL2",
    "outputId": "a6830fae-9d09-415f-8c24-39da1c8a4072"
   },
   "outputs": [
    {
     "name": "stderr",
     "output_type": "stream",
     "text": [
      "/usr/local/lib/python3.7/dist-packages/numpy/core/_asarray.py:83: VisibleDeprecationWarning: Creating an ndarray from ragged nested sequences (which is a list-or-tuple of lists-or-tuples-or ndarrays with different lengths or shapes) is deprecated. If you meant to do this, you must specify 'dtype=object' when creating the ndarray\n",
      "  return array(a, dtype, copy=False, order=order)\n"
     ]
    },
    {
     "data": {
      "text/plain": [
       "Text(0, 0.5, 'Flat Price')"
      ]
     },
     "execution_count": 64,
     "metadata": {},
     "output_type": "execute_result"
    },
    {
     "data": {
      "image/png": "[encoded data removed]",
      "text/plain": [
       "<Figure size 432x432 with 1 Axes>"
      ]
     },
     "metadata": {
      "needs_background": "light"
     },
     "output_type": "display_data"
    }
   ],
   "source": [
    "import matplotlib.pyplot as plt\n",
    "\n",
    "\n",
    "fig = plt.figure(figsize=(6, 6))\n",
    "ax = fig.gca() # Define axis \n",
    "condition = (\n",
    "    (data['sub_area'] == 'Lefortovo') |\n",
    "    (data['sub_area'] == 'Perovo') |\n",
    "    (data['sub_area'] == 'Basmannoe') |\n",
    "    (data['sub_area'] == 'Bogorodskoe')\n",
    "    )\n",
    "data[condition].loc[:,['price_doc', 'sub_area']].boxplot(by='sub_area', ax=ax)\n",
    "ax.set_title('Box plot of price')\n",
    "ax.set_ylabel('Flat Price')"
   ]
  },
  {
   "cell_type": "code",
   "execution_count": 65,
   "metadata": {
    "colab": {
     "base_uri": "https://localhost:8080/",
     "height": 243
    },
    "id": "l7FOvGXYHmnp",
    "outputId": "159c4fa0-a692-409a-c894-191c2462f448"
   },
   "outputs": [
    {
     "data": {
      "text/html": [
       "<div>\n",
       "<style scoped>\n",
       "    .dataframe tbody tr th:only-of-type {\n",
       "        vertical-align: middle;\n",
       "    }\n",
       "\n",
       "    .dataframe tbody tr th {\n",
       "        vertical-align: top;\n",
       "    }\n",
       "\n",
       "    .dataframe thead th {\n",
       "        text-align: right;\n",
       "    }\n",
       "</style>\n",
       "<table border=\"1\" class=\"dataframe\">\n",
       "  <thead>\n",
       "    <tr style=\"text-align: right;\">\n",
       "      <th></th>\n",
       "      <th>id</th>\n",
       "      <th>full_sq</th>\n",
       "      <th>life_sq</th>\n",
       "      <th>floor</th>\n",
       "      <th>sub_area</th>\n",
       "      <th>preschool_quota</th>\n",
       "      <th>preschool_education_centers_raion</th>\n",
       "      <th>school_quota</th>\n",
       "      <th>school_education_centers_raion</th>\n",
       "      <th>school_education_centers_top_20_raion</th>\n",
       "      <th>hospital_beds_raion</th>\n",
       "      <th>healthcare_centers_raion</th>\n",
       "      <th>university_top_20_raion</th>\n",
       "      <th>sport_objects_raion</th>\n",
       "      <th>additional_education_raion</th>\n",
       "      <th>culture_objects_top_25_raion</th>\n",
       "      <th>shopping_centers_raion</th>\n",
       "      <th>office_raion</th>\n",
       "      <th>metro_min_avto</th>\n",
       "      <th>metro_km_avto</th>\n",
       "      <th>metro_min_walk</th>\n",
       "      <th>metro_km_walk</th>\n",
       "      <th>kindergarten_km</th>\n",
       "      <th>school_km</th>\n",
       "      <th>park_km</th>\n",
       "      <th>green_zone_km</th>\n",
       "      <th>industrial_km</th>\n",
       "      <th>railroad_station_walk_km</th>\n",
       "      <th>railroad_station_walk_min</th>\n",
       "      <th>public_transport_station_km</th>\n",
       "      <th>public_transport_station_min_walk</th>\n",
       "      <th>mkad_km</th>\n",
       "      <th>ttk_km</th>\n",
       "      <th>sadovoe_km</th>\n",
       "      <th>bulvar_ring_km</th>\n",
       "      <th>kremlin_km</th>\n",
       "      <th>big_market_km</th>\n",
       "      <th>market_shop_km</th>\n",
       "      <th>fitness_km</th>\n",
       "      <th>swim_pool_km</th>\n",
       "      <th>ice_rink_km</th>\n",
       "      <th>stadium_km</th>\n",
       "      <th>basketball_km</th>\n",
       "      <th>hospice_morgue_km</th>\n",
       "      <th>university_km</th>\n",
       "      <th>workplaces_km</th>\n",
       "      <th>shopping_centers_km</th>\n",
       "      <th>office_km</th>\n",
       "      <th>additional_education_km</th>\n",
       "      <th>preschool_km</th>\n",
       "      <th>big_church_km</th>\n",
       "      <th>church_synagogue_km</th>\n",
       "      <th>theater_km</th>\n",
       "      <th>museum_km</th>\n",
       "      <th>ecology</th>\n",
       "      <th>price_doc</th>\n",
       "    </tr>\n",
       "  </thead>\n",
       "  <tbody>\n",
       "    <tr>\n",
       "      <th>0</th>\n",
       "      <td>1</td>\n",
       "      <td>43</td>\n",
       "      <td>27.0</td>\n",
       "      <td>4.0</td>\n",
       "      <td>Bibirevo</td>\n",
       "      <td>5001.0</td>\n",
       "      <td>5</td>\n",
       "      <td>11065.0</td>\n",
       "      <td>5</td>\n",
       "      <td>0</td>\n",
       "      <td>240.0</td>\n",
       "      <td>1</td>\n",
       "      <td>0</td>\n",
       "      <td>7</td>\n",
       "      <td>3</td>\n",
       "      <td>0</td>\n",
       "      <td>16</td>\n",
       "      <td>1</td>\n",
       "      <td>2.590241</td>\n",
       "      <td>1.131260</td>\n",
       "      <td>13.575119</td>\n",
       "      <td>1.131260</td>\n",
       "      <td>0.145700</td>\n",
       "      <td>0.177975</td>\n",
       "      <td>2.158587</td>\n",
       "      <td>0.600973</td>\n",
       "      <td>1.080934</td>\n",
       "      <td>5.419893</td>\n",
       "      <td>65.038716</td>\n",
       "      <td>0.274985</td>\n",
       "      <td>3.299822</td>\n",
       "      <td>1.422391</td>\n",
       "      <td>10.918587</td>\n",
       "      <td>13.100618</td>\n",
       "      <td>13.675657</td>\n",
       "      <td>15.156211</td>\n",
       "      <td>10.814172</td>\n",
       "      <td>1.676258</td>\n",
       "      <td>0.485841</td>\n",
       "      <td>3.065047</td>\n",
       "      <td>1.107594</td>\n",
       "      <td>8.148591</td>\n",
       "      <td>3.516513</td>\n",
       "      <td>2.392353</td>\n",
       "      <td>6.715026</td>\n",
       "      <td>0.884350</td>\n",
       "      <td>0.648488</td>\n",
       "      <td>0.637189</td>\n",
       "      <td>0.947962</td>\n",
       "      <td>0.177975</td>\n",
       "      <td>0.625783</td>\n",
       "      <td>0.628187</td>\n",
       "      <td>14.053047</td>\n",
       "      <td>7.389498</td>\n",
       "      <td>good</td>\n",
       "      <td>5850000</td>\n",
       "    </tr>\n",
       "    <tr>\n",
       "      <th>1</th>\n",
       "      <td>2</td>\n",
       "      <td>34</td>\n",
       "      <td>19.0</td>\n",
       "      <td>3.0</td>\n",
       "      <td>Nagatinskij Zaton</td>\n",
       "      <td>3119.0</td>\n",
       "      <td>5</td>\n",
       "      <td>6237.0</td>\n",
       "      <td>8</td>\n",
       "      <td>0</td>\n",
       "      <td>229.0</td>\n",
       "      <td>1</td>\n",
       "      <td>0</td>\n",
       "      <td>6</td>\n",
       "      <td>1</td>\n",
       "      <td>1</td>\n",
       "      <td>3</td>\n",
       "      <td>0</td>\n",
       "      <td>0.936700</td>\n",
       "      <td>0.647337</td>\n",
       "      <td>7.620630</td>\n",
       "      <td>0.635053</td>\n",
       "      <td>0.147754</td>\n",
       "      <td>0.273345</td>\n",
       "      <td>0.550690</td>\n",
       "      <td>0.065321</td>\n",
       "      <td>0.966479</td>\n",
       "      <td>3.411993</td>\n",
       "      <td>40.943917</td>\n",
       "      <td>0.065263</td>\n",
       "      <td>0.783160</td>\n",
       "      <td>9.503405</td>\n",
       "      <td>3.103996</td>\n",
       "      <td>6.444333</td>\n",
       "      <td>8.132640</td>\n",
       "      <td>8.698054</td>\n",
       "      <td>6.910568</td>\n",
       "      <td>3.424716</td>\n",
       "      <td>0.668364</td>\n",
       "      <td>2.000154</td>\n",
       "      <td>8.972823</td>\n",
       "      <td>6.127073</td>\n",
       "      <td>1.161579</td>\n",
       "      <td>2.543747</td>\n",
       "      <td>1.852560</td>\n",
       "      <td>0.686252</td>\n",
       "      <td>0.519311</td>\n",
       "      <td>0.688796</td>\n",
       "      <td>1.072315</td>\n",
       "      <td>0.273345</td>\n",
       "      <td>0.967821</td>\n",
       "      <td>0.471447</td>\n",
       "      <td>6.829889</td>\n",
       "      <td>0.709260</td>\n",
       "      <td>excellent</td>\n",
       "      <td>6000000</td>\n",
       "    </tr>\n",
       "    <tr>\n",
       "      <th>2</th>\n",
       "      <td>3</td>\n",
       "      <td>43</td>\n",
       "      <td>29.0</td>\n",
       "      <td>2.0</td>\n",
       "      <td>Tekstil'shhiki</td>\n",
       "      <td>1463.0</td>\n",
       "      <td>4</td>\n",
       "      <td>5580.0</td>\n",
       "      <td>7</td>\n",
       "      <td>0</td>\n",
       "      <td>1183.0</td>\n",
       "      <td>1</td>\n",
       "      <td>0</td>\n",
       "      <td>5</td>\n",
       "      <td>1</td>\n",
       "      <td>0</td>\n",
       "      <td>0</td>\n",
       "      <td>1</td>\n",
       "      <td>2.120999</td>\n",
       "      <td>1.637996</td>\n",
       "      <td>17.351515</td>\n",
       "      <td>1.445960</td>\n",
       "      <td>0.049102</td>\n",
       "      <td>0.158072</td>\n",
       "      <td>0.374848</td>\n",
       "      <td>0.453172</td>\n",
       "      <td>0.939275</td>\n",
       "      <td>1.277658</td>\n",
       "      <td>15.331896</td>\n",
       "      <td>0.328756</td>\n",
       "      <td>3.945073</td>\n",
       "      <td>5.604800</td>\n",
       "      <td>2.927487</td>\n",
       "      <td>6.963403</td>\n",
       "      <td>8.054252</td>\n",
       "      <td>9.067885</td>\n",
       "      <td>5.752368</td>\n",
       "      <td>1.375443</td>\n",
       "      <td>0.733101</td>\n",
       "      <td>1.239304</td>\n",
       "      <td>1.978517</td>\n",
       "      <td>0.767569</td>\n",
       "      <td>1.952771</td>\n",
       "      <td>0.621357</td>\n",
       "      <td>0.841254</td>\n",
       "      <td>1.510089</td>\n",
       "      <td>1.486533</td>\n",
       "      <td>1.543049</td>\n",
       "      <td>0.391957</td>\n",
       "      <td>0.158072</td>\n",
       "      <td>3.178751</td>\n",
       "      <td>0.755946</td>\n",
       "      <td>4.273200</td>\n",
       "      <td>3.156423</td>\n",
       "      <td>poor</td>\n",
       "      <td>5700000</td>\n",
       "    </tr>\n",
       "    <tr>\n",
       "      <th>3</th>\n",
       "      <td>4</td>\n",
       "      <td>89</td>\n",
       "      <td>50.0</td>\n",
       "      <td>9.0</td>\n",
       "      <td>Mitino</td>\n",
       "      <td>6839.0</td>\n",
       "      <td>9</td>\n",
       "      <td>17063.0</td>\n",
       "      <td>10</td>\n",
       "      <td>0</td>\n",
       "      <td>NaN</td>\n",
       "      <td>1</td>\n",
       "      <td>0</td>\n",
       "      <td>17</td>\n",
       "      <td>6</td>\n",
       "      <td>0</td>\n",
       "      <td>11</td>\n",
       "      <td>4</td>\n",
       "      <td>1.489049</td>\n",
       "      <td>0.984537</td>\n",
       "      <td>11.565624</td>\n",
       "      <td>0.963802</td>\n",
       "      <td>0.179441</td>\n",
       "      <td>0.236455</td>\n",
       "      <td>0.078090</td>\n",
       "      <td>0.106125</td>\n",
       "      <td>0.451173</td>\n",
       "      <td>4.291432</td>\n",
       "      <td>51.497190</td>\n",
       "      <td>0.131597</td>\n",
       "      <td>1.579164</td>\n",
       "      <td>2.677824</td>\n",
       "      <td>14.606501</td>\n",
       "      <td>17.457198</td>\n",
       "      <td>18.309433</td>\n",
       "      <td>19.487005</td>\n",
       "      <td>27.892717</td>\n",
       "      <td>0.811275</td>\n",
       "      <td>0.623484</td>\n",
       "      <td>1.950317</td>\n",
       "      <td>6.483172</td>\n",
       "      <td>7.385521</td>\n",
       "      <td>4.923843</td>\n",
       "      <td>3.549558</td>\n",
       "      <td>10.903161</td>\n",
       "      <td>0.622272</td>\n",
       "      <td>0.599914</td>\n",
       "      <td>0.934273</td>\n",
       "      <td>0.892674</td>\n",
       "      <td>0.236455</td>\n",
       "      <td>1.031777</td>\n",
       "      <td>1.561505</td>\n",
       "      <td>16.990677</td>\n",
       "      <td>16.041521</td>\n",
       "      <td>good</td>\n",
       "      <td>13100000</td>\n",
       "    </tr>\n",
       "    <tr>\n",
       "      <th>4</th>\n",
       "      <td>5</td>\n",
       "      <td>77</td>\n",
       "      <td>77.0</td>\n",
       "      <td>4.0</td>\n",
       "      <td>Basmannoe</td>\n",
       "      <td>3240.0</td>\n",
       "      <td>7</td>\n",
       "      <td>7770.0</td>\n",
       "      <td>9</td>\n",
       "      <td>0</td>\n",
       "      <td>562.0</td>\n",
       "      <td>4</td>\n",
       "      <td>2</td>\n",
       "      <td>25</td>\n",
       "      <td>2</td>\n",
       "      <td>0</td>\n",
       "      <td>10</td>\n",
       "      <td>93</td>\n",
       "      <td>1.257186</td>\n",
       "      <td>0.876620</td>\n",
       "      <td>8.266305</td>\n",
       "      <td>0.688859</td>\n",
       "      <td>0.247901</td>\n",
       "      <td>0.376838</td>\n",
       "      <td>0.258289</td>\n",
       "      <td>0.236214</td>\n",
       "      <td>0.392871</td>\n",
       "      <td>0.853960</td>\n",
       "      <td>10.247521</td>\n",
       "      <td>0.071480</td>\n",
       "      <td>0.857764</td>\n",
       "      <td>11.616653</td>\n",
       "      <td>1.721834</td>\n",
       "      <td>0.046810</td>\n",
       "      <td>0.787593</td>\n",
       "      <td>2.578671</td>\n",
       "      <td>9.155057</td>\n",
       "      <td>1.969738</td>\n",
       "      <td>0.220288</td>\n",
       "      <td>2.544696</td>\n",
       "      <td>3.975401</td>\n",
       "      <td>3.610754</td>\n",
       "      <td>0.307915</td>\n",
       "      <td>1.864637</td>\n",
       "      <td>0.991683</td>\n",
       "      <td>0.892668</td>\n",
       "      <td>0.429052</td>\n",
       "      <td>0.077901</td>\n",
       "      <td>0.810801</td>\n",
       "      <td>0.376838</td>\n",
       "      <td>0.378756</td>\n",
       "      <td>0.121681</td>\n",
       "      <td>1.112486</td>\n",
       "      <td>1.800125</td>\n",
       "      <td>excellent</td>\n",
       "      <td>16331452</td>\n",
       "    </tr>\n",
       "  </tbody>\n",
       "</table>\n",
       "</div>"
      ],
      "text/plain": [
       "   id  full_sq  life_sq  floor  ... theater_km  museum_km    ecology  price_doc\n",
       "0   1       43     27.0    4.0  ...  14.053047   7.389498       good    5850000\n",
       "1   2       34     19.0    3.0  ...   6.829889   0.709260  excellent    6000000\n",
       "2   3       43     29.0    2.0  ...   4.273200   3.156423       poor    5700000\n",
       "3   4       89     50.0    9.0  ...  16.990677  16.041521       good   13100000\n",
       "4   5       77     77.0    4.0  ...   1.112486   1.800125  excellent   16331452\n",
       "\n",
       "[5 rows x 56 columns]"
      ]
     },
     "execution_count": 65,
     "metadata": {},
     "output_type": "execute_result"
    }
   ],
   "source": [
    "data.head()"
   ]
  },
  {
   "cell_type": "code",
   "execution_count": 67,
   "metadata": {
    "colab": {
     "base_uri": "https://localhost:8080/"
    },
    "id": "qy5PMPQ6Wlip",
    "outputId": "335415ed-28d3-41e1-fb87-e5906a5b0a6c"
   },
   "outputs": [
    {
     "data": {
      "text/plain": [
       "array(['good', 'excellent', 'poor', 'satisfactory', 'no data'],\n",
       "      dtype=object)"
      ]
     },
     "execution_count": 67,
     "metadata": {},
     "output_type": "execute_result"
    }
   ],
   "source": [
    "data['ecology'].unique()"
   ]
  },
  {
   "cell_type": "code",
   "execution_count": 68,
   "metadata": {
    "id": "wXllVvoTWT90"
   },
   "outputs": [],
   "source": [
    "ecology_dict = {'no data': 0, 'poor': 1,  'satisfactory': 2, 'good': 3, 'excellent': 4}\n",
    "data['ecology'] = data['ecology'].replace(to_replace=ecology_dict)"
   ]
  },
  {
   "cell_type": "code",
   "execution_count": 70,
   "metadata": {
    "colab": {
     "base_uri": "https://localhost:8080/"
    },
    "id": "hwe55yaSXFSX",
    "outputId": "093dcda2-cea8-42e4-b135-364734b71986"
   },
   "outputs": [
    {
     "name": "stdout",
     "output_type": "stream",
     "text": [
      "(30469, 56)\n",
      "(30469, 201)\n"
     ]
    }
   ],
   "source": [
    "data_dum = pd.get_dummies(data,\n",
    "                           columns=[\"sub_area\"],\n",
    "                           prefix=\"area_\"\n",
    "                           )\n",
    "print(data.shape)\n",
    "print(data_dum.shape)"
   ]
  },
  {
   "cell_type": "code",
   "execution_count": 74,
   "metadata": {
    "colab": {
     "base_uri": "https://localhost:8080/"
    },
    "id": "OgnBW72KX9Lc",
    "outputId": "2f35b33f-6735-45f0-ee65-2adc7f7ddae6"
   },
   "outputs": [
    {
     "data": {
      "text/plain": [
       "1.73"
      ]
     },
     "execution_count": 74,
     "metadata": {},
     "output_type": "execute_result"
    }
   ],
   "source": [
    "round(data_dum['ecology'].mean(), 2)"
   ]
  },
  {
   "cell_type": "code",
   "execution_count": null,
   "metadata": {
    "id": "u6f_EFWQYNI9"
   },
   "outputs": [],
   "source": []
  },
  {
   "cell_type": "markdown",
   "metadata": {
    "id": "NdnXglLl0oSs"
   },
   "source": [
    "# Нормализация данных и удаление данных"
   ]
  },
  {
   "cell_type": "code",
   "execution_count": null,
   "metadata": {
    "id": "z93vmvw60oSv"
   },
   "outputs": [],
   "source": [
    "import pandas as pd\n",
    "import numpy as np"
   ]
  },
  {
   "cell_type": "code",
   "execution_count": null,
   "metadata": {
    "id": "rU3mDD-l0oSx"
   },
   "outputs": [],
   "source": [
    "test_data = pd.DataFrame([[1, 2, np.nan], [3, np.nan, 417], \n",
    "                          [0, 10, -212]], columns=['one', 'two', 'three'])"
   ]
  },
  {
   "cell_type": "code",
   "execution_count": null,
   "metadata": {
    "id": "t8dRzBIB0oSy",
    "outputId": "8e98084a-43d4-4bf3-9a19-392800713a8f"
   },
   "outputs": [
    {
     "data": {
      "text/html": [
       "<div>\n",
       "<style scoped>\n",
       "    .dataframe tbody tr th:only-of-type {\n",
       "        vertical-align: middle;\n",
       "    }\n",
       "\n",
       "    .dataframe tbody tr th {\n",
       "        vertical-align: top;\n",
       "    }\n",
       "\n",
       "    .dataframe thead th {\n",
       "        text-align: right;\n",
       "    }\n",
       "</style>\n",
       "<table border=\"1\" class=\"dataframe\">\n",
       "  <thead>\n",
       "    <tr style=\"text-align: right;\">\n",
       "      <th></th>\n",
       "      <th>one</th>\n",
       "      <th>two</th>\n",
       "      <th>three</th>\n",
       "    </tr>\n",
       "  </thead>\n",
       "  <tbody>\n",
       "    <tr>\n",
       "      <th>0</th>\n",
       "      <td>1</td>\n",
       "      <td>2.0</td>\n",
       "      <td>NaN</td>\n",
       "    </tr>\n",
       "    <tr>\n",
       "      <th>1</th>\n",
       "      <td>3</td>\n",
       "      <td>NaN</td>\n",
       "      <td>417.0</td>\n",
       "    </tr>\n",
       "    <tr>\n",
       "      <th>2</th>\n",
       "      <td>0</td>\n",
       "      <td>10.0</td>\n",
       "      <td>-212.0</td>\n",
       "    </tr>\n",
       "  </tbody>\n",
       "</table>\n",
       "</div>"
      ],
      "text/plain": [
       "   one   two  three\n",
       "0    1   2.0    NaN\n",
       "1    3   NaN  417.0\n",
       "2    0  10.0 -212.0"
      ]
     },
     "execution_count": 3,
     "metadata": {},
     "output_type": "execute_result"
    }
   ],
   "source": [
    "test_data"
   ]
  },
  {
   "cell_type": "markdown",
   "metadata": {
    "id": "gnrgauLE0oS0"
   },
   "source": [
    "## Нормализация: теория\n",
    "\n",
    "Некоторые алгоритмы обращают внимание на масштаб переменных - это помогает алгоритму (например, градиентному спуску) лучше сходиться. Для этого нужно делать нормализацию данных - приведение переменных к одному масштабу.  \n",
    "Кроме этого, если есть несколько наборов данных одной природы, но разного размера, их нужно нормализовать, чтобы иметь возможность сравнить влияние каких-то других признаков.  \n",
    "Несмотря на то, что некоторые алгоритмы работают независимо от масштаба признаков, хуже от нормализации обычно не становится.  \n",
    "Когда мы говорим о нормализации, мы говорим о числах.   \n",
    "Мы посмотрим на работу методов нормализации из библиотеки `sklearn`. На вход будем подавать `pandas.DataFrame`, на выходе будем получать `np.ndarray`. Информация о структуре `pandas`-таблицы теряется."
   ]
  },
  {
   "cell_type": "markdown",
   "metadata": {
    "id": "jNhDx5X90oS1"
   },
   "source": [
    "## minmax нормализация\n",
    "\n",
    "Одним из стандартных способов нормализации является `minmax` нормализация.  \n",
    "Данный вид нормализации приводит независимо каждый признак к значению между 0 и 1.  \n",
    "Как это работает? Для каждого признака алгоритм находит минимальное ($x_{min}$) и максимальное ($x_{max}$) значение, после этого признак `x` трансформируется в $$x := \\frac{x - x_{min}}{x_{max} - x_{min}}$$"
   ]
  },
  {
   "cell_type": "code",
   "execution_count": null,
   "metadata": {
    "id": "nSlQyA1A0oS1"
   },
   "outputs": [],
   "source": [
    "test_data = test_data.fillna(0)"
   ]
  },
  {
   "cell_type": "code",
   "execution_count": null,
   "metadata": {
    "id": "ayfThSbt0oS2",
    "outputId": "08f9ab00-f13f-4c01-9ce4-5869c0f3bfd0"
   },
   "outputs": [
    {
     "data": {
      "text/html": [
       "<div>\n",
       "<style scoped>\n",
       "    .dataframe tbody tr th:only-of-type {\n",
       "        vertical-align: middle;\n",
       "    }\n",
       "\n",
       "    .dataframe tbody tr th {\n",
       "        vertical-align: top;\n",
       "    }\n",
       "\n",
       "    .dataframe thead th {\n",
       "        text-align: right;\n",
       "    }\n",
       "</style>\n",
       "<table border=\"1\" class=\"dataframe\">\n",
       "  <thead>\n",
       "    <tr style=\"text-align: right;\">\n",
       "      <th></th>\n",
       "      <th>one</th>\n",
       "      <th>two</th>\n",
       "      <th>three</th>\n",
       "    </tr>\n",
       "  </thead>\n",
       "  <tbody>\n",
       "    <tr>\n",
       "      <th>0</th>\n",
       "      <td>1</td>\n",
       "      <td>2.0</td>\n",
       "      <td>0.0</td>\n",
       "    </tr>\n",
       "    <tr>\n",
       "      <th>1</th>\n",
       "      <td>3</td>\n",
       "      <td>0.0</td>\n",
       "      <td>417.0</td>\n",
       "    </tr>\n",
       "    <tr>\n",
       "      <th>2</th>\n",
       "      <td>0</td>\n",
       "      <td>10.0</td>\n",
       "      <td>-212.0</td>\n",
       "    </tr>\n",
       "  </tbody>\n",
       "</table>\n",
       "</div>"
      ],
      "text/plain": [
       "   one   two  three\n",
       "0    1   2.0    0.0\n",
       "1    3   0.0  417.0\n",
       "2    0  10.0 -212.0"
      ]
     },
     "execution_count": 5,
     "metadata": {},
     "output_type": "execute_result"
    }
   ],
   "source": [
    "test_data"
   ]
  },
  {
   "cell_type": "code",
   "execution_count": null,
   "metadata": {
    "id": "pmdV9M4j0oS2"
   },
   "outputs": [],
   "source": [
    "from sklearn.preprocessing import MinMaxScaler"
   ]
  },
  {
   "cell_type": "code",
   "execution_count": null,
   "metadata": {
    "id": "5EF1_7aX0oS2",
    "outputId": "03aee5bb-c9da-4063-cc23-d36bb42f9f53"
   },
   "outputs": [
    {
     "data": {
      "text/plain": [
       "array([[0.33333333, 0.2       , 0.33704293],\n",
       "       [1.        , 0.        , 1.        ],\n",
       "       [0.        , 1.        , 0.        ]])"
      ]
     },
     "execution_count": 7,
     "metadata": {},
     "output_type": "execute_result"
    }
   ],
   "source": [
    "scaler = MinMaxScaler()\n",
    "scaler.fit_transform(test_data)"
   ]
  },
  {
   "cell_type": "markdown",
   "metadata": {
    "id": "pUphF-Un0oS3"
   },
   "source": [
    "## std нормализация (стандартная нормализация)\n",
    "\n",
    "`std` нормализация (иначе называется `стандартная нормализация` или `zero mean, unit variance`) - еще один вид нормализации признаков.  \n",
    "Как он работает? Для каждого признака алгоритм независимо находит среднее значение ($x_{mean}$) и стандартное отклонение ($x_{std}$), после этого признак `x` трансформируется в $$x := \\frac{x - x_{mean}}{x_{std}}$$"
   ]
  },
  {
   "cell_type": "code",
   "execution_count": null,
   "metadata": {
    "id": "2isckUet0oS3"
   },
   "outputs": [],
   "source": [
    "from sklearn.preprocessing import StandardScaler"
   ]
  },
  {
   "cell_type": "code",
   "execution_count": null,
   "metadata": {
    "id": "_KHHUyeD0oS3",
    "outputId": "e8d806eb-19a1-4235-f752-ec78a3e08921"
   },
   "outputs": [
    {
     "data": {
      "text/plain": [
       "array([[-0.26726124, -0.46291005, -0.26151831],\n",
       "       [ 1.33630621, -0.9258201 ,  1.33438124],\n",
       "       [-1.06904497,  1.38873015, -1.07286293]])"
      ]
     },
     "execution_count": 9,
     "metadata": {},
     "output_type": "execute_result"
    }
   ],
   "source": [
    "scaler = StandardScaler()\n",
    "scaler.fit_transform(test_data)"
   ]
  },
  {
   "cell_type": "markdown",
   "metadata": {
    "id": "gQrjHmS-0oS4"
   },
   "source": [
    "`MinMaxScaler` и `StandardScaler` сохраняют параметры, с которыми проводит нормализацию. Это значит, что после нормализации признаков в тренировочной выборке нужно будет применить ту же нормализацию с валидационными и тестовыми данными. Про валидацию мы поговорим позже."
   ]
  },
  {
   "cell_type": "markdown",
   "metadata": {
    "id": "KqKuX-yY0oS4"
   },
   "source": [
    "## Удаление ненужных строк и столбцов\n",
    "\n",
    "Иногда в данных находятся признаки (столбцы), которые не несут никакой полезной информации или были считаны по ошибке.  \n",
    "Их можно можно удалить с помощью метода `.drop(column_names, axis=1)`. В `columns` необходимо передать или название признака (столбца), или список названий признаков (столбцов):"
   ]
  },
  {
   "cell_type": "code",
   "execution_count": null,
   "metadata": {
    "id": "I765cnk00oS4",
    "outputId": "42aefb94-6535-47a5-c9be-7d207dd24481"
   },
   "outputs": [
    {
     "data": {
      "text/html": [
       "<div>\n",
       "<style scoped>\n",
       "    .dataframe tbody tr th:only-of-type {\n",
       "        vertical-align: middle;\n",
       "    }\n",
       "\n",
       "    .dataframe tbody tr th {\n",
       "        vertical-align: top;\n",
       "    }\n",
       "\n",
       "    .dataframe thead th {\n",
       "        text-align: right;\n",
       "    }\n",
       "</style>\n",
       "<table border=\"1\" class=\"dataframe\">\n",
       "  <thead>\n",
       "    <tr style=\"text-align: right;\">\n",
       "      <th></th>\n",
       "      <th>one</th>\n",
       "      <th>two</th>\n",
       "      <th>three</th>\n",
       "    </tr>\n",
       "  </thead>\n",
       "  <tbody>\n",
       "    <tr>\n",
       "      <th>0</th>\n",
       "      <td>1</td>\n",
       "      <td>2.0</td>\n",
       "      <td>0.0</td>\n",
       "    </tr>\n",
       "    <tr>\n",
       "      <th>1</th>\n",
       "      <td>3</td>\n",
       "      <td>0.0</td>\n",
       "      <td>417.0</td>\n",
       "    </tr>\n",
       "    <tr>\n",
       "      <th>2</th>\n",
       "      <td>0</td>\n",
       "      <td>10.0</td>\n",
       "      <td>-212.0</td>\n",
       "    </tr>\n",
       "  </tbody>\n",
       "</table>\n",
       "</div>"
      ],
      "text/plain": [
       "   one   two  three\n",
       "0    1   2.0    0.0\n",
       "1    3   0.0  417.0\n",
       "2    0  10.0 -212.0"
      ]
     },
     "execution_count": 12,
     "metadata": {},
     "output_type": "execute_result"
    }
   ],
   "source": [
    "test_data"
   ]
  },
  {
   "cell_type": "code",
   "execution_count": null,
   "metadata": {
    "id": "7qaXWpoG0oS5",
    "outputId": "f5344391-dd82-467d-8c2e-0a462309a5fa"
   },
   "outputs": [
    {
     "data": {
      "text/html": [
       "<div>\n",
       "<style scoped>\n",
       "    .dataframe tbody tr th:only-of-type {\n",
       "        vertical-align: middle;\n",
       "    }\n",
       "\n",
       "    .dataframe tbody tr th {\n",
       "        vertical-align: top;\n",
       "    }\n",
       "\n",
       "    .dataframe thead th {\n",
       "        text-align: right;\n",
       "    }\n",
       "</style>\n",
       "<table border=\"1\" class=\"dataframe\">\n",
       "  <thead>\n",
       "    <tr style=\"text-align: right;\">\n",
       "      <th></th>\n",
       "      <th>two</th>\n",
       "      <th>three</th>\n",
       "    </tr>\n",
       "  </thead>\n",
       "  <tbody>\n",
       "    <tr>\n",
       "      <th>0</th>\n",
       "      <td>2.0</td>\n",
       "      <td>0.0</td>\n",
       "    </tr>\n",
       "    <tr>\n",
       "      <th>1</th>\n",
       "      <td>0.0</td>\n",
       "      <td>417.0</td>\n",
       "    </tr>\n",
       "    <tr>\n",
       "      <th>2</th>\n",
       "      <td>10.0</td>\n",
       "      <td>-212.0</td>\n",
       "    </tr>\n",
       "  </tbody>\n",
       "</table>\n",
       "</div>"
      ],
      "text/plain": [
       "    two  three\n",
       "0   2.0    0.0\n",
       "1   0.0  417.0\n",
       "2  10.0 -212.0"
      ]
     },
     "execution_count": 11,
     "metadata": {},
     "output_type": "execute_result"
    }
   ],
   "source": [
    "test_data.drop('one', axis=1)"
   ]
  },
  {
   "cell_type": "code",
   "execution_count": null,
   "metadata": {
    "id": "YQre9gQR0oS5",
    "outputId": "f5e3c755-4324-441a-c48e-db372e71d2a8"
   },
   "outputs": [
    {
     "data": {
      "text/html": [
       "<div>\n",
       "<style scoped>\n",
       "    .dataframe tbody tr th:only-of-type {\n",
       "        vertical-align: middle;\n",
       "    }\n",
       "\n",
       "    .dataframe tbody tr th {\n",
       "        vertical-align: top;\n",
       "    }\n",
       "\n",
       "    .dataframe thead th {\n",
       "        text-align: right;\n",
       "    }\n",
       "</style>\n",
       "<table border=\"1\" class=\"dataframe\">\n",
       "  <thead>\n",
       "    <tr style=\"text-align: right;\">\n",
       "      <th></th>\n",
       "      <th>two</th>\n",
       "    </tr>\n",
       "  </thead>\n",
       "  <tbody>\n",
       "    <tr>\n",
       "      <th>0</th>\n",
       "      <td>2.0</td>\n",
       "    </tr>\n",
       "    <tr>\n",
       "      <th>1</th>\n",
       "      <td>0.0</td>\n",
       "    </tr>\n",
       "    <tr>\n",
       "      <th>2</th>\n",
       "      <td>10.0</td>\n",
       "    </tr>\n",
       "  </tbody>\n",
       "</table>\n",
       "</div>"
      ],
      "text/plain": [
       "    two\n",
       "0   2.0\n",
       "1   0.0\n",
       "2  10.0"
      ]
     },
     "execution_count": 13,
     "metadata": {},
     "output_type": "execute_result"
    }
   ],
   "source": [
    "test_data.drop(['one', 'three'], axis=1)"
   ]
  },
  {
   "cell_type": "markdown",
   "metadata": {
    "id": "58o3Gyj-0oS5"
   },
   "source": [
    "Если в предыдущем методе в параметр `axis` передавать `0`, метод будет удалять строки с номерами, которые вы передадите (или один номер, или список номеров):"
   ]
  },
  {
   "cell_type": "code",
   "execution_count": null,
   "metadata": {
    "id": "4norq4xr0oS6",
    "outputId": "96108ee0-505f-4ea1-d2d8-4156b3e253a2"
   },
   "outputs": [
    {
     "data": {
      "text/html": [
       "<div>\n",
       "<style scoped>\n",
       "    .dataframe tbody tr th:only-of-type {\n",
       "        vertical-align: middle;\n",
       "    }\n",
       "\n",
       "    .dataframe tbody tr th {\n",
       "        vertical-align: top;\n",
       "    }\n",
       "\n",
       "    .dataframe thead th {\n",
       "        text-align: right;\n",
       "    }\n",
       "</style>\n",
       "<table border=\"1\" class=\"dataframe\">\n",
       "  <thead>\n",
       "    <tr style=\"text-align: right;\">\n",
       "      <th></th>\n",
       "      <th>one</th>\n",
       "      <th>two</th>\n",
       "      <th>three</th>\n",
       "    </tr>\n",
       "  </thead>\n",
       "  <tbody>\n",
       "    <tr>\n",
       "      <th>1</th>\n",
       "      <td>3</td>\n",
       "      <td>0.0</td>\n",
       "      <td>417.0</td>\n",
       "    </tr>\n",
       "    <tr>\n",
       "      <th>2</th>\n",
       "      <td>0</td>\n",
       "      <td>10.0</td>\n",
       "      <td>-212.0</td>\n",
       "    </tr>\n",
       "  </tbody>\n",
       "</table>\n",
       "</div>"
      ],
      "text/plain": [
       "   one   two  three\n",
       "1    3   0.0  417.0\n",
       "2    0  10.0 -212.0"
      ]
     },
     "execution_count": 14,
     "metadata": {},
     "output_type": "execute_result"
    }
   ],
   "source": [
    "test_data.drop(0, axis=0)"
   ]
  },
  {
   "cell_type": "code",
   "execution_count": null,
   "metadata": {
    "id": "RHYwAfuK0oS7",
    "outputId": "63e8fd3e-8747-4583-fe6b-cebcbf02f318"
   },
   "outputs": [
    {
     "data": {
      "text/html": [
       "<div>\n",
       "<style scoped>\n",
       "    .dataframe tbody tr th:only-of-type {\n",
       "        vertical-align: middle;\n",
       "    }\n",
       "\n",
       "    .dataframe tbody tr th {\n",
       "        vertical-align: top;\n",
       "    }\n",
       "\n",
       "    .dataframe thead th {\n",
       "        text-align: right;\n",
       "    }\n",
       "</style>\n",
       "<table border=\"1\" class=\"dataframe\">\n",
       "  <thead>\n",
       "    <tr style=\"text-align: right;\">\n",
       "      <th></th>\n",
       "      <th>one</th>\n",
       "      <th>two</th>\n",
       "      <th>three</th>\n",
       "    </tr>\n",
       "  </thead>\n",
       "  <tbody>\n",
       "    <tr>\n",
       "      <th>1</th>\n",
       "      <td>3</td>\n",
       "      <td>0.0</td>\n",
       "      <td>417.0</td>\n",
       "    </tr>\n",
       "  </tbody>\n",
       "</table>\n",
       "</div>"
      ],
      "text/plain": [
       "   one  two  three\n",
       "1    3  0.0  417.0"
      ]
     },
     "execution_count": 15,
     "metadata": {},
     "output_type": "execute_result"
    }
   ],
   "source": [
    "test_data.drop([0, 2], axis=0)"
   ]
  },
  {
   "cell_type": "code",
   "execution_count": 6,
   "metadata": {
    "colab": {
     "base_uri": "https://localhost:8080/"
    },
    "id": "7e3Ok2sF7S-g",
    "outputId": "21a84442-0e6b-442a-a0d9-4941498d4771"
   },
   "outputs": [
    {
     "data": {
      "text/plain": [
       "Index(['ticket_id', 'agency_name', 'inspector_name', 'violator_name',\n",
       "       'violation_street_number', 'violation_street_name',\n",
       "       'violation_zip_code', 'mailing_address_str_number',\n",
       "       'mailing_address_str_name', 'city', 'state', 'zip_code',\n",
       "       'non_us_str_code', 'country', 'ticket_issued_date', 'hearing_date',\n",
       "       'violation_code', 'violation_description', 'disposition', 'fine_amount',\n",
       "       'admin_fee', 'state_fee', 'late_fee', 'discount_amount',\n",
       "       'clean_up_cost', 'judgment_amount', 'payment_amount', 'balance_due',\n",
       "       'payment_date', 'payment_status', 'collection_status',\n",
       "       'grafitti_status', 'compliance_detail', 'compliance'],\n",
       "      dtype='object')"
      ]
     },
     "execution_count": 6,
     "metadata": {},
     "output_type": "execute_result"
    }
   ],
   "source": [
    "# Задание 8.3\n",
    "\n",
    "# Загрузите данные train.csv, найдите признак, обозначающий баланс. Нормализуйте признак \n",
    "# с помощью std-нормализации. Проверьте, что вы нашли нужный признак и нормализовали его подходящим методом. \n",
    "# Метод для нормализации принимает матрицу, а не массив. В numpy можно превратить массив в матрицу с помощью reshape(). \n",
    "# В качестве ответа укажите минимальное значение в получившемся нормализованном признаке. \n",
    "# Ответ округлите до 5 знаков после запятой.\n",
    "\n",
    "import pandas as pd\n",
    "\n",
    "data = pd.read_csv(\"train.csv\", encoding = 'ISO-8859-1', low_memory = False)\n",
    "\n",
    "data.columns"
   ]
  },
  {
   "cell_type": "code",
   "execution_count": 7,
   "metadata": {
    "colab": {
     "base_uri": "https://localhost:8080/"
    },
    "id": "YyVq7AYE8Uwf",
    "outputId": "58b7dda6-c8ba-4d50-b8bb-fe8943e957b7"
   },
   "outputs": [
    {
     "data": {
      "text/plain": [
       "(250306, 34)"
      ]
     },
     "execution_count": 7,
     "metadata": {},
     "output_type": "execute_result"
    }
   ],
   "source": [
    "data.shape"
   ]
  },
  {
   "cell_type": "code",
   "execution_count": 12,
   "metadata": {
    "id": "usY58GOt76-i"
   },
   "outputs": [],
   "source": [
    "import numpy as np\n",
    "\n",
    "balance = np.array(data['balance_due'])"
   ]
  },
  {
   "cell_type": "code",
   "execution_count": 15,
   "metadata": {
    "id": "38z_XIqb7l8R"
   },
   "outputs": [],
   "source": [
    "from sklearn.preprocessing import StandardScaler\n",
    "\n",
    "scaler = StandardScaler()\n",
    "balance_std = scaler.fit_transform(balance.reshape(-1, 1))"
   ]
  },
  {
   "cell_type": "code",
   "execution_count": 16,
   "metadata": {
    "colab": {
     "base_uri": "https://localhost:8080/"
    },
    "id": "f_LxCM8Y72X2",
    "outputId": "610a3d78-0612-4c61-925b-15a48e8b0298"
   },
   "outputs": [
    {
     "data": {
      "text/plain": [
       "-13.14733"
      ]
     },
     "execution_count": 16,
     "metadata": {},
     "output_type": "execute_result"
    }
   ],
   "source": [
    "round(balance_std.min(), 5)"
   ]
  },
  {
   "cell_type": "code",
   "execution_count": 22,
   "metadata": {
    "colab": {
     "base_uri": "https://localhost:8080/"
    },
    "id": "P6aRMXsE98gD",
    "outputId": "9f939d25-5bad-475d-ba99-0a870711e718"
   },
   "outputs": [
    {
     "name": "stdout",
     "output_type": "stream",
     "text": [
      "0.452596\n"
     ]
    }
   ],
   "source": [
    "# Задание 10.2\n",
    "\n",
    "# Загрузите данные train.csv , найдите признак, обозначающий баланс. Для приведения данных к \n",
    "# более нормальному виду часто используют различные преобразования, например, взятие корня от признака.\n",
    "# Возьмите корень у положительных значений, найдите медианное и среднее значение. \n",
    "# В качестве ответа укажите модуль разницы этих значений. Ответ округлите до 6 знаков после запятой.\n",
    "\n",
    "med = np.median(np.sqrt(balance[balance > 0]))\n",
    "ave = np.mean(np.sqrt(balance[balance > 0]))\n",
    "\n",
    "print(round(abs(ave- med), 6))"
   ]
  },
  {
   "cell_type": "code",
   "execution_count": 25,
   "metadata": {
    "id": "-8npczG-PoQB"
   },
   "outputs": [],
   "source": [
    "# Задание 12.6\n",
    "\n",
    "# train.csv , найдите признак, обозначающий баланс и признак, обозначающий размер скидки. \n",
    "# Создайте полиномиальные признаки степени 3. Посчитайте среднее значение для каждого получившегося признака. \n",
    "# В качестве ответа укажите номер признака, который содержит максимальное среднее значение.\n",
    "# 'balance_due', 'discount_amount'\n",
    "from sklearn.preprocessing import PolynomialFeatures"
   ]
  },
  {
   "cell_type": "code",
   "execution_count": 30,
   "metadata": {
    "colab": {
     "base_uri": "https://localhost:8080/"
    },
    "id": "_VBO2fZmPyUo",
    "outputId": "caad1758-d356-4682-cece-09b16f5dcd70"
   },
   "outputs": [
    {
     "data": {
      "text/plain": [
       "array([ 1.00000000e+00,  2.22449058e+02,  1.25166796e-01,  4.17195810e+05,\n",
       "       -9.85531709e+00,  1.17817392e+01,  2.04200098e+09,  1.17924384e+05,\n",
       "       -1.49564074e+02,  3.07417605e+03])"
      ]
     },
     "execution_count": 30,
     "metadata": {},
     "output_type": "execute_result"
    }
   ],
   "source": [
    "pf = PolynomialFeatures(3)\n",
    "poly_features = pf.fit_transform(data[['balance_due', 'discount_amount']])\n",
    "poly_features.mean(axis=0)"
   ]
  },
  {
   "cell_type": "code",
   "execution_count": 31,
   "metadata": {
    "colab": {
     "base_uri": "https://localhost:8080/"
    },
    "id": "3RZfWAvPQSGI",
    "outputId": "d470b645-5db9-4cd9-a7e5-29a98a8b5765"
   },
   "outputs": [
    {
     "data": {
      "text/plain": [
       "(250306, 10)"
      ]
     },
     "execution_count": 31,
     "metadata": {},
     "output_type": "execute_result"
    }
   ],
   "source": [
    "poly_features.shape"
   ]
  },
  {
   "cell_type": "code",
   "execution_count": 32,
   "metadata": {
    "colab": {
     "base_uri": "https://localhost:8080/"
    },
    "id": "6ShUb7veQiPq",
    "outputId": "e63b288f-d1fc-494d-b922-e40fc5f6b1d9"
   },
   "outputs": [
    {
     "data": {
      "text/plain": [
       "6"
      ]
     },
     "execution_count": 32,
     "metadata": {},
     "output_type": "execute_result"
    }
   ],
   "source": [
    "poly_features.mean(axis=0).argmax()"
   ]
  },
  {
   "cell_type": "code",
   "execution_count": 35,
   "metadata": {
    "colab": {
     "base_uri": "https://localhost:8080/"
    },
    "id": "DQpirDPiQv1R",
    "outputId": "38ee79fc-580d-4d27-c999-c70d3f3a8dde"
   },
   "outputs": [
    {
     "data": {
      "text/plain": [
       "Index(['ticket_id', 'agency_name', 'inspector_name', 'violator_name',\n",
       "       'violation_street_number', 'violation_street_name',\n",
       "       'violation_zip_code', 'mailing_address_str_number',\n",
       "       'mailing_address_str_name', 'city', 'state', 'zip_code',\n",
       "       'non_us_str_code', 'country', 'ticket_issued_date', 'hearing_date',\n",
       "       'violation_code', 'violation_description', 'disposition', 'fine_amount',\n",
       "       'admin_fee', 'state_fee', 'late_fee', 'discount_amount',\n",
       "       'clean_up_cost', 'judgment_amount', 'payment_amount', 'balance_due',\n",
       "       'payment_date', 'payment_status', 'collection_status',\n",
       "       'grafitti_status', 'compliance_detail', 'compliance'],\n",
       "      dtype='object')"
      ]
     },
     "execution_count": 35,
     "metadata": {},
     "output_type": "execute_result"
    }
   ],
   "source": [
    "# Задание 12.7\n",
    "\n",
    "# данные train.csv, найдите признак, обозначающий дату, когда был выписан штраф. \n",
    "# Найдите, сколько раз штраф был выписан на выходных и запишите это число в качестве ответа.\n",
    "# Выходными считаются дни под номерами 5 и 6.\n",
    "# 'ticket_issued_date'\n",
    "data.columns"
   ]
  },
  {
   "cell_type": "code",
   "execution_count": 37,
   "metadata": {
    "colab": {
     "base_uri": "https://localhost:8080/"
    },
    "id": "yHkRzpSiRBvg",
    "outputId": "8afa7549-015d-406d-e68f-e5573a5b1d46"
   },
   "outputs": [
    {
     "data": {
      "text/plain": [
       "0   2004-03-16 11:40:00\n",
       "1   2004-04-23 12:30:00\n",
       "Name: ticket_issued_date, dtype: datetime64[ns]"
      ]
     },
     "execution_count": 37,
     "metadata": {},
     "output_type": "execute_result"
    }
   ],
   "source": [
    "ticket_issued_date = pd.to_datetime(data['ticket_issued_date'])\n",
    "\n",
    "ticket_issued_date.head(2)"
   ]
  },
  {
   "cell_type": "code",
   "execution_count": 38,
   "metadata": {
    "colab": {
     "base_uri": "https://localhost:8080/"
    },
    "id": "FFAwb-B6Rb4W",
    "outputId": "955f9baa-7a8d-499c-8a78-0803b8d2e058"
   },
   "outputs": [
    {
     "data": {
      "text/plain": [
       "(1620,)"
      ]
     },
     "execution_count": 38,
     "metadata": {},
     "output_type": "execute_result"
    }
   ],
   "source": [
    "ticket_issued_date[ticket_issued_date.dt.weekday > 4].shape"
   ]
  },
  {
   "cell_type": "code",
   "execution_count": null,
   "metadata": {
    "id": "qMxLRi6eRy9H"
   },
   "outputs": [],
   "source": []
  },
  {
   "cell_type": "markdown",
   "metadata": {
    "id": "ql9I6B3tDLoa"
   },
   "source": [
    "# Визуализация для предобработки"
   ]
  },
  {
   "cell_type": "markdown",
   "metadata": {
    "id": "_UsYyLGPDLou"
   },
   "source": [
    "## Гистограмма"
   ]
  },
  {
   "cell_type": "markdown",
   "metadata": {
    "id": "KfGSEg67DLou"
   },
   "source": [
    "Гистограмма показывает распределение данных. С помощью нее можно увидеть, как распределены данные, есть ли выбросы.  \n",
    "Загрузим данные:"
   ]
  },
  {
   "cell_type": "code",
   "execution_count": null,
   "metadata": {
    "id": "2aS5CREbDLov",
    "outputId": "83f2f8dd-f6be-4fea-c9af-fb423dea8a4b"
   },
   "outputs": [
    {
     "data": {
      "text/html": [
       "<div>\n",
       "<style scoped>\n",
       "    .dataframe tbody tr th:only-of-type {\n",
       "        vertical-align: middle;\n",
       "    }\n",
       "\n",
       "    .dataframe tbody tr th {\n",
       "        vertical-align: top;\n",
       "    }\n",
       "\n",
       "    .dataframe thead th {\n",
       "        text-align: right;\n",
       "    }\n",
       "</style>\n",
       "<table border=\"1\" class=\"dataframe\">\n",
       "  <thead>\n",
       "    <tr style=\"text-align: right;\">\n",
       "      <th></th>\n",
       "      <th>ticket_id</th>\n",
       "      <th>agency_name</th>\n",
       "      <th>inspector_name</th>\n",
       "      <th>violator_name</th>\n",
       "      <th>violation_street_number</th>\n",
       "      <th>violation_street_name</th>\n",
       "      <th>violation_zip_code</th>\n",
       "      <th>mailing_address_str_number</th>\n",
       "      <th>mailing_address_str_name</th>\n",
       "      <th>city</th>\n",
       "      <th>...</th>\n",
       "      <th>clean_up_cost</th>\n",
       "      <th>judgment_amount</th>\n",
       "      <th>payment_amount</th>\n",
       "      <th>balance_due</th>\n",
       "      <th>payment_date</th>\n",
       "      <th>payment_status</th>\n",
       "      <th>collection_status</th>\n",
       "      <th>grafitti_status</th>\n",
       "      <th>compliance_detail</th>\n",
       "      <th>compliance</th>\n",
       "    </tr>\n",
       "  </thead>\n",
       "  <tbody>\n",
       "    <tr>\n",
       "      <th>0</th>\n",
       "      <td>22056</td>\n",
       "      <td>Buildings, Safety Engineering &amp; Env Department</td>\n",
       "      <td>Sims, Martinzie</td>\n",
       "      <td>INVESTMENT INC., MIDWEST MORTGAGE</td>\n",
       "      <td>2900.0</td>\n",
       "      <td>TYLER</td>\n",
       "      <td>NaN</td>\n",
       "      <td>3.0</td>\n",
       "      <td>S. WICKER</td>\n",
       "      <td>CHICAGO</td>\n",
       "      <td>...</td>\n",
       "      <td>0.0</td>\n",
       "      <td>305.0</td>\n",
       "      <td>0.0</td>\n",
       "      <td>305.0</td>\n",
       "      <td>NaN</td>\n",
       "      <td>NO PAYMENT APPLIED</td>\n",
       "      <td>NaN</td>\n",
       "      <td>NaN</td>\n",
       "      <td>non-compliant by no payment</td>\n",
       "      <td>0.0</td>\n",
       "    </tr>\n",
       "    <tr>\n",
       "      <th>1</th>\n",
       "      <td>27586</td>\n",
       "      <td>Buildings, Safety Engineering &amp; Env Department</td>\n",
       "      <td>Williams, Darrin</td>\n",
       "      <td>Michigan, Covenant House</td>\n",
       "      <td>4311.0</td>\n",
       "      <td>CENTRAL</td>\n",
       "      <td>NaN</td>\n",
       "      <td>2959.0</td>\n",
       "      <td>Martin Luther King</td>\n",
       "      <td>Detroit</td>\n",
       "      <td>...</td>\n",
       "      <td>0.0</td>\n",
       "      <td>855.0</td>\n",
       "      <td>780.0</td>\n",
       "      <td>75.0</td>\n",
       "      <td>2005-06-02 00:00:00</td>\n",
       "      <td>PAID IN FULL</td>\n",
       "      <td>NaN</td>\n",
       "      <td>NaN</td>\n",
       "      <td>compliant by late payment within 1 month</td>\n",
       "      <td>1.0</td>\n",
       "    </tr>\n",
       "  </tbody>\n",
       "</table>\n",
       "<p>2 rows × 34 columns</p>\n",
       "</div>"
      ],
      "text/plain": [
       "   ticket_id                                     agency_name  \\\n",
       "0      22056  Buildings, Safety Engineering & Env Department   \n",
       "1      27586  Buildings, Safety Engineering & Env Department   \n",
       "\n",
       "     inspector_name                      violator_name  \\\n",
       "0   Sims, Martinzie  INVESTMENT INC., MIDWEST MORTGAGE   \n",
       "1  Williams, Darrin           Michigan, Covenant House   \n",
       "\n",
       "   violation_street_number violation_street_name  violation_zip_code  \\\n",
       "0                   2900.0                 TYLER                 NaN   \n",
       "1                   4311.0               CENTRAL                 NaN   \n",
       "\n",
       "   mailing_address_str_number mailing_address_str_name     city     ...      \\\n",
       "0                         3.0                S. WICKER  CHICAGO     ...       \n",
       "1                      2959.0       Martin Luther King  Detroit     ...       \n",
       "\n",
       "  clean_up_cost judgment_amount payment_amount balance_due  \\\n",
       "0           0.0           305.0            0.0       305.0   \n",
       "1           0.0           855.0          780.0        75.0   \n",
       "\n",
       "          payment_date      payment_status collection_status grafitti_status  \\\n",
       "0                  NaN  NO PAYMENT APPLIED               NaN             NaN   \n",
       "1  2005-06-02 00:00:00        PAID IN FULL               NaN             NaN   \n",
       "\n",
       "                          compliance_detail  compliance  \n",
       "0               non-compliant by no payment         0.0  \n",
       "1  compliant by late payment within 1 month         1.0  \n",
       "\n",
       "[2 rows x 34 columns]"
      ]
     },
     "execution_count": 1,
     "metadata": {},
     "output_type": "execute_result"
    }
   ],
   "source": [
    "import numpy as np\n",
    "import pandas as pd\n",
    "%matplotlib inline\n",
    "vis_data = pd.read_csv(\"./data/train.csv\", \n",
    "                       encoding = 'ISO-8859-1', \n",
    "                       low_memory = False)\n",
    "vis_data.head(2)"
   ]
  },
  {
   "cell_type": "markdown",
   "metadata": {
    "id": "D6DORjFrDLox"
   },
   "source": [
    "Один из начальных этапов работы с данных - визуализация и поиск проблем, которые можно решить. О визуализации в целом мы поговорим позже, здесь мы обсудим применение в контексте предобработки.  \n",
    "Многие алгоритмы работают лучше, когда на вход принимают данные, распределенные нормально.  \n",
    "Посмотрим на гистограмму какого-нибудь из признаков. Для удобства оставим только значения больше 0.  \n",
    "**Совет** - на деле удаление из рассмотрения значений меньше 0 является не удобством, а необходимостью. Например, если признак обозначает выплату зарплаты, он не может быть меньше 0; тогда любые значения меньше 0 являются выбросами, мы поговорим о них чуть позже. "
   ]
  },
  {
   "cell_type": "code",
   "execution_count": null,
   "metadata": {
    "id": "6Sf8jzz7DLox",
    "outputId": "a3a5ebb4-6168-415c-affd-772fa6686252"
   },
   "outputs": [
    {
     "data": {
      "image/png": "[encoded data removed]",
      "text/plain": [
       "<matplotlib.figure.Figure at 0x116896198>"
      ]
     },
     "metadata": {},
     "output_type": "display_data"
    }
   ],
   "source": [
    "vis_data.balance_due[vis_data.balance_due > 0].hist(bins=100);"
   ]
  },
  {
   "cell_type": "markdown",
   "metadata": {
    "id": "Y7lQbydDDLox"
   },
   "source": [
    "Одним из способов сделать данные более \"нормальными\" является взятие логарифма.  \n",
    "При этом, не должно быть значений, равных 0, иначе метод `np.log` выдаст $-\\infty$."
   ]
  },
  {
   "cell_type": "code",
   "execution_count": null,
   "metadata": {
    "id": "_2UTDfkiDLoy",
    "outputId": "0d36680d-9cdd-4551-a6e4-5db08c7f4e8a",
    "scrolled": false
   },
   "outputs": [
    {
     "data": {
      "image/png": "[encoded data removed]",
      "text/plain": [
       "<matplotlib.figure.Figure at 0x117b35d30>"
      ]
     },
     "metadata": {},
     "output_type": "display_data"
    }
   ],
   "source": [
    "np.log(vis_data.balance_due[vis_data.balance_due > 0]).hist();"
   ]
  },
  {
   "cell_type": "markdown",
   "metadata": {
    "id": "zytrx4EuDLoy"
   },
   "source": [
    "Другим способом является взятие квадратного корня от данных:"
   ]
  },
  {
   "cell_type": "code",
   "execution_count": null,
   "metadata": {
    "id": "uEvl2bJgDLoy",
    "outputId": "9b3ce75f-2399-4712-ed86-a36d6122b36e"
   },
   "outputs": [
    {
     "data": {
      "image/png": "[encoded data removed]",
      "text/plain": [
       "<matplotlib.figure.Figure at 0x117c7d518>"
      ]
     },
     "metadata": {},
     "output_type": "display_data"
    }
   ],
   "source": [
    "np.sqrt(vis_data.balance_due[vis_data.balance_due > 0]).hist();"
   ]
  },
  {
   "cell_type": "markdown",
   "metadata": {
    "id": "jlbk9kOiDLoz"
   },
   "source": [
    "Выше мы явно отсекли значения в данных, равные `0`. Если значения все-таки начинаются с `0`, перед взятием логарифма можно прибавить `1` к данным. Логарифм от `1` превратится в `0`."
   ]
  },
  {
   "cell_type": "code",
   "execution_count": null,
   "metadata": {
    "id": "wiblJyBQDLoz",
    "outputId": "b9480307-4e7d-4b35-84e0-7ba79b80381c"
   },
   "outputs": [
    {
     "data": {
      "image/png": "[encoded data removed]",
      "text/plain": [
       "<matplotlib.figure.Figure at 0x11711bdd8>"
      ]
     },
     "metadata": {},
     "output_type": "display_data"
    }
   ],
   "source": [
    "np.log(vis_data.balance_due[vis_data.balance_due >= 0] + 1).hist();"
   ]
  },
  {
   "cell_type": "markdown",
   "metadata": {
    "id": "U2-lwqswDLoz"
   },
   "source": [
    "## Correlation plot"
   ]
  },
  {
   "cell_type": "markdown",
   "metadata": {
    "id": "ihVvS0xtDLo0"
   },
   "source": [
    "Некоторые признаки сильно скоррелированы друг с другом. Это значит, между этими признаками есть некоторая линейная зависимость. Если зависимость большая - часть скоррелированных признаков (не все) следует убрать из выборки, так как они несут избыточную информацию.  \n",
    "При этом, отсутствие корреляции не означает отсутствие зависимости - между признаками в таком случае может быть сложная нелинейная зависимость.  \n",
    "Для определения такой зависимости, можно посчитать матрицу корреляции для признаков и построить, например, heatmap, чтобы проще было увидеть зависимость.  \n",
    "На главной диагонали этой матрицы будут стоять единицы, потому что для признака считается корреляция с самим собой."
   ]
  },
  {
   "cell_type": "code",
   "execution_count": null,
   "metadata": {
    "id": "qxSU6W3vDLo0"
   },
   "outputs": [],
   "source": [
    "import seaborn as sns"
   ]
  },
  {
   "cell_type": "code",
   "execution_count": null,
   "metadata": {
    "id": "wD0JIMfsDLo0",
    "outputId": "47cd1df4-e554-4301-85bb-dc4220324c14",
    "scrolled": false
   },
   "outputs": [
    {
     "data": {
      "text/html": [
       "<style  type=\"text/css\" >\n",
       "    #T_acbad386_9e39_11e9_b476_9801a7901309 th {\n",
       "          font-size: 7pt;\n",
       "    }    #T_acbad386_9e39_11e9_b476_9801a7901309 td {\n",
       "          padding: 0em 0em;\n",
       "    }    #T_acbad386_9e39_11e9_b476_9801a7901309 th:hover {\n",
       "          font-size: 12pt;\n",
       "    }    #T_acbad386_9e39_11e9_b476_9801a7901309 tr:hover td:hover {\n",
       "          max-width: 200px;\n",
       "          font-size: 12pt;\n",
       "    }    #T_acbad386_9e39_11e9_b476_9801a7901309row0_col0 {\n",
       "            background-color:  #4479bb;\n",
       "            max-width:  80px;\n",
       "            font-size:  10pt;\n",
       "        }    #T_acbad386_9e39_11e9_b476_9801a7901309row0_col1 {\n",
       "            background-color:  #d73c5b;\n",
       "            max-width:  80px;\n",
       "            font-size:  10pt;\n",
       "        }    #T_acbad386_9e39_11e9_b476_9801a7901309row0_col2 {\n",
       "            background-color:  #d73c5b;\n",
       "            max-width:  80px;\n",
       "            font-size:  10pt;\n",
       "        }    #T_acbad386_9e39_11e9_b476_9801a7901309row0_col3 {\n",
       "            background-color:  #d94563;\n",
       "            max-width:  80px;\n",
       "            font-size:  10pt;\n",
       "        }    #T_acbad386_9e39_11e9_b476_9801a7901309row0_col4 {\n",
       "            background-color:  #d8415f;\n",
       "            max-width:  80px;\n",
       "            font-size:  10pt;\n",
       "        }    #T_acbad386_9e39_11e9_b476_9801a7901309row0_col5 {\n",
       "            background-color:  #d94462;\n",
       "            max-width:  80px;\n",
       "            font-size:  10pt;\n",
       "        }    #T_acbad386_9e39_11e9_b476_9801a7901309row0_col6 {\n",
       "            background-color:  #da4966;\n",
       "            max-width:  80px;\n",
       "            font-size:  10pt;\n",
       "        }    #T_acbad386_9e39_11e9_b476_9801a7901309row1_col0 {\n",
       "            background-color:  #d73c5b;\n",
       "            max-width:  80px;\n",
       "            font-size:  10pt;\n",
       "        }    #T_acbad386_9e39_11e9_b476_9801a7901309row1_col1 {\n",
       "            background-color:  #4479bb;\n",
       "            max-width:  80px;\n",
       "            font-size:  10pt;\n",
       "        }    #T_acbad386_9e39_11e9_b476_9801a7901309row1_col2 {\n",
       "            background-color:  #4479bb;\n",
       "            max-width:  80px;\n",
       "            font-size:  10pt;\n",
       "        }    #T_acbad386_9e39_11e9_b476_9801a7901309row1_col3 {\n",
       "            background-color:  #eeacba;\n",
       "            max-width:  80px;\n",
       "            font-size:  10pt;\n",
       "        }    #T_acbad386_9e39_11e9_b476_9801a7901309row1_col4 {\n",
       "            background-color:  #dc526e;\n",
       "            max-width:  80px;\n",
       "            font-size:  10pt;\n",
       "        }    #T_acbad386_9e39_11e9_b476_9801a7901309row1_col5 {\n",
       "            background-color:  #f1b9c4;\n",
       "            max-width:  80px;\n",
       "            font-size:  10pt;\n",
       "        }    #T_acbad386_9e39_11e9_b476_9801a7901309row1_col6 {\n",
       "            background-color:  #eeaab7;\n",
       "            max-width:  80px;\n",
       "            font-size:  10pt;\n",
       "        }    #T_acbad386_9e39_11e9_b476_9801a7901309row2_col0 {\n",
       "            background-color:  #d73c5b;\n",
       "            max-width:  80px;\n",
       "            font-size:  10pt;\n",
       "        }    #T_acbad386_9e39_11e9_b476_9801a7901309row2_col1 {\n",
       "            background-color:  #4479bb;\n",
       "            max-width:  80px;\n",
       "            font-size:  10pt;\n",
       "        }    #T_acbad386_9e39_11e9_b476_9801a7901309row2_col2 {\n",
       "            background-color:  #4479bb;\n",
       "            max-width:  80px;\n",
       "            font-size:  10pt;\n",
       "        }    #T_acbad386_9e39_11e9_b476_9801a7901309row2_col3 {\n",
       "            background-color:  #eeacba;\n",
       "            max-width:  80px;\n",
       "            font-size:  10pt;\n",
       "        }    #T_acbad386_9e39_11e9_b476_9801a7901309row2_col4 {\n",
       "            background-color:  #dc526e;\n",
       "            max-width:  80px;\n",
       "            font-size:  10pt;\n",
       "        }    #T_acbad386_9e39_11e9_b476_9801a7901309row2_col5 {\n",
       "            background-color:  #f1b9c4;\n",
       "            max-width:  80px;\n",
       "            font-size:  10pt;\n",
       "        }    #T_acbad386_9e39_11e9_b476_9801a7901309row2_col6 {\n",
       "            background-color:  #eeaab7;\n",
       "            max-width:  80px;\n",
       "            font-size:  10pt;\n",
       "        }    #T_acbad386_9e39_11e9_b476_9801a7901309row3_col0 {\n",
       "            background-color:  #d83e5d;\n",
       "            max-width:  80px;\n",
       "            font-size:  10pt;\n",
       "        }    #T_acbad386_9e39_11e9_b476_9801a7901309row3_col1 {\n",
       "            background-color:  #eda7b5;\n",
       "            max-width:  80px;\n",
       "            font-size:  10pt;\n",
       "        }    #T_acbad386_9e39_11e9_b476_9801a7901309row3_col2 {\n",
       "            background-color:  #eda7b5;\n",
       "            max-width:  80px;\n",
       "            font-size:  10pt;\n",
       "        }    #T_acbad386_9e39_11e9_b476_9801a7901309row3_col3 {\n",
       "            background-color:  #4479bb;\n",
       "            max-width:  80px;\n",
       "            font-size:  10pt;\n",
       "        }    #T_acbad386_9e39_11e9_b476_9801a7901309row3_col4 {\n",
       "            background-color:  #d73c5b;\n",
       "            max-width:  80px;\n",
       "            font-size:  10pt;\n",
       "        }    #T_acbad386_9e39_11e9_b476_9801a7901309row3_col5 {\n",
       "            background-color:  #477bbc;\n",
       "            max-width:  80px;\n",
       "            font-size:  10pt;\n",
       "        }    #T_acbad386_9e39_11e9_b476_9801a7901309row3_col6 {\n",
       "            background-color:  #5686c1;\n",
       "            max-width:  80px;\n",
       "            font-size:  10pt;\n",
       "        }    #T_acbad386_9e39_11e9_b476_9801a7901309row4_col0 {\n",
       "            background-color:  #d73c5b;\n",
       "            max-width:  80px;\n",
       "            font-size:  10pt;\n",
       "        }    #T_acbad386_9e39_11e9_b476_9801a7901309row4_col1 {\n",
       "            background-color:  #da4b68;\n",
       "            max-width:  80px;\n",
       "            font-size:  10pt;\n",
       "        }    #T_acbad386_9e39_11e9_b476_9801a7901309row4_col2 {\n",
       "            background-color:  #da4b68;\n",
       "            max-width:  80px;\n",
       "            font-size:  10pt;\n",
       "        }    #T_acbad386_9e39_11e9_b476_9801a7901309row4_col3 {\n",
       "            background-color:  #d73d5c;\n",
       "            max-width:  80px;\n",
       "            font-size:  10pt;\n",
       "        }    #T_acbad386_9e39_11e9_b476_9801a7901309row4_col4 {\n",
       "            background-color:  #4479bb;\n",
       "            max-width:  80px;\n",
       "            font-size:  10pt;\n",
       "        }    #T_acbad386_9e39_11e9_b476_9801a7901309row4_col5 {\n",
       "            background-color:  #dc516d;\n",
       "            max-width:  80px;\n",
       "            font-size:  10pt;\n",
       "        }    #T_acbad386_9e39_11e9_b476_9801a7901309row4_col6 {\n",
       "            background-color:  #d73c5b;\n",
       "            max-width:  80px;\n",
       "            font-size:  10pt;\n",
       "        }    #T_acbad386_9e39_11e9_b476_9801a7901309row5_col0 {\n",
       "            background-color:  #d73c5b;\n",
       "            max-width:  80px;\n",
       "            font-size:  10pt;\n",
       "        }    #T_acbad386_9e39_11e9_b476_9801a7901309row5_col1 {\n",
       "            background-color:  #f0b4c0;\n",
       "            max-width:  80px;\n",
       "            font-size:  10pt;\n",
       "        }    #T_acbad386_9e39_11e9_b476_9801a7901309row5_col2 {\n",
       "            background-color:  #f0b4c0;\n",
       "            max-width:  80px;\n",
       "            font-size:  10pt;\n",
       "        }    #T_acbad386_9e39_11e9_b476_9801a7901309row5_col3 {\n",
       "            background-color:  #477bbc;\n",
       "            max-width:  80px;\n",
       "            font-size:  10pt;\n",
       "        }    #T_acbad386_9e39_11e9_b476_9801a7901309row5_col4 {\n",
       "            background-color:  #db4e6a;\n",
       "            max-width:  80px;\n",
       "            font-size:  10pt;\n",
       "        }    #T_acbad386_9e39_11e9_b476_9801a7901309row5_col5 {\n",
       "            background-color:  #4479bb;\n",
       "            max-width:  80px;\n",
       "            font-size:  10pt;\n",
       "        }    #T_acbad386_9e39_11e9_b476_9801a7901309row5_col6 {\n",
       "            background-color:  #5787c2;\n",
       "            max-width:  80px;\n",
       "            font-size:  10pt;\n",
       "        }    #T_acbad386_9e39_11e9_b476_9801a7901309row6_col0 {\n",
       "            background-color:  #d94261;\n",
       "            max-width:  80px;\n",
       "            font-size:  10pt;\n",
       "        }    #T_acbad386_9e39_11e9_b476_9801a7901309row6_col1 {\n",
       "            background-color:  #eca4b3;\n",
       "            max-width:  80px;\n",
       "            font-size:  10pt;\n",
       "        }    #T_acbad386_9e39_11e9_b476_9801a7901309row6_col2 {\n",
       "            background-color:  #eca4b3;\n",
       "            max-width:  80px;\n",
       "            font-size:  10pt;\n",
       "        }    #T_acbad386_9e39_11e9_b476_9801a7901309row6_col3 {\n",
       "            background-color:  #5485c1;\n",
       "            max-width:  80px;\n",
       "            font-size:  10pt;\n",
       "        }    #T_acbad386_9e39_11e9_b476_9801a7901309row6_col4 {\n",
       "            background-color:  #d73c5b;\n",
       "            max-width:  80px;\n",
       "            font-size:  10pt;\n",
       "        }    #T_acbad386_9e39_11e9_b476_9801a7901309row6_col5 {\n",
       "            background-color:  #5787c2;\n",
       "            max-width:  80px;\n",
       "            font-size:  10pt;\n",
       "        }    #T_acbad386_9e39_11e9_b476_9801a7901309row6_col6 {\n",
       "            background-color:  #4479bb;\n",
       "            max-width:  80px;\n",
       "            font-size:  10pt;\n",
       "        }</style>  \n",
       "<table id=\"T_acbad386_9e39_11e9_b476_9801a7901309\" ><caption>Hover to magify</caption> \n",
       "<thead>    <tr> \n",
       "        <th class=\"blank level0\" ></th> \n",
       "        <th class=\"col_heading level0 col0\" >ticket_id</th> \n",
       "        <th class=\"col_heading level0 col1\" >admin_fee</th> \n",
       "        <th class=\"col_heading level0 col2\" >state_fee</th> \n",
       "        <th class=\"col_heading level0 col3\" >late_fee</th> \n",
       "        <th class=\"col_heading level0 col4\" >discount_amount</th> \n",
       "        <th class=\"col_heading level0 col5\" >judgment_amount</th> \n",
       "        <th class=\"col_heading level0 col6\" >balance_due</th> \n",
       "    </tr></thead> \n",
       "<tbody>    <tr> \n",
       "        <th id=\"T_acbad386_9e39_11e9_b476_9801a7901309level0_row0\" class=\"row_heading level0 row0\" >ticket_id</th> \n",
       "        <td id=\"T_acbad386_9e39_11e9_b476_9801a7901309row0_col0\" class=\"data row0 col0\" >1</td> \n",
       "        <td id=\"T_acbad386_9e39_11e9_b476_9801a7901309row0_col1\" class=\"data row0 col1\" >-0.038</td> \n",
       "        <td id=\"T_acbad386_9e39_11e9_b476_9801a7901309row0_col2\" class=\"data row0 col2\" >-0.038</td> \n",
       "        <td id=\"T_acbad386_9e39_11e9_b476_9801a7901309row0_col3\" class=\"data row0 col3\" >-0.0057</td> \n",
       "        <td id=\"T_acbad386_9e39_11e9_b476_9801a7901309row0_col4\" class=\"data row0 col4\" >-0.02</td> \n",
       "        <td id=\"T_acbad386_9e39_11e9_b476_9801a7901309row0_col5\" class=\"data row0 col5\" >-0.013</td> \n",
       "        <td id=\"T_acbad386_9e39_11e9_b476_9801a7901309row0_col6\" class=\"data row0 col6\" >0.0037</td> \n",
       "    </tr>    <tr> \n",
       "        <th id=\"T_acbad386_9e39_11e9_b476_9801a7901309level0_row1\" class=\"row_heading level0 row1\" >admin_fee</th> \n",
       "        <td id=\"T_acbad386_9e39_11e9_b476_9801a7901309row1_col0\" class=\"data row1 col0\" >-0.038</td> \n",
       "        <td id=\"T_acbad386_9e39_11e9_b476_9801a7901309row1_col1\" class=\"data row1 col1\" >1</td> \n",
       "        <td id=\"T_acbad386_9e39_11e9_b476_9801a7901309row1_col2\" class=\"data row1 col2\" >1</td> \n",
       "        <td id=\"T_acbad386_9e39_11e9_b476_9801a7901309row1_col3\" class=\"data row1 col3\" >0.29</td> \n",
       "        <td id=\"T_acbad386_9e39_11e9_b476_9801a7901309row1_col4\" class=\"data row1 col4\" >0.027</td> \n",
       "        <td id=\"T_acbad386_9e39_11e9_b476_9801a7901309row1_col5\" class=\"data row1 col5\" >0.32</td> \n",
       "        <td id=\"T_acbad386_9e39_11e9_b476_9801a7901309row1_col6\" class=\"data row1 col6\" >0.28</td> \n",
       "    </tr>    <tr> \n",
       "        <th id=\"T_acbad386_9e39_11e9_b476_9801a7901309level0_row2\" class=\"row_heading level0 row2\" >state_fee</th> \n",
       "        <td id=\"T_acbad386_9e39_11e9_b476_9801a7901309row2_col0\" class=\"data row2 col0\" >-0.038</td> \n",
       "        <td id=\"T_acbad386_9e39_11e9_b476_9801a7901309row2_col1\" class=\"data row2 col1\" >1</td> \n",
       "        <td id=\"T_acbad386_9e39_11e9_b476_9801a7901309row2_col2\" class=\"data row2 col2\" >1</td> \n",
       "        <td id=\"T_acbad386_9e39_11e9_b476_9801a7901309row2_col3\" class=\"data row2 col3\" >0.29</td> \n",
       "        <td id=\"T_acbad386_9e39_11e9_b476_9801a7901309row2_col4\" class=\"data row2 col4\" >0.027</td> \n",
       "        <td id=\"T_acbad386_9e39_11e9_b476_9801a7901309row2_col5\" class=\"data row2 col5\" >0.32</td> \n",
       "        <td id=\"T_acbad386_9e39_11e9_b476_9801a7901309row2_col6\" class=\"data row2 col6\" >0.28</td> \n",
       "    </tr>    <tr> \n",
       "        <th id=\"T_acbad386_9e39_11e9_b476_9801a7901309level0_row3\" class=\"row_heading level0 row3\" >late_fee</th> \n",
       "        <td id=\"T_acbad386_9e39_11e9_b476_9801a7901309row3_col0\" class=\"data row3 col0\" >-0.0057</td> \n",
       "        <td id=\"T_acbad386_9e39_11e9_b476_9801a7901309row3_col1\" class=\"data row3 col1\" >0.29</td> \n",
       "        <td id=\"T_acbad386_9e39_11e9_b476_9801a7901309row3_col2\" class=\"data row3 col2\" >0.29</td> \n",
       "        <td id=\"T_acbad386_9e39_11e9_b476_9801a7901309row3_col3\" class=\"data row3 col3\" >1</td> \n",
       "        <td id=\"T_acbad386_9e39_11e9_b476_9801a7901309row3_col4\" class=\"data row3 col4\" >-0.014</td> \n",
       "        <td id=\"T_acbad386_9e39_11e9_b476_9801a7901309row3_col5\" class=\"data row3 col5\" >0.99</td> \n",
       "        <td id=\"T_acbad386_9e39_11e9_b476_9801a7901309row3_col6\" class=\"data row3 col6\" >0.95</td> \n",
       "    </tr>    <tr> \n",
       "        <th id=\"T_acbad386_9e39_11e9_b476_9801a7901309level0_row4\" class=\"row_heading level0 row4\" >discount_amount</th> \n",
       "        <td id=\"T_acbad386_9e39_11e9_b476_9801a7901309row4_col0\" class=\"data row4 col0\" >-0.02</td> \n",
       "        <td id=\"T_acbad386_9e39_11e9_b476_9801a7901309row4_col1\" class=\"data row4 col1\" >0.027</td> \n",
       "        <td id=\"T_acbad386_9e39_11e9_b476_9801a7901309row4_col2\" class=\"data row4 col2\" >0.027</td> \n",
       "        <td id=\"T_acbad386_9e39_11e9_b476_9801a7901309row4_col3\" class=\"data row4 col3\" >-0.014</td> \n",
       "        <td id=\"T_acbad386_9e39_11e9_b476_9801a7901309row4_col4\" class=\"data row4 col4\" >1</td> \n",
       "        <td id=\"T_acbad386_9e39_11e9_b476_9801a7901309row4_col5\" class=\"data row4 col5\" >0.041</td> \n",
       "        <td id=\"T_acbad386_9e39_11e9_b476_9801a7901309row4_col6\" class=\"data row4 col6\" >-0.018</td> \n",
       "    </tr>    <tr> \n",
       "        <th id=\"T_acbad386_9e39_11e9_b476_9801a7901309level0_row5\" class=\"row_heading level0 row5\" >judgment_amount</th> \n",
       "        <td id=\"T_acbad386_9e39_11e9_b476_9801a7901309row5_col0\" class=\"data row5 col0\" >-0.013</td> \n",
       "        <td id=\"T_acbad386_9e39_11e9_b476_9801a7901309row5_col1\" class=\"data row5 col1\" >0.32</td> \n",
       "        <td id=\"T_acbad386_9e39_11e9_b476_9801a7901309row5_col2\" class=\"data row5 col2\" >0.32</td> \n",
       "        <td id=\"T_acbad386_9e39_11e9_b476_9801a7901309row5_col3\" class=\"data row5 col3\" >0.99</td> \n",
       "        <td id=\"T_acbad386_9e39_11e9_b476_9801a7901309row5_col4\" class=\"data row5 col4\" >0.041</td> \n",
       "        <td id=\"T_acbad386_9e39_11e9_b476_9801a7901309row5_col5\" class=\"data row5 col5\" >1</td> \n",
       "        <td id=\"T_acbad386_9e39_11e9_b476_9801a7901309row5_col6\" class=\"data row5 col6\" >0.94</td> \n",
       "    </tr>    <tr> \n",
       "        <th id=\"T_acbad386_9e39_11e9_b476_9801a7901309level0_row6\" class=\"row_heading level0 row6\" >balance_due</th> \n",
       "        <td id=\"T_acbad386_9e39_11e9_b476_9801a7901309row6_col0\" class=\"data row6 col0\" >0.0037</td> \n",
       "        <td id=\"T_acbad386_9e39_11e9_b476_9801a7901309row6_col1\" class=\"data row6 col1\" >0.28</td> \n",
       "        <td id=\"T_acbad386_9e39_11e9_b476_9801a7901309row6_col2\" class=\"data row6 col2\" >0.28</td> \n",
       "        <td id=\"T_acbad386_9e39_11e9_b476_9801a7901309row6_col3\" class=\"data row6 col3\" >0.95</td> \n",
       "        <td id=\"T_acbad386_9e39_11e9_b476_9801a7901309row6_col4\" class=\"data row6 col4\" >-0.018</td> \n",
       "        <td id=\"T_acbad386_9e39_11e9_b476_9801a7901309row6_col5\" class=\"data row6 col5\" >0.94</td> \n",
       "        <td id=\"T_acbad386_9e39_11e9_b476_9801a7901309row6_col6\" class=\"data row6 col6\" >1</td> \n",
       "    </tr></tbody> \n",
       "</table> "
      ],
      "text/plain": [
       "<pandas.io.formats.style.Styler at 0x117d20dd8>"
      ]
     },
     "execution_count": 11,
     "metadata": {},
     "output_type": "execute_result"
    }
   ],
   "source": [
    "corr = vis_data.drop(['violation_zip_code', 'payment_amount', \n",
    "                      'clean_up_cost', \n",
    "                      'violation_street_number'], axis=1).\\\n",
    "                dropna(axis=1).\\\n",
    "                corr()\n",
    "cmap = sns.diverging_palette(5, 250, as_cmap=True)\n",
    "\n",
    "def magnify():\n",
    "    return [dict(selector=\"th\",\n",
    "                 props=[(\"font-size\", \"7pt\")]),\n",
    "            dict(selector=\"td\",\n",
    "                 props=[('padding', \"0em 0em\")]),\n",
    "            dict(selector=\"th:hover\",\n",
    "                 props=[(\"font-size\", \"12pt\")]),\n",
    "            dict(selector=\"tr:hover td:hover\",\n",
    "                 props=[('max-width', '200px'),\n",
    "                        ('font-size', '12pt')])\n",
    "]\n",
    "\n",
    "corr.style.background_gradient(cmap, axis=1)\\\n",
    "    .set_properties(**{'max-width': '80px', 'font-size': '10pt'})\\\n",
    "    .set_caption(\"Hover to magify\")\\\n",
    "    .set_precision(2)\\\n",
    "    .set_table_styles(magnify())"
   ]
  },
  {
   "cell_type": "code",
   "execution_count": null,
   "metadata": {
    "id": "kKC14_Y_DLo3"
   },
   "outputs": [],
   "source": []
  },
  {
   "cell_type": "markdown",
   "metadata": {
    "id": "-q7rdACrMNa5"
   },
   "source": [
    "# Feature engineering"
   ]
  },
  {
   "cell_type": "markdown",
   "metadata": {
    "id": "8g19HFs3MNa7"
   },
   "source": [
    "Создание новых признаков - трудоемкий процесс, который позволяет значительно повысить точность модели при правильном использовании методов создания новых признаков. Самое большое повышение точности обычно случается после того, как Data Science разработчик погружается в предметную область задачи, потому что это позволяет создавать новые признаки осмысленно.  \n",
    "Несмотря на это, есть автоматические/полуавтоматические методы создания новых признаков, о которых мы поговорим ниже.  \n",
    "Для исследования темы создания новых признаков воспользуемся датасетом `vis_data` и дополним его новой информацией:"
   ]
  },
  {
   "cell_type": "code",
   "execution_count": null,
   "metadata": {
    "id": "7if-LFtiMNbG"
   },
   "outputs": [],
   "source": [
    "import numpy as np\n",
    "import pandas as pd\n",
    "%matplotlib inline\n",
    "\n",
    "vis_data = pd.read_csv(\"./data/train.csv\", \n",
    "                       encoding = 'ISO-8859-1', \n",
    "                       low_memory = False)\n",
    "vis_data = vis_data.drop(['violation_zip_code', 'clean_up_cost'], axis=1)\n",
    "latlons = pd.read_csv(\"./data/latlons.csv\")\n",
    "vis_data = pd.concat([vis_data, latlons], axis=1)"
   ]
  },
  {
   "cell_type": "markdown",
   "metadata": {
    "id": "Pn6QyDi6MNbH"
   },
   "source": [
    "## Ручное создание признаков\n",
    "\n",
    "Ручное создание признаков требует погружения в предметную область задачи и не всегда гарантирует положительный результат.  \n",
    "Часто данные приходят без пояснения и есть только сами табличные данные и, если повезет, названия признаков. Нам повезло. Посмотрим на данные и на названия признаков:"
   ]
  },
  {
   "cell_type": "code",
   "execution_count": null,
   "metadata": {
    "id": "HQD1QfCDMNbI",
    "outputId": "d44d4c75-63a5-4d0f-b40a-7b466e4619f9",
    "scrolled": true
   },
   "outputs": [
    {
     "data": {
      "text/html": [
       "<div>\n",
       "<style scoped>\n",
       "    .dataframe tbody tr th:only-of-type {\n",
       "        vertical-align: middle;\n",
       "    }\n",
       "\n",
       "    .dataframe tbody tr th {\n",
       "        vertical-align: top;\n",
       "    }\n",
       "\n",
       "    .dataframe thead th {\n",
       "        text-align: right;\n",
       "    }\n",
       "</style>\n",
       "<table border=\"1\" class=\"dataframe\">\n",
       "  <thead>\n",
       "    <tr style=\"text-align: right;\">\n",
       "      <th></th>\n",
       "      <th>ticket_id</th>\n",
       "      <th>agency_name</th>\n",
       "      <th>inspector_name</th>\n",
       "      <th>violator_name</th>\n",
       "      <th>violation_street_number</th>\n",
       "      <th>violation_street_name</th>\n",
       "      <th>mailing_address_str_number</th>\n",
       "      <th>mailing_address_str_name</th>\n",
       "      <th>city</th>\n",
       "      <th>state</th>\n",
       "      <th>...</th>\n",
       "      <th>balance_due</th>\n",
       "      <th>payment_date</th>\n",
       "      <th>payment_status</th>\n",
       "      <th>collection_status</th>\n",
       "      <th>grafitti_status</th>\n",
       "      <th>compliance_detail</th>\n",
       "      <th>compliance</th>\n",
       "      <th>address</th>\n",
       "      <th>lat</th>\n",
       "      <th>lon</th>\n",
       "    </tr>\n",
       "  </thead>\n",
       "  <tbody>\n",
       "    <tr>\n",
       "      <th>0</th>\n",
       "      <td>22056</td>\n",
       "      <td>Buildings, Safety Engineering &amp; Env Department</td>\n",
       "      <td>Sims, Martinzie</td>\n",
       "      <td>INVESTMENT INC., MIDWEST MORTGAGE</td>\n",
       "      <td>2900.0</td>\n",
       "      <td>TYLER</td>\n",
       "      <td>3.0</td>\n",
       "      <td>S. WICKER</td>\n",
       "      <td>CHICAGO</td>\n",
       "      <td>IL</td>\n",
       "      <td>...</td>\n",
       "      <td>305.0</td>\n",
       "      <td>NaN</td>\n",
       "      <td>NO PAYMENT APPLIED</td>\n",
       "      <td>NaN</td>\n",
       "      <td>NaN</td>\n",
       "      <td>non-compliant by no payment</td>\n",
       "      <td>0.0</td>\n",
       "      <td>4300 rosa parks blvd, Detroit MI 48208</td>\n",
       "      <td>42.346169</td>\n",
       "      <td>-83.079962</td>\n",
       "    </tr>\n",
       "    <tr>\n",
       "      <th>1</th>\n",
       "      <td>27586</td>\n",
       "      <td>Buildings, Safety Engineering &amp; Env Department</td>\n",
       "      <td>Williams, Darrin</td>\n",
       "      <td>Michigan, Covenant House</td>\n",
       "      <td>4311.0</td>\n",
       "      <td>CENTRAL</td>\n",
       "      <td>2959.0</td>\n",
       "      <td>Martin Luther King</td>\n",
       "      <td>Detroit</td>\n",
       "      <td>MI</td>\n",
       "      <td>...</td>\n",
       "      <td>75.0</td>\n",
       "      <td>2005-06-02 00:00:00</td>\n",
       "      <td>PAID IN FULL</td>\n",
       "      <td>NaN</td>\n",
       "      <td>NaN</td>\n",
       "      <td>compliant by late payment within 1 month</td>\n",
       "      <td>1.0</td>\n",
       "      <td>14512 sussex, Detroit MI</td>\n",
       "      <td>42.394657</td>\n",
       "      <td>-83.194265</td>\n",
       "    </tr>\n",
       "  </tbody>\n",
       "</table>\n",
       "<p>2 rows × 35 columns</p>\n",
       "</div>"
      ],
      "text/plain": [
       "   ticket_id                                     agency_name  \\\n",
       "0      22056  Buildings, Safety Engineering & Env Department   \n",
       "1      27586  Buildings, Safety Engineering & Env Department   \n",
       "\n",
       "     inspector_name                      violator_name  \\\n",
       "0   Sims, Martinzie  INVESTMENT INC., MIDWEST MORTGAGE   \n",
       "1  Williams, Darrin           Michigan, Covenant House   \n",
       "\n",
       "   violation_street_number violation_street_name  mailing_address_str_number  \\\n",
       "0                   2900.0                 TYLER                         3.0   \n",
       "1                   4311.0               CENTRAL                      2959.0   \n",
       "\n",
       "  mailing_address_str_name     city state    ...     balance_due  \\\n",
       "0                S. WICKER  CHICAGO    IL    ...           305.0   \n",
       "1       Martin Luther King  Detroit    MI    ...            75.0   \n",
       "\n",
       "          payment_date      payment_status collection_status grafitti_status  \\\n",
       "0                  NaN  NO PAYMENT APPLIED               NaN             NaN   \n",
       "1  2005-06-02 00:00:00        PAID IN FULL               NaN             NaN   \n",
       "\n",
       "                          compliance_detail compliance  \\\n",
       "0               non-compliant by no payment        0.0   \n",
       "1  compliant by late payment within 1 month        1.0   \n",
       "\n",
       "                                  address        lat        lon  \n",
       "0  4300 rosa parks blvd, Detroit MI 48208  42.346169 -83.079962  \n",
       "1                14512 sussex, Detroit MI  42.394657 -83.194265  \n",
       "\n",
       "[2 rows x 35 columns]"
      ]
     },
     "execution_count": 2,
     "metadata": {},
     "output_type": "execute_result"
    }
   ],
   "source": [
    "vis_data.head(2)"
   ]
  },
  {
   "cell_type": "code",
   "execution_count": null,
   "metadata": {
    "id": "unw5MPmjMNbJ",
    "outputId": "9f803448-8351-40ba-ce7f-d886bb23387f"
   },
   "outputs": [
    {
     "data": {
      "text/plain": [
       "Index(['ticket_id', 'agency_name', 'inspector_name', 'violator_name',\n",
       "       'violation_street_number', 'violation_street_name',\n",
       "       'mailing_address_str_number', 'mailing_address_str_name', 'city',\n",
       "       'state', 'zip_code', 'non_us_str_code', 'country', 'ticket_issued_date',\n",
       "       'hearing_date', 'violation_code', 'violation_description',\n",
       "       'disposition', 'fine_amount', 'admin_fee', 'state_fee', 'late_fee',\n",
       "       'discount_amount', 'judgment_amount', 'payment_amount', 'balance_due',\n",
       "       'payment_date', 'payment_status', 'collection_status',\n",
       "       'grafitti_status', 'compliance_detail', 'compliance', 'address', 'lat',\n",
       "       'lon'],\n",
       "      dtype='object')"
      ]
     },
     "execution_count": 3,
     "metadata": {},
     "output_type": "execute_result"
    }
   ],
   "source": [
    "vis_data.columns"
   ]
  },
  {
   "cell_type": "markdown",
   "metadata": {
    "id": "s-NxSIGYMNbK"
   },
   "source": [
    "Судя по названию переменных, это данные о нарушителях, которые должны платить штраф за какое-то правонарушение.  \n",
    "Есть переменная compliance, которая принимает значения `0`, `1` и `None`. Так как описания нет, мы можем предположить, что 0 - нарушитель заплатил штраф, 1 - не заплатил. Что в данном контексте означает None понять трудно, возможно, это пропуски, которые следует просто выбросить.  \n",
    "Кроме изначальных признаков нам также дали ширину и долготу. Также, есть признак `city`. Что можно сделать с таким набором признаков? Например, можно посмотреть расстояние от точки правонарушения до центра города, в котором произошло нарушение. Давайте сначала исследуем, какие города представлены в выборке:"
   ]
  },
  {
   "cell_type": "code",
   "execution_count": null,
   "metadata": {
    "id": "G0IpntmnMNbK",
    "outputId": "d532bbee-3491-45fd-9c2c-6bb4e1bf2527",
    "scrolled": true
   },
   "outputs": [
    {
     "data": {
      "text/plain": [
       "DETROIT             136936\n",
       "SOUTHFIELD           13436\n",
       "Detroit              10496\n",
       "detroit               4183\n",
       "DEARBORN              3637\n",
       "FARMINGTON HILLS      2329\n",
       "OAK PARK              2216\n",
       "WARREN                2000\n",
       "DET                   1657\n",
       "W. BLOOMFIELD         1635\n",
       "Name: city, dtype: int64"
      ]
     },
     "execution_count": 4,
     "metadata": {},
     "output_type": "execute_result"
    }
   ],
   "source": [
    "# Можно посмотреть на value_counts, не ограничивая вывод, \n",
    "# чтобы увидеть, как много там разных значений\n",
    "vis_data.city.value_counts()[:10]"
   ]
  },
  {
   "cell_type": "markdown",
   "metadata": {
    "id": "FpdNYv08MNbK"
   },
   "source": [
    "Видно, что подавляюще большую часть значений составляет `DETROIT`. Также, чуть ниже видны `Detroit` и `detroit`.  \n",
    "Название города с самым большим количеством нарушений записано по-разному в данных. Возможно, некоторые другие города тоже записаны в разном регистре.  "
   ]
  },
  {
   "cell_type": "code",
   "execution_count": null,
   "metadata": {
    "id": "sOP3-1_rMNbL"
   },
   "outputs": [],
   "source": [
    "vis_data.city = vis_data.city.apply(lambda x: x.lower())"
   ]
  },
  {
   "cell_type": "code",
   "execution_count": null,
   "metadata": {
    "id": "g30Et4x1MNbL",
    "outputId": "7dec7fb5-0123-4448-b1c1-48d2f7ecabbe"
   },
   "outputs": [
    {
     "data": {
      "text/plain": [
       "detroit             151621\n",
       "southfield           14760\n",
       "dearborn              4017\n",
       "farmington hills      2508\n",
       "oak park              2432\n",
       "warren                2150\n",
       "det                   1928\n",
       "livonia               1798\n",
       "w. bloomfield         1795\n",
       "redford               1718\n",
       "Name: city, dtype: int64"
      ]
     },
     "execution_count": 6,
     "metadata": {},
     "output_type": "execute_result"
    }
   ],
   "source": [
    "vis_data.city.value_counts()[:10]"
   ]
  },
  {
   "cell_type": "markdown",
   "metadata": {
    "id": "QrbZLrXuMNbP"
   },
   "source": [
    "Теперь мы более точно видим, что большинство преступлений (из представленных в выборке) совершается в Детройте.  \n",
    "Возможно, информативным признаком будет расстояние от места правонарушения до центра Детройта.  \n",
    "Теперь давайте найдем для каждого нарушения, для которого есть широта и долгота, его расстояние до центра Детройта со следующими координатами:\n",
    " - широта: 42.331429\n",
    " - долгота: -83.045753"
   ]
  },
  {
   "cell_type": "code",
   "execution_count": null,
   "metadata": {
    "id": "2ajkdjrjMNbQ"
   },
   "outputs": [],
   "source": [
    "from math import radians, sin, cos, asin, sqrt\n",
    "\n",
    "def haversine(lon1, lat1, lon2, lat2):\n",
    "    lon1, lat1, lon2, lat2 = map(radians, [lon1, lat1, lon2, lat2])\n",
    "    dlon = lon2 - lon1\n",
    "    dlat = lat2 - lat1\n",
    "    a = sin(dlat/2)**2 + cos(lat1) * cos(lat2) * sin(dlon/2) ** 2\n",
    "    c = 2 * asin(sqrt(a))\n",
    "    earth_radius = 6371 \n",
    "    return c * earth_radius\n",
    "\n",
    "vis_data['distance'] = vis_data.apply(lambda row: \n",
    "                                      haversine(lon1 = -83.045753, \n",
    "                                                lat1 = 42.331429,\n",
    "                                                lon2 = row['lon'], \n",
    "                                                lat2 = row['lat']), \n",
    "                                      axis=1)"
   ]
  },
  {
   "cell_type": "code",
   "execution_count": null,
   "metadata": {
    "id": "TC92ZwpSMNbQ",
    "outputId": "b4de580f-e054-4c50-c575-6d70093e4e92",
    "scrolled": true
   },
   "outputs": [
    {
     "data": {
      "image/png": "[encoded data removed]",
      "text/plain": [
       "<matplotlib.figure.Figure at 0x11a3a8630>"
      ]
     },
     "metadata": {},
     "output_type": "display_data"
    }
   ],
   "source": [
    "vis_data['distance'][vis_data['distance'] < 100].hist(bins=100);"
   ]
  },
  {
   "cell_type": "markdown",
   "metadata": {
    "id": "sI6UuCOSMNbQ"
   },
   "source": [
    "## Создание полиномиальных признаков\n",
    "\n",
    "Теперь рассмотрим более механические и менее интеллектуальные способы создать признаки. Новые признаки можно создавать, просто перемножением и делением старых признаков друг на друга.  \n",
    "Кроме этого, можно брать один признак и возводить его, например, в квадрат или брать из него корень. То есть, в более общем виде, можно создать новый признак из старого, возведя все значения старого признака в дробную степень."
   ]
  },
  {
   "cell_type": "code",
   "execution_count": null,
   "metadata": {
    "id": "yZt_ioncMNbR"
   },
   "outputs": [],
   "source": [
    "from sklearn.preprocessing import PolynomialFeatures"
   ]
  },
  {
   "cell_type": "markdown",
   "metadata": {
    "id": "vJifCxO5MNbR"
   },
   "source": [
    "Класс `PolynomialFeatures` из библиотеки `sklearn` принимает на вход набор признаков и на выходе отдает полиномиальные признаки, сгенерированные на основе входных и со степенью меньше либо равной указанной.  \n",
    "Например, для признаков `[a, b]` и степени `2` он вернет `[1, a, b, a^2, ab, b^2]`."
   ]
  },
  {
   "cell_type": "code",
   "execution_count": null,
   "metadata": {
    "id": "vRTZ4shoMNbR"
   },
   "outputs": [],
   "source": [
    "pf = PolynomialFeatures(2)"
   ]
  },
  {
   "cell_type": "code",
   "execution_count": null,
   "metadata": {
    "id": "fXvkaQUjMNbS",
    "outputId": "ea823b5e-b446-4141-ef15-4887fbf02a6e"
   },
   "outputs": [
    {
     "data": {
      "text/plain": [
       "array([[1.0000e+00, 3.0500e+02, 0.0000e+00, 9.3025e+04, 0.0000e+00,\n",
       "        0.0000e+00],\n",
       "       [1.0000e+00, 7.5000e+01, 7.8000e+02, 5.6250e+03, 5.8500e+04,\n",
       "        6.0840e+05],\n",
       "       [1.0000e+00, 0.0000e+00, 0.0000e+00, 0.0000e+00, 0.0000e+00,\n",
       "        0.0000e+00],\n",
       "       ...,\n",
       "       [1.0000e+00, 0.0000e+00, 0.0000e+00, 0.0000e+00, 0.0000e+00,\n",
       "        0.0000e+00],\n",
       "       [1.0000e+00, 0.0000e+00, 0.0000e+00, 0.0000e+00, 0.0000e+00,\n",
       "        0.0000e+00],\n",
       "       [1.0000e+00, 0.0000e+00, 0.0000e+00, 0.0000e+00, 0.0000e+00,\n",
       "        0.0000e+00]])"
      ]
     },
     "execution_count": 11,
     "metadata": {},
     "output_type": "execute_result"
    }
   ],
   "source": [
    "poly_features = pf.fit_transform(vis_data[['balance_due', 'payment_amount']])\n",
    "poly_features"
   ]
  },
  {
   "cell_type": "code",
   "execution_count": null,
   "metadata": {
    "id": "EwuO_gZ0MNbS",
    "outputId": "c3940073-bff0-4919-bd87-233869d1592f"
   },
   "outputs": [
    {
     "data": {
      "text/plain": [
       "(250306, 6)"
      ]
     },
     "execution_count": 12,
     "metadata": {},
     "output_type": "execute_result"
    }
   ],
   "source": [
    "poly_features.shape"
   ]
  },
  {
   "cell_type": "markdown",
   "metadata": {
    "id": "N_7q3nK3MNbS"
   },
   "source": [
    "## Dummy-переменные\n",
    "\n",
    "Когда мы говорим о категориальных признаках, есть два основных случая:\n",
    " - Категориальный признак содержит строки, никакая модель не примет их на вход, потребуется некоторое преобразование\n",
    " - Категориальный признак содержит числа. В таком случае, в принципе, можно никак не трогать этот признак, но это будет неправильно с точки зрения логики обучения модели.\n",
    " \n",
    "Рассмотрим второй случай: есть признак \"тип животного\", который принимает `n` различных значений: значение 0, если животное - кошка, 1 - если тигр, 2 - если пантера. В отличие от `continuous` признаков, то есть, имеющих некоторый порядок, категориальные признаки такого порядка не имеют - мы не можем строго сравнить тигра и пантеру, это просто разные сущности. Некоторые алгоритмы могут работать с категориальными признаками, некоторые - нет.  \n",
    "Естественной предобработкой для таких признаков является создание dummy-переменных на основе категориального признака, то есть, создание `n` признаков-индикаторов. Каждый из индикаторов равен 1 тогда, когда в изначальном примере выбрано соответствующее значение и 0 иначе. \n",
    " \n",
    "\n",
    "Преобразуем признак `state` в dummy-переменные и посмотрим его `shape`:"
   ]
  },
  {
   "cell_type": "code",
   "execution_count": null,
   "metadata": {
    "id": "NoIwTSBFMNbT",
    "outputId": "792ec035-3ce5-4ff9-b64a-97cce75e9685"
   },
   "outputs": [
    {
     "data": {
      "text/plain": [
       "(250306, 59)"
      ]
     },
     "execution_count": 13,
     "metadata": {},
     "output_type": "execute_result"
    }
   ],
   "source": [
    "pd.get_dummies(vis_data.state).shape"
   ]
  },
  {
   "cell_type": "markdown",
   "metadata": {
    "id": "UJls8JxDMNbT"
   },
   "source": [
    "Теперь преобразуем признак `city` в dummy-переменные. Для этого сначала требуется сделать небольшую предобработку, чтобы сократить количество уникальных значений в этом признаке. Для начала, найдем города, которые описывают большинство (`90%`) примеров:"
   ]
  },
  {
   "cell_type": "code",
   "execution_count": null,
   "metadata": {
    "id": "deYC7BUxMNbU"
   },
   "outputs": [],
   "source": [
    "cities_with_freqs = list(vis_data.city.value_counts())"
   ]
  },
  {
   "cell_type": "code",
   "execution_count": null,
   "metadata": {
    "id": "Vb2ZL2cWMNbU",
    "outputId": "ed7dde16-a65e-4907-8a12-7d9c898fb038"
   },
   "outputs": [
    {
     "data": {
      "text/plain": [
       "14"
      ]
     },
     "execution_count": 17,
     "metadata": {},
     "output_type": "execute_result"
    }
   ],
   "source": [
    "top_cities_count = int(np.percentile(cities_with_freqs, 90))\n",
    "top_cities_count"
   ]
  },
  {
   "cell_type": "markdown",
   "metadata": {
    "id": "ZEogsBTeMNbU"
   },
   "source": [
    "Теперь оставим только этот топ городов, остальные города назовем `other`:"
   ]
  },
  {
   "cell_type": "code",
   "execution_count": null,
   "metadata": {
    "id": "LgKTbTBDMNbV"
   },
   "outputs": [],
   "source": [
    "all_cities = vis_data.city.value_counts().index\n",
    "top_cities = list(all_cities)[:top_cities_count]\n",
    "cities_to_throw_away = list(set(all_cities) - set(top_cities))\n",
    "vis_data.loc[vis_data['city'].isin(cities_to_throw_away), \n",
    "             'city'] = 'other'"
   ]
  },
  {
   "cell_type": "markdown",
   "metadata": {
    "id": "MKoF4YNaMNbV"
   },
   "source": [
    "Теперь количество уникальных значений в признаке `city` сократилось до:"
   ]
  },
  {
   "cell_type": "code",
   "execution_count": null,
   "metadata": {
    "id": "A9Y7aKpBMNbV",
    "outputId": "b6b37e85-b52b-4db3-c7ae-ed2d60b5f9af"
   },
   "outputs": [
    {
     "data": {
      "text/plain": [
       "15"
      ]
     },
     "execution_count": 19,
     "metadata": {},
     "output_type": "execute_result"
    }
   ],
   "source": [
    "len(vis_data.city.value_counts())"
   ]
  },
  {
   "cell_type": "markdown",
   "metadata": {
    "id": "HBVNuNEaMNbW"
   },
   "source": [
    "Можем создать dummy-признаки для этой переменной:"
   ]
  },
  {
   "cell_type": "code",
   "execution_count": null,
   "metadata": {
    "id": "L6kM6hCZMNbW",
    "outputId": "22de5da7-7046-4728-cd44-ef06128e41ef"
   },
   "outputs": [
    {
     "data": {
      "text/html": [
       "<div>\n",
       "<style scoped>\n",
       "    .dataframe tbody tr th:only-of-type {\n",
       "        vertical-align: middle;\n",
       "    }\n",
       "\n",
       "    .dataframe tbody tr th {\n",
       "        vertical-align: top;\n",
       "    }\n",
       "\n",
       "    .dataframe thead th {\n",
       "        text-align: right;\n",
       "    }\n",
       "</style>\n",
       "<table border=\"1\" class=\"dataframe\">\n",
       "  <thead>\n",
       "    <tr style=\"text-align: right;\">\n",
       "      <th></th>\n",
       "      <th>dearborn</th>\n",
       "      <th>det</th>\n",
       "      <th>detroit</th>\n",
       "      <th>eastpointe</th>\n",
       "      <th>farmington hills</th>\n",
       "      <th>livonia</th>\n",
       "      <th>oak park</th>\n",
       "      <th>other</th>\n",
       "      <th>redford</th>\n",
       "      <th>southfield</th>\n",
       "      <th>troy</th>\n",
       "      <th>w. bloomfield</th>\n",
       "      <th>warren</th>\n",
       "      <th>west bloomfield</th>\n",
       "    </tr>\n",
       "  </thead>\n",
       "  <tbody>\n",
       "    <tr>\n",
       "      <th>0</th>\n",
       "      <td>0</td>\n",
       "      <td>0</td>\n",
       "      <td>0</td>\n",
       "      <td>0</td>\n",
       "      <td>0</td>\n",
       "      <td>0</td>\n",
       "      <td>0</td>\n",
       "      <td>1</td>\n",
       "      <td>0</td>\n",
       "      <td>0</td>\n",
       "      <td>0</td>\n",
       "      <td>0</td>\n",
       "      <td>0</td>\n",
       "      <td>0</td>\n",
       "    </tr>\n",
       "    <tr>\n",
       "      <th>1</th>\n",
       "      <td>0</td>\n",
       "      <td>0</td>\n",
       "      <td>1</td>\n",
       "      <td>0</td>\n",
       "      <td>0</td>\n",
       "      <td>0</td>\n",
       "      <td>0</td>\n",
       "      <td>0</td>\n",
       "      <td>0</td>\n",
       "      <td>0</td>\n",
       "      <td>0</td>\n",
       "      <td>0</td>\n",
       "      <td>0</td>\n",
       "      <td>0</td>\n",
       "    </tr>\n",
       "    <tr>\n",
       "      <th>2</th>\n",
       "      <td>0</td>\n",
       "      <td>0</td>\n",
       "      <td>1</td>\n",
       "      <td>0</td>\n",
       "      <td>0</td>\n",
       "      <td>0</td>\n",
       "      <td>0</td>\n",
       "      <td>0</td>\n",
       "      <td>0</td>\n",
       "      <td>0</td>\n",
       "      <td>0</td>\n",
       "      <td>0</td>\n",
       "      <td>0</td>\n",
       "      <td>0</td>\n",
       "    </tr>\n",
       "    <tr>\n",
       "      <th>3</th>\n",
       "      <td>0</td>\n",
       "      <td>0</td>\n",
       "      <td>1</td>\n",
       "      <td>0</td>\n",
       "      <td>0</td>\n",
       "      <td>0</td>\n",
       "      <td>0</td>\n",
       "      <td>0</td>\n",
       "      <td>0</td>\n",
       "      <td>0</td>\n",
       "      <td>0</td>\n",
       "      <td>0</td>\n",
       "      <td>0</td>\n",
       "      <td>0</td>\n",
       "    </tr>\n",
       "    <tr>\n",
       "      <th>4</th>\n",
       "      <td>0</td>\n",
       "      <td>0</td>\n",
       "      <td>1</td>\n",
       "      <td>0</td>\n",
       "      <td>0</td>\n",
       "      <td>0</td>\n",
       "      <td>0</td>\n",
       "      <td>0</td>\n",
       "      <td>0</td>\n",
       "      <td>0</td>\n",
       "      <td>0</td>\n",
       "      <td>0</td>\n",
       "      <td>0</td>\n",
       "      <td>0</td>\n",
       "    </tr>\n",
       "  </tbody>\n",
       "</table>\n",
       "</div>"
      ],
      "text/plain": [
       "   dearborn  det  detroit  eastpointe  farmington hills  livonia  oak park  \\\n",
       "0         0    0        0           0                 0        0         0   \n",
       "1         0    0        1           0                 0        0         0   \n",
       "2         0    0        1           0                 0        0         0   \n",
       "3         0    0        1           0                 0        0         0   \n",
       "4         0    0        1           0                 0        0         0   \n",
       "\n",
       "   other  redford  southfield  troy  w. bloomfield  warren  west bloomfield  \n",
       "0      1        0           0     0              0       0                0  \n",
       "1      0        0           0     0              0       0                0  \n",
       "2      0        0           0     0              0       0                0  \n",
       "3      0        0           0     0              0       0                0  \n",
       "4      0        0           0     0              0       0                0  "
      ]
     },
     "execution_count": 20,
     "metadata": {},
     "output_type": "execute_result"
    }
   ],
   "source": [
    "pd.get_dummies(vis_data.city, drop_first=True).head()"
   ]
  },
  {
   "cell_type": "markdown",
   "metadata": {
    "id": "hH1odbBTMNbW"
   },
   "source": [
    "## Работа с датой/временем\n",
    "\n",
    "`Pandas` поддерживает работу с датами.  \n",
    "[Больше про работу с временем в pandas](https://codeburst.io/dealing-with-datetimes-like-a-pro-in-pandas-b80d3d808a7f)  \n",
    "Выберем признак, содержащий время, уберем пропуски и преобразуем его в специальный формат для работы со временем:"
   ]
  },
  {
   "cell_type": "code",
   "execution_count": null,
   "metadata": {
    "id": "9UCE4n94MNbW"
   },
   "outputs": [],
   "source": [
    "datetime_vals = pd.to_datetime(vis_data.payment_date.dropna())"
   ]
  },
  {
   "cell_type": "code",
   "execution_count": null,
   "metadata": {
    "id": "RHVt_Nz1MNbX",
    "outputId": "42456673-ff95-4bab-bee3-cf1710b1bd05"
   },
   "outputs": [
    {
     "data": {
      "text/plain": [
       "1    2005-06-02\n",
       "11   2005-03-17\n",
       "15   2005-02-11\n",
       "18   2005-03-18\n",
       "19   2005-03-18\n",
       "Name: payment_date, dtype: datetime64[ns]"
      ]
     },
     "execution_count": 22,
     "metadata": {},
     "output_type": "execute_result"
    }
   ],
   "source": [
    "datetime_vals.head()"
   ]
  },
  {
   "cell_type": "markdown",
   "metadata": {
    "id": "FHlXTbqmMNbX"
   },
   "source": [
    "Теперь к этим значениям можно обращаться для определения дня, месяца или года:"
   ]
  },
  {
   "cell_type": "code",
   "execution_count": null,
   "metadata": {
    "id": "QE0l62thMNbX",
    "outputId": "c1b48b59-fba9-43c0-8d09-52e4e1638a1b"
   },
   "outputs": [
    {
     "data": {
      "text/plain": [
       "6"
      ]
     },
     "execution_count": 24,
     "metadata": {},
     "output_type": "execute_result"
    }
   ],
   "source": [
    "datetime_vals[1].month"
   ]
  },
  {
   "cell_type": "markdown",
   "metadata": {
    "id": "6ppIuP24MNbX"
   },
   "source": [
    "Кроме этого, можно вытаскивать такие признаки, как день недели:"
   ]
  },
  {
   "cell_type": "code",
   "execution_count": null,
   "metadata": {
    "id": "HwDMJTxNMNba",
    "outputId": "c91c6ad7-dc21-43c8-efa7-0c001f02c269"
   },
   "outputs": [
    {
     "data": {
      "text/plain": [
       "3"
      ]
     },
     "execution_count": 25,
     "metadata": {},
     "output_type": "execute_result"
    }
   ],
   "source": [
    "datetime_vals[1].weekday()"
   ]
  },
  {
   "cell_type": "markdown",
   "metadata": {
    "id": "UDHmU1e-MNba"
   },
   "source": [
    "Отсчет начинается с понедельника и с нуля, поэтому мы понимаем, что это четверг.  \n",
    "Почему это может быть важным признаком? Например, в текущем наборе данных можно использовать такой признак как будний день/выходной, чтобы определить, когда чаще совершают правонарушения:"
   ]
  },
  {
   "cell_type": "code",
   "execution_count": null,
   "metadata": {
    "id": "SkeWh-m8MNba"
   },
   "outputs": [],
   "source": [
    "dt_issued_date = pd.to_datetime(vis_data.ticket_issued_date)\n",
    "vis_data['is_weekend'] = dt_issued_date.dt.weekday > 4\n",
    "vis_data['wd'] = dt_issued_date.dt.weekday"
   ]
  },
  {
   "cell_type": "markdown",
   "metadata": {
    "id": "JhEUqNkdMNbb"
   },
   "source": [
    "Здесь мы воспользовались специальным селектором `dt`, который для удобства содержит методы для работы со временем в `pandas`.  "
   ]
  },
  {
   "cell_type": "markdown",
   "metadata": {
    "id": "tczDH1PSMNbb"
   },
   "source": [
    "## Статистики по наборам признаков\n",
    "\n",
    "Одним из интересных способов использовать данные для создания новых признаков является расчет различных статистик по данным.  \n",
    "Примерами статистик могут быть минимум, максимум, стандартное отклонение и многие другие.  \n",
    "Этот способ работает, если в данных содержится, помимо прочих признаков, некоторое подобие временных рядов.  \n",
    "Например, примеры - это продукты, а зависимая переменная - купит ли покупатель этот продукт. Признаками, которые нас интересуют, будут стоимость данного продукта за 2015, 2016 и 2017 годы. В таком случае мы можем взять среднее, медиану, максимум, минимум и что угодно еще по этим трем столбцам и получить множество новых признаков.  \n",
    "Не факт, что данные признаки будут полезны, это мы увидим на этапе валидации и тестирования. Но часто такие признаки действительно оказываются полезными."
   ]
  },
  {
   "cell_type": "markdown",
   "metadata": {
    "id": "xZ2CzGz7c0MN"
   },
   "source": [
    "# Поиск выбросов (outliers)"
   ]
  },
  {
   "cell_type": "code",
   "execution_count": 6,
   "metadata": {
    "id": "JIKocu34c0MY"
   },
   "outputs": [],
   "source": [
    "import numpy as np\n",
    "import pandas as pd\n",
    "from math import radians, sin, cos, asin, sqrt\n",
    "%matplotlib inline\n",
    "\n",
    "vis_data = pd.read_csv(\"train.csv\", \n",
    "                       encoding = 'ISO-8859-1', \n",
    "                       low_memory = False)\n",
    "vis_data = vis_data.drop(['violation_zip_code', 'clean_up_cost'], axis=1)\n",
    "latlons = pd.read_csv(\"latlons.csv\")\n",
    "vis_data = pd.concat([vis_data, latlons], axis=1)\n",
    "\n",
    "def haversine(lon1, lat1, lon2, lat2):\n",
    "    lon1, lat1, lon2, lat2 = map(radians, [lon1, lat1, lon2, lat2])\n",
    "    dlon = lon2 - lon1\n",
    "    dlat = lat2 - lat1\n",
    "    a = sin(dlat/2)**2 + cos(lat1) * cos(lat2) * sin(dlon/2) ** 2\n",
    "    c = 2 * asin(sqrt(a))\n",
    "    earth_radius = 6371 \n",
    "    return c * earth_radius\n",
    "\n",
    "vis_data['distance'] = vis_data.apply(lambda row: \n",
    "                                      haversine(lon1 = -83.045753, \n",
    "                                                lat1 = 42.331429,\n",
    "                                                lon2 = row['lon'], \n",
    "                                                lat2 = row['lat']), \n",
    "                                      axis=1)"
   ]
  },
  {
   "cell_type": "markdown",
   "metadata": {
    "id": "6O0bKTtvc0MZ"
   },
   "source": [
    "## Поиск и удаление по порогу\n",
    "\n",
    "Часто оказывается так, что при погружении в предметную область вы начинаете понимать, какие значения данные признаки могут принимать, а какие - не могут. Например, если нужно заплатить штраф, полезно будет проверить, нет ли в выборке значений штрафов, меньших, чем `0`:"
   ]
  },
  {
   "cell_type": "code",
   "execution_count": null,
   "metadata": {
    "id": "i6hLeGM4c0Ma",
    "outputId": "6363d1b6-18d7-49e9-ab80-cff0f79d7453",
    "scrolled": true
   },
   "outputs": [
    {
     "data": {
      "text/plain": [
       "0"
      ]
     },
     "execution_count": 2,
     "metadata": {},
     "output_type": "execute_result"
    }
   ],
   "source": [
    "np.sum(vis_data.fine_amount < 0)"
   ]
  },
  {
   "cell_type": "markdown",
   "metadata": {
    "id": "3Mfsto60c0Mb"
   },
   "source": [
    "Кроме этого, интересно посмотреть максимальное значение штрафа:"
   ]
  },
  {
   "cell_type": "code",
   "execution_count": null,
   "metadata": {
    "id": "OztIRkesc0Mb",
    "outputId": "a6f39c6e-4d7a-4eb3-b530-3f1af39cb633"
   },
   "outputs": [
    {
     "data": {
      "text/plain": [
       "10000.0"
      ]
     },
     "execution_count": 3,
     "metadata": {},
     "output_type": "execute_result"
    }
   ],
   "source": [
    "max_fine = np.max(vis_data.fine_amount)\n",
    "max_fine"
   ]
  },
  {
   "cell_type": "markdown",
   "metadata": {
    "id": "lkrouzlNc0Mb"
   },
   "source": [
    "И сколько раз и как часто такой штраф встречается в данных:"
   ]
  },
  {
   "cell_type": "code",
   "execution_count": null,
   "metadata": {
    "id": "yIJlvRZSc0Mb",
    "outputId": "7103a238-8f1b-4cbc-ef0c-49624e972ce7"
   },
   "outputs": [
    {
     "data": {
      "text/plain": [
       "(357, 0.0014262542647799094)"
      ]
     },
     "execution_count": 4,
     "metadata": {},
     "output_type": "execute_result"
    }
   ],
   "source": [
    "max_fine_count = np.sum(vis_data.fine_amount == max_fine)\n",
    "max_fine_count, max_fine_count/vis_data.shape[0]"
   ]
  },
  {
   "cell_type": "code",
   "execution_count": null,
   "metadata": {
    "id": "amgYagLRc0Mc",
    "outputId": "4bed3ef1-5568-4ba9-a699-7dc33c04164c"
   },
   "outputs": [
    {
     "data": {
      "image/png": "[encoded data removed]",
      "text/plain": [
       "<matplotlib.figure.Figure at 0x106109eb8>"
      ]
     },
     "metadata": {},
     "output_type": "display_data"
    }
   ],
   "source": [
    "vis_data.fine_amount.hist();"
   ]
  },
  {
   "cell_type": "markdown",
   "metadata": {
    "id": "Hoq4z23bc0Mc"
   },
   "source": [
    "Очень большое количество данных сосредоточено около 0. Посмотрим, сколько значений штрафов в выборке равно 0:"
   ]
  },
  {
   "cell_type": "code",
   "execution_count": null,
   "metadata": {
    "id": "dqCbSZ8qc0Mc",
    "outputId": "ac988834-bbb1-4c89-8402-2262d9a4d324",
    "scrolled": true
   },
   "outputs": [
    {
     "data": {
      "text/plain": [
       "195"
      ]
     },
     "execution_count": 6,
     "metadata": {},
     "output_type": "execute_result"
    }
   ],
   "source": [
    "vis_data[vis_data.fine_amount == 0].shape[0]"
   ]
  },
  {
   "cell_type": "markdown",
   "metadata": {
    "id": "68iDt4aRc0Md"
   },
   "source": [
    "Возможно, те значения, где размер штрафа равен 0, являются выбросами, если инспектор забыл добавить размер штрафа или ошибся при вводе.  \n",
    "В таком случае эти значения следует убрать из выборки. В то же время, сложно однозначно сделать такое решение, не зная всей информации о данных."
   ]
  },
  {
   "cell_type": "markdown",
   "metadata": {
    "id": "YzX41zNhc0Md"
   },
   "source": [
    "Теперь посмотрим на данные поближе:"
   ]
  },
  {
   "cell_type": "code",
   "execution_count": null,
   "metadata": {
    "id": "FxCObXbzc0Md",
    "outputId": "9d5da4db-0d44-40ac-b17b-3ef2b9f3aeca"
   },
   "outputs": [
    {
     "data": {
      "image/png": "[encoded data removed]",
      "text/plain": [
       "<matplotlib.figure.Figure at 0x12974ecc0>"
      ]
     },
     "metadata": {},
     "output_type": "display_data"
    }
   ],
   "source": [
    "vis_data.fine_amount[vis_data.fine_amount < 2000].hist(bins=100);"
   ]
  },
  {
   "cell_type": "markdown",
   "metadata": {
    "id": "FOCYn7CHc0Md"
   },
   "source": [
    "Непохоже, что здесь есть выбросы (кроме нулевых штрафов), но можно категоризировать данные, заменив все значения больше 2000 на переменную `>2000` и сделав все остальные значения категориальными."
   ]
  },
  {
   "cell_type": "markdown",
   "metadata": {
    "id": "1P48ADscc0Me"
   },
   "source": [
    "## Поиск по отклонению (z-score)\n",
    "[Источник](http://colingorrie.github.io/outlier-detection.html)\n",
    "\n",
    "Есть еще один способ поиска выбросов, не требующий настолько же пристального взгляда на данные, что и предыдущий метод.  \n",
    "Он основан на поиске значения, на которое отклоняется данная точка от среднего. Делается это с помощью z-score, то есть, расстояния (измеряемого в количестве стандартных отклонений) от среднего значения точек.  \n",
    "Для начала посмотрим на распределение данных для признака `distance`, который мы посчитали ранее:"
   ]
  },
  {
   "cell_type": "code",
   "execution_count": null,
   "metadata": {
    "id": "wOVrgjYZc0Me"
   },
   "outputs": [],
   "source": [
    "import warnings"
   ]
  },
  {
   "cell_type": "code",
   "execution_count": null,
   "metadata": {
    "id": "0fLYH73oc0Mf",
    "outputId": "79edc48d-d5e5-490d-8b69-a22357ea74c4",
    "scrolled": true
   },
   "outputs": [
    {
     "data": {
      "image/png": "[encoded data removed]",
      "text/plain": [
       "<matplotlib.figure.Figure at 0x129780a90>"
      ]
     },
     "metadata": {},
     "output_type": "display_data"
    }
   ],
   "source": [
    "vis_data.distance.hist(bins=100);"
   ]
  },
  {
   "cell_type": "markdown",
   "metadata": {
    "id": "cof9w5Alc0Mf"
   },
   "source": [
    "Попытаемся \"на глаз\" определить порог, после которого мы считаем выбросы. Применим этот порог и посмотрим на количество \"выбросов\":"
   ]
  },
  {
   "cell_type": "code",
   "execution_count": null,
   "metadata": {
    "id": "Er1L9XMsc0Mf",
    "outputId": "8569bc73-d1dc-421e-ebcd-65fd6539e87a"
   },
   "outputs": [
    {
     "data": {
      "image/png": "[encoded data removed]",
      "text/plain": [
       "<matplotlib.figure.Figure at 0x1173608d0>"
      ]
     },
     "metadata": {},
     "output_type": "display_data"
    }
   ],
   "source": [
    "vis_data.distance[vis_data.distance > 30].hist();"
   ]
  },
  {
   "cell_type": "code",
   "execution_count": null,
   "metadata": {
    "id": "ke2ySenyc0Mg"
   },
   "outputs": [],
   "source": [
    "def outliers_z_score(ys, threshold=3):\n",
    "    mean_y = np.mean(ys)\n",
    "    std_y = np.std(ys)\n",
    "    z_scores = [(y - mean_y) / std_y for y in ys]\n",
    "    return np.where(np.abs(z_scores) > threshold)[0]"
   ]
  },
  {
   "cell_type": "code",
   "execution_count": null,
   "metadata": {
    "id": "DJJRhZtDc0Mg"
   },
   "outputs": [],
   "source": [
    "with warnings.catch_warnings():\n",
    "    warnings.simplefilter('ignore')\n",
    "    o = outliers_z_score(vis_data.distance)"
   ]
  },
  {
   "cell_type": "code",
   "execution_count": null,
   "metadata": {
    "id": "KW3Z5pkKc0Mg",
    "outputId": "0a8382f6-9f73-4e2c-8ec1-d1b47507c606"
   },
   "outputs": [
    {
     "data": {
      "text/plain": [
       "55"
      ]
     },
     "execution_count": 13,
     "metadata": {},
     "output_type": "execute_result"
    }
   ],
   "source": [
    "len(o)"
   ]
  },
  {
   "cell_type": "markdown",
   "metadata": {
    "id": "G0JrDaSwc0Mh"
   },
   "source": [
    "Значение по умолчанию для функции поиска выбросов равно `3`. Это означает, что мы считаем выбросами все, что находится на расстоянии больше 3 стандартных отклонений от среднего. Если мы подвигаем этот параметр в большую или меньшую сторону, мы найдем меньше или больше выбросов."
   ]
  },
  {
   "cell_type": "markdown",
   "metadata": {
    "id": "_uP5cwzRc0Mh"
   },
   "source": [
    "## IQR (interquartile range, межквартильное расстояние)\n",
    "\n",
    "Один из способов - использовать перцентили (в данном случае квартили) для определения, где находятся выбросы. Для начала, посмотрим на `boxplot` для признака `distance`. Данный вид графика делит данные на 4 части. Та часть данных, которая отделена слева и справа двумя вертикальными линиями (находится внутри коробки) содержит 50% данных, так как левая линия обозначает первый квартиль (25-й перцентиль), а правая линия обозначает третий квартиль (75-й перцентиль).  \n",
    "Большой вертикальной линией выделена медиана:"
   ]
  },
  {
   "cell_type": "code",
   "execution_count": null,
   "metadata": {
    "id": "TVbu--UTc0Mh"
   },
   "outputs": [],
   "source": [
    "import seaborn as sns"
   ]
  },
  {
   "cell_type": "code",
   "execution_count": null,
   "metadata": {
    "id": "Yqpzv4jqc0Mh",
    "outputId": "ef241061-5955-4d9f-91ca-e1f8119c36a3"
   },
   "outputs": [
    {
     "data": {
      "image/png": "[encoded data removed]",
      "text/plain": [
       "<matplotlib.figure.Figure at 0x1120c4630>"
      ]
     },
     "metadata": {},
     "output_type": "display_data"
    }
   ],
   "source": [
    "sns.boxplot(vis_data.distance, color='yellow');"
   ]
  },
  {
   "cell_type": "markdown",
   "metadata": {
    "id": "ORHbcg3uc0Mh"
   },
   "source": [
    "Метод межквартильного расстояния выделяет как выбросы все значения, находящиеся за пределами коробки.  \n",
    "Посмотрим, сколько выбросов он найдет:"
   ]
  },
  {
   "cell_type": "code",
   "execution_count": 11,
   "metadata": {
    "id": "HuY1L3AVc0Mi"
   },
   "outputs": [],
   "source": [
    "def outliers_iqr(ys):\n",
    "    quartile_1, quartile_3 = np.percentile(ys, [25, 75])\n",
    "    iqr = quartile_3 - quartile_1\n",
    "    lower_bound = quartile_1 - (iqr * 1.5)\n",
    "    upper_bound = quartile_3 + (iqr * 1.5)\n",
    "    return np.where((ys > upper_bound) | (ys < lower_bound))[0]"
   ]
  },
  {
   "cell_type": "markdown",
   "metadata": {
    "id": "3NLtLxrhc0Mi"
   },
   "source": [
    "Данный метод чувствителен к пропускам, поэтому избавимся от них:"
   ]
  },
  {
   "cell_type": "code",
   "execution_count": null,
   "metadata": {
    "id": "GLU9wEl1c0Mi"
   },
   "outputs": [],
   "source": [
    "o = outliers_iqr(vis_data.distance.dropna())"
   ]
  },
  {
   "cell_type": "code",
   "execution_count": null,
   "metadata": {
    "id": "FZC4u6dUc0Mi",
    "outputId": "319fb6f9-bc0a-489b-baa2-2e3551c74724"
   },
   "outputs": [
    {
     "data": {
      "text/plain": [
       "134"
      ]
     },
     "execution_count": 18,
     "metadata": {},
     "output_type": "execute_result"
    }
   ],
   "source": [
    "len(o)"
   ]
  },
  {
   "cell_type": "markdown",
   "metadata": {
    "id": "r6GHDcnuc0Mi"
   },
   "source": [
    "## Поиск по распределению\n",
    "[Источник](http://aqibsaeed.github.io/2016-07-17-anomaly-detection/)\n",
    "\n",
    "Еще один способ найти выбросы - построить нормальное распределение поверх данных, посчитать вероятность находиться в данном распределении для каждого значения. Самые невероятные значения будем считать выбросами."
   ]
  },
  {
   "cell_type": "code",
   "execution_count": null,
   "metadata": {
    "id": "Xtal5UEvc0Mj"
   },
   "outputs": [],
   "source": [
    "from scipy.stats import norm\n",
    "\n",
    "def estimate_gaussian(dataset):\n",
    "    mu = np.mean(dataset, axis=0)\n",
    "    sigma = np.cov(dataset.T)\n",
    "    return mu, sigma\n",
    "    \n",
    "def get_gaussian(mu, sigma):\n",
    "    distribution = norm(mu, sigma)\n",
    "    return distribution\n",
    "\n",
    "def get_probs(distribution, dataset):\n",
    "    return distribution.pdf(dataset)"
   ]
  },
  {
   "cell_type": "code",
   "execution_count": null,
   "metadata": {
    "id": "3_9nxyvVc0Mj"
   },
   "outputs": [],
   "source": [
    "mu, sigma = estimate_gaussian(vis_data.distance.dropna())\n",
    "distribution = get_gaussian(mu, sigma)\n",
    "probabilities = get_probs(distribution, vis_data.distance.dropna())"
   ]
  },
  {
   "cell_type": "markdown",
   "metadata": {
    "id": "A4r4hstsc0Mj"
   },
   "source": [
    "Мы построили нормальное распределение на предоставленных данных и посчитали вероятность появления данной точки при данном распределении для каждого значения. Теперь выберем разумное значение вероятности, ниже которой будем считать точку выбросом. Например, `0.014`:"
   ]
  },
  {
   "cell_type": "code",
   "execution_count": null,
   "metadata": {
    "id": "QM3RDNhAc0Mj"
   },
   "outputs": [],
   "source": [
    "o_1 = np.where(probabilities < 0.014)[0]"
   ]
  },
  {
   "cell_type": "code",
   "execution_count": null,
   "metadata": {
    "id": "plXCBbduc0Mj",
    "outputId": "fdd6084a-c8aa-4ce5-828e-78f2adfe65cb"
   },
   "outputs": [
    {
     "data": {
      "text/plain": [
       "58"
      ]
     },
     "execution_count": 23,
     "metadata": {},
     "output_type": "execute_result"
    }
   ],
   "source": [
    "len(o_1)"
   ]
  },
  {
   "cell_type": "markdown",
   "metadata": {
    "id": "-AssLZulc0Mj"
   },
   "source": [
    "## DBSCAN\n",
    "\n",
    "Алгоритм кластеризации DBSCAN определяет группы (кластеры) объектов. Его особенностью является то, что кроме самих кластеров он хорошо находит отдельно стоящие элементы, \"шум\". Применим его для нахождения выбросов. "
   ]
  },
  {
   "cell_type": "code",
   "execution_count": null,
   "metadata": {
    "id": "yTL25RfMc0Mk"
   },
   "outputs": [],
   "source": [
    "from sklearn.cluster import DBSCAN\n",
    "from sklearn.preprocessing import MinMaxScaler"
   ]
  },
  {
   "cell_type": "markdown",
   "metadata": {
    "id": "M66JGGCPc0Mk"
   },
   "source": [
    "`DBSCAN` работает очень медленно, поэтому мы возьмем не все данные:"
   ]
  },
  {
   "cell_type": "code",
   "execution_count": null,
   "metadata": {
    "id": "MvEXZx7_c0Mk",
    "outputId": "e7d89e90-4a62-4bf5-e10c-ae79e2cbd36c"
   },
   "outputs": [
    {
     "data": {
      "text/plain": [
       "(250306, 36)"
      ]
     },
     "execution_count": 31,
     "metadata": {},
     "output_type": "execute_result"
    }
   ],
   "source": [
    "vis_data.shape"
   ]
  },
  {
   "cell_type": "code",
   "execution_count": null,
   "metadata": {
    "id": "OXBb26Ckc0Mk"
   },
   "outputs": [],
   "source": [
    "normalized_dist = np.random.choice(vis_data.distance.dropna().values, \n",
    "                                   50000).reshape(-1, 1)"
   ]
  },
  {
   "cell_type": "code",
   "execution_count": null,
   "metadata": {
    "id": "jgnig6enc0Mk"
   },
   "outputs": [],
   "source": [
    "db = DBSCAN(eps=0.5, min_samples=10).fit(normalized_dist)"
   ]
  },
  {
   "cell_type": "markdown",
   "metadata": {
    "id": "YoS5M1j2c0Ml"
   },
   "source": [
    "Проверим количество выбросов:"
   ]
  },
  {
   "cell_type": "code",
   "execution_count": null,
   "metadata": {
    "id": "wjCPJK77c0Ml",
    "outputId": "aa820b82-56ef-472c-9f2e-0fe7d3b0bad7"
   },
   "outputs": [
    {
     "data": {
      "text/plain": [
       "22"
      ]
     },
     "execution_count": 30,
     "metadata": {},
     "output_type": "execute_result"
    }
   ],
   "source": [
    "len(np.where(db.labels_ == -1)[0])"
   ]
  },
  {
   "cell_type": "markdown",
   "metadata": {
    "id": "Z0jLQlbyc0Ml"
   },
   "source": [
    "## Проблемы с выбросами\n",
    "\n",
    "Несмотря на то, что выбросы \"портят\" общую картину и заставляют статистики в данных (например, среднее) выглядеть неправильно, иногда они очень важны:\n",
    "\n",
    " - Если мы занимаемся поиском аномалий (Anomaly Detection), выбросы являются нашими зависимыми переменными, которые необходимо найти, а не значениями, которые нужно выбросить. Поиск аномалий выходит за рамки курса\n",
    " - Как можно было понять из методов выше, нет однозначного способа понять, что перед нами выброс. Разные методы возвращают разные точки в качестве выбросов, и эти точки пересекаются лишь частично. Кроме этого, разные параметры дают разные результаты и эти параметры необходимо крутить руками. Из-за этого найденные выбросы является крайне субъективным результатом"
   ]
  },
  {
   "cell_type": "code",
   "execution_count": 24,
   "metadata": {
    "colab": {
     "base_uri": "https://localhost:8080/"
    },
    "id": "ywIGb4A-EpVh",
    "outputId": "c3c32c5a-b070-401d-c13e-b10baf803d9d"
   },
   "outputs": [
    {
     "name": "stdout",
     "output_type": "stream",
     "text": [
      "(250306,)\n",
      "(250306,)\n"
     ]
    }
   ],
   "source": [
    "# Задание 14.5\n",
    "\n",
    "# Загрузите данные train.csv , найдите признак, обозначающий баланс. Уберите пропуски из \n",
    "# этого признака и найдите выбросы с помощью межквартильного расстояния. \n",
    "# Найдите модуль разницы между минимальным и максимальным выбросом.\n",
    "\n",
    "balance = vis_data['balance_due']\n",
    "print(balance.shape)\n",
    "balance = balance.dropna()\n",
    "print(balance.shape)"
   ]
  },
  {
   "cell_type": "code",
   "execution_count": 27,
   "metadata": {
    "colab": {
     "base_uri": "https://localhost:8080/"
    },
    "id": "gHzuzfSoE6jN",
    "outputId": "c8363f12-5d8f-436f-903f-258b729dbe74"
   },
   "outputs": [
    {
     "name": "stdout",
     "output_type": "stream",
     "text": [
      "-7750.0 11030.0\n"
     ]
    }
   ],
   "source": [
    "outliers_idx = outliers_iqr(balance)\n",
    "min_outlier = balance[outliers_idx].min()\n",
    "max_outlier = balance[outliers_idx].max()\n",
    "print(min_outlier, max_outlier)"
   ]
  },
  {
   "cell_type": "code",
   "execution_count": 29,
   "metadata": {
    "colab": {
     "base_uri": "https://localhost:8080/"
    },
    "id": "ICV2qGuoHFtr",
    "outputId": "48a5f7cb-46f5-4798-c855-188435bef05f"
   },
   "outputs": [
    {
     "data": {
      "text/plain": [
       "18780.0"
      ]
     },
     "execution_count": 29,
     "metadata": {},
     "output_type": "execute_result"
    }
   ],
   "source": [
    "np.abs(min_outlier - max_outlier)"
   ]
  },
  {
   "cell_type": "code",
   "execution_count": null,
   "metadata": {
    "id": "iudMwcxQJdt0"
   },
   "outputs": [],
   "source": []
  }
 ],
 "metadata": {
  "colab": {
   "collapsed_sections": [],
   "name": "МИСИС_preprocessing_01_nans.ipynb",
   "provenance": []
  },
  "kernelspec": {
   "display_name": "Python 3",
   "language": "python",
   "name": "python3"
  },
  "language_info": {
   "codemirror_mode": {
    "name": "ipython",
    "version": 3
   },
   "file_extension": ".py",
   "mimetype": "text/x-python",
   "name": "python",
   "nbconvert_exporter": "python",
   "pygments_lexer": "ipython3",
   "version": "3.6.8"
  }
 },
 "nbformat": 4,
 "nbformat_minor": 0
}
