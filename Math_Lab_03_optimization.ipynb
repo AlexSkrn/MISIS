{
  "nbformat": 4,
  "nbformat_minor": 0,
  "metadata": {
    "colab": {
      "name": "MATH_06_optimization_project.ipynb",
      "provenance": [],
      "collapsed_sections": []
    },
    "kernelspec": {
      "name": "python3",
      "display_name": "Python 3"
    },
    "language_info": {
      "name": "python"
    }
  },
  "cells": [
    {
      "cell_type": "code",
      "source": [
        "# http://www.machinelearning.ru/wiki/index.php?title=Машинное_обучение_(курс_лекций,_К.В.Воронцов)\n",
        "# https://github.com/esokolov/ml-course-hse"
      ],
      "metadata": {
        "id": "_X4tt6vJFjZo"
      },
      "execution_count": 14,
      "outputs": []
    },
    {
      "cell_type": "code",
      "source": [
        "# Задание 1\n",
        "\n",
        "# Стационарные точки многочлена\n",
        "# Для разминки решим следующую задачу. Вам дан многочлен третьей степени от одной переменной: \n",
        "# ax^3 + bx^2 + cx + d. Нужно найти стационарные точки: минимумы, максимумы и перегибы.\n",
        "\n",
        "# Напомним, стационарные точки - это такие точки, в которых производная равна нулю.\n",
        "\n",
        "# Входные данные: коэффициенты a, b, c, d.\n",
        "# Результат: напишите функцию zero_grad(a, b, c, d), которая вернёт список вещественных\n",
        "# стационарных точек соответствующего многочлена, упорядоченных по возрастанию.\n",
        "# Например, zero_grad(1, 0, 0, 0) должна вернуть [0.0] (x^3 имеет единственную \n",
        "# стационарную точку - перегиб в (0.0)."
      ],
      "metadata": {
        "id": "bBsinbBN6WEN"
      },
      "execution_count": null,
      "outputs": []
    },
    {
      "cell_type": "code",
      "source": [
        "import numpy as np\n",
        "\n",
        "def zero_grad(a, b, c, d):\n",
        "    discr = (2*b)**2 - 4*3*a*c\n",
        "    if discr < 0:\n",
        "        return []\n",
        "    x1 = (-2*b - np.sqrt(discr))/(6*a)\n",
        "    x2 = (-2*b + np.sqrt(discr))/(6*a)\n",
        "    if not x1 and not x2:\n",
        "        return []\n",
        "    return sorted(list(set([x1, x2])))"
      ],
      "metadata": {
        "id": "zK_rzDzbr3uF"
      },
      "execution_count": null,
      "outputs": []
    },
    {
      "cell_type": "code",
      "source": [
        "#  Для тестовых значений 1, 2, 1, 4, ожидался ответ: -1.0, -0.33333\n",
        "# Для тестовых значений 1/3, -1, 1, -10, ожидался ответ: 1.0\n",
        "print(zero_grad(1, 2, 1, 4))\n",
        "print(zero_grad(1/3, -1, 1, -10))  # ожидался ответ: 1.0"
      ],
      "metadata": {
        "colab": {
          "base_uri": "https://localhost:8080/"
        },
        "id": "ahzcOq6m0vF1",
        "outputId": "3ff98cc2-ff47-4467-c2d7-6d3dd31667c8"
      },
      "execution_count": 2,
      "outputs": [
        {
          "output_type": "stream",
          "name": "stdout",
          "text": [
            "[-1.0, -0.333333]\n",
            "[1.0]\n"
          ]
        }
      ]
    },
    {
      "cell_type": "code",
      "source": [
        "# в системе нет этого модуля\n",
        "from sympy.solvers import solve\n",
        "from sympy import Symbol\n",
        "x = Symbol('x')\n",
        "\n",
        "def zero_grad(a, b, c, d):\n",
        "    expr = 3*a*x**2 + 2*b*x + c\n",
        "    return solve(expr, x)\n",
        "                 \n",
        "print(zero_grad(1/3, -1, 1, -10))\n",
        "print(zero_grad(1, 2, 1, 4))"
      ],
      "metadata": {
        "colab": {
          "base_uri": "https://localhost:8080/"
        },
        "id": "jelZoggMyXp-",
        "outputId": "af9c5732-ef14-44a5-eea7-186fd361de22"
      },
      "execution_count": null,
      "outputs": [
        {
          "output_type": "stream",
          "name": "stdout",
          "text": [
            "[1.00000000000000]\n",
            "[-1, -1/3]\n"
          ]
        }
      ]
    },
    {
      "cell_type": "code",
      "source": [
        "from sympy.solvers import solve\n",
        "from sympy import symbols\n",
        "x, y, z = symbols('x y z')\n",
        "expressions = [(150*x + 100*y + 75*z - 200), (x + y + z -1) ]\n",
        "solve(expressions, [x, y, z])\n"
      ],
      "metadata": {
        "colab": {
          "base_uri": "https://localhost:8080/"
        },
        "id": "pCveNJno0GXS",
        "outputId": "16a1c06f-0e58-4c4c-99fb-dd9cd38e5c1e"
      },
      "execution_count": null,
      "outputs": [
        {
          "output_type": "execute_result",
          "data": {
            "text/plain": [
              "{x: z/2 + 2, y: -3*z/2 - 1}"
            ]
          },
          "metadata": {},
          "execution_count": 2
        }
      ]
    },
    {
      "cell_type": "code",
      "source": [
        "# Задание 2\n",
        "\n",
        "# Оптимизация функции двух переменных\n",
        "# Пусть теперь у нас есть функция g(x,y)=a*x**2 + b*x*y + c*y**2 + d*x +e*y +f. \n",
        "# Известно, что a>0, c>0, b**2 - 4*a*c !=0. Мы хотим найти минимум этой функции.\n",
        "\n",
        "# Из того, что a>0 и c>0 следует, что функция стремится в +oo при x и y стремящихся в oo. \n",
        "# Для того, чтобы найти минимум такой функции, нужно приравнять градиент (частные \n",
        "# производные по x и y) к 0. После этого нужно просто решить систему уравнений. Проверьте, \n",
        "# что у этой системы будет ровно одно решение (обратите внимание на условие b**2 - 4*a*c != 0).\n",
        "\n",
        "# Входные данные: числа a, b, c, d, e, f\n",
        "# Результат: напишите функцию min_point(a, b, c, d, e, f), возвращающую кортеж из двух \n",
        "# чисел (x0, y0), при которых многочлен g(x0, y0) принимает минимальное значение.\n",
        "# Например, min_point(2, 1, 1, -5, -3, 57) должна вернуть (1, 1)."
      ],
      "metadata": {
        "id": "4kAzSUEiPNb8"
      },
      "execution_count": null,
      "outputs": []
    },
    {
      "cell_type": "code",
      "source": [
        "import numpy as np\n",
        "\n",
        "def min_point(a, b, c, d, e, f):\n",
        "    A = np.array([\n",
        "              [2*a, b],\n",
        "              [b, 2*c]\n",
        "              ])\n",
        "    b = np.array([-d, -e])\n",
        "    return tuple(np.linalg.solve(A, b))\n",
        "\n",
        "\n",
        "min_point(2, 1, 1, -5, -3, 57)"
      ],
      "metadata": {
        "colab": {
          "base_uri": "https://localhost:8080/"
        },
        "id": "6qcFLO0z-Qx9",
        "outputId": "1c1c7bd5-d943-4d1b-8fb8-460340c8b182"
      },
      "execution_count": 13,
      "outputs": [
        {
          "output_type": "execute_result",
          "data": {
            "text/plain": [
              "(1.0, 1.0)"
            ]
          },
          "metadata": {},
          "execution_count": 13
        }
      ]
    },
    {
      "cell_type": "code",
      "source": [
        "# Задание 3\n",
        "\n",
        "# Градиентный спуск\n",
        "# В задачах выше функции были заданы в явном виде и была возможность найти их минимумы, \n",
        "# решив уравнение или систему уравнений. При обучении более сложных моделей, например \n",
        "# нейронных сетей, аналитическое решение не всегда возможно.\n",
        "\n",
        "# В таких случаях применяют градиентный спуск. Идея метода заключается в том, чтобы вычислять \n",
        "# вектор частных производных функции и менять значения параметров на небольшой шаг в сторону, \n",
        "# противоположную градиенту. Такой метод работает, т. к. функция наиболее быстро растёт \n",
        "# в направлении градиента и убывает в обратном.\n",
        "\n",
        "# В этой задаче мы продолжим экспериментировать с многочленом второй степени от двух \n",
        "# переменных - будем искать его минимум. На каждом шаге вам требуется вычислить градиент \n",
        "# g(x,y)  и сместить точку (x,y) на заданную длину rate в направлении, противоположном \n",
        "# градиенту. Это значит, что вам надо вычислить градиент, затем сделать длину этого вектора \n",
        "# равной rate (напомним, длина вектора равна sqrt(x**2 + y**2), и потом вычесть \n",
        "# полученный вектор из (x,y).\n",
        "\n",
        "# Входные данные: коэффициенты a, b, c, d, e, f многочлена \n",
        "# (x,y)=a*x**2 + b*x*y + c*y**2 + d*x +e*y +f  и начальная точка (x0,y0).\n",
        "# Результат: напишите функцию gradient(a, b, c, d, e, f, x0, y0, rate), которая \n",
        "# сделает один шаг градиентного спуска (сделает шаг длины rate в сторону, противоположную \n",
        "# градиенту) и вернёт обновлённые (x0, y0).\n",
        "# Пример: gradient(2, 1, 1, -5, -3, 57, 0, 0, 1) должна \n",
        "# вернуть (0.8574929257125441, 0.5144957554275265)."
      ],
      "metadata": {
        "id": "RUNrUs_T-STU"
      },
      "execution_count": null,
      "outputs": []
    },
    {
      "cell_type": "code",
      "source": [
        "def gradient(a, b, c, d, e, _f, x0, y0, rate):\n",
        "    dx = 2*a*x0 +b*y0 + d  # производная функции по x\n",
        "    dy = b*x0 + 2*c*y0 + e  # производная функция по y\n",
        "    l = (dx**2 + dy**2)**(0.5)   # длина вектора градиента \n",
        "    dx = dx/l*rate  # шаг по x с учетом rate из аргументов\n",
        "    dy = dy/l*rate  # шаг по y с учетом rate из аргументов\n",
        "    return (x0-dx, y0-dy)"
      ],
      "metadata": {
        "id": "HUtmQ2IuFDcx"
      },
      "execution_count": 25,
      "outputs": []
    },
    {
      "cell_type": "code",
      "source": [
        "gradient(2, 1, 1, -5, -3, 57, 0, 0, 1)"
      ],
      "metadata": {
        "colab": {
          "base_uri": "https://localhost:8080/"
        },
        "id": "KG6v-bjAGJgd",
        "outputId": "08460310-ed23-46bc-e948-4c63fc4f06c5"
      },
      "execution_count": 26,
      "outputs": [
        {
          "output_type": "stream",
          "name": "stdout",
          "text": [
            "-5 -3\n",
            "0 0\n",
            "-5 -3 5.830951894845301\n"
          ]
        },
        {
          "output_type": "execute_result",
          "data": {
            "text/plain": [
              "(0.8574929257125441, 0.5144957554275265)"
            ]
          },
          "metadata": {},
          "execution_count": 26
        }
      ]
    },
    {
      "cell_type": "code",
      "source": [
        "# Задание 4\n",
        "\n",
        "# Обратный гессиан\n",
        "# Для более быстрой сходимости численных методов часто используют метод Ньютона. \n",
        "# Для его работы необходимо вычислить матрицу, обратную к матрице вторых производных \n",
        "# (гессиан). В этой задаче необходимо сделать именно это. Из-за проблем с работой \n",
        "# библиотеки numpy на платформе, реализуйте решение без ее использования.\n",
        "\n",
        "# Входные данные: коэффициенты a, b, c, d, e, f многочлена второй степени от \n",
        "# двух переменных (x,y)=a*x**2 + b*x*y + c*y**2 + d*x +e*y +f  .\n",
        "# Результат: напишите функцию hessian_inv(a, b, c, d, e, f, x, y), возвращающую \n",
        "# матрицу вторых производных в виде двумерного numpy массива.\n",
        "# Например, hessian_inv(2, 1, 1, -5, -3, 57, 0, 0) должна вернуть\n",
        "\n",
        "#   [[ 0.28571429, -0.14285714],\n",
        "#        [-0.14285714,  0.57142857]]"
      ],
      "metadata": {
        "id": "kgVgJyAcGKu4"
      },
      "execution_count": null,
      "outputs": []
    },
    {
      "cell_type": "code",
      "source": [
        "def hessian_inv(a, b, c, d, e, f, _x, _y):\n",
        "    inv_hess = (1/(2*a*2*c - b*b)) * np.array(\n",
        "                                      [[2*c, -b],\n",
        "                                       [-b, 2*a]\n",
        "                                       ])\n",
        "    return inv_hess "
      ],
      "metadata": {
        "id": "RKOSsAMrMnMN"
      },
      "execution_count": 42,
      "outputs": []
    },
    {
      "cell_type": "code",
      "source": [
        "hessian_inv(2, 1, 1, -5, -3, 57, 0, 0)"
      ],
      "metadata": {
        "colab": {
          "base_uri": "https://localhost:8080/"
        },
        "id": "1xyN_q0BNP7b",
        "outputId": "2ca1ac75-36cc-4981-c2fc-cbc85aed3309"
      },
      "execution_count": 43,
      "outputs": [
        {
          "output_type": "execute_result",
          "data": {
            "text/plain": [
              "array([[ 0.28571429, -0.14285714],\n",
              "       [-0.14285714,  0.57142857]])"
            ]
          },
          "metadata": {},
          "execution_count": 43
        }
      ]
    },
    {
      "cell_type": "code",
      "source": [
        "from sympy import diff, symbols\n",
        "a, b, c, d, e, f, x, y = symbols('a, b, c, d, e, f, x, y')\n",
        "\n",
        "\n",
        "expr = a*x**2 + b*x*y + c*y**2 + d*x +e*y +f\n",
        "\n",
        "diff(expr, x, x)"
      ],
      "metadata": {
        "colab": {
          "base_uri": "https://localhost:8080/",
          "height": 38
        },
        "id": "Ob0IwC-JNgjd",
        "outputId": "e8cb2a63-6b37-45ef-b206-45da717bb796"
      },
      "execution_count": 36,
      "outputs": [
        {
          "output_type": "execute_result",
          "data": {
            "text/latex": "$\\displaystyle 2 a$",
            "text/plain": [
              "2*a"
            ]
          },
          "metadata": {},
          "execution_count": 36
        }
      ]
    },
    {
      "cell_type": "code",
      "source": [
        "diff(expr, x, y)"
      ],
      "metadata": {
        "colab": {
          "base_uri": "https://localhost:8080/",
          "height": 38
        },
        "id": "O6j3b3mgOQGW",
        "outputId": "380e6d6b-a402-4b4f-cdea-7c58eb51b911"
      },
      "execution_count": 38,
      "outputs": [
        {
          "output_type": "execute_result",
          "data": {
            "text/latex": "$\\displaystyle b$",
            "text/plain": [
              "b"
            ]
          },
          "metadata": {},
          "execution_count": 38
        }
      ]
    },
    {
      "cell_type": "code",
      "source": [
        "diff(expr, y, y)"
      ],
      "metadata": {
        "colab": {
          "base_uri": "https://localhost:8080/",
          "height": 38
        },
        "id": "qnUt8s-wOU4N",
        "outputId": "7d92a9a6-283e-4d77-cf32-e30ba469f3f8"
      },
      "execution_count": 40,
      "outputs": [
        {
          "output_type": "execute_result",
          "data": {
            "text/latex": "$\\displaystyle 2 c$",
            "text/plain": [
              "2*c"
            ]
          },
          "metadata": {},
          "execution_count": 40
        }
      ]
    },
    {
      "cell_type": "code",
      "source": [
        "diff(expr, y, x)"
      ],
      "metadata": {
        "colab": {
          "base_uri": "https://localhost:8080/",
          "height": 38
        },
        "id": "8rmf2DW7Odji",
        "outputId": "b0d668ee-444e-4202-c258-478a22875e1f"
      },
      "execution_count": 41,
      "outputs": [
        {
          "output_type": "execute_result",
          "data": {
            "text/latex": "$\\displaystyle b$",
            "text/plain": [
              "b"
            ]
          },
          "metadata": {},
          "execution_count": 41
        }
      ]
    },
    {
      "cell_type": "code",
      "source": [
        ""
      ],
      "metadata": {
        "id": "Za8yWm1kOjY0"
      },
      "execution_count": null,
      "outputs": []
    }
  ]
}