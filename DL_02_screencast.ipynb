{
 "cells": [
  {
   "cell_type": "markdown",
   "metadata": {
    "id": "girA51a7p2KQ"
   },
   "source": [
    "**PyTorch** идет предустановленным в Google Colab, просто импортируем"
   ]
  },
  {
   "cell_type": "code",
   "execution_count": null,
   "metadata": {
    "id": "x9pn2-oIpD9l"
   },
   "outputs": [],
   "source": [
    "import torch\n",
    "import numpy as np"
   ]
  },
  {
   "cell_type": "markdown",
   "metadata": {
    "id": "ymOllVpQuE4-"
   },
   "source": [
    "**Матричное умножение** - операция над матрицами, где результирующая матрица составлена скалярными произведениями строк и рядов\n",
    "\n",
    "**Скалярное произведение** двух векторов - сумма произведений элементов в соответствующих позициях этих векторов"
   ]
  },
  {
   "cell_type": "code",
   "execution_count": null,
   "metadata": {
    "colab": {
     "base_uri": "https://localhost:8080/"
    },
    "id": "4HxJbtpyy6Xv",
    "outputId": "0a1155be-a350-4f1a-fc77-de5ab6e63583"
   },
   "outputs": [
    {
     "data": {
      "text/plain": [
       "11"
      ]
     },
     "execution_count": 9,
     "metadata": {
      "tags": []
     },
     "output_type": "execute_result"
    }
   ],
   "source": [
    "v1 = np.array([1, 2])\n",
    "v2 = np.array([3, 4])\n",
    "np.dot(v1, v2)"
   ]
  },
  {
   "cell_type": "code",
   "execution_count": null,
   "metadata": {
    "colab": {
     "base_uri": "https://localhost:8080/"
    },
    "id": "rsjUyXTNubRe",
    "outputId": "53eb24b9-5252-4390-a73b-4e36753e9f64"
   },
   "outputs": [
    {
     "name": "stdout",
     "output_type": "stream",
     "text": [
      "tensor([[1., 2.],\n",
      "        [3., 4.]])\n",
      "tensor([[2., 2.],\n",
      "        [2., 2.]])\n"
     ]
    }
   ],
   "source": [
    "t1 = torch.Tensor([[1, 2], [3, 4]])\n",
    "t2 = torch.ones(2, 2) * 2\n",
    "print(t1)\n",
    "print(t2)"
   ]
  },
  {
   "cell_type": "markdown",
   "metadata": {
    "id": "nyKejETv1F0Q"
   },
   "source": [
    "теперь умножим эти две матрицы операцией **@** (аналог - torch.**matmul**())"
   ]
  },
  {
   "cell_type": "code",
   "execution_count": null,
   "metadata": {
    "colab": {
     "base_uri": "https://localhost:8080/"
    },
    "id": "f0Ww9Td5utiW",
    "outputId": "d73f3faa-1108-4438-8761-7f0c2252d049"
   },
   "outputs": [
    {
     "data": {
      "text/plain": [
       "tensor([[ 6.,  6.],\n",
       "        [14., 14.]])"
      ]
     },
     "execution_count": 11,
     "metadata": {
      "tags": []
     },
     "output_type": "execute_result"
    }
   ],
   "source": [
    "t1 @ t2"
   ]
  },
  {
   "cell_type": "markdown",
   "metadata": {
    "id": "_uAFKDy01rNe"
   },
   "source": [
    "**Задание**: вычислить выражение\n",
    "\n",
    "**Дано**: 2 матричных тензора **t1** и **t2**"
   ]
  },
  {
   "cell_type": "code",
   "execution_count": null,
   "metadata": {
    "colab": {
     "base_uri": "https://localhost:8080/"
    },
    "id": "B2u-ftYJraZO",
    "outputId": "a661d837-694f-4e74-c431-4fde11266288"
   },
   "outputs": [
    {
     "name": "stdout",
     "output_type": "stream",
     "text": [
      "tensor([[1., 1., 1., 1.],\n",
      "        [2., 2., 2., 2.],\n",
      "        [3., 3., 3., 3.],\n",
      "        [4., 4., 4., 4.]])\n",
      "tensor([[1., 2., 3., 4.],\n",
      "        [1., 2., 3., 4.],\n",
      "        [1., 2., 3., 4.],\n",
      "        [1., 2., 3., 4.]])\n"
     ]
    }
   ],
   "source": [
    "t1 = torch.stack([torch.Tensor([1, 1, 1, 1]) * n for n in range(1, 5)])\n",
    "t2 = t1.transpose(-1, -2)\n",
    "print(t1)\n",
    "print(t2)"
   ]
  },
  {
   "cell_type": "markdown",
   "metadata": {
    "id": "TLD4zARs6vS_"
   },
   "source": [
    "**1**) Вычислить выражение **t3** = t1 ** 2 - t2 * 2 + t1 * 4\n",
    "\n",
    "2) Сделать конкатенацию тензоров **t2** и **t3**, записать в тензор **t4** (должна получиться размерность 4 строки и 8 столбцов) \n",
    "\n",
    "Конкатенация - операция, в которой результирующая матрица составлена из рядов первой и второй матрицы, если конкатенация идет вдоль столбцов, или из столбцов первой и второй матрицы, если конкатенация идет вдоль строк. \n",
    "\n",
    "Делается оператором **torch.cat**(tensors, dim), где\n",
    "\n",
    "**tensors** - список исходных тензоров\n",
    "\n",
    "**dim** - измерение, вдоль которого делается конкатенация, 0 - вдоль столбцов, 1 - вдоль строк\n",
    "\n",
    "\n",
    "\n",
    "3) Посчитать скалярное произведение **первой** и **последней** строки матрицы тензора **t4**"
   ]
  },
  {
   "cell_type": "code",
   "execution_count": null,
   "metadata": {
    "id": "g05gAqVEtO-F"
   },
   "outputs": [],
   "source": []
  },
  {
   "cell_type": "markdown",
   "metadata": {
    "id": "USoiuVcy8Maq"
   },
   "source": [
    "Делаем полноценный скрипт для обучения нейросети, это будет нейросеть для задачи линейной регрессии"
   ]
  },
  {
   "cell_type": "markdown",
   "metadata": {
    "id": "bcCC4aYK8jUF"
   },
   "source": [
    "Сгенерируем наши исходные данные"
   ]
  },
  {
   "cell_type": "code",
   "execution_count": null,
   "metadata": {
    "id": "tEWF08_j9DQE"
   },
   "outputs": [],
   "source": [
    "import torch\n",
    "import numpy as np\n",
    "import matplotlib.pyplot as plt"
   ]
  },
  {
   "cell_type": "markdown",
   "metadata": {
    "id": "qLjKHQez9Py8"
   },
   "source": [
    "Для начала определимся с тем, где будут жить наши тензоры: на GPU или CPU"
   ]
  },
  {
   "cell_type": "code",
   "execution_count": null,
   "metadata": {
    "colab": {
     "base_uri": "https://localhost:8080/",
     "height": 35
    },
    "id": "wiIolS6A7e_Y",
    "outputId": "2b92f566-f173-4efe-a96a-3a702d73cf8d"
   },
   "outputs": [
    {
     "data": {
      "application/vnd.google.colaboratory.intrinsic+json": {
       "type": "string"
      },
      "text/plain": [
       "'cuda'"
      ]
     },
     "execution_count": 2,
     "metadata": {
      "tags": []
     },
     "output_type": "execute_result"
    }
   ],
   "source": [
    "device = 'cuda' if torch.cuda.is_available() else 'cpu'\n",
    "device"
   ]
  },
  {
   "cell_type": "markdown",
   "metadata": {
    "id": "BC5bjVPe-mAO"
   },
   "source": [
    "Сгенерируем исходные данные для линейной регрессии"
   ]
  },
  {
   "cell_type": "code",
   "execution_count": null,
   "metadata": {
    "colab": {
     "base_uri": "https://localhost:8080/",
     "height": 282
    },
    "id": "pmHV2gSv-ujc",
    "outputId": "2b0126f3-498a-4efb-8893-f1b398040c0c"
   },
   "outputs": [
    {
     "data": {
      "text/plain": [
       "[<matplotlib.lines.Line2D at 0x7faf4a62f590>]"
      ]
     },
     "execution_count": 15,
     "metadata": {
      "tags": []
     },
     "output_type": "execute_result"
    },
    {
     "data": {
      "image/png": "[encoded data removed]",
      "text/plain": [
       "<Figure size 432x288 with 1 Axes>"
      ]
     },
     "metadata": {
      "needs_background": "light",
      "tags": []
     },
     "output_type": "display_data"
    }
   ],
   "source": [
    "np.random.seed(42)\n",
    "data_size = 100\n",
    "\n",
    "x = np.random.rand(data_size, 1)\n",
    "y = 1 + 2 * x + .1 * np.random.randn(data_size, 1)\n",
    "\n",
    "# Перемешаем индексы\n",
    "idx = np.arange(data_size)\n",
    "np.random.shuffle(idx)\n",
    "\n",
    "# Возьмем первые 80% для тренировки\n",
    "margin = int(data_size * 0.8)\n",
    "train_idx = idx[:margin]\n",
    "# оставшиеся 20% для валидации\n",
    "val_idx = idx[margin:]\n",
    "\n",
    "# Соберем датасеты\n",
    "x_train, y_train = x[train_idx], y[train_idx]\n",
    "x_val, y_val = x[val_idx], y[val_idx]\n",
    "\n",
    "plt.plot(x_train, y_train, 'o')\n",
    "plt.plot(x_val, y_val, 'o')"
   ]
  },
  {
   "cell_type": "markdown",
   "metadata": {
    "id": "6YrCxCHdCia-"
   },
   "source": [
    "Определим гиперпараметры: количество эпох и шаг обучения. Зафиксируем генератор случайных чисел в PyTorch"
   ]
  },
  {
   "cell_type": "code",
   "execution_count": null,
   "metadata": {
    "colab": {
     "base_uri": "https://localhost:8080/"
    },
    "id": "MrXV8kvS9bzt",
    "outputId": "888a8348-be42-4aa4-bb94-a51bb168ad51"
   },
   "outputs": [
    {
     "data": {
      "text/plain": [
       "<torch._C.Generator at 0x7faf53feb3b0>"
      ]
     },
     "execution_count": 16,
     "metadata": {
      "tags": []
     },
     "output_type": "execute_result"
    }
   ],
   "source": [
    "lr = 1e-1\n",
    "n_epochs = 1000\n",
    "torch.manual_seed(42)"
   ]
  },
  {
   "cell_type": "markdown",
   "metadata": {
    "id": "kyXsOPZID_bm"
   },
   "source": [
    "Создадим тензоры для исходных данных"
   ]
  },
  {
   "cell_type": "code",
   "execution_count": null,
   "metadata": {
    "id": "lZ7TBQw9D_11"
   },
   "outputs": [],
   "source": [
    "x_train_tensor = torch.from_numpy(x_train).float().to(device)\n",
    "y_train_tensor = torch.from_numpy(y_train).float().to(device)"
   ]
  },
  {
   "cell_type": "markdown",
   "metadata": {
    "id": "DPanF4YUC8gU"
   },
   "source": [
    "Создадим тензоры для параметров регрессии **а** и **b**. Инициализируем их случайными значениями\n",
    "\n",
    "Обратите внимание на параметр **requires_grad**=**True**, таким образом мы сообщаем PyTorch, что он должен менять эти значения"
   ]
  },
  {
   "cell_type": "code",
   "execution_count": null,
   "metadata": {
    "colab": {
     "base_uri": "https://localhost:8080/"
    },
    "id": "cfDyspAODfhW",
    "outputId": "a0ee2ce0-f35b-49bb-aca1-fb44017c8631"
   },
   "outputs": [
    {
     "data": {
      "text/plain": [
       "tensor([-0.5187], device='cuda:0', requires_grad=True)"
      ]
     },
     "execution_count": 20,
     "metadata": {
      "tags": []
     },
     "output_type": "execute_result"
    }
   ],
   "source": [
    "a = torch.randn(1, requires_grad=True, dtype=torch.float, device=device)\n",
    "b = torch.randn(1, requires_grad=True, dtype=torch.float, device=device)\n",
    "a"
   ]
  },
  {
   "cell_type": "markdown",
   "metadata": {
    "id": "vkPJMtgdEnOW"
   },
   "source": [
    "Собственно, цикл обучения"
   ]
  },
  {
   "cell_type": "code",
   "execution_count": null,
   "metadata": {
    "colab": {
     "base_uri": "https://localhost:8080/"
    },
    "id": "-kx7uB75FDKl",
    "outputId": "2646c436-39df-479f-a482-878bcc0a85e3"
   },
   "outputs": [
    {
     "name": "stdout",
     "output_type": "stream",
     "text": [
      "a = 1.023543119430542, b = 1.9689600467681885\n"
     ]
    }
   ],
   "source": [
    "import torch.optim as optim\n",
    "\n",
    "# Оптимизатор будет обновлять параметры\n",
    "optimizer = optim.SGD([a, b], lr=lr)\n",
    "\n",
    "for epoch in range(n_epochs):\n",
    "    # Считаем целевую переменную yhat\n",
    "    yhat = a + b * x_train_tensor\n",
    "    # Считаем ошибку\n",
    "    error = y_train_tensor - yhat\n",
    "    # Считаем лосс\n",
    "    loss = (error ** 2).mean()\n",
    "\n",
    "    # Здесь считается градиент для каждого тензора (а и b) и записывается в параметры a и b\n",
    "    loss.backward()     \n",
    "    \n",
    "    # Обновляем параметры. Обязательно делать это в режиме no_grad()\n",
    "    # with torch.no_grad():\n",
    "    #     a -= lr * a.grad\n",
    "    #     b -= lr * b.grad\n",
    "    optimizer.step()\n",
    "    \n",
    "    # Обнуляем градиенты\n",
    "    optimizer.zero_grad()\n",
    "    \n",
    "print(f'a = {a.item()}, b = {b.item()}')"
   ]
  },
  {
   "cell_type": "code",
   "execution_count": null,
   "metadata": {
    "id": "TcOeLMIBFKBc"
   },
   "outputs": [],
   "source": []
  },
  {
   "cell_type": "markdown",
   "metadata": {
    "colab_type": "text",
    "id": "Wp8WHGm64-K_"
   },
   "source": [
    "# TF в Colab"
   ]
  },
  {
   "cell_type": "code",
   "execution_count": 0,
   "metadata": {
    "colab": {},
    "colab_type": "code",
    "id": "gRO7QfGp4t-R"
   },
   "outputs": [],
   "source": [
    "%config IPCompleter.greedy=True  # более лучший автокомплит"
   ]
  },
  {
   "cell_type": "code",
   "execution_count": 2,
   "metadata": {
    "colab": {
     "base_uri": "https://localhost:8080/",
     "height": 34
    },
    "colab_type": "code",
    "id": "rLn9z0wH4t-V",
    "outputId": "c02cf6e8-5556-4eb0-cce6-4fc674b92325"
   },
   "outputs": [
    {
     "name": "stdout",
     "output_type": "stream",
     "text": [
      "1.13.0-rc1\n"
     ]
    }
   ],
   "source": [
    "import tensorflow as tf\n",
    "import numpy as np\n",
    "print(tf.__version__)"
   ]
  },
  {
   "cell_type": "code",
   "execution_count": 3,
   "metadata": {
    "colab": {
     "base_uri": "https://localhost:8080/",
     "height": 88
    },
    "colab_type": "code",
    "id": "P4QBlx_l4t-Z",
    "outputId": "2bad5cd3-1e9f-4fc6-9e05-c4d294e6cab9"
   },
   "outputs": [
    {
     "name": "stdout",
     "output_type": "stream",
     "text": [
      "WARNING:tensorflow:From /usr/local/lib/python3.6/dist-packages/tensorflow/python/framework/op_def_library.py:263: colocate_with (from tensorflow.python.framework.ops) is deprecated and will be removed in a future version.\n",
      "Instructions for updating:\n",
      "Colocations handled automatically by placer.\n"
     ]
    }
   ],
   "source": [
    "tf.reset_default_graph()\n",
    "a = tf.placeholder(tf.float32, (2, 2))\n",
    "b = tf.Variable(tf.ones((2, 2)))\n",
    "c = a @ b"
   ]
  },
  {
   "cell_type": "code",
   "execution_count": 4,
   "metadata": {
    "colab": {
     "base_uri": "https://localhost:8080/",
     "height": 34
    },
    "colab_type": "code",
    "id": "hUr9Z1wC4t-b",
    "outputId": "347c70cc-a25e-4f1b-dd0e-2eb0ec226890"
   },
   "outputs": [
    {
     "name": "stdout",
     "output_type": "stream",
     "text": [
      "Tensor(\"matmul:0\", shape=(2, 2), dtype=float32)\n"
     ]
    }
   ],
   "source": [
    "print(c)"
   ]
  },
  {
   "cell_type": "code",
   "execution_count": 5,
   "metadata": {
    "colab": {
     "base_uri": "https://localhost:8080/",
     "height": 51
    },
    "colab_type": "code",
    "id": "P23DN_wp_Efz",
    "outputId": "2585c54c-2b33-4e94-bfe1-fd2c08c174ee"
   },
   "outputs": [
    {
     "name": "stdout",
     "output_type": "stream",
     "text": [
      "[<tf.Tensor 'Placeholder:0' shape=(2, 2) dtype=float32>, <tf.Tensor 'Variable/read:0' shape=(2, 2) dtype=float32>]\n",
      "[<tf.Tensor 'matmul:0' shape=(2, 2) dtype=float32>]\n"
     ]
    }
   ],
   "source": [
    "print(list(tf.get_default_graph().get_operations()[-1].inputs))\n",
    "print(list(tf.get_default_graph().get_operations()[-1].outputs))"
   ]
  },
  {
   "cell_type": "code",
   "execution_count": 0,
   "metadata": {
    "colab": {},
    "colab_type": "code",
    "id": "SCpoFKcE4t-f"
   },
   "outputs": [],
   "source": [
    "s = tf.InteractiveSession()"
   ]
  },
  {
   "cell_type": "code",
   "execution_count": 12,
   "metadata": {
    "colab": {
     "base_uri": "https://localhost:8080/",
     "height": 51
    },
    "colab_type": "code",
    "id": "WLnkEvOD4t-j",
    "outputId": "59642ad9-9651-4a31-e601-04c9633107a6"
   },
   "outputs": [
    {
     "data": {
      "text/plain": [
       "array([[2., 2.],\n",
       "       [2., 2.]], dtype=float32)"
      ]
     },
     "execution_count": 12,
     "metadata": {
      "tags": []
     },
     "output_type": "execute_result"
    }
   ],
   "source": [
    "s.run(tf.global_variables_initializer())\n",
    "s.run(c, feed_dict={a: np.ones((2, 2))})"
   ]
  },
  {
   "cell_type": "code",
   "execution_count": 0,
   "metadata": {
    "colab": {},
    "colab_type": "code",
    "id": "tuK_53xo4t-m"
   },
   "outputs": [],
   "source": [
    "s.close()"
   ]
  },
  {
   "cell_type": "markdown",
   "metadata": {
    "colab_type": "text",
    "id": "UQSGgDQL4t-q"
   },
   "source": [
    "# Оптимизация"
   ]
  },
  {
   "cell_type": "code",
   "execution_count": 0,
   "metadata": {
    "colab": {},
    "colab_type": "code",
    "id": "1VUtdayQ4t-q"
   },
   "outputs": [],
   "source": [
    "tf.reset_default_graph()\n",
    "x = tf.get_variable(\"x\", shape=(), dtype=tf.float32, trainable=True)\n",
    "f = x ** 2"
   ]
  },
  {
   "cell_type": "code",
   "execution_count": 0,
   "metadata": {
    "colab": {},
    "colab_type": "code",
    "id": "oO9CSWfr4t-t"
   },
   "outputs": [],
   "source": [
    "optimizer = tf.train.GradientDescentOptimizer(0.1)\n",
    "step = optimizer.minimize(f, var_list=[x])"
   ]
  },
  {
   "cell_type": "code",
   "execution_count": 17,
   "metadata": {
    "colab": {
     "base_uri": "https://localhost:8080/",
     "height": 34
    },
    "colab_type": "code",
    "id": "KZOrrhyA4t-w",
    "outputId": "a22ba0c1-1127-4755-d752-8cbce875e8db"
   },
   "outputs": [
    {
     "data": {
      "text/plain": [
       "[<tf.Variable 'x:0' shape=() dtype=float32_ref>]"
      ]
     },
     "execution_count": 17,
     "metadata": {
      "tags": []
     },
     "output_type": "execute_result"
    }
   ],
   "source": [
    "tf.trainable_variables()"
   ]
  },
  {
   "cell_type": "code",
   "execution_count": 18,
   "metadata": {
    "colab": {
     "base_uri": "https://localhost:8080/",
     "height": 187
    },
    "colab_type": "code",
    "id": "gtNrbzDR4t-4",
    "outputId": "09bb9315-868b-43f0-b168-e4be5325219b"
   },
   "outputs": [
    {
     "name": "stdout",
     "output_type": "stream",
     "text": [
      "-0.5737303 0.5143226\n",
      "-0.45898423 0.32916644\n",
      "-0.36718738 0.21066652\n",
      "-0.2937499 0.13482657\n",
      "-0.23499992 0.086289\n",
      "-0.18799993 0.055224966\n",
      "-0.15039995 0.035343975\n",
      "-0.12031996 0.022620145\n",
      "-0.09625597 0.0144768935\n",
      "-0.077004775 0.009265212\n"
     ]
    }
   ],
   "source": [
    "with tf.Session() as s:  # сессия сама закроется\n",
    "    s.run(tf.global_variables_initializer())\n",
    "    for i in range(10):\n",
    "        _, curr_x, curr_f = s.run([step, x, f])\n",
    "        print(curr_x, curr_f)"
   ]
  },
  {
   "cell_type": "markdown",
   "metadata": {
    "colab_type": "text",
    "id": "Fw_F68_34t_T"
   },
   "source": [
    "# TensorBoard логирование"
   ]
  },
  {
   "cell_type": "code",
   "execution_count": 0,
   "metadata": {
    "colab": {},
    "colab_type": "code",
    "id": "SDAJKlYL4t_U"
   },
   "outputs": [],
   "source": [
    "tf.reset_default_graph()\n",
    "x = tf.get_variable(\"x\", shape=(), dtype=tf.float32)\n",
    "f = x ** 2"
   ]
  },
  {
   "cell_type": "code",
   "execution_count": 0,
   "metadata": {
    "colab": {},
    "colab_type": "code",
    "id": "OJ1n-qks4t_Z"
   },
   "outputs": [],
   "source": [
    "optimizer = tf.train.GradientDescentOptimizer(0.1)\n",
    "step = optimizer.minimize(f)"
   ]
  },
  {
   "cell_type": "code",
   "execution_count": 0,
   "metadata": {
    "colab": {},
    "colab_type": "code",
    "id": "vemZEd5R4t_f"
   },
   "outputs": [],
   "source": [
    "tf.summary.scalar('curr_x', x)\n",
    "tf.summary.scalar('curr_f', f)\n",
    "summaries = tf.summary.merge_all()"
   ]
  },
  {
   "cell_type": "code",
   "execution_count": 0,
   "metadata": {
    "colab": {},
    "colab_type": "code",
    "id": "UYPtORji4t_i"
   },
   "outputs": [],
   "source": [
    "with tf.Session() as s:\n",
    "  summary_writer = tf.summary.FileWriter(\"logs/1\", s.graph)\n",
    "  s.run(tf.global_variables_initializer())\n",
    "  for i in range(10):\n",
    "      _, curr_summaries = s.run([step, summaries])\n",
    "      summary_writer.add_summary(curr_summaries, i)\n",
    "      summary_writer.flush()"
   ]
  },
  {
   "cell_type": "markdown",
   "metadata": {
    "colab_type": "text",
    "id": "MxrA13Mm4t_m"
   },
   "source": [
    "Локально можно запустить  `tensorboard --logdir=./logs` в консоли.\n",
    "\n",
    "А вот так можно запустить прямо в Google Colab:"
   ]
  },
  {
   "cell_type": "code",
   "execution_count": 0,
   "metadata": {
    "colab": {},
    "colab_type": "code",
    "id": "SECWjGyg4t_m"
   },
   "outputs": [],
   "source": [
    "! wget https://raw.githubusercontent.com/ZEMUSHKA/skillfactory-dl/master/setup_google_colab.py -O setup_google_colab.py -q\n",
    "import setup_google_colab\n",
    "\n",
    "# запускаем сервер tensorboard в фоне\n",
    "import os\n",
    "os.system(\"tensorboard --logdir=./logs --host 0.0.0.0 --port 6006 &\")\n",
    "\n",
    "# открываем порт из Google Colab\n",
    "setup_google_colab.expose_port_on_colab(6006)"
   ]
  },
  {
   "cell_type": "markdown",
   "metadata": {
    "colab_type": "text",
    "id": "eNXcol8w4t_q"
   },
   "source": [
    "# Обучение линейной модели"
   ]
  },
  {
   "cell_type": "code",
   "execution_count": 93,
   "metadata": {
    "colab": {
     "base_uri": "https://localhost:8080/",
     "height": 51
    },
    "colab_type": "code",
    "id": "_Z1KdRW14t_r",
    "outputId": "eb3c048e-f81d-4f70-8b24-52eccb7eb28c"
   },
   "outputs": [
    {
     "name": "stdout",
     "output_type": "stream",
     "text": [
      "(1000, 3) (1000, 1)\n",
      "[[0.58814689 0.78643231 0.79772526]]\n"
     ]
    }
   ],
   "source": [
    "# модельные данные\n",
    "N = 1000\n",
    "D = 3\n",
    "x = np.random.random((N, D))\n",
    "w = np.random.random((D, 1))\n",
    "y = x @ w + np.random.randn(N, 1) * 0.20\n",
    "\n",
    "print(x.shape, y.shape)\n",
    "print(w.T)"
   ]
  },
  {
   "cell_type": "code",
   "execution_count": 94,
   "metadata": {
    "colab": {
     "base_uri": "https://localhost:8080/",
     "height": 34
    },
    "colab_type": "code",
    "id": "HxC5KVBX4t_t",
    "outputId": "32988129-469f-4cd6-f659-4a5ace7d808e"
   },
   "outputs": [
    {
     "name": "stdout",
     "output_type": "stream",
     "text": [
      "(?, 1) (?, 1) ()\n"
     ]
    }
   ],
   "source": [
    "tf.reset_default_graph()\n",
    "\n",
    "features = tf.placeholder(tf.float32, shape=(None, D), name=\"features\")\n",
    "target = tf.placeholder(tf.float32, shape=(None, 1), name=\"target\")\n",
    "\n",
    "weights = tf.get_variable(\"weights\", shape=(D, 1), dtype=tf.float32)\n",
    "predictions = features @ weights\n",
    "\n",
    "\n",
    "loss = tf.reduce_mean((target - predictions) ** 2, name=\"loss\")\n",
    "\n",
    "print(target.shape, predictions.shape, loss.shape)"
   ]
  },
  {
   "cell_type": "code",
   "execution_count": 0,
   "metadata": {
    "colab": {},
    "colab_type": "code",
    "id": "Kq76NAMF4t_7"
   },
   "outputs": [],
   "source": [
    "optimizer = tf.train.GradientDescentOptimizer(0.1)\n",
    "step = optimizer.minimize(loss)"
   ]
  },
  {
   "cell_type": "code",
   "execution_count": 0,
   "metadata": {
    "colab": {},
    "colab_type": "code",
    "id": "73GCLl0gHTLZ"
   },
   "outputs": [],
   "source": [
    "# производные это часть графа\n",
    "tf.get_default_graph().get_operations()"
   ]
  },
  {
   "cell_type": "code",
   "execution_count": 36,
   "metadata": {
    "colab": {
     "base_uri": "https://localhost:8080/",
     "height": 119
    },
    "colab_type": "code",
    "id": "14EQwS8g4t_8",
    "outputId": "20bd6dd0-aa94-4b7d-95fe-b4ca7ba44492",
    "scrolled": true
   },
   "outputs": [
    {
     "name": "stdout",
     "output_type": "stream",
     "text": [
      "1.9895532\n",
      "0.06145981\n",
      "0.046104774\n",
      "0.0433546\n",
      "0.042860366\n",
      "0.04277123\n"
     ]
    }
   ],
   "source": [
    "with tf.Session() as s:\n",
    "    s.run(tf.global_variables_initializer())\n",
    "    for i in range(300):\n",
    "        _, curr_loss, curr_weights = s.run([step, loss, weights], \n",
    "                                           feed_dict={features: x, target: y})\n",
    "        if i % 50 == 0:\n",
    "            print(curr_loss)"
   ]
  },
  {
   "cell_type": "code",
   "execution_count": 37,
   "metadata": {
    "colab": {
     "base_uri": "https://localhost:8080/",
     "height": 34
    },
    "colab_type": "code",
    "id": "Le4UwJw14uAA",
    "outputId": "712fac2c-3bde-49ce-c289-a9e223f6bd8c"
   },
   "outputs": [
    {
     "data": {
      "text/plain": [
       "array([[0.79846495, 0.57642007, 0.56647074]], dtype=float32)"
      ]
     },
     "execution_count": 37,
     "metadata": {
      "tags": []
     },
     "output_type": "execute_result"
    }
   ],
   "source": [
    "# результат обучения\n",
    "curr_weights.T"
   ]
  },
  {
   "cell_type": "code",
   "execution_count": 38,
   "metadata": {
    "colab": {
     "base_uri": "https://localhost:8080/",
     "height": 34
    },
    "colab_type": "code",
    "id": "8cqImP2P4uAF",
    "outputId": "bd9d7ad3-8b42-4edd-85b2-a4d5041cdf66"
   },
   "outputs": [
    {
     "data": {
      "text/plain": [
       "array([[0.7692187 , 0.59123648, 0.56121469]])"
      ]
     },
     "execution_count": 38,
     "metadata": {
      "tags": []
     },
     "output_type": "execute_result"
    }
   ],
   "source": [
    "# правильные веса\n",
    "w.T"
   ]
  },
  {
   "cell_type": "markdown",
   "metadata": {
    "colab_type": "text",
    "id": "yvG2r5miBCLF"
   },
   "source": [
    "# Обучение в Keras"
   ]
  },
  {
   "cell_type": "code",
   "execution_count": 41,
   "metadata": {
    "colab": {
     "base_uri": "https://localhost:8080/",
     "height": 34
    },
    "colab_type": "code",
    "id": "p0c0fnlpBGCI",
    "outputId": "b140349b-867d-4aca-fc3d-ed1a19b1a572"
   },
   "outputs": [
    {
     "name": "stdout",
     "output_type": "stream",
     "text": [
      "2.2.4\n"
     ]
    }
   ],
   "source": [
    "import keras\n",
    "import keras.models as M\n",
    "import keras.layers as L\n",
    "import keras.backend as K\n",
    "print(keras.__version__)"
   ]
  },
  {
   "cell_type": "code",
   "execution_count": 85,
   "metadata": {
    "colab": {
     "base_uri": "https://localhost:8080/",
     "height": 170
    },
    "colab_type": "code",
    "id": "egw2cWPnBab3",
    "outputId": "a558dc1a-20de-4835-aba0-7b67e5824dd0"
   },
   "outputs": [
    {
     "name": "stdout",
     "output_type": "stream",
     "text": [
      "_________________________________________________________________\n",
      "Layer (type)                 Output Shape              Param #   \n",
      "=================================================================\n",
      "dense_1 (Dense)              (None, 1)                 3         \n",
      "=================================================================\n",
      "Total params: 3\n",
      "Trainable params: 3\n",
      "Non-trainable params: 0\n",
      "_________________________________________________________________\n"
     ]
    }
   ],
   "source": [
    "K.clear_session()  # очищает граф и перезапускает сессию\n",
    "\n",
    "model = M.Sequential()\n",
    "model.add(L.Dense(1, use_bias=False, input_shape=(D,)))\n",
    "model.summary()"
   ]
  },
  {
   "cell_type": "code",
   "execution_count": 0,
   "metadata": {
    "colab": {},
    "colab_type": "code",
    "id": "65R7pZxJCCj9"
   },
   "outputs": [],
   "source": [
    "model.compile(optimizer='sgd', loss='mse', metrics=['mse'])"
   ]
  },
  {
   "cell_type": "code",
   "execution_count": 87,
   "metadata": {
    "colab": {
     "base_uri": "https://localhost:8080/",
     "height": 374
    },
    "colab_type": "code",
    "id": "6dykIkErCbQN",
    "outputId": "f5f6396e-a100-41b2-d815-a8ca8c547287"
   },
   "outputs": [
    {
     "name": "stdout",
     "output_type": "stream",
     "text": [
      "Epoch 1/10\n",
      "1000/1000 [==============================] - 0s 121us/step - loss: 1.4677 - mean_squared_error: 1.4677\n",
      "Epoch 2/10\n",
      "1000/1000 [==============================] - 0s 90us/step - loss: 0.0819 - mean_squared_error: 0.0819\n",
      "Epoch 3/10\n",
      "1000/1000 [==============================] - 0s 92us/step - loss: 0.0521 - mean_squared_error: 0.0521\n",
      "Epoch 4/10\n",
      "1000/1000 [==============================] - 0s 88us/step - loss: 0.0488 - mean_squared_error: 0.0488\n",
      "Epoch 5/10\n",
      "1000/1000 [==============================] - 0s 113us/step - loss: 0.0467 - mean_squared_error: 0.0467\n",
      "Epoch 6/10\n",
      "1000/1000 [==============================] - 0s 87us/step - loss: 0.0454 - mean_squared_error: 0.0454\n",
      "Epoch 7/10\n",
      "1000/1000 [==============================] - 0s 91us/step - loss: 0.0445 - mean_squared_error: 0.0445\n",
      "Epoch 8/10\n",
      "1000/1000 [==============================] - 0s 87us/step - loss: 0.0439 - mean_squared_error: 0.0439\n",
      "Epoch 9/10\n",
      "1000/1000 [==============================] - 0s 89us/step - loss: 0.0435 - mean_squared_error: 0.0435\n",
      "Epoch 10/10\n",
      "1000/1000 [==============================] - 0s 91us/step - loss: 0.0433 - mean_squared_error: 0.0433\n"
     ]
    },
    {
     "data": {
      "text/plain": [
       "<keras.callbacks.History at 0x7f1dae4bf080>"
      ]
     },
     "execution_count": 87,
     "metadata": {
      "tags": []
     },
     "output_type": "execute_result"
    }
   ],
   "source": [
    "model.fit(x, y, batch_size=8, epochs=10, callbacks=[keras.callbacks.TensorBoard(\"./logs/keras\")])"
   ]
  },
  {
   "cell_type": "code",
   "execution_count": 88,
   "metadata": {
    "colab": {
     "base_uri": "https://localhost:8080/",
     "height": 68
    },
    "colab_type": "code",
    "id": "aUS7jvpWCpmY",
    "outputId": "66a7a84f-6e74-40c8-9391-d4fa45a2a58a"
   },
   "outputs": [
    {
     "data": {
      "text/plain": [
       "[array([[0.757604 ],\n",
       "        [0.6322889],\n",
       "        [0.5464471]], dtype=float32)]"
      ]
     },
     "execution_count": 88,
     "metadata": {
      "tags": []
     },
     "output_type": "execute_result"
    }
   ],
   "source": [
    "s = K.get_session()\n",
    "s.run(model.weights)"
   ]
  }
 ],
 "metadata": {
  "accelerator": "GPU",
  "colab": {
   "name": "frameworks14.ipynb",
   "provenance": []
  },
  "kernelspec": {
   "display_name": "Python 3",
   "name": "python3"
  }
 },
 "nbformat": 4,
 "nbformat_minor": 0
}
